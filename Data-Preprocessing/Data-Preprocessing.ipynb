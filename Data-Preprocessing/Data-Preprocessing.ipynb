{
 "cells": [
  {
   "attachments": {},
   "cell_type": "markdown",
   "metadata": {},
   "source": [
    "# Data Preprocessing\n",
    "In this notebook, we will be doing the following:\n",
    "- Importing the data\n",
    "- Cleaning the data\n",
    "- Creating synthetic features\n",
    "- Exporting the data"
   ]
  },
  {
   "cell_type": "code",
   "execution_count": 1,
   "metadata": {},
   "outputs": [
    {
     "name": "stderr",
     "output_type": "stream",
     "text": [
      "[nltk_data] Downloading package stopwords to\n",
      "[nltk_data]     C:\\Users\\User\\AppData\\Roaming\\nltk_data...\n",
      "[nltk_data]   Package stopwords is already up-to-date!\n"
     ]
    }
   ],
   "source": [
    "# Importing python modules\n",
    "import numpy as np\n",
    "import pandas as pd\n",
    "import re\n",
    "import nltk\n",
    "nltk.download('stopwords')\n",
    "from nltk.corpus import stopwords\n",
    "from nltk.stem.porter import PorterStemmer\n",
    "from sklearn.feature_extraction.text import CountVectorizer"
   ]
  },
  {
   "cell_type": "code",
   "execution_count": 4,
   "metadata": {},
   "outputs": [],
   "source": [
    "# Importing the fake-news dataset\n",
    "df_train = pd.read_csv('Datasets/fake-news/train.csv')\n",
    "df_test = pd.read_csv('Datasets/fake-news/test.csv')"
   ]
  },
  {
   "cell_type": "code",
   "execution_count": 5,
   "metadata": {},
   "outputs": [],
   "source": [
    "# Dropping the 'title' column and NaN values from the dataset\n",
    "df_train = df_train.drop(['title'], axis=1)\n",
    "df_train = df_train.dropna()\n",
    "df_test = df_test.drop(['title'], axis=1)\n",
    "df_test = df_test.dropna()"
   ]
  },
  {
   "cell_type": "code",
   "execution_count": null,
   "metadata": {},
   "outputs": [],
   "source": [
    "# Cleaning the text\n",
    "# In this step, we will remove all the punctuations, numbers and stopwords from the text.\n",
    "# We will also convert all the text to lowercase and apply stemming to the text.\n",
    "\n",
    "corpus = []\n",
    "for i in range(0, len(df_train)):\n",
    "    review = re.sub('[^a-zA-Z]', ' ', df_train['text'][i])\n",
    "    review = review.lower()\n",
    "    review = review.split()\n",
    "    ps = PorterStemmer()\n",
    "    review = [ps.stem(word) for word in review if word not in stopwords.words('english')]\n",
    "    review = ' '.join(review)\n",
    "    corpus.append(review)"
   ]
  },
  {
   "cell_type": "code",
   "execution_count": null,
   "metadata": {},
   "outputs": [],
   "source": [
    "# export the corpus to a csv file\n",
    "corpus = pd.DataFrame(corpus, columns=['text'])\n",
    "corpus.to_csv('Data-Preprocessing/corpus.csv', index=False)"
   ]
  },
  {
   "cell_type": "code",
   "execution_count": null,
   "metadata": {},
   "outputs": [],
   "source": [
    "# Creating the Bag of Words model for the corpus\n",
    "# In this step, we will create a Bag of Words model for the corpus.\n",
    "# We will also limit the number of features to 1500.\n",
    "\n",
    "cv = CountVectorizer(max_features=1500)\n",
    "X = cv.fit_transform(corpus['text']).toarray()\n",
    "y = df_train.iloc[:, 4].values"
   ]
  }
 ],
 "metadata": {
  "kernelspec": {
   "display_name": "DataScience",
   "language": "python",
   "name": "python3"
  },
  "language_info": {
   "codemirror_mode": {
    "name": "ipython",
    "version": 3
   },
   "file_extension": ".py",
   "mimetype": "text/x-python",
   "name": "python",
   "nbconvert_exporter": "python",
   "pygments_lexer": "ipython3",
   "version": "3.10.11"
  },
  "orig_nbformat": 4
 },
 "nbformat": 4,
 "nbformat_minor": 2
}
