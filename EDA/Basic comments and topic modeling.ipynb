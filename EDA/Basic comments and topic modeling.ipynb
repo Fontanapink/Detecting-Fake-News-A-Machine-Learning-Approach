{
 "cells": [
  {
   "cell_type": "markdown",
   "id": "2c109bf0",
   "metadata": {},
   "source": [
    "# Topic modeling via BERTopic\n",
    "\n",
    "In this notebook, we analyze potential differences in topics carried in fake versus real news articles. "
   ]
  },
  {
   "cell_type": "markdown",
   "id": "9e205e20",
   "metadata": {
    "jp-MarkdownHeadingCollapsed": true,
    "tags": []
   },
   "source": [
    "# Read in datasets"
   ]
  },
  {
   "cell_type": "code",
   "execution_count": 3,
   "id": "8cf7a6bf",
   "metadata": {},
   "outputs": [
    {
     "name": "stdout",
     "output_type": "stream",
     "text": [
      "True news:  10413 ; True news without NaN:  9816 \n",
      "Fake news:  10387 ; Fake news without NaN:  10387\n"
     ]
    }
   ],
   "source": [
    "from bertopic import BERTopic\n",
    "import pandas as pd\n",
    "import numpy as np\n",
    "\n",
    "# Read in from the Kaggle training dataset.\n",
    "df = pd.read_csv('../Datasets/fake-news/train.csv', usecols = ['id','title','text','label'])\n",
    "\n",
    "# Split the training set (df) by real and fake news\n",
    "df_t = df[df['label'] == 1]\n",
    "df_f = df[df['label'] == 0]\n",
    "\n",
    "# Drop rows containing NaN in either title or text columns\n",
    "df_true = df_t.dropna(subset=['title','text'])\n",
    "df_fake = df_f.dropna(subset=['title','text'])\n",
    "\n",
    "# Further split into titles and texts\n",
    "title_true = df_true.loc[:,'title'].tolist()\n",
    "text_true = df_true.loc[:,'text'].tolist()\n",
    "title_fake = df_fake.loc[:,'title'].tolist()\n",
    "text_fake = df_fake.loc[:,'text'].tolist()\n",
    "\n",
    "# Compare true/fake news with and without NaN\n",
    "print(\"True news: \", df_t.shape[0], \"; True news without NaN: \", df_true.shape[0], \\\n",
    "      \"\\nFake news: \", df_f.shape[0], \"; Fake news without NaN: \", df_fake.shape[0])"
   ]
  },
  {
   "cell_type": "markdown",
   "id": "3a83320a",
   "metadata": {},
   "source": [
    "# BERTopic modeling on titles"
   ]
  },
  {
   "cell_type": "markdown",
   "id": "bfe20a7d",
   "metadata": {},
   "source": [
    "We now cluster topics by titles only. The true titles have 3605 outliers, while the fake news titles have 3665 outliers, which is fairly numerous. Here, an \"outlier\" is with respect to the default BERTopic clustering algorithm. Because of how the clustering works, the clusters may be different with each run of this algorithm."
   ]
  },
  {
   "cell_type": "code",
   "execution_count": 4,
   "id": "07907339",
   "metadata": {},
   "outputs": [],
   "source": [
    "title_true_topic_model = BERTopic(embedding_model=\"all-MiniLM-L6-v2\")\n",
    "title_true_topics, title_true_probs = title_true_topic_model.fit_transform(title_true)"
   ]
  },
  {
   "cell_type": "code",
   "execution_count": 5,
   "id": "d52edb54",
   "metadata": {},
   "outputs": [],
   "source": [
    "title_fake_topic_model = BERTopic(embedding_model=\"all-MiniLM-L6-v2\")\n",
    "title_fake_topics, title_fake_probs = title_fake_topic_model.fit_transform(title_fake)"
   ]
  },
  {
   "cell_type": "code",
   "execution_count": 6,
   "id": "598d23ec",
   "metadata": {},
   "outputs": [
    {
     "data": {
      "text/html": [
       "<div>\n",
       "<style scoped>\n",
       "    .dataframe tbody tr th:only-of-type {\n",
       "        vertical-align: middle;\n",
       "    }\n",
       "\n",
       "    .dataframe tbody tr th {\n",
       "        vertical-align: top;\n",
       "    }\n",
       "\n",
       "    .dataframe thead th {\n",
       "        text-align: right;\n",
       "    }\n",
       "</style>\n",
       "<table border=\"1\" class=\"dataframe\">\n",
       "  <thead>\n",
       "    <tr style=\"text-align: right;\">\n",
       "      <th></th>\n",
       "      <th>Topic</th>\n",
       "      <th>Count</th>\n",
       "      <th>Name</th>\n",
       "    </tr>\n",
       "  </thead>\n",
       "  <tbody>\n",
       "    <tr>\n",
       "      <th>0</th>\n",
       "      <td>-1</td>\n",
       "      <td>3372</td>\n",
       "      <td>-1_hillary_the_trump_to</td>\n",
       "    </tr>\n",
       "    <tr>\n",
       "      <th>1</th>\n",
       "      <td>0</td>\n",
       "      <td>225</td>\n",
       "      <td>0_fraud_rigged_voting_voter</td>\n",
       "    </tr>\n",
       "    <tr>\n",
       "      <th>2</th>\n",
       "      <td>1</td>\n",
       "      <td>218</td>\n",
       "      <td>1_muslim_migrant_muslims_refugee</td>\n",
       "    </tr>\n",
       "    <tr>\n",
       "      <th>3</th>\n",
       "      <td>2</td>\n",
       "      <td>201</td>\n",
       "      <td>2_putin_russia_russian_ukraine</td>\n",
       "    </tr>\n",
       "    <tr>\n",
       "      <th>4</th>\n",
       "      <td>3</td>\n",
       "      <td>182</td>\n",
       "      <td>3_michelle_hillary_her_clinton</td>\n",
       "    </tr>\n",
       "    <tr>\n",
       "      <th>...</th>\n",
       "      <td>...</td>\n",
       "      <td>...</td>\n",
       "      <td>...</td>\n",
       "    </tr>\n",
       "    <tr>\n",
       "      <th>172</th>\n",
       "      <td>171</td>\n",
       "      <td>11</td>\n",
       "      <td>171_laugh_conway_scolds_enablers</td>\n",
       "    </tr>\n",
       "    <tr>\n",
       "      <th>173</th>\n",
       "      <td>172</td>\n",
       "      <td>11</td>\n",
       "      <td>172_iran_deal_deals_nuclear</td>\n",
       "    </tr>\n",
       "    <tr>\n",
       "      <th>174</th>\n",
       "      <td>173</td>\n",
       "      <td>11</td>\n",
       "      <td>173_cannabis_thc_hemp_traumatic</td>\n",
       "    </tr>\n",
       "    <tr>\n",
       "      <th>175</th>\n",
       "      <td>174</td>\n",
       "      <td>10</td>\n",
       "      <td>174_terrorists_strikes_ngos_russian</td>\n",
       "    </tr>\n",
       "    <tr>\n",
       "      <th>176</th>\n",
       "      <td>175</td>\n",
       "      <td>10</td>\n",
       "      <td>175_russophobia_rider_roots_freedom</td>\n",
       "    </tr>\n",
       "  </tbody>\n",
       "</table>\n",
       "<p>177 rows × 3 columns</p>\n",
       "</div>"
      ],
      "text/plain": [
       "     Topic  Count                                 Name\n",
       "0       -1   3372              -1_hillary_the_trump_to\n",
       "1        0    225          0_fraud_rigged_voting_voter\n",
       "2        1    218     1_muslim_migrant_muslims_refugee\n",
       "3        2    201       2_putin_russia_russian_ukraine\n",
       "4        3    182       3_michelle_hillary_her_clinton\n",
       "..     ...    ...                                  ...\n",
       "172    171     11     171_laugh_conway_scolds_enablers\n",
       "173    172     11          172_iran_deal_deals_nuclear\n",
       "174    173     11      173_cannabis_thc_hemp_traumatic\n",
       "175    174     10  174_terrorists_strikes_ngos_russian\n",
       "176    175     10  175_russophobia_rider_roots_freedom\n",
       "\n",
       "[177 rows x 3 columns]"
      ]
     },
     "execution_count": 6,
     "metadata": {},
     "output_type": "execute_result"
    }
   ],
   "source": [
    "title_true_topic_model.get_topic_info()"
   ]
  },
  {
   "cell_type": "code",
   "execution_count": 7,
   "id": "1e73bdf0",
   "metadata": {},
   "outputs": [
    {
     "data": {
      "text/html": [
       "<div>\n",
       "<style scoped>\n",
       "    .dataframe tbody tr th:only-of-type {\n",
       "        vertical-align: middle;\n",
       "    }\n",
       "\n",
       "    .dataframe tbody tr th {\n",
       "        vertical-align: top;\n",
       "    }\n",
       "\n",
       "    .dataframe thead th {\n",
       "        text-align: right;\n",
       "    }\n",
       "</style>\n",
       "<table border=\"1\" class=\"dataframe\">\n",
       "  <thead>\n",
       "    <tr style=\"text-align: right;\">\n",
       "      <th></th>\n",
       "      <th>Topic</th>\n",
       "      <th>Count</th>\n",
       "      <th>Name</th>\n",
       "    </tr>\n",
       "  </thead>\n",
       "  <tbody>\n",
       "    <tr>\n",
       "      <th>0</th>\n",
       "      <td>-1</td>\n",
       "      <td>3755</td>\n",
       "      <td>-1_the_new_times_york</td>\n",
       "    </tr>\n",
       "    <tr>\n",
       "      <th>1</th>\n",
       "      <td>0</td>\n",
       "      <td>268</td>\n",
       "      <td>0_news_breitbart_cnn_fake</td>\n",
       "    </tr>\n",
       "    <tr>\n",
       "      <th>2</th>\n",
       "      <td>1</td>\n",
       "      <td>173</td>\n",
       "      <td>1_women_fashion_beyoncé_female</td>\n",
       "    </tr>\n",
       "    <tr>\n",
       "      <th>3</th>\n",
       "      <td>2</td>\n",
       "      <td>166</td>\n",
       "      <td>2_obamacare_paul_ryan_care</td>\n",
       "    </tr>\n",
       "    <tr>\n",
       "      <th>4</th>\n",
       "      <td>3</td>\n",
       "      <td>147</td>\n",
       "      <td>3_cartel_mexican_border_texas</td>\n",
       "    </tr>\n",
       "    <tr>\n",
       "      <th>...</th>\n",
       "      <td>...</td>\n",
       "      <td>...</td>\n",
       "      <td>...</td>\n",
       "    </tr>\n",
       "    <tr>\n",
       "      <th>171</th>\n",
       "      <td>170</td>\n",
       "      <td>11</td>\n",
       "      <td>170_colombia_farc_peace_mudslide</td>\n",
       "    </tr>\n",
       "    <tr>\n",
       "      <th>172</th>\n",
       "      <td>171</td>\n",
       "      <td>11</td>\n",
       "      <td>171_brazil_brazilian_corruption_prone</td>\n",
       "    </tr>\n",
       "    <tr>\n",
       "      <th>173</th>\n",
       "      <td>172</td>\n",
       "      <td>10</td>\n",
       "      <td>172_christie_bridge_closings_culprit</td>\n",
       "    </tr>\n",
       "    <tr>\n",
       "      <th>174</th>\n",
       "      <td>173</td>\n",
       "      <td>10</td>\n",
       "      <td>173_millennials_americans_entrepreneurs_adulthood</td>\n",
       "    </tr>\n",
       "    <tr>\n",
       "      <th>175</th>\n",
       "      <td>174</td>\n",
       "      <td>10</td>\n",
       "      <td>174_apple_headphones_devices_along</td>\n",
       "    </tr>\n",
       "  </tbody>\n",
       "</table>\n",
       "<p>176 rows × 3 columns</p>\n",
       "</div>"
      ],
      "text/plain": [
       "     Topic  Count                                               Name\n",
       "0       -1   3755                              -1_the_new_times_york\n",
       "1        0    268                          0_news_breitbart_cnn_fake\n",
       "2        1    173                     1_women_fashion_beyoncé_female\n",
       "3        2    166                         2_obamacare_paul_ryan_care\n",
       "4        3    147                      3_cartel_mexican_border_texas\n",
       "..     ...    ...                                                ...\n",
       "171    170     11                   170_colombia_farc_peace_mudslide\n",
       "172    171     11              171_brazil_brazilian_corruption_prone\n",
       "173    172     10               172_christie_bridge_closings_culprit\n",
       "174    173     10  173_millennials_americans_entrepreneurs_adulthood\n",
       "175    174     10                 174_apple_headphones_devices_along\n",
       "\n",
       "[176 rows x 3 columns]"
      ]
     },
     "execution_count": 7,
     "metadata": {},
     "output_type": "execute_result"
    }
   ],
   "source": [
    "title_fake_topic_model.get_topic_info()"
   ]
  },
  {
   "cell_type": "markdown",
   "id": "87cf367e",
   "metadata": {},
   "source": [
    "## Exploring the titles in true news\n",
    "\n",
    "In the true news data, Topic 5, 6 and 11 single out Russian, Spanish, and German articles respectively."
   ]
  },
  {
   "cell_type": "code",
   "execution_count": 60,
   "id": "a86e0bbd",
   "metadata": {},
   "outputs": [
    {
     "data": {
      "application/vnd.plotly.v1+json": {
       "config": {
        "plotlyServerURL": "https://plot.ly"
       },
       "data": [
        {
         "marker": {
          "color": "#D55E00"
         },
         "orientation": "h",
         "type": "bar",
         "x": [
          0.016840831307604876,
          0.018992713677181527,
          0.019700069520787723,
          0.020843862057463674,
          0.02103199201279039,
          0.027996163819635517,
          0.03478232597124518,
          0.037282796170761495,
          0.04114364214562487,
          0.04368276285044234
         ],
         "xaxis": "x",
         "y": [
          "poll  ",
          "election  ",
          "elections  ",
          "polls  ",
          "electoral  ",
          "machines  ",
          "voter  ",
          "voting  ",
          "rigged  ",
          "fraud  "
         ],
         "yaxis": "y"
        },
        {
         "marker": {
          "color": "#0072B2"
         },
         "orientation": "h",
         "type": "bar",
         "x": [
          0.01618771142929921,
          0.016746937011919105,
          0.017445745786025535,
          0.017846438697159583,
          0.01854580840891091,
          0.02207563666731719,
          0.022254970090693094,
          0.029285437122985983,
          0.029353250298062735,
          0.04327384626507684
         ],
         "xaxis": "x2",
         "y": [
          "islam  ",
          "jungle  ",
          "calais  ",
          "migrants  ",
          "refugees  ",
          "germany  ",
          "refugee  ",
          "muslims  ",
          "migrant  ",
          "muslim  "
         ],
         "yaxis": "y2"
        },
        {
         "marker": {
          "color": "#CC79A7"
         },
         "orientation": "h",
         "type": "bar",
         "x": [
          0.013208061275532486,
          0.013702754840096618,
          0.01580505230280107,
          0.01683958371189619,
          0.021638233620412797,
          0.023995530567882176,
          0.028822445239432445,
          0.030678141935622367,
          0.0373687906944375,
          0.05866674787478479
         ],
         "xaxis": "x3",
         "y": [
          "saakashvili  ",
          "relations  ",
          "west  ",
          "now  ",
          "kiev  ",
          "vladimir  ",
          "ukraine  ",
          "russian  ",
          "russia  ",
          "putin  "
         ],
         "yaxis": "y3"
        },
        {
         "marker": {
          "color": "#E69F00"
         },
         "orientation": "h",
         "type": "bar",
         "x": [
          0.011112806575197013,
          0.011371637592270546,
          0.011414496310712391,
          0.013561768526496355,
          0.0164940422890393,
          0.016693694080296598,
          0.0182480395766898,
          0.02498220518038802,
          0.030460256525225958,
          0.030994416326932558
         ],
         "xaxis": "x4",
         "y": [
          "nominee  ",
          "be  ",
          "secretary  ",
          "campaign  ",
          "she  ",
          "rally  ",
          "clinton  ",
          "her  ",
          "hillary  ",
          "michelle  "
         ],
         "yaxis": "y4"
        },
        {
         "marker": {
          "color": "#56B4E9"
         },
         "orientation": "h",
         "type": "bar",
         "x": [
          0.013057195531742005,
          0.0137733664170387,
          0.013822773250624294,
          0.01423091418195507,
          0.014318622061278976,
          0.016364139498604543,
          0.02882458639663734,
          0.029908448386403837,
          0.030667440003141387,
          0.03214708434668183
         ],
         "xaxis": "x5",
         "y": [
          "unpredictability  ",
          "why  ",
          "will  ",
          "win  ",
          "establishment  ",
          "elect  ",
          "donald  ",
          "president  ",
          "victory  ",
          "trump  "
         ],
         "yaxis": "y5"
        },
        {
         "marker": {
          "color": "#009E73"
         },
         "orientation": "h",
         "type": "bar",
         "x": [
          0.02778451649688269,
          0.03041873027568982,
          0.03041873027568982,
          0.0354359172905512,
          0.04017007931158167,
          0.05103672046667126,
          0.07153761686095261,
          0.08593039433171908,
          0.08593039433171908,
          0.08593039433171908
         ],
         "xaxis": "x6",
         "y": [
          "за  ",
          "ли  ",
          "путин  ",
          "россии  ",
          "сша  ",
          "не  ",
          "на  ",
          "новое  ",
          "восточное  ",
          "обозрение  "
         ],
         "yaxis": "y6"
        },
        {
         "marker": {
          "color": "#F0E442"
         },
         "orientation": "h",
         "type": "bar",
         "x": [
          0.037372735587545336,
          0.04020098417775651,
          0.040265974721950586,
          0.04046926579188533,
          0.04568486744956496,
          0.050941317923473305,
          0.06569366546089579,
          0.0657705746630331,
          0.08564945628224307,
          0.114465665089449
         ],
         "xaxis": "x7",
         "y": [
          "para  ",
          "por  ",
          "se  ",
          "un  ",
          "los  ",
          "que  ",
          "el  ",
          "en  ",
          "la  ",
          "de  "
         ],
         "yaxis": "y7"
        },
        {
         "marker": {
          "color": "#D55E00"
         },
         "orientation": "h",
         "type": "bar",
         "x": [
          0.02043996169125529,
          0.02113895215602793,
          0.021464828849794258,
          0.02252034338889454,
          0.024531232971193438,
          0.026447293777781385,
          0.02686598993031126,
          0.027594903458047007,
          0.035085850017788855,
          0.04063380037383193
         ],
         "xaxis": "x8",
         "y": [
          "naturally  ",
          "remedies  ",
          "boost  ",
          "recipe  ",
          "fat  ",
          "herbs  ",
          "your  ",
          "body  ",
          "foods  ",
          "health  "
         ],
         "yaxis": "y8"
        },
        {
         "marker": {
          "color": "#0072B2"
         },
         "orientation": "h",
         "type": "bar",
         "x": [
          0.015815551195839366,
          0.01835110415216267,
          0.01939453570204983,
          0.02131101413528734,
          0.02253821557735046,
          0.023318981190722638,
          0.024260890008992987,
          0.028624483297185047,
          0.034097622616459745,
          0.054644412982865424
         ],
         "xaxis": "x9",
         "y": [
          "reserve  ",
          "stocks  ",
          "collapse  ",
          "market  ",
          "debt  ",
          "stock  ",
          "financial  ",
          "day  ",
          "markets  ",
          "chart  "
         ],
         "yaxis": "y9"
        },
        {
         "marker": {
          "color": "#CC79A7"
         },
         "orientation": "h",
         "type": "bar",
         "x": [
          0.02201578005680579,
          0.023981616101039743,
          0.025854747987390465,
          0.025945831462178603,
          0.026417010928388183,
          0.026417010928388183,
          0.028306002930178875,
          0.03813568848596195,
          0.038989134183035255,
          0.05834000769035819
         ],
         "xaxis": "x10",
         "y": [
          "unknown  ",
          "dna  ",
          "ufos  ",
          "scientists  ",
          "space  ",
          "alien  ",
          "extraterrestrials  ",
          "nasa  ",
          "aliens  ",
          "ufo  "
         ],
         "yaxis": "y10"
        },
        {
         "marker": {
          "color": "#E69F00"
         },
         "orientation": "h",
         "type": "bar",
         "x": [
          0.016236002087145745,
          0.016612047771168825,
          0.017703703373154547,
          0.01925694993210324,
          0.021515877771843963,
          0.02408790942323139,
          0.026339778763176194,
          0.02966837040399218,
          0.03207715663162159,
          0.07126942016712672
         ],
         "xaxis": "x11",
         "y": [
          "chaos  ",
          "stake  ",
          "ending  ",
          "open  ",
          "presidential  ",
          "elections  ",
          "thread  ",
          "day  ",
          "2016  ",
          "election  "
         ],
         "yaxis": "y11"
        },
        {
         "marker": {
          "color": "#56B4E9"
         },
         "orientation": "h",
         "type": "bar",
         "x": [
          0.02755058831407753,
          0.02917311043255019,
          0.02917311043255019,
          0.029737714586386903,
          0.030010639214291788,
          0.03171677565131805,
          0.031942621000162465,
          0.034549820654905694,
          0.038835910730717516,
          0.038835910730717516
         ],
         "xaxis": "x12",
         "y": [
          "auf  ",
          "sie  ",
          "sich  ",
          "de  ",
          "von  ",
          "la  ",
          "die  ",
          "zu  ",
          "thierry  ",
          "meyssan  "
         ],
         "yaxis": "y12"
        },
        {
         "marker": {
          "color": "#009E73"
         },
         "orientation": "h",
         "type": "bar",
         "x": [
          0.02500552322790016,
          0.02757755421565171,
          0.028725707576135014,
          0.031138219985615653,
          0.03148638664466003,
          0.034549820654905694,
          0.041085707444320045,
          0.04207419599520518,
          0.05346745915140491,
          0.11638573756389463
         ],
         "xaxis": "x13",
         "y": [
          "troop  ",
          "since  ",
          "border  ",
          "nuclear  ",
          "buildup  ",
          "drills  ",
          "war  ",
          "cold  ",
          "russia  ",
          "nato  "
         ],
         "yaxis": "y13"
        },
        {
         "marker": {
          "color": "#F0E442"
         },
         "orientation": "h",
         "type": "bar",
         "x": [
          0.022344063608075386,
          0.023975232015929847,
          0.024359372175370788,
          0.025881217245587763,
          0.027302445771450932,
          0.027795833488189106,
          0.049582100341543034,
          0.06862321630406355,
          0.07971515744318496,
          0.147794440747687
         ],
         "xaxis": "x14",
         "y": [
          "executes  ",
          "killed  ",
          "forces  ",
          "daesh  ",
          "troops  ",
          "civilians  ",
          "iraq  ",
          "iraqi  ",
          "isis  ",
          "mosul  "
         ],
         "yaxis": "y14"
        },
        {
         "marker": {
          "color": "#D55E00"
         },
         "orientation": "h",
         "type": "bar",
         "x": [
          0.012706333969515463,
          0.01291944775191302,
          0.013292643727290594,
          0.013802038140278899,
          0.013937232621220578,
          0.026737136122986515,
          0.02806175542950142,
          0.030691814901401222,
          0.031216449969965532,
          0.09050003406405716
         ],
         "xaxis": "x15",
         "y": [
          "breaking  ",
          "did  ",
          "president  ",
          "erase  ",
          "writers  ",
          "legacy  ",
          "white  ",
          "pardon  ",
          "house  ",
          "obama  "
         ],
         "yaxis": "y15"
        },
        {
         "marker": {
          "color": "#0072B2"
         },
         "orientation": "h",
         "type": "bar",
         "x": [
          0.014915523393622225,
          0.017983036714045348,
          0.018814120390952833,
          0.019752834023092306,
          0.022478795892556688,
          0.029473872267655465,
          0.03160453443694769,
          0.03206248074125125,
          0.08722439898616631,
          0.15557355899167735
         ],
         "xaxis": "x16",
         "y": [
          "bullion  ",
          "fought  ",
          "currencies  ",
          "prices  ",
          "hoarding  ",
          "dollar  ",
          "currency  ",
          "market  ",
          "silver  ",
          "gold  "
         ],
         "yaxis": "y16"
        },
        {
         "marker": {
          "color": "#CC79A7"
         },
         "orientation": "h",
         "type": "bar",
         "x": [
          0.018596027131882097,
          0.019710137163404858,
          0.022014681909275458,
          0.02247640276701375,
          0.022525871043891265,
          0.02918470121627785,
          0.04830385208936484,
          0.11176082906313405,
          0.1419619675952122,
          0.1424552051758826
         ],
         "xaxis": "x17",
         "y": [
          "spills  ",
          "protest  ",
          "police  ",
          "sioux  ",
          "north  ",
          "protests  ",
          "protesters  ",
          "access  ",
          "dakota  ",
          "pipeline  "
         ],
         "yaxis": "y17"
        },
        {
         "marker": {
          "color": "#E69F00"
         },
         "orientation": "h",
         "type": "bar",
         "x": [
          0.017590130729560147,
          0.01993031995282871,
          0.0208515176235478,
          0.021470771861330205,
          0.02358818606216372,
          0.025196244418564172,
          0.026088546978458006,
          0.027519550405857674,
          0.04148053243762061,
          0.06771249352629001
         ],
         "xaxis": "x18",
         "y": [
          "investigation  ",
          "director  ",
          "probe  ",
          "clinton  ",
          "sources  ",
          "likely  ",
          "hillary  ",
          "indicted  ",
          "indictment  ",
          "fbi  "
         ],
         "yaxis": "y18"
        },
        {
         "marker": {
          "color": "#56B4E9"
         },
         "orientation": "h",
         "type": "bar",
         "x": [
          0.019969797354229275,
          0.027512927059150438,
          0.028674430804755704,
          0.029005702949545964,
          0.030164945282249046,
          0.030458822587717004,
          0.03188711919719591,
          0.035439375670409404,
          0.037472017599183546,
          0.09979912678988384
         ],
         "xaxis": "x19",
         "y": [
          "corrupt  ",
          "chelsea  ",
          "memo  ",
          "money  ",
          "bill  ",
          "inc  ",
          "corruption  ",
          "paid  ",
          "clinton  ",
          "foundation  "
         ],
         "yaxis": "y19"
        },
        {
         "marker": {
          "color": "#009E73"
         },
         "orientation": "h",
         "type": "bar",
         "x": [
          0.01677076758753194,
          0.017535068469464767,
          0.021666485602739635,
          0.022622466631615934,
          0.022978072083779947,
          0.024494070664513215,
          0.025702815335612764,
          0.02771038491604789,
          0.038296786806299915,
          0.0819596885890797
         ],
         "xaxis": "x20",
         "y": [
          "senator  ",
          "suppression  ",
          "african  ",
          "stupid  ",
          "racist  ",
          "voters  ",
          "msnbc  ",
          "thug  ",
          "blacks  ",
          "black  "
         ],
         "yaxis": "y20"
        },
        {
         "marker": {
          "color": "#F0E442"
         },
         "orientation": "h",
         "type": "bar",
         "x": [
          0.01701670247034058,
          0.017874794309056245,
          0.019254204652890253,
          0.019541199935955496,
          0.020444293921259654,
          0.020458323113718282,
          0.024480421291871453,
          0.03403340494068116,
          0.04623549284545079,
          0.07377987667315909
         ],
         "xaxis": "x21",
         "y": [
          "shot  ",
          "arrested  ",
          "officer  ",
          "ambush  ",
          "shooter  ",
          "iowa  ",
          "officers  ",
          "cops  ",
          "police  ",
          "cop  "
         ],
         "yaxis": "y21"
        },
        {
         "marker": {
          "color": "#D55E00"
         },
         "orientation": "h",
         "type": "bar",
         "x": [
          0.019334047882476592,
          0.019334047882476592,
          0.020436951076608346,
          0.020436951076608346,
          0.02165194968495259,
          0.02224904084519012,
          0.02765495498010942,
          0.027919412975263517,
          0.0289296294653182,
          0.04330389936990518
         ],
         "xaxis": "x22",
         "y": [
          "physicists  ",
          "quantum  ",
          "zen  ",
          "responsibility  ",
          "soul  ",
          "meditation  ",
          "mind  ",
          "life  ",
          "your  ",
          "consciousness  "
         ],
         "yaxis": "y22"
        },
        {
         "marker": {
          "color": "#0072B2"
         },
         "orientation": "h",
         "type": "bar",
         "x": [
          0.024022452552847545,
          0.027940590908367972,
          0.028896082260067416,
          0.03009435249038333,
          0.03352870909004157,
          0.035209850832557246,
          0.03911682727171516,
          0.04430698091029349,
          0.047339285124023404,
          0.16141874794451258
         ],
         "xaxis": "x23",
         "y": [
          "larger  ",
          "gruber  ",
          "mandate  ",
          "fail  ",
          "healthcare  ",
          "penalty  ",
          "premiums  ",
          "designed  ",
          "architect  ",
          "obamacare  "
         ],
         "yaxis": "y23"
        }
       ],
       "layout": {
        "annotations": [
         {
          "font": {
           "size": 16
          },
          "showarrow": false,
          "text": "Topic 0",
          "x": 0.0875,
          "xanchor": "center",
          "xref": "paper",
          "y": 1,
          "yanchor": "bottom",
          "yref": "paper"
         },
         {
          "font": {
           "size": 16
          },
          "showarrow": false,
          "text": "Topic 1",
          "x": 0.36250000000000004,
          "xanchor": "center",
          "xref": "paper",
          "y": 1,
          "yanchor": "bottom",
          "yref": "paper"
         },
         {
          "font": {
           "size": 16
          },
          "showarrow": false,
          "text": "Topic 2",
          "x": 0.6375000000000001,
          "xanchor": "center",
          "xref": "paper",
          "y": 1,
          "yanchor": "bottom",
          "yref": "paper"
         },
         {
          "font": {
           "size": 16
          },
          "showarrow": false,
          "text": "Topic 3",
          "x": 0.9125,
          "xanchor": "center",
          "xref": "paper",
          "y": 1,
          "yanchor": "bottom",
          "yref": "paper"
         },
         {
          "font": {
           "size": 16
          },
          "showarrow": false,
          "text": "Topic 4",
          "x": 0.0875,
          "xanchor": "center",
          "xref": "paper",
          "y": 0.8222222222222223,
          "yanchor": "bottom",
          "yref": "paper"
         },
         {
          "font": {
           "size": 16
          },
          "showarrow": false,
          "text": "Topic 5",
          "x": 0.36250000000000004,
          "xanchor": "center",
          "xref": "paper",
          "y": 0.8222222222222223,
          "yanchor": "bottom",
          "yref": "paper"
         },
         {
          "font": {
           "size": 16
          },
          "showarrow": false,
          "text": "Topic 6",
          "x": 0.6375000000000001,
          "xanchor": "center",
          "xref": "paper",
          "y": 0.8222222222222223,
          "yanchor": "bottom",
          "yref": "paper"
         },
         {
          "font": {
           "size": 16
          },
          "showarrow": false,
          "text": "Topic 7",
          "x": 0.9125,
          "xanchor": "center",
          "xref": "paper",
          "y": 0.8222222222222223,
          "yanchor": "bottom",
          "yref": "paper"
         },
         {
          "font": {
           "size": 16
          },
          "showarrow": false,
          "text": "Topic 8",
          "x": 0.0875,
          "xanchor": "center",
          "xref": "paper",
          "y": 0.6444444444444446,
          "yanchor": "bottom",
          "yref": "paper"
         },
         {
          "font": {
           "size": 16
          },
          "showarrow": false,
          "text": "Topic 9",
          "x": 0.36250000000000004,
          "xanchor": "center",
          "xref": "paper",
          "y": 0.6444444444444446,
          "yanchor": "bottom",
          "yref": "paper"
         },
         {
          "font": {
           "size": 16
          },
          "showarrow": false,
          "text": "Topic 10",
          "x": 0.6375000000000001,
          "xanchor": "center",
          "xref": "paper",
          "y": 0.6444444444444446,
          "yanchor": "bottom",
          "yref": "paper"
         },
         {
          "font": {
           "size": 16
          },
          "showarrow": false,
          "text": "Topic 11",
          "x": 0.9125,
          "xanchor": "center",
          "xref": "paper",
          "y": 0.6444444444444446,
          "yanchor": "bottom",
          "yref": "paper"
         },
         {
          "font": {
           "size": 16
          },
          "showarrow": false,
          "text": "Topic 12",
          "x": 0.0875,
          "xanchor": "center",
          "xref": "paper",
          "y": 0.4666666666666667,
          "yanchor": "bottom",
          "yref": "paper"
         },
         {
          "font": {
           "size": 16
          },
          "showarrow": false,
          "text": "Topic 13",
          "x": 0.36250000000000004,
          "xanchor": "center",
          "xref": "paper",
          "y": 0.4666666666666667,
          "yanchor": "bottom",
          "yref": "paper"
         },
         {
          "font": {
           "size": 16
          },
          "showarrow": false,
          "text": "Topic 14",
          "x": 0.6375000000000001,
          "xanchor": "center",
          "xref": "paper",
          "y": 0.4666666666666667,
          "yanchor": "bottom",
          "yref": "paper"
         },
         {
          "font": {
           "size": 16
          },
          "showarrow": false,
          "text": "Topic 15",
          "x": 0.9125,
          "xanchor": "center",
          "xref": "paper",
          "y": 0.4666666666666667,
          "yanchor": "bottom",
          "yref": "paper"
         },
         {
          "font": {
           "size": 16
          },
          "showarrow": false,
          "text": "Topic 16",
          "x": 0.0875,
          "xanchor": "center",
          "xref": "paper",
          "y": 0.2888888888888889,
          "yanchor": "bottom",
          "yref": "paper"
         },
         {
          "font": {
           "size": 16
          },
          "showarrow": false,
          "text": "Topic 17",
          "x": 0.36250000000000004,
          "xanchor": "center",
          "xref": "paper",
          "y": 0.2888888888888889,
          "yanchor": "bottom",
          "yref": "paper"
         },
         {
          "font": {
           "size": 16
          },
          "showarrow": false,
          "text": "Topic 18",
          "x": 0.6375000000000001,
          "xanchor": "center",
          "xref": "paper",
          "y": 0.2888888888888889,
          "yanchor": "bottom",
          "yref": "paper"
         },
         {
          "font": {
           "size": 16
          },
          "showarrow": false,
          "text": "Topic 19",
          "x": 0.9125,
          "xanchor": "center",
          "xref": "paper",
          "y": 0.2888888888888889,
          "yanchor": "bottom",
          "yref": "paper"
         },
         {
          "font": {
           "size": 16
          },
          "showarrow": false,
          "text": "Topic 20",
          "x": 0.0875,
          "xanchor": "center",
          "xref": "paper",
          "y": 0.11111111111111112,
          "yanchor": "bottom",
          "yref": "paper"
         },
         {
          "font": {
           "size": 16
          },
          "showarrow": false,
          "text": "Topic 21",
          "x": 0.36250000000000004,
          "xanchor": "center",
          "xref": "paper",
          "y": 0.11111111111111112,
          "yanchor": "bottom",
          "yref": "paper"
         },
         {
          "font": {
           "size": 16
          },
          "showarrow": false,
          "text": "Topic 22",
          "x": 0.6375000000000001,
          "xanchor": "center",
          "xref": "paper",
          "y": 0.11111111111111112,
          "yanchor": "bottom",
          "yref": "paper"
         }
        ],
        "height": 1200,
        "hoverlabel": {
         "bgcolor": "white",
         "font": {
          "family": "Rockwell",
          "size": 16
         }
        },
        "showlegend": false,
        "template": {
         "data": {
          "bar": [
           {
            "error_x": {
             "color": "#2a3f5f"
            },
            "error_y": {
             "color": "#2a3f5f"
            },
            "marker": {
             "line": {
              "color": "white",
              "width": 0.5
             },
             "pattern": {
              "fillmode": "overlay",
              "size": 10,
              "solidity": 0.2
             }
            },
            "type": "bar"
           }
          ],
          "barpolar": [
           {
            "marker": {
             "line": {
              "color": "white",
              "width": 0.5
             },
             "pattern": {
              "fillmode": "overlay",
              "size": 10,
              "solidity": 0.2
             }
            },
            "type": "barpolar"
           }
          ],
          "carpet": [
           {
            "aaxis": {
             "endlinecolor": "#2a3f5f",
             "gridcolor": "#C8D4E3",
             "linecolor": "#C8D4E3",
             "minorgridcolor": "#C8D4E3",
             "startlinecolor": "#2a3f5f"
            },
            "baxis": {
             "endlinecolor": "#2a3f5f",
             "gridcolor": "#C8D4E3",
             "linecolor": "#C8D4E3",
             "minorgridcolor": "#C8D4E3",
             "startlinecolor": "#2a3f5f"
            },
            "type": "carpet"
           }
          ],
          "choropleth": [
           {
            "colorbar": {
             "outlinewidth": 0,
             "ticks": ""
            },
            "type": "choropleth"
           }
          ],
          "contour": [
           {
            "colorbar": {
             "outlinewidth": 0,
             "ticks": ""
            },
            "colorscale": [
             [
              0,
              "#0d0887"
             ],
             [
              0.1111111111111111,
              "#46039f"
             ],
             [
              0.2222222222222222,
              "#7201a8"
             ],
             [
              0.3333333333333333,
              "#9c179e"
             ],
             [
              0.4444444444444444,
              "#bd3786"
             ],
             [
              0.5555555555555556,
              "#d8576b"
             ],
             [
              0.6666666666666666,
              "#ed7953"
             ],
             [
              0.7777777777777778,
              "#fb9f3a"
             ],
             [
              0.8888888888888888,
              "#fdca26"
             ],
             [
              1,
              "#f0f921"
             ]
            ],
            "type": "contour"
           }
          ],
          "contourcarpet": [
           {
            "colorbar": {
             "outlinewidth": 0,
             "ticks": ""
            },
            "type": "contourcarpet"
           }
          ],
          "heatmap": [
           {
            "colorbar": {
             "outlinewidth": 0,
             "ticks": ""
            },
            "colorscale": [
             [
              0,
              "#0d0887"
             ],
             [
              0.1111111111111111,
              "#46039f"
             ],
             [
              0.2222222222222222,
              "#7201a8"
             ],
             [
              0.3333333333333333,
              "#9c179e"
             ],
             [
              0.4444444444444444,
              "#bd3786"
             ],
             [
              0.5555555555555556,
              "#d8576b"
             ],
             [
              0.6666666666666666,
              "#ed7953"
             ],
             [
              0.7777777777777778,
              "#fb9f3a"
             ],
             [
              0.8888888888888888,
              "#fdca26"
             ],
             [
              1,
              "#f0f921"
             ]
            ],
            "type": "heatmap"
           }
          ],
          "heatmapgl": [
           {
            "colorbar": {
             "outlinewidth": 0,
             "ticks": ""
            },
            "colorscale": [
             [
              0,
              "#0d0887"
             ],
             [
              0.1111111111111111,
              "#46039f"
             ],
             [
              0.2222222222222222,
              "#7201a8"
             ],
             [
              0.3333333333333333,
              "#9c179e"
             ],
             [
              0.4444444444444444,
              "#bd3786"
             ],
             [
              0.5555555555555556,
              "#d8576b"
             ],
             [
              0.6666666666666666,
              "#ed7953"
             ],
             [
              0.7777777777777778,
              "#fb9f3a"
             ],
             [
              0.8888888888888888,
              "#fdca26"
             ],
             [
              1,
              "#f0f921"
             ]
            ],
            "type": "heatmapgl"
           }
          ],
          "histogram": [
           {
            "marker": {
             "pattern": {
              "fillmode": "overlay",
              "size": 10,
              "solidity": 0.2
             }
            },
            "type": "histogram"
           }
          ],
          "histogram2d": [
           {
            "colorbar": {
             "outlinewidth": 0,
             "ticks": ""
            },
            "colorscale": [
             [
              0,
              "#0d0887"
             ],
             [
              0.1111111111111111,
              "#46039f"
             ],
             [
              0.2222222222222222,
              "#7201a8"
             ],
             [
              0.3333333333333333,
              "#9c179e"
             ],
             [
              0.4444444444444444,
              "#bd3786"
             ],
             [
              0.5555555555555556,
              "#d8576b"
             ],
             [
              0.6666666666666666,
              "#ed7953"
             ],
             [
              0.7777777777777778,
              "#fb9f3a"
             ],
             [
              0.8888888888888888,
              "#fdca26"
             ],
             [
              1,
              "#f0f921"
             ]
            ],
            "type": "histogram2d"
           }
          ],
          "histogram2dcontour": [
           {
            "colorbar": {
             "outlinewidth": 0,
             "ticks": ""
            },
            "colorscale": [
             [
              0,
              "#0d0887"
             ],
             [
              0.1111111111111111,
              "#46039f"
             ],
             [
              0.2222222222222222,
              "#7201a8"
             ],
             [
              0.3333333333333333,
              "#9c179e"
             ],
             [
              0.4444444444444444,
              "#bd3786"
             ],
             [
              0.5555555555555556,
              "#d8576b"
             ],
             [
              0.6666666666666666,
              "#ed7953"
             ],
             [
              0.7777777777777778,
              "#fb9f3a"
             ],
             [
              0.8888888888888888,
              "#fdca26"
             ],
             [
              1,
              "#f0f921"
             ]
            ],
            "type": "histogram2dcontour"
           }
          ],
          "mesh3d": [
           {
            "colorbar": {
             "outlinewidth": 0,
             "ticks": ""
            },
            "type": "mesh3d"
           }
          ],
          "parcoords": [
           {
            "line": {
             "colorbar": {
              "outlinewidth": 0,
              "ticks": ""
             }
            },
            "type": "parcoords"
           }
          ],
          "pie": [
           {
            "automargin": true,
            "type": "pie"
           }
          ],
          "scatter": [
           {
            "fillpattern": {
             "fillmode": "overlay",
             "size": 10,
             "solidity": 0.2
            },
            "type": "scatter"
           }
          ],
          "scatter3d": [
           {
            "line": {
             "colorbar": {
              "outlinewidth": 0,
              "ticks": ""
             }
            },
            "marker": {
             "colorbar": {
              "outlinewidth": 0,
              "ticks": ""
             }
            },
            "type": "scatter3d"
           }
          ],
          "scattercarpet": [
           {
            "marker": {
             "colorbar": {
              "outlinewidth": 0,
              "ticks": ""
             }
            },
            "type": "scattercarpet"
           }
          ],
          "scattergeo": [
           {
            "marker": {
             "colorbar": {
              "outlinewidth": 0,
              "ticks": ""
             }
            },
            "type": "scattergeo"
           }
          ],
          "scattergl": [
           {
            "marker": {
             "colorbar": {
              "outlinewidth": 0,
              "ticks": ""
             }
            },
            "type": "scattergl"
           }
          ],
          "scattermapbox": [
           {
            "marker": {
             "colorbar": {
              "outlinewidth": 0,
              "ticks": ""
             }
            },
            "type": "scattermapbox"
           }
          ],
          "scatterpolar": [
           {
            "marker": {
             "colorbar": {
              "outlinewidth": 0,
              "ticks": ""
             }
            },
            "type": "scatterpolar"
           }
          ],
          "scatterpolargl": [
           {
            "marker": {
             "colorbar": {
              "outlinewidth": 0,
              "ticks": ""
             }
            },
            "type": "scatterpolargl"
           }
          ],
          "scatterternary": [
           {
            "marker": {
             "colorbar": {
              "outlinewidth": 0,
              "ticks": ""
             }
            },
            "type": "scatterternary"
           }
          ],
          "surface": [
           {
            "colorbar": {
             "outlinewidth": 0,
             "ticks": ""
            },
            "colorscale": [
             [
              0,
              "#0d0887"
             ],
             [
              0.1111111111111111,
              "#46039f"
             ],
             [
              0.2222222222222222,
              "#7201a8"
             ],
             [
              0.3333333333333333,
              "#9c179e"
             ],
             [
              0.4444444444444444,
              "#bd3786"
             ],
             [
              0.5555555555555556,
              "#d8576b"
             ],
             [
              0.6666666666666666,
              "#ed7953"
             ],
             [
              0.7777777777777778,
              "#fb9f3a"
             ],
             [
              0.8888888888888888,
              "#fdca26"
             ],
             [
              1,
              "#f0f921"
             ]
            ],
            "type": "surface"
           }
          ],
          "table": [
           {
            "cells": {
             "fill": {
              "color": "#EBF0F8"
             },
             "line": {
              "color": "white"
             }
            },
            "header": {
             "fill": {
              "color": "#C8D4E3"
             },
             "line": {
              "color": "white"
             }
            },
            "type": "table"
           }
          ]
         },
         "layout": {
          "annotationdefaults": {
           "arrowcolor": "#2a3f5f",
           "arrowhead": 0,
           "arrowwidth": 1
          },
          "autotypenumbers": "strict",
          "coloraxis": {
           "colorbar": {
            "outlinewidth": 0,
            "ticks": ""
           }
          },
          "colorscale": {
           "diverging": [
            [
             0,
             "#8e0152"
            ],
            [
             0.1,
             "#c51b7d"
            ],
            [
             0.2,
             "#de77ae"
            ],
            [
             0.3,
             "#f1b6da"
            ],
            [
             0.4,
             "#fde0ef"
            ],
            [
             0.5,
             "#f7f7f7"
            ],
            [
             0.6,
             "#e6f5d0"
            ],
            [
             0.7,
             "#b8e186"
            ],
            [
             0.8,
             "#7fbc41"
            ],
            [
             0.9,
             "#4d9221"
            ],
            [
             1,
             "#276419"
            ]
           ],
           "sequential": [
            [
             0,
             "#0d0887"
            ],
            [
             0.1111111111111111,
             "#46039f"
            ],
            [
             0.2222222222222222,
             "#7201a8"
            ],
            [
             0.3333333333333333,
             "#9c179e"
            ],
            [
             0.4444444444444444,
             "#bd3786"
            ],
            [
             0.5555555555555556,
             "#d8576b"
            ],
            [
             0.6666666666666666,
             "#ed7953"
            ],
            [
             0.7777777777777778,
             "#fb9f3a"
            ],
            [
             0.8888888888888888,
             "#fdca26"
            ],
            [
             1,
             "#f0f921"
            ]
           ],
           "sequentialminus": [
            [
             0,
             "#0d0887"
            ],
            [
             0.1111111111111111,
             "#46039f"
            ],
            [
             0.2222222222222222,
             "#7201a8"
            ],
            [
             0.3333333333333333,
             "#9c179e"
            ],
            [
             0.4444444444444444,
             "#bd3786"
            ],
            [
             0.5555555555555556,
             "#d8576b"
            ],
            [
             0.6666666666666666,
             "#ed7953"
            ],
            [
             0.7777777777777778,
             "#fb9f3a"
            ],
            [
             0.8888888888888888,
             "#fdca26"
            ],
            [
             1,
             "#f0f921"
            ]
           ]
          },
          "colorway": [
           "#636efa",
           "#EF553B",
           "#00cc96",
           "#ab63fa",
           "#FFA15A",
           "#19d3f3",
           "#FF6692",
           "#B6E880",
           "#FF97FF",
           "#FECB52"
          ],
          "font": {
           "color": "#2a3f5f"
          },
          "geo": {
           "bgcolor": "white",
           "lakecolor": "white",
           "landcolor": "white",
           "showlakes": true,
           "showland": true,
           "subunitcolor": "#C8D4E3"
          },
          "hoverlabel": {
           "align": "left"
          },
          "hovermode": "closest",
          "mapbox": {
           "style": "light"
          },
          "paper_bgcolor": "white",
          "plot_bgcolor": "white",
          "polar": {
           "angularaxis": {
            "gridcolor": "#EBF0F8",
            "linecolor": "#EBF0F8",
            "ticks": ""
           },
           "bgcolor": "white",
           "radialaxis": {
            "gridcolor": "#EBF0F8",
            "linecolor": "#EBF0F8",
            "ticks": ""
           }
          },
          "scene": {
           "xaxis": {
            "backgroundcolor": "white",
            "gridcolor": "#DFE8F3",
            "gridwidth": 2,
            "linecolor": "#EBF0F8",
            "showbackground": true,
            "ticks": "",
            "zerolinecolor": "#EBF0F8"
           },
           "yaxis": {
            "backgroundcolor": "white",
            "gridcolor": "#DFE8F3",
            "gridwidth": 2,
            "linecolor": "#EBF0F8",
            "showbackground": true,
            "ticks": "",
            "zerolinecolor": "#EBF0F8"
           },
           "zaxis": {
            "backgroundcolor": "white",
            "gridcolor": "#DFE8F3",
            "gridwidth": 2,
            "linecolor": "#EBF0F8",
            "showbackground": true,
            "ticks": "",
            "zerolinecolor": "#EBF0F8"
           }
          },
          "shapedefaults": {
           "line": {
            "color": "#2a3f5f"
           }
          },
          "ternary": {
           "aaxis": {
            "gridcolor": "#DFE8F3",
            "linecolor": "#A2B1C6",
            "ticks": ""
           },
           "baxis": {
            "gridcolor": "#DFE8F3",
            "linecolor": "#A2B1C6",
            "ticks": ""
           },
           "bgcolor": "white",
           "caxis": {
            "gridcolor": "#DFE8F3",
            "linecolor": "#A2B1C6",
            "ticks": ""
           }
          },
          "title": {
           "x": 0.05
          },
          "xaxis": {
           "automargin": true,
           "gridcolor": "#EBF0F8",
           "linecolor": "#EBF0F8",
           "ticks": "",
           "title": {
            "standoff": 15
           },
           "zerolinecolor": "#EBF0F8",
           "zerolinewidth": 2
          },
          "yaxis": {
           "automargin": true,
           "gridcolor": "#EBF0F8",
           "linecolor": "#EBF0F8",
           "ticks": "",
           "title": {
            "standoff": 15
           },
           "zerolinecolor": "#EBF0F8",
           "zerolinewidth": 2
          }
         }
        },
        "title": {
         "font": {
          "color": "Black",
          "size": 22
         },
         "text": "Title Clusters in True News",
         "x": 0.5,
         "xanchor": "center",
         "yanchor": "top"
        },
        "width": 800,
        "xaxis": {
         "anchor": "y",
         "domain": [
          0,
          0.175
         ],
         "showgrid": true
        },
        "xaxis10": {
         "anchor": "y10",
         "domain": [
          0.275,
          0.45
         ],
         "showgrid": true
        },
        "xaxis11": {
         "anchor": "y11",
         "domain": [
          0.55,
          0.7250000000000001
         ],
         "showgrid": true
        },
        "xaxis12": {
         "anchor": "y12",
         "domain": [
          0.825,
          1
         ],
         "showgrid": true
        },
        "xaxis13": {
         "anchor": "y13",
         "domain": [
          0,
          0.175
         ],
         "showgrid": true
        },
        "xaxis14": {
         "anchor": "y14",
         "domain": [
          0.275,
          0.45
         ],
         "showgrid": true
        },
        "xaxis15": {
         "anchor": "y15",
         "domain": [
          0.55,
          0.7250000000000001
         ],
         "showgrid": true
        },
        "xaxis16": {
         "anchor": "y16",
         "domain": [
          0.825,
          1
         ],
         "showgrid": true
        },
        "xaxis17": {
         "anchor": "y17",
         "domain": [
          0,
          0.175
         ],
         "showgrid": true
        },
        "xaxis18": {
         "anchor": "y18",
         "domain": [
          0.275,
          0.45
         ],
         "showgrid": true
        },
        "xaxis19": {
         "anchor": "y19",
         "domain": [
          0.55,
          0.7250000000000001
         ],
         "showgrid": true
        },
        "xaxis2": {
         "anchor": "y2",
         "domain": [
          0.275,
          0.45
         ],
         "showgrid": true
        },
        "xaxis20": {
         "anchor": "y20",
         "domain": [
          0.825,
          1
         ],
         "showgrid": true
        },
        "xaxis21": {
         "anchor": "y21",
         "domain": [
          0,
          0.175
         ],
         "showgrid": true
        },
        "xaxis22": {
         "anchor": "y22",
         "domain": [
          0.275,
          0.45
         ],
         "showgrid": true
        },
        "xaxis23": {
         "anchor": "y23",
         "domain": [
          0.55,
          0.7250000000000001
         ],
         "showgrid": true
        },
        "xaxis24": {
         "anchor": "y24",
         "domain": [
          0.825,
          1
         ],
         "showgrid": true
        },
        "xaxis3": {
         "anchor": "y3",
         "domain": [
          0.55,
          0.7250000000000001
         ],
         "showgrid": true
        },
        "xaxis4": {
         "anchor": "y4",
         "domain": [
          0.825,
          1
         ],
         "showgrid": true
        },
        "xaxis5": {
         "anchor": "y5",
         "domain": [
          0,
          0.175
         ],
         "showgrid": true
        },
        "xaxis6": {
         "anchor": "y6",
         "domain": [
          0.275,
          0.45
         ],
         "showgrid": true
        },
        "xaxis7": {
         "anchor": "y7",
         "domain": [
          0.55,
          0.7250000000000001
         ],
         "showgrid": true
        },
        "xaxis8": {
         "anchor": "y8",
         "domain": [
          0.825,
          1
         ],
         "showgrid": true
        },
        "xaxis9": {
         "anchor": "y9",
         "domain": [
          0,
          0.175
         ],
         "showgrid": true
        },
        "yaxis": {
         "anchor": "x",
         "domain": [
          0.8888888888888888,
          1
         ],
         "showgrid": true
        },
        "yaxis10": {
         "anchor": "x10",
         "domain": [
          0.5333333333333334,
          0.6444444444444446
         ],
         "showgrid": true
        },
        "yaxis11": {
         "anchor": "x11",
         "domain": [
          0.5333333333333334,
          0.6444444444444446
         ],
         "showgrid": true
        },
        "yaxis12": {
         "anchor": "x12",
         "domain": [
          0.5333333333333334,
          0.6444444444444446
         ],
         "showgrid": true
        },
        "yaxis13": {
         "anchor": "x13",
         "domain": [
          0.35555555555555557,
          0.4666666666666667
         ],
         "showgrid": true
        },
        "yaxis14": {
         "anchor": "x14",
         "domain": [
          0.35555555555555557,
          0.4666666666666667
         ],
         "showgrid": true
        },
        "yaxis15": {
         "anchor": "x15",
         "domain": [
          0.35555555555555557,
          0.4666666666666667
         ],
         "showgrid": true
        },
        "yaxis16": {
         "anchor": "x16",
         "domain": [
          0.35555555555555557,
          0.4666666666666667
         ],
         "showgrid": true
        },
        "yaxis17": {
         "anchor": "x17",
         "domain": [
          0.17777777777777778,
          0.2888888888888889
         ],
         "showgrid": true
        },
        "yaxis18": {
         "anchor": "x18",
         "domain": [
          0.17777777777777778,
          0.2888888888888889
         ],
         "showgrid": true
        },
        "yaxis19": {
         "anchor": "x19",
         "domain": [
          0.17777777777777778,
          0.2888888888888889
         ],
         "showgrid": true
        },
        "yaxis2": {
         "anchor": "x2",
         "domain": [
          0.8888888888888888,
          1
         ],
         "showgrid": true
        },
        "yaxis20": {
         "anchor": "x20",
         "domain": [
          0.17777777777777778,
          0.2888888888888889
         ],
         "showgrid": true
        },
        "yaxis21": {
         "anchor": "x21",
         "domain": [
          0,
          0.11111111111111112
         ],
         "showgrid": true
        },
        "yaxis22": {
         "anchor": "x22",
         "domain": [
          0,
          0.11111111111111112
         ],
         "showgrid": true
        },
        "yaxis23": {
         "anchor": "x23",
         "domain": [
          0,
          0.11111111111111112
         ],
         "showgrid": true
        },
        "yaxis24": {
         "anchor": "x24",
         "domain": [
          0,
          0.11111111111111112
         ],
         "showgrid": true
        },
        "yaxis3": {
         "anchor": "x3",
         "domain": [
          0.8888888888888888,
          1
         ],
         "showgrid": true
        },
        "yaxis4": {
         "anchor": "x4",
         "domain": [
          0.8888888888888888,
          1
         ],
         "showgrid": true
        },
        "yaxis5": {
         "anchor": "x5",
         "domain": [
          0.7111111111111111,
          0.8222222222222223
         ],
         "showgrid": true
        },
        "yaxis6": {
         "anchor": "x6",
         "domain": [
          0.7111111111111111,
          0.8222222222222223
         ],
         "showgrid": true
        },
        "yaxis7": {
         "anchor": "x7",
         "domain": [
          0.7111111111111111,
          0.8222222222222223
         ],
         "showgrid": true
        },
        "yaxis8": {
         "anchor": "x8",
         "domain": [
          0.7111111111111111,
          0.8222222222222223
         ],
         "showgrid": true
        },
        "yaxis9": {
         "anchor": "x9",
         "domain": [
          0.5333333333333334,
          0.6444444444444446
         ],
         "showgrid": true
        }
       }
      },
      "text/html": [
       "<div>                            <div id=\"1c4a5815-2617-474a-b087-fcc99b960081\" class=\"plotly-graph-div\" style=\"height:1200px; width:800px;\"></div>            <script type=\"text/javascript\">                require([\"plotly\"], function(Plotly) {                    window.PLOTLYENV=window.PLOTLYENV || {};                                    if (document.getElementById(\"1c4a5815-2617-474a-b087-fcc99b960081\")) {                    Plotly.newPlot(                        \"1c4a5815-2617-474a-b087-fcc99b960081\",                        [{\"marker\":{\"color\":\"#D55E00\"},\"orientation\":\"h\",\"x\":[0.016840831307604876,0.018992713677181527,0.019700069520787723,0.020843862057463674,0.02103199201279039,0.027996163819635517,0.03478232597124518,0.037282796170761495,0.04114364214562487,0.04368276285044234],\"y\":[\"poll  \",\"election  \",\"elections  \",\"polls  \",\"electoral  \",\"machines  \",\"voter  \",\"voting  \",\"rigged  \",\"fraud  \"],\"type\":\"bar\",\"xaxis\":\"x\",\"yaxis\":\"y\"},{\"marker\":{\"color\":\"#0072B2\"},\"orientation\":\"h\",\"x\":[0.01618771142929921,0.016746937011919105,0.017445745786025535,0.017846438697159583,0.01854580840891091,0.02207563666731719,0.022254970090693094,0.029285437122985983,0.029353250298062735,0.04327384626507684],\"y\":[\"islam  \",\"jungle  \",\"calais  \",\"migrants  \",\"refugees  \",\"germany  \",\"refugee  \",\"muslims  \",\"migrant  \",\"muslim  \"],\"type\":\"bar\",\"xaxis\":\"x2\",\"yaxis\":\"y2\"},{\"marker\":{\"color\":\"#CC79A7\"},\"orientation\":\"h\",\"x\":[0.013208061275532486,0.013702754840096618,0.01580505230280107,0.01683958371189619,0.021638233620412797,0.023995530567882176,0.028822445239432445,0.030678141935622367,0.0373687906944375,0.05866674787478479],\"y\":[\"saakashvili  \",\"relations  \",\"west  \",\"now  \",\"kiev  \",\"vladimir  \",\"ukraine  \",\"russian  \",\"russia  \",\"putin  \"],\"type\":\"bar\",\"xaxis\":\"x3\",\"yaxis\":\"y3\"},{\"marker\":{\"color\":\"#E69F00\"},\"orientation\":\"h\",\"x\":[0.011112806575197013,0.011371637592270546,0.011414496310712391,0.013561768526496355,0.0164940422890393,0.016693694080296598,0.0182480395766898,0.02498220518038802,0.030460256525225958,0.030994416326932558],\"y\":[\"nominee  \",\"be  \",\"secretary  \",\"campaign  \",\"she  \",\"rally  \",\"clinton  \",\"her  \",\"hillary  \",\"michelle  \"],\"type\":\"bar\",\"xaxis\":\"x4\",\"yaxis\":\"y4\"},{\"marker\":{\"color\":\"#56B4E9\"},\"orientation\":\"h\",\"x\":[0.013057195531742005,0.0137733664170387,0.013822773250624294,0.01423091418195507,0.014318622061278976,0.016364139498604543,0.02882458639663734,0.029908448386403837,0.030667440003141387,0.03214708434668183],\"y\":[\"unpredictability  \",\"why  \",\"will  \",\"win  \",\"establishment  \",\"elect  \",\"donald  \",\"president  \",\"victory  \",\"trump  \"],\"type\":\"bar\",\"xaxis\":\"x5\",\"yaxis\":\"y5\"},{\"marker\":{\"color\":\"#009E73\"},\"orientation\":\"h\",\"x\":[0.02778451649688269,0.03041873027568982,0.03041873027568982,0.0354359172905512,0.04017007931158167,0.05103672046667126,0.07153761686095261,0.08593039433171908,0.08593039433171908,0.08593039433171908],\"y\":[\"\\u0437\\u0430  \",\"\\u043b\\u0438  \",\"\\u043f\\u0443\\u0442\\u0438\\u043d  \",\"\\u0440\\u043e\\u0441\\u0441\\u0438\\u0438  \",\"\\u0441\\u0448\\u0430  \",\"\\u043d\\u0435  \",\"\\u043d\\u0430  \",\"\\u043d\\u043e\\u0432\\u043e\\u0435  \",\"\\u0432\\u043e\\u0441\\u0442\\u043e\\u0447\\u043d\\u043e\\u0435  \",\"\\u043e\\u0431\\u043e\\u0437\\u0440\\u0435\\u043d\\u0438\\u0435  \"],\"type\":\"bar\",\"xaxis\":\"x6\",\"yaxis\":\"y6\"},{\"marker\":{\"color\":\"#F0E442\"},\"orientation\":\"h\",\"x\":[0.037372735587545336,0.04020098417775651,0.040265974721950586,0.04046926579188533,0.04568486744956496,0.050941317923473305,0.06569366546089579,0.0657705746630331,0.08564945628224307,0.114465665089449],\"y\":[\"para  \",\"por  \",\"se  \",\"un  \",\"los  \",\"que  \",\"el  \",\"en  \",\"la  \",\"de  \"],\"type\":\"bar\",\"xaxis\":\"x7\",\"yaxis\":\"y7\"},{\"marker\":{\"color\":\"#D55E00\"},\"orientation\":\"h\",\"x\":[0.02043996169125529,0.02113895215602793,0.021464828849794258,0.02252034338889454,0.024531232971193438,0.026447293777781385,0.02686598993031126,0.027594903458047007,0.035085850017788855,0.04063380037383193],\"y\":[\"naturally  \",\"remedies  \",\"boost  \",\"recipe  \",\"fat  \",\"herbs  \",\"your  \",\"body  \",\"foods  \",\"health  \"],\"type\":\"bar\",\"xaxis\":\"x8\",\"yaxis\":\"y8\"},{\"marker\":{\"color\":\"#0072B2\"},\"orientation\":\"h\",\"x\":[0.015815551195839366,0.01835110415216267,0.01939453570204983,0.02131101413528734,0.02253821557735046,0.023318981190722638,0.024260890008992987,0.028624483297185047,0.034097622616459745,0.054644412982865424],\"y\":[\"reserve  \",\"stocks  \",\"collapse  \",\"market  \",\"debt  \",\"stock  \",\"financial  \",\"day  \",\"markets  \",\"chart  \"],\"type\":\"bar\",\"xaxis\":\"x9\",\"yaxis\":\"y9\"},{\"marker\":{\"color\":\"#CC79A7\"},\"orientation\":\"h\",\"x\":[0.02201578005680579,0.023981616101039743,0.025854747987390465,0.025945831462178603,0.026417010928388183,0.026417010928388183,0.028306002930178875,0.03813568848596195,0.038989134183035255,0.05834000769035819],\"y\":[\"unknown  \",\"dna  \",\"ufos  \",\"scientists  \",\"space  \",\"alien  \",\"extraterrestrials  \",\"nasa  \",\"aliens  \",\"ufo  \"],\"type\":\"bar\",\"xaxis\":\"x10\",\"yaxis\":\"y10\"},{\"marker\":{\"color\":\"#E69F00\"},\"orientation\":\"h\",\"x\":[0.016236002087145745,0.016612047771168825,0.017703703373154547,0.01925694993210324,0.021515877771843963,0.02408790942323139,0.026339778763176194,0.02966837040399218,0.03207715663162159,0.07126942016712672],\"y\":[\"chaos  \",\"stake  \",\"ending  \",\"open  \",\"presidential  \",\"elections  \",\"thread  \",\"day  \",\"2016  \",\"election  \"],\"type\":\"bar\",\"xaxis\":\"x11\",\"yaxis\":\"y11\"},{\"marker\":{\"color\":\"#56B4E9\"},\"orientation\":\"h\",\"x\":[0.02755058831407753,0.02917311043255019,0.02917311043255019,0.029737714586386903,0.030010639214291788,0.03171677565131805,0.031942621000162465,0.034549820654905694,0.038835910730717516,0.038835910730717516],\"y\":[\"auf  \",\"sie  \",\"sich  \",\"de  \",\"von  \",\"la  \",\"die  \",\"zu  \",\"thierry  \",\"meyssan  \"],\"type\":\"bar\",\"xaxis\":\"x12\",\"yaxis\":\"y12\"},{\"marker\":{\"color\":\"#009E73\"},\"orientation\":\"h\",\"x\":[0.02500552322790016,0.02757755421565171,0.028725707576135014,0.031138219985615653,0.03148638664466003,0.034549820654905694,0.041085707444320045,0.04207419599520518,0.05346745915140491,0.11638573756389463],\"y\":[\"troop  \",\"since  \",\"border  \",\"nuclear  \",\"buildup  \",\"drills  \",\"war  \",\"cold  \",\"russia  \",\"nato  \"],\"type\":\"bar\",\"xaxis\":\"x13\",\"yaxis\":\"y13\"},{\"marker\":{\"color\":\"#F0E442\"},\"orientation\":\"h\",\"x\":[0.022344063608075386,0.023975232015929847,0.024359372175370788,0.025881217245587763,0.027302445771450932,0.027795833488189106,0.049582100341543034,0.06862321630406355,0.07971515744318496,0.147794440747687],\"y\":[\"executes  \",\"killed  \",\"forces  \",\"daesh  \",\"troops  \",\"civilians  \",\"iraq  \",\"iraqi  \",\"isis  \",\"mosul  \"],\"type\":\"bar\",\"xaxis\":\"x14\",\"yaxis\":\"y14\"},{\"marker\":{\"color\":\"#D55E00\"},\"orientation\":\"h\",\"x\":[0.012706333969515463,0.01291944775191302,0.013292643727290594,0.013802038140278899,0.013937232621220578,0.026737136122986515,0.02806175542950142,0.030691814901401222,0.031216449969965532,0.09050003406405716],\"y\":[\"breaking  \",\"did  \",\"president  \",\"erase  \",\"writers  \",\"legacy  \",\"white  \",\"pardon  \",\"house  \",\"obama  \"],\"type\":\"bar\",\"xaxis\":\"x15\",\"yaxis\":\"y15\"},{\"marker\":{\"color\":\"#0072B2\"},\"orientation\":\"h\",\"x\":[0.014915523393622225,0.017983036714045348,0.018814120390952833,0.019752834023092306,0.022478795892556688,0.029473872267655465,0.03160453443694769,0.03206248074125125,0.08722439898616631,0.15557355899167735],\"y\":[\"bullion  \",\"fought  \",\"currencies  \",\"prices  \",\"hoarding  \",\"dollar  \",\"currency  \",\"market  \",\"silver  \",\"gold  \"],\"type\":\"bar\",\"xaxis\":\"x16\",\"yaxis\":\"y16\"},{\"marker\":{\"color\":\"#CC79A7\"},\"orientation\":\"h\",\"x\":[0.018596027131882097,0.019710137163404858,0.022014681909275458,0.02247640276701375,0.022525871043891265,0.02918470121627785,0.04830385208936484,0.11176082906313405,0.1419619675952122,0.1424552051758826],\"y\":[\"spills  \",\"protest  \",\"police  \",\"sioux  \",\"north  \",\"protests  \",\"protesters  \",\"access  \",\"dakota  \",\"pipeline  \"],\"type\":\"bar\",\"xaxis\":\"x17\",\"yaxis\":\"y17\"},{\"marker\":{\"color\":\"#E69F00\"},\"orientation\":\"h\",\"x\":[0.017590130729560147,0.01993031995282871,0.0208515176235478,0.021470771861330205,0.02358818606216372,0.025196244418564172,0.026088546978458006,0.027519550405857674,0.04148053243762061,0.06771249352629001],\"y\":[\"investigation  \",\"director  \",\"probe  \",\"clinton  \",\"sources  \",\"likely  \",\"hillary  \",\"indicted  \",\"indictment  \",\"fbi  \"],\"type\":\"bar\",\"xaxis\":\"x18\",\"yaxis\":\"y18\"},{\"marker\":{\"color\":\"#56B4E9\"},\"orientation\":\"h\",\"x\":[0.019969797354229275,0.027512927059150438,0.028674430804755704,0.029005702949545964,0.030164945282249046,0.030458822587717004,0.03188711919719591,0.035439375670409404,0.037472017599183546,0.09979912678988384],\"y\":[\"corrupt  \",\"chelsea  \",\"memo  \",\"money  \",\"bill  \",\"inc  \",\"corruption  \",\"paid  \",\"clinton  \",\"foundation  \"],\"type\":\"bar\",\"xaxis\":\"x19\",\"yaxis\":\"y19\"},{\"marker\":{\"color\":\"#009E73\"},\"orientation\":\"h\",\"x\":[0.01677076758753194,0.017535068469464767,0.021666485602739635,0.022622466631615934,0.022978072083779947,0.024494070664513215,0.025702815335612764,0.02771038491604789,0.038296786806299915,0.0819596885890797],\"y\":[\"senator  \",\"suppression  \",\"african  \",\"stupid  \",\"racist  \",\"voters  \",\"msnbc  \",\"thug  \",\"blacks  \",\"black  \"],\"type\":\"bar\",\"xaxis\":\"x20\",\"yaxis\":\"y20\"},{\"marker\":{\"color\":\"#F0E442\"},\"orientation\":\"h\",\"x\":[0.01701670247034058,0.017874794309056245,0.019254204652890253,0.019541199935955496,0.020444293921259654,0.020458323113718282,0.024480421291871453,0.03403340494068116,0.04623549284545079,0.07377987667315909],\"y\":[\"shot  \",\"arrested  \",\"officer  \",\"ambush  \",\"shooter  \",\"iowa  \",\"officers  \",\"cops  \",\"police  \",\"cop  \"],\"type\":\"bar\",\"xaxis\":\"x21\",\"yaxis\":\"y21\"},{\"marker\":{\"color\":\"#D55E00\"},\"orientation\":\"h\",\"x\":[0.019334047882476592,0.019334047882476592,0.020436951076608346,0.020436951076608346,0.02165194968495259,0.02224904084519012,0.02765495498010942,0.027919412975263517,0.0289296294653182,0.04330389936990518],\"y\":[\"physicists  \",\"quantum  \",\"zen  \",\"responsibility  \",\"soul  \",\"meditation  \",\"mind  \",\"life  \",\"your  \",\"consciousness  \"],\"type\":\"bar\",\"xaxis\":\"x22\",\"yaxis\":\"y22\"},{\"marker\":{\"color\":\"#0072B2\"},\"orientation\":\"h\",\"x\":[0.024022452552847545,0.027940590908367972,0.028896082260067416,0.03009435249038333,0.03352870909004157,0.035209850832557246,0.03911682727171516,0.04430698091029349,0.047339285124023404,0.16141874794451258],\"y\":[\"larger  \",\"gruber  \",\"mandate  \",\"fail  \",\"healthcare  \",\"penalty  \",\"premiums  \",\"designed  \",\"architect  \",\"obamacare  \"],\"type\":\"bar\",\"xaxis\":\"x23\",\"yaxis\":\"y23\"}],                        {\"template\":{\"data\":{\"barpolar\":[{\"marker\":{\"line\":{\"color\":\"white\",\"width\":0.5},\"pattern\":{\"fillmode\":\"overlay\",\"size\":10,\"solidity\":0.2}},\"type\":\"barpolar\"}],\"bar\":[{\"error_x\":{\"color\":\"#2a3f5f\"},\"error_y\":{\"color\":\"#2a3f5f\"},\"marker\":{\"line\":{\"color\":\"white\",\"width\":0.5},\"pattern\":{\"fillmode\":\"overlay\",\"size\":10,\"solidity\":0.2}},\"type\":\"bar\"}],\"carpet\":[{\"aaxis\":{\"endlinecolor\":\"#2a3f5f\",\"gridcolor\":\"#C8D4E3\",\"linecolor\":\"#C8D4E3\",\"minorgridcolor\":\"#C8D4E3\",\"startlinecolor\":\"#2a3f5f\"},\"baxis\":{\"endlinecolor\":\"#2a3f5f\",\"gridcolor\":\"#C8D4E3\",\"linecolor\":\"#C8D4E3\",\"minorgridcolor\":\"#C8D4E3\",\"startlinecolor\":\"#2a3f5f\"},\"type\":\"carpet\"}],\"choropleth\":[{\"colorbar\":{\"outlinewidth\":0,\"ticks\":\"\"},\"type\":\"choropleth\"}],\"contourcarpet\":[{\"colorbar\":{\"outlinewidth\":0,\"ticks\":\"\"},\"type\":\"contourcarpet\"}],\"contour\":[{\"colorbar\":{\"outlinewidth\":0,\"ticks\":\"\"},\"colorscale\":[[0.0,\"#0d0887\"],[0.1111111111111111,\"#46039f\"],[0.2222222222222222,\"#7201a8\"],[0.3333333333333333,\"#9c179e\"],[0.4444444444444444,\"#bd3786\"],[0.5555555555555556,\"#d8576b\"],[0.6666666666666666,\"#ed7953\"],[0.7777777777777778,\"#fb9f3a\"],[0.8888888888888888,\"#fdca26\"],[1.0,\"#f0f921\"]],\"type\":\"contour\"}],\"heatmapgl\":[{\"colorbar\":{\"outlinewidth\":0,\"ticks\":\"\"},\"colorscale\":[[0.0,\"#0d0887\"],[0.1111111111111111,\"#46039f\"],[0.2222222222222222,\"#7201a8\"],[0.3333333333333333,\"#9c179e\"],[0.4444444444444444,\"#bd3786\"],[0.5555555555555556,\"#d8576b\"],[0.6666666666666666,\"#ed7953\"],[0.7777777777777778,\"#fb9f3a\"],[0.8888888888888888,\"#fdca26\"],[1.0,\"#f0f921\"]],\"type\":\"heatmapgl\"}],\"heatmap\":[{\"colorbar\":{\"outlinewidth\":0,\"ticks\":\"\"},\"colorscale\":[[0.0,\"#0d0887\"],[0.1111111111111111,\"#46039f\"],[0.2222222222222222,\"#7201a8\"],[0.3333333333333333,\"#9c179e\"],[0.4444444444444444,\"#bd3786\"],[0.5555555555555556,\"#d8576b\"],[0.6666666666666666,\"#ed7953\"],[0.7777777777777778,\"#fb9f3a\"],[0.8888888888888888,\"#fdca26\"],[1.0,\"#f0f921\"]],\"type\":\"heatmap\"}],\"histogram2dcontour\":[{\"colorbar\":{\"outlinewidth\":0,\"ticks\":\"\"},\"colorscale\":[[0.0,\"#0d0887\"],[0.1111111111111111,\"#46039f\"],[0.2222222222222222,\"#7201a8\"],[0.3333333333333333,\"#9c179e\"],[0.4444444444444444,\"#bd3786\"],[0.5555555555555556,\"#d8576b\"],[0.6666666666666666,\"#ed7953\"],[0.7777777777777778,\"#fb9f3a\"],[0.8888888888888888,\"#fdca26\"],[1.0,\"#f0f921\"]],\"type\":\"histogram2dcontour\"}],\"histogram2d\":[{\"colorbar\":{\"outlinewidth\":0,\"ticks\":\"\"},\"colorscale\":[[0.0,\"#0d0887\"],[0.1111111111111111,\"#46039f\"],[0.2222222222222222,\"#7201a8\"],[0.3333333333333333,\"#9c179e\"],[0.4444444444444444,\"#bd3786\"],[0.5555555555555556,\"#d8576b\"],[0.6666666666666666,\"#ed7953\"],[0.7777777777777778,\"#fb9f3a\"],[0.8888888888888888,\"#fdca26\"],[1.0,\"#f0f921\"]],\"type\":\"histogram2d\"}],\"histogram\":[{\"marker\":{\"pattern\":{\"fillmode\":\"overlay\",\"size\":10,\"solidity\":0.2}},\"type\":\"histogram\"}],\"mesh3d\":[{\"colorbar\":{\"outlinewidth\":0,\"ticks\":\"\"},\"type\":\"mesh3d\"}],\"parcoords\":[{\"line\":{\"colorbar\":{\"outlinewidth\":0,\"ticks\":\"\"}},\"type\":\"parcoords\"}],\"pie\":[{\"automargin\":true,\"type\":\"pie\"}],\"scatter3d\":[{\"line\":{\"colorbar\":{\"outlinewidth\":0,\"ticks\":\"\"}},\"marker\":{\"colorbar\":{\"outlinewidth\":0,\"ticks\":\"\"}},\"type\":\"scatter3d\"}],\"scattercarpet\":[{\"marker\":{\"colorbar\":{\"outlinewidth\":0,\"ticks\":\"\"}},\"type\":\"scattercarpet\"}],\"scattergeo\":[{\"marker\":{\"colorbar\":{\"outlinewidth\":0,\"ticks\":\"\"}},\"type\":\"scattergeo\"}],\"scattergl\":[{\"marker\":{\"colorbar\":{\"outlinewidth\":0,\"ticks\":\"\"}},\"type\":\"scattergl\"}],\"scattermapbox\":[{\"marker\":{\"colorbar\":{\"outlinewidth\":0,\"ticks\":\"\"}},\"type\":\"scattermapbox\"}],\"scatterpolargl\":[{\"marker\":{\"colorbar\":{\"outlinewidth\":0,\"ticks\":\"\"}},\"type\":\"scatterpolargl\"}],\"scatterpolar\":[{\"marker\":{\"colorbar\":{\"outlinewidth\":0,\"ticks\":\"\"}},\"type\":\"scatterpolar\"}],\"scatter\":[{\"fillpattern\":{\"fillmode\":\"overlay\",\"size\":10,\"solidity\":0.2},\"type\":\"scatter\"}],\"scatterternary\":[{\"marker\":{\"colorbar\":{\"outlinewidth\":0,\"ticks\":\"\"}},\"type\":\"scatterternary\"}],\"surface\":[{\"colorbar\":{\"outlinewidth\":0,\"ticks\":\"\"},\"colorscale\":[[0.0,\"#0d0887\"],[0.1111111111111111,\"#46039f\"],[0.2222222222222222,\"#7201a8\"],[0.3333333333333333,\"#9c179e\"],[0.4444444444444444,\"#bd3786\"],[0.5555555555555556,\"#d8576b\"],[0.6666666666666666,\"#ed7953\"],[0.7777777777777778,\"#fb9f3a\"],[0.8888888888888888,\"#fdca26\"],[1.0,\"#f0f921\"]],\"type\":\"surface\"}],\"table\":[{\"cells\":{\"fill\":{\"color\":\"#EBF0F8\"},\"line\":{\"color\":\"white\"}},\"header\":{\"fill\":{\"color\":\"#C8D4E3\"},\"line\":{\"color\":\"white\"}},\"type\":\"table\"}]},\"layout\":{\"annotationdefaults\":{\"arrowcolor\":\"#2a3f5f\",\"arrowhead\":0,\"arrowwidth\":1},\"autotypenumbers\":\"strict\",\"coloraxis\":{\"colorbar\":{\"outlinewidth\":0,\"ticks\":\"\"}},\"colorscale\":{\"diverging\":[[0,\"#8e0152\"],[0.1,\"#c51b7d\"],[0.2,\"#de77ae\"],[0.3,\"#f1b6da\"],[0.4,\"#fde0ef\"],[0.5,\"#f7f7f7\"],[0.6,\"#e6f5d0\"],[0.7,\"#b8e186\"],[0.8,\"#7fbc41\"],[0.9,\"#4d9221\"],[1,\"#276419\"]],\"sequential\":[[0.0,\"#0d0887\"],[0.1111111111111111,\"#46039f\"],[0.2222222222222222,\"#7201a8\"],[0.3333333333333333,\"#9c179e\"],[0.4444444444444444,\"#bd3786\"],[0.5555555555555556,\"#d8576b\"],[0.6666666666666666,\"#ed7953\"],[0.7777777777777778,\"#fb9f3a\"],[0.8888888888888888,\"#fdca26\"],[1.0,\"#f0f921\"]],\"sequentialminus\":[[0.0,\"#0d0887\"],[0.1111111111111111,\"#46039f\"],[0.2222222222222222,\"#7201a8\"],[0.3333333333333333,\"#9c179e\"],[0.4444444444444444,\"#bd3786\"],[0.5555555555555556,\"#d8576b\"],[0.6666666666666666,\"#ed7953\"],[0.7777777777777778,\"#fb9f3a\"],[0.8888888888888888,\"#fdca26\"],[1.0,\"#f0f921\"]]},\"colorway\":[\"#636efa\",\"#EF553B\",\"#00cc96\",\"#ab63fa\",\"#FFA15A\",\"#19d3f3\",\"#FF6692\",\"#B6E880\",\"#FF97FF\",\"#FECB52\"],\"font\":{\"color\":\"#2a3f5f\"},\"geo\":{\"bgcolor\":\"white\",\"lakecolor\":\"white\",\"landcolor\":\"white\",\"showlakes\":true,\"showland\":true,\"subunitcolor\":\"#C8D4E3\"},\"hoverlabel\":{\"align\":\"left\"},\"hovermode\":\"closest\",\"mapbox\":{\"style\":\"light\"},\"paper_bgcolor\":\"white\",\"plot_bgcolor\":\"white\",\"polar\":{\"angularaxis\":{\"gridcolor\":\"#EBF0F8\",\"linecolor\":\"#EBF0F8\",\"ticks\":\"\"},\"bgcolor\":\"white\",\"radialaxis\":{\"gridcolor\":\"#EBF0F8\",\"linecolor\":\"#EBF0F8\",\"ticks\":\"\"}},\"scene\":{\"xaxis\":{\"backgroundcolor\":\"white\",\"gridcolor\":\"#DFE8F3\",\"gridwidth\":2,\"linecolor\":\"#EBF0F8\",\"showbackground\":true,\"ticks\":\"\",\"zerolinecolor\":\"#EBF0F8\"},\"yaxis\":{\"backgroundcolor\":\"white\",\"gridcolor\":\"#DFE8F3\",\"gridwidth\":2,\"linecolor\":\"#EBF0F8\",\"showbackground\":true,\"ticks\":\"\",\"zerolinecolor\":\"#EBF0F8\"},\"zaxis\":{\"backgroundcolor\":\"white\",\"gridcolor\":\"#DFE8F3\",\"gridwidth\":2,\"linecolor\":\"#EBF0F8\",\"showbackground\":true,\"ticks\":\"\",\"zerolinecolor\":\"#EBF0F8\"}},\"shapedefaults\":{\"line\":{\"color\":\"#2a3f5f\"}},\"ternary\":{\"aaxis\":{\"gridcolor\":\"#DFE8F3\",\"linecolor\":\"#A2B1C6\",\"ticks\":\"\"},\"baxis\":{\"gridcolor\":\"#DFE8F3\",\"linecolor\":\"#A2B1C6\",\"ticks\":\"\"},\"bgcolor\":\"white\",\"caxis\":{\"gridcolor\":\"#DFE8F3\",\"linecolor\":\"#A2B1C6\",\"ticks\":\"\"}},\"title\":{\"x\":0.05},\"xaxis\":{\"automargin\":true,\"gridcolor\":\"#EBF0F8\",\"linecolor\":\"#EBF0F8\",\"ticks\":\"\",\"title\":{\"standoff\":15},\"zerolinecolor\":\"#EBF0F8\",\"zerolinewidth\":2},\"yaxis\":{\"automargin\":true,\"gridcolor\":\"#EBF0F8\",\"linecolor\":\"#EBF0F8\",\"ticks\":\"\",\"title\":{\"standoff\":15},\"zerolinecolor\":\"#EBF0F8\",\"zerolinewidth\":2}}},\"xaxis\":{\"anchor\":\"y\",\"domain\":[0.0,0.175],\"showgrid\":true},\"yaxis\":{\"anchor\":\"x\",\"domain\":[0.8888888888888888,1.0],\"showgrid\":true},\"xaxis2\":{\"anchor\":\"y2\",\"domain\":[0.275,0.45],\"showgrid\":true},\"yaxis2\":{\"anchor\":\"x2\",\"domain\":[0.8888888888888888,1.0],\"showgrid\":true},\"xaxis3\":{\"anchor\":\"y3\",\"domain\":[0.55,0.7250000000000001],\"showgrid\":true},\"yaxis3\":{\"anchor\":\"x3\",\"domain\":[0.8888888888888888,1.0],\"showgrid\":true},\"xaxis4\":{\"anchor\":\"y4\",\"domain\":[0.825,1.0],\"showgrid\":true},\"yaxis4\":{\"anchor\":\"x4\",\"domain\":[0.8888888888888888,1.0],\"showgrid\":true},\"xaxis5\":{\"anchor\":\"y5\",\"domain\":[0.0,0.175],\"showgrid\":true},\"yaxis5\":{\"anchor\":\"x5\",\"domain\":[0.7111111111111111,0.8222222222222223],\"showgrid\":true},\"xaxis6\":{\"anchor\":\"y6\",\"domain\":[0.275,0.45],\"showgrid\":true},\"yaxis6\":{\"anchor\":\"x6\",\"domain\":[0.7111111111111111,0.8222222222222223],\"showgrid\":true},\"xaxis7\":{\"anchor\":\"y7\",\"domain\":[0.55,0.7250000000000001],\"showgrid\":true},\"yaxis7\":{\"anchor\":\"x7\",\"domain\":[0.7111111111111111,0.8222222222222223],\"showgrid\":true},\"xaxis8\":{\"anchor\":\"y8\",\"domain\":[0.825,1.0],\"showgrid\":true},\"yaxis8\":{\"anchor\":\"x8\",\"domain\":[0.7111111111111111,0.8222222222222223],\"showgrid\":true},\"xaxis9\":{\"anchor\":\"y9\",\"domain\":[0.0,0.175],\"showgrid\":true},\"yaxis9\":{\"anchor\":\"x9\",\"domain\":[0.5333333333333334,0.6444444444444446],\"showgrid\":true},\"xaxis10\":{\"anchor\":\"y10\",\"domain\":[0.275,0.45],\"showgrid\":true},\"yaxis10\":{\"anchor\":\"x10\",\"domain\":[0.5333333333333334,0.6444444444444446],\"showgrid\":true},\"xaxis11\":{\"anchor\":\"y11\",\"domain\":[0.55,0.7250000000000001],\"showgrid\":true},\"yaxis11\":{\"anchor\":\"x11\",\"domain\":[0.5333333333333334,0.6444444444444446],\"showgrid\":true},\"xaxis12\":{\"anchor\":\"y12\",\"domain\":[0.825,1.0],\"showgrid\":true},\"yaxis12\":{\"anchor\":\"x12\",\"domain\":[0.5333333333333334,0.6444444444444446],\"showgrid\":true},\"xaxis13\":{\"anchor\":\"y13\",\"domain\":[0.0,0.175],\"showgrid\":true},\"yaxis13\":{\"anchor\":\"x13\",\"domain\":[0.35555555555555557,0.4666666666666667],\"showgrid\":true},\"xaxis14\":{\"anchor\":\"y14\",\"domain\":[0.275,0.45],\"showgrid\":true},\"yaxis14\":{\"anchor\":\"x14\",\"domain\":[0.35555555555555557,0.4666666666666667],\"showgrid\":true},\"xaxis15\":{\"anchor\":\"y15\",\"domain\":[0.55,0.7250000000000001],\"showgrid\":true},\"yaxis15\":{\"anchor\":\"x15\",\"domain\":[0.35555555555555557,0.4666666666666667],\"showgrid\":true},\"xaxis16\":{\"anchor\":\"y16\",\"domain\":[0.825,1.0],\"showgrid\":true},\"yaxis16\":{\"anchor\":\"x16\",\"domain\":[0.35555555555555557,0.4666666666666667],\"showgrid\":true},\"xaxis17\":{\"anchor\":\"y17\",\"domain\":[0.0,0.175],\"showgrid\":true},\"yaxis17\":{\"anchor\":\"x17\",\"domain\":[0.17777777777777778,0.2888888888888889],\"showgrid\":true},\"xaxis18\":{\"anchor\":\"y18\",\"domain\":[0.275,0.45],\"showgrid\":true},\"yaxis18\":{\"anchor\":\"x18\",\"domain\":[0.17777777777777778,0.2888888888888889],\"showgrid\":true},\"xaxis19\":{\"anchor\":\"y19\",\"domain\":[0.55,0.7250000000000001],\"showgrid\":true},\"yaxis19\":{\"anchor\":\"x19\",\"domain\":[0.17777777777777778,0.2888888888888889],\"showgrid\":true},\"xaxis20\":{\"anchor\":\"y20\",\"domain\":[0.825,1.0],\"showgrid\":true},\"yaxis20\":{\"anchor\":\"x20\",\"domain\":[0.17777777777777778,0.2888888888888889],\"showgrid\":true},\"xaxis21\":{\"anchor\":\"y21\",\"domain\":[0.0,0.175],\"showgrid\":true},\"yaxis21\":{\"anchor\":\"x21\",\"domain\":[0.0,0.11111111111111112],\"showgrid\":true},\"xaxis22\":{\"anchor\":\"y22\",\"domain\":[0.275,0.45],\"showgrid\":true},\"yaxis22\":{\"anchor\":\"x22\",\"domain\":[0.0,0.11111111111111112],\"showgrid\":true},\"xaxis23\":{\"anchor\":\"y23\",\"domain\":[0.55,0.7250000000000001],\"showgrid\":true},\"yaxis23\":{\"anchor\":\"x23\",\"domain\":[0.0,0.11111111111111112],\"showgrid\":true},\"xaxis24\":{\"anchor\":\"y24\",\"domain\":[0.825,1.0],\"showgrid\":true},\"yaxis24\":{\"anchor\":\"x24\",\"domain\":[0.0,0.11111111111111112],\"showgrid\":true},\"annotations\":[{\"font\":{\"size\":16},\"showarrow\":false,\"text\":\"Topic 0\",\"x\":0.0875,\"xanchor\":\"center\",\"xref\":\"paper\",\"y\":1.0,\"yanchor\":\"bottom\",\"yref\":\"paper\"},{\"font\":{\"size\":16},\"showarrow\":false,\"text\":\"Topic 1\",\"x\":0.36250000000000004,\"xanchor\":\"center\",\"xref\":\"paper\",\"y\":1.0,\"yanchor\":\"bottom\",\"yref\":\"paper\"},{\"font\":{\"size\":16},\"showarrow\":false,\"text\":\"Topic 2\",\"x\":0.6375000000000001,\"xanchor\":\"center\",\"xref\":\"paper\",\"y\":1.0,\"yanchor\":\"bottom\",\"yref\":\"paper\"},{\"font\":{\"size\":16},\"showarrow\":false,\"text\":\"Topic 3\",\"x\":0.9125,\"xanchor\":\"center\",\"xref\":\"paper\",\"y\":1.0,\"yanchor\":\"bottom\",\"yref\":\"paper\"},{\"font\":{\"size\":16},\"showarrow\":false,\"text\":\"Topic 4\",\"x\":0.0875,\"xanchor\":\"center\",\"xref\":\"paper\",\"y\":0.8222222222222223,\"yanchor\":\"bottom\",\"yref\":\"paper\"},{\"font\":{\"size\":16},\"showarrow\":false,\"text\":\"Topic 5\",\"x\":0.36250000000000004,\"xanchor\":\"center\",\"xref\":\"paper\",\"y\":0.8222222222222223,\"yanchor\":\"bottom\",\"yref\":\"paper\"},{\"font\":{\"size\":16},\"showarrow\":false,\"text\":\"Topic 6\",\"x\":0.6375000000000001,\"xanchor\":\"center\",\"xref\":\"paper\",\"y\":0.8222222222222223,\"yanchor\":\"bottom\",\"yref\":\"paper\"},{\"font\":{\"size\":16},\"showarrow\":false,\"text\":\"Topic 7\",\"x\":0.9125,\"xanchor\":\"center\",\"xref\":\"paper\",\"y\":0.8222222222222223,\"yanchor\":\"bottom\",\"yref\":\"paper\"},{\"font\":{\"size\":16},\"showarrow\":false,\"text\":\"Topic 8\",\"x\":0.0875,\"xanchor\":\"center\",\"xref\":\"paper\",\"y\":0.6444444444444446,\"yanchor\":\"bottom\",\"yref\":\"paper\"},{\"font\":{\"size\":16},\"showarrow\":false,\"text\":\"Topic 9\",\"x\":0.36250000000000004,\"xanchor\":\"center\",\"xref\":\"paper\",\"y\":0.6444444444444446,\"yanchor\":\"bottom\",\"yref\":\"paper\"},{\"font\":{\"size\":16},\"showarrow\":false,\"text\":\"Topic 10\",\"x\":0.6375000000000001,\"xanchor\":\"center\",\"xref\":\"paper\",\"y\":0.6444444444444446,\"yanchor\":\"bottom\",\"yref\":\"paper\"},{\"font\":{\"size\":16},\"showarrow\":false,\"text\":\"Topic 11\",\"x\":0.9125,\"xanchor\":\"center\",\"xref\":\"paper\",\"y\":0.6444444444444446,\"yanchor\":\"bottom\",\"yref\":\"paper\"},{\"font\":{\"size\":16},\"showarrow\":false,\"text\":\"Topic 12\",\"x\":0.0875,\"xanchor\":\"center\",\"xref\":\"paper\",\"y\":0.4666666666666667,\"yanchor\":\"bottom\",\"yref\":\"paper\"},{\"font\":{\"size\":16},\"showarrow\":false,\"text\":\"Topic 13\",\"x\":0.36250000000000004,\"xanchor\":\"center\",\"xref\":\"paper\",\"y\":0.4666666666666667,\"yanchor\":\"bottom\",\"yref\":\"paper\"},{\"font\":{\"size\":16},\"showarrow\":false,\"text\":\"Topic 14\",\"x\":0.6375000000000001,\"xanchor\":\"center\",\"xref\":\"paper\",\"y\":0.4666666666666667,\"yanchor\":\"bottom\",\"yref\":\"paper\"},{\"font\":{\"size\":16},\"showarrow\":false,\"text\":\"Topic 15\",\"x\":0.9125,\"xanchor\":\"center\",\"xref\":\"paper\",\"y\":0.4666666666666667,\"yanchor\":\"bottom\",\"yref\":\"paper\"},{\"font\":{\"size\":16},\"showarrow\":false,\"text\":\"Topic 16\",\"x\":0.0875,\"xanchor\":\"center\",\"xref\":\"paper\",\"y\":0.2888888888888889,\"yanchor\":\"bottom\",\"yref\":\"paper\"},{\"font\":{\"size\":16},\"showarrow\":false,\"text\":\"Topic 17\",\"x\":0.36250000000000004,\"xanchor\":\"center\",\"xref\":\"paper\",\"y\":0.2888888888888889,\"yanchor\":\"bottom\",\"yref\":\"paper\"},{\"font\":{\"size\":16},\"showarrow\":false,\"text\":\"Topic 18\",\"x\":0.6375000000000001,\"xanchor\":\"center\",\"xref\":\"paper\",\"y\":0.2888888888888889,\"yanchor\":\"bottom\",\"yref\":\"paper\"},{\"font\":{\"size\":16},\"showarrow\":false,\"text\":\"Topic 19\",\"x\":0.9125,\"xanchor\":\"center\",\"xref\":\"paper\",\"y\":0.2888888888888889,\"yanchor\":\"bottom\",\"yref\":\"paper\"},{\"font\":{\"size\":16},\"showarrow\":false,\"text\":\"Topic 20\",\"x\":0.0875,\"xanchor\":\"center\",\"xref\":\"paper\",\"y\":0.11111111111111112,\"yanchor\":\"bottom\",\"yref\":\"paper\"},{\"font\":{\"size\":16},\"showarrow\":false,\"text\":\"Topic 21\",\"x\":0.36250000000000004,\"xanchor\":\"center\",\"xref\":\"paper\",\"y\":0.11111111111111112,\"yanchor\":\"bottom\",\"yref\":\"paper\"},{\"font\":{\"size\":16},\"showarrow\":false,\"text\":\"Topic 22\",\"x\":0.6375000000000001,\"xanchor\":\"center\",\"xref\":\"paper\",\"y\":0.11111111111111112,\"yanchor\":\"bottom\",\"yref\":\"paper\"}],\"title\":{\"font\":{\"size\":22,\"color\":\"Black\"},\"text\":\"Title Clusters in True News\",\"x\":0.5,\"xanchor\":\"center\",\"yanchor\":\"top\"},\"hoverlabel\":{\"font\":{\"size\":16,\"family\":\"Rockwell\"},\"bgcolor\":\"white\"},\"showlegend\":false,\"width\":800,\"height\":1200},                        {\"responsive\": true}                    ).then(function(){\n",
       "                            \n",
       "var gd = document.getElementById('1c4a5815-2617-474a-b087-fcc99b960081');\n",
       "var x = new MutationObserver(function (mutations, observer) {{\n",
       "        var display = window.getComputedStyle(gd).display;\n",
       "        if (!display || display === 'none') {{\n",
       "            console.log([gd, 'removed!']);\n",
       "            Plotly.purge(gd);\n",
       "            observer.disconnect();\n",
       "        }}\n",
       "}});\n",
       "\n",
       "// Listen for the removal of the full notebook cells\n",
       "var notebookContainer = gd.closest('#notebook-container');\n",
       "if (notebookContainer) {{\n",
       "    x.observe(notebookContainer, {childList: true});\n",
       "}}\n",
       "\n",
       "// Listen for the clearing of the current output cell\n",
       "var outputEl = gd.closest('.output');\n",
       "if (outputEl) {{\n",
       "    x.observe(outputEl, {childList: true});\n",
       "}}\n",
       "\n",
       "                        })                };                });            </script>        </div>"
      ]
     },
     "metadata": {},
     "output_type": "display_data"
    }
   ],
   "source": [
    "title_true_topic_model.visualize_barchart(width=200, height=200, top_n_topics=23, n_words=10,title=\"Title Clusters in True News\")"
   ]
  },
  {
   "cell_type": "markdown",
   "id": "1cffbd7c",
   "metadata": {},
   "source": [
    "For instance, Topic 22 is related to healthcare. "
   ]
  },
  {
   "cell_type": "code",
   "execution_count": 10,
   "id": "5067e4a8",
   "metadata": {
    "scrolled": true
   },
   "outputs": [
    {
     "name": "stdout",
     "output_type": "stream",
     "text": [
      "Insurance Prices for Many Obamacare Customers Will Rise By Double Digits in 2017\n",
      "British Healthcare Offers a Glimpse into the Future of Obamacare\n",
      "ObamaCare: Things Fall Apart\n",
      "Obamacare “Near Collapse” in Minnesota as Prices Jump 60% Average\n",
      "U.S. Health Care Lags Behind, Costs More Than Other Countries\n",
      "LOL! Obama’s latest ACA train wreck scapegoat is nothing short of laughable\n",
      "Because of Hillary Clinton, Emergency-Contraception Is Banned In Honduras\n",
      "Planned Parenthood prepares to fight: VICE News Tonight on HBO (Full Segment) – The Rundown Live\n",
      "Half of ObamaCare Enrollees Avoid Doctors' Visits to Save Healthcare Costs\n",
      "Re: WOW! What Josh Earnest admitted about Obamacare is stunning (because it’s true)\n",
      "BRUTAL! This map shows Obamacare premiums going up as much as 116% in some states\n",
      "After a Century, Planned Parenthood Needs to be Shut Down\n",
      "The Real Reason Obamacare is Coming Unglued\n",
      "INSANITY: Watch O-care architect Jonathan Gruber explain the cost of ‘freedom’\n",
      "Four-Day Obama Trip in 2013 Cost US Taxpayers $3.6Mln\n",
      "President Obama's Latest Scapegoat for the Obamacare Implosion is Nothing Short of Absurd\n"
     ]
    }
   ],
   "source": [
    "# Filter above data frame by topic 6 only:\n",
    "topic_true_df = pd.DataFrame({\"topic\": title_true_topics, \"document\": title_true})\n",
    "topic_true = topic_true_df[topic_true_df.topic == 22]\n",
    "for i in range(16):\n",
    "    print(topic_true['document'].values[i])"
   ]
  },
  {
   "cell_type": "markdown",
   "id": "cd7002e1",
   "metadata": {},
   "source": [
    "We once again see how bad our dataset is: id=2519 contains a title that is an opinion from [Twitchy.org](https://twitchy.com/dougp-3137/2016/10/27/lol-obamas-latest-aca-train-wreck-scapegoat-is-nothing-short-of-laughable/).\n",
    "In fact, the text indicates this is an opinion piece:"
   ]
  },
  {
   "cell_type": "code",
   "execution_count": 133,
   "id": "b18f30d8",
   "metadata": {
    "scrolled": true
   },
   "outputs": [
    {
     "data": {
      "text/html": [
       "<div>\n",
       "<style scoped>\n",
       "    .dataframe tbody tr th:only-of-type {\n",
       "        vertical-align: middle;\n",
       "    }\n",
       "\n",
       "    .dataframe tbody tr th {\n",
       "        vertical-align: top;\n",
       "    }\n",
       "\n",
       "    .dataframe thead th {\n",
       "        text-align: right;\n",
       "    }\n",
       "</style>\n",
       "<table border=\"1\" class=\"dataframe\">\n",
       "  <thead>\n",
       "    <tr style=\"text-align: right;\">\n",
       "      <th></th>\n",
       "      <th>id</th>\n",
       "      <th>title</th>\n",
       "      <th>text</th>\n",
       "      <th>label</th>\n",
       "    </tr>\n",
       "  </thead>\n",
       "  <tbody>\n",
       "    <tr>\n",
       "      <th>2519</th>\n",
       "      <td>2519</td>\n",
       "      <td>LOL! Obama’s latest ACA train wreck scapegoat ...</td>\n",
       "      <td>— Derek Hunter (@derekahunter) October 28, 201...</td>\n",
       "      <td>1</td>\n",
       "    </tr>\n",
       "  </tbody>\n",
       "</table>\n",
       "</div>"
      ],
      "text/plain": [
       "        id                                              title  \\\n",
       "2519  2519  LOL! Obama’s latest ACA train wreck scapegoat ...   \n",
       "\n",
       "                                                   text  label  \n",
       "2519  — Derek Hunter (@derekahunter) October 28, 201...      1  "
      ]
     },
     "execution_count": 133,
     "metadata": {},
     "output_type": "execute_result"
    }
   ],
   "source": [
    "obama = df_true[df_true['title'].str.contains('LOL! Obama', regex=False)]\n",
    "obama"
   ]
  },
  {
   "cell_type": "code",
   "execution_count": 149,
   "id": "82a1a089",
   "metadata": {},
   "outputs": [
    {
     "data": {
      "text/html": [
       "<div>\n",
       "<style scoped>\n",
       "    .dataframe tbody tr th:only-of-type {\n",
       "        vertical-align: middle;\n",
       "    }\n",
       "\n",
       "    .dataframe tbody tr th {\n",
       "        vertical-align: top;\n",
       "    }\n",
       "\n",
       "    .dataframe thead th {\n",
       "        text-align: right;\n",
       "    }\n",
       "</style>\n",
       "<table border=\"1\" class=\"dataframe\">\n",
       "  <thead>\n",
       "    <tr style=\"text-align: right;\">\n",
       "      <th></th>\n",
       "      <th>id</th>\n",
       "      <th>title</th>\n",
       "      <th>text</th>\n",
       "      <th>label</th>\n",
       "    </tr>\n",
       "  </thead>\n",
       "  <tbody>\n",
       "  </tbody>\n",
       "</table>\n",
       "</div>"
      ],
      "text/plain": [
       "Empty DataFrame\n",
       "Columns: [id, title, text, label]\n",
       "Index: []"
      ]
     },
     "execution_count": 149,
     "metadata": {},
     "output_type": "execute_result"
    }
   ],
   "source": [
    "df_true[df_true['title'].str.contains('podcast', regex=True)]"
   ]
  },
  {
   "cell_type": "code",
   "execution_count": 153,
   "id": "3a2b63c7",
   "metadata": {},
   "outputs": [
    {
     "name": "stdout",
     "output_type": "stream",
     "text": [
      "— Derek Hunter (@derekahunter) October 28, 2016 \r\n",
      "Obama’s legacy will be to leave everybody laughing for all the wrong reasons. His lap dogs? Cute. https://t.co/jijTNij1M7 \r\n",
      "— Hans…boobie… (@deanriehm) October 28, 2016 This is beyond parody. The press had to be shamed into even acknowledging Gruber. https://t.co/GJeyQz2Pvh \r\n",
      "— Jason C. (@CounterMoonbat) October 28, 2016 Perfect.Nothing is ever his fault.Obamacare, Syria, ISIS, Crimea, Ukraine, $19 trillion. @dcexaminer https://t.co/E0fRIXK1N2 \r\n",
      "— The 57th State ℅EF™ (@EF517_V2) October 28, 2016 Wasn't it just last week that he said a president can't whine and blame others? #BiggestWhinerAndBlamerEver https://t.co/ZIQIel4aeP \r\n",
      "— Lee Ritz, MD (@lee_ritz) October 28, 2016 Yes, the press made Obamacare fail. \r\n",
      "Or…… maybe it was the horrific plan itself that failed on its own. https://t.co/a4qXISwjtR \r\n",
      "— Paul Crisp (@pcrispy) October 28, 2016 You'll find this in the dictionary under \"Bite the hand that feeds you\" https://t.co/lsherhCCWF \r\n",
      "— Jesse Kelly (@JesseKellyDC) October 27, 2016 the notoriously right-wing press is indeed a problem, Mr President. https://t.co/LXMz557xXA \r\n",
      "— Welcome To The Oort (@ClarkHat) October 27, 2016 @dcexaminer In a way, he's right. If the press had actually done some real investigative work in 2009, we wouldn't be in this mess.\n"
     ]
    }
   ],
   "source": [
    "print(obama.iloc[0,2])"
   ]
  },
  {
   "cell_type": "markdown",
   "id": "4ab692bf",
   "metadata": {},
   "source": [
    "In fact if you go to the website article here is part of the article (a series of tweets) before getting cut off:\n",
    "    We know that President Obama and the Democrats have already blasted Republicans for not helping “fix” the unfolding disaster that is Obamacare, and the White House has set its sights on somebody else to blame:\n",
    "\n",
    "    Obama blames the press for #Obamacare trouble https://t.co/CyZsiRZMDS pic.twitter.com/ZL21B6sLT3\n",
    "\n",
    "    — Washington Examiner (@dcexaminer) October 27, 2016\n",
    "\n",
    "WOW, he’s really running out of fingers to point.\n",
    "\n",
    "Washington Examiner:\n",
    "\n",
    "    President Obama told activists they need to fight through a wave of negative press stories about Obamacare this year to ensure enrollment numbers go up, and said plans are still affordable despite stories saying premiums will rise sharply in 2017.\n",
    "\n",
    "    “We’re not going to get that much help from the media,” Obama told the more than 25,000 volunteers who joined a White House call with Obama Thursday afternoon. “This is going to be a ground game.”\n",
    "\n",
    "Ha! Sure, because the mainstream media’s always been working against the Obama administration, right!?\n",
    "\n",
    "    The press is sending those premium hike letters, canceling people's plans, and forcing insurers out of the exchanges?? Wow! ? #whining https://t.co/0b2ffrdX7I\n",
    "\n",
    "    — Guy Benson (@guypbenson) October 28, 2016\n",
    "\n",
    "    Oh. I guess the press wrote a dumpster fire law, passed it with trickery in the middle of night, after lying about it. Interesting take. https://t.co/kvVjLaIKZT\n",
    "\n",
    "    — Heather (@hboulware) October 28, 2016\n",
    "\n",
    "    Yesterday it was Republicans' fault, now it's the media. Total number of media and Republicans who voted for/had any input in Obamacare = 0. https://t.co/rGjeM95bL4\n",
    "\n",
    "    — Derek Hunter (@derekahunter) October 28, 2016"
   ]
  },
  {
   "cell_type": "markdown",
   "id": "0272c743",
   "metadata": {},
   "source": [
    "## Exploring the titles in fake news"
   ]
  },
  {
   "cell_type": "code",
   "execution_count": 61,
   "id": "3f2000e8",
   "metadata": {
    "scrolled": true
   },
   "outputs": [
    {
     "data": {
      "application/vnd.plotly.v1+json": {
       "config": {
        "plotlyServerURL": "https://plot.ly"
       },
       "data": [
        {
         "marker": {
          "color": "#D55E00"
         },
         "orientation": "h",
         "type": "bar",
         "x": [
          0.008656309420278422,
          0.009545444444725834,
          0.011277957558259942,
          0.01184130817916718,
          0.014024802676443291,
          0.016899844699979575,
          0.018047242100925842,
          0.01940704812375824,
          0.024951049515572116,
          0.026265395222146916
         ],
         "xaxis": "x",
         "y": [
          "google  ",
          "twitter  ",
          "trump  ",
          "facebook  ",
          "media  ",
          "daily  ",
          "fake  ",
          "cnn  ",
          "breitbart  ",
          "news  "
         ],
         "yaxis": "y"
        },
        {
         "marker": {
          "color": "#0072B2"
         },
         "orientation": "h",
         "type": "bar",
         "x": [
          0.009840623210788553,
          0.010921439664224023,
          0.011872856700776554,
          0.012071040790285082,
          0.01257837434145491,
          0.013636411495695399,
          0.015061246173392792,
          0.01542614599387673,
          0.027128929459993307,
          0.037284423053773004
         ],
         "xaxis": "x2",
         "y": [
          "mary  ",
          "girl  ",
          "woman  ",
          "feminist  ",
          "gender  ",
          "march  ",
          "female  ",
          "beyoncé  ",
          "fashion  ",
          "women  "
         ],
         "yaxis": "y2"
        },
        {
         "marker": {
          "color": "#CC79A7"
         },
         "orientation": "h",
         "type": "bar",
         "x": [
          0.023325635361723076,
          0.024539411317413294,
          0.029153503866125283,
          0.0336248364688535,
          0.03648919119975561,
          0.036888078385147356,
          0.03713290775397213,
          0.037712310417192633,
          0.04831174091467633,
          0.08886555292545416
         ],
         "xaxis": "x3",
         "y": [
          "gop  ",
          "healthcare  ",
          "bill  ",
          "health  ",
          "rand  ",
          "repeal  ",
          "care  ",
          "ryan  ",
          "paul  ",
          "obamacare  "
         ],
         "yaxis": "y3"
        },
        {
         "marker": {
          "color": "#E69F00"
         },
         "orientation": "h",
         "type": "bar",
         "x": [
          0.022922588830215886,
          0.030111449745500583,
          0.030336023529966876,
          0.03313178955327233,
          0.03375092902946631,
          0.039355093815726015,
          0.05485113628976927,
          0.062230043846589304,
          0.06580511857669634,
          0.07484190458058884
         ],
         "xaxis": "x4",
         "y": [
          "ms  ",
          "illegal  ",
          "aliens  ",
          "agents  ",
          "arrested  ",
          "patrol  ",
          "texas  ",
          "border  ",
          "mexican  ",
          "cartel  "
         ],
         "yaxis": "y4"
        },
        {
         "marker": {
          "color": "#56B4E9"
         },
         "orientation": "h",
         "type": "bar",
         "x": [
          0.01405615200125827,
          0.014135314887822475,
          0.014312232689946044,
          0.014608059772056654,
          0.018423216008919018,
          0.018877473570586535,
          0.029767615630173383,
          0.032467920125458516,
          0.048391910240873845,
          0.051292031235311314
         ],
         "xaxis": "x5",
         "y": [
          "terror  ",
          "christian  ",
          "jihadists  ",
          "radical  ",
          "state  ",
          "christians  ",
          "islam  ",
          "muslims  ",
          "muslim  ",
          "islamic  "
         ],
         "yaxis": "y5"
        },
        {
         "marker": {
          "color": "#009E73"
         },
         "orientation": "h",
         "type": "bar",
         "x": [
          0.018697436580505097,
          0.01875768433356905,
          0.026580079939695283,
          0.028158589102861377,
          0.03174515694965819,
          0.0332559976979024,
          0.04034019256984476,
          0.04770882554143252,
          0.05366625189528467,
          0.0897926042347947
         ],
         "xaxis": "x6",
         "y": [
          "bank  ",
          "palestinians  ",
          "settlements  ",
          "hamas  ",
          "netanyahu  ",
          "embassy  ",
          "israeli  ",
          "jerusalem  ",
          "palestinian  ",
          "israel  "
         ],
         "yaxis": "y6"
        },
        {
         "marker": {
          "color": "#F0E442"
         },
         "orientation": "h",
         "type": "bar",
         "x": [
          0.016682200541211247,
          0.01745534023823892,
          0.01753259271862085,
          0.01785398158168943,
          0.02204868618576287,
          0.033276420802434745,
          0.033699941698041413,
          0.04670538214751718,
          0.05209311174370196,
          0.07887248278504413
         ],
         "xaxis": "x7",
         "y": [
          "cease  ",
          "attack  ",
          "syrians  ",
          "russia  ",
          "strike  ",
          "chemical  ",
          "assad  ",
          "aleppo  ",
          "syrian  ",
          "syria  "
         ],
         "yaxis": "y7"
        },
        {
         "marker": {
          "color": "#D55E00"
         },
         "orientation": "h",
         "type": "bar",
         "x": [
          0.017348086697268,
          0.018847861333962088,
          0.019571742037730624,
          0.021175897751669132,
          0.02265165966088495,
          0.029904797205397744,
          0.03173290920323938,
          0.05381458046924748,
          0.0568335733126075,
          0.1157520302585572
         ],
         "xaxis": "x8",
         "y": [
          "riots  ",
          "student  ",
          "free  ",
          "breitbart  ",
          "speech  ",
          "davis  ",
          "event  ",
          "uc  ",
          "berkeley  ",
          "milo  "
         ],
         "yaxis": "y8"
        },
        {
         "marker": {
          "color": "#0072B2"
         },
         "orientation": "h",
         "type": "bar",
         "x": [
          0.0197669619437866,
          0.0197669619437866,
          0.02056606551950949,
          0.020751821368075938,
          0.020870277639430126,
          0.026493164260984328,
          0.02739996600386088,
          0.03162986718612877,
          0.03327138729040251,
          0.053368527299352264
         ],
         "xaxis": "x9",
         "y": [
          "shootings  ",
          "baton  ",
          "rouge  ",
          "shot  ",
          "man  ",
          "officer  ",
          "officers  ",
          "police  ",
          "orlando  ",
          "shooting  "
         ],
         "yaxis": "y9"
        },
        {
         "marker": {
          "color": "#CC79A7"
         },
         "orientation": "h",
         "type": "bar",
         "x": [
          0.01812402212521284,
          0.01897831674947091,
          0.023729525041085154,
          0.024305848501004774,
          0.028733560627393857,
          0.03547988129667679,
          0.03624434894501343,
          0.05058686151858314,
          0.051591215050030594,
          0.05771507375180205
         ],
         "xaxis": "x10",
         "y": [
          "breitbart  ",
          "fs1  ",
          "patriots  ",
          "anthem  ",
          "brady  ",
          "colin  ",
          "sports  ",
          "espn  ",
          "kaepernick  ",
          "nfl  "
         ],
         "yaxis": "y10"
        },
        {
         "marker": {
          "color": "#E69F00"
         },
         "orientation": "h",
         "type": "bar",
         "x": [
          0.011498554295214885,
          0.01271237793137114,
          0.013127654496526588,
          0.014841656950371639,
          0.01929646120354143,
          0.019691481744789883,
          0.021064165899041875,
          0.022594382942894606,
          0.04340745512274546,
          0.1096999805414889
         ],
         "xaxis": "x11",
         "y": [
          "pop  ",
          "author  ",
          "83  ",
          "star  ",
          "who  ",
          "87  ",
          "94  ",
          "prince  ",
          "at  ",
          "dies  "
         ],
         "yaxis": "y11"
        },
        {
         "marker": {
          "color": "#56B4E9"
         },
         "orientation": "h",
         "type": "bar",
         "x": [
          0.02816857201793792,
          0.031118480114432048,
          0.0323030823111646,
          0.03250219848223607,
          0.03321335427042718,
          0.033555035555512286,
          0.033804960526363774,
          0.06513229503792838,
          0.0697075199194944,
          0.07925351198794828
         ],
         "xaxis": "x12",
         "y": [
          "friday  ",
          "thursday  ",
          "donald  ",
          "wednesday  ",
          "cruz  ",
          "ted  ",
          "monday  ",
          "your  ",
          "evening  ",
          "briefing  "
         ],
         "yaxis": "y12"
        },
        {
         "marker": {
          "color": "#009E73"
         },
         "orientation": "h",
         "type": "bar",
         "x": [
          0.011170804768194726,
          0.01561281909477662,
          0.016067816802323505,
          0.01794567925230975,
          0.019281380162788204,
          0.019745140439433012,
          0.02514988398596777,
          0.03143735498245971,
          0.050488181411145014,
          0.08838889559895666
         ],
         "xaxis": "x13",
         "y": [
          "chip  ",
          "trade  ",
          "beijing  ",
          "jinping  ",
          "kong  ",
          "hong  ",
          "xi  ",
          "taiwan  ",
          "chinese  ",
          "china  "
         ],
         "yaxis": "y13"
        },
        {
         "marker": {
          "color": "#F0E442"
         },
         "orientation": "h",
         "type": "bar",
         "x": [
          0.016649115270498553,
          0.017481894913096336,
          0.018732038236576837,
          0.020190665352811832,
          0.020193646221879566,
          0.02291376364669782,
          0.027472609604988065,
          0.027619109526607587,
          0.04092911977556541,
          0.08271899647511345
         ],
         "xaxis": "x14",
         "y": [
          "bill  ",
          "affordable  ",
          "act  ",
          "republicans  ",
          "repeal  ",
          "obamacare  ",
          "law  ",
          "insurance  ",
          "care  ",
          "health  "
         ],
         "yaxis": "y14"
        },
        {
         "marker": {
          "color": "#D55E00"
         },
         "orientation": "h",
         "type": "bar",
         "x": [
          0.024348110881206503,
          0.024556523911028718,
          0.024859480926180663,
          0.03984943596923837,
          0.04322076982712113,
          0.04449391790683054,
          0.0504614029957981,
          0.057752350569399175,
          0.08754938935729781,
          0.10644103875055015
         ],
         "xaxis": "x15",
         "y": [
          "test  ",
          "nam  ",
          "nuclear  ",
          "missile  ",
          "jong  ",
          "kim  ",
          "south  ",
          "korean  ",
          "north  ",
          "korea  "
         ],
         "yaxis": "y15"
        },
        {
         "marker": {
          "color": "#0072B2"
         },
         "orientation": "h",
         "type": "bar",
         "x": [
          0.0261663214350473,
          0.02991315708743923,
          0.03130387332571335,
          0.035284992081847336,
          0.040954323322758286,
          0.04311362989329428,
          0.04824554641182114,
          0.0523885238377035,
          0.05747270562758063,
          0.105839087921845
         ],
         "xaxis": "x16",
         "y": [
          "warming  ",
          "global  ",
          "scott  ",
          "epa  ",
          "agreement  ",
          "pruitt  ",
          "change  ",
          "paris  ",
          "delingpole  ",
          "climate  "
         ],
         "yaxis": "y16"
        },
        {
         "marker": {
          "color": "#CC79A7"
         },
         "orientation": "h",
         "type": "bar",
         "x": [
          0.009324538335893768,
          0.009858818153915105,
          0.010007188846984007,
          0.010534148797894513,
          0.010959770987801067,
          0.011223377969373664,
          0.01228701944743375,
          0.013901979871483157,
          0.07742684796317689,
          0.07840781724007015
         ],
         "xaxis": "x17",
         "y": [
          "mate  ",
          "her  ",
          "shrunk  ",
          "has  ",
          "donors  ",
          "recount  ",
          "she  ",
          "donald  ",
          "clinton  ",
          "hillary  "
         ],
         "yaxis": "y17"
        },
        {
         "marker": {
          "color": "#E69F00"
         },
         "orientation": "h",
         "type": "bar",
         "x": [
          0.018615111611143757,
          0.018811558042754785,
          0.01885864543751236,
          0.022809144734286045,
          0.02352047745396236,
          0.03196576378197604,
          0.03442351176757885,
          0.04021540195854754,
          0.041550522679157015,
          0.043830240924036874
         ],
         "xaxis": "x18",
         "y": [
          "bomb  ",
          "suspect  ",
          "injured  ",
          "westminster  ",
          "france  ",
          "attacker  ",
          "truck  ",
          "london  ",
          "attack  ",
          "terror  "
         ],
         "yaxis": "y18"
        },
        {
         "marker": {
          "color": "#56B4E9"
         },
         "orientation": "h",
         "type": "bar",
         "x": [
          0.015548380853896994,
          0.01584819468404149,
          0.017004622812494506,
          0.018093546272366236,
          0.01877141475404507,
          0.0224878057801705,
          0.024566827920311323,
          0.02893900998836603,
          0.05196010014231886,
          0.11685573455790471
         ],
         "xaxis": "x19",
         "y": [
          "may  ",
          "independence  ",
          "british  ",
          "labour  ",
          "boris  ",
          "minister  ",
          "prime  ",
          "theresa  ",
          "britain  ",
          "brexit  "
         ],
         "yaxis": "y19"
        },
        {
         "marker": {
          "color": "#009E73"
         },
         "orientation": "h",
         "type": "bar",
         "x": [
          0.013679314592583225,
          0.01691954368128383,
          0.017845237160072552,
          0.0182390861234443,
          0.025038331405066446,
          0.025282225472753984,
          0.026295597542677327,
          0.04859950866633084,
          0.054817312453299724,
          0.057616607049315115
         ],
         "xaxis": "x20",
         "y": [
          "hacked  ",
          "cyberattacks  ",
          "hacks  ",
          "dossier  ",
          "intelligence  ",
          "election  ",
          "hackers  ",
          "hacking  ",
          "russian  ",
          "russia  "
         ],
         "yaxis": "y20"
        }
       ],
       "layout": {
        "annotations": [
         {
          "font": {
           "size": 16
          },
          "showarrow": false,
          "text": "Topic 0",
          "x": 0.0875,
          "xanchor": "center",
          "xref": "paper",
          "y": 0.9999999999999999,
          "yanchor": "bottom",
          "yref": "paper"
         },
         {
          "font": {
           "size": 16
          },
          "showarrow": false,
          "text": "Topic 1",
          "x": 0.36250000000000004,
          "xanchor": "center",
          "xref": "paper",
          "y": 0.9999999999999999,
          "yanchor": "bottom",
          "yref": "paper"
         },
         {
          "font": {
           "size": 16
          },
          "showarrow": false,
          "text": "Topic 2",
          "x": 0.6375000000000001,
          "xanchor": "center",
          "xref": "paper",
          "y": 0.9999999999999999,
          "yanchor": "bottom",
          "yref": "paper"
         },
         {
          "font": {
           "size": 16
          },
          "showarrow": false,
          "text": "Topic 3",
          "x": 0.9125,
          "xanchor": "center",
          "xref": "paper",
          "y": 0.9999999999999999,
          "yanchor": "bottom",
          "yref": "paper"
         },
         {
          "font": {
           "size": 16
          },
          "showarrow": false,
          "text": "Topic 4",
          "x": 0.0875,
          "xanchor": "center",
          "xref": "paper",
          "y": 0.7839999999999999,
          "yanchor": "bottom",
          "yref": "paper"
         },
         {
          "font": {
           "size": 16
          },
          "showarrow": false,
          "text": "Topic 5",
          "x": 0.36250000000000004,
          "xanchor": "center",
          "xref": "paper",
          "y": 0.7839999999999999,
          "yanchor": "bottom",
          "yref": "paper"
         },
         {
          "font": {
           "size": 16
          },
          "showarrow": false,
          "text": "Topic 6",
          "x": 0.6375000000000001,
          "xanchor": "center",
          "xref": "paper",
          "y": 0.7839999999999999,
          "yanchor": "bottom",
          "yref": "paper"
         },
         {
          "font": {
           "size": 16
          },
          "showarrow": false,
          "text": "Topic 7",
          "x": 0.9125,
          "xanchor": "center",
          "xref": "paper",
          "y": 0.7839999999999999,
          "yanchor": "bottom",
          "yref": "paper"
         },
         {
          "font": {
           "size": 16
          },
          "showarrow": false,
          "text": "Topic 8",
          "x": 0.0875,
          "xanchor": "center",
          "xref": "paper",
          "y": 0.568,
          "yanchor": "bottom",
          "yref": "paper"
         },
         {
          "font": {
           "size": 16
          },
          "showarrow": false,
          "text": "Topic 9",
          "x": 0.36250000000000004,
          "xanchor": "center",
          "xref": "paper",
          "y": 0.568,
          "yanchor": "bottom",
          "yref": "paper"
         },
         {
          "font": {
           "size": 16
          },
          "showarrow": false,
          "text": "Topic 10",
          "x": 0.6375000000000001,
          "xanchor": "center",
          "xref": "paper",
          "y": 0.568,
          "yanchor": "bottom",
          "yref": "paper"
         },
         {
          "font": {
           "size": 16
          },
          "showarrow": false,
          "text": "Topic 11",
          "x": 0.9125,
          "xanchor": "center",
          "xref": "paper",
          "y": 0.568,
          "yanchor": "bottom",
          "yref": "paper"
         },
         {
          "font": {
           "size": 16
          },
          "showarrow": false,
          "text": "Topic 12",
          "x": 0.0875,
          "xanchor": "center",
          "xref": "paper",
          "y": 0.352,
          "yanchor": "bottom",
          "yref": "paper"
         },
         {
          "font": {
           "size": 16
          },
          "showarrow": false,
          "text": "Topic 13",
          "x": 0.36250000000000004,
          "xanchor": "center",
          "xref": "paper",
          "y": 0.352,
          "yanchor": "bottom",
          "yref": "paper"
         },
         {
          "font": {
           "size": 16
          },
          "showarrow": false,
          "text": "Topic 14",
          "x": 0.6375000000000001,
          "xanchor": "center",
          "xref": "paper",
          "y": 0.352,
          "yanchor": "bottom",
          "yref": "paper"
         },
         {
          "font": {
           "size": 16
          },
          "showarrow": false,
          "text": "Topic 15",
          "x": 0.9125,
          "xanchor": "center",
          "xref": "paper",
          "y": 0.352,
          "yanchor": "bottom",
          "yref": "paper"
         },
         {
          "font": {
           "size": 16
          },
          "showarrow": false,
          "text": "Topic 16",
          "x": 0.0875,
          "xanchor": "center",
          "xref": "paper",
          "y": 0.13599999999999998,
          "yanchor": "bottom",
          "yref": "paper"
         },
         {
          "font": {
           "size": 16
          },
          "showarrow": false,
          "text": "Topic 17",
          "x": 0.36250000000000004,
          "xanchor": "center",
          "xref": "paper",
          "y": 0.13599999999999998,
          "yanchor": "bottom",
          "yref": "paper"
         },
         {
          "font": {
           "size": 16
          },
          "showarrow": false,
          "text": "Topic 18",
          "x": 0.6375000000000001,
          "xanchor": "center",
          "xref": "paper",
          "y": 0.13599999999999998,
          "yanchor": "bottom",
          "yref": "paper"
         },
         {
          "font": {
           "size": 16
          },
          "showarrow": false,
          "text": "Topic 19",
          "x": 0.9125,
          "xanchor": "center",
          "xref": "paper",
          "y": 0.13599999999999998,
          "yanchor": "bottom",
          "yref": "paper"
         }
        ],
        "height": 1000,
        "hoverlabel": {
         "bgcolor": "white",
         "font": {
          "family": "Rockwell",
          "size": 16
         }
        },
        "showlegend": false,
        "template": {
         "data": {
          "bar": [
           {
            "error_x": {
             "color": "#2a3f5f"
            },
            "error_y": {
             "color": "#2a3f5f"
            },
            "marker": {
             "line": {
              "color": "white",
              "width": 0.5
             },
             "pattern": {
              "fillmode": "overlay",
              "size": 10,
              "solidity": 0.2
             }
            },
            "type": "bar"
           }
          ],
          "barpolar": [
           {
            "marker": {
             "line": {
              "color": "white",
              "width": 0.5
             },
             "pattern": {
              "fillmode": "overlay",
              "size": 10,
              "solidity": 0.2
             }
            },
            "type": "barpolar"
           }
          ],
          "carpet": [
           {
            "aaxis": {
             "endlinecolor": "#2a3f5f",
             "gridcolor": "#C8D4E3",
             "linecolor": "#C8D4E3",
             "minorgridcolor": "#C8D4E3",
             "startlinecolor": "#2a3f5f"
            },
            "baxis": {
             "endlinecolor": "#2a3f5f",
             "gridcolor": "#C8D4E3",
             "linecolor": "#C8D4E3",
             "minorgridcolor": "#C8D4E3",
             "startlinecolor": "#2a3f5f"
            },
            "type": "carpet"
           }
          ],
          "choropleth": [
           {
            "colorbar": {
             "outlinewidth": 0,
             "ticks": ""
            },
            "type": "choropleth"
           }
          ],
          "contour": [
           {
            "colorbar": {
             "outlinewidth": 0,
             "ticks": ""
            },
            "colorscale": [
             [
              0,
              "#0d0887"
             ],
             [
              0.1111111111111111,
              "#46039f"
             ],
             [
              0.2222222222222222,
              "#7201a8"
             ],
             [
              0.3333333333333333,
              "#9c179e"
             ],
             [
              0.4444444444444444,
              "#bd3786"
             ],
             [
              0.5555555555555556,
              "#d8576b"
             ],
             [
              0.6666666666666666,
              "#ed7953"
             ],
             [
              0.7777777777777778,
              "#fb9f3a"
             ],
             [
              0.8888888888888888,
              "#fdca26"
             ],
             [
              1,
              "#f0f921"
             ]
            ],
            "type": "contour"
           }
          ],
          "contourcarpet": [
           {
            "colorbar": {
             "outlinewidth": 0,
             "ticks": ""
            },
            "type": "contourcarpet"
           }
          ],
          "heatmap": [
           {
            "colorbar": {
             "outlinewidth": 0,
             "ticks": ""
            },
            "colorscale": [
             [
              0,
              "#0d0887"
             ],
             [
              0.1111111111111111,
              "#46039f"
             ],
             [
              0.2222222222222222,
              "#7201a8"
             ],
             [
              0.3333333333333333,
              "#9c179e"
             ],
             [
              0.4444444444444444,
              "#bd3786"
             ],
             [
              0.5555555555555556,
              "#d8576b"
             ],
             [
              0.6666666666666666,
              "#ed7953"
             ],
             [
              0.7777777777777778,
              "#fb9f3a"
             ],
             [
              0.8888888888888888,
              "#fdca26"
             ],
             [
              1,
              "#f0f921"
             ]
            ],
            "type": "heatmap"
           }
          ],
          "heatmapgl": [
           {
            "colorbar": {
             "outlinewidth": 0,
             "ticks": ""
            },
            "colorscale": [
             [
              0,
              "#0d0887"
             ],
             [
              0.1111111111111111,
              "#46039f"
             ],
             [
              0.2222222222222222,
              "#7201a8"
             ],
             [
              0.3333333333333333,
              "#9c179e"
             ],
             [
              0.4444444444444444,
              "#bd3786"
             ],
             [
              0.5555555555555556,
              "#d8576b"
             ],
             [
              0.6666666666666666,
              "#ed7953"
             ],
             [
              0.7777777777777778,
              "#fb9f3a"
             ],
             [
              0.8888888888888888,
              "#fdca26"
             ],
             [
              1,
              "#f0f921"
             ]
            ],
            "type": "heatmapgl"
           }
          ],
          "histogram": [
           {
            "marker": {
             "pattern": {
              "fillmode": "overlay",
              "size": 10,
              "solidity": 0.2
             }
            },
            "type": "histogram"
           }
          ],
          "histogram2d": [
           {
            "colorbar": {
             "outlinewidth": 0,
             "ticks": ""
            },
            "colorscale": [
             [
              0,
              "#0d0887"
             ],
             [
              0.1111111111111111,
              "#46039f"
             ],
             [
              0.2222222222222222,
              "#7201a8"
             ],
             [
              0.3333333333333333,
              "#9c179e"
             ],
             [
              0.4444444444444444,
              "#bd3786"
             ],
             [
              0.5555555555555556,
              "#d8576b"
             ],
             [
              0.6666666666666666,
              "#ed7953"
             ],
             [
              0.7777777777777778,
              "#fb9f3a"
             ],
             [
              0.8888888888888888,
              "#fdca26"
             ],
             [
              1,
              "#f0f921"
             ]
            ],
            "type": "histogram2d"
           }
          ],
          "histogram2dcontour": [
           {
            "colorbar": {
             "outlinewidth": 0,
             "ticks": ""
            },
            "colorscale": [
             [
              0,
              "#0d0887"
             ],
             [
              0.1111111111111111,
              "#46039f"
             ],
             [
              0.2222222222222222,
              "#7201a8"
             ],
             [
              0.3333333333333333,
              "#9c179e"
             ],
             [
              0.4444444444444444,
              "#bd3786"
             ],
             [
              0.5555555555555556,
              "#d8576b"
             ],
             [
              0.6666666666666666,
              "#ed7953"
             ],
             [
              0.7777777777777778,
              "#fb9f3a"
             ],
             [
              0.8888888888888888,
              "#fdca26"
             ],
             [
              1,
              "#f0f921"
             ]
            ],
            "type": "histogram2dcontour"
           }
          ],
          "mesh3d": [
           {
            "colorbar": {
             "outlinewidth": 0,
             "ticks": ""
            },
            "type": "mesh3d"
           }
          ],
          "parcoords": [
           {
            "line": {
             "colorbar": {
              "outlinewidth": 0,
              "ticks": ""
             }
            },
            "type": "parcoords"
           }
          ],
          "pie": [
           {
            "automargin": true,
            "type": "pie"
           }
          ],
          "scatter": [
           {
            "fillpattern": {
             "fillmode": "overlay",
             "size": 10,
             "solidity": 0.2
            },
            "type": "scatter"
           }
          ],
          "scatter3d": [
           {
            "line": {
             "colorbar": {
              "outlinewidth": 0,
              "ticks": ""
             }
            },
            "marker": {
             "colorbar": {
              "outlinewidth": 0,
              "ticks": ""
             }
            },
            "type": "scatter3d"
           }
          ],
          "scattercarpet": [
           {
            "marker": {
             "colorbar": {
              "outlinewidth": 0,
              "ticks": ""
             }
            },
            "type": "scattercarpet"
           }
          ],
          "scattergeo": [
           {
            "marker": {
             "colorbar": {
              "outlinewidth": 0,
              "ticks": ""
             }
            },
            "type": "scattergeo"
           }
          ],
          "scattergl": [
           {
            "marker": {
             "colorbar": {
              "outlinewidth": 0,
              "ticks": ""
             }
            },
            "type": "scattergl"
           }
          ],
          "scattermapbox": [
           {
            "marker": {
             "colorbar": {
              "outlinewidth": 0,
              "ticks": ""
             }
            },
            "type": "scattermapbox"
           }
          ],
          "scatterpolar": [
           {
            "marker": {
             "colorbar": {
              "outlinewidth": 0,
              "ticks": ""
             }
            },
            "type": "scatterpolar"
           }
          ],
          "scatterpolargl": [
           {
            "marker": {
             "colorbar": {
              "outlinewidth": 0,
              "ticks": ""
             }
            },
            "type": "scatterpolargl"
           }
          ],
          "scatterternary": [
           {
            "marker": {
             "colorbar": {
              "outlinewidth": 0,
              "ticks": ""
             }
            },
            "type": "scatterternary"
           }
          ],
          "surface": [
           {
            "colorbar": {
             "outlinewidth": 0,
             "ticks": ""
            },
            "colorscale": [
             [
              0,
              "#0d0887"
             ],
             [
              0.1111111111111111,
              "#46039f"
             ],
             [
              0.2222222222222222,
              "#7201a8"
             ],
             [
              0.3333333333333333,
              "#9c179e"
             ],
             [
              0.4444444444444444,
              "#bd3786"
             ],
             [
              0.5555555555555556,
              "#d8576b"
             ],
             [
              0.6666666666666666,
              "#ed7953"
             ],
             [
              0.7777777777777778,
              "#fb9f3a"
             ],
             [
              0.8888888888888888,
              "#fdca26"
             ],
             [
              1,
              "#f0f921"
             ]
            ],
            "type": "surface"
           }
          ],
          "table": [
           {
            "cells": {
             "fill": {
              "color": "#EBF0F8"
             },
             "line": {
              "color": "white"
             }
            },
            "header": {
             "fill": {
              "color": "#C8D4E3"
             },
             "line": {
              "color": "white"
             }
            },
            "type": "table"
           }
          ]
         },
         "layout": {
          "annotationdefaults": {
           "arrowcolor": "#2a3f5f",
           "arrowhead": 0,
           "arrowwidth": 1
          },
          "autotypenumbers": "strict",
          "coloraxis": {
           "colorbar": {
            "outlinewidth": 0,
            "ticks": ""
           }
          },
          "colorscale": {
           "diverging": [
            [
             0,
             "#8e0152"
            ],
            [
             0.1,
             "#c51b7d"
            ],
            [
             0.2,
             "#de77ae"
            ],
            [
             0.3,
             "#f1b6da"
            ],
            [
             0.4,
             "#fde0ef"
            ],
            [
             0.5,
             "#f7f7f7"
            ],
            [
             0.6,
             "#e6f5d0"
            ],
            [
             0.7,
             "#b8e186"
            ],
            [
             0.8,
             "#7fbc41"
            ],
            [
             0.9,
             "#4d9221"
            ],
            [
             1,
             "#276419"
            ]
           ],
           "sequential": [
            [
             0,
             "#0d0887"
            ],
            [
             0.1111111111111111,
             "#46039f"
            ],
            [
             0.2222222222222222,
             "#7201a8"
            ],
            [
             0.3333333333333333,
             "#9c179e"
            ],
            [
             0.4444444444444444,
             "#bd3786"
            ],
            [
             0.5555555555555556,
             "#d8576b"
            ],
            [
             0.6666666666666666,
             "#ed7953"
            ],
            [
             0.7777777777777778,
             "#fb9f3a"
            ],
            [
             0.8888888888888888,
             "#fdca26"
            ],
            [
             1,
             "#f0f921"
            ]
           ],
           "sequentialminus": [
            [
             0,
             "#0d0887"
            ],
            [
             0.1111111111111111,
             "#46039f"
            ],
            [
             0.2222222222222222,
             "#7201a8"
            ],
            [
             0.3333333333333333,
             "#9c179e"
            ],
            [
             0.4444444444444444,
             "#bd3786"
            ],
            [
             0.5555555555555556,
             "#d8576b"
            ],
            [
             0.6666666666666666,
             "#ed7953"
            ],
            [
             0.7777777777777778,
             "#fb9f3a"
            ],
            [
             0.8888888888888888,
             "#fdca26"
            ],
            [
             1,
             "#f0f921"
            ]
           ]
          },
          "colorway": [
           "#636efa",
           "#EF553B",
           "#00cc96",
           "#ab63fa",
           "#FFA15A",
           "#19d3f3",
           "#FF6692",
           "#B6E880",
           "#FF97FF",
           "#FECB52"
          ],
          "font": {
           "color": "#2a3f5f"
          },
          "geo": {
           "bgcolor": "white",
           "lakecolor": "white",
           "landcolor": "white",
           "showlakes": true,
           "showland": true,
           "subunitcolor": "#C8D4E3"
          },
          "hoverlabel": {
           "align": "left"
          },
          "hovermode": "closest",
          "mapbox": {
           "style": "light"
          },
          "paper_bgcolor": "white",
          "plot_bgcolor": "white",
          "polar": {
           "angularaxis": {
            "gridcolor": "#EBF0F8",
            "linecolor": "#EBF0F8",
            "ticks": ""
           },
           "bgcolor": "white",
           "radialaxis": {
            "gridcolor": "#EBF0F8",
            "linecolor": "#EBF0F8",
            "ticks": ""
           }
          },
          "scene": {
           "xaxis": {
            "backgroundcolor": "white",
            "gridcolor": "#DFE8F3",
            "gridwidth": 2,
            "linecolor": "#EBF0F8",
            "showbackground": true,
            "ticks": "",
            "zerolinecolor": "#EBF0F8"
           },
           "yaxis": {
            "backgroundcolor": "white",
            "gridcolor": "#DFE8F3",
            "gridwidth": 2,
            "linecolor": "#EBF0F8",
            "showbackground": true,
            "ticks": "",
            "zerolinecolor": "#EBF0F8"
           },
           "zaxis": {
            "backgroundcolor": "white",
            "gridcolor": "#DFE8F3",
            "gridwidth": 2,
            "linecolor": "#EBF0F8",
            "showbackground": true,
            "ticks": "",
            "zerolinecolor": "#EBF0F8"
           }
          },
          "shapedefaults": {
           "line": {
            "color": "#2a3f5f"
           }
          },
          "ternary": {
           "aaxis": {
            "gridcolor": "#DFE8F3",
            "linecolor": "#A2B1C6",
            "ticks": ""
           },
           "baxis": {
            "gridcolor": "#DFE8F3",
            "linecolor": "#A2B1C6",
            "ticks": ""
           },
           "bgcolor": "white",
           "caxis": {
            "gridcolor": "#DFE8F3",
            "linecolor": "#A2B1C6",
            "ticks": ""
           }
          },
          "title": {
           "x": 0.05
          },
          "xaxis": {
           "automargin": true,
           "gridcolor": "#EBF0F8",
           "linecolor": "#EBF0F8",
           "ticks": "",
           "title": {
            "standoff": 15
           },
           "zerolinecolor": "#EBF0F8",
           "zerolinewidth": 2
          },
          "yaxis": {
           "automargin": true,
           "gridcolor": "#EBF0F8",
           "linecolor": "#EBF0F8",
           "ticks": "",
           "title": {
            "standoff": 15
           },
           "zerolinecolor": "#EBF0F8",
           "zerolinewidth": 2
          }
         }
        },
        "title": {
         "font": {
          "color": "Black",
          "size": 22
         },
         "text": "Title Clusters in Fake News",
         "x": 0.5,
         "xanchor": "center",
         "yanchor": "top"
        },
        "width": 800,
        "xaxis": {
         "anchor": "y",
         "domain": [
          0,
          0.175
         ],
         "showgrid": true
        },
        "xaxis10": {
         "anchor": "y10",
         "domain": [
          0.275,
          0.45
         ],
         "showgrid": true
        },
        "xaxis11": {
         "anchor": "y11",
         "domain": [
          0.55,
          0.7250000000000001
         ],
         "showgrid": true
        },
        "xaxis12": {
         "anchor": "y12",
         "domain": [
          0.825,
          1
         ],
         "showgrid": true
        },
        "xaxis13": {
         "anchor": "y13",
         "domain": [
          0,
          0.175
         ],
         "showgrid": true
        },
        "xaxis14": {
         "anchor": "y14",
         "domain": [
          0.275,
          0.45
         ],
         "showgrid": true
        },
        "xaxis15": {
         "anchor": "y15",
         "domain": [
          0.55,
          0.7250000000000001
         ],
         "showgrid": true
        },
        "xaxis16": {
         "anchor": "y16",
         "domain": [
          0.825,
          1
         ],
         "showgrid": true
        },
        "xaxis17": {
         "anchor": "y17",
         "domain": [
          0,
          0.175
         ],
         "showgrid": true
        },
        "xaxis18": {
         "anchor": "y18",
         "domain": [
          0.275,
          0.45
         ],
         "showgrid": true
        },
        "xaxis19": {
         "anchor": "y19",
         "domain": [
          0.55,
          0.7250000000000001
         ],
         "showgrid": true
        },
        "xaxis2": {
         "anchor": "y2",
         "domain": [
          0.275,
          0.45
         ],
         "showgrid": true
        },
        "xaxis20": {
         "anchor": "y20",
         "domain": [
          0.825,
          1
         ],
         "showgrid": true
        },
        "xaxis3": {
         "anchor": "y3",
         "domain": [
          0.55,
          0.7250000000000001
         ],
         "showgrid": true
        },
        "xaxis4": {
         "anchor": "y4",
         "domain": [
          0.825,
          1
         ],
         "showgrid": true
        },
        "xaxis5": {
         "anchor": "y5",
         "domain": [
          0,
          0.175
         ],
         "showgrid": true
        },
        "xaxis6": {
         "anchor": "y6",
         "domain": [
          0.275,
          0.45
         ],
         "showgrid": true
        },
        "xaxis7": {
         "anchor": "y7",
         "domain": [
          0.55,
          0.7250000000000001
         ],
         "showgrid": true
        },
        "xaxis8": {
         "anchor": "y8",
         "domain": [
          0.825,
          1
         ],
         "showgrid": true
        },
        "xaxis9": {
         "anchor": "y9",
         "domain": [
          0,
          0.175
         ],
         "showgrid": true
        },
        "yaxis": {
         "anchor": "x",
         "domain": [
          0.8639999999999999,
          0.9999999999999999
         ],
         "showgrid": true
        },
        "yaxis10": {
         "anchor": "x10",
         "domain": [
          0.43199999999999994,
          0.568
         ],
         "showgrid": true
        },
        "yaxis11": {
         "anchor": "x11",
         "domain": [
          0.43199999999999994,
          0.568
         ],
         "showgrid": true
        },
        "yaxis12": {
         "anchor": "x12",
         "domain": [
          0.43199999999999994,
          0.568
         ],
         "showgrid": true
        },
        "yaxis13": {
         "anchor": "x13",
         "domain": [
          0.21599999999999997,
          0.352
         ],
         "showgrid": true
        },
        "yaxis14": {
         "anchor": "x14",
         "domain": [
          0.21599999999999997,
          0.352
         ],
         "showgrid": true
        },
        "yaxis15": {
         "anchor": "x15",
         "domain": [
          0.21599999999999997,
          0.352
         ],
         "showgrid": true
        },
        "yaxis16": {
         "anchor": "x16",
         "domain": [
          0.21599999999999997,
          0.352
         ],
         "showgrid": true
        },
        "yaxis17": {
         "anchor": "x17",
         "domain": [
          0,
          0.13599999999999998
         ],
         "showgrid": true
        },
        "yaxis18": {
         "anchor": "x18",
         "domain": [
          0,
          0.13599999999999998
         ],
         "showgrid": true
        },
        "yaxis19": {
         "anchor": "x19",
         "domain": [
          0,
          0.13599999999999998
         ],
         "showgrid": true
        },
        "yaxis2": {
         "anchor": "x2",
         "domain": [
          0.8639999999999999,
          0.9999999999999999
         ],
         "showgrid": true
        },
        "yaxis20": {
         "anchor": "x20",
         "domain": [
          0,
          0.13599999999999998
         ],
         "showgrid": true
        },
        "yaxis3": {
         "anchor": "x3",
         "domain": [
          0.8639999999999999,
          0.9999999999999999
         ],
         "showgrid": true
        },
        "yaxis4": {
         "anchor": "x4",
         "domain": [
          0.8639999999999999,
          0.9999999999999999
         ],
         "showgrid": true
        },
        "yaxis5": {
         "anchor": "x5",
         "domain": [
          0.6479999999999999,
          0.7839999999999999
         ],
         "showgrid": true
        },
        "yaxis6": {
         "anchor": "x6",
         "domain": [
          0.6479999999999999,
          0.7839999999999999
         ],
         "showgrid": true
        },
        "yaxis7": {
         "anchor": "x7",
         "domain": [
          0.6479999999999999,
          0.7839999999999999
         ],
         "showgrid": true
        },
        "yaxis8": {
         "anchor": "x8",
         "domain": [
          0.6479999999999999,
          0.7839999999999999
         ],
         "showgrid": true
        },
        "yaxis9": {
         "anchor": "x9",
         "domain": [
          0.43199999999999994,
          0.568
         ],
         "showgrid": true
        }
       }
      },
      "text/html": [
       "<div>                            <div id=\"ee40781e-4897-4143-bb19-1ebba3e42c66\" class=\"plotly-graph-div\" style=\"height:1000px; width:800px;\"></div>            <script type=\"text/javascript\">                require([\"plotly\"], function(Plotly) {                    window.PLOTLYENV=window.PLOTLYENV || {};                                    if (document.getElementById(\"ee40781e-4897-4143-bb19-1ebba3e42c66\")) {                    Plotly.newPlot(                        \"ee40781e-4897-4143-bb19-1ebba3e42c66\",                        [{\"marker\":{\"color\":\"#D55E00\"},\"orientation\":\"h\",\"x\":[0.008656309420278422,0.009545444444725834,0.011277957558259942,0.01184130817916718,0.014024802676443291,0.016899844699979575,0.018047242100925842,0.01940704812375824,0.024951049515572116,0.026265395222146916],\"y\":[\"google  \",\"twitter  \",\"trump  \",\"facebook  \",\"media  \",\"daily  \",\"fake  \",\"cnn  \",\"breitbart  \",\"news  \"],\"type\":\"bar\",\"xaxis\":\"x\",\"yaxis\":\"y\"},{\"marker\":{\"color\":\"#0072B2\"},\"orientation\":\"h\",\"x\":[0.009840623210788553,0.010921439664224023,0.011872856700776554,0.012071040790285082,0.01257837434145491,0.013636411495695399,0.015061246173392792,0.01542614599387673,0.027128929459993307,0.037284423053773004],\"y\":[\"mary  \",\"girl  \",\"woman  \",\"feminist  \",\"gender  \",\"march  \",\"female  \",\"beyonc\\u00e9  \",\"fashion  \",\"women  \"],\"type\":\"bar\",\"xaxis\":\"x2\",\"yaxis\":\"y2\"},{\"marker\":{\"color\":\"#CC79A7\"},\"orientation\":\"h\",\"x\":[0.023325635361723076,0.024539411317413294,0.029153503866125283,0.0336248364688535,0.03648919119975561,0.036888078385147356,0.03713290775397213,0.037712310417192633,0.04831174091467633,0.08886555292545416],\"y\":[\"gop  \",\"healthcare  \",\"bill  \",\"health  \",\"rand  \",\"repeal  \",\"care  \",\"ryan  \",\"paul  \",\"obamacare  \"],\"type\":\"bar\",\"xaxis\":\"x3\",\"yaxis\":\"y3\"},{\"marker\":{\"color\":\"#E69F00\"},\"orientation\":\"h\",\"x\":[0.022922588830215886,0.030111449745500583,0.030336023529966876,0.03313178955327233,0.03375092902946631,0.039355093815726015,0.05485113628976927,0.062230043846589304,0.06580511857669634,0.07484190458058884],\"y\":[\"ms  \",\"illegal  \",\"aliens  \",\"agents  \",\"arrested  \",\"patrol  \",\"texas  \",\"border  \",\"mexican  \",\"cartel  \"],\"type\":\"bar\",\"xaxis\":\"x4\",\"yaxis\":\"y4\"},{\"marker\":{\"color\":\"#56B4E9\"},\"orientation\":\"h\",\"x\":[0.01405615200125827,0.014135314887822475,0.014312232689946044,0.014608059772056654,0.018423216008919018,0.018877473570586535,0.029767615630173383,0.032467920125458516,0.048391910240873845,0.051292031235311314],\"y\":[\"terror  \",\"christian  \",\"jihadists  \",\"radical  \",\"state  \",\"christians  \",\"islam  \",\"muslims  \",\"muslim  \",\"islamic  \"],\"type\":\"bar\",\"xaxis\":\"x5\",\"yaxis\":\"y5\"},{\"marker\":{\"color\":\"#009E73\"},\"orientation\":\"h\",\"x\":[0.018697436580505097,0.01875768433356905,0.026580079939695283,0.028158589102861377,0.03174515694965819,0.0332559976979024,0.04034019256984476,0.04770882554143252,0.05366625189528467,0.0897926042347947],\"y\":[\"bank  \",\"palestinians  \",\"settlements  \",\"hamas  \",\"netanyahu  \",\"embassy  \",\"israeli  \",\"jerusalem  \",\"palestinian  \",\"israel  \"],\"type\":\"bar\",\"xaxis\":\"x6\",\"yaxis\":\"y6\"},{\"marker\":{\"color\":\"#F0E442\"},\"orientation\":\"h\",\"x\":[0.016682200541211247,0.01745534023823892,0.01753259271862085,0.01785398158168943,0.02204868618576287,0.033276420802434745,0.033699941698041413,0.04670538214751718,0.05209311174370196,0.07887248278504413],\"y\":[\"cease  \",\"attack  \",\"syrians  \",\"russia  \",\"strike  \",\"chemical  \",\"assad  \",\"aleppo  \",\"syrian  \",\"syria  \"],\"type\":\"bar\",\"xaxis\":\"x7\",\"yaxis\":\"y7\"},{\"marker\":{\"color\":\"#D55E00\"},\"orientation\":\"h\",\"x\":[0.017348086697268,0.018847861333962088,0.019571742037730624,0.021175897751669132,0.02265165966088495,0.029904797205397744,0.03173290920323938,0.05381458046924748,0.0568335733126075,0.1157520302585572],\"y\":[\"riots  \",\"student  \",\"free  \",\"breitbart  \",\"speech  \",\"davis  \",\"event  \",\"uc  \",\"berkeley  \",\"milo  \"],\"type\":\"bar\",\"xaxis\":\"x8\",\"yaxis\":\"y8\"},{\"marker\":{\"color\":\"#0072B2\"},\"orientation\":\"h\",\"x\":[0.0197669619437866,0.0197669619437866,0.02056606551950949,0.020751821368075938,0.020870277639430126,0.026493164260984328,0.02739996600386088,0.03162986718612877,0.03327138729040251,0.053368527299352264],\"y\":[\"shootings  \",\"baton  \",\"rouge  \",\"shot  \",\"man  \",\"officer  \",\"officers  \",\"police  \",\"orlando  \",\"shooting  \"],\"type\":\"bar\",\"xaxis\":\"x9\",\"yaxis\":\"y9\"},{\"marker\":{\"color\":\"#CC79A7\"},\"orientation\":\"h\",\"x\":[0.01812402212521284,0.01897831674947091,0.023729525041085154,0.024305848501004774,0.028733560627393857,0.03547988129667679,0.03624434894501343,0.05058686151858314,0.051591215050030594,0.05771507375180205],\"y\":[\"breitbart  \",\"fs1  \",\"patriots  \",\"anthem  \",\"brady  \",\"colin  \",\"sports  \",\"espn  \",\"kaepernick  \",\"nfl  \"],\"type\":\"bar\",\"xaxis\":\"x10\",\"yaxis\":\"y10\"},{\"marker\":{\"color\":\"#E69F00\"},\"orientation\":\"h\",\"x\":[0.011498554295214885,0.01271237793137114,0.013127654496526588,0.014841656950371639,0.01929646120354143,0.019691481744789883,0.021064165899041875,0.022594382942894606,0.04340745512274546,0.1096999805414889],\"y\":[\"pop  \",\"author  \",\"83  \",\"star  \",\"who  \",\"87  \",\"94  \",\"prince  \",\"at  \",\"dies  \"],\"type\":\"bar\",\"xaxis\":\"x11\",\"yaxis\":\"y11\"},{\"marker\":{\"color\":\"#56B4E9\"},\"orientation\":\"h\",\"x\":[0.02816857201793792,0.031118480114432048,0.0323030823111646,0.03250219848223607,0.03321335427042718,0.033555035555512286,0.033804960526363774,0.06513229503792838,0.0697075199194944,0.07925351198794828],\"y\":[\"friday  \",\"thursday  \",\"donald  \",\"wednesday  \",\"cruz  \",\"ted  \",\"monday  \",\"your  \",\"evening  \",\"briefing  \"],\"type\":\"bar\",\"xaxis\":\"x12\",\"yaxis\":\"y12\"},{\"marker\":{\"color\":\"#009E73\"},\"orientation\":\"h\",\"x\":[0.011170804768194726,0.01561281909477662,0.016067816802323505,0.01794567925230975,0.019281380162788204,0.019745140439433012,0.02514988398596777,0.03143735498245971,0.050488181411145014,0.08838889559895666],\"y\":[\"chip  \",\"trade  \",\"beijing  \",\"jinping  \",\"kong  \",\"hong  \",\"xi  \",\"taiwan  \",\"chinese  \",\"china  \"],\"type\":\"bar\",\"xaxis\":\"x13\",\"yaxis\":\"y13\"},{\"marker\":{\"color\":\"#F0E442\"},\"orientation\":\"h\",\"x\":[0.016649115270498553,0.017481894913096336,0.018732038236576837,0.020190665352811832,0.020193646221879566,0.02291376364669782,0.027472609604988065,0.027619109526607587,0.04092911977556541,0.08271899647511345],\"y\":[\"bill  \",\"affordable  \",\"act  \",\"republicans  \",\"repeal  \",\"obamacare  \",\"law  \",\"insurance  \",\"care  \",\"health  \"],\"type\":\"bar\",\"xaxis\":\"x14\",\"yaxis\":\"y14\"},{\"marker\":{\"color\":\"#D55E00\"},\"orientation\":\"h\",\"x\":[0.024348110881206503,0.024556523911028718,0.024859480926180663,0.03984943596923837,0.04322076982712113,0.04449391790683054,0.0504614029957981,0.057752350569399175,0.08754938935729781,0.10644103875055015],\"y\":[\"test  \",\"nam  \",\"nuclear  \",\"missile  \",\"jong  \",\"kim  \",\"south  \",\"korean  \",\"north  \",\"korea  \"],\"type\":\"bar\",\"xaxis\":\"x15\",\"yaxis\":\"y15\"},{\"marker\":{\"color\":\"#0072B2\"},\"orientation\":\"h\",\"x\":[0.0261663214350473,0.02991315708743923,0.03130387332571335,0.035284992081847336,0.040954323322758286,0.04311362989329428,0.04824554641182114,0.0523885238377035,0.05747270562758063,0.105839087921845],\"y\":[\"warming  \",\"global  \",\"scott  \",\"epa  \",\"agreement  \",\"pruitt  \",\"change  \",\"paris  \",\"delingpole  \",\"climate  \"],\"type\":\"bar\",\"xaxis\":\"x16\",\"yaxis\":\"y16\"},{\"marker\":{\"color\":\"#CC79A7\"},\"orientation\":\"h\",\"x\":[0.009324538335893768,0.009858818153915105,0.010007188846984007,0.010534148797894513,0.010959770987801067,0.011223377969373664,0.01228701944743375,0.013901979871483157,0.07742684796317689,0.07840781724007015],\"y\":[\"mate  \",\"her  \",\"shrunk  \",\"has  \",\"donors  \",\"recount  \",\"she  \",\"donald  \",\"clinton  \",\"hillary  \"],\"type\":\"bar\",\"xaxis\":\"x17\",\"yaxis\":\"y17\"},{\"marker\":{\"color\":\"#E69F00\"},\"orientation\":\"h\",\"x\":[0.018615111611143757,0.018811558042754785,0.01885864543751236,0.022809144734286045,0.02352047745396236,0.03196576378197604,0.03442351176757885,0.04021540195854754,0.041550522679157015,0.043830240924036874],\"y\":[\"bomb  \",\"suspect  \",\"injured  \",\"westminster  \",\"france  \",\"attacker  \",\"truck  \",\"london  \",\"attack  \",\"terror  \"],\"type\":\"bar\",\"xaxis\":\"x18\",\"yaxis\":\"y18\"},{\"marker\":{\"color\":\"#56B4E9\"},\"orientation\":\"h\",\"x\":[0.015548380853896994,0.01584819468404149,0.017004622812494506,0.018093546272366236,0.01877141475404507,0.0224878057801705,0.024566827920311323,0.02893900998836603,0.05196010014231886,0.11685573455790471],\"y\":[\"may  \",\"independence  \",\"british  \",\"labour  \",\"boris  \",\"minister  \",\"prime  \",\"theresa  \",\"britain  \",\"brexit  \"],\"type\":\"bar\",\"xaxis\":\"x19\",\"yaxis\":\"y19\"},{\"marker\":{\"color\":\"#009E73\"},\"orientation\":\"h\",\"x\":[0.013679314592583225,0.01691954368128383,0.017845237160072552,0.0182390861234443,0.025038331405066446,0.025282225472753984,0.026295597542677327,0.04859950866633084,0.054817312453299724,0.057616607049315115],\"y\":[\"hacked  \",\"cyberattacks  \",\"hacks  \",\"dossier  \",\"intelligence  \",\"election  \",\"hackers  \",\"hacking  \",\"russian  \",\"russia  \"],\"type\":\"bar\",\"xaxis\":\"x20\",\"yaxis\":\"y20\"}],                        {\"template\":{\"data\":{\"barpolar\":[{\"marker\":{\"line\":{\"color\":\"white\",\"width\":0.5},\"pattern\":{\"fillmode\":\"overlay\",\"size\":10,\"solidity\":0.2}},\"type\":\"barpolar\"}],\"bar\":[{\"error_x\":{\"color\":\"#2a3f5f\"},\"error_y\":{\"color\":\"#2a3f5f\"},\"marker\":{\"line\":{\"color\":\"white\",\"width\":0.5},\"pattern\":{\"fillmode\":\"overlay\",\"size\":10,\"solidity\":0.2}},\"type\":\"bar\"}],\"carpet\":[{\"aaxis\":{\"endlinecolor\":\"#2a3f5f\",\"gridcolor\":\"#C8D4E3\",\"linecolor\":\"#C8D4E3\",\"minorgridcolor\":\"#C8D4E3\",\"startlinecolor\":\"#2a3f5f\"},\"baxis\":{\"endlinecolor\":\"#2a3f5f\",\"gridcolor\":\"#C8D4E3\",\"linecolor\":\"#C8D4E3\",\"minorgridcolor\":\"#C8D4E3\",\"startlinecolor\":\"#2a3f5f\"},\"type\":\"carpet\"}],\"choropleth\":[{\"colorbar\":{\"outlinewidth\":0,\"ticks\":\"\"},\"type\":\"choropleth\"}],\"contourcarpet\":[{\"colorbar\":{\"outlinewidth\":0,\"ticks\":\"\"},\"type\":\"contourcarpet\"}],\"contour\":[{\"colorbar\":{\"outlinewidth\":0,\"ticks\":\"\"},\"colorscale\":[[0.0,\"#0d0887\"],[0.1111111111111111,\"#46039f\"],[0.2222222222222222,\"#7201a8\"],[0.3333333333333333,\"#9c179e\"],[0.4444444444444444,\"#bd3786\"],[0.5555555555555556,\"#d8576b\"],[0.6666666666666666,\"#ed7953\"],[0.7777777777777778,\"#fb9f3a\"],[0.8888888888888888,\"#fdca26\"],[1.0,\"#f0f921\"]],\"type\":\"contour\"}],\"heatmapgl\":[{\"colorbar\":{\"outlinewidth\":0,\"ticks\":\"\"},\"colorscale\":[[0.0,\"#0d0887\"],[0.1111111111111111,\"#46039f\"],[0.2222222222222222,\"#7201a8\"],[0.3333333333333333,\"#9c179e\"],[0.4444444444444444,\"#bd3786\"],[0.5555555555555556,\"#d8576b\"],[0.6666666666666666,\"#ed7953\"],[0.7777777777777778,\"#fb9f3a\"],[0.8888888888888888,\"#fdca26\"],[1.0,\"#f0f921\"]],\"type\":\"heatmapgl\"}],\"heatmap\":[{\"colorbar\":{\"outlinewidth\":0,\"ticks\":\"\"},\"colorscale\":[[0.0,\"#0d0887\"],[0.1111111111111111,\"#46039f\"],[0.2222222222222222,\"#7201a8\"],[0.3333333333333333,\"#9c179e\"],[0.4444444444444444,\"#bd3786\"],[0.5555555555555556,\"#d8576b\"],[0.6666666666666666,\"#ed7953\"],[0.7777777777777778,\"#fb9f3a\"],[0.8888888888888888,\"#fdca26\"],[1.0,\"#f0f921\"]],\"type\":\"heatmap\"}],\"histogram2dcontour\":[{\"colorbar\":{\"outlinewidth\":0,\"ticks\":\"\"},\"colorscale\":[[0.0,\"#0d0887\"],[0.1111111111111111,\"#46039f\"],[0.2222222222222222,\"#7201a8\"],[0.3333333333333333,\"#9c179e\"],[0.4444444444444444,\"#bd3786\"],[0.5555555555555556,\"#d8576b\"],[0.6666666666666666,\"#ed7953\"],[0.7777777777777778,\"#fb9f3a\"],[0.8888888888888888,\"#fdca26\"],[1.0,\"#f0f921\"]],\"type\":\"histogram2dcontour\"}],\"histogram2d\":[{\"colorbar\":{\"outlinewidth\":0,\"ticks\":\"\"},\"colorscale\":[[0.0,\"#0d0887\"],[0.1111111111111111,\"#46039f\"],[0.2222222222222222,\"#7201a8\"],[0.3333333333333333,\"#9c179e\"],[0.4444444444444444,\"#bd3786\"],[0.5555555555555556,\"#d8576b\"],[0.6666666666666666,\"#ed7953\"],[0.7777777777777778,\"#fb9f3a\"],[0.8888888888888888,\"#fdca26\"],[1.0,\"#f0f921\"]],\"type\":\"histogram2d\"}],\"histogram\":[{\"marker\":{\"pattern\":{\"fillmode\":\"overlay\",\"size\":10,\"solidity\":0.2}},\"type\":\"histogram\"}],\"mesh3d\":[{\"colorbar\":{\"outlinewidth\":0,\"ticks\":\"\"},\"type\":\"mesh3d\"}],\"parcoords\":[{\"line\":{\"colorbar\":{\"outlinewidth\":0,\"ticks\":\"\"}},\"type\":\"parcoords\"}],\"pie\":[{\"automargin\":true,\"type\":\"pie\"}],\"scatter3d\":[{\"line\":{\"colorbar\":{\"outlinewidth\":0,\"ticks\":\"\"}},\"marker\":{\"colorbar\":{\"outlinewidth\":0,\"ticks\":\"\"}},\"type\":\"scatter3d\"}],\"scattercarpet\":[{\"marker\":{\"colorbar\":{\"outlinewidth\":0,\"ticks\":\"\"}},\"type\":\"scattercarpet\"}],\"scattergeo\":[{\"marker\":{\"colorbar\":{\"outlinewidth\":0,\"ticks\":\"\"}},\"type\":\"scattergeo\"}],\"scattergl\":[{\"marker\":{\"colorbar\":{\"outlinewidth\":0,\"ticks\":\"\"}},\"type\":\"scattergl\"}],\"scattermapbox\":[{\"marker\":{\"colorbar\":{\"outlinewidth\":0,\"ticks\":\"\"}},\"type\":\"scattermapbox\"}],\"scatterpolargl\":[{\"marker\":{\"colorbar\":{\"outlinewidth\":0,\"ticks\":\"\"}},\"type\":\"scatterpolargl\"}],\"scatterpolar\":[{\"marker\":{\"colorbar\":{\"outlinewidth\":0,\"ticks\":\"\"}},\"type\":\"scatterpolar\"}],\"scatter\":[{\"fillpattern\":{\"fillmode\":\"overlay\",\"size\":10,\"solidity\":0.2},\"type\":\"scatter\"}],\"scatterternary\":[{\"marker\":{\"colorbar\":{\"outlinewidth\":0,\"ticks\":\"\"}},\"type\":\"scatterternary\"}],\"surface\":[{\"colorbar\":{\"outlinewidth\":0,\"ticks\":\"\"},\"colorscale\":[[0.0,\"#0d0887\"],[0.1111111111111111,\"#46039f\"],[0.2222222222222222,\"#7201a8\"],[0.3333333333333333,\"#9c179e\"],[0.4444444444444444,\"#bd3786\"],[0.5555555555555556,\"#d8576b\"],[0.6666666666666666,\"#ed7953\"],[0.7777777777777778,\"#fb9f3a\"],[0.8888888888888888,\"#fdca26\"],[1.0,\"#f0f921\"]],\"type\":\"surface\"}],\"table\":[{\"cells\":{\"fill\":{\"color\":\"#EBF0F8\"},\"line\":{\"color\":\"white\"}},\"header\":{\"fill\":{\"color\":\"#C8D4E3\"},\"line\":{\"color\":\"white\"}},\"type\":\"table\"}]},\"layout\":{\"annotationdefaults\":{\"arrowcolor\":\"#2a3f5f\",\"arrowhead\":0,\"arrowwidth\":1},\"autotypenumbers\":\"strict\",\"coloraxis\":{\"colorbar\":{\"outlinewidth\":0,\"ticks\":\"\"}},\"colorscale\":{\"diverging\":[[0,\"#8e0152\"],[0.1,\"#c51b7d\"],[0.2,\"#de77ae\"],[0.3,\"#f1b6da\"],[0.4,\"#fde0ef\"],[0.5,\"#f7f7f7\"],[0.6,\"#e6f5d0\"],[0.7,\"#b8e186\"],[0.8,\"#7fbc41\"],[0.9,\"#4d9221\"],[1,\"#276419\"]],\"sequential\":[[0.0,\"#0d0887\"],[0.1111111111111111,\"#46039f\"],[0.2222222222222222,\"#7201a8\"],[0.3333333333333333,\"#9c179e\"],[0.4444444444444444,\"#bd3786\"],[0.5555555555555556,\"#d8576b\"],[0.6666666666666666,\"#ed7953\"],[0.7777777777777778,\"#fb9f3a\"],[0.8888888888888888,\"#fdca26\"],[1.0,\"#f0f921\"]],\"sequentialminus\":[[0.0,\"#0d0887\"],[0.1111111111111111,\"#46039f\"],[0.2222222222222222,\"#7201a8\"],[0.3333333333333333,\"#9c179e\"],[0.4444444444444444,\"#bd3786\"],[0.5555555555555556,\"#d8576b\"],[0.6666666666666666,\"#ed7953\"],[0.7777777777777778,\"#fb9f3a\"],[0.8888888888888888,\"#fdca26\"],[1.0,\"#f0f921\"]]},\"colorway\":[\"#636efa\",\"#EF553B\",\"#00cc96\",\"#ab63fa\",\"#FFA15A\",\"#19d3f3\",\"#FF6692\",\"#B6E880\",\"#FF97FF\",\"#FECB52\"],\"font\":{\"color\":\"#2a3f5f\"},\"geo\":{\"bgcolor\":\"white\",\"lakecolor\":\"white\",\"landcolor\":\"white\",\"showlakes\":true,\"showland\":true,\"subunitcolor\":\"#C8D4E3\"},\"hoverlabel\":{\"align\":\"left\"},\"hovermode\":\"closest\",\"mapbox\":{\"style\":\"light\"},\"paper_bgcolor\":\"white\",\"plot_bgcolor\":\"white\",\"polar\":{\"angularaxis\":{\"gridcolor\":\"#EBF0F8\",\"linecolor\":\"#EBF0F8\",\"ticks\":\"\"},\"bgcolor\":\"white\",\"radialaxis\":{\"gridcolor\":\"#EBF0F8\",\"linecolor\":\"#EBF0F8\",\"ticks\":\"\"}},\"scene\":{\"xaxis\":{\"backgroundcolor\":\"white\",\"gridcolor\":\"#DFE8F3\",\"gridwidth\":2,\"linecolor\":\"#EBF0F8\",\"showbackground\":true,\"ticks\":\"\",\"zerolinecolor\":\"#EBF0F8\"},\"yaxis\":{\"backgroundcolor\":\"white\",\"gridcolor\":\"#DFE8F3\",\"gridwidth\":2,\"linecolor\":\"#EBF0F8\",\"showbackground\":true,\"ticks\":\"\",\"zerolinecolor\":\"#EBF0F8\"},\"zaxis\":{\"backgroundcolor\":\"white\",\"gridcolor\":\"#DFE8F3\",\"gridwidth\":2,\"linecolor\":\"#EBF0F8\",\"showbackground\":true,\"ticks\":\"\",\"zerolinecolor\":\"#EBF0F8\"}},\"shapedefaults\":{\"line\":{\"color\":\"#2a3f5f\"}},\"ternary\":{\"aaxis\":{\"gridcolor\":\"#DFE8F3\",\"linecolor\":\"#A2B1C6\",\"ticks\":\"\"},\"baxis\":{\"gridcolor\":\"#DFE8F3\",\"linecolor\":\"#A2B1C6\",\"ticks\":\"\"},\"bgcolor\":\"white\",\"caxis\":{\"gridcolor\":\"#DFE8F3\",\"linecolor\":\"#A2B1C6\",\"ticks\":\"\"}},\"title\":{\"x\":0.05},\"xaxis\":{\"automargin\":true,\"gridcolor\":\"#EBF0F8\",\"linecolor\":\"#EBF0F8\",\"ticks\":\"\",\"title\":{\"standoff\":15},\"zerolinecolor\":\"#EBF0F8\",\"zerolinewidth\":2},\"yaxis\":{\"automargin\":true,\"gridcolor\":\"#EBF0F8\",\"linecolor\":\"#EBF0F8\",\"ticks\":\"\",\"title\":{\"standoff\":15},\"zerolinecolor\":\"#EBF0F8\",\"zerolinewidth\":2}}},\"xaxis\":{\"anchor\":\"y\",\"domain\":[0.0,0.175],\"showgrid\":true},\"yaxis\":{\"anchor\":\"x\",\"domain\":[0.8639999999999999,0.9999999999999999],\"showgrid\":true},\"xaxis2\":{\"anchor\":\"y2\",\"domain\":[0.275,0.45],\"showgrid\":true},\"yaxis2\":{\"anchor\":\"x2\",\"domain\":[0.8639999999999999,0.9999999999999999],\"showgrid\":true},\"xaxis3\":{\"anchor\":\"y3\",\"domain\":[0.55,0.7250000000000001],\"showgrid\":true},\"yaxis3\":{\"anchor\":\"x3\",\"domain\":[0.8639999999999999,0.9999999999999999],\"showgrid\":true},\"xaxis4\":{\"anchor\":\"y4\",\"domain\":[0.825,1.0],\"showgrid\":true},\"yaxis4\":{\"anchor\":\"x4\",\"domain\":[0.8639999999999999,0.9999999999999999],\"showgrid\":true},\"xaxis5\":{\"anchor\":\"y5\",\"domain\":[0.0,0.175],\"showgrid\":true},\"yaxis5\":{\"anchor\":\"x5\",\"domain\":[0.6479999999999999,0.7839999999999999],\"showgrid\":true},\"xaxis6\":{\"anchor\":\"y6\",\"domain\":[0.275,0.45],\"showgrid\":true},\"yaxis6\":{\"anchor\":\"x6\",\"domain\":[0.6479999999999999,0.7839999999999999],\"showgrid\":true},\"xaxis7\":{\"anchor\":\"y7\",\"domain\":[0.55,0.7250000000000001],\"showgrid\":true},\"yaxis7\":{\"anchor\":\"x7\",\"domain\":[0.6479999999999999,0.7839999999999999],\"showgrid\":true},\"xaxis8\":{\"anchor\":\"y8\",\"domain\":[0.825,1.0],\"showgrid\":true},\"yaxis8\":{\"anchor\":\"x8\",\"domain\":[0.6479999999999999,0.7839999999999999],\"showgrid\":true},\"xaxis9\":{\"anchor\":\"y9\",\"domain\":[0.0,0.175],\"showgrid\":true},\"yaxis9\":{\"anchor\":\"x9\",\"domain\":[0.43199999999999994,0.568],\"showgrid\":true},\"xaxis10\":{\"anchor\":\"y10\",\"domain\":[0.275,0.45],\"showgrid\":true},\"yaxis10\":{\"anchor\":\"x10\",\"domain\":[0.43199999999999994,0.568],\"showgrid\":true},\"xaxis11\":{\"anchor\":\"y11\",\"domain\":[0.55,0.7250000000000001],\"showgrid\":true},\"yaxis11\":{\"anchor\":\"x11\",\"domain\":[0.43199999999999994,0.568],\"showgrid\":true},\"xaxis12\":{\"anchor\":\"y12\",\"domain\":[0.825,1.0],\"showgrid\":true},\"yaxis12\":{\"anchor\":\"x12\",\"domain\":[0.43199999999999994,0.568],\"showgrid\":true},\"xaxis13\":{\"anchor\":\"y13\",\"domain\":[0.0,0.175],\"showgrid\":true},\"yaxis13\":{\"anchor\":\"x13\",\"domain\":[0.21599999999999997,0.352],\"showgrid\":true},\"xaxis14\":{\"anchor\":\"y14\",\"domain\":[0.275,0.45],\"showgrid\":true},\"yaxis14\":{\"anchor\":\"x14\",\"domain\":[0.21599999999999997,0.352],\"showgrid\":true},\"xaxis15\":{\"anchor\":\"y15\",\"domain\":[0.55,0.7250000000000001],\"showgrid\":true},\"yaxis15\":{\"anchor\":\"x15\",\"domain\":[0.21599999999999997,0.352],\"showgrid\":true},\"xaxis16\":{\"anchor\":\"y16\",\"domain\":[0.825,1.0],\"showgrid\":true},\"yaxis16\":{\"anchor\":\"x16\",\"domain\":[0.21599999999999997,0.352],\"showgrid\":true},\"xaxis17\":{\"anchor\":\"y17\",\"domain\":[0.0,0.175],\"showgrid\":true},\"yaxis17\":{\"anchor\":\"x17\",\"domain\":[0.0,0.13599999999999998],\"showgrid\":true},\"xaxis18\":{\"anchor\":\"y18\",\"domain\":[0.275,0.45],\"showgrid\":true},\"yaxis18\":{\"anchor\":\"x18\",\"domain\":[0.0,0.13599999999999998],\"showgrid\":true},\"xaxis19\":{\"anchor\":\"y19\",\"domain\":[0.55,0.7250000000000001],\"showgrid\":true},\"yaxis19\":{\"anchor\":\"x19\",\"domain\":[0.0,0.13599999999999998],\"showgrid\":true},\"xaxis20\":{\"anchor\":\"y20\",\"domain\":[0.825,1.0],\"showgrid\":true},\"yaxis20\":{\"anchor\":\"x20\",\"domain\":[0.0,0.13599999999999998],\"showgrid\":true},\"annotations\":[{\"font\":{\"size\":16},\"showarrow\":false,\"text\":\"Topic 0\",\"x\":0.0875,\"xanchor\":\"center\",\"xref\":\"paper\",\"y\":0.9999999999999999,\"yanchor\":\"bottom\",\"yref\":\"paper\"},{\"font\":{\"size\":16},\"showarrow\":false,\"text\":\"Topic 1\",\"x\":0.36250000000000004,\"xanchor\":\"center\",\"xref\":\"paper\",\"y\":0.9999999999999999,\"yanchor\":\"bottom\",\"yref\":\"paper\"},{\"font\":{\"size\":16},\"showarrow\":false,\"text\":\"Topic 2\",\"x\":0.6375000000000001,\"xanchor\":\"center\",\"xref\":\"paper\",\"y\":0.9999999999999999,\"yanchor\":\"bottom\",\"yref\":\"paper\"},{\"font\":{\"size\":16},\"showarrow\":false,\"text\":\"Topic 3\",\"x\":0.9125,\"xanchor\":\"center\",\"xref\":\"paper\",\"y\":0.9999999999999999,\"yanchor\":\"bottom\",\"yref\":\"paper\"},{\"font\":{\"size\":16},\"showarrow\":false,\"text\":\"Topic 4\",\"x\":0.0875,\"xanchor\":\"center\",\"xref\":\"paper\",\"y\":0.7839999999999999,\"yanchor\":\"bottom\",\"yref\":\"paper\"},{\"font\":{\"size\":16},\"showarrow\":false,\"text\":\"Topic 5\",\"x\":0.36250000000000004,\"xanchor\":\"center\",\"xref\":\"paper\",\"y\":0.7839999999999999,\"yanchor\":\"bottom\",\"yref\":\"paper\"},{\"font\":{\"size\":16},\"showarrow\":false,\"text\":\"Topic 6\",\"x\":0.6375000000000001,\"xanchor\":\"center\",\"xref\":\"paper\",\"y\":0.7839999999999999,\"yanchor\":\"bottom\",\"yref\":\"paper\"},{\"font\":{\"size\":16},\"showarrow\":false,\"text\":\"Topic 7\",\"x\":0.9125,\"xanchor\":\"center\",\"xref\":\"paper\",\"y\":0.7839999999999999,\"yanchor\":\"bottom\",\"yref\":\"paper\"},{\"font\":{\"size\":16},\"showarrow\":false,\"text\":\"Topic 8\",\"x\":0.0875,\"xanchor\":\"center\",\"xref\":\"paper\",\"y\":0.568,\"yanchor\":\"bottom\",\"yref\":\"paper\"},{\"font\":{\"size\":16},\"showarrow\":false,\"text\":\"Topic 9\",\"x\":0.36250000000000004,\"xanchor\":\"center\",\"xref\":\"paper\",\"y\":0.568,\"yanchor\":\"bottom\",\"yref\":\"paper\"},{\"font\":{\"size\":16},\"showarrow\":false,\"text\":\"Topic 10\",\"x\":0.6375000000000001,\"xanchor\":\"center\",\"xref\":\"paper\",\"y\":0.568,\"yanchor\":\"bottom\",\"yref\":\"paper\"},{\"font\":{\"size\":16},\"showarrow\":false,\"text\":\"Topic 11\",\"x\":0.9125,\"xanchor\":\"center\",\"xref\":\"paper\",\"y\":0.568,\"yanchor\":\"bottom\",\"yref\":\"paper\"},{\"font\":{\"size\":16},\"showarrow\":false,\"text\":\"Topic 12\",\"x\":0.0875,\"xanchor\":\"center\",\"xref\":\"paper\",\"y\":0.352,\"yanchor\":\"bottom\",\"yref\":\"paper\"},{\"font\":{\"size\":16},\"showarrow\":false,\"text\":\"Topic 13\",\"x\":0.36250000000000004,\"xanchor\":\"center\",\"xref\":\"paper\",\"y\":0.352,\"yanchor\":\"bottom\",\"yref\":\"paper\"},{\"font\":{\"size\":16},\"showarrow\":false,\"text\":\"Topic 14\",\"x\":0.6375000000000001,\"xanchor\":\"center\",\"xref\":\"paper\",\"y\":0.352,\"yanchor\":\"bottom\",\"yref\":\"paper\"},{\"font\":{\"size\":16},\"showarrow\":false,\"text\":\"Topic 15\",\"x\":0.9125,\"xanchor\":\"center\",\"xref\":\"paper\",\"y\":0.352,\"yanchor\":\"bottom\",\"yref\":\"paper\"},{\"font\":{\"size\":16},\"showarrow\":false,\"text\":\"Topic 16\",\"x\":0.0875,\"xanchor\":\"center\",\"xref\":\"paper\",\"y\":0.13599999999999998,\"yanchor\":\"bottom\",\"yref\":\"paper\"},{\"font\":{\"size\":16},\"showarrow\":false,\"text\":\"Topic 17\",\"x\":0.36250000000000004,\"xanchor\":\"center\",\"xref\":\"paper\",\"y\":0.13599999999999998,\"yanchor\":\"bottom\",\"yref\":\"paper\"},{\"font\":{\"size\":16},\"showarrow\":false,\"text\":\"Topic 18\",\"x\":0.6375000000000001,\"xanchor\":\"center\",\"xref\":\"paper\",\"y\":0.13599999999999998,\"yanchor\":\"bottom\",\"yref\":\"paper\"},{\"font\":{\"size\":16},\"showarrow\":false,\"text\":\"Topic 19\",\"x\":0.9125,\"xanchor\":\"center\",\"xref\":\"paper\",\"y\":0.13599999999999998,\"yanchor\":\"bottom\",\"yref\":\"paper\"}],\"title\":{\"font\":{\"size\":22,\"color\":\"Black\"},\"text\":\"Title Clusters in Fake News\",\"x\":0.5,\"xanchor\":\"center\",\"yanchor\":\"top\"},\"hoverlabel\":{\"font\":{\"size\":16,\"family\":\"Rockwell\"},\"bgcolor\":\"white\"},\"showlegend\":false,\"width\":800,\"height\":1000},                        {\"responsive\": true}                    ).then(function(){\n",
       "                            \n",
       "var gd = document.getElementById('ee40781e-4897-4143-bb19-1ebba3e42c66');\n",
       "var x = new MutationObserver(function (mutations, observer) {{\n",
       "        var display = window.getComputedStyle(gd).display;\n",
       "        if (!display || display === 'none') {{\n",
       "            console.log([gd, 'removed!']);\n",
       "            Plotly.purge(gd);\n",
       "            observer.disconnect();\n",
       "        }}\n",
       "}});\n",
       "\n",
       "// Listen for the removal of the full notebook cells\n",
       "var notebookContainer = gd.closest('#notebook-container');\n",
       "if (notebookContainer) {{\n",
       "    x.observe(notebookContainer, {childList: true});\n",
       "}}\n",
       "\n",
       "// Listen for the clearing of the current output cell\n",
       "var outputEl = gd.closest('.output');\n",
       "if (outputEl) {{\n",
       "    x.observe(outputEl, {childList: true});\n",
       "}}\n",
       "\n",
       "                        })                };                });            </script>        </div>"
      ]
     },
     "metadata": {},
     "output_type": "display_data"
    }
   ],
   "source": [
    "title_fake_topic_model.visualize_barchart(width=200, height=200, top_n_topics=20, n_words=10,title=\"Title Clusters in Fake News\")"
   ]
  },
  {
   "cell_type": "markdown",
   "id": "922c333e",
   "metadata": {},
   "source": [
    "When we look at Topic 0, Breitbart comes up. Turns out, this dataset contains also the headline news source sometimes."
   ]
  },
  {
   "cell_type": "code",
   "execution_count": 14,
   "id": "ab9ebb32",
   "metadata": {},
   "outputs": [
    {
     "name": "stdout",
     "output_type": "stream",
     "text": [
      "Chuck Todd to BuzzFeed EIC: ’You Just Published Fake News’ - Breitbart\n",
      "Breitbart News Daily: Trump Boom - Breitbart\n",
      "TV Anchors Arrive at the White House for Lunch with Donald Trump - Breitbart\n",
      "Pelosi: Republicans Should Tell Trump He’s ’Bringing Dishonor’ to the Presidency - Breitbart\n",
      "CNN Statement Distances Network from Buzzfeed Fake News Dossier - Breitbart\n",
      "Pew: American Trust Level in Federal Government Plummets to Historic Lows - Breitbart\n",
      "Al Sharpton to Dems: No Point Appealing to ‘Archie Bunker’ Trump Voters - Breitbart\n",
      "Atlantic’s Goldberg: I’m ‘Not Confident’ Trump Can Handle ‘Matters of Life and Death’ - Breitbart\n",
      "The Vanquished to Witness the Takeover: Bushes, Clintons Will Attend Donald Trump’s Inauguration - Breitbart\n",
      "Trump at Inaugural Balls: ’Now the Work Begins ... We Are Not Playing Games’ - Breitbart\n",
      "Media Outrage over White House ’Exclusion’ is Fake News - Breitbart\n",
      "There’s Only One Trump Administration Position That’s Gaining Popularity And It’s Going To Shock You - Breitbart\n",
      "After Blimp Crash and E. Coli Contamination, Snakebitten U.S. Open Witnesses a Spectator Death - Breitbart\n",
      "Breitbart News Daily: Draining the Swamp - Breitbart\n",
      "Big Pharma’s Martin Shkreli Suspended From Twitter - Breitbart\n",
      "Google Launches AI Program to Detect ’Hate Speech’ - Breitbart\n",
      "Rush Limbaugh: O’Reilly Departure Was Not ’Natural’ - It was a ’Campaign’ - Breitbart\n",
      "Breitbart News Daily: Gorsuch for SCOTUS - Breitbart\n",
      "Trump Budget: ‘A New Foundation for American Greatness’ - Breitbart\n",
      "Fake News: New York Times Targets Breitbart for Reporting Truth - Breitbart\n",
      "Los Angeles Times Editorial Loses It over Trump: ’Narcissist,’ ’Demagogue’ - Breitbart\n",
      "Watch: Blimp Crashes, Catches Fire at US Open - Breitbart\n",
      "Georgia Candidate Jon Ossoff’s Film Firm Financed by Facebook Fact Check Funder\n",
      "Trump Counselor Kellyanne Conway, NFL Star Ben Watson to Headline 44th Annual March for Life in Washington, D.C. - Breitbart\n",
      "GE CEO Jeff Immelt Recalls Trump Hole-in-One: ’I’ve Seen the Magic’ - Breitbart\n",
      "Comey Crawl: D.C. Bars Plan Testimony Drink Special Bonanza on Thursday Morning - Breitbart\n",
      "Indiana YMCA Removes CNN from TVs Over Complaints About ’Fake News’ - Breitbart\n",
      "Fake News: USDA, Journos Blame Breitbart for Fox News Error Without Evidence - Breitbart\n",
      "Report: Facebook, Google Secretly Teaming with David Brock’s Media Matters over Fake News - Breitbart\n",
      "Krauthammer: Dems ’Trying To Leave Behind As Many Landmines As They Can’ To Undercut Legitimacy of Trump Win - Breitbart\n",
      "Trump: ’Our Partners Must Show That They’re Partners’ and ’Must Contribute Financially’ - Breitbart\n",
      "Poll: 96% of Trump Supporters Would Vote for Him Again, Win Popular Vote - Breitbart\n",
      "Shep Smith: No Journalist Should ’Be Subjected to Belittling or Delegitimizing By the President-elect’ - Breitbart\n",
      "Limbaugh: Many People Would Not Have Voted for Obama If He Were White - Breitbart\n",
      "Breitbart News Daily: March for Life - Breitbart\n",
      "Breitbart News Daily: WWI Centennial - Breitbart\n",
      "Google Launches ’Fact Check’ Label for Search Results - Breitbart\n",
      "Pelosi: ’I Think the Press Were Accomplices in the Undermining of Our Election’ - Breitbart\n",
      "Peter Schweizer: Clinton Global Initiative Folded Because They Can No Longer ‘Sell Access to Political Power’ - Breitbart\n",
      "Snap IPO Warning: Ex-Employee Says Books Are Cooked - Breitbart\n",
      "Dems Plan Summer Camps for Trump Resisters  - Breitbart\n",
      "Exclusive — White House Social Media Team: ‘Not Surprised’ President Trump Shattered Social Media Records in Joint Session Speech - Breitbart\n",
      "Gutfeld: Even When Trump Loses, He Ends Up Winning - Breitbart\n",
      "Breitbart News Daily: Dutch Election Results - Breitbart\n",
      "Fake News About the Office of Congressional Ethics - Breitbart\n",
      "War on Comments: Google Built an A.I. to Censor the Web, And the Media Is Celebrating - Breitbart\n",
      "Franken: I’ll Still Appear With Griffin, Picture Was ’Horrible Mistake’ - Apology Was ’The Right Thing’ - Breitbart\n",
      "CBS News Awed by ’Relatively Reliable’ Smart Gun - Breitbart\n",
      "Trump to CNN: ’You Are Fake News’ - Breitbart\n",
      "Dannenfelser: Trump’s SCOTUS Finalists Would Defend Life - Breitbart\n"
     ]
    }
   ],
   "source": [
    "# Filter above data frame by topic 6 only:\n",
    "topic_fake_df = pd.DataFrame({\"topic\": title_fake_topics, \"document\": title_fake})\n",
    "topic_fake = topic_fake_df[topic_fake_df.topic == 0]\n",
    "for i in range(50):\n",
    "    print(topic_fake['document'].values[i])"
   ]
  },
  {
   "cell_type": "markdown",
   "id": "1c24ca8a",
   "metadata": {},
   "source": [
    "## Exploring article texts in true news"
   ]
  },
  {
   "cell_type": "code",
   "execution_count": 16,
   "id": "bf71c5a4",
   "metadata": {},
   "outputs": [],
   "source": [
    "text_true_topic_model = BERTopic(embedding_model=\"all-MiniLM-L6-v2\")\n",
    "text_true_topics, text_true_probs = text_true_topic_model.fit_transform(text_true)"
   ]
  },
  {
   "cell_type": "code",
   "execution_count": 17,
   "id": "3aad78e2",
   "metadata": {},
   "outputs": [],
   "source": [
    "text_fake_topic_model = BERTopic(embedding_model=\"all-MiniLM-L6-v2\")\n",
    "text_fake_topics, text_fake_probs = text_fake_topic_model.fit_transform(text_fake)"
   ]
  },
  {
   "cell_type": "code",
   "execution_count": 18,
   "id": "238d7c54",
   "metadata": {
    "scrolled": true
   },
   "outputs": [
    {
     "data": {
      "text/html": [
       "<div>\n",
       "<style scoped>\n",
       "    .dataframe tbody tr th:only-of-type {\n",
       "        vertical-align: middle;\n",
       "    }\n",
       "\n",
       "    .dataframe tbody tr th {\n",
       "        vertical-align: top;\n",
       "    }\n",
       "\n",
       "    .dataframe thead th {\n",
       "        text-align: right;\n",
       "    }\n",
       "</style>\n",
       "<table border=\"1\" class=\"dataframe\">\n",
       "  <thead>\n",
       "    <tr style=\"text-align: right;\">\n",
       "      <th></th>\n",
       "      <th>Topic</th>\n",
       "      <th>Count</th>\n",
       "      <th>Name</th>\n",
       "    </tr>\n",
       "  </thead>\n",
       "  <tbody>\n",
       "    <tr>\n",
       "      <th>0</th>\n",
       "      <td>-1</td>\n",
       "      <td>3272</td>\n",
       "      <td>-1_the_of_and_to</td>\n",
       "    </tr>\n",
       "    <tr>\n",
       "      <th>1</th>\n",
       "      <td>0</td>\n",
       "      <td>196</td>\n",
       "      <td>0_pipeline_dakota_standing_rock</td>\n",
       "    </tr>\n",
       "    <tr>\n",
       "      <th>2</th>\n",
       "      <td>1</td>\n",
       "      <td>182</td>\n",
       "      <td>1_comey_fbi_investigation_director</td>\n",
       "    </tr>\n",
       "    <tr>\n",
       "      <th>3</th>\n",
       "      <td>2</td>\n",
       "      <td>170</td>\n",
       "      <td>2_you_your_we_our</td>\n",
       "    </tr>\n",
       "    <tr>\n",
       "      <th>4</th>\n",
       "      <td>3</td>\n",
       "      <td>161</td>\n",
       "      <td>3_aleppo_syrian_syria_al</td>\n",
       "    </tr>\n",
       "    <tr>\n",
       "      <th>...</th>\n",
       "      <td>...</td>\n",
       "      <td>...</td>\n",
       "      <td>...</td>\n",
       "    </tr>\n",
       "    <tr>\n",
       "      <th>183</th>\n",
       "      <td>182</td>\n",
       "      <td>10</td>\n",
       "      <td>182_mi5_parker_guardian_russia</td>\n",
       "    </tr>\n",
       "    <tr>\n",
       "      <th>184</th>\n",
       "      <td>183</td>\n",
       "      <td>10</td>\n",
       "      <td>183_intelligence_attacks_qaeda_threat</td>\n",
       "    </tr>\n",
       "    <tr>\n",
       "      <th>185</th>\n",
       "      <td>184</td>\n",
       "      <td>10</td>\n",
       "      <td>184_black_blacks_haiti_african</td>\n",
       "    </tr>\n",
       "    <tr>\n",
       "      <th>186</th>\n",
       "      <td>185</td>\n",
       "      <td>10</td>\n",
       "      <td>185_rally_hillary_crowd_rallies</td>\n",
       "    </tr>\n",
       "    <tr>\n",
       "      <th>187</th>\n",
       "      <td>186</td>\n",
       "      <td>10</td>\n",
       "      <td>186_clinton_polls_survey_trump</td>\n",
       "    </tr>\n",
       "  </tbody>\n",
       "</table>\n",
       "<p>188 rows × 3 columns</p>\n",
       "</div>"
      ],
      "text/plain": [
       "     Topic  Count                                   Name\n",
       "0       -1   3272                       -1_the_of_and_to\n",
       "1        0    196        0_pipeline_dakota_standing_rock\n",
       "2        1    182     1_comey_fbi_investigation_director\n",
       "3        2    170                      2_you_your_we_our\n",
       "4        3    161               3_aleppo_syrian_syria_al\n",
       "..     ...    ...                                    ...\n",
       "183    182     10         182_mi5_parker_guardian_russia\n",
       "184    183     10  183_intelligence_attacks_qaeda_threat\n",
       "185    184     10         184_black_blacks_haiti_african\n",
       "186    185     10        185_rally_hillary_crowd_rallies\n",
       "187    186     10         186_clinton_polls_survey_trump\n",
       "\n",
       "[188 rows x 3 columns]"
      ]
     },
     "execution_count": 18,
     "metadata": {},
     "output_type": "execute_result"
    }
   ],
   "source": [
    "text_true_topic_model.get_topic_info()"
   ]
  },
  {
   "cell_type": "code",
   "execution_count": 19,
   "id": "b6df160a",
   "metadata": {
    "scrolled": true
   },
   "outputs": [
    {
     "data": {
      "text/html": [
       "<div>\n",
       "<style scoped>\n",
       "    .dataframe tbody tr th:only-of-type {\n",
       "        vertical-align: middle;\n",
       "    }\n",
       "\n",
       "    .dataframe tbody tr th {\n",
       "        vertical-align: top;\n",
       "    }\n",
       "\n",
       "    .dataframe thead th {\n",
       "        text-align: right;\n",
       "    }\n",
       "</style>\n",
       "<table border=\"1\" class=\"dataframe\">\n",
       "  <thead>\n",
       "    <tr style=\"text-align: right;\">\n",
       "      <th></th>\n",
       "      <th>Topic</th>\n",
       "      <th>Count</th>\n",
       "      <th>Name</th>\n",
       "    </tr>\n",
       "  </thead>\n",
       "  <tbody>\n",
       "    <tr>\n",
       "      <th>0</th>\n",
       "      <td>-1</td>\n",
       "      <td>3700</td>\n",
       "      <td>-1_and_the_in_of</td>\n",
       "    </tr>\n",
       "    <tr>\n",
       "      <th>1</th>\n",
       "      <td>0</td>\n",
       "      <td>286</td>\n",
       "      <td>0_health_insurance_obamacare_care</td>\n",
       "    </tr>\n",
       "    <tr>\n",
       "      <th>2</th>\n",
       "      <td>1</td>\n",
       "      <td>151</td>\n",
       "      <td>1_syria_syrian_assad_aleppo</td>\n",
       "    </tr>\n",
       "    <tr>\n",
       "      <th>3</th>\n",
       "      <td>2</td>\n",
       "      <td>117</td>\n",
       "      <td>2_intelligence_nunes_trump_surveillance</td>\n",
       "    </tr>\n",
       "    <tr>\n",
       "      <th>4</th>\n",
       "      <td>3</td>\n",
       "      <td>113</td>\n",
       "      <td>3_police_officers_officer_shooting</td>\n",
       "    </tr>\n",
       "    <tr>\n",
       "      <th>...</th>\n",
       "      <td>...</td>\n",
       "      <td>...</td>\n",
       "      <td>...</td>\n",
       "    </tr>\n",
       "    <tr>\n",
       "      <th>187</th>\n",
       "      <td>186</td>\n",
       "      <td>11</td>\n",
       "      <td>186_merkel_germany_schulz_chancellor</td>\n",
       "    </tr>\n",
       "    <tr>\n",
       "      <th>188</th>\n",
       "      <td>187</td>\n",
       "      <td>11</td>\n",
       "      <td>187_bannon_security_national_council</td>\n",
       "    </tr>\n",
       "    <tr>\n",
       "      <th>189</th>\n",
       "      <td>188</td>\n",
       "      <td>10</td>\n",
       "      <td>188_adnani_syria_islamic_qaeda</td>\n",
       "    </tr>\n",
       "    <tr>\n",
       "      <th>190</th>\n",
       "      <td>189</td>\n",
       "      <td>10</td>\n",
       "      <td>189_school_students_student_arundel</td>\n",
       "    </tr>\n",
       "    <tr>\n",
       "      <th>191</th>\n",
       "      <td>190</td>\n",
       "      <td>10</td>\n",
       "      <td>190_cargill_tax_deforestation_california</td>\n",
       "    </tr>\n",
       "  </tbody>\n",
       "</table>\n",
       "<p>192 rows × 3 columns</p>\n",
       "</div>"
      ],
      "text/plain": [
       "     Topic  Count                                      Name\n",
       "0       -1   3700                          -1_and_the_in_of\n",
       "1        0    286         0_health_insurance_obamacare_care\n",
       "2        1    151               1_syria_syrian_assad_aleppo\n",
       "3        2    117   2_intelligence_nunes_trump_surveillance\n",
       "4        3    113        3_police_officers_officer_shooting\n",
       "..     ...    ...                                       ...\n",
       "187    186     11      186_merkel_germany_schulz_chancellor\n",
       "188    187     11      187_bannon_security_national_council\n",
       "189    188     10            188_adnani_syria_islamic_qaeda\n",
       "190    189     10       189_school_students_student_arundel\n",
       "191    190     10  190_cargill_tax_deforestation_california\n",
       "\n",
       "[192 rows x 3 columns]"
      ]
     },
     "execution_count": 19,
     "metadata": {},
     "output_type": "execute_result"
    }
   ],
   "source": [
    "text_fake_topic_model.get_topic_info()"
   ]
  },
  {
   "cell_type": "code",
   "execution_count": 64,
   "id": "d1a6978d",
   "metadata": {
    "scrolled": true
   },
   "outputs": [
    {
     "data": {
      "application/vnd.plotly.v1+json": {
       "config": {
        "plotlyServerURL": "https://plot.ly"
       },
       "data": [
        {
         "marker": {
          "color": "#D55E00"
         },
         "orientation": "h",
         "type": "bar",
         "x": [
          0.010840543255634862,
          0.011126075187794564,
          0.011375156406899794,
          0.011924456081157222,
          0.012251951057920422,
          0.013768594270001717,
          0.014347679640555364,
          0.014940385641205508,
          0.024206391320083103,
          0.027494089986573093
         ],
         "xaxis": "x",
         "y": [
          "sioux  ",
          "access  ",
          "police  ",
          "protesters  ",
          "protectors  ",
          "water  ",
          "rock  ",
          "standing  ",
          "dakota  ",
          "pipeline  "
         ],
         "yaxis": "y"
        },
        {
         "marker": {
          "color": "#0072B2"
         },
         "orientation": "h",
         "type": "bar",
         "x": [
          0.006841870428140989,
          0.007413049481824202,
          0.007580199480360018,
          0.008219270917255916,
          0.00873217441120436,
          0.00990331706901032,
          0.009903786610335745,
          0.011914474801562337,
          0.024250781802483384,
          0.02841475953265129
         ],
         "xaxis": "x2",
         "y": [
          "he  ",
          "hillary  ",
          "emails  ",
          "james  ",
          "letter  ",
          "clinton  ",
          "director  ",
          "investigation  ",
          "fbi  ",
          "comey  "
         ],
         "yaxis": "y2"
        },
        {
         "marker": {
          "color": "#CC79A7"
         },
         "orientation": "h",
         "type": "bar",
         "x": [
          0.006409147462376226,
          0.006486781654806059,
          0.00657022291988953,
          0.006610122967878416,
          0.006743424417430355,
          0.006814807030155192,
          0.009470064076562828,
          0.009700066454031282,
          0.010564439994203739,
          0.01189783841010584
         ],
         "xaxis": "x3",
         "y": [
          "it  ",
          "is  ",
          "are  ",
          "energy  ",
          "love  ",
          "life  ",
          "our  ",
          "we  ",
          "your  ",
          "you  "
         ],
         "yaxis": "y3"
        },
        {
         "marker": {
          "color": "#E69F00"
         },
         "orientation": "h",
         "type": "bar",
         "x": [
          0.006451462068478036,
          0.006519394419100265,
          0.006572837294767197,
          0.006988519601850382,
          0.008057936583563094,
          0.008220507920535025,
          0.012419212425324467,
          0.015939378397884296,
          0.017884890881070297,
          0.018513457678439236
         ],
         "xaxis": "x4",
         "y": [
          "the  ",
          "terrorists  ",
          "assad  ",
          "nusra  ",
          "war  ",
          "civilians  ",
          "al  ",
          "syria  ",
          "syrian  ",
          "aleppo  "
         ],
         "yaxis": "y4"
        },
        {
         "marker": {
          "color": "#56B4E9"
         },
         "orientation": "h",
         "type": "bar",
         "x": [
          0.021156577087476005,
          0.02132327562653727,
          0.022272838416414295,
          0.024682965843377657,
          0.029288611034041543,
          0.033888900666805034,
          0.035055794907963754,
          0.04792220893647269,
          0.054922308338458375,
          0.0564269151607952
         ],
         "xaxis": "x5",
         "y": [
          "но  ",
          "мы  ",
          "для  ",
          "то  ",
          "как  ",
          "это  ",
          "по  ",
          "не  ",
          "что  ",
          "на  "
         ],
         "yaxis": "y5"
        },
        {
         "marker": {
          "color": "#009E73"
         },
         "orientation": "h",
         "type": "bar",
         "x": [
          0.00793548785077628,
          0.008135009503471482,
          0.008186837068474008,
          0.008519657087130027,
          0.00896532410787504,
          0.009161897461201395,
          0.00933154411883706,
          0.010401543489049678,
          0.011027886452745838,
          0.011122078914151652
         ],
         "xaxis": "x6",
         "y": [
          "body  ",
          "you  ",
          "blood  ",
          "heart  ",
          "disease  ",
          "health  ",
          "diet  ",
          "foods  ",
          "your  ",
          "vitamin  "
         ],
         "yaxis": "y6"
        },
        {
         "marker": {
          "color": "#F0E442"
         },
         "orientation": "h",
         "type": "bar",
         "x": [
          0.0049799551369184855,
          0.0051393732756990045,
          0.005144293960532299,
          0.0053163967526454236,
          0.005382501871016391,
          0.0054641267329812206,
          0.006426143381185942,
          0.007111054489909832,
          0.008953150099939472,
          0.011434135994495612
         ],
         "xaxis": "x7",
         "y": [
          "of  ",
          "that  ",
          "it  ",
          "times  ",
          "the  ",
          "and  ",
          "trump  ",
          "fake  ",
          "news  ",
          "media  "
         ],
         "yaxis": "y7"
        },
        {
         "marker": {
          "color": "#D55E00"
         },
         "orientation": "h",
         "type": "bar",
         "x": [
          0.03333188031672897,
          0.03464253917201631,
          0.03998395468155461,
          0.04448231107572499,
          0.047472009463168076,
          0.0655221017028368,
          0.07999130732448241,
          0.08307541768225071,
          0.08512534753893497,
          0.11182116984761524
         ],
         "xaxis": "x8",
         "y": [
          "las  ",
          "por  ",
          "se  ",
          "del  ",
          "los  ",
          "en  ",
          "el  ",
          "que  ",
          "la  ",
          "de  "
         ],
         "yaxis": "y8"
        },
        {
         "marker": {
          "color": "#0072B2"
         },
         "orientation": "h",
         "type": "bar",
         "x": [
          0.00991510399153548,
          0.010312362325560043,
          0.010371227964028519,
          0.012694474912170678,
          0.013244075396039012,
          0.01805940399710816,
          0.018569194453080685,
          0.019305405654148008,
          0.020256172589717087,
          0.02099090691234716
         ],
         "xaxis": "x9",
         "y": [
          "email  ",
          "anthony  ",
          "comey  ",
          "clinton  ",
          "investigation  ",
          "abedin  ",
          "huma  ",
          "weiner  ",
          "emails  ",
          "fbi  "
         ],
         "yaxis": "y9"
        },
        {
         "marker": {
          "color": "#CC79A7"
         },
         "orientation": "h",
         "type": "bar",
         "x": [
          0.005332026355584813,
          0.00556913678735326,
          0.005867426312220915,
          0.0060091276129354285,
          0.006238048141217187,
          0.007239571991623629,
          0.008230449204645785,
          0.009338251921087717,
          0.010883352319440256,
          0.01654372548418823
         ],
         "xaxis": "x10",
         "y": [
          "shot  ",
          "he  ",
          "was  ",
          "they  ",
          "you  ",
          "cop  ",
          "officers  ",
          "cops  ",
          "officer  ",
          "police  "
         ],
         "yaxis": "y10"
        },
        {
         "marker": {
          "color": "#E69F00"
         },
         "orientation": "h",
         "type": "bar",
         "x": [
          0.010532979042618096,
          0.011449330690464176,
          0.012002208610053952,
          0.013513052122469085,
          0.014254774974916187,
          0.015300285481695129,
          0.017275704632704073,
          0.0276148661620079,
          0.03146250403481956,
          0.048245421196056376
         ],
         "xaxis": "x11",
         "y": [
          "army  ",
          "fighters  ",
          "daesh  ",
          "al  ",
          "city  ",
          "iraq  ",
          "forces  ",
          "isis  ",
          "iraqi  ",
          "mosul  "
         ],
         "yaxis": "y11"
        },
        {
         "marker": {
          "color": "#56B4E9"
         },
         "orientation": "h",
         "type": "bar",
         "x": [
          0.008494793533436594,
          0.009551353175826467,
          0.009939109594281998,
          0.009955643285010148,
          0.009964868487148667,
          0.011024819797683794,
          0.011555700840342046,
          0.012912155322252318,
          0.01451611608021284,
          0.01617148826285555
         ],
         "xaxis": "x12",
         "y": [
          "vote  ",
          "michigan  ",
          "clinton  ",
          "voters  ",
          "win  ",
          "electoral  ",
          "votes  ",
          "poll  ",
          "percent  ",
          "trump  "
         ],
         "yaxis": "y12"
        },
        {
         "marker": {
          "color": "#009E73"
         },
         "orientation": "h",
         "type": "bar",
         "x": [
          0.005240121880740715,
          0.0053767280192831965,
          0.0053897808547842966,
          0.005599921556055902,
          0.005690813403193669,
          0.005793794813419231,
          0.006183136261481354,
          0.006785651233619843,
          0.007138211474722442,
          0.012071696772057739
         ],
         "xaxis": "x13",
         "y": [
          "american  ",
          "and  ",
          "donald  ",
          "obama  ",
          "of  ",
          "the  ",
          "his  ",
          "president  ",
          "he  ",
          "trump  "
         ],
         "yaxis": "y13"
        },
        {
         "marker": {
          "color": "#F0E442"
         },
         "orientation": "h",
         "type": "bar",
         "x": [
          0.011869908647883174,
          0.012026489577591467,
          0.01254458969112988,
          0.014145432738929669,
          0.01465749240319639,
          0.014723022219755362,
          0.016127732168361157,
          0.017181750334387968,
          0.018757657683232568,
          0.023506881947373406
         ],
         "xaxis": "x14",
         "y": [
          "county  ",
          "voters  ",
          "machines  ",
          "ballots  ",
          "election  ",
          "texas  ",
          "vote  ",
          "fraud  ",
          "voting  ",
          "voter  "
         ],
         "yaxis": "y14"
        },
        {
         "marker": {
          "color": "#D55E00"
         },
         "orientation": "h",
         "type": "bar",
         "x": [
          0.0070628069339438064,
          0.007875191267178581,
          0.00795102880914912,
          0.008727950767682997,
          0.008869495765841683,
          0.009733364201707334,
          0.011958717084708066,
          0.014126164710405007,
          0.023469435060799623,
          0.05122135350435607
         ],
         "xaxis": "x15",
         "y": [
          "investors  ",
          "mining  ",
          "dollar  ",
          "kwn  ",
          "markets  ",
          "metals  ",
          "market  ",
          "price  ",
          "silver  ",
          "gold  "
         ],
         "yaxis": "y15"
        },
        {
         "marker": {
          "color": "#0072B2"
         },
         "orientation": "h",
         "type": "bar",
         "x": [
          0.007721335074108433,
          0.008003031573507789,
          0.00888381379113571,
          0.00965523397338568,
          0.012302728786965766,
          0.015575728943809387,
          0.015757418930569127,
          0.017500212588993366,
          0.022114546152379195,
          0.027316938157965334
         ],
         "xaxis": "x16",
         "y": [
          "2015  ",
          "server  ",
          "hillary  ",
          "campaign  ",
          "wikileaks  ",
          "kadzik  ",
          "clinton  ",
          "emails  ",
          "email  ",
          "podesta  "
         ],
         "yaxis": "y16"
        },
        {
         "marker": {
          "color": "#CC79A7"
         },
         "orientation": "h",
         "type": "bar",
         "x": [
          1e-05,
          1e-05,
          1e-05,
          1e-05,
          1e-05,
          1e-05,
          1e-05,
          1e-05,
          1e-05,
          1e-05
         ],
         "xaxis": "x17",
         "y": [
          "  ",
          "  ",
          "  ",
          "  ",
          "  ",
          "  ",
          "  ",
          "  ",
          "  ",
          "  "
         ],
         "yaxis": "y17"
        },
        {
         "marker": {
          "color": "#E69F00"
         },
         "orientation": "h",
         "type": "bar",
         "x": [
          0.008706571647472246,
          0.009494722129834628,
          0.009691583108680523,
          0.00981992151538716,
          0.015028797722652545,
          0.01645079207706226,
          0.016807290829304336,
          0.01875634822146201,
          0.018885641891662985,
          0.027886697903357776
         ],
         "xaxis": "x18",
         "y": [
          "costs  ",
          "insurers  ",
          "gruber  ",
          "payer  ",
          "premiums  ",
          "healthcare  ",
          "health  ",
          "insurance  ",
          "care  ",
          "obamacare  "
         ],
         "yaxis": "y18"
        },
        {
         "marker": {
          "color": "#56B4E9"
         },
         "orientation": "h",
         "type": "bar",
         "x": [
          0.03170158314798975,
          0.032549355194421925,
          0.032735097727163466,
          0.03298070155661166,
          0.0338098501870997,
          0.039929582620564515,
          0.04120304931888769,
          0.05411399935619806,
          0.06172673615120325,
          0.0728955978324167
         ],
         "xaxis": "x19",
         "y": [
          "ich  ",
          "sich  ",
          "das  ",
          "auf  ",
          "mit  ",
          "den  ",
          "zu  ",
          "und  ",
          "die  ",
          "der  "
         ],
         "yaxis": "y19"
        },
        {
         "marker": {
          "color": "#009E73"
         },
         "orientation": "h",
         "type": "bar",
         "x": [
          0.0047290146208654365,
          0.004734203248672322,
          0.00475515769899195,
          0.00478337949934307,
          0.0051485360939959104,
          0.005406904246040867,
          0.005569083404397064,
          0.005803269690463481,
          0.006218032264944799,
          0.006352586052739187
         ],
         "xaxis": "x20",
         "y": [
          "in  ",
          "we  ",
          "to  ",
          "as  ",
          "is  ",
          "empire  ",
          "world  ",
          "the  ",
          "of  ",
          "and  "
         ],
         "yaxis": "y20"
        }
       ],
       "layout": {
        "annotations": [
         {
          "font": {
           "size": 16
          },
          "showarrow": false,
          "text": "Topic 0",
          "x": 0.0875,
          "xanchor": "center",
          "xref": "paper",
          "y": 0.9999999999999999,
          "yanchor": "bottom",
          "yref": "paper"
         },
         {
          "font": {
           "size": 16
          },
          "showarrow": false,
          "text": "Topic 1",
          "x": 0.36250000000000004,
          "xanchor": "center",
          "xref": "paper",
          "y": 0.9999999999999999,
          "yanchor": "bottom",
          "yref": "paper"
         },
         {
          "font": {
           "size": 16
          },
          "showarrow": false,
          "text": "Topic 2",
          "x": 0.6375000000000001,
          "xanchor": "center",
          "xref": "paper",
          "y": 0.9999999999999999,
          "yanchor": "bottom",
          "yref": "paper"
         },
         {
          "font": {
           "size": 16
          },
          "showarrow": false,
          "text": "Topic 3",
          "x": 0.9125,
          "xanchor": "center",
          "xref": "paper",
          "y": 0.9999999999999999,
          "yanchor": "bottom",
          "yref": "paper"
         },
         {
          "font": {
           "size": 16
          },
          "showarrow": false,
          "text": "Topic 4",
          "x": 0.0875,
          "xanchor": "center",
          "xref": "paper",
          "y": 0.7839999999999999,
          "yanchor": "bottom",
          "yref": "paper"
         },
         {
          "font": {
           "size": 16
          },
          "showarrow": false,
          "text": "Topic 5",
          "x": 0.36250000000000004,
          "xanchor": "center",
          "xref": "paper",
          "y": 0.7839999999999999,
          "yanchor": "bottom",
          "yref": "paper"
         },
         {
          "font": {
           "size": 16
          },
          "showarrow": false,
          "text": "Topic 6",
          "x": 0.6375000000000001,
          "xanchor": "center",
          "xref": "paper",
          "y": 0.7839999999999999,
          "yanchor": "bottom",
          "yref": "paper"
         },
         {
          "font": {
           "size": 16
          },
          "showarrow": false,
          "text": "Topic 7",
          "x": 0.9125,
          "xanchor": "center",
          "xref": "paper",
          "y": 0.7839999999999999,
          "yanchor": "bottom",
          "yref": "paper"
         },
         {
          "font": {
           "size": 16
          },
          "showarrow": false,
          "text": "Topic 8",
          "x": 0.0875,
          "xanchor": "center",
          "xref": "paper",
          "y": 0.568,
          "yanchor": "bottom",
          "yref": "paper"
         },
         {
          "font": {
           "size": 16
          },
          "showarrow": false,
          "text": "Topic 9",
          "x": 0.36250000000000004,
          "xanchor": "center",
          "xref": "paper",
          "y": 0.568,
          "yanchor": "bottom",
          "yref": "paper"
         },
         {
          "font": {
           "size": 16
          },
          "showarrow": false,
          "text": "Topic 10",
          "x": 0.6375000000000001,
          "xanchor": "center",
          "xref": "paper",
          "y": 0.568,
          "yanchor": "bottom",
          "yref": "paper"
         },
         {
          "font": {
           "size": 16
          },
          "showarrow": false,
          "text": "Topic 11",
          "x": 0.9125,
          "xanchor": "center",
          "xref": "paper",
          "y": 0.568,
          "yanchor": "bottom",
          "yref": "paper"
         },
         {
          "font": {
           "size": 16
          },
          "showarrow": false,
          "text": "Topic 12",
          "x": 0.0875,
          "xanchor": "center",
          "xref": "paper",
          "y": 0.352,
          "yanchor": "bottom",
          "yref": "paper"
         },
         {
          "font": {
           "size": 16
          },
          "showarrow": false,
          "text": "Topic 13",
          "x": 0.36250000000000004,
          "xanchor": "center",
          "xref": "paper",
          "y": 0.352,
          "yanchor": "bottom",
          "yref": "paper"
         },
         {
          "font": {
           "size": 16
          },
          "showarrow": false,
          "text": "Topic 14",
          "x": 0.6375000000000001,
          "xanchor": "center",
          "xref": "paper",
          "y": 0.352,
          "yanchor": "bottom",
          "yref": "paper"
         },
         {
          "font": {
           "size": 16
          },
          "showarrow": false,
          "text": "Topic 15",
          "x": 0.9125,
          "xanchor": "center",
          "xref": "paper",
          "y": 0.352,
          "yanchor": "bottom",
          "yref": "paper"
         },
         {
          "font": {
           "size": 16
          },
          "showarrow": false,
          "text": "Topic 16",
          "x": 0.0875,
          "xanchor": "center",
          "xref": "paper",
          "y": 0.13599999999999998,
          "yanchor": "bottom",
          "yref": "paper"
         },
         {
          "font": {
           "size": 16
          },
          "showarrow": false,
          "text": "Topic 17",
          "x": 0.36250000000000004,
          "xanchor": "center",
          "xref": "paper",
          "y": 0.13599999999999998,
          "yanchor": "bottom",
          "yref": "paper"
         },
         {
          "font": {
           "size": 16
          },
          "showarrow": false,
          "text": "Topic 18",
          "x": 0.6375000000000001,
          "xanchor": "center",
          "xref": "paper",
          "y": 0.13599999999999998,
          "yanchor": "bottom",
          "yref": "paper"
         },
         {
          "font": {
           "size": 16
          },
          "showarrow": false,
          "text": "Topic 19",
          "x": 0.9125,
          "xanchor": "center",
          "xref": "paper",
          "y": 0.13599999999999998,
          "yanchor": "bottom",
          "yref": "paper"
         }
        ],
        "height": 1000,
        "hoverlabel": {
         "bgcolor": "white",
         "font": {
          "family": "Rockwell",
          "size": 16
         }
        },
        "showlegend": false,
        "template": {
         "data": {
          "bar": [
           {
            "error_x": {
             "color": "#2a3f5f"
            },
            "error_y": {
             "color": "#2a3f5f"
            },
            "marker": {
             "line": {
              "color": "white",
              "width": 0.5
             },
             "pattern": {
              "fillmode": "overlay",
              "size": 10,
              "solidity": 0.2
             }
            },
            "type": "bar"
           }
          ],
          "barpolar": [
           {
            "marker": {
             "line": {
              "color": "white",
              "width": 0.5
             },
             "pattern": {
              "fillmode": "overlay",
              "size": 10,
              "solidity": 0.2
             }
            },
            "type": "barpolar"
           }
          ],
          "carpet": [
           {
            "aaxis": {
             "endlinecolor": "#2a3f5f",
             "gridcolor": "#C8D4E3",
             "linecolor": "#C8D4E3",
             "minorgridcolor": "#C8D4E3",
             "startlinecolor": "#2a3f5f"
            },
            "baxis": {
             "endlinecolor": "#2a3f5f",
             "gridcolor": "#C8D4E3",
             "linecolor": "#C8D4E3",
             "minorgridcolor": "#C8D4E3",
             "startlinecolor": "#2a3f5f"
            },
            "type": "carpet"
           }
          ],
          "choropleth": [
           {
            "colorbar": {
             "outlinewidth": 0,
             "ticks": ""
            },
            "type": "choropleth"
           }
          ],
          "contour": [
           {
            "colorbar": {
             "outlinewidth": 0,
             "ticks": ""
            },
            "colorscale": [
             [
              0,
              "#0d0887"
             ],
             [
              0.1111111111111111,
              "#46039f"
             ],
             [
              0.2222222222222222,
              "#7201a8"
             ],
             [
              0.3333333333333333,
              "#9c179e"
             ],
             [
              0.4444444444444444,
              "#bd3786"
             ],
             [
              0.5555555555555556,
              "#d8576b"
             ],
             [
              0.6666666666666666,
              "#ed7953"
             ],
             [
              0.7777777777777778,
              "#fb9f3a"
             ],
             [
              0.8888888888888888,
              "#fdca26"
             ],
             [
              1,
              "#f0f921"
             ]
            ],
            "type": "contour"
           }
          ],
          "contourcarpet": [
           {
            "colorbar": {
             "outlinewidth": 0,
             "ticks": ""
            },
            "type": "contourcarpet"
           }
          ],
          "heatmap": [
           {
            "colorbar": {
             "outlinewidth": 0,
             "ticks": ""
            },
            "colorscale": [
             [
              0,
              "#0d0887"
             ],
             [
              0.1111111111111111,
              "#46039f"
             ],
             [
              0.2222222222222222,
              "#7201a8"
             ],
             [
              0.3333333333333333,
              "#9c179e"
             ],
             [
              0.4444444444444444,
              "#bd3786"
             ],
             [
              0.5555555555555556,
              "#d8576b"
             ],
             [
              0.6666666666666666,
              "#ed7953"
             ],
             [
              0.7777777777777778,
              "#fb9f3a"
             ],
             [
              0.8888888888888888,
              "#fdca26"
             ],
             [
              1,
              "#f0f921"
             ]
            ],
            "type": "heatmap"
           }
          ],
          "heatmapgl": [
           {
            "colorbar": {
             "outlinewidth": 0,
             "ticks": ""
            },
            "colorscale": [
             [
              0,
              "#0d0887"
             ],
             [
              0.1111111111111111,
              "#46039f"
             ],
             [
              0.2222222222222222,
              "#7201a8"
             ],
             [
              0.3333333333333333,
              "#9c179e"
             ],
             [
              0.4444444444444444,
              "#bd3786"
             ],
             [
              0.5555555555555556,
              "#d8576b"
             ],
             [
              0.6666666666666666,
              "#ed7953"
             ],
             [
              0.7777777777777778,
              "#fb9f3a"
             ],
             [
              0.8888888888888888,
              "#fdca26"
             ],
             [
              1,
              "#f0f921"
             ]
            ],
            "type": "heatmapgl"
           }
          ],
          "histogram": [
           {
            "marker": {
             "pattern": {
              "fillmode": "overlay",
              "size": 10,
              "solidity": 0.2
             }
            },
            "type": "histogram"
           }
          ],
          "histogram2d": [
           {
            "colorbar": {
             "outlinewidth": 0,
             "ticks": ""
            },
            "colorscale": [
             [
              0,
              "#0d0887"
             ],
             [
              0.1111111111111111,
              "#46039f"
             ],
             [
              0.2222222222222222,
              "#7201a8"
             ],
             [
              0.3333333333333333,
              "#9c179e"
             ],
             [
              0.4444444444444444,
              "#bd3786"
             ],
             [
              0.5555555555555556,
              "#d8576b"
             ],
             [
              0.6666666666666666,
              "#ed7953"
             ],
             [
              0.7777777777777778,
              "#fb9f3a"
             ],
             [
              0.8888888888888888,
              "#fdca26"
             ],
             [
              1,
              "#f0f921"
             ]
            ],
            "type": "histogram2d"
           }
          ],
          "histogram2dcontour": [
           {
            "colorbar": {
             "outlinewidth": 0,
             "ticks": ""
            },
            "colorscale": [
             [
              0,
              "#0d0887"
             ],
             [
              0.1111111111111111,
              "#46039f"
             ],
             [
              0.2222222222222222,
              "#7201a8"
             ],
             [
              0.3333333333333333,
              "#9c179e"
             ],
             [
              0.4444444444444444,
              "#bd3786"
             ],
             [
              0.5555555555555556,
              "#d8576b"
             ],
             [
              0.6666666666666666,
              "#ed7953"
             ],
             [
              0.7777777777777778,
              "#fb9f3a"
             ],
             [
              0.8888888888888888,
              "#fdca26"
             ],
             [
              1,
              "#f0f921"
             ]
            ],
            "type": "histogram2dcontour"
           }
          ],
          "mesh3d": [
           {
            "colorbar": {
             "outlinewidth": 0,
             "ticks": ""
            },
            "type": "mesh3d"
           }
          ],
          "parcoords": [
           {
            "line": {
             "colorbar": {
              "outlinewidth": 0,
              "ticks": ""
             }
            },
            "type": "parcoords"
           }
          ],
          "pie": [
           {
            "automargin": true,
            "type": "pie"
           }
          ],
          "scatter": [
           {
            "fillpattern": {
             "fillmode": "overlay",
             "size": 10,
             "solidity": 0.2
            },
            "type": "scatter"
           }
          ],
          "scatter3d": [
           {
            "line": {
             "colorbar": {
              "outlinewidth": 0,
              "ticks": ""
             }
            },
            "marker": {
             "colorbar": {
              "outlinewidth": 0,
              "ticks": ""
             }
            },
            "type": "scatter3d"
           }
          ],
          "scattercarpet": [
           {
            "marker": {
             "colorbar": {
              "outlinewidth": 0,
              "ticks": ""
             }
            },
            "type": "scattercarpet"
           }
          ],
          "scattergeo": [
           {
            "marker": {
             "colorbar": {
              "outlinewidth": 0,
              "ticks": ""
             }
            },
            "type": "scattergeo"
           }
          ],
          "scattergl": [
           {
            "marker": {
             "colorbar": {
              "outlinewidth": 0,
              "ticks": ""
             }
            },
            "type": "scattergl"
           }
          ],
          "scattermapbox": [
           {
            "marker": {
             "colorbar": {
              "outlinewidth": 0,
              "ticks": ""
             }
            },
            "type": "scattermapbox"
           }
          ],
          "scatterpolar": [
           {
            "marker": {
             "colorbar": {
              "outlinewidth": 0,
              "ticks": ""
             }
            },
            "type": "scatterpolar"
           }
          ],
          "scatterpolargl": [
           {
            "marker": {
             "colorbar": {
              "outlinewidth": 0,
              "ticks": ""
             }
            },
            "type": "scatterpolargl"
           }
          ],
          "scatterternary": [
           {
            "marker": {
             "colorbar": {
              "outlinewidth": 0,
              "ticks": ""
             }
            },
            "type": "scatterternary"
           }
          ],
          "surface": [
           {
            "colorbar": {
             "outlinewidth": 0,
             "ticks": ""
            },
            "colorscale": [
             [
              0,
              "#0d0887"
             ],
             [
              0.1111111111111111,
              "#46039f"
             ],
             [
              0.2222222222222222,
              "#7201a8"
             ],
             [
              0.3333333333333333,
              "#9c179e"
             ],
             [
              0.4444444444444444,
              "#bd3786"
             ],
             [
              0.5555555555555556,
              "#d8576b"
             ],
             [
              0.6666666666666666,
              "#ed7953"
             ],
             [
              0.7777777777777778,
              "#fb9f3a"
             ],
             [
              0.8888888888888888,
              "#fdca26"
             ],
             [
              1,
              "#f0f921"
             ]
            ],
            "type": "surface"
           }
          ],
          "table": [
           {
            "cells": {
             "fill": {
              "color": "#EBF0F8"
             },
             "line": {
              "color": "white"
             }
            },
            "header": {
             "fill": {
              "color": "#C8D4E3"
             },
             "line": {
              "color": "white"
             }
            },
            "type": "table"
           }
          ]
         },
         "layout": {
          "annotationdefaults": {
           "arrowcolor": "#2a3f5f",
           "arrowhead": 0,
           "arrowwidth": 1
          },
          "autotypenumbers": "strict",
          "coloraxis": {
           "colorbar": {
            "outlinewidth": 0,
            "ticks": ""
           }
          },
          "colorscale": {
           "diverging": [
            [
             0,
             "#8e0152"
            ],
            [
             0.1,
             "#c51b7d"
            ],
            [
             0.2,
             "#de77ae"
            ],
            [
             0.3,
             "#f1b6da"
            ],
            [
             0.4,
             "#fde0ef"
            ],
            [
             0.5,
             "#f7f7f7"
            ],
            [
             0.6,
             "#e6f5d0"
            ],
            [
             0.7,
             "#b8e186"
            ],
            [
             0.8,
             "#7fbc41"
            ],
            [
             0.9,
             "#4d9221"
            ],
            [
             1,
             "#276419"
            ]
           ],
           "sequential": [
            [
             0,
             "#0d0887"
            ],
            [
             0.1111111111111111,
             "#46039f"
            ],
            [
             0.2222222222222222,
             "#7201a8"
            ],
            [
             0.3333333333333333,
             "#9c179e"
            ],
            [
             0.4444444444444444,
             "#bd3786"
            ],
            [
             0.5555555555555556,
             "#d8576b"
            ],
            [
             0.6666666666666666,
             "#ed7953"
            ],
            [
             0.7777777777777778,
             "#fb9f3a"
            ],
            [
             0.8888888888888888,
             "#fdca26"
            ],
            [
             1,
             "#f0f921"
            ]
           ],
           "sequentialminus": [
            [
             0,
             "#0d0887"
            ],
            [
             0.1111111111111111,
             "#46039f"
            ],
            [
             0.2222222222222222,
             "#7201a8"
            ],
            [
             0.3333333333333333,
             "#9c179e"
            ],
            [
             0.4444444444444444,
             "#bd3786"
            ],
            [
             0.5555555555555556,
             "#d8576b"
            ],
            [
             0.6666666666666666,
             "#ed7953"
            ],
            [
             0.7777777777777778,
             "#fb9f3a"
            ],
            [
             0.8888888888888888,
             "#fdca26"
            ],
            [
             1,
             "#f0f921"
            ]
           ]
          },
          "colorway": [
           "#636efa",
           "#EF553B",
           "#00cc96",
           "#ab63fa",
           "#FFA15A",
           "#19d3f3",
           "#FF6692",
           "#B6E880",
           "#FF97FF",
           "#FECB52"
          ],
          "font": {
           "color": "#2a3f5f"
          },
          "geo": {
           "bgcolor": "white",
           "lakecolor": "white",
           "landcolor": "white",
           "showlakes": true,
           "showland": true,
           "subunitcolor": "#C8D4E3"
          },
          "hoverlabel": {
           "align": "left"
          },
          "hovermode": "closest",
          "mapbox": {
           "style": "light"
          },
          "paper_bgcolor": "white",
          "plot_bgcolor": "white",
          "polar": {
           "angularaxis": {
            "gridcolor": "#EBF0F8",
            "linecolor": "#EBF0F8",
            "ticks": ""
           },
           "bgcolor": "white",
           "radialaxis": {
            "gridcolor": "#EBF0F8",
            "linecolor": "#EBF0F8",
            "ticks": ""
           }
          },
          "scene": {
           "xaxis": {
            "backgroundcolor": "white",
            "gridcolor": "#DFE8F3",
            "gridwidth": 2,
            "linecolor": "#EBF0F8",
            "showbackground": true,
            "ticks": "",
            "zerolinecolor": "#EBF0F8"
           },
           "yaxis": {
            "backgroundcolor": "white",
            "gridcolor": "#DFE8F3",
            "gridwidth": 2,
            "linecolor": "#EBF0F8",
            "showbackground": true,
            "ticks": "",
            "zerolinecolor": "#EBF0F8"
           },
           "zaxis": {
            "backgroundcolor": "white",
            "gridcolor": "#DFE8F3",
            "gridwidth": 2,
            "linecolor": "#EBF0F8",
            "showbackground": true,
            "ticks": "",
            "zerolinecolor": "#EBF0F8"
           }
          },
          "shapedefaults": {
           "line": {
            "color": "#2a3f5f"
           }
          },
          "ternary": {
           "aaxis": {
            "gridcolor": "#DFE8F3",
            "linecolor": "#A2B1C6",
            "ticks": ""
           },
           "baxis": {
            "gridcolor": "#DFE8F3",
            "linecolor": "#A2B1C6",
            "ticks": ""
           },
           "bgcolor": "white",
           "caxis": {
            "gridcolor": "#DFE8F3",
            "linecolor": "#A2B1C6",
            "ticks": ""
           }
          },
          "title": {
           "x": 0.05
          },
          "xaxis": {
           "automargin": true,
           "gridcolor": "#EBF0F8",
           "linecolor": "#EBF0F8",
           "ticks": "",
           "title": {
            "standoff": 15
           },
           "zerolinecolor": "#EBF0F8",
           "zerolinewidth": 2
          },
          "yaxis": {
           "automargin": true,
           "gridcolor": "#EBF0F8",
           "linecolor": "#EBF0F8",
           "ticks": "",
           "title": {
            "standoff": 15
           },
           "zerolinecolor": "#EBF0F8",
           "zerolinewidth": 2
          }
         }
        },
        "title": {
         "font": {
          "color": "Black",
          "size": 22
         },
         "text": "Text Clusters in True News",
         "x": 0.5,
         "xanchor": "center",
         "yanchor": "top"
        },
        "width": 800,
        "xaxis": {
         "anchor": "y",
         "domain": [
          0,
          0.175
         ],
         "showgrid": true
        },
        "xaxis10": {
         "anchor": "y10",
         "domain": [
          0.275,
          0.45
         ],
         "showgrid": true
        },
        "xaxis11": {
         "anchor": "y11",
         "domain": [
          0.55,
          0.7250000000000001
         ],
         "showgrid": true
        },
        "xaxis12": {
         "anchor": "y12",
         "domain": [
          0.825,
          1
         ],
         "showgrid": true
        },
        "xaxis13": {
         "anchor": "y13",
         "domain": [
          0,
          0.175
         ],
         "showgrid": true
        },
        "xaxis14": {
         "anchor": "y14",
         "domain": [
          0.275,
          0.45
         ],
         "showgrid": true
        },
        "xaxis15": {
         "anchor": "y15",
         "domain": [
          0.55,
          0.7250000000000001
         ],
         "showgrid": true
        },
        "xaxis16": {
         "anchor": "y16",
         "domain": [
          0.825,
          1
         ],
         "showgrid": true
        },
        "xaxis17": {
         "anchor": "y17",
         "domain": [
          0,
          0.175
         ],
         "showgrid": true
        },
        "xaxis18": {
         "anchor": "y18",
         "domain": [
          0.275,
          0.45
         ],
         "showgrid": true
        },
        "xaxis19": {
         "anchor": "y19",
         "domain": [
          0.55,
          0.7250000000000001
         ],
         "showgrid": true
        },
        "xaxis2": {
         "anchor": "y2",
         "domain": [
          0.275,
          0.45
         ],
         "showgrid": true
        },
        "xaxis20": {
         "anchor": "y20",
         "domain": [
          0.825,
          1
         ],
         "showgrid": true
        },
        "xaxis3": {
         "anchor": "y3",
         "domain": [
          0.55,
          0.7250000000000001
         ],
         "showgrid": true
        },
        "xaxis4": {
         "anchor": "y4",
         "domain": [
          0.825,
          1
         ],
         "showgrid": true
        },
        "xaxis5": {
         "anchor": "y5",
         "domain": [
          0,
          0.175
         ],
         "showgrid": true
        },
        "xaxis6": {
         "anchor": "y6",
         "domain": [
          0.275,
          0.45
         ],
         "showgrid": true
        },
        "xaxis7": {
         "anchor": "y7",
         "domain": [
          0.55,
          0.7250000000000001
         ],
         "showgrid": true
        },
        "xaxis8": {
         "anchor": "y8",
         "domain": [
          0.825,
          1
         ],
         "showgrid": true
        },
        "xaxis9": {
         "anchor": "y9",
         "domain": [
          0,
          0.175
         ],
         "showgrid": true
        },
        "yaxis": {
         "anchor": "x",
         "domain": [
          0.8639999999999999,
          0.9999999999999999
         ],
         "showgrid": true
        },
        "yaxis10": {
         "anchor": "x10",
         "domain": [
          0.43199999999999994,
          0.568
         ],
         "showgrid": true
        },
        "yaxis11": {
         "anchor": "x11",
         "domain": [
          0.43199999999999994,
          0.568
         ],
         "showgrid": true
        },
        "yaxis12": {
         "anchor": "x12",
         "domain": [
          0.43199999999999994,
          0.568
         ],
         "showgrid": true
        },
        "yaxis13": {
         "anchor": "x13",
         "domain": [
          0.21599999999999997,
          0.352
         ],
         "showgrid": true
        },
        "yaxis14": {
         "anchor": "x14",
         "domain": [
          0.21599999999999997,
          0.352
         ],
         "showgrid": true
        },
        "yaxis15": {
         "anchor": "x15",
         "domain": [
          0.21599999999999997,
          0.352
         ],
         "showgrid": true
        },
        "yaxis16": {
         "anchor": "x16",
         "domain": [
          0.21599999999999997,
          0.352
         ],
         "showgrid": true
        },
        "yaxis17": {
         "anchor": "x17",
         "domain": [
          0,
          0.13599999999999998
         ],
         "showgrid": true
        },
        "yaxis18": {
         "anchor": "x18",
         "domain": [
          0,
          0.13599999999999998
         ],
         "showgrid": true
        },
        "yaxis19": {
         "anchor": "x19",
         "domain": [
          0,
          0.13599999999999998
         ],
         "showgrid": true
        },
        "yaxis2": {
         "anchor": "x2",
         "domain": [
          0.8639999999999999,
          0.9999999999999999
         ],
         "showgrid": true
        },
        "yaxis20": {
         "anchor": "x20",
         "domain": [
          0,
          0.13599999999999998
         ],
         "showgrid": true
        },
        "yaxis3": {
         "anchor": "x3",
         "domain": [
          0.8639999999999999,
          0.9999999999999999
         ],
         "showgrid": true
        },
        "yaxis4": {
         "anchor": "x4",
         "domain": [
          0.8639999999999999,
          0.9999999999999999
         ],
         "showgrid": true
        },
        "yaxis5": {
         "anchor": "x5",
         "domain": [
          0.6479999999999999,
          0.7839999999999999
         ],
         "showgrid": true
        },
        "yaxis6": {
         "anchor": "x6",
         "domain": [
          0.6479999999999999,
          0.7839999999999999
         ],
         "showgrid": true
        },
        "yaxis7": {
         "anchor": "x7",
         "domain": [
          0.6479999999999999,
          0.7839999999999999
         ],
         "showgrid": true
        },
        "yaxis8": {
         "anchor": "x8",
         "domain": [
          0.6479999999999999,
          0.7839999999999999
         ],
         "showgrid": true
        },
        "yaxis9": {
         "anchor": "x9",
         "domain": [
          0.43199999999999994,
          0.568
         ],
         "showgrid": true
        }
       }
      },
      "text/html": [
       "<div>                            <div id=\"2721b502-7855-46d0-8bbc-275e0eeaf1ba\" class=\"plotly-graph-div\" style=\"height:1000px; width:800px;\"></div>            <script type=\"text/javascript\">                require([\"plotly\"], function(Plotly) {                    window.PLOTLYENV=window.PLOTLYENV || {};                                    if (document.getElementById(\"2721b502-7855-46d0-8bbc-275e0eeaf1ba\")) {                    Plotly.newPlot(                        \"2721b502-7855-46d0-8bbc-275e0eeaf1ba\",                        [{\"marker\":{\"color\":\"#D55E00\"},\"orientation\":\"h\",\"x\":[0.010840543255634862,0.011126075187794564,0.011375156406899794,0.011924456081157222,0.012251951057920422,0.013768594270001717,0.014347679640555364,0.014940385641205508,0.024206391320083103,0.027494089986573093],\"y\":[\"sioux  \",\"access  \",\"police  \",\"protesters  \",\"protectors  \",\"water  \",\"rock  \",\"standing  \",\"dakota  \",\"pipeline  \"],\"type\":\"bar\",\"xaxis\":\"x\",\"yaxis\":\"y\"},{\"marker\":{\"color\":\"#0072B2\"},\"orientation\":\"h\",\"x\":[0.006841870428140989,0.007413049481824202,0.007580199480360018,0.008219270917255916,0.00873217441120436,0.00990331706901032,0.009903786610335745,0.011914474801562337,0.024250781802483384,0.02841475953265129],\"y\":[\"he  \",\"hillary  \",\"emails  \",\"james  \",\"letter  \",\"clinton  \",\"director  \",\"investigation  \",\"fbi  \",\"comey  \"],\"type\":\"bar\",\"xaxis\":\"x2\",\"yaxis\":\"y2\"},{\"marker\":{\"color\":\"#CC79A7\"},\"orientation\":\"h\",\"x\":[0.006409147462376226,0.006486781654806059,0.00657022291988953,0.006610122967878416,0.006743424417430355,0.006814807030155192,0.009470064076562828,0.009700066454031282,0.010564439994203739,0.01189783841010584],\"y\":[\"it  \",\"is  \",\"are  \",\"energy  \",\"love  \",\"life  \",\"our  \",\"we  \",\"your  \",\"you  \"],\"type\":\"bar\",\"xaxis\":\"x3\",\"yaxis\":\"y3\"},{\"marker\":{\"color\":\"#E69F00\"},\"orientation\":\"h\",\"x\":[0.006451462068478036,0.006519394419100265,0.006572837294767197,0.006988519601850382,0.008057936583563094,0.008220507920535025,0.012419212425324467,0.015939378397884296,0.017884890881070297,0.018513457678439236],\"y\":[\"the  \",\"terrorists  \",\"assad  \",\"nusra  \",\"war  \",\"civilians  \",\"al  \",\"syria  \",\"syrian  \",\"aleppo  \"],\"type\":\"bar\",\"xaxis\":\"x4\",\"yaxis\":\"y4\"},{\"marker\":{\"color\":\"#56B4E9\"},\"orientation\":\"h\",\"x\":[0.021156577087476005,0.02132327562653727,0.022272838416414295,0.024682965843377657,0.029288611034041543,0.033888900666805034,0.035055794907963754,0.04792220893647269,0.054922308338458375,0.0564269151607952],\"y\":[\"\\u043d\\u043e  \",\"\\u043c\\u044b  \",\"\\u0434\\u043b\\u044f  \",\"\\u0442\\u043e  \",\"\\u043a\\u0430\\u043a  \",\"\\u044d\\u0442\\u043e  \",\"\\u043f\\u043e  \",\"\\u043d\\u0435  \",\"\\u0447\\u0442\\u043e  \",\"\\u043d\\u0430  \"],\"type\":\"bar\",\"xaxis\":\"x5\",\"yaxis\":\"y5\"},{\"marker\":{\"color\":\"#009E73\"},\"orientation\":\"h\",\"x\":[0.00793548785077628,0.008135009503471482,0.008186837068474008,0.008519657087130027,0.00896532410787504,0.009161897461201395,0.00933154411883706,0.010401543489049678,0.011027886452745838,0.011122078914151652],\"y\":[\"body  \",\"you  \",\"blood  \",\"heart  \",\"disease  \",\"health  \",\"diet  \",\"foods  \",\"your  \",\"vitamin  \"],\"type\":\"bar\",\"xaxis\":\"x6\",\"yaxis\":\"y6\"},{\"marker\":{\"color\":\"#F0E442\"},\"orientation\":\"h\",\"x\":[0.0049799551369184855,0.0051393732756990045,0.005144293960532299,0.0053163967526454236,0.005382501871016391,0.0054641267329812206,0.006426143381185942,0.007111054489909832,0.008953150099939472,0.011434135994495612],\"y\":[\"of  \",\"that  \",\"it  \",\"times  \",\"the  \",\"and  \",\"trump  \",\"fake  \",\"news  \",\"media  \"],\"type\":\"bar\",\"xaxis\":\"x7\",\"yaxis\":\"y7\"},{\"marker\":{\"color\":\"#D55E00\"},\"orientation\":\"h\",\"x\":[0.03333188031672897,0.03464253917201631,0.03998395468155461,0.04448231107572499,0.047472009463168076,0.0655221017028368,0.07999130732448241,0.08307541768225071,0.08512534753893497,0.11182116984761524],\"y\":[\"las  \",\"por  \",\"se  \",\"del  \",\"los  \",\"en  \",\"el  \",\"que  \",\"la  \",\"de  \"],\"type\":\"bar\",\"xaxis\":\"x8\",\"yaxis\":\"y8\"},{\"marker\":{\"color\":\"#0072B2\"},\"orientation\":\"h\",\"x\":[0.00991510399153548,0.010312362325560043,0.010371227964028519,0.012694474912170678,0.013244075396039012,0.01805940399710816,0.018569194453080685,0.019305405654148008,0.020256172589717087,0.02099090691234716],\"y\":[\"email  \",\"anthony  \",\"comey  \",\"clinton  \",\"investigation  \",\"abedin  \",\"huma  \",\"weiner  \",\"emails  \",\"fbi  \"],\"type\":\"bar\",\"xaxis\":\"x9\",\"yaxis\":\"y9\"},{\"marker\":{\"color\":\"#CC79A7\"},\"orientation\":\"h\",\"x\":[0.005332026355584813,0.00556913678735326,0.005867426312220915,0.0060091276129354285,0.006238048141217187,0.007239571991623629,0.008230449204645785,0.009338251921087717,0.010883352319440256,0.01654372548418823],\"y\":[\"shot  \",\"he  \",\"was  \",\"they  \",\"you  \",\"cop  \",\"officers  \",\"cops  \",\"officer  \",\"police  \"],\"type\":\"bar\",\"xaxis\":\"x10\",\"yaxis\":\"y10\"},{\"marker\":{\"color\":\"#E69F00\"},\"orientation\":\"h\",\"x\":[0.010532979042618096,0.011449330690464176,0.012002208610053952,0.013513052122469085,0.014254774974916187,0.015300285481695129,0.017275704632704073,0.0276148661620079,0.03146250403481956,0.048245421196056376],\"y\":[\"army  \",\"fighters  \",\"daesh  \",\"al  \",\"city  \",\"iraq  \",\"forces  \",\"isis  \",\"iraqi  \",\"mosul  \"],\"type\":\"bar\",\"xaxis\":\"x11\",\"yaxis\":\"y11\"},{\"marker\":{\"color\":\"#56B4E9\"},\"orientation\":\"h\",\"x\":[0.008494793533436594,0.009551353175826467,0.009939109594281998,0.009955643285010148,0.009964868487148667,0.011024819797683794,0.011555700840342046,0.012912155322252318,0.01451611608021284,0.01617148826285555],\"y\":[\"vote  \",\"michigan  \",\"clinton  \",\"voters  \",\"win  \",\"electoral  \",\"votes  \",\"poll  \",\"percent  \",\"trump  \"],\"type\":\"bar\",\"xaxis\":\"x12\",\"yaxis\":\"y12\"},{\"marker\":{\"color\":\"#009E73\"},\"orientation\":\"h\",\"x\":[0.005240121880740715,0.0053767280192831965,0.0053897808547842966,0.005599921556055902,0.005690813403193669,0.005793794813419231,0.006183136261481354,0.006785651233619843,0.007138211474722442,0.012071696772057739],\"y\":[\"american  \",\"and  \",\"donald  \",\"obama  \",\"of  \",\"the  \",\"his  \",\"president  \",\"he  \",\"trump  \"],\"type\":\"bar\",\"xaxis\":\"x13\",\"yaxis\":\"y13\"},{\"marker\":{\"color\":\"#F0E442\"},\"orientation\":\"h\",\"x\":[0.011869908647883174,0.012026489577591467,0.01254458969112988,0.014145432738929669,0.01465749240319639,0.014723022219755362,0.016127732168361157,0.017181750334387968,0.018757657683232568,0.023506881947373406],\"y\":[\"county  \",\"voters  \",\"machines  \",\"ballots  \",\"election  \",\"texas  \",\"vote  \",\"fraud  \",\"voting  \",\"voter  \"],\"type\":\"bar\",\"xaxis\":\"x14\",\"yaxis\":\"y14\"},{\"marker\":{\"color\":\"#D55E00\"},\"orientation\":\"h\",\"x\":[0.0070628069339438064,0.007875191267178581,0.00795102880914912,0.008727950767682997,0.008869495765841683,0.009733364201707334,0.011958717084708066,0.014126164710405007,0.023469435060799623,0.05122135350435607],\"y\":[\"investors  \",\"mining  \",\"dollar  \",\"kwn  \",\"markets  \",\"metals  \",\"market  \",\"price  \",\"silver  \",\"gold  \"],\"type\":\"bar\",\"xaxis\":\"x15\",\"yaxis\":\"y15\"},{\"marker\":{\"color\":\"#0072B2\"},\"orientation\":\"h\",\"x\":[0.007721335074108433,0.008003031573507789,0.00888381379113571,0.00965523397338568,0.012302728786965766,0.015575728943809387,0.015757418930569127,0.017500212588993366,0.022114546152379195,0.027316938157965334],\"y\":[\"2015  \",\"server  \",\"hillary  \",\"campaign  \",\"wikileaks  \",\"kadzik  \",\"clinton  \",\"emails  \",\"email  \",\"podesta  \"],\"type\":\"bar\",\"xaxis\":\"x16\",\"yaxis\":\"y16\"},{\"marker\":{\"color\":\"#CC79A7\"},\"orientation\":\"h\",\"x\":[1e-05,1e-05,1e-05,1e-05,1e-05,1e-05,1e-05,1e-05,1e-05,1e-05],\"y\":[\"  \",\"  \",\"  \",\"  \",\"  \",\"  \",\"  \",\"  \",\"  \",\"  \"],\"type\":\"bar\",\"xaxis\":\"x17\",\"yaxis\":\"y17\"},{\"marker\":{\"color\":\"#E69F00\"},\"orientation\":\"h\",\"x\":[0.008706571647472246,0.009494722129834628,0.009691583108680523,0.00981992151538716,0.015028797722652545,0.01645079207706226,0.016807290829304336,0.01875634822146201,0.018885641891662985,0.027886697903357776],\"y\":[\"costs  \",\"insurers  \",\"gruber  \",\"payer  \",\"premiums  \",\"healthcare  \",\"health  \",\"insurance  \",\"care  \",\"obamacare  \"],\"type\":\"bar\",\"xaxis\":\"x18\",\"yaxis\":\"y18\"},{\"marker\":{\"color\":\"#56B4E9\"},\"orientation\":\"h\",\"x\":[0.03170158314798975,0.032549355194421925,0.032735097727163466,0.03298070155661166,0.0338098501870997,0.039929582620564515,0.04120304931888769,0.05411399935619806,0.06172673615120325,0.0728955978324167],\"y\":[\"ich  \",\"sich  \",\"das  \",\"auf  \",\"mit  \",\"den  \",\"zu  \",\"und  \",\"die  \",\"der  \"],\"type\":\"bar\",\"xaxis\":\"x19\",\"yaxis\":\"y19\"},{\"marker\":{\"color\":\"#009E73\"},\"orientation\":\"h\",\"x\":[0.0047290146208654365,0.004734203248672322,0.00475515769899195,0.00478337949934307,0.0051485360939959104,0.005406904246040867,0.005569083404397064,0.005803269690463481,0.006218032264944799,0.006352586052739187],\"y\":[\"in  \",\"we  \",\"to  \",\"as  \",\"is  \",\"empire  \",\"world  \",\"the  \",\"of  \",\"and  \"],\"type\":\"bar\",\"xaxis\":\"x20\",\"yaxis\":\"y20\"}],                        {\"template\":{\"data\":{\"barpolar\":[{\"marker\":{\"line\":{\"color\":\"white\",\"width\":0.5},\"pattern\":{\"fillmode\":\"overlay\",\"size\":10,\"solidity\":0.2}},\"type\":\"barpolar\"}],\"bar\":[{\"error_x\":{\"color\":\"#2a3f5f\"},\"error_y\":{\"color\":\"#2a3f5f\"},\"marker\":{\"line\":{\"color\":\"white\",\"width\":0.5},\"pattern\":{\"fillmode\":\"overlay\",\"size\":10,\"solidity\":0.2}},\"type\":\"bar\"}],\"carpet\":[{\"aaxis\":{\"endlinecolor\":\"#2a3f5f\",\"gridcolor\":\"#C8D4E3\",\"linecolor\":\"#C8D4E3\",\"minorgridcolor\":\"#C8D4E3\",\"startlinecolor\":\"#2a3f5f\"},\"baxis\":{\"endlinecolor\":\"#2a3f5f\",\"gridcolor\":\"#C8D4E3\",\"linecolor\":\"#C8D4E3\",\"minorgridcolor\":\"#C8D4E3\",\"startlinecolor\":\"#2a3f5f\"},\"type\":\"carpet\"}],\"choropleth\":[{\"colorbar\":{\"outlinewidth\":0,\"ticks\":\"\"},\"type\":\"choropleth\"}],\"contourcarpet\":[{\"colorbar\":{\"outlinewidth\":0,\"ticks\":\"\"},\"type\":\"contourcarpet\"}],\"contour\":[{\"colorbar\":{\"outlinewidth\":0,\"ticks\":\"\"},\"colorscale\":[[0.0,\"#0d0887\"],[0.1111111111111111,\"#46039f\"],[0.2222222222222222,\"#7201a8\"],[0.3333333333333333,\"#9c179e\"],[0.4444444444444444,\"#bd3786\"],[0.5555555555555556,\"#d8576b\"],[0.6666666666666666,\"#ed7953\"],[0.7777777777777778,\"#fb9f3a\"],[0.8888888888888888,\"#fdca26\"],[1.0,\"#f0f921\"]],\"type\":\"contour\"}],\"heatmapgl\":[{\"colorbar\":{\"outlinewidth\":0,\"ticks\":\"\"},\"colorscale\":[[0.0,\"#0d0887\"],[0.1111111111111111,\"#46039f\"],[0.2222222222222222,\"#7201a8\"],[0.3333333333333333,\"#9c179e\"],[0.4444444444444444,\"#bd3786\"],[0.5555555555555556,\"#d8576b\"],[0.6666666666666666,\"#ed7953\"],[0.7777777777777778,\"#fb9f3a\"],[0.8888888888888888,\"#fdca26\"],[1.0,\"#f0f921\"]],\"type\":\"heatmapgl\"}],\"heatmap\":[{\"colorbar\":{\"outlinewidth\":0,\"ticks\":\"\"},\"colorscale\":[[0.0,\"#0d0887\"],[0.1111111111111111,\"#46039f\"],[0.2222222222222222,\"#7201a8\"],[0.3333333333333333,\"#9c179e\"],[0.4444444444444444,\"#bd3786\"],[0.5555555555555556,\"#d8576b\"],[0.6666666666666666,\"#ed7953\"],[0.7777777777777778,\"#fb9f3a\"],[0.8888888888888888,\"#fdca26\"],[1.0,\"#f0f921\"]],\"type\":\"heatmap\"}],\"histogram2dcontour\":[{\"colorbar\":{\"outlinewidth\":0,\"ticks\":\"\"},\"colorscale\":[[0.0,\"#0d0887\"],[0.1111111111111111,\"#46039f\"],[0.2222222222222222,\"#7201a8\"],[0.3333333333333333,\"#9c179e\"],[0.4444444444444444,\"#bd3786\"],[0.5555555555555556,\"#d8576b\"],[0.6666666666666666,\"#ed7953\"],[0.7777777777777778,\"#fb9f3a\"],[0.8888888888888888,\"#fdca26\"],[1.0,\"#f0f921\"]],\"type\":\"histogram2dcontour\"}],\"histogram2d\":[{\"colorbar\":{\"outlinewidth\":0,\"ticks\":\"\"},\"colorscale\":[[0.0,\"#0d0887\"],[0.1111111111111111,\"#46039f\"],[0.2222222222222222,\"#7201a8\"],[0.3333333333333333,\"#9c179e\"],[0.4444444444444444,\"#bd3786\"],[0.5555555555555556,\"#d8576b\"],[0.6666666666666666,\"#ed7953\"],[0.7777777777777778,\"#fb9f3a\"],[0.8888888888888888,\"#fdca26\"],[1.0,\"#f0f921\"]],\"type\":\"histogram2d\"}],\"histogram\":[{\"marker\":{\"pattern\":{\"fillmode\":\"overlay\",\"size\":10,\"solidity\":0.2}},\"type\":\"histogram\"}],\"mesh3d\":[{\"colorbar\":{\"outlinewidth\":0,\"ticks\":\"\"},\"type\":\"mesh3d\"}],\"parcoords\":[{\"line\":{\"colorbar\":{\"outlinewidth\":0,\"ticks\":\"\"}},\"type\":\"parcoords\"}],\"pie\":[{\"automargin\":true,\"type\":\"pie\"}],\"scatter3d\":[{\"line\":{\"colorbar\":{\"outlinewidth\":0,\"ticks\":\"\"}},\"marker\":{\"colorbar\":{\"outlinewidth\":0,\"ticks\":\"\"}},\"type\":\"scatter3d\"}],\"scattercarpet\":[{\"marker\":{\"colorbar\":{\"outlinewidth\":0,\"ticks\":\"\"}},\"type\":\"scattercarpet\"}],\"scattergeo\":[{\"marker\":{\"colorbar\":{\"outlinewidth\":0,\"ticks\":\"\"}},\"type\":\"scattergeo\"}],\"scattergl\":[{\"marker\":{\"colorbar\":{\"outlinewidth\":0,\"ticks\":\"\"}},\"type\":\"scattergl\"}],\"scattermapbox\":[{\"marker\":{\"colorbar\":{\"outlinewidth\":0,\"ticks\":\"\"}},\"type\":\"scattermapbox\"}],\"scatterpolargl\":[{\"marker\":{\"colorbar\":{\"outlinewidth\":0,\"ticks\":\"\"}},\"type\":\"scatterpolargl\"}],\"scatterpolar\":[{\"marker\":{\"colorbar\":{\"outlinewidth\":0,\"ticks\":\"\"}},\"type\":\"scatterpolar\"}],\"scatter\":[{\"fillpattern\":{\"fillmode\":\"overlay\",\"size\":10,\"solidity\":0.2},\"type\":\"scatter\"}],\"scatterternary\":[{\"marker\":{\"colorbar\":{\"outlinewidth\":0,\"ticks\":\"\"}},\"type\":\"scatterternary\"}],\"surface\":[{\"colorbar\":{\"outlinewidth\":0,\"ticks\":\"\"},\"colorscale\":[[0.0,\"#0d0887\"],[0.1111111111111111,\"#46039f\"],[0.2222222222222222,\"#7201a8\"],[0.3333333333333333,\"#9c179e\"],[0.4444444444444444,\"#bd3786\"],[0.5555555555555556,\"#d8576b\"],[0.6666666666666666,\"#ed7953\"],[0.7777777777777778,\"#fb9f3a\"],[0.8888888888888888,\"#fdca26\"],[1.0,\"#f0f921\"]],\"type\":\"surface\"}],\"table\":[{\"cells\":{\"fill\":{\"color\":\"#EBF0F8\"},\"line\":{\"color\":\"white\"}},\"header\":{\"fill\":{\"color\":\"#C8D4E3\"},\"line\":{\"color\":\"white\"}},\"type\":\"table\"}]},\"layout\":{\"annotationdefaults\":{\"arrowcolor\":\"#2a3f5f\",\"arrowhead\":0,\"arrowwidth\":1},\"autotypenumbers\":\"strict\",\"coloraxis\":{\"colorbar\":{\"outlinewidth\":0,\"ticks\":\"\"}},\"colorscale\":{\"diverging\":[[0,\"#8e0152\"],[0.1,\"#c51b7d\"],[0.2,\"#de77ae\"],[0.3,\"#f1b6da\"],[0.4,\"#fde0ef\"],[0.5,\"#f7f7f7\"],[0.6,\"#e6f5d0\"],[0.7,\"#b8e186\"],[0.8,\"#7fbc41\"],[0.9,\"#4d9221\"],[1,\"#276419\"]],\"sequential\":[[0.0,\"#0d0887\"],[0.1111111111111111,\"#46039f\"],[0.2222222222222222,\"#7201a8\"],[0.3333333333333333,\"#9c179e\"],[0.4444444444444444,\"#bd3786\"],[0.5555555555555556,\"#d8576b\"],[0.6666666666666666,\"#ed7953\"],[0.7777777777777778,\"#fb9f3a\"],[0.8888888888888888,\"#fdca26\"],[1.0,\"#f0f921\"]],\"sequentialminus\":[[0.0,\"#0d0887\"],[0.1111111111111111,\"#46039f\"],[0.2222222222222222,\"#7201a8\"],[0.3333333333333333,\"#9c179e\"],[0.4444444444444444,\"#bd3786\"],[0.5555555555555556,\"#d8576b\"],[0.6666666666666666,\"#ed7953\"],[0.7777777777777778,\"#fb9f3a\"],[0.8888888888888888,\"#fdca26\"],[1.0,\"#f0f921\"]]},\"colorway\":[\"#636efa\",\"#EF553B\",\"#00cc96\",\"#ab63fa\",\"#FFA15A\",\"#19d3f3\",\"#FF6692\",\"#B6E880\",\"#FF97FF\",\"#FECB52\"],\"font\":{\"color\":\"#2a3f5f\"},\"geo\":{\"bgcolor\":\"white\",\"lakecolor\":\"white\",\"landcolor\":\"white\",\"showlakes\":true,\"showland\":true,\"subunitcolor\":\"#C8D4E3\"},\"hoverlabel\":{\"align\":\"left\"},\"hovermode\":\"closest\",\"mapbox\":{\"style\":\"light\"},\"paper_bgcolor\":\"white\",\"plot_bgcolor\":\"white\",\"polar\":{\"angularaxis\":{\"gridcolor\":\"#EBF0F8\",\"linecolor\":\"#EBF0F8\",\"ticks\":\"\"},\"bgcolor\":\"white\",\"radialaxis\":{\"gridcolor\":\"#EBF0F8\",\"linecolor\":\"#EBF0F8\",\"ticks\":\"\"}},\"scene\":{\"xaxis\":{\"backgroundcolor\":\"white\",\"gridcolor\":\"#DFE8F3\",\"gridwidth\":2,\"linecolor\":\"#EBF0F8\",\"showbackground\":true,\"ticks\":\"\",\"zerolinecolor\":\"#EBF0F8\"},\"yaxis\":{\"backgroundcolor\":\"white\",\"gridcolor\":\"#DFE8F3\",\"gridwidth\":2,\"linecolor\":\"#EBF0F8\",\"showbackground\":true,\"ticks\":\"\",\"zerolinecolor\":\"#EBF0F8\"},\"zaxis\":{\"backgroundcolor\":\"white\",\"gridcolor\":\"#DFE8F3\",\"gridwidth\":2,\"linecolor\":\"#EBF0F8\",\"showbackground\":true,\"ticks\":\"\",\"zerolinecolor\":\"#EBF0F8\"}},\"shapedefaults\":{\"line\":{\"color\":\"#2a3f5f\"}},\"ternary\":{\"aaxis\":{\"gridcolor\":\"#DFE8F3\",\"linecolor\":\"#A2B1C6\",\"ticks\":\"\"},\"baxis\":{\"gridcolor\":\"#DFE8F3\",\"linecolor\":\"#A2B1C6\",\"ticks\":\"\"},\"bgcolor\":\"white\",\"caxis\":{\"gridcolor\":\"#DFE8F3\",\"linecolor\":\"#A2B1C6\",\"ticks\":\"\"}},\"title\":{\"x\":0.05},\"xaxis\":{\"automargin\":true,\"gridcolor\":\"#EBF0F8\",\"linecolor\":\"#EBF0F8\",\"ticks\":\"\",\"title\":{\"standoff\":15},\"zerolinecolor\":\"#EBF0F8\",\"zerolinewidth\":2},\"yaxis\":{\"automargin\":true,\"gridcolor\":\"#EBF0F8\",\"linecolor\":\"#EBF0F8\",\"ticks\":\"\",\"title\":{\"standoff\":15},\"zerolinecolor\":\"#EBF0F8\",\"zerolinewidth\":2}}},\"xaxis\":{\"anchor\":\"y\",\"domain\":[0.0,0.175],\"showgrid\":true},\"yaxis\":{\"anchor\":\"x\",\"domain\":[0.8639999999999999,0.9999999999999999],\"showgrid\":true},\"xaxis2\":{\"anchor\":\"y2\",\"domain\":[0.275,0.45],\"showgrid\":true},\"yaxis2\":{\"anchor\":\"x2\",\"domain\":[0.8639999999999999,0.9999999999999999],\"showgrid\":true},\"xaxis3\":{\"anchor\":\"y3\",\"domain\":[0.55,0.7250000000000001],\"showgrid\":true},\"yaxis3\":{\"anchor\":\"x3\",\"domain\":[0.8639999999999999,0.9999999999999999],\"showgrid\":true},\"xaxis4\":{\"anchor\":\"y4\",\"domain\":[0.825,1.0],\"showgrid\":true},\"yaxis4\":{\"anchor\":\"x4\",\"domain\":[0.8639999999999999,0.9999999999999999],\"showgrid\":true},\"xaxis5\":{\"anchor\":\"y5\",\"domain\":[0.0,0.175],\"showgrid\":true},\"yaxis5\":{\"anchor\":\"x5\",\"domain\":[0.6479999999999999,0.7839999999999999],\"showgrid\":true},\"xaxis6\":{\"anchor\":\"y6\",\"domain\":[0.275,0.45],\"showgrid\":true},\"yaxis6\":{\"anchor\":\"x6\",\"domain\":[0.6479999999999999,0.7839999999999999],\"showgrid\":true},\"xaxis7\":{\"anchor\":\"y7\",\"domain\":[0.55,0.7250000000000001],\"showgrid\":true},\"yaxis7\":{\"anchor\":\"x7\",\"domain\":[0.6479999999999999,0.7839999999999999],\"showgrid\":true},\"xaxis8\":{\"anchor\":\"y8\",\"domain\":[0.825,1.0],\"showgrid\":true},\"yaxis8\":{\"anchor\":\"x8\",\"domain\":[0.6479999999999999,0.7839999999999999],\"showgrid\":true},\"xaxis9\":{\"anchor\":\"y9\",\"domain\":[0.0,0.175],\"showgrid\":true},\"yaxis9\":{\"anchor\":\"x9\",\"domain\":[0.43199999999999994,0.568],\"showgrid\":true},\"xaxis10\":{\"anchor\":\"y10\",\"domain\":[0.275,0.45],\"showgrid\":true},\"yaxis10\":{\"anchor\":\"x10\",\"domain\":[0.43199999999999994,0.568],\"showgrid\":true},\"xaxis11\":{\"anchor\":\"y11\",\"domain\":[0.55,0.7250000000000001],\"showgrid\":true},\"yaxis11\":{\"anchor\":\"x11\",\"domain\":[0.43199999999999994,0.568],\"showgrid\":true},\"xaxis12\":{\"anchor\":\"y12\",\"domain\":[0.825,1.0],\"showgrid\":true},\"yaxis12\":{\"anchor\":\"x12\",\"domain\":[0.43199999999999994,0.568],\"showgrid\":true},\"xaxis13\":{\"anchor\":\"y13\",\"domain\":[0.0,0.175],\"showgrid\":true},\"yaxis13\":{\"anchor\":\"x13\",\"domain\":[0.21599999999999997,0.352],\"showgrid\":true},\"xaxis14\":{\"anchor\":\"y14\",\"domain\":[0.275,0.45],\"showgrid\":true},\"yaxis14\":{\"anchor\":\"x14\",\"domain\":[0.21599999999999997,0.352],\"showgrid\":true},\"xaxis15\":{\"anchor\":\"y15\",\"domain\":[0.55,0.7250000000000001],\"showgrid\":true},\"yaxis15\":{\"anchor\":\"x15\",\"domain\":[0.21599999999999997,0.352],\"showgrid\":true},\"xaxis16\":{\"anchor\":\"y16\",\"domain\":[0.825,1.0],\"showgrid\":true},\"yaxis16\":{\"anchor\":\"x16\",\"domain\":[0.21599999999999997,0.352],\"showgrid\":true},\"xaxis17\":{\"anchor\":\"y17\",\"domain\":[0.0,0.175],\"showgrid\":true},\"yaxis17\":{\"anchor\":\"x17\",\"domain\":[0.0,0.13599999999999998],\"showgrid\":true},\"xaxis18\":{\"anchor\":\"y18\",\"domain\":[0.275,0.45],\"showgrid\":true},\"yaxis18\":{\"anchor\":\"x18\",\"domain\":[0.0,0.13599999999999998],\"showgrid\":true},\"xaxis19\":{\"anchor\":\"y19\",\"domain\":[0.55,0.7250000000000001],\"showgrid\":true},\"yaxis19\":{\"anchor\":\"x19\",\"domain\":[0.0,0.13599999999999998],\"showgrid\":true},\"xaxis20\":{\"anchor\":\"y20\",\"domain\":[0.825,1.0],\"showgrid\":true},\"yaxis20\":{\"anchor\":\"x20\",\"domain\":[0.0,0.13599999999999998],\"showgrid\":true},\"annotations\":[{\"font\":{\"size\":16},\"showarrow\":false,\"text\":\"Topic 0\",\"x\":0.0875,\"xanchor\":\"center\",\"xref\":\"paper\",\"y\":0.9999999999999999,\"yanchor\":\"bottom\",\"yref\":\"paper\"},{\"font\":{\"size\":16},\"showarrow\":false,\"text\":\"Topic 1\",\"x\":0.36250000000000004,\"xanchor\":\"center\",\"xref\":\"paper\",\"y\":0.9999999999999999,\"yanchor\":\"bottom\",\"yref\":\"paper\"},{\"font\":{\"size\":16},\"showarrow\":false,\"text\":\"Topic 2\",\"x\":0.6375000000000001,\"xanchor\":\"center\",\"xref\":\"paper\",\"y\":0.9999999999999999,\"yanchor\":\"bottom\",\"yref\":\"paper\"},{\"font\":{\"size\":16},\"showarrow\":false,\"text\":\"Topic 3\",\"x\":0.9125,\"xanchor\":\"center\",\"xref\":\"paper\",\"y\":0.9999999999999999,\"yanchor\":\"bottom\",\"yref\":\"paper\"},{\"font\":{\"size\":16},\"showarrow\":false,\"text\":\"Topic 4\",\"x\":0.0875,\"xanchor\":\"center\",\"xref\":\"paper\",\"y\":0.7839999999999999,\"yanchor\":\"bottom\",\"yref\":\"paper\"},{\"font\":{\"size\":16},\"showarrow\":false,\"text\":\"Topic 5\",\"x\":0.36250000000000004,\"xanchor\":\"center\",\"xref\":\"paper\",\"y\":0.7839999999999999,\"yanchor\":\"bottom\",\"yref\":\"paper\"},{\"font\":{\"size\":16},\"showarrow\":false,\"text\":\"Topic 6\",\"x\":0.6375000000000001,\"xanchor\":\"center\",\"xref\":\"paper\",\"y\":0.7839999999999999,\"yanchor\":\"bottom\",\"yref\":\"paper\"},{\"font\":{\"size\":16},\"showarrow\":false,\"text\":\"Topic 7\",\"x\":0.9125,\"xanchor\":\"center\",\"xref\":\"paper\",\"y\":0.7839999999999999,\"yanchor\":\"bottom\",\"yref\":\"paper\"},{\"font\":{\"size\":16},\"showarrow\":false,\"text\":\"Topic 8\",\"x\":0.0875,\"xanchor\":\"center\",\"xref\":\"paper\",\"y\":0.568,\"yanchor\":\"bottom\",\"yref\":\"paper\"},{\"font\":{\"size\":16},\"showarrow\":false,\"text\":\"Topic 9\",\"x\":0.36250000000000004,\"xanchor\":\"center\",\"xref\":\"paper\",\"y\":0.568,\"yanchor\":\"bottom\",\"yref\":\"paper\"},{\"font\":{\"size\":16},\"showarrow\":false,\"text\":\"Topic 10\",\"x\":0.6375000000000001,\"xanchor\":\"center\",\"xref\":\"paper\",\"y\":0.568,\"yanchor\":\"bottom\",\"yref\":\"paper\"},{\"font\":{\"size\":16},\"showarrow\":false,\"text\":\"Topic 11\",\"x\":0.9125,\"xanchor\":\"center\",\"xref\":\"paper\",\"y\":0.568,\"yanchor\":\"bottom\",\"yref\":\"paper\"},{\"font\":{\"size\":16},\"showarrow\":false,\"text\":\"Topic 12\",\"x\":0.0875,\"xanchor\":\"center\",\"xref\":\"paper\",\"y\":0.352,\"yanchor\":\"bottom\",\"yref\":\"paper\"},{\"font\":{\"size\":16},\"showarrow\":false,\"text\":\"Topic 13\",\"x\":0.36250000000000004,\"xanchor\":\"center\",\"xref\":\"paper\",\"y\":0.352,\"yanchor\":\"bottom\",\"yref\":\"paper\"},{\"font\":{\"size\":16},\"showarrow\":false,\"text\":\"Topic 14\",\"x\":0.6375000000000001,\"xanchor\":\"center\",\"xref\":\"paper\",\"y\":0.352,\"yanchor\":\"bottom\",\"yref\":\"paper\"},{\"font\":{\"size\":16},\"showarrow\":false,\"text\":\"Topic 15\",\"x\":0.9125,\"xanchor\":\"center\",\"xref\":\"paper\",\"y\":0.352,\"yanchor\":\"bottom\",\"yref\":\"paper\"},{\"font\":{\"size\":16},\"showarrow\":false,\"text\":\"Topic 16\",\"x\":0.0875,\"xanchor\":\"center\",\"xref\":\"paper\",\"y\":0.13599999999999998,\"yanchor\":\"bottom\",\"yref\":\"paper\"},{\"font\":{\"size\":16},\"showarrow\":false,\"text\":\"Topic 17\",\"x\":0.36250000000000004,\"xanchor\":\"center\",\"xref\":\"paper\",\"y\":0.13599999999999998,\"yanchor\":\"bottom\",\"yref\":\"paper\"},{\"font\":{\"size\":16},\"showarrow\":false,\"text\":\"Topic 18\",\"x\":0.6375000000000001,\"xanchor\":\"center\",\"xref\":\"paper\",\"y\":0.13599999999999998,\"yanchor\":\"bottom\",\"yref\":\"paper\"},{\"font\":{\"size\":16},\"showarrow\":false,\"text\":\"Topic 19\",\"x\":0.9125,\"xanchor\":\"center\",\"xref\":\"paper\",\"y\":0.13599999999999998,\"yanchor\":\"bottom\",\"yref\":\"paper\"}],\"title\":{\"font\":{\"size\":22,\"color\":\"Black\"},\"text\":\"Text Clusters in True News\",\"x\":0.5,\"xanchor\":\"center\",\"yanchor\":\"top\"},\"hoverlabel\":{\"font\":{\"size\":16,\"family\":\"Rockwell\"},\"bgcolor\":\"white\"},\"showlegend\":false,\"width\":800,\"height\":1000},                        {\"responsive\": true}                    ).then(function(){\n",
       "                            \n",
       "var gd = document.getElementById('2721b502-7855-46d0-8bbc-275e0eeaf1ba');\n",
       "var x = new MutationObserver(function (mutations, observer) {{\n",
       "        var display = window.getComputedStyle(gd).display;\n",
       "        if (!display || display === 'none') {{\n",
       "            console.log([gd, 'removed!']);\n",
       "            Plotly.purge(gd);\n",
       "            observer.disconnect();\n",
       "        }}\n",
       "}});\n",
       "\n",
       "// Listen for the removal of the full notebook cells\n",
       "var notebookContainer = gd.closest('#notebook-container');\n",
       "if (notebookContainer) {{\n",
       "    x.observe(notebookContainer, {childList: true});\n",
       "}}\n",
       "\n",
       "// Listen for the clearing of the current output cell\n",
       "var outputEl = gd.closest('.output');\n",
       "if (outputEl) {{\n",
       "    x.observe(outputEl, {childList: true});\n",
       "}}\n",
       "\n",
       "                        })                };                });            </script>        </div>"
      ]
     },
     "metadata": {},
     "output_type": "display_data"
    }
   ],
   "source": [
    "text_true_topic_model.visualize_barchart(width=200, height=200, top_n_topics=20, n_words=10,title=\"Text Clusters in True News\")"
   ]
  },
  {
   "cell_type": "code",
   "execution_count": 29,
   "id": "db92a222",
   "metadata": {},
   "outputs": [
    {
     "name": "stdout",
     "output_type": "stream",
     "text": [
      "Sparking An Inner Revolution \n",
      "\n",
      " 0 0 With humanity’s awakening continuing to speed up as every day passes, we see more and more people desiring information to help them better themselves. Whether that is done through eating healthier foods, beginning a yoga or meditation practice, or whether it is done by being more mindful with the words they choose to use when having an inner dialogue or a conversation with friends and family, more people are looking for information to help them transform their lives in a positive way. While there are many methods to improving one’s life, below are some methods that can help a person spark an inner revolution to create positive and uplifting change in his or her world. Grounding/Earthing Grounding, or what is also called Earthing is when a person has bare skin touching the Earth or a tree and is most commonly done by standing on the Earth with one’s bare feet. Doing this begins to balance the electrochemical state of the body because of the negative ions the Earth emits. Negative ions act as antioxidants (free-radical scavengers) by pairing up with the free radicals and rendering them neutral. Thus, pain, inflammation and anything out of balance begins to move towards balance, or homeostasis. There have been several studies that have shown how grounding helps with pain reduction, wounding healing, balancing of the circadian rhythm to help improve sleep, as well as helping to shift a person’s brainwaves to the alpha state, which is great for a calm and balanced, yet alert and fully awake state of mind. Standing barefoot on the Earth, sand, dirt or concrete (not asphalt) will allow the free flow of negative ions to come in contact with the sensory neurons on the skin and begin to trigger positive physiological and psychological changes within the body. Taking it a bit further, if a person is able to connect with the Earth in a quiet place, the benefits could be even more as Dr. Joe Dispenza has said , “In clinical studies, we have proven that 2 hours of nature sounds a day significantly reduce stress hormones up to 800% and activates 500-600 DNA segments known to be responsible for healing and repairing the body.” Burning Sage In a 2007 study from the Journal of Ethnopharmacology , researchers found that medicinal smoke killed harmful airborne bacteria by up to 94% in just one hour. On a more spiritual level, burning sage has long been used to clear negative or disharmonious energies from a space. This can be done when a person comes home from work or school for that day, as burning sage can be a good way to clear any discordant energy the person may have “picked up” or had “taken on” from other people or their environment. It is used to clear away such energy so that a person can be centered in who he or she is, rather than having to deal with issues that might have been taken on from others. I personally do this each time after coming home from getting groceries or running and errand. Essential Oils The two best ways to use essential oils are to smell them as well as apply them to the skin. While applying essential oils to the skin has many of it’s own benefits, smelling them also creates wonderful responses in the body, and especially the brain. According to the University of Minnesota , smelling essential oils’ molecules affect the olfactory organs, the lungs (and thus the respiratory system) as well as the brain. Odor molecules travel through the nose and positively affect the limbic system of the brain, which is sometimes called the “emotional part of the brain.” To this end, the limbic system controls heart rate, mood, blood pressure, memory, breathing, stress hormone response and overall stress levels. Applying or smelling essential oils throughout the day is a wonderful way to develop emotional intelligence and can help a person respond to stressful situations in a more positive way than before. Smelling essential oils can be personally described as an uplifting and heavenly experience; one that allows us to smell the cosmic byproduct of thousands of flowers pressed into a wonderful gift for humanity. Breathing Exercises Breathing exercises, which can also be considered a form of meditation, can have profound effects on the body and mind. According to Deepok Chopra , a regular practice of rhythmic deep breathing has been shown to reduce anxiety and depression, stabilize blood pressure, increase energy levels and decrease feelings of stress. Over time, a breathing or meditation practice can lead to wonderful internal shifts both physically and emotionally. Incorporating a deep breathing practice into the practice of grounding or Earthing is a great way to accomplish both practices at once. Here is an article of three sample breathing exercises from Dr. Andrew Weil. While there are many other practices a person can use to help catalyze deeper inner growth, such as flower essence therapy (different from essential oils), nature walking, sun-bathing and the use of certain health supplements like fulvic acid and Reishi , this list is a guide that may help those who may just be starting to experience an internal transformation. These four simple practices can be easy to incorporate into one’s life and is recommended to experiment with what feels best for that person. What of these practices do you use in your life? What other practices do you use to help you continue your inner revolution? Share with us your practices or suggestions you have in the comments section. Cheers to our health! Lance Schuttler graduated from the University of Iowa with a degree in Health Science-Health Coaching and offers health coaching services through his website Orgonlight Health. You can follow the Orgonlight Health Facebook page or visit the website for more information on how to receive health coaching for yourself, your friend or family member as well as view other inspiring articles. \n",
      "------\n",
      "\n",
      "The Geometry of Energy and Meditation of Buddha \n",
      "\n",
      " License DMCA \r\n",
      "A mandala is a visual symbol often utilized in meditation practices and teachings. The mandala symbol itself is a geometric construction of points, lines, planes and solids symbolizing the universe. Mandalas are geometric designs depictive of the universe specifically. Other designs are similarly meditation tools, but may not be mandalas specifically. The visually conceived geometric symbols are visual meditation tools. A visual meditation tool is called a yantra. Mandalas and all other yantras are visual meditation points of concentration. Yantras are visual meditative tools similar in value to points of concentration. The image above is the sri yantra, sri meaning king or most important. \r\n",
      "A mantra is the audio version of a mandala. A mantra is an audio meditation tool. Whether the sound of the mantra is a single syllable tone or a series of lengthy metaphysical musings, a mantra is an audio meditation tool. Mantras, as sound vibration, are wavy linear vibrations of connection. \r\n",
      "The terms asana and mudra both reference physical positioning. An asana is a body posture as a meditation tool, and a mudra is a hand gesture or posture as a meditation tool. Asanas and mudras enable our own bodies to become a geometric representation of a meditation tool. The postures are physical meditation tools transforming self into one's own geometric figure or plane among the space and sensitive to the space of self and surroundings. \r\n",
      "Tantra means unification, or looming/weaving together principles and practices, instruction and individual action. Tantra unites entirety. Tantra signifies confluence and integration; a fusion. It is Sanskrit for loom, the device which weaves together string into cloth. It is an ancient word with many properties and has been variously used to describe the knots of strings weaved together in a rug, and the cord on which sacred mala bead necklaces were strung, (Mala beads are Tibetan prayer necklaces of 108 beads used to assist mentally or vocally repeating a mantra 108 times.) and practices of unification of individual with the universal. Today the word tantra is often used in reference to the union of lovemaking. Though there is also a specific type of yoga called Tantra Yoga it means unification. \r\n",
      "There is the potentiation of the unification of principle and practice. There is the potentiation of tantra of yantra, mantra and asana. And there is certainly the lesson of the potentiation of Yin Yang tantra. The combination of Yin and Yang potentials and energies within leads to all sorts of aspects of development. This can be energetically understood in the idea that there are only two types of energies, straight and circular, straight for Yang potentials and circular for Yin potentials. It can be understood on a tangible level that rest and work are both required. When straight and circular energies combine, a spiral results. A spiral is one of, if not the highest expressions of energy. \r\n",
      "More broadly and generally, tantra notes a mutually accepted connection, a tied knot of intertwined being, like lovemaking, but not necessarily beginning with or limited to the act of lovemaking. Humanity itself is a tantra; a fused weaving knot or many strings, of many instructions and many individuals. - Advertisement - \r\n",
      "Essentially tantra is spiritual understanding of the relationship and connections between individuation and universal energies. An ancient spiritual philosophy preceding both Buddhism and Hinduism, tantra represents integration, unifying the macrocosm with the microcosm, the universal and the individual, the feminine and the masculine, the Yin and the Yang. It also refers to integrative knowledge and its continuation and building refinement through the interaction of teacher and student, signifying union and fusion; the acceptance, integration and transmutation of knowledge between individuals, like the string of life. \r\n",
      "Tantric ideas enhance and explore metaphysical merging of ideas and energies. Tantra is the merging of the physical and spiritual, through the merging of the conceptual. In essence, Tantra is the integration of yantra (the philosophy of visual symbols), mantra (communication of audio symbolism) and mudra (our very physical posturing) each of which is important on their own and increasing so when intertwined aspects of yoga, and life. Tantra unites meditation practices and enhances the individual unity expansion with entirety of the universal. \r\n",
      "There is not necessarily the need for a specific yantra, or specific mantra, or specific asana in meditation, however each are tools that can be used and considered, and most are most powerful when practiced in unified tantric manner, or tantric mind state. A tantric mind state recognizes unity expansion and aims toward it, rather than cultivating a mind state of separation. \r\n",
      "No matter how one approaches meditation the unifying tantra of our meditation principles and practices bring about the unity expansion of yantra no matter. No matter our level of refinement of posture, we are always in an asana, no matter if we utilize mantra, or yantra, we for th most part still see and hear and those who cannot can still concentrate and connect. And no matter the mantra, yantra or asana, it is the principles behind and pertaining to the symbolism that contains the real power, the highest potential for tantric connection. Yantras, mantras and asanas establish your sacred space and sacred perimeter and uniting with entirety in tantric balance. \r\n",
      "Seed of Buddha Meditation - Advertisement - \r\n",
      "One of my favorite meditations relates to the four dimensions of geometry, but is extracted from Buddhist lessons. It is one of the most powerful meditations I have learned and as I learned it, Buddha himself practiced and taught this meditation. I learned this meditation from a Tibetan Buddhist monk from Nepal before I considered the four dimensions of geometry applied to meditation. On later examination however the components of the meditation relate to the four dimensions of geometry. \r\n",
      "This meditation is direct and simple, but can lead to infinitely complex profound lessons. The profundity of each of the ideas in this meditation cannot be understated. And each of the concepts has been elaborated on endlessly for centuries since Buddha, and so the presentation here is of course a simplification of the ideas and processes that might be endlessly explored and refined. And that is what meditation is all about really, our own personal inward exploration and refinement. \r\n",
      "To begin, sit in a comfortable cross legged position on a meditation pillow. Sit for a time to simply settle into absorption and relaxation, focusing on the breath. The rhythm of the following meditation consists of mindfulness of an idea followed by mindfulness of no idea, where as much as possible we think on nothingness. The nothingness gives us a chance to relax, compared to processing the series of ideas which can all be quite intense. The process can be done in any time period. The point is to cover each idea as deeply as can be, given time or mental state circumstances. \r\n",
      "The meditation is formed from important Buddhist concepts. Many meditations are derived from such teachings, Buddhist and otherwise, so that there are lessons in a sense for the secular, and meditation practitioners. \n",
      "------\n",
      "\n",
      "Hidden in plain sight – The global depopulation agenda \n",
      "\n",
      " October 26, 2016 “Maintain humanity under 500,000,000 in perpetual balance with nature.” ~ Georgia Guidestones \r\n",
      "This is one of the first of ten commandments blazoned across the Georgia Guidestones, an occult monument for which no person or organization has taken credit. Though the monument was commissioned by someone named R.C. Christian more than two decades ago, the true identity of the person who built this specter is still unidentified, and the message is but one of the many examples of a cabalistic desire to cull the population. \r\n",
      "There are many more ‘hidden’ in plain sight. \r\n",
      "The Georgie Guidestones state : 1. Maintain humanity under 500,000,000 in perpetual balance with nature. 2. Guide reproduction wisely – improving fitness and diversity. 3. Unite humanity with a living new language. 4. Rule passion – faith – tradition – and all things with tempered reason. 5. Protect people and nations with fair laws and just courts. 6. Let all nations rule internally resolving external disputes in a world court. 7. Avoid petty laws and useless officials. 8. Balance personal rights with social duties. 9. Prize truth – beauty – love – seeking harmony with the infinite. 10.Be not a cancer on the earth – Leave room for nature – Leave room for nature. \r\n",
      "Though some of these commandments seem harmless enough, the very first describes the supreme sentiment of the mysterious group of masons who erected the stones. If you want further narrative for what they bode, you don’t have to look far. As Stanford University Professor, Paul Ehrlich , the author of The Population Bomb states , “The first task is population control at home. How do we go about it? Many of my colleagues feel that some sort of compulsory birth regulation would be necessary to achieve such control. One plan often mentioned involves the addition of temporary sterilants to water supplies or staple food. Doses of the antidote would be carefully rationed by the government to produce the desired population size.” \r\n",
      "We can see clearly that the ‘elite’ class, intent on ridding the planet of its burdensome load, has already poisoned the water of 42 out of 50 states with lead . Pesticides and fertilizers poison the remaining states’ water along with the original 42 states. Male infertility is rising due to these contaminants, and premature births along with miscarriage are more common due to others. If the water doesn’t kill you, it will simply lobotomize you, or at least start the process. Harvard medical has pronounced that fluoridated water lowered IQ scores in children who drank it, and aluminum along with fluoride is a known neurotoxin, also contributing to the rising numbers of Alzheimer’s, Parkinsons, and similar neurodegenerative diseases. READ: 11 Common Symptoms of the Global Depopulation Slow Kill \r\n",
      "Should poisoning the water be insufficient to keep the population down, we can look to the advice of David Brower, once Executive Director of the Sierra Club and founder of the Friends of the Earth. He suggests that, “Childbearing [should be] a punishable crime against society, unless the parents hold a government license … All potential parents [should be] required to use contraceptive chemicals, the government issuing antidotes to citizens chosen for childbearing.” \r\n",
      "Forced and coerced sterilization at the hands of the Eugenics Board and other bodies is nothing new. Some investigators recently found that 148 female inmates in two California prisons were sterilized between 2006 to 2010 — and there may be 100 more incidents dating back to the late 1990s. One reporter wrote , “ The women were signed up for the surgery while they were pregnant and housed at either the California Institution for Women in Corona or Valley State Prison for Women in Chowchilla, which is now a men’s prison. \r\n",
      "Former inmates and prisoner advocates maintain that prison medical staff coerced the women, targeting those deemed likely to return to prison in the future. \r\n",
      "Crystal Nguyen, a former Valley State Prison inmate who worked in the prison’s infirmary during 2007, said she often overheard medical staff asking inmates who had served multiple prison terms to agree to be sterilized. \r\n",
      "“I was like, ‘Oh my God, that’s not right,’” Nguyen, 28, said. “ Do they think they’re animals, and they don’t want them to breed anymore? ” \r\n",
      "Today vaccines are used in a similar manner to help cull the population against their informed consent. Eugenicist, Bill Gates tried to ‘ field test ’ his HPV vaccine in India on indigenous young girls, but the Indian government eventually brought a stop to this. The Rockefeller family also quietly funds vaccines that alter a woman’s hormones to make her less likely to become pregnant or to maintain a pregnancy. A book titled Disciplining Reproduction by Adele E. Clark explains what the elites were planning as early as the 1930s. “ Other lines of current immunological contraceptive research continue to seek what, during the 1930s, Max Mason of the Rockefeller Foundation called “anti-hormones”: vaccines to block hormones needed for very early pregnancy and a vaccine to block the hormone needed for the surface of the egg to function properly .” \r\n",
      "Barack Obama’s top science advisor , John P. Holdren has also said : “ A program of sterilizing women after their second or third child, despite the relatively greater difficulty of the operation than vasectomy, might be easier to implement than trying to sterilize men . The development of a long-term sterilizing capsule that could be implanted under the skin and removed when pregnancy is desired opens additional possibilities for coercive fertility control. The capsule could be implanted at puberty and might be removable, with official permission, for a limited number of births.” \r\n",
      "A simple look at the peer-reviewed Plos One site offers over 7,500 additional scientific articles that connect vaccines to sterilization. \r\n",
      "Should vaccines or forced implants be insufficient to reduce the number of ‘useless eaters’ in the world, as Henry Kissinger has implied, then there is also the revealing text of Dr. John Colemann, who outlines the aims of a Committee of 300, otherwise known as the original hierarchical organization to plan a New World Order . Among their plans are genocide, war, the installation of dictators, the legalization of drug use, and the normalizing of pornography : “To bring about depopulation of large cities according to the trial run carried out by the Pol Pot regime in Cambodia. It is interesting to note that Pol Pot’s genocidal plans were drawn up in the US by one of the Club of Rome’s research foundations, and overseen by Thomas Enders, a high-ranking State Department official. It is also interesting that the committee is currently seeking to reinstate the Pol Pot butchers in Cambodia. “….To cause by means of limited wars in the advanced countries, by means of starvation and diseases in the Third World countries, the death of three billion people by the year 2050, people they call ‘useless eaters.’ The Committee of 300 (Illuminati) commissioned Cyrus Vance to write a paper on this subject of how to bring about such genocide. The paper was produced under the title “Global 2000 Report” and was accepted and approved for action by former President James Earl Carter, and Edwin Muskie, then Secretary of State, for and on behalf of the US Government. Under the terms of the Global 2000 Report, the population of the US is to be reduced by 100 million by the year of 2050. “……To encourage, and eventually legalize the use of drugs and make pornography an ‘art-form,’ which will be widely accepted and, eventually, become quite commonplace.” \r\n",
      "Look no further than Syria , Iraq, Afghanistan, Turkey, and a myriad other examples of false flag terrorism . Look no further than the top twenty pharmaceutical companies (all U.S., Illuminati based ) that control almost 99 percent of the world’s massive, ‘legalized’ drug trade. See clearly, the genocide happening around the globe , and the child sex trafficking and pornography which is silently abided in Hollywood, Washington, and in every government circle run by cabal-funded individuals. \r\n",
      "Look at the money usurped for the task of culling the masses, as former U.S. Secretary of State and presidential nominee, Hillary Clinton has stated : “This year, the United States renewed funding of reproductive healthcare through the United Nations Population Fund, and more funding is on the way. The U.S. Congress recently appropriated more than $648 million in foreign assistance to family planning and reproductive health programs worldwide . That’s the largest allocation in more than a decade – since we last had a Democratic president, I might add.” \r\n",
      "Furthermore, weather modification, or geoengineering , also known as chemtrails , additionally help the slow kill , or fast degeneration of the human species. NASA has admitted to using these weather altering programs, so there is no sense denying their presence. Aside from spraying lithium, strontium , barium, nano aluminum-coated fiberglass [known as CHAFF], radioactive thorium, cadmium, chromium, nickel, desiccated blood, mold spores, yellow fungus, and more, these chemical concoctions act as a global pandemic to further population control. \r\n",
      "Without mention of contaminated food, DARPA contrived control devices, and further attempts to make slaves of the remaining sheeple who live through these demonic efforts, know this; you are swimming in the depopulation agenda. The effects are all around you, and it is high time to put up some kind of resistance. Via Waking Times Image: sagesolar/Flickr Nathaniel Mauka is a researcher of the dark side of government and exopolitics, and a staff writer for Waking Times . \n",
      "------\n",
      "\n",
      "11 Things To Let Go Of Before The New Year \n",
      "\n",
      " in: Special Interests , US News The new year is almost here and it’s often a time when we all start to think about what we want to change for the next year. I’ve never been much a fan of the whole cliche of changing because of the new year, but why not embrace it as a time where we can make change? Do a quick reflection right now. Do you feel like you have followed your dreams and passions this past year? Do you feel you got caught up in the stresses of life quite often? Did you feel judgement, negative self talk and anger were a big part of your days? Reflecting on how you’ve felt over your year and being honest with yourself about it gives you the chance to know how to adjust and move forward from this moment forward whether it be the new year or not. I’ve found in my own life that if I don’t pay attention to how I feel, what I create, what’s playing out in my life and take responsibility for it, it doesn’t change. It stays the same, I experience the same emotions or stagnant feelings, and I don’t move forward. But the moment I decide to take it into my own hands, I see how much I’m not a victim to what happens. 11 Things To Let Go of Before the New year 1. Stop all the negative self talk – It’s first because it’s probably one of the most important. The more we talk poorly about ourselves to ourselves or others, the more we disempower ourselves and empower all the things we wish to adjust about ourselves. Observe it, take note of it, and kick it. It’s not helping you. 2. Choose one bad eating habit and kick it! – Taking care of and fuelling your vessel is one of the most important things we can do in life to stay mentally, emotionally and spiritually healthy. Pick one of your worst eating habits and aim to cut it out completely in 3 months. Whatever it might be, be honest with yourself and make it happen. Then take on the next bad eating habit in 3 months. 3. Let go of chasing ‘success’ – So often we put up goals or plans for ourselves yet have this tiny limited scope of what success is. Next thing you know we bring stress, worry and fear into the equation throughout the whole journey because we may not be totally in line to hit this pin prick point of what success looks like to us. Instead, do your best to take the steps needed to get to where you want to go, but let go of the lure of success and what it looks like and means. There’s no such thing as failure. (more) 4. Kick the idea that you cannot achieve or follow your dreams – So often we have our ideas of what we are excited or passionate about, but let it go because we think we can’t do it or because it’s unrealistic. Instead of believing every word of that, take ONE step. One step towards making your passion or your dreams happen. The one step will lead to the next and the next, but you have to take the first one. Plan out that first step and take it! 5. Let go of the idea that you should run from your problems – We often get into this mentality that we just need to “get over it.” In theory this sounds sorta good, you move on from things that happen in the past or something to that effect. But by just forgetting about it, did we really move on? No, it gets triggered again later or lies dormant as a resented event etc. Instead, let’s face our problems and truly move past them. Journal about it, talk to someone else about it. Put the cards on the table to someone who cares about you and who can help you move past it. Pick someone who will see the bigger picture and be honest with you. You have all it takes to move past what challenges you. 6. Stop comparing yourself to others – This is a big one. So often we are looking at others and using what they have, do or are to compare it against us and make up a story. This whole game can make us sad or feel down about ourselves or it can feed our ego in a big way. Let it go, respect everyone’s journey, including your own and stop the need to compare yourself to others. 7. Stop judging others – Judging other people can become a habit and an addiction. It’s like something we can’t stop doing sometimes! Take a moment the next time you judge someone and observe it. Ask yourself why you did it, how did it make you feel? Etc. Make a conscious effort to stop. (more) 8. Stop the blame game – Blaming and pointing fingers when it comes to our challenges or what happens to us doesn’t allow us to look at and observe how we might have created or aligned with an experience to help make it happen. I’m not saying there’s no such things others can do to hurt you, I’m simply saying take responsibility for how you feel and don’t even point blame, it doesn’t help us. 9. Stop worrying and trying so hard to fit in and be accepted – This is something far too many of us do just to save face and not be “the weird one.” The reality is, it’s more ‘weird’ to be a version of yourself that isn’t genuine or real simply because you want to be accepted by others. It’s a choice you can’t maintain forever and the longer it goes the more uncomfortable you will feel. Be you, accept yourself, be genuine and don’t try to make others do the same when. Let it happen. Trust. 10. Let go of the need to control everything – Sometimes we can’t take a step forward in anything because we don’t know all the answers or all the variables. This is our obsession with control sometimes. Yes, observe a situation and make the best choices available to you, but don’t worry so much about needing to control or know every detail about it. Learn to leave things up to trust and knowing that things will work out as they need to. This doesn’t mean be reckless, just that you don’t need to control every thing, person and detail. 11. Stop procrastinating – This one goes with everything on the list. Stop putting it all off. Whatever it may be. The changes listed above, the hobby you want to, the career you want to explore, or the thing you want to tell to someone important to you. Stop putting it off and just do it! Submit your review \n",
      "------\n",
      "\n",
      "When They Switch the Chip On You Won’t Know Who You Are Anymore \n",
      "\n",
      " Home | Sci/Tech | When They Switch the Chip On You Won’t Know Who You Are Anymore When They Switch the Chip On You Won’t Know Who You Are Anymore By Dr. Kane Targonen 15/11/2016 18:20:20 \r\n",
      "LOS ALAMOS – USA – The immersive qualities of Virtual Reality are only just being rolled out right now, but in a few years every household will have multiple head sets, eventually progressing to mind chips. \r\n",
      "\r\n",
      "People who have these VR sets are already completely addicted to the sensation of total immersion within another world, and this is the clincher, soon they will not be able to live without their VR headsets. \r\n",
      "The natural progression from an external device, like a pair of goggles is to have a chip implanted into the brain directly which will link up with the synapses and billions of dendrites. These chips are already in use for the severely disabled, however their development is accelerating daily. \r\n",
      "Mapping out every channel and synapse in the human brain is a feat in itself, and they have already mapped out the brains of rodents and smaller creatures. \r\n",
      "“We can upload any scenario directly into your brain, you will feel as if you are there, you will see, smell, and feel every nuance the programmers introduce into the world, you will taste food, you will feel the wind on your cheek, every sensation you feel in the real world can be replicated in the brain directly through the zones activated by the neural implants. \r\n",
      "“This technology will be sold through the premise of perfect memory and data recall. Imagine going to a dinner party and knowing who the head honchos are to schmooze with immediate data downloaded into your brain, imagine being able to speak in any language at the drop of a hat, or recall any text ever written by man at the blink of an eye,” a scientist on the project revealed. \r\n",
      "The next step will no doubt be a jump from the intrusive machinery strapped on to our bodies to the discreet internal implants, and of course with every leap forwards there is always a leap backwards in freedom. You will essentially allow an external force into your own mind. \r\n",
      "Behaviour modification \r\n",
      "“We have apps now for everything, and in the future, you want to fly that Huey, just download the app in thirty seconds and you will be an expert pilot. Yes, it sounds very Matrix, but consider the fact that every six months, the power of computers doubles. We are getting very close now to a point of no return, and the processing power in chips is getting more powerful, yet shrinking in size. We will be able to alter every facet of someone’s behaviour. After the chipping process, you will not be recognisable. \r\n",
      "“This is not one way traffic, and advertisers will be able to beam adverts directly into your brain. If you do not comply with whichever regime or government is in charge, they can not only shut you down, but implant nightmares into your own brain to torture you for your crimes. We can see prisoners in jail, who will be put into states of mind torture lasting thousands of years , this is accomplished by speeding their mind clock to the desired level. Prisoners could therefore spend thousands of years breaking rocks with no end in sight, all in their own minds,” the scientist added. \r\n",
      "Once they’re in your head, that’s it. \r\n",
      "The future will certainly be an interesting place but with the introduction of artificial intelligent systems, sentient machinery and brainchipping, there may be no place for humans to go other than the augmented fashion. Employers will require their staff to be chipped, and all transactions will require biometric approval. Therefore, if you wish to be employed, and eat, you need the chip. Share on : \n",
      "------\n",
      "\n",
      "Universal Child Season 1 Episode 24 Hosted by Joanna L Ross KCOR Digital Radio Network [VIDEO] \n",
      "\n",
      " Posted by Madeline | Oct 30, 2016 | 2016 , Daily Blog | 0 | Published on Oct 29, 2016 Universal Child Hosted by Joanna L Ross KCOR Digital Radio Network Season 1 Episode 24 \r\n",
      "I hope you enjoy the show and please tune in every Saturday morning at 10:00 PST that’s 1:00pm EST http://kcorradio.com \r\n",
      "Joanna L. Ross from Universal Unity and I have some amazing BIG news and I wanted to share it with you first! \r\n",
      "http://universalunity.ca/private-sess… ~ Universal Energy Initiations & Healing Sessions \r\n",
      "We are heading to SEDONA! 11/11 GATEWAY First Contact Symposium ~ SEDONA The 11/11 gateway we will be in Sedona, Arizona for a special 2 event Universal Gathering. The first USA ‘First Contact Symposium’ and how fitting we kick it all off in Sedona. http://universalunity.ca/sedona \r\n",
      "November 11th ~ Friday evening, we will do a meditation & discussion aligning us for November 12th, Saturday as we hop on board for a 4.5 hour discussion, channel, and gathering of like-souled family members as we dive into; lightship experiences, preparing for future conscious contact, enhancing communication with spirit and our teams, ascension for humanity and Gaia, and we will even have our usual ‘after event lightship gazing in the desert’ This proves to be a ‘can’t miss’ event as we have tried a venture there before and timing was not right, but this event literally took a day to book & get confirmation, so the Universe is truly aligned for us on this one. I sensed a huge jubilation from my team, so we are so excited to bring our passion, energy, and wisdom for a personal healing, personal engagement and entanglement for a Sedona Special ‘First Contact’ Event. \r\n",
      "Be sure to get your tickets soon, as there is a limited number available. This event will be held in the highly sought after, and well known ‘Sedona Creative Life Center’ and has been such a pleasure dealing with them. Our event and information will also be advertised through their center to all of their clients and visitors, and it will be up on the ‘calendar of events’ so be sure to get your seat while it lasts. This will be the first event of this kind as we combine spirit, ET’s and Celestial family energy, ascension, Arch Angel energy in one event. Sedona Creative Life Centre http://www.sedonacreativelife.com * There is ample information on the Sedona Creative Life Centre website for travel, shuttle, and more information, as they really make these events much easier to put on. Book your travel arrangements early to avoid disappointment as this fall of 2016 proves to be one that shifts humanity in a whole new way, and we will be immersing ourselves in it during the 11/11 gateway. I will also have my two books available and even do a few minutes of book signing. So FUN! \r\n",
      "Here is our link to have a look at the fun! We have options for purchase; Friday, Saturday, or both days as a package rate. \r\n",
      "http://universalunity.ca/sedona \r\n",
      "I am feeling so blessed, grateful, and truly aligned with my highest and best, as this event seemed so fluid and fun to put together. I know that there are a myriad of beings on every level helping us make this happen ~ I am truly grateful to share and inspire in this energy for a heightened and expanded human experience upon our shifting Gaia. Share: \n",
      "------\n",
      "\n",
      "Hillary’s concession email in full \n",
      "\n",
      " TO: megababe@REDACTED \r\n",
      "Yo Babes \r\n",
      "How is you? my hed is bangin like an essex girl on her birthdy. i woke up this mornin in Times Sq, i stinnk minging and i carnt rememmber waht i was doin larst nite after 8 o;clock but my prorrittes were still ok whatever becos I still had harf a bottel of vocka in my hand when i wokeup!!! :} i was toetly toetled last nite. i mustve snogged about 20 blokes but none of em was bill. or brack, shame!!!. dunno where he is todday, he was with me all the way but he is nowere to be seen now dunno y. \r\n",
      "i dont spose u no if i won, do ya? i no i was on coarse for victry when i blakked out. fuck me am i glad iss all over tho. anyway i dont care if i won or lost, i am defnately off to Marbs for a fortnite after all that. ive been all over Merica and i am nakkered. now i no y they call it a campain becos my feet is killin my ass. you try going up and down all them stayges in them heles. i am gettin a bunyan the size of detroyt. and believe me, detroyt looks like a bunyan. its such a shithold it reminds me of baseldon town center after dark. but i was a trooper, i bin to all 51 staytes, i spose thats waht they mean by a state trooper. so no wonder i am creme crakkered. \r\n",
      "sunnink wheerd is goin on. noboddy is taking a blind bittof notise of me. i know that evry1 has been on the raz lST night butt this is a bit percular. right now tho i dont givva shit. i need a maccy breakfasst an a crispy creem. get a bit of grease in me to fight this hanggover lol. \r\n",
      "just saw a screne on the wall. looks like i lost. fukkit. but i neveer like a mericans. they is all fatt. cept for brack, and dont tell no 1 but i heard a rumer that he aint even merican, he is from awiyi. wotta skam. \r\n",
      "i hope i can drop in on u b4 me holliday. rmeember u will always b my runnin mate and i do need to get fitt after all this so we cud do boot camp if u like? i better b off b4 i get dun for vagrency hahahahah lol. \r\n",
      "xxxOOOxxx #Hills4marbs2016 sent from my exploding smartphone \n",
      "------\n",
      "\n",
      "Rewriting the Past \n",
      "\n",
      " Lee Carroll \r\n",
      "Kryon – Greetings dear ones I’m Kryon of magnetic service. \r\n",
      "This morning. We ask you to feel the wind of truth. It’s a metaphor; when you feel the wind blows often in a gentle way that’s refreshing and that’s the way the truth is of this shift. You’re looking at new energies that you have never had before presented to you in different ways. Years ago we spoke of the recalibration energy. You have passed through that and now comes the work. \r\n",
      "So many of you have asked this very day. What’s next, what should I do? What’s possible? Because this is new dear ones, the manual for what’s next hasn’t been written, but there are things we can ask you to do that are so able to be done and it has to be done by old souls. \r\n",
      "Now this is an overview, it’s a generality that I’m giving you. It’s not a specific. So let’s talk about the specifics first, which is backwards. You ask what you’re gonna do next. What are we supposed to do? What is that which is in the plan for you and almost all of you we say to you, you are unique. So it may be different for each of you, but there is one thing that we’re going to start asking for and you are going to hear it more and more. Old soul, in this new energy things are going to come to you. Watch for the synchronicity. Don’t pass it up. \r\n",
      "When you hear ideas, when you meet people, when somebody says let’s go over here and do something and you’ve never done it before, that is synchronicity. And the second thing we would say to you is that in the synchronicity that you will meet, see it for what it is, because that’s what you should do. What brought you here to this room for those of you sitting here, what’s the synchronicity? \r\n",
      "Not all of you said oh yes I’m going to go to this meeting. Let’s buy a ticket now. In fact, there’s a lot of you that did not happen at all. And here you sit to hear these messages of hope and truth. Can you feel the wind blowing? Things are changing, dear ones; and the second large thing we ask of you individually is to be patient. \r\n",
      "Human beings, when they start feeling the energies and realize the ah ha of truth are so excited and they want to act now. It’s almost like you’re going to run out of time and you’re not. Be patient; let the things develop as they come to you. You’ll know what to do with them. We told you over and over. \r\n",
      "It’s time to start practicing mastery, to treat others differently, all, all of these things. That’s what you’re here for. We said before, those of you who are sitting around expecting a plan, what am I supposed to do? “ and we said before, what if you’re already doing it? \r\n",
      "What if your very existence anchors energy for those around you? What if you’re playing a part you don’t even know you’re playing simply by being you around others who are watching you? What if that’s why you’re here? You realize the importance of that, of who you’re touching your changing. so it’s not like you think; it’s not a linear, “What am I to do?” \r\n",
      "And yet, I’m going to ask you for something now, all of you. All of those listening to my voice. All of those in the room. There really is something you can do. My partner touched on an energy. You might call it a scenario that is going on right now on this planet. \r\n",
      "The very thing I’m going to discuss is something that is holding you back from the evolution that we speak of, from the wildcards that are coming, for the inventions we told you you need – things that are being developed and are ready right now are being held up by what I’m going to tell you. \r\n",
      "It’s very real, what my partner was telling you that most of this planet is still in an ” expectation of doom” mode. \r\n",
      "Most wherever you go, there is this feeling of what you have called, waiting for the other shoe to drop. You’re overdue for doom. You’re overdue for the world war that was given to you as prediction after prediction after prediction. \r\n",
      "It is so odd; everything around you says it’s changed, everything. If you will take a look at the wars that you had, the last world war and the one before. Take a look at who the players were; now take a look at what they’re doing. They drop their borders. They are trading with one another. \r\n",
      "The scenario for the next war is not there, yet you expect it. Take a look at all that is around you. It is not then yelling at you ” You’re going to have a war.” There’s so much more. It’s giving you the evidence that’s not what’s going to happen at all. And why is it that you feel like it’s coming. Now, those listening to my voice, old souls; those in the room, old souls. You are awakening to a grander truth for the planet, a truth that doesn’t just belong to a niche amount of believers. It’s for the whole planet. Therefore, I’m telling you something that involves the whole planet. But the old souls are the graduates. You have most of the experience; you have profound consciousness that can change energy. \r\n",
      "The world is expecting doom. The books that have been written about the fractals tell you about the ripples of time that repeat themselves, that yell to you that there’s going to be problems, there’s going to be war; that yell to you your economy is going to collapse at any moment. \r\n",
      "There are seeds of truth in the ripples. Let me tell you something, perhaps you’ve figured out or not. The ripples of an old energy are dangerous to you dangerous because if enough human beings buy into the old energy, it’s going to slow things down and some of them will occur. \r\n",
      "Now you know what I would ask you to do. I want you to start spreading the word to everybody you know who would ask you, who would mention it in idle passing or not. Shape your words, for a good future. Don’t buy into this. Don’t be persuaded that something awful has to occur. \r\n",
      "Dear ones, the prophecies have come and gone. You are in the clear. \r\n",
      "But the ripples are still there of the old energy. \r\n",
      "When you hear those speak of it. You can tell them this. \r\n",
      "Well, it didn’t happen. We got a good future ahead. \r\n",
      "They will start giving you chapter and verse of the old energy. They’ll tell you what has happened and therefore and therefore. They’ll pull the politics of the day into it, they’ll say and therefore and therefore. And you don’t have to convince them. All you have to do is show them you don’t agree. In a loving way, you can say, ” yeah, I don’t think so. I feel something good is coming.” \r\n",
      "Old souls carry weight. You carry with your family, with your children, with your friends, with your colleagues. And the weight you carry is because of who you are and who they see in you. Are you a person who is slow to anger, who is quick to love? Are you a person who is not showing their age as much? Are you a person who has more energy than you should for your age? Are you a person that they will look at and they will say I don’t know what you got but I like it. They’re gonna listen to you, old soul. \r\n",
      "Anyone who listens to my voice. I’m going to call it a name. I want you to rewrite the past. The old ripples of time that say that you are overdue for something was written in an old energy; you are rewriting that energy. You have seen the prophecies of an older time drop away. The Mayan calendar told you that old history and time was over. The new calendar that has been put up by the Maya says that history is going to go into a place nobody expected, that a new long count is here and that human consciousness can go into an evolved state higher than it’s ever been. Where is that realization? I will tell you, it’s only with the wise ones. And that’s you. You come to a meeting like this to get excited because you hear the facts, you see the physics, you hear the predictions, and you walk out the door and you know, absolutely know that things are different and the shift is here and there’s a chance that humanity will pull out of this faster than you know. \r\n",
      "That’s the first thing we ask you to do, but the second thing? Well, it may be backwards, dear ones. I do that a lot. Even the logic is in a circle. One thing leads to another. One thing builds on another. There are those listening to my voice that still don’t believe it. How are you going to live in a way that’s going to tell others to expect good things are coming; how are you going to rewrite this past if you haven’t really cognized it; if you don’t believe it? You say, well Kryon, that should have been the first thing. No, I wanted to give you the most profound thing first. \r\n",
      "You’re gonna have to change the past; \r\n",
      "you’re going to have to avoid the ripple \r\n",
      "and that can only be done by high consciousness groups of individuals \r\n",
      "who arespreading the word in their own way \r\n",
      "of a bright future for this planet, \r\n",
      "a better consciousness. \r\n",
      "You have to cognize it. You are going to have to believe it for yourself. You’re gonna have to know it’s different. It’s got to be your truth. So strong does it have to be that it competes with your belief system of whether gravity is real and not, whether when you drop something it’ll fall on the floor or not. That’s how cognizing works. It has to be part of your cellular structure. That’s why I’m here. I’m here, to carry humanity into a brighter future and to void out those ripples, those old energy things that we have felt coming and are still here. The earth is still expecting to terminate. \r\n",
      "“Kryon, what do we do about that?” \r\n",
      "Well if you just wait, it’ll go away. But that’s not what you want is it? Generation after generation will eventually clear the ripples– you are already starting to see it with the indigos. They’re not buying into an old energy system. One of those things they’re not buying into is the ripples. Are you going to wait for another generation and another and perhaps another before you can move forward? Or are you gonna start getting active? \r\n",
      "“Kryon, I don’t really understand. What am I supposed to do, shout it from the rooftop?” \r\n",
      "I’ll tell you what you are supposed to do. You watch because suddenly in your life you will have synchronicity to open your mouth. It will come from various sources and you remember this moment and you’ll smile because you say, “here it is.” Somebody will say to you, “do you believe this election? Do you believe what’s going on here; do you believe how bad all of this energy is?” What do you say normally? ” yeah it’s bad; I see it.” Or do you say, “I recognize it and you know what? \r\n",
      "The next one is going to be different. Things are changing. It’s going to get better. You just wait.” You say that, dear one; how many people will take that and repeat it? You see what you’ve done? At every single time you get the synchronicity to state a bright future, how many times have people complained to you or saw that you were a listener– and you are– and they come to you and they say, ” things are not going well”, what do you say? \r\n",
      "What should come out of your mouth immediately, “That’s today; just wait for tomorrow. And if you will do this, and if you will believe this and if you will then find the God inside, perhaps you’ll find the joy to understand that humanity is headed for a bright future. You can go faster if you do that. You gotta believe it. Believe it, before it can be passed on. \r\n",
      "This is the first time I have broached this, that now your job gets harder. You called yourself a light worker; turn on the light. You’re going to find moment after moment after moment presented to you [wherein] you didn’t even recognize what you are saying or doing. \r\n",
      "Or you can turn it around in a benevolent way– and not argumentative– and you can say yes I see the election isn’t that interesting. It’s going to be something different next time. Then after that even next time. You can say is that interesting to watch and see the old energy we never saw before. \r\n",
      "And now we can start cleaning up. People will walk away saying either. That’s a wise old cheerful person, even if you’re young, or they’ll say that’s a Pollyanna and they walk away and do whatever they wish. It doesn’t matter what they do with that, dear ones, what you do with it. Can you turn things around so that you are a positive speaker? A positive speaker. \r\n",
      "Number three, the final. We will use three because this is the catalyst. This is going to be the catalyst. If enough old souls are doing this regularly, it’s going to be obvious to many. What’s going on with them? They are not echoing anymore the drama that’s here. They’re not agreeing anymore that the old energy is here. Instead, all they are seeing is light. \r\n",
      "The third thing. How do I tell you this. You’ve heard it before. This won’t be work [unless] you fall in love with yourself. This won’t be work if you [don’t] fall in love yourself. If you’re with a cheerful person, it’s contagious isn’t it? If you are with a person who is joy and laughter, it’s contagious isn’t it? Who are you? \r\n",
      "Now you going to see I just went backwards on everything. Should’ve been the first thing I said; fall in love with yourself, cognize it’s real and spread the word. . . . \r\n",
      "I want you to think about the circle of time you’re in and the fact that that’s why it is the way it is. The circle of time has created the belief that people have that doom is coming. The new energy that was predicted all over the planet is here and yet the old energy circle still exists in the psyche of those who’ve experienced it all their life. \r\n",
      "Enter the old soul. With joy, with love; with the countenance that is a smiling countenance. Not a depressed one. Are you listening? Some of you need to hear this. You are so concerned with the earth, and what’s happening that you walk around depressed. May I just tell you. Your depression is not helping anyone, even you. You could be as concerned as you want to; you can frown all day long and you haven’t helped a soul. So, are you listening? God is joyful and the things that you worry about will be faster settled if you’ll spread the word of joy. That is all we’re asking. Change your countenance. \r\n",
      "Watch for the synchronicities and at every single point if you can give a positive outcome, not an agreed on negative one. Oh, it’s easy to listen to somebody complain and say yeah that’s what it is and then you move on. How many times you do that? You might think was none of my business. \r\n",
      "I don’t want to start an argument. You’re not dear ones, when you just state the obvious. My truth is that we’re climbing out of this. It may not look like it. Don’t watch the news anymore’ you can tell them, because all you’re going to see his ugly stuff and it is going to lay on you and hurt your heart. \r\n",
      "Turn it off and create the reality that this earth needs. It’s getting better, not worse. There are those who will turn away and not believe you, and then there are those who start understanding what you’re saying. They may even come and listen to the facts that were presented, even this day that you won’t necessarily see on the news that this planet is going through a recalibration and starting to correct things that need correcting, and slowly the integrity of humanity is one that no longer wants war. \r\n",
      "I want you to analyze how many countries are there on the planet and how many are actually fighting with everybody else. It’s a fraction of what it was 50 years ago, a fraction. There’s really only about three or four holdouts today that have dictators who would willingly invade another country. That’s old energy. Dear ones, that is not what’s going to happen. \r\n",
      "Take a look at the reaction of the countries to this. Take a look at what what humanity in general is after and trying to do. Putting things together, not tearing them apart. Not circling the wagons and competing for resources anymore; trying to put together, make it work. \r\n",
      "You’ve been doing this long enough now that you can see it’s not the way it used to be. Telling friends. This is what the old souls is about today. It’s not going to be that hard. When you believe it. You walk around with a smile and joyful. People ask what have you got, what you doing? Why are you smiling so much? And you can say because things are getting better. They are getting better in my life because I’ve discovered there’s a shift going on. \r\n",
      "This this isn’t going to void out somebody’s belief system or religion for you to say the future is going to get better. \r\n",
      "The prophecies of the old and they didn’t happen. \r\n",
      "The’re not; that didn’t happen. \r\n",
      "All the timelines that were given to you, \r\n",
      "including the end of time with the Mayans is not what took place. \r\n",
      "Instead, things are starting to improve. – kryon \r\n",
      "That’s the message. You see because the the synchronicity will be given to you to comment more than you think. And then my advice is that comment in love in joy, not in opposition. There’s a difference. You can hold them to your bosom as friends as mates and at the same time you can give them beautiful information without making them wrong because you’re giving it in joy, with a smile. I believe things are going to improve. That’s the predictions of the ancients. We passed the corner. It’s tough time right now you’re seeing a lot of opposition to light and I am the light. What a joyful, loving answer, not an opposing proposition, not an opinion, that’s different. It’s just a statement of power. Old soul, you know how to do this; you been there, you’ve done that; you know human nature. \r\n",
      "Fall in love with yourself. Start to change your [countenance] in joy. Cognize the truth that things are happening differently and then cancel this ripple of doom. If you can cancel the ripple, or even make a dent in it. I will tell you the speed of what is going to take place will quicken. \r\n",
      "The fewer people who expect the end will create a far faster evolution of consciousness on this planet. But those ripples of doom that are not going to happen that people still sense and have got to go away or be erased or at least diminished before some of the things that I know are coming will arrive. \r\n",
      "You have a bright future. \r\n",
      "Wait till you see the next wildcard. \r\n",
      "It’s not coming until the planet \r\n",
      "is clear of expecting the end. \r\n",
      "There are some movies being developed that may surprise you because the Indigos are young [old] enough now to be writing the scripts. There will be some of hope; there will be some that are rewriting the past and reminding those in the story of the things that did not happen. \r\n",
      "There’ll be those who are brave enough to paint the future, something they didn’t expect that would be good. Watch for this. It’s just now beginning to happen. Watch for linear literature that changes with writers who are now writing about a kinder, softer future. What is at hand that might work. Watch for exciting stories, even science fiction about a bright future. Watch for stories about meeting benevolent aliens that might actually help the planet and the drama that would ensue around it and those who might not believe them. It’s all part of voiding the ripples of doom and it can advance your evolution by generations. \r\n",
      "Do you accept the task? This is the old soul; I’m hearing it all over the planet. It’s not going to be that hard– if you see the truth, and the light that is there. \r\n",
      "I am Kryon in love with humanity for obvious reasons. I’ll say it again. I have seen this before; you have seen this before. It’s in your akash on another planet. It’s starting to reoccur; starting to come back to you. You are starting to feel better about it, At the same time, you understand, God is inside you. You have help. You are not doing this alone and you’ll see it; you’ll see it. That’s enough for now. And so it is. Kryon channeled by Lee Carroll in St Louis, August 20, 2016 \r\n",
      "SF Source Rosalie Parker Nov. 2016 Share this: \n",
      "------\n",
      "\n",
      "He Caught His Daughter Lying Bare Naked Next To a Stranger \n",
      "\n",
      " posted by Eddie I believe that if we could calculate the strongest emotion of love for people or things, it would be the one for our kids. I cannot imagine what would be my reaction if I caught my 17 years old daughter lying next to a stranger. This Russian dad shared his reaction on Reddit, and what he did will make you love him! A RUSSIAN FATHER SHARED THIS ON REDDIT (english not my native language please be kind): “One morning I came down the stairs, seeing this exact scene my 17 year old with a young man asleep after what must have been a night of ‘hard labour’ I very quietly made breakfast, went back upstairs and told my wife, son and other (youngest) daughter to be very quiet because people where still asleep our dinner table is on the other side of the room, about 20 feet from the couch but right in front of it. We all sat down and I yelled “YOUNG MAN” never ever I’ve seen someone wake up and move from horizontal to vertical that fast “breakfast is ready!” I said with a tone as if I gladly would suck his soul out of his body. Through his left ear I pulled out the chair beside me “sit!” my family silent staring at their plates not even twitching. It must have been the hardest 20 feet for a but naked youngster to cross trying to hide his, I must say, rather impressive morning wood my youngest daughter looking in awe at said piece of wood , as did my wife after he put on his clothes, which lay beside the dinner table, he sat down my son (6.4′) patted him on the shoulder looked him in the eyes, sighed and shook his head by now he was really, really nervous you could almost smell it in my best Russian accent: “my friend, I’m going ask you a question the answer you give is very important….for you…” at this point he was sweating “do you like cats?” He was a very likeable and friendly guy clearly uneducated but not dumb there was something odd about him my daughter assured me he was a very nice and attentive guy she knew him for about a month by then he came by every day since that morning never stayed over at night though every morning he came to pick her up for school on his bicycle, brought her home after, made sure she did her homework looked after her when she was sick and we were at work he took care invested time end effort he had the patience of an angel when she had one of her terrible moods. He said he had no family, no education, no steady job she adores him he adores her who am I to prevent her from learning from her own mistakes. After this had been going on for about 8 months my son came to me he had been asking around about him turns out the guy was homeless his abusive father killed himself his mother, a crack whore took of 3 weeks after that they lived in a rented trailer (yes white trailer trash) he was 15 then and survived for 3 year on the streets sleeping in parks, at the salvation army, with “friends”, cheap ass hotels. working construction jobs now and then when my daughter met him on her riding school, shoveling shit. he’s a good looking guy and, well, you know…17 year old female…raging hormones….now. There I was I knew a young man 18 or 19 years old. who was polite, who comes in smiling who leaves smiling who cares who helps, no need to ask who makes my child happy a kid who had never had a chance to be a kid a mainly absent manic depressive suicidal as a dad a crack whore as a mum sometimes fed by neighbours mostly going hungry. Sometimes when he does not come over because he has a job we miss him they are not buddies but my son gets along with him very well my youngest daughter trusts him unconditionally and my wife’s motherly instinct seems to have expanded and me? I sometimes worry for him I want him to be happy. I told my wife and youngest what I learned about him they cried I had a hard time telling. I was disappointed in my oldest daughter she knew she should have told us she loves him and lets him leave every night to go….were???? (heartless bitch) the next day I gave him a key of our house I told him I expected him home every night home in the next weeks we fixed our spare room and took him shopping for furniture he was quite good in making things he wanted to be his own boss, he liked building things we saw to it that he got an education which enabled him to do just that that was in 2000 now 15 years later my found son and my daughter have thriving business they gave use 3 beautiful grandchildren last year twins 1 girl, 1 boy” True experience of a Russia Father \n",
      "------\n",
      "\n",
      "New bionic eye implant connects directly to brain, allowing blind woman to see shapes & colors \n",
      "\n",
      " We Are Change \r\n",
      "\r\n",
      "Scientists may have made a significant breakthrough in restoring human sight, as a woman who had been blind for seven years has regained the ability to see shapes and colors with a bionic eye implant. The 30-year-old woman had a wireless visual stimulator chip inserted into her brain by University of California, Los Angeles (UCLA) surgeons in the first human test of the product. As a result, she could see colored flashes, lines, and spots when signals were sent to her brain from a computer.\r\n",
      "View image on Twitter The woman, who wished to remain anonymous, suffered no significant adverse side effects in the process, according to a statement.\r\n",
      "The device, which was developed as part of the Orion 1 program by Second Sight, uses technology to restore sight by bypassing the optic nerve to stimulate the brain’s visual cortex, according to chairman Robert Greenberg.\r\n",
      "It is designed for those who cannot benefit from the Argus II retinal system that was unveiled at Manchester Royal Eye Hospital last year, but has limited application, as it depends on the patient having some retinal cells.\r\n",
      "This new system goes one step further by sending signals directly to the brain. It has the potential to restore sight to those who have gone completely blind for virtually any reason, including glaucoma, cancer, diabetic retinopathy, or trauma, according to the manufacturer.\r\n",
      "The next step is to connect the implant to a camera on a pair of glasses, and the company plans to seek FDA approval in 2017 to get the go ahead to conduct these trials.\r\n",
      "UCLA neurosurgeon Nader Pouratian, who implanted the stimulator, said the results of the surgery are promising.\r\n",
      "“Based on these results, stimulation of the visual cortex has the potential to restore useful vision to the blind, which is important for independence and improving quality of life,” he said. \r\n",
      "Follow WE ARE CHANGE on SOCIAL MEDIA SnapChat: LukeWeAreChange \r\n",
      "fbook: https://facebook.com/LukeWeAreChange \r\n",
      "Twitter: https://twitter.com/Lukewearechange I nstagram: http://instagram.com/lukewearechange Sign up become a patron and Show your support for alternative news for Just 1$ a month you can help Grow We are change We use Bitcoin Too ! 12HdLgeeuA87t2JU8m4tbRo247Yj5u2TVP Join and Up Vote Our STEEMIT The post New bionic eye implant connects directly to brain, allowing blind woman to see shapes & colors appeared first on We Are Change .\r\n",
      " \n",
      "------\n",
      "\n"
     ]
    }
   ],
   "source": [
    "# Filter above data frame by topic 2 only:\n",
    "topic_true_df = pd.DataFrame({\"topic\": text_true_topics, \"document\": text_true, \"title\": title_true})\n",
    "topic_true = topic_true_df[topic_true_df.topic == 2]\n",
    "for i in range(10):\n",
    "    print(topic_true['title'].values[i], \"\\n\\n\", topic_true['document'].values[i], \"\\n------\\n\")"
   ]
  },
  {
   "cell_type": "markdown",
   "id": "9dca7049",
   "metadata": {},
   "source": [
    "The true news article [\"Hidden in plain sight – The global depopulation agenda\"](https://themadtruther.com/2016/10/20/hidden-in-plain-sight-the-global-depopulation-agenda/) is a conspiracy theory. The [about page](https://themadtruther.com/about/) of the source website clearly lists the author is interested in UFOs and to \"wake people up\". Their top 5 posts include\n",
    "- Video: Pfizer’s “Secret” Report on the Covid Vaccine. Beyond Manslaughter. The Evidence is Overwhelming.\n",
    "- How Are Hunter Biden, Klaus Schwab & CIA Connected To US Biolabs In Ukraine?"
   ]
  },
  {
   "cell_type": "markdown",
   "id": "12d09a4a",
   "metadata": {},
   "source": [
    "## Exploring article text in fake news"
   ]
  },
  {
   "cell_type": "code",
   "execution_count": 66,
   "id": "c7fc5f1e",
   "metadata": {
    "scrolled": true
   },
   "outputs": [
    {
     "data": {
      "application/vnd.plotly.v1+json": {
       "config": {
        "plotlyServerURL": "https://plot.ly"
       },
       "data": [
        {
         "marker": {
          "color": "#D55E00"
         },
         "orientation": "h",
         "type": "bar",
         "x": [
          0.008312206509934274,
          0.00992459986763153,
          0.010546241220984246,
          0.010591329142062157,
          0.010831201424127704,
          0.01277667903766387,
          0.01573843213190301,
          0.016350511176433425,
          0.01637796806208818,
          0.017884068694406424
         ],
         "xaxis": "x",
         "y": [
          "affordable  ",
          "ryan  ",
          "republicans  ",
          "repeal  ",
          "house  ",
          "bill  ",
          "care  ",
          "obamacare  ",
          "insurance  ",
          "health  "
         ],
         "yaxis": "y"
        },
        {
         "marker": {
          "color": "#0072B2"
         },
         "orientation": "h",
         "type": "bar",
         "x": [
          0.007366572797662554,
          0.007466705750151351,
          0.007774469441037805,
          0.0080341507331628,
          0.009420250180615923,
          0.01247556709156693,
          0.01482555058844686,
          0.01535519833338025,
          0.016709501780755656,
          0.021008929617409463
         ],
         "xaxis": "x2",
         "y": [
          "war  ",
          "russian  ",
          "united  ",
          "weapons  ",
          "chemical  ",
          "russia  ",
          "aleppo  ",
          "assad  ",
          "syrian  ",
          "syria  "
         ],
         "yaxis": "y2"
        },
        {
         "marker": {
          "color": "#CC79A7"
         },
         "orientation": "h",
         "type": "bar",
         "x": [
          0.007277352437196887,
          0.007564576943748065,
          0.007910246755289566,
          0.008381841829175524,
          0.010725478879121824,
          0.011162560940317513,
          0.011268592935068565,
          0.011607258612492094,
          0.012846097687126514,
          0.01935287395836583
         ],
         "xaxis": "x3",
         "y": [
          "investigation  ",
          "information  ",
          "house  ",
          "president  ",
          "rice  ",
          "obama  ",
          "surveillance  ",
          "trump  ",
          "nunes  ",
          "intelligence  "
         ],
         "yaxis": "y3"
        },
        {
         "marker": {
          "color": "#E69F00"
         },
         "orientation": "h",
         "type": "bar",
         "x": [
          0.007231007870429845,
          0.007332390813663709,
          0.007497660114028132,
          0.007857622790958889,
          0.00836341918109665,
          0.00862718878623068,
          0.012658337113597278,
          0.014574820172854618,
          0.018430028621821377,
          0.02394191339190811
         ],
         "xaxis": "x4",
         "y": [
          "was  ",
          "he  ",
          "man  ",
          "said  ",
          "scott  ",
          "shot  ",
          "shooting  ",
          "officer  ",
          "officers  ",
          "police  "
         ],
         "yaxis": "y4"
        },
        {
         "marker": {
          "color": "#56B4E9"
         },
         "orientation": "h",
         "type": "bar",
         "x": [
          0.010466413825953556,
          0.011418638300489274,
          0.012311182440489834,
          0.01280830585970908,
          0.01403062428650321,
          0.014677289912560594,
          0.016704266099735354,
          0.01714818653532438,
          0.023109252072734995,
          0.027552739137022178
         ],
         "xaxis": "x5",
         "y": [
          "yiannopoulos  ",
          "college  ",
          "students  ",
          "event  ",
          "university  ",
          "speech  ",
          "campus  ",
          "uc  ",
          "berkeley  ",
          "milo  "
         ],
         "yaxis": "y5"
        },
        {
         "marker": {
          "color": "#009E73"
         },
         "orientation": "h",
         "type": "bar",
         "x": [
          0.00767783508909361,
          0.007704862662632856,
          0.007722484372842585,
          0.008332956626332329,
          0.009412841171011176,
          0.011686441771722584,
          0.014112807029480296,
          0.01817212650109541,
          0.023633977250478097,
          0.025399724269391077
         ],
         "xaxis": "x6",
         "y": [
          "minister  ",
          "cameron  ",
          "leave  ",
          "london  ",
          "referendum  ",
          "british  ",
          "brexit  ",
          "union  ",
          "european  ",
          "britain  "
         ],
         "yaxis": "y6"
        },
        {
         "marker": {
          "color": "#F0E442"
         },
         "orientation": "h",
         "type": "bar",
         "x": [
          0.00784358396226763,
          0.008830705441279186,
          0.008949713176503022,
          0.00906158054827128,
          0.01026149621682842,
          0.010904218652873941,
          0.01152885998783093,
          0.011759546675594292,
          0.012184674301571202,
          0.012807595522470485
         ],
         "xaxis": "x7",
         "y": [
          "republicans  ",
          "mrs  ",
          "party  ",
          "polls  ",
          "clinton  ",
          "cruz  ",
          "mr  ",
          "republican  ",
          "trump  ",
          "voters  "
         ],
         "yaxis": "y7"
        },
        {
         "marker": {
          "color": "#D55E00"
         },
         "orientation": "h",
         "type": "bar",
         "x": [
          0.008992672425921914,
          0.01009114980885848,
          0.01100941652752412,
          0.012126536322650282,
          0.012699795884655864,
          0.016068610216422127,
          0.01930132987661666,
          0.020642283868630682,
          0.02266419948732461,
          0.03768995896633658
         ],
         "xaxis": "x8",
         "y": [
          "jewish  ",
          "peace  ",
          "embassy  ",
          "settlements  ",
          "palestinians  ",
          "palestinian  ",
          "israeli  ",
          "jerusalem  ",
          "netanyahu  ",
          "israel  "
         ],
         "yaxis": "y8"
        },
        {
         "marker": {
          "color": "#0072B2"
         },
         "orientation": "h",
         "type": "bar",
         "x": [
          0.007753959557394956,
          0.007813007413720426,
          0.007904001699342637,
          0.00831630977169396,
          0.009877952643177822,
          0.010068515967814452,
          0.010390533324634174,
          0.011046535748086945,
          0.012581732665973469,
          0.015713907640900936
         ],
         "xaxis": "x9",
         "y": [
          "games  ",
          "hockey  ",
          "teams  ",
          "coach  ",
          "basketball  ",
          "season  ",
          "warriors  ",
          "players  ",
          "team  ",
          "game  "
         ],
         "yaxis": "y9"
        },
        {
         "marker": {
          "color": "#CC79A7"
         },
         "orientation": "h",
         "type": "bar",
         "x": [
          0.005721898220840802,
          0.005757845840096919,
          0.00608801633560784,
          0.006203780472280855,
          0.006231421603687356,
          0.011310045873483292,
          0.012099343613826285,
          0.01313560326553463,
          0.02304127703648352,
          0.02947468035496025
         ],
         "xaxis": "x10",
         "y": [
          "mr  ",
          "communist  ",
          "shanghai  ",
          "hong  ",
          "kong  ",
          "beijing  ",
          "taiwan  ",
          "xi  ",
          "chinese  ",
          "china  "
         ],
         "yaxis": "y10"
        },
        {
         "marker": {
          "color": "#E69F00"
         },
         "orientation": "h",
         "type": "bar",
         "x": [
          0.0070640019094059085,
          0.008296252239046032,
          0.008673004219459981,
          0.009069101812162406,
          0.013747312985866882,
          0.01487633212263123,
          0.016235472695117954,
          0.016699697695315305,
          0.017272070057325686,
          0.018649610027717818
         ],
         "xaxis": "x11",
         "y": [
          "you  ",
          "house  ",
          "white  ",
          "trump  ",
          "cnn  ",
          "press  ",
          "fake  ",
          "spicer  ",
          "news  ",
          "media  "
         ],
         "yaxis": "y11"
        },
        {
         "marker": {
          "color": "#56B4E9"
         },
         "orientation": "h",
         "type": "bar",
         "x": [
          0.006834534592050764,
          0.008132542679312172,
          0.010302780620264854,
          0.010472461004368756,
          0.011101957104985485,
          0.011531463300234197,
          0.01218618127136064,
          0.014099351482201875,
          0.014959958437098507,
          0.017104197645789358
         ],
         "xaxis": "x12",
         "y": [
          "her  ",
          "athletes  ",
          "lochte  ",
          "games  ",
          "medal  ",
          "gold  ",
          "phelps  ",
          "olympics  ",
          "rio  ",
          "olympic  "
         ],
         "yaxis": "y12"
        },
        {
         "marker": {
          "color": "#009E73"
         },
         "orientation": "h",
         "type": "bar",
         "x": [
          0.007041517474416313,
          0.0072801777913736095,
          0.007757147068188633,
          0.007975372216768627,
          0.00827176317612523,
          0.014608091019846949,
          0.015064337584056817,
          0.018044376500528515,
          0.021463560821209562,
          0.024545293739592338
         ],
         "xaxis": "x13",
         "y": [
          "charter  ",
          "core  ",
          "vouchers  ",
          "public  ",
          "standards  ",
          "students  ",
          "devos  ",
          "school  ",
          "schools  ",
          "education  "
         ],
         "yaxis": "y13"
        },
        {
         "marker": {
          "color": "#F0E442"
         },
         "orientation": "h",
         "type": "bar",
         "x": [
          0.00793262831863535,
          0.008128356605460497,
          0.00831165283564404,
          0.008311745207853868,
          0.009518429426858654,
          0.015992146177033657,
          0.017751052975096642,
          0.02748239825184644,
          0.034586027454652016,
          0.04045308262089976
         ],
         "xaxis": "x14",
         "y": [
          "turks  ",
          "syria  ",
          "military  ",
          "gulen  ",
          "kurdish  ",
          "istanbul  ",
          "coup  ",
          "turkish  ",
          "erdogan  ",
          "turkey  "
         ],
         "yaxis": "y14"
        },
        {
         "marker": {
          "color": "#D55E00"
         },
         "orientation": "h",
         "type": "bar",
         "x": [
          0.009058391594902446,
          0.009915421494453033,
          0.012240415746232447,
          0.012489982087654113,
          0.01272927405148303,
          0.012853380797516264,
          0.014172197441558643,
          0.016053619361900355,
          0.01739870163615195,
          0.03742428490483557
         ],
         "xaxis": "x15",
         "y": [
          "second  ",
          "breitbart  ",
          "hawkins  ",
          "concealed  ",
          "awrhawkins  ",
          "awr  ",
          "amendment  ",
          "carry  ",
          "guns  ",
          "gun  "
         ],
         "yaxis": "y15"
        },
        {
         "marker": {
          "color": "#0072B2"
         },
         "orientation": "h",
         "type": "bar",
         "x": [
          0.005616020352244637,
          0.006074723090634865,
          0.006091426319026059,
          0.006331231590039981,
          0.006734095883221562,
          0.006763217135317738,
          0.006789866362027037,
          0.00681896251463528,
          0.00706585895432937,
          0.011571983498109605
         ],
         "xaxis": "x16",
         "y": [
          "will  ",
          "he  ",
          "mr  ",
          "our  ",
          "president  ",
          "inauguration  ",
          "america  ",
          "inaugural  ",
          "his  ",
          "trump  "
         ],
         "yaxis": "y16"
        },
        {
         "marker": {
          "color": "#CC79A7"
         },
         "orientation": "h",
         "type": "bar",
         "x": [
          0.006528996835995771,
          0.006532734581610017,
          0.006607460231287185,
          0.007799553280805671,
          0.009000133233403233,
          0.009204938455473922,
          0.011897407712196764,
          0.013826949539942613,
          0.02675660526282914,
          0.03214310576227052
         ],
         "xaxis": "x17",
         "y": [
          "debate  ",
          "hillary  ",
          "sanders  ",
          "mr  ",
          "trump  ",
          "campaign  ",
          "she  ",
          "her  ",
          "mrs  ",
          "clinton  "
         ],
         "yaxis": "y17"
        },
        {
         "marker": {
          "color": "#E69F00"
         },
         "orientation": "h",
         "type": "bar",
         "x": [
          0.008837343182888438,
          0.008863464724010346,
          0.009781657117789432,
          0.009818138703337372,
          0.011586559117789623,
          0.011840460404240931,
          0.014004554163178792,
          0.019728923955141385,
          0.03552934805491061,
          0.059449278116960526
         ],
         "xaxis": "x18",
         "y": [
          "trump  ",
          "attorney  ",
          "sekulow  ",
          "firing  ",
          "james  ",
          "president  ",
          "director  ",
          "investigation  ",
          "fbi  ",
          "comey  "
         ],
         "yaxis": "y18"
        },
        {
         "marker": {
          "color": "#56B4E9"
         },
         "orientation": "h",
         "type": "bar",
         "x": [
          0.006655726732096807,
          0.006913478891393858,
          0.007044725972716966,
          0.007084408825061247,
          0.010240106785689776,
          0.012065974604412655,
          0.015995789679962347,
          0.03072339325640243,
          0.037030620377680415,
          0.03846023626079421
         ],
         "xaxis": "x19",
         "y": [
          "richards  ",
          "clinics  ",
          "care  ",
          "life  ",
          "health  ",
          "women  ",
          "abortions  ",
          "planned  ",
          "abortion  ",
          "parenthood  "
         ],
         "yaxis": "y19"
        },
        {
         "marker": {
          "color": "#009E73"
         },
         "orientation": "h",
         "type": "bar",
         "x": [
          0.007698269845605284,
          0.007800429710359302,
          0.008857930603539621,
          0.00959411727680269,
          0.014057287938271592,
          0.01874743582979371,
          0.025001881883270287,
          0.02746608321538081,
          0.02836349687191939,
          0.03996236724314611
         ],
         "xaxis": "x20",
         "y": [
          "law  ",
          "neil  ",
          "justices  ",
          "garland  ",
          "scalia  ",
          "supreme  ",
          "justice  ",
          "court  ",
          "judge  ",
          "gorsuch  "
         ],
         "yaxis": "y20"
        }
       ],
       "layout": {
        "annotations": [
         {
          "font": {
           "size": 16
          },
          "showarrow": false,
          "text": "Topic 0",
          "x": 0.0875,
          "xanchor": "center",
          "xref": "paper",
          "y": 0.9999999999999999,
          "yanchor": "bottom",
          "yref": "paper"
         },
         {
          "font": {
           "size": 16
          },
          "showarrow": false,
          "text": "Topic 1",
          "x": 0.36250000000000004,
          "xanchor": "center",
          "xref": "paper",
          "y": 0.9999999999999999,
          "yanchor": "bottom",
          "yref": "paper"
         },
         {
          "font": {
           "size": 16
          },
          "showarrow": false,
          "text": "Topic 2",
          "x": 0.6375000000000001,
          "xanchor": "center",
          "xref": "paper",
          "y": 0.9999999999999999,
          "yanchor": "bottom",
          "yref": "paper"
         },
         {
          "font": {
           "size": 16
          },
          "showarrow": false,
          "text": "Topic 3",
          "x": 0.9125,
          "xanchor": "center",
          "xref": "paper",
          "y": 0.9999999999999999,
          "yanchor": "bottom",
          "yref": "paper"
         },
         {
          "font": {
           "size": 16
          },
          "showarrow": false,
          "text": "Topic 4",
          "x": 0.0875,
          "xanchor": "center",
          "xref": "paper",
          "y": 0.7839999999999999,
          "yanchor": "bottom",
          "yref": "paper"
         },
         {
          "font": {
           "size": 16
          },
          "showarrow": false,
          "text": "Topic 5",
          "x": 0.36250000000000004,
          "xanchor": "center",
          "xref": "paper",
          "y": 0.7839999999999999,
          "yanchor": "bottom",
          "yref": "paper"
         },
         {
          "font": {
           "size": 16
          },
          "showarrow": false,
          "text": "Topic 6",
          "x": 0.6375000000000001,
          "xanchor": "center",
          "xref": "paper",
          "y": 0.7839999999999999,
          "yanchor": "bottom",
          "yref": "paper"
         },
         {
          "font": {
           "size": 16
          },
          "showarrow": false,
          "text": "Topic 7",
          "x": 0.9125,
          "xanchor": "center",
          "xref": "paper",
          "y": 0.7839999999999999,
          "yanchor": "bottom",
          "yref": "paper"
         },
         {
          "font": {
           "size": 16
          },
          "showarrow": false,
          "text": "Topic 8",
          "x": 0.0875,
          "xanchor": "center",
          "xref": "paper",
          "y": 0.568,
          "yanchor": "bottom",
          "yref": "paper"
         },
         {
          "font": {
           "size": 16
          },
          "showarrow": false,
          "text": "Topic 9",
          "x": 0.36250000000000004,
          "xanchor": "center",
          "xref": "paper",
          "y": 0.568,
          "yanchor": "bottom",
          "yref": "paper"
         },
         {
          "font": {
           "size": 16
          },
          "showarrow": false,
          "text": "Topic 10",
          "x": 0.6375000000000001,
          "xanchor": "center",
          "xref": "paper",
          "y": 0.568,
          "yanchor": "bottom",
          "yref": "paper"
         },
         {
          "font": {
           "size": 16
          },
          "showarrow": false,
          "text": "Topic 11",
          "x": 0.9125,
          "xanchor": "center",
          "xref": "paper",
          "y": 0.568,
          "yanchor": "bottom",
          "yref": "paper"
         },
         {
          "font": {
           "size": 16
          },
          "showarrow": false,
          "text": "Topic 12",
          "x": 0.0875,
          "xanchor": "center",
          "xref": "paper",
          "y": 0.352,
          "yanchor": "bottom",
          "yref": "paper"
         },
         {
          "font": {
           "size": 16
          },
          "showarrow": false,
          "text": "Topic 13",
          "x": 0.36250000000000004,
          "xanchor": "center",
          "xref": "paper",
          "y": 0.352,
          "yanchor": "bottom",
          "yref": "paper"
         },
         {
          "font": {
           "size": 16
          },
          "showarrow": false,
          "text": "Topic 14",
          "x": 0.6375000000000001,
          "xanchor": "center",
          "xref": "paper",
          "y": 0.352,
          "yanchor": "bottom",
          "yref": "paper"
         },
         {
          "font": {
           "size": 16
          },
          "showarrow": false,
          "text": "Topic 15",
          "x": 0.9125,
          "xanchor": "center",
          "xref": "paper",
          "y": 0.352,
          "yanchor": "bottom",
          "yref": "paper"
         },
         {
          "font": {
           "size": 16
          },
          "showarrow": false,
          "text": "Topic 16",
          "x": 0.0875,
          "xanchor": "center",
          "xref": "paper",
          "y": 0.13599999999999998,
          "yanchor": "bottom",
          "yref": "paper"
         },
         {
          "font": {
           "size": 16
          },
          "showarrow": false,
          "text": "Topic 17",
          "x": 0.36250000000000004,
          "xanchor": "center",
          "xref": "paper",
          "y": 0.13599999999999998,
          "yanchor": "bottom",
          "yref": "paper"
         },
         {
          "font": {
           "size": 16
          },
          "showarrow": false,
          "text": "Topic 18",
          "x": 0.6375000000000001,
          "xanchor": "center",
          "xref": "paper",
          "y": 0.13599999999999998,
          "yanchor": "bottom",
          "yref": "paper"
         },
         {
          "font": {
           "size": 16
          },
          "showarrow": false,
          "text": "Topic 19",
          "x": 0.9125,
          "xanchor": "center",
          "xref": "paper",
          "y": 0.13599999999999998,
          "yanchor": "bottom",
          "yref": "paper"
         }
        ],
        "height": 1000,
        "hoverlabel": {
         "bgcolor": "white",
         "font": {
          "family": "Rockwell",
          "size": 16
         }
        },
        "showlegend": false,
        "template": {
         "data": {
          "bar": [
           {
            "error_x": {
             "color": "#2a3f5f"
            },
            "error_y": {
             "color": "#2a3f5f"
            },
            "marker": {
             "line": {
              "color": "white",
              "width": 0.5
             },
             "pattern": {
              "fillmode": "overlay",
              "size": 10,
              "solidity": 0.2
             }
            },
            "type": "bar"
           }
          ],
          "barpolar": [
           {
            "marker": {
             "line": {
              "color": "white",
              "width": 0.5
             },
             "pattern": {
              "fillmode": "overlay",
              "size": 10,
              "solidity": 0.2
             }
            },
            "type": "barpolar"
           }
          ],
          "carpet": [
           {
            "aaxis": {
             "endlinecolor": "#2a3f5f",
             "gridcolor": "#C8D4E3",
             "linecolor": "#C8D4E3",
             "minorgridcolor": "#C8D4E3",
             "startlinecolor": "#2a3f5f"
            },
            "baxis": {
             "endlinecolor": "#2a3f5f",
             "gridcolor": "#C8D4E3",
             "linecolor": "#C8D4E3",
             "minorgridcolor": "#C8D4E3",
             "startlinecolor": "#2a3f5f"
            },
            "type": "carpet"
           }
          ],
          "choropleth": [
           {
            "colorbar": {
             "outlinewidth": 0,
             "ticks": ""
            },
            "type": "choropleth"
           }
          ],
          "contour": [
           {
            "colorbar": {
             "outlinewidth": 0,
             "ticks": ""
            },
            "colorscale": [
             [
              0,
              "#0d0887"
             ],
             [
              0.1111111111111111,
              "#46039f"
             ],
             [
              0.2222222222222222,
              "#7201a8"
             ],
             [
              0.3333333333333333,
              "#9c179e"
             ],
             [
              0.4444444444444444,
              "#bd3786"
             ],
             [
              0.5555555555555556,
              "#d8576b"
             ],
             [
              0.6666666666666666,
              "#ed7953"
             ],
             [
              0.7777777777777778,
              "#fb9f3a"
             ],
             [
              0.8888888888888888,
              "#fdca26"
             ],
             [
              1,
              "#f0f921"
             ]
            ],
            "type": "contour"
           }
          ],
          "contourcarpet": [
           {
            "colorbar": {
             "outlinewidth": 0,
             "ticks": ""
            },
            "type": "contourcarpet"
           }
          ],
          "heatmap": [
           {
            "colorbar": {
             "outlinewidth": 0,
             "ticks": ""
            },
            "colorscale": [
             [
              0,
              "#0d0887"
             ],
             [
              0.1111111111111111,
              "#46039f"
             ],
             [
              0.2222222222222222,
              "#7201a8"
             ],
             [
              0.3333333333333333,
              "#9c179e"
             ],
             [
              0.4444444444444444,
              "#bd3786"
             ],
             [
              0.5555555555555556,
              "#d8576b"
             ],
             [
              0.6666666666666666,
              "#ed7953"
             ],
             [
              0.7777777777777778,
              "#fb9f3a"
             ],
             [
              0.8888888888888888,
              "#fdca26"
             ],
             [
              1,
              "#f0f921"
             ]
            ],
            "type": "heatmap"
           }
          ],
          "heatmapgl": [
           {
            "colorbar": {
             "outlinewidth": 0,
             "ticks": ""
            },
            "colorscale": [
             [
              0,
              "#0d0887"
             ],
             [
              0.1111111111111111,
              "#46039f"
             ],
             [
              0.2222222222222222,
              "#7201a8"
             ],
             [
              0.3333333333333333,
              "#9c179e"
             ],
             [
              0.4444444444444444,
              "#bd3786"
             ],
             [
              0.5555555555555556,
              "#d8576b"
             ],
             [
              0.6666666666666666,
              "#ed7953"
             ],
             [
              0.7777777777777778,
              "#fb9f3a"
             ],
             [
              0.8888888888888888,
              "#fdca26"
             ],
             [
              1,
              "#f0f921"
             ]
            ],
            "type": "heatmapgl"
           }
          ],
          "histogram": [
           {
            "marker": {
             "pattern": {
              "fillmode": "overlay",
              "size": 10,
              "solidity": 0.2
             }
            },
            "type": "histogram"
           }
          ],
          "histogram2d": [
           {
            "colorbar": {
             "outlinewidth": 0,
             "ticks": ""
            },
            "colorscale": [
             [
              0,
              "#0d0887"
             ],
             [
              0.1111111111111111,
              "#46039f"
             ],
             [
              0.2222222222222222,
              "#7201a8"
             ],
             [
              0.3333333333333333,
              "#9c179e"
             ],
             [
              0.4444444444444444,
              "#bd3786"
             ],
             [
              0.5555555555555556,
              "#d8576b"
             ],
             [
              0.6666666666666666,
              "#ed7953"
             ],
             [
              0.7777777777777778,
              "#fb9f3a"
             ],
             [
              0.8888888888888888,
              "#fdca26"
             ],
             [
              1,
              "#f0f921"
             ]
            ],
            "type": "histogram2d"
           }
          ],
          "histogram2dcontour": [
           {
            "colorbar": {
             "outlinewidth": 0,
             "ticks": ""
            },
            "colorscale": [
             [
              0,
              "#0d0887"
             ],
             [
              0.1111111111111111,
              "#46039f"
             ],
             [
              0.2222222222222222,
              "#7201a8"
             ],
             [
              0.3333333333333333,
              "#9c179e"
             ],
             [
              0.4444444444444444,
              "#bd3786"
             ],
             [
              0.5555555555555556,
              "#d8576b"
             ],
             [
              0.6666666666666666,
              "#ed7953"
             ],
             [
              0.7777777777777778,
              "#fb9f3a"
             ],
             [
              0.8888888888888888,
              "#fdca26"
             ],
             [
              1,
              "#f0f921"
             ]
            ],
            "type": "histogram2dcontour"
           }
          ],
          "mesh3d": [
           {
            "colorbar": {
             "outlinewidth": 0,
             "ticks": ""
            },
            "type": "mesh3d"
           }
          ],
          "parcoords": [
           {
            "line": {
             "colorbar": {
              "outlinewidth": 0,
              "ticks": ""
             }
            },
            "type": "parcoords"
           }
          ],
          "pie": [
           {
            "automargin": true,
            "type": "pie"
           }
          ],
          "scatter": [
           {
            "fillpattern": {
             "fillmode": "overlay",
             "size": 10,
             "solidity": 0.2
            },
            "type": "scatter"
           }
          ],
          "scatter3d": [
           {
            "line": {
             "colorbar": {
              "outlinewidth": 0,
              "ticks": ""
             }
            },
            "marker": {
             "colorbar": {
              "outlinewidth": 0,
              "ticks": ""
             }
            },
            "type": "scatter3d"
           }
          ],
          "scattercarpet": [
           {
            "marker": {
             "colorbar": {
              "outlinewidth": 0,
              "ticks": ""
             }
            },
            "type": "scattercarpet"
           }
          ],
          "scattergeo": [
           {
            "marker": {
             "colorbar": {
              "outlinewidth": 0,
              "ticks": ""
             }
            },
            "type": "scattergeo"
           }
          ],
          "scattergl": [
           {
            "marker": {
             "colorbar": {
              "outlinewidth": 0,
              "ticks": ""
             }
            },
            "type": "scattergl"
           }
          ],
          "scattermapbox": [
           {
            "marker": {
             "colorbar": {
              "outlinewidth": 0,
              "ticks": ""
             }
            },
            "type": "scattermapbox"
           }
          ],
          "scatterpolar": [
           {
            "marker": {
             "colorbar": {
              "outlinewidth": 0,
              "ticks": ""
             }
            },
            "type": "scatterpolar"
           }
          ],
          "scatterpolargl": [
           {
            "marker": {
             "colorbar": {
              "outlinewidth": 0,
              "ticks": ""
             }
            },
            "type": "scatterpolargl"
           }
          ],
          "scatterternary": [
           {
            "marker": {
             "colorbar": {
              "outlinewidth": 0,
              "ticks": ""
             }
            },
            "type": "scatterternary"
           }
          ],
          "surface": [
           {
            "colorbar": {
             "outlinewidth": 0,
             "ticks": ""
            },
            "colorscale": [
             [
              0,
              "#0d0887"
             ],
             [
              0.1111111111111111,
              "#46039f"
             ],
             [
              0.2222222222222222,
              "#7201a8"
             ],
             [
              0.3333333333333333,
              "#9c179e"
             ],
             [
              0.4444444444444444,
              "#bd3786"
             ],
             [
              0.5555555555555556,
              "#d8576b"
             ],
             [
              0.6666666666666666,
              "#ed7953"
             ],
             [
              0.7777777777777778,
              "#fb9f3a"
             ],
             [
              0.8888888888888888,
              "#fdca26"
             ],
             [
              1,
              "#f0f921"
             ]
            ],
            "type": "surface"
           }
          ],
          "table": [
           {
            "cells": {
             "fill": {
              "color": "#EBF0F8"
             },
             "line": {
              "color": "white"
             }
            },
            "header": {
             "fill": {
              "color": "#C8D4E3"
             },
             "line": {
              "color": "white"
             }
            },
            "type": "table"
           }
          ]
         },
         "layout": {
          "annotationdefaults": {
           "arrowcolor": "#2a3f5f",
           "arrowhead": 0,
           "arrowwidth": 1
          },
          "autotypenumbers": "strict",
          "coloraxis": {
           "colorbar": {
            "outlinewidth": 0,
            "ticks": ""
           }
          },
          "colorscale": {
           "diverging": [
            [
             0,
             "#8e0152"
            ],
            [
             0.1,
             "#c51b7d"
            ],
            [
             0.2,
             "#de77ae"
            ],
            [
             0.3,
             "#f1b6da"
            ],
            [
             0.4,
             "#fde0ef"
            ],
            [
             0.5,
             "#f7f7f7"
            ],
            [
             0.6,
             "#e6f5d0"
            ],
            [
             0.7,
             "#b8e186"
            ],
            [
             0.8,
             "#7fbc41"
            ],
            [
             0.9,
             "#4d9221"
            ],
            [
             1,
             "#276419"
            ]
           ],
           "sequential": [
            [
             0,
             "#0d0887"
            ],
            [
             0.1111111111111111,
             "#46039f"
            ],
            [
             0.2222222222222222,
             "#7201a8"
            ],
            [
             0.3333333333333333,
             "#9c179e"
            ],
            [
             0.4444444444444444,
             "#bd3786"
            ],
            [
             0.5555555555555556,
             "#d8576b"
            ],
            [
             0.6666666666666666,
             "#ed7953"
            ],
            [
             0.7777777777777778,
             "#fb9f3a"
            ],
            [
             0.8888888888888888,
             "#fdca26"
            ],
            [
             1,
             "#f0f921"
            ]
           ],
           "sequentialminus": [
            [
             0,
             "#0d0887"
            ],
            [
             0.1111111111111111,
             "#46039f"
            ],
            [
             0.2222222222222222,
             "#7201a8"
            ],
            [
             0.3333333333333333,
             "#9c179e"
            ],
            [
             0.4444444444444444,
             "#bd3786"
            ],
            [
             0.5555555555555556,
             "#d8576b"
            ],
            [
             0.6666666666666666,
             "#ed7953"
            ],
            [
             0.7777777777777778,
             "#fb9f3a"
            ],
            [
             0.8888888888888888,
             "#fdca26"
            ],
            [
             1,
             "#f0f921"
            ]
           ]
          },
          "colorway": [
           "#636efa",
           "#EF553B",
           "#00cc96",
           "#ab63fa",
           "#FFA15A",
           "#19d3f3",
           "#FF6692",
           "#B6E880",
           "#FF97FF",
           "#FECB52"
          ],
          "font": {
           "color": "#2a3f5f"
          },
          "geo": {
           "bgcolor": "white",
           "lakecolor": "white",
           "landcolor": "white",
           "showlakes": true,
           "showland": true,
           "subunitcolor": "#C8D4E3"
          },
          "hoverlabel": {
           "align": "left"
          },
          "hovermode": "closest",
          "mapbox": {
           "style": "light"
          },
          "paper_bgcolor": "white",
          "plot_bgcolor": "white",
          "polar": {
           "angularaxis": {
            "gridcolor": "#EBF0F8",
            "linecolor": "#EBF0F8",
            "ticks": ""
           },
           "bgcolor": "white",
           "radialaxis": {
            "gridcolor": "#EBF0F8",
            "linecolor": "#EBF0F8",
            "ticks": ""
           }
          },
          "scene": {
           "xaxis": {
            "backgroundcolor": "white",
            "gridcolor": "#DFE8F3",
            "gridwidth": 2,
            "linecolor": "#EBF0F8",
            "showbackground": true,
            "ticks": "",
            "zerolinecolor": "#EBF0F8"
           },
           "yaxis": {
            "backgroundcolor": "white",
            "gridcolor": "#DFE8F3",
            "gridwidth": 2,
            "linecolor": "#EBF0F8",
            "showbackground": true,
            "ticks": "",
            "zerolinecolor": "#EBF0F8"
           },
           "zaxis": {
            "backgroundcolor": "white",
            "gridcolor": "#DFE8F3",
            "gridwidth": 2,
            "linecolor": "#EBF0F8",
            "showbackground": true,
            "ticks": "",
            "zerolinecolor": "#EBF0F8"
           }
          },
          "shapedefaults": {
           "line": {
            "color": "#2a3f5f"
           }
          },
          "ternary": {
           "aaxis": {
            "gridcolor": "#DFE8F3",
            "linecolor": "#A2B1C6",
            "ticks": ""
           },
           "baxis": {
            "gridcolor": "#DFE8F3",
            "linecolor": "#A2B1C6",
            "ticks": ""
           },
           "bgcolor": "white",
           "caxis": {
            "gridcolor": "#DFE8F3",
            "linecolor": "#A2B1C6",
            "ticks": ""
           }
          },
          "title": {
           "x": 0.05
          },
          "xaxis": {
           "automargin": true,
           "gridcolor": "#EBF0F8",
           "linecolor": "#EBF0F8",
           "ticks": "",
           "title": {
            "standoff": 15
           },
           "zerolinecolor": "#EBF0F8",
           "zerolinewidth": 2
          },
          "yaxis": {
           "automargin": true,
           "gridcolor": "#EBF0F8",
           "linecolor": "#EBF0F8",
           "ticks": "",
           "title": {
            "standoff": 15
           },
           "zerolinecolor": "#EBF0F8",
           "zerolinewidth": 2
          }
         }
        },
        "title": {
         "font": {
          "color": "Black",
          "size": 22
         },
         "text": "Text Clusters in Fake News",
         "x": 0.5,
         "xanchor": "center",
         "yanchor": "top"
        },
        "width": 800,
        "xaxis": {
         "anchor": "y",
         "domain": [
          0,
          0.175
         ],
         "showgrid": true
        },
        "xaxis10": {
         "anchor": "y10",
         "domain": [
          0.275,
          0.45
         ],
         "showgrid": true
        },
        "xaxis11": {
         "anchor": "y11",
         "domain": [
          0.55,
          0.7250000000000001
         ],
         "showgrid": true
        },
        "xaxis12": {
         "anchor": "y12",
         "domain": [
          0.825,
          1
         ],
         "showgrid": true
        },
        "xaxis13": {
         "anchor": "y13",
         "domain": [
          0,
          0.175
         ],
         "showgrid": true
        },
        "xaxis14": {
         "anchor": "y14",
         "domain": [
          0.275,
          0.45
         ],
         "showgrid": true
        },
        "xaxis15": {
         "anchor": "y15",
         "domain": [
          0.55,
          0.7250000000000001
         ],
         "showgrid": true
        },
        "xaxis16": {
         "anchor": "y16",
         "domain": [
          0.825,
          1
         ],
         "showgrid": true
        },
        "xaxis17": {
         "anchor": "y17",
         "domain": [
          0,
          0.175
         ],
         "showgrid": true
        },
        "xaxis18": {
         "anchor": "y18",
         "domain": [
          0.275,
          0.45
         ],
         "showgrid": true
        },
        "xaxis19": {
         "anchor": "y19",
         "domain": [
          0.55,
          0.7250000000000001
         ],
         "showgrid": true
        },
        "xaxis2": {
         "anchor": "y2",
         "domain": [
          0.275,
          0.45
         ],
         "showgrid": true
        },
        "xaxis20": {
         "anchor": "y20",
         "domain": [
          0.825,
          1
         ],
         "showgrid": true
        },
        "xaxis3": {
         "anchor": "y3",
         "domain": [
          0.55,
          0.7250000000000001
         ],
         "showgrid": true
        },
        "xaxis4": {
         "anchor": "y4",
         "domain": [
          0.825,
          1
         ],
         "showgrid": true
        },
        "xaxis5": {
         "anchor": "y5",
         "domain": [
          0,
          0.175
         ],
         "showgrid": true
        },
        "xaxis6": {
         "anchor": "y6",
         "domain": [
          0.275,
          0.45
         ],
         "showgrid": true
        },
        "xaxis7": {
         "anchor": "y7",
         "domain": [
          0.55,
          0.7250000000000001
         ],
         "showgrid": true
        },
        "xaxis8": {
         "anchor": "y8",
         "domain": [
          0.825,
          1
         ],
         "showgrid": true
        },
        "xaxis9": {
         "anchor": "y9",
         "domain": [
          0,
          0.175
         ],
         "showgrid": true
        },
        "yaxis": {
         "anchor": "x",
         "domain": [
          0.8639999999999999,
          0.9999999999999999
         ],
         "showgrid": true
        },
        "yaxis10": {
         "anchor": "x10",
         "domain": [
          0.43199999999999994,
          0.568
         ],
         "showgrid": true
        },
        "yaxis11": {
         "anchor": "x11",
         "domain": [
          0.43199999999999994,
          0.568
         ],
         "showgrid": true
        },
        "yaxis12": {
         "anchor": "x12",
         "domain": [
          0.43199999999999994,
          0.568
         ],
         "showgrid": true
        },
        "yaxis13": {
         "anchor": "x13",
         "domain": [
          0.21599999999999997,
          0.352
         ],
         "showgrid": true
        },
        "yaxis14": {
         "anchor": "x14",
         "domain": [
          0.21599999999999997,
          0.352
         ],
         "showgrid": true
        },
        "yaxis15": {
         "anchor": "x15",
         "domain": [
          0.21599999999999997,
          0.352
         ],
         "showgrid": true
        },
        "yaxis16": {
         "anchor": "x16",
         "domain": [
          0.21599999999999997,
          0.352
         ],
         "showgrid": true
        },
        "yaxis17": {
         "anchor": "x17",
         "domain": [
          0,
          0.13599999999999998
         ],
         "showgrid": true
        },
        "yaxis18": {
         "anchor": "x18",
         "domain": [
          0,
          0.13599999999999998
         ],
         "showgrid": true
        },
        "yaxis19": {
         "anchor": "x19",
         "domain": [
          0,
          0.13599999999999998
         ],
         "showgrid": true
        },
        "yaxis2": {
         "anchor": "x2",
         "domain": [
          0.8639999999999999,
          0.9999999999999999
         ],
         "showgrid": true
        },
        "yaxis20": {
         "anchor": "x20",
         "domain": [
          0,
          0.13599999999999998
         ],
         "showgrid": true
        },
        "yaxis3": {
         "anchor": "x3",
         "domain": [
          0.8639999999999999,
          0.9999999999999999
         ],
         "showgrid": true
        },
        "yaxis4": {
         "anchor": "x4",
         "domain": [
          0.8639999999999999,
          0.9999999999999999
         ],
         "showgrid": true
        },
        "yaxis5": {
         "anchor": "x5",
         "domain": [
          0.6479999999999999,
          0.7839999999999999
         ],
         "showgrid": true
        },
        "yaxis6": {
         "anchor": "x6",
         "domain": [
          0.6479999999999999,
          0.7839999999999999
         ],
         "showgrid": true
        },
        "yaxis7": {
         "anchor": "x7",
         "domain": [
          0.6479999999999999,
          0.7839999999999999
         ],
         "showgrid": true
        },
        "yaxis8": {
         "anchor": "x8",
         "domain": [
          0.6479999999999999,
          0.7839999999999999
         ],
         "showgrid": true
        },
        "yaxis9": {
         "anchor": "x9",
         "domain": [
          0.43199999999999994,
          0.568
         ],
         "showgrid": true
        }
       }
      },
      "text/html": [
       "<div>                            <div id=\"7255ab31-aba7-4f50-8a25-69df221636df\" class=\"plotly-graph-div\" style=\"height:1000px; width:800px;\"></div>            <script type=\"text/javascript\">                require([\"plotly\"], function(Plotly) {                    window.PLOTLYENV=window.PLOTLYENV || {};                                    if (document.getElementById(\"7255ab31-aba7-4f50-8a25-69df221636df\")) {                    Plotly.newPlot(                        \"7255ab31-aba7-4f50-8a25-69df221636df\",                        [{\"marker\":{\"color\":\"#D55E00\"},\"orientation\":\"h\",\"x\":[0.008312206509934274,0.00992459986763153,0.010546241220984246,0.010591329142062157,0.010831201424127704,0.01277667903766387,0.01573843213190301,0.016350511176433425,0.01637796806208818,0.017884068694406424],\"y\":[\"affordable  \",\"ryan  \",\"republicans  \",\"repeal  \",\"house  \",\"bill  \",\"care  \",\"obamacare  \",\"insurance  \",\"health  \"],\"type\":\"bar\",\"xaxis\":\"x\",\"yaxis\":\"y\"},{\"marker\":{\"color\":\"#0072B2\"},\"orientation\":\"h\",\"x\":[0.007366572797662554,0.007466705750151351,0.007774469441037805,0.0080341507331628,0.009420250180615923,0.01247556709156693,0.01482555058844686,0.01535519833338025,0.016709501780755656,0.021008929617409463],\"y\":[\"war  \",\"russian  \",\"united  \",\"weapons  \",\"chemical  \",\"russia  \",\"aleppo  \",\"assad  \",\"syrian  \",\"syria  \"],\"type\":\"bar\",\"xaxis\":\"x2\",\"yaxis\":\"y2\"},{\"marker\":{\"color\":\"#CC79A7\"},\"orientation\":\"h\",\"x\":[0.007277352437196887,0.007564576943748065,0.007910246755289566,0.008381841829175524,0.010725478879121824,0.011162560940317513,0.011268592935068565,0.011607258612492094,0.012846097687126514,0.01935287395836583],\"y\":[\"investigation  \",\"information  \",\"house  \",\"president  \",\"rice  \",\"obama  \",\"surveillance  \",\"trump  \",\"nunes  \",\"intelligence  \"],\"type\":\"bar\",\"xaxis\":\"x3\",\"yaxis\":\"y3\"},{\"marker\":{\"color\":\"#E69F00\"},\"orientation\":\"h\",\"x\":[0.007231007870429845,0.007332390813663709,0.007497660114028132,0.007857622790958889,0.00836341918109665,0.00862718878623068,0.012658337113597278,0.014574820172854618,0.018430028621821377,0.02394191339190811],\"y\":[\"was  \",\"he  \",\"man  \",\"said  \",\"scott  \",\"shot  \",\"shooting  \",\"officer  \",\"officers  \",\"police  \"],\"type\":\"bar\",\"xaxis\":\"x4\",\"yaxis\":\"y4\"},{\"marker\":{\"color\":\"#56B4E9\"},\"orientation\":\"h\",\"x\":[0.010466413825953556,0.011418638300489274,0.012311182440489834,0.01280830585970908,0.01403062428650321,0.014677289912560594,0.016704266099735354,0.01714818653532438,0.023109252072734995,0.027552739137022178],\"y\":[\"yiannopoulos  \",\"college  \",\"students  \",\"event  \",\"university  \",\"speech  \",\"campus  \",\"uc  \",\"berkeley  \",\"milo  \"],\"type\":\"bar\",\"xaxis\":\"x5\",\"yaxis\":\"y5\"},{\"marker\":{\"color\":\"#009E73\"},\"orientation\":\"h\",\"x\":[0.00767783508909361,0.007704862662632856,0.007722484372842585,0.008332956626332329,0.009412841171011176,0.011686441771722584,0.014112807029480296,0.01817212650109541,0.023633977250478097,0.025399724269391077],\"y\":[\"minister  \",\"cameron  \",\"leave  \",\"london  \",\"referendum  \",\"british  \",\"brexit  \",\"union  \",\"european  \",\"britain  \"],\"type\":\"bar\",\"xaxis\":\"x6\",\"yaxis\":\"y6\"},{\"marker\":{\"color\":\"#F0E442\"},\"orientation\":\"h\",\"x\":[0.00784358396226763,0.008830705441279186,0.008949713176503022,0.00906158054827128,0.01026149621682842,0.010904218652873941,0.01152885998783093,0.011759546675594292,0.012184674301571202,0.012807595522470485],\"y\":[\"republicans  \",\"mrs  \",\"party  \",\"polls  \",\"clinton  \",\"cruz  \",\"mr  \",\"republican  \",\"trump  \",\"voters  \"],\"type\":\"bar\",\"xaxis\":\"x7\",\"yaxis\":\"y7\"},{\"marker\":{\"color\":\"#D55E00\"},\"orientation\":\"h\",\"x\":[0.008992672425921914,0.01009114980885848,0.01100941652752412,0.012126536322650282,0.012699795884655864,0.016068610216422127,0.01930132987661666,0.020642283868630682,0.02266419948732461,0.03768995896633658],\"y\":[\"jewish  \",\"peace  \",\"embassy  \",\"settlements  \",\"palestinians  \",\"palestinian  \",\"israeli  \",\"jerusalem  \",\"netanyahu  \",\"israel  \"],\"type\":\"bar\",\"xaxis\":\"x8\",\"yaxis\":\"y8\"},{\"marker\":{\"color\":\"#0072B2\"},\"orientation\":\"h\",\"x\":[0.007753959557394956,0.007813007413720426,0.007904001699342637,0.00831630977169396,0.009877952643177822,0.010068515967814452,0.010390533324634174,0.011046535748086945,0.012581732665973469,0.015713907640900936],\"y\":[\"games  \",\"hockey  \",\"teams  \",\"coach  \",\"basketball  \",\"season  \",\"warriors  \",\"players  \",\"team  \",\"game  \"],\"type\":\"bar\",\"xaxis\":\"x9\",\"yaxis\":\"y9\"},{\"marker\":{\"color\":\"#CC79A7\"},\"orientation\":\"h\",\"x\":[0.005721898220840802,0.005757845840096919,0.00608801633560784,0.006203780472280855,0.006231421603687356,0.011310045873483292,0.012099343613826285,0.01313560326553463,0.02304127703648352,0.02947468035496025],\"y\":[\"mr  \",\"communist  \",\"shanghai  \",\"hong  \",\"kong  \",\"beijing  \",\"taiwan  \",\"xi  \",\"chinese  \",\"china  \"],\"type\":\"bar\",\"xaxis\":\"x10\",\"yaxis\":\"y10\"},{\"marker\":{\"color\":\"#E69F00\"},\"orientation\":\"h\",\"x\":[0.0070640019094059085,0.008296252239046032,0.008673004219459981,0.009069101812162406,0.013747312985866882,0.01487633212263123,0.016235472695117954,0.016699697695315305,0.017272070057325686,0.018649610027717818],\"y\":[\"you  \",\"house  \",\"white  \",\"trump  \",\"cnn  \",\"press  \",\"fake  \",\"spicer  \",\"news  \",\"media  \"],\"type\":\"bar\",\"xaxis\":\"x11\",\"yaxis\":\"y11\"},{\"marker\":{\"color\":\"#56B4E9\"},\"orientation\":\"h\",\"x\":[0.006834534592050764,0.008132542679312172,0.010302780620264854,0.010472461004368756,0.011101957104985485,0.011531463300234197,0.01218618127136064,0.014099351482201875,0.014959958437098507,0.017104197645789358],\"y\":[\"her  \",\"athletes  \",\"lochte  \",\"games  \",\"medal  \",\"gold  \",\"phelps  \",\"olympics  \",\"rio  \",\"olympic  \"],\"type\":\"bar\",\"xaxis\":\"x12\",\"yaxis\":\"y12\"},{\"marker\":{\"color\":\"#009E73\"},\"orientation\":\"h\",\"x\":[0.007041517474416313,0.0072801777913736095,0.007757147068188633,0.007975372216768627,0.00827176317612523,0.014608091019846949,0.015064337584056817,0.018044376500528515,0.021463560821209562,0.024545293739592338],\"y\":[\"charter  \",\"core  \",\"vouchers  \",\"public  \",\"standards  \",\"students  \",\"devos  \",\"school  \",\"schools  \",\"education  \"],\"type\":\"bar\",\"xaxis\":\"x13\",\"yaxis\":\"y13\"},{\"marker\":{\"color\":\"#F0E442\"},\"orientation\":\"h\",\"x\":[0.00793262831863535,0.008128356605460497,0.00831165283564404,0.008311745207853868,0.009518429426858654,0.015992146177033657,0.017751052975096642,0.02748239825184644,0.034586027454652016,0.04045308262089976],\"y\":[\"turks  \",\"syria  \",\"military  \",\"gulen  \",\"kurdish  \",\"istanbul  \",\"coup  \",\"turkish  \",\"erdogan  \",\"turkey  \"],\"type\":\"bar\",\"xaxis\":\"x14\",\"yaxis\":\"y14\"},{\"marker\":{\"color\":\"#D55E00\"},\"orientation\":\"h\",\"x\":[0.009058391594902446,0.009915421494453033,0.012240415746232447,0.012489982087654113,0.01272927405148303,0.012853380797516264,0.014172197441558643,0.016053619361900355,0.01739870163615195,0.03742428490483557],\"y\":[\"second  \",\"breitbart  \",\"hawkins  \",\"concealed  \",\"awrhawkins  \",\"awr  \",\"amendment  \",\"carry  \",\"guns  \",\"gun  \"],\"type\":\"bar\",\"xaxis\":\"x15\",\"yaxis\":\"y15\"},{\"marker\":{\"color\":\"#0072B2\"},\"orientation\":\"h\",\"x\":[0.005616020352244637,0.006074723090634865,0.006091426319026059,0.006331231590039981,0.006734095883221562,0.006763217135317738,0.006789866362027037,0.00681896251463528,0.00706585895432937,0.011571983498109605],\"y\":[\"will  \",\"he  \",\"mr  \",\"our  \",\"president  \",\"inauguration  \",\"america  \",\"inaugural  \",\"his  \",\"trump  \"],\"type\":\"bar\",\"xaxis\":\"x16\",\"yaxis\":\"y16\"},{\"marker\":{\"color\":\"#CC79A7\"},\"orientation\":\"h\",\"x\":[0.006528996835995771,0.006532734581610017,0.006607460231287185,0.007799553280805671,0.009000133233403233,0.009204938455473922,0.011897407712196764,0.013826949539942613,0.02675660526282914,0.03214310576227052],\"y\":[\"debate  \",\"hillary  \",\"sanders  \",\"mr  \",\"trump  \",\"campaign  \",\"she  \",\"her  \",\"mrs  \",\"clinton  \"],\"type\":\"bar\",\"xaxis\":\"x17\",\"yaxis\":\"y17\"},{\"marker\":{\"color\":\"#E69F00\"},\"orientation\":\"h\",\"x\":[0.008837343182888438,0.008863464724010346,0.009781657117789432,0.009818138703337372,0.011586559117789623,0.011840460404240931,0.014004554163178792,0.019728923955141385,0.03552934805491061,0.059449278116960526],\"y\":[\"trump  \",\"attorney  \",\"sekulow  \",\"firing  \",\"james  \",\"president  \",\"director  \",\"investigation  \",\"fbi  \",\"comey  \"],\"type\":\"bar\",\"xaxis\":\"x18\",\"yaxis\":\"y18\"},{\"marker\":{\"color\":\"#56B4E9\"},\"orientation\":\"h\",\"x\":[0.006655726732096807,0.006913478891393858,0.007044725972716966,0.007084408825061247,0.010240106785689776,0.012065974604412655,0.015995789679962347,0.03072339325640243,0.037030620377680415,0.03846023626079421],\"y\":[\"richards  \",\"clinics  \",\"care  \",\"life  \",\"health  \",\"women  \",\"abortions  \",\"planned  \",\"abortion  \",\"parenthood  \"],\"type\":\"bar\",\"xaxis\":\"x19\",\"yaxis\":\"y19\"},{\"marker\":{\"color\":\"#009E73\"},\"orientation\":\"h\",\"x\":[0.007698269845605284,0.007800429710359302,0.008857930603539621,0.00959411727680269,0.014057287938271592,0.01874743582979371,0.025001881883270287,0.02746608321538081,0.02836349687191939,0.03996236724314611],\"y\":[\"law  \",\"neil  \",\"justices  \",\"garland  \",\"scalia  \",\"supreme  \",\"justice  \",\"court  \",\"judge  \",\"gorsuch  \"],\"type\":\"bar\",\"xaxis\":\"x20\",\"yaxis\":\"y20\"}],                        {\"template\":{\"data\":{\"barpolar\":[{\"marker\":{\"line\":{\"color\":\"white\",\"width\":0.5},\"pattern\":{\"fillmode\":\"overlay\",\"size\":10,\"solidity\":0.2}},\"type\":\"barpolar\"}],\"bar\":[{\"error_x\":{\"color\":\"#2a3f5f\"},\"error_y\":{\"color\":\"#2a3f5f\"},\"marker\":{\"line\":{\"color\":\"white\",\"width\":0.5},\"pattern\":{\"fillmode\":\"overlay\",\"size\":10,\"solidity\":0.2}},\"type\":\"bar\"}],\"carpet\":[{\"aaxis\":{\"endlinecolor\":\"#2a3f5f\",\"gridcolor\":\"#C8D4E3\",\"linecolor\":\"#C8D4E3\",\"minorgridcolor\":\"#C8D4E3\",\"startlinecolor\":\"#2a3f5f\"},\"baxis\":{\"endlinecolor\":\"#2a3f5f\",\"gridcolor\":\"#C8D4E3\",\"linecolor\":\"#C8D4E3\",\"minorgridcolor\":\"#C8D4E3\",\"startlinecolor\":\"#2a3f5f\"},\"type\":\"carpet\"}],\"choropleth\":[{\"colorbar\":{\"outlinewidth\":0,\"ticks\":\"\"},\"type\":\"choropleth\"}],\"contourcarpet\":[{\"colorbar\":{\"outlinewidth\":0,\"ticks\":\"\"},\"type\":\"contourcarpet\"}],\"contour\":[{\"colorbar\":{\"outlinewidth\":0,\"ticks\":\"\"},\"colorscale\":[[0.0,\"#0d0887\"],[0.1111111111111111,\"#46039f\"],[0.2222222222222222,\"#7201a8\"],[0.3333333333333333,\"#9c179e\"],[0.4444444444444444,\"#bd3786\"],[0.5555555555555556,\"#d8576b\"],[0.6666666666666666,\"#ed7953\"],[0.7777777777777778,\"#fb9f3a\"],[0.8888888888888888,\"#fdca26\"],[1.0,\"#f0f921\"]],\"type\":\"contour\"}],\"heatmapgl\":[{\"colorbar\":{\"outlinewidth\":0,\"ticks\":\"\"},\"colorscale\":[[0.0,\"#0d0887\"],[0.1111111111111111,\"#46039f\"],[0.2222222222222222,\"#7201a8\"],[0.3333333333333333,\"#9c179e\"],[0.4444444444444444,\"#bd3786\"],[0.5555555555555556,\"#d8576b\"],[0.6666666666666666,\"#ed7953\"],[0.7777777777777778,\"#fb9f3a\"],[0.8888888888888888,\"#fdca26\"],[1.0,\"#f0f921\"]],\"type\":\"heatmapgl\"}],\"heatmap\":[{\"colorbar\":{\"outlinewidth\":0,\"ticks\":\"\"},\"colorscale\":[[0.0,\"#0d0887\"],[0.1111111111111111,\"#46039f\"],[0.2222222222222222,\"#7201a8\"],[0.3333333333333333,\"#9c179e\"],[0.4444444444444444,\"#bd3786\"],[0.5555555555555556,\"#d8576b\"],[0.6666666666666666,\"#ed7953\"],[0.7777777777777778,\"#fb9f3a\"],[0.8888888888888888,\"#fdca26\"],[1.0,\"#f0f921\"]],\"type\":\"heatmap\"}],\"histogram2dcontour\":[{\"colorbar\":{\"outlinewidth\":0,\"ticks\":\"\"},\"colorscale\":[[0.0,\"#0d0887\"],[0.1111111111111111,\"#46039f\"],[0.2222222222222222,\"#7201a8\"],[0.3333333333333333,\"#9c179e\"],[0.4444444444444444,\"#bd3786\"],[0.5555555555555556,\"#d8576b\"],[0.6666666666666666,\"#ed7953\"],[0.7777777777777778,\"#fb9f3a\"],[0.8888888888888888,\"#fdca26\"],[1.0,\"#f0f921\"]],\"type\":\"histogram2dcontour\"}],\"histogram2d\":[{\"colorbar\":{\"outlinewidth\":0,\"ticks\":\"\"},\"colorscale\":[[0.0,\"#0d0887\"],[0.1111111111111111,\"#46039f\"],[0.2222222222222222,\"#7201a8\"],[0.3333333333333333,\"#9c179e\"],[0.4444444444444444,\"#bd3786\"],[0.5555555555555556,\"#d8576b\"],[0.6666666666666666,\"#ed7953\"],[0.7777777777777778,\"#fb9f3a\"],[0.8888888888888888,\"#fdca26\"],[1.0,\"#f0f921\"]],\"type\":\"histogram2d\"}],\"histogram\":[{\"marker\":{\"pattern\":{\"fillmode\":\"overlay\",\"size\":10,\"solidity\":0.2}},\"type\":\"histogram\"}],\"mesh3d\":[{\"colorbar\":{\"outlinewidth\":0,\"ticks\":\"\"},\"type\":\"mesh3d\"}],\"parcoords\":[{\"line\":{\"colorbar\":{\"outlinewidth\":0,\"ticks\":\"\"}},\"type\":\"parcoords\"}],\"pie\":[{\"automargin\":true,\"type\":\"pie\"}],\"scatter3d\":[{\"line\":{\"colorbar\":{\"outlinewidth\":0,\"ticks\":\"\"}},\"marker\":{\"colorbar\":{\"outlinewidth\":0,\"ticks\":\"\"}},\"type\":\"scatter3d\"}],\"scattercarpet\":[{\"marker\":{\"colorbar\":{\"outlinewidth\":0,\"ticks\":\"\"}},\"type\":\"scattercarpet\"}],\"scattergeo\":[{\"marker\":{\"colorbar\":{\"outlinewidth\":0,\"ticks\":\"\"}},\"type\":\"scattergeo\"}],\"scattergl\":[{\"marker\":{\"colorbar\":{\"outlinewidth\":0,\"ticks\":\"\"}},\"type\":\"scattergl\"}],\"scattermapbox\":[{\"marker\":{\"colorbar\":{\"outlinewidth\":0,\"ticks\":\"\"}},\"type\":\"scattermapbox\"}],\"scatterpolargl\":[{\"marker\":{\"colorbar\":{\"outlinewidth\":0,\"ticks\":\"\"}},\"type\":\"scatterpolargl\"}],\"scatterpolar\":[{\"marker\":{\"colorbar\":{\"outlinewidth\":0,\"ticks\":\"\"}},\"type\":\"scatterpolar\"}],\"scatter\":[{\"fillpattern\":{\"fillmode\":\"overlay\",\"size\":10,\"solidity\":0.2},\"type\":\"scatter\"}],\"scatterternary\":[{\"marker\":{\"colorbar\":{\"outlinewidth\":0,\"ticks\":\"\"}},\"type\":\"scatterternary\"}],\"surface\":[{\"colorbar\":{\"outlinewidth\":0,\"ticks\":\"\"},\"colorscale\":[[0.0,\"#0d0887\"],[0.1111111111111111,\"#46039f\"],[0.2222222222222222,\"#7201a8\"],[0.3333333333333333,\"#9c179e\"],[0.4444444444444444,\"#bd3786\"],[0.5555555555555556,\"#d8576b\"],[0.6666666666666666,\"#ed7953\"],[0.7777777777777778,\"#fb9f3a\"],[0.8888888888888888,\"#fdca26\"],[1.0,\"#f0f921\"]],\"type\":\"surface\"}],\"table\":[{\"cells\":{\"fill\":{\"color\":\"#EBF0F8\"},\"line\":{\"color\":\"white\"}},\"header\":{\"fill\":{\"color\":\"#C8D4E3\"},\"line\":{\"color\":\"white\"}},\"type\":\"table\"}]},\"layout\":{\"annotationdefaults\":{\"arrowcolor\":\"#2a3f5f\",\"arrowhead\":0,\"arrowwidth\":1},\"autotypenumbers\":\"strict\",\"coloraxis\":{\"colorbar\":{\"outlinewidth\":0,\"ticks\":\"\"}},\"colorscale\":{\"diverging\":[[0,\"#8e0152\"],[0.1,\"#c51b7d\"],[0.2,\"#de77ae\"],[0.3,\"#f1b6da\"],[0.4,\"#fde0ef\"],[0.5,\"#f7f7f7\"],[0.6,\"#e6f5d0\"],[0.7,\"#b8e186\"],[0.8,\"#7fbc41\"],[0.9,\"#4d9221\"],[1,\"#276419\"]],\"sequential\":[[0.0,\"#0d0887\"],[0.1111111111111111,\"#46039f\"],[0.2222222222222222,\"#7201a8\"],[0.3333333333333333,\"#9c179e\"],[0.4444444444444444,\"#bd3786\"],[0.5555555555555556,\"#d8576b\"],[0.6666666666666666,\"#ed7953\"],[0.7777777777777778,\"#fb9f3a\"],[0.8888888888888888,\"#fdca26\"],[1.0,\"#f0f921\"]],\"sequentialminus\":[[0.0,\"#0d0887\"],[0.1111111111111111,\"#46039f\"],[0.2222222222222222,\"#7201a8\"],[0.3333333333333333,\"#9c179e\"],[0.4444444444444444,\"#bd3786\"],[0.5555555555555556,\"#d8576b\"],[0.6666666666666666,\"#ed7953\"],[0.7777777777777778,\"#fb9f3a\"],[0.8888888888888888,\"#fdca26\"],[1.0,\"#f0f921\"]]},\"colorway\":[\"#636efa\",\"#EF553B\",\"#00cc96\",\"#ab63fa\",\"#FFA15A\",\"#19d3f3\",\"#FF6692\",\"#B6E880\",\"#FF97FF\",\"#FECB52\"],\"font\":{\"color\":\"#2a3f5f\"},\"geo\":{\"bgcolor\":\"white\",\"lakecolor\":\"white\",\"landcolor\":\"white\",\"showlakes\":true,\"showland\":true,\"subunitcolor\":\"#C8D4E3\"},\"hoverlabel\":{\"align\":\"left\"},\"hovermode\":\"closest\",\"mapbox\":{\"style\":\"light\"},\"paper_bgcolor\":\"white\",\"plot_bgcolor\":\"white\",\"polar\":{\"angularaxis\":{\"gridcolor\":\"#EBF0F8\",\"linecolor\":\"#EBF0F8\",\"ticks\":\"\"},\"bgcolor\":\"white\",\"radialaxis\":{\"gridcolor\":\"#EBF0F8\",\"linecolor\":\"#EBF0F8\",\"ticks\":\"\"}},\"scene\":{\"xaxis\":{\"backgroundcolor\":\"white\",\"gridcolor\":\"#DFE8F3\",\"gridwidth\":2,\"linecolor\":\"#EBF0F8\",\"showbackground\":true,\"ticks\":\"\",\"zerolinecolor\":\"#EBF0F8\"},\"yaxis\":{\"backgroundcolor\":\"white\",\"gridcolor\":\"#DFE8F3\",\"gridwidth\":2,\"linecolor\":\"#EBF0F8\",\"showbackground\":true,\"ticks\":\"\",\"zerolinecolor\":\"#EBF0F8\"},\"zaxis\":{\"backgroundcolor\":\"white\",\"gridcolor\":\"#DFE8F3\",\"gridwidth\":2,\"linecolor\":\"#EBF0F8\",\"showbackground\":true,\"ticks\":\"\",\"zerolinecolor\":\"#EBF0F8\"}},\"shapedefaults\":{\"line\":{\"color\":\"#2a3f5f\"}},\"ternary\":{\"aaxis\":{\"gridcolor\":\"#DFE8F3\",\"linecolor\":\"#A2B1C6\",\"ticks\":\"\"},\"baxis\":{\"gridcolor\":\"#DFE8F3\",\"linecolor\":\"#A2B1C6\",\"ticks\":\"\"},\"bgcolor\":\"white\",\"caxis\":{\"gridcolor\":\"#DFE8F3\",\"linecolor\":\"#A2B1C6\",\"ticks\":\"\"}},\"title\":{\"x\":0.05},\"xaxis\":{\"automargin\":true,\"gridcolor\":\"#EBF0F8\",\"linecolor\":\"#EBF0F8\",\"ticks\":\"\",\"title\":{\"standoff\":15},\"zerolinecolor\":\"#EBF0F8\",\"zerolinewidth\":2},\"yaxis\":{\"automargin\":true,\"gridcolor\":\"#EBF0F8\",\"linecolor\":\"#EBF0F8\",\"ticks\":\"\",\"title\":{\"standoff\":15},\"zerolinecolor\":\"#EBF0F8\",\"zerolinewidth\":2}}},\"xaxis\":{\"anchor\":\"y\",\"domain\":[0.0,0.175],\"showgrid\":true},\"yaxis\":{\"anchor\":\"x\",\"domain\":[0.8639999999999999,0.9999999999999999],\"showgrid\":true},\"xaxis2\":{\"anchor\":\"y2\",\"domain\":[0.275,0.45],\"showgrid\":true},\"yaxis2\":{\"anchor\":\"x2\",\"domain\":[0.8639999999999999,0.9999999999999999],\"showgrid\":true},\"xaxis3\":{\"anchor\":\"y3\",\"domain\":[0.55,0.7250000000000001],\"showgrid\":true},\"yaxis3\":{\"anchor\":\"x3\",\"domain\":[0.8639999999999999,0.9999999999999999],\"showgrid\":true},\"xaxis4\":{\"anchor\":\"y4\",\"domain\":[0.825,1.0],\"showgrid\":true},\"yaxis4\":{\"anchor\":\"x4\",\"domain\":[0.8639999999999999,0.9999999999999999],\"showgrid\":true},\"xaxis5\":{\"anchor\":\"y5\",\"domain\":[0.0,0.175],\"showgrid\":true},\"yaxis5\":{\"anchor\":\"x5\",\"domain\":[0.6479999999999999,0.7839999999999999],\"showgrid\":true},\"xaxis6\":{\"anchor\":\"y6\",\"domain\":[0.275,0.45],\"showgrid\":true},\"yaxis6\":{\"anchor\":\"x6\",\"domain\":[0.6479999999999999,0.7839999999999999],\"showgrid\":true},\"xaxis7\":{\"anchor\":\"y7\",\"domain\":[0.55,0.7250000000000001],\"showgrid\":true},\"yaxis7\":{\"anchor\":\"x7\",\"domain\":[0.6479999999999999,0.7839999999999999],\"showgrid\":true},\"xaxis8\":{\"anchor\":\"y8\",\"domain\":[0.825,1.0],\"showgrid\":true},\"yaxis8\":{\"anchor\":\"x8\",\"domain\":[0.6479999999999999,0.7839999999999999],\"showgrid\":true},\"xaxis9\":{\"anchor\":\"y9\",\"domain\":[0.0,0.175],\"showgrid\":true},\"yaxis9\":{\"anchor\":\"x9\",\"domain\":[0.43199999999999994,0.568],\"showgrid\":true},\"xaxis10\":{\"anchor\":\"y10\",\"domain\":[0.275,0.45],\"showgrid\":true},\"yaxis10\":{\"anchor\":\"x10\",\"domain\":[0.43199999999999994,0.568],\"showgrid\":true},\"xaxis11\":{\"anchor\":\"y11\",\"domain\":[0.55,0.7250000000000001],\"showgrid\":true},\"yaxis11\":{\"anchor\":\"x11\",\"domain\":[0.43199999999999994,0.568],\"showgrid\":true},\"xaxis12\":{\"anchor\":\"y12\",\"domain\":[0.825,1.0],\"showgrid\":true},\"yaxis12\":{\"anchor\":\"x12\",\"domain\":[0.43199999999999994,0.568],\"showgrid\":true},\"xaxis13\":{\"anchor\":\"y13\",\"domain\":[0.0,0.175],\"showgrid\":true},\"yaxis13\":{\"anchor\":\"x13\",\"domain\":[0.21599999999999997,0.352],\"showgrid\":true},\"xaxis14\":{\"anchor\":\"y14\",\"domain\":[0.275,0.45],\"showgrid\":true},\"yaxis14\":{\"anchor\":\"x14\",\"domain\":[0.21599999999999997,0.352],\"showgrid\":true},\"xaxis15\":{\"anchor\":\"y15\",\"domain\":[0.55,0.7250000000000001],\"showgrid\":true},\"yaxis15\":{\"anchor\":\"x15\",\"domain\":[0.21599999999999997,0.352],\"showgrid\":true},\"xaxis16\":{\"anchor\":\"y16\",\"domain\":[0.825,1.0],\"showgrid\":true},\"yaxis16\":{\"anchor\":\"x16\",\"domain\":[0.21599999999999997,0.352],\"showgrid\":true},\"xaxis17\":{\"anchor\":\"y17\",\"domain\":[0.0,0.175],\"showgrid\":true},\"yaxis17\":{\"anchor\":\"x17\",\"domain\":[0.0,0.13599999999999998],\"showgrid\":true},\"xaxis18\":{\"anchor\":\"y18\",\"domain\":[0.275,0.45],\"showgrid\":true},\"yaxis18\":{\"anchor\":\"x18\",\"domain\":[0.0,0.13599999999999998],\"showgrid\":true},\"xaxis19\":{\"anchor\":\"y19\",\"domain\":[0.55,0.7250000000000001],\"showgrid\":true},\"yaxis19\":{\"anchor\":\"x19\",\"domain\":[0.0,0.13599999999999998],\"showgrid\":true},\"xaxis20\":{\"anchor\":\"y20\",\"domain\":[0.825,1.0],\"showgrid\":true},\"yaxis20\":{\"anchor\":\"x20\",\"domain\":[0.0,0.13599999999999998],\"showgrid\":true},\"annotations\":[{\"font\":{\"size\":16},\"showarrow\":false,\"text\":\"Topic 0\",\"x\":0.0875,\"xanchor\":\"center\",\"xref\":\"paper\",\"y\":0.9999999999999999,\"yanchor\":\"bottom\",\"yref\":\"paper\"},{\"font\":{\"size\":16},\"showarrow\":false,\"text\":\"Topic 1\",\"x\":0.36250000000000004,\"xanchor\":\"center\",\"xref\":\"paper\",\"y\":0.9999999999999999,\"yanchor\":\"bottom\",\"yref\":\"paper\"},{\"font\":{\"size\":16},\"showarrow\":false,\"text\":\"Topic 2\",\"x\":0.6375000000000001,\"xanchor\":\"center\",\"xref\":\"paper\",\"y\":0.9999999999999999,\"yanchor\":\"bottom\",\"yref\":\"paper\"},{\"font\":{\"size\":16},\"showarrow\":false,\"text\":\"Topic 3\",\"x\":0.9125,\"xanchor\":\"center\",\"xref\":\"paper\",\"y\":0.9999999999999999,\"yanchor\":\"bottom\",\"yref\":\"paper\"},{\"font\":{\"size\":16},\"showarrow\":false,\"text\":\"Topic 4\",\"x\":0.0875,\"xanchor\":\"center\",\"xref\":\"paper\",\"y\":0.7839999999999999,\"yanchor\":\"bottom\",\"yref\":\"paper\"},{\"font\":{\"size\":16},\"showarrow\":false,\"text\":\"Topic 5\",\"x\":0.36250000000000004,\"xanchor\":\"center\",\"xref\":\"paper\",\"y\":0.7839999999999999,\"yanchor\":\"bottom\",\"yref\":\"paper\"},{\"font\":{\"size\":16},\"showarrow\":false,\"text\":\"Topic 6\",\"x\":0.6375000000000001,\"xanchor\":\"center\",\"xref\":\"paper\",\"y\":0.7839999999999999,\"yanchor\":\"bottom\",\"yref\":\"paper\"},{\"font\":{\"size\":16},\"showarrow\":false,\"text\":\"Topic 7\",\"x\":0.9125,\"xanchor\":\"center\",\"xref\":\"paper\",\"y\":0.7839999999999999,\"yanchor\":\"bottom\",\"yref\":\"paper\"},{\"font\":{\"size\":16},\"showarrow\":false,\"text\":\"Topic 8\",\"x\":0.0875,\"xanchor\":\"center\",\"xref\":\"paper\",\"y\":0.568,\"yanchor\":\"bottom\",\"yref\":\"paper\"},{\"font\":{\"size\":16},\"showarrow\":false,\"text\":\"Topic 9\",\"x\":0.36250000000000004,\"xanchor\":\"center\",\"xref\":\"paper\",\"y\":0.568,\"yanchor\":\"bottom\",\"yref\":\"paper\"},{\"font\":{\"size\":16},\"showarrow\":false,\"text\":\"Topic 10\",\"x\":0.6375000000000001,\"xanchor\":\"center\",\"xref\":\"paper\",\"y\":0.568,\"yanchor\":\"bottom\",\"yref\":\"paper\"},{\"font\":{\"size\":16},\"showarrow\":false,\"text\":\"Topic 11\",\"x\":0.9125,\"xanchor\":\"center\",\"xref\":\"paper\",\"y\":0.568,\"yanchor\":\"bottom\",\"yref\":\"paper\"},{\"font\":{\"size\":16},\"showarrow\":false,\"text\":\"Topic 12\",\"x\":0.0875,\"xanchor\":\"center\",\"xref\":\"paper\",\"y\":0.352,\"yanchor\":\"bottom\",\"yref\":\"paper\"},{\"font\":{\"size\":16},\"showarrow\":false,\"text\":\"Topic 13\",\"x\":0.36250000000000004,\"xanchor\":\"center\",\"xref\":\"paper\",\"y\":0.352,\"yanchor\":\"bottom\",\"yref\":\"paper\"},{\"font\":{\"size\":16},\"showarrow\":false,\"text\":\"Topic 14\",\"x\":0.6375000000000001,\"xanchor\":\"center\",\"xref\":\"paper\",\"y\":0.352,\"yanchor\":\"bottom\",\"yref\":\"paper\"},{\"font\":{\"size\":16},\"showarrow\":false,\"text\":\"Topic 15\",\"x\":0.9125,\"xanchor\":\"center\",\"xref\":\"paper\",\"y\":0.352,\"yanchor\":\"bottom\",\"yref\":\"paper\"},{\"font\":{\"size\":16},\"showarrow\":false,\"text\":\"Topic 16\",\"x\":0.0875,\"xanchor\":\"center\",\"xref\":\"paper\",\"y\":0.13599999999999998,\"yanchor\":\"bottom\",\"yref\":\"paper\"},{\"font\":{\"size\":16},\"showarrow\":false,\"text\":\"Topic 17\",\"x\":0.36250000000000004,\"xanchor\":\"center\",\"xref\":\"paper\",\"y\":0.13599999999999998,\"yanchor\":\"bottom\",\"yref\":\"paper\"},{\"font\":{\"size\":16},\"showarrow\":false,\"text\":\"Topic 18\",\"x\":0.6375000000000001,\"xanchor\":\"center\",\"xref\":\"paper\",\"y\":0.13599999999999998,\"yanchor\":\"bottom\",\"yref\":\"paper\"},{\"font\":{\"size\":16},\"showarrow\":false,\"text\":\"Topic 19\",\"x\":0.9125,\"xanchor\":\"center\",\"xref\":\"paper\",\"y\":0.13599999999999998,\"yanchor\":\"bottom\",\"yref\":\"paper\"}],\"title\":{\"font\":{\"size\":22,\"color\":\"Black\"},\"text\":\"Text Clusters in Fake News\",\"x\":0.5,\"xanchor\":\"center\",\"yanchor\":\"top\"},\"hoverlabel\":{\"font\":{\"size\":16,\"family\":\"Rockwell\"},\"bgcolor\":\"white\"},\"showlegend\":false,\"width\":800,\"height\":1000},                        {\"responsive\": true}                    ).then(function(){\n",
       "                            \n",
       "var gd = document.getElementById('7255ab31-aba7-4f50-8a25-69df221636df');\n",
       "var x = new MutationObserver(function (mutations, observer) {{\n",
       "        var display = window.getComputedStyle(gd).display;\n",
       "        if (!display || display === 'none') {{\n",
       "            console.log([gd, 'removed!']);\n",
       "            Plotly.purge(gd);\n",
       "            observer.disconnect();\n",
       "        }}\n",
       "}});\n",
       "\n",
       "// Listen for the removal of the full notebook cells\n",
       "var notebookContainer = gd.closest('#notebook-container');\n",
       "if (notebookContainer) {{\n",
       "    x.observe(notebookContainer, {childList: true});\n",
       "}}\n",
       "\n",
       "// Listen for the clearing of the current output cell\n",
       "var outputEl = gd.closest('.output');\n",
       "if (outputEl) {{\n",
       "    x.observe(outputEl, {childList: true});\n",
       "}}\n",
       "\n",
       "                        })                };                });            </script>        </div>"
      ]
     },
     "metadata": {},
     "output_type": "display_data"
    }
   ],
   "source": [
    "text_fake_topic_model.visualize_barchart(width=200, height=200, top_n_topics=20, n_words=10,title=\"Text Clusters in Fake News\")"
   ]
  },
  {
   "cell_type": "code",
   "execution_count": 31,
   "id": "4d8d1333",
   "metadata": {},
   "outputs": [
    {
     "name": "stdout",
     "output_type": "stream",
     "text": [
      "Woodward: Trump Dossier Is a ’Garbage Document’ - Intelligence Chiefs Should ’Apologize’ to Trump - Breitbart \n",
      "\n",
      " On this weekend’s broadcast of “Fox New Sunday,” veteran journalist Bob Woodward said the unverified dossier about   Donald Trump and Russia is a “garbage document. ”  Woodward said, “I think what is under reported here is Trump’s point of view on it. You laid it out when those former CIA people said these things about Trump, that he was a recruited agent of the Russians, and a useful fool, they started this in Trump’s mind, He knows the old adage, once a CIA man, always a CIA man. No one came out and said those people shouldn’t be saying those things, So act two is the briefing when this dossier is put out. ” “I’ve lived in this world for 45 years where you get things and people make allegations, that is a garbage document,” he continued. “It never should have been presented as part of an intelligence briefing. As you suggested, other channels have the White House counsel give it to Trump’s incoming White House counsel. So Trump’s right to be upset about that. I  think if you look at the real chronology and the nature of the battle here, those intelligence chiefs who were the best we had, who are terrific and have done great work. I think they made a mistake here. And when people mistakes, they should apologize. ” Follow Pam Key on Twitter @pamkeyNEN \n",
      "------\n",
      "\n",
      "Trump, Citing No Evidence, Suggests Susan Rice Committed Crime - The New York Times \n",
      "\n",
      " WASHINGTON  —   President Trump said on Wednesday that Susan E. Rice, the former national security adviser, may have committed a crime by seeking to learn the identities of Trump associates swept up in surveillance of foreign officials by United States spy agencies, repeating an assertion his allies in the news media have been making since last week. Mr. Trump gave no evidence to support his claim, and current and former intelligence officials from both Republican and Democratic administrations have said they do not believe Ms. Rice’s actions were unusual or unlawful. The president repeatedly rebuffed attempts by two New York Times reporters to learn more about what led him to the conclusion, saying he would talk more about it “at the right time. ” The allegation by a sitting president was a remarkable escalation  —   and, his critics say, the latest effort to change the story at a time when his nascent administration has been consumed by questions about any role his associates may have played in a Russian campaign to disrupt last year’s presidential election. Since March 4, when Mr. Trump posted on Twitter that President Barack Obama had “wiretapped” him at Trump Tower during the campaign, the president and his allies have repeatedly sought evidence trying to corroborate that claim, despite flat denials from James B. Comey, the director of the F. B. I. and other senior intelligence officials. Wednesday’s interview revealed how Mr. Trump seizes on claims made by the conservative news media, from fringe outlets to Fox News, and gives them a presidential stamp of approval and also increases their reach. Last week, some Republican television commentators asserted that Ms. Rice had improperly leaked the names of Trump associates picked up in surveillance of foreign officials. On Sunday, a conservative writer and conspiracy theorist reported, without identifying his sources, that Ms. Rice had been the one to seek identities of the Trump associates. Other conservative outlets picked up the report, and the Drudge Report website, which has been supportive of Mr. Trump, featured the story prominently. White House officials then accused mainstream news outlets of not giving the story proper coverage. The interview with The Times was supposed to be focused on Mr. Trump’s plans for   spending on the nation’s infrastructure. But moments after it began, the president began talking about Ms. Rice. “I think the Susan Rice thing is a massive story. I think it’s a massive, massive story. All over the world,” Mr. Trump said. “It’s a bigger story than you know,” the president added cryptically, also saying that new information would emerge “in terms of what other people have done also. ” “The Russia story is a total hoax. There has been absolutely nothing coming out of that,” he said. Turning the subject to Ms. Rice, the president said: “What’s happened is terrible. I’ve never seen people so indignant, including many Democrats who are friends of mine. ” Through a spokeswoman, Ms. Rice said, “I’m not going to dignify the president’s ludicrous charge with a comment. ” In an interview with MSNBC on Tuesday, Ms. Rice said she had done nothing wrong. “The allegation is that somehow the Obama administration officials utilized intelligence for political purposes,” Ms. Rice said. “That’s absolutely false. ” Normally, when Americans are swept up in surveillance of foreign officials by intelligence agencies, their identities are supposed to be obscured. But they can be revealed  —   or “unmasked”  —   for national security reasons, and intelligence officials say it is a regular occurrence and completely legal for a national security adviser to request the identities of Americans who are mentioned in intelligence reports. Intelligence officials said any requests that Ms. Rice made would have had to be granted by the intelligence agency that produced the report. In most cases, that would likely have been the National Security Agency, which is responsible for electronic surveillance of foreign officials. “Requests to learn the identity of a U. S. person were not routine, but also not uncommon,” said Stephen Slick, a retired C. I. A. official who served as the senior director for intelligence at the National Security Council under President George W. Bush. Requesting that a name be revealed so that officials could “make sense of an intelligence report was a normal part of the daily intelligence rhythm at the White House, State Department, Defense Department and other national security agencies,” added Mr. Slick, who is now the director of the Intelligence Studies Project at the University of Texas at Austin. It could be a crime if Ms. Rice leaked the name of any American wrapped up in the surveillance net, but she flatly denied doing so in her MSNBC interview. “I leaked nothing to nobody, and never have and never would,” Ms. Rice said. The broader issue of how intelligence collected by the national security apparatus is disseminated and used has long been an animating issue for civil libertarians, a point that Mr. Trump made in the interview. Revelations about American programs for intercepting and mining private data made by Edward J. Snowden, a government contractor, proved deeply embarrassing for the Obama administration in 2013. Mr. Trump declined to say whether he would be willing to declassify some of the information that has been at issue. He also did not explain what he believed was unlawful in his estimation. It is not the first time Mr. Trump has made a provocative allegation without providing supporting evidence. One of the most notorious instances of this was his yearslong claim that Mr. Obama was not born in the United States. Like his statements about Mr. Obama  —   which he walked away from late in the 2016 presidential campaign  —   Mr. Trump’s claims about Ms. Rice have taken hold in the conservative news media, where she has been a target ever since her press appearances after the terrorist attack on a diplomatic outpost in Libya in September 2012. Mr. Trump’s March 4 Twitter message came after reports in conservative news outlets  —   including Breitbart, the website once run by the president’s chief strategist, Stephen K. Bannon  —   claiming that there had been surveillance of some kind against Mr. Trump when he was a candidate. Mr. Trump was widely criticized for the intemperate post, and he began to ask his advisers about how he might be able to investigate the issue. Weeks later, Representative Devin Nunes, the top Republican on the House Intelligence Committee, told reporters that he had learned of new information that Trump associates may have been surveilled in some way. He rushed to the White House to brief the president, even though it was later revealed that the information had come from White House officials. Representative Adam Schiff of California, the top Democrat on the Intelligence Committee, cast Mr. Trump’s comments as part of a broader effort by the president to distract from the investigations into Russia’s interference in the election. The committee is running one of the investigations. “He began by accusing President Obama of a crime without any evidence,” Mr. Schiff said. “He’s now moved on to accusing Susan Rice of a crime without any evidence, and this is sadly how this president operates. ” It “would be a terrible way to do business,” Mr. Schiff added. “It’s a worse way to run a country. ” \n",
      "------\n",
      "\n",
      "Donald Trump Thinks Susan Rice Committed a Crime - Breitbart \n",
      "\n",
      " President Donald Trump said he thinks that President Barack Obama’s former national security adviser Susan Rice committed a crime when she reportedly unmasked American citizens involved with his campaign. [“I think it’s going to be the biggest story,” Mr. Trump said to the New York Times. “It’s such an important story for our country and the world. It is one of the big stories of our time. ” Trump’s remarks are his first public statement on the subject since reports claimed Rice was responsible.  Trump didn’t reveal any new details to the New York Times but said he would explain himself “at the right time. ” \n",
      "------\n",
      "\n",
      "White House: ‘Sad’ That Susan Rice Not Transparent in Unmasking Investigation - Breitbart \n",
      "\n",
      " The White House again hit former National Security Adviser Susan Rice for refusing to testify to Congress regarding allegations that she “unmasked” the identities of Trump campaign aides during the 2016 election. [“I do think that it’s sad that she has chosen not to be transparent in this process,” White House Deputy Press Secretary Sarah Sanders told reporters during the press briefing on Friday.  Sanders added that it was up to Congress whether or not they should subpoena Rice, but that the White House was confident in the investigation. Rice declined a request from the Sen. Lindsey Graham to testify in the investigation into interference in the United States presidential election. “While Ambassador Rice commends the Subcommittee’s efforts to examine this matter of extraordinary national significance, it is extremely rare for the Congress to request the testimony of a former senior advisor to the President,” a letter from Rice’s lawyer read to the committee, citing “separation of powers” concerns. President Donald Trump also reacted to the news, calling it “not good. ” \n",
      "------\n",
      "\n",
      "Donald Trump: ‘Nobody Believes’ Susan Rice \n",
      "\n",
      " President Donald Trump dismissed Susan Rice’s assertion that she did not unmask General Michael Flynn for political reasons. [“Does anybody really believe that?” he asked during an interview with Fox Business host Maria Bartiromo. “Nobody believes that, even the people that try to protect her in the news media. ”  Trump reasserted his claim, adding that he and “so many other people” were the victims of surveillance and boasted that he was correct when he accused the Obama administration of wiretapping his team at Trump Tower. “So many people are coming up to me and apologizing now.   …     Perhaps I didn’t know how right I was,” he said. To defend his claim, Trump again cited the New York Times article with the word “wiretapped” in the headline of the print edition, pointing out that it was a huge story. “What they did was horrible,” he said. \n",
      "------\n",
      "\n",
      "Blue State Blues: The White House Loves the Russia ’Scandal’ - Breitbart \n",
      "\n",
      " The Trump White House seems quietly to be enjoying the Russia hacking “scandal. ”[Certainly it has its    frustrations, especially for Sean Spicer, who has to face the press corps and its obsession with meaningless minutiae.  But the joke is on the journalists. They are spending so much time on the   that they are missing what President Donald Trump is actually doing. He complains on Twitter about the coverage, but the truth is that the distraction is very useful. The “scandal” is no longer about Russia. Now it is about how House Intelligence Committee chair Devin Nunes ( ) found information backing up Trump’s claims that his team was under surveillance by the Obama administration. Was Nunes approached by whistleblowers who came to his congressional office? Or were the whistleblowers sent by the White House to Nunes? It makes no difference at all, but the media think they are onto something very important. CNN called it a “” without specifying what, exactly, Nunes was supposed to be “covering up. ” And the answer is: nothing. Even if  —   for argument’s sake  —   the White House had approached Nunes rather than the other way around, the worst that could be said about it is that Nunes behaved like a partisan Republican. If so, he is no more partisan than ranking member Rep. Adam Schiff ( ) who is abusing his position to launch conspiracy theories against the GOP. The core of Schiff’s case, as presented at the House Intelligence Committee last Monday, is a lie  —   namely, the false claim that the Republican Party altered its platform at the behest of Trump aides in order to appease the Russians. As Byron York of the Washington Examiner has demonstrated, the Republican platform was “was actually strengthened, not weakened” against Russia. Schiff is still pretending that some other evidence will emerge on   ties. But the idea Russia colluded with the Trump campaign is ludicrous, for three reasons. The first is there is no evidence whatsoever to support that claim. Obama’s own James Clapper and Mike Morell even said so  —   though it took Trump’s tweets about “wiretapping” to flush them out of hiding. Second, the Russians could not have known that Trump would win, and would not have targeted Clinton alone when it seemed that she could exact punishment once she took office. The third reason is that Hillary Rodham Clinton was arguably the most   official since Alger Hiss. From the Russian “reset,” to giving up missile defense, to the   New START treaty, to the uranium giveaway, to the loss of the Middle East, and to the loss of the Crimea (which happened on her successor’s watch, while she remained silent) Clinton ran the State Department almost like a   satellite. Indeed, if Donald Trump really wanted to appease Russian President Vladimir Putin, it would be hard to find anything left with which to appease him. The Russians saw Trump’s criticism of NATO as useful, and applauded him. But they likely preferred Clinton. Already, Trump has been much tougher on Russia than Obama ever was. From blasting Russia at the UN Security Council over the eastern Ukraine, to threatening to tear up the New START treaty, Trump has opposed Putin  —   and it shows. Trump foreign policy adviser Sebastian Gorka, formerly of Breitbart News, is also a vociferous critic of Russia. So the Russia “scandal” is much ado about nothing. But it keeps the media distracted from what Trump is really doing  —   such as taking a chainsaw to Obama’s regulations  —   and it keeps the Democrats from developing an actual message. The beauty of it all? Aside from Trump’s tweets, the media and the Democrats are creating this distraction themselves. Joel B. Pollak is Senior    at Breitbart News. He was named one of the “most influential” people in news media in 2016. His new book, How Trump Won: The Inside Story of a Revolution, is available from Regnery. Follow him on Twitter at @joelpollak. \n",
      "------\n",
      "\n",
      "Glenn Greenwald: Dems ‘Suddenly Love Leaks,’ But Attacked Them Under Obama - Breitbart \n",
      "\n",
      " Sunday on CNN’s “Reliable Sources,” Glenn Greenwald said Democrats who “suddenly love leaks” about President Donald Trump’s administration thought people who leaked to the media during the Obama administration were “villains,” “traitors,” and “they ought to go to prison. ”  Greenwald said, “The problem is if you look at the last eight years, there has been a very concerted war on not just sources and whistleblowers, but also journalists, implemented by not Donald Trump but by the Obama administration. More sources prosecuted under the 1917 Espionage Act than in all previous administrations combined. Journalists such as James Rosen at Fox News and Jim Risen at The New York Times and those of us who worked on the Snowden reporting constantly threatened with prosecution or having our phone records subpoenaed and the like. ” “And Democratic officeholders in D. C. were virtually unanimous in the idea that people who leak information that’s classified are villains, they’re traitors, they ought to go to prison,” he continued. “This framework has been created both rhetorical and legal over the last eight years that says that people who leak classified information regardless of how important that information is ought to be punished. That’s the rhetoric and framework that Donald Trump is seizing on. And it the reason it’s been so damaging to have watched Democrats who suddenly love leaks now that it’s helping them have wage such an aggressive war on journalism and investigate reporting over the last eight years. ” Follow Pam Key on Twitter @pamkeyNEN \n",
      "------\n",
      "\n",
      "Rand Paul: Susan Rice ’Ought to Be Under Subpoena,’ Asked If Obama Knew About Eavesdropping - Breitbart \n",
      "\n",
      " Tuesday on MSNBC’s “Morning Joe,” Sen. Rand Paul ( ) called on former National Security Advisor Susan Rice to be brought in front of Congress under subpoena and asked questions about allegations she was behind the unmasking of American identities in raw surveillance.  Paul also said she should be asked about former President Barack Obama’s knowledge of these alleged activities. “For years, both progressives and libertarians have been complaining about these backdoor searches,” Paul said. “It’s not that we’re searching maybe one foreign leader and who they talk to we search everything in the whole world. There were reports a couple of years ago that all of Italy’s phone calls were absorbed in a one month period of time. We were getting Merkel’s phone calls we were getting everybody’s phone calls. But by rebound we are collecting millions of Americans phone calls. If you want to look at an American’s phone call or listen to it, you should have to have a warrant, the old fashioned way in a real court where both sides get represented. ” “But a secret warrant by a secret court with a lower standard level because we’re afraid of terrorism is one thing for foreigners but both myself and a Progressive Ron Wyden have been warning about these back door searches for years and that they could be politicized,” he continued. “The facts will come out with Susan Rice. But I think she ought to be under subpoena. She should be asked did you talk to the president about it? Did President Obama know about this? So this is actually, eerily similar to what Trump accused them of which is eavesdropping on conversations for political reasons. ” Follow Jeff Poor on Twitter @jeff_poor \n",
      "------\n",
      "\n",
      "Judge Jeanine: ’There’s a Leaker in the White House’ Who ’Must Be Taken Out’ - Breitbart \n",
      "\n",
      " During her Saturday opening statement on Fox News Channel’s “Justice,” host Jeanine Pirro warned that if President Donald Trump does not find the “traitor” who is leaking information from the White House, then the country may be in “big trouble. ”  “[T]he president in coming home still has one huge problem and it’s not Russia, it’s not the Democrats, it’s not any of its haters,” Pirro said. “And if he doesn’t fix this problem, we are in big trouble. What is it? The leaks. Yes, leaks. There is a leaker in the White House. There is a traitor inside the people’s house  —   a traitor who must be taken out. That person is an enemy of the United States. That person [is] doing enormous damage not just for the president, who is certainly capable of taking care of himself, but instead to our nation. ” “This leaker needs to be found immediately, no holds barred,” she added. Follow Trent Baker on Twitter @MagnifiTrent \n",
      "------\n",
      "\n",
      "House Intel Chairman: No Evidence of Contacts Between Trump Campaign, Russian Agents - Breitbart \n",
      "\n",
      " The chairman of the House Permanent Committee on Intelligence told reporters at the Capitol Monday he has yet to see evidence of contacts between President Donald Trump’s campaign and individuals in the Russian government or part of its extensive network of affiliated persons. [“As of right now, we have no evidence, but we will continue to ask for evidence and look for evidence,” said Rep. Devin Nunes (R. .) who called the press conference to deal with a number of issues, including a New York Times report that the members of the Trump campaign were in contact with Russian intelligence and that he was pressured by the White House to call reporters to knock down the Times story. ”  Nunes said his committee had not concluded its probe into contact between Russian operatives and any of the presidential campaigns. “Not only the three Americans named in that story but also any Americans with the Russians. ” Trump’s national campaign chairman Paul Manafort was named in the Times report, but the other two individuals were not named. Manafort resigned from the Trump campaign Aug. 19, shortly after the Republican National Convention. The hauling of citizens before a congressional hearing based on media reports would bring back the days of McCarthyism, he said. “I am trying to be very careful,” he said. “We can’t have the government —  the U. S. government —    the Congress or another branch of the government chasing down American citizens, calling them before the Congress as if they are some sort of secret Russian agents,” he said. “That is what I am concerned about here —   that we go off on some witch hunt against American citizens just because they appear in a press story somewhere. ” The congressman said he has yet to see any sign that members of the Trump campaign or transition team broke any laws dealing with foreign governments. There were, however, contacts between the Trump camp and the Russians that were completely   he said. After President Barack Obama issued his Dec. 29 sanctions against Russia, retired Army Lt. Gen. Michael Flynn, then designated to serve as Trump’s National Security Adviser, spoke to Russian Ambassador Sergey Kislyak a number of times. Those conversations were wiretapped by the Department of Justice and transcripts of the conversations were given to media outlets. If anything, the FBI should focus on how a DOJ wiretap transcript that had to be approved by the classified Foreign Intelligence Surveillance Court went public, which is indisputably a crime, he said. Nunes said that even if Flynn discussed Obama’s December sanctions, he would have no problem —  even if Flynn told the Russians that the incoming Trump administration would ignore or ease that round of sanctions. Flynn has maintained that he did not discuss the sanctions. “If the discussions occurred around ensuring that there was no overreaction by the Russian government, so that the new administration could do like all the other previous administrations, who thought they could work with Putin, all three have been wrong,” Nunes said. “If that is just what General Flynn did, to try and keep the lines of communications open,” he said. “That did us a big favor. ” This comment incensed CNN reporter Jim Sciutto. Sciutto called out to the congressman: “Do you want an administration negotiating against another? Isn’t that one U. S. administration negotiating —  ” The congressman subdued a smirk as he cut Sciutto off, saying, “You want to investigate the Logan Act? You’re a Logan Act guy?” The 1799 Logan Act bans American citizens from negotiating with a foreign power without the approval of the federal government. Sciutto: “I didn’t mention the Logan Act, I’m just saying that if one administration —  ” Nunes cut him off again: “The Logan Act is ridiculous. You guys all know that. ” No one has ever been prosecuted for violating the Logan Act. The other contentious    was between the chairman and reporters, who kept insisting that there was something nefarious about the White House asking Nunes to talk to a reporter about the New York Times story. “It was kind of an odd story, I thought,” the congressman said. CNN reporter Manu Raju asked Nunes if he felt that his integrity was compromised when he spoke to the reporter at the behest of the White House. Nunes said he was not compromised at all. “If the White House asked me to talk to a reporter —     it was one reporter —  if the White House asked me to talk to you? Would that be OK or not OK?” Raju was silent for a long moment, then asked, “What is your response to that?” Raju: “You’re investigating this matter, the White House is urging you to knock down these stories that are leaving questions —  ” Nunes: “That doesn’t happen. That absolutely doesn’t happen. ” Following the press conference, Nunes met with other Republican members of the intelligence committee. As the committee moves forward with its investigation into Russian involvement in the 2016 election cycle, he pledged to hold regular press availabilities. \n",
      "------\n",
      "\n"
     ]
    }
   ],
   "source": [
    "# Filter above data frame by topic 2 only:\n",
    "topic_fake_df = pd.DataFrame({\"topic\": text_fake_topics, \"document\": text_fake, \"title\": title_fake})\n",
    "topic_fake = topic_fake_df[topic_fake_df.topic == 2]\n",
    "for i in range(10):\n",
    "    print(topic_fake['title'].values[i], \"\\n\\n\", topic_fake['document'].values[i], \"\\n------\\n\")"
   ]
  },
  {
   "cell_type": "markdown",
   "id": "b5d3904d",
   "metadata": {},
   "source": [
    "The above articles in Topic 2 draws heavily from Breitbart."
   ]
  },
  {
   "cell_type": "code",
   "execution_count": 32,
   "id": "866e5aec",
   "metadata": {},
   "outputs": [
    {
     "name": "stdout",
     "output_type": "stream",
     "text": [
      "After Berkeley, Treat the Violent, Anti-Speech Left Like the KKK \n",
      "\n",
      " The violence that stopped Breitbart tech editor Milo Yiannopoulos from speaking at the University of California, Berkeley this week happened after some incredibly irresponsible statements by university administrators and local politicians. [Berkeley Mayor Jesse Arreguin tweeted that Milo’s “hate speech” was not “welcome in our community. ” UC Berkeley Chancellor Nicholas Dirks said that the university not only opposed Milo’s views, but also his ostensibly harmful presence on campus.  Yet most of the blame must lie squarely with the rioters, who include Black Bloc anarchists and   “Antifa” ( ) activists, who exemplify the very fascism they supposedly want to resist. These groups openly and explicitly declare their intention to disrupt public gatherings where conservatives  —   or, really, anyone they do not like for whatever reason  —   are scheduled to appear. They not only celebrate violence, but they come armed, masked, and prepared to fight and vandalize. Were these groups merely showing up at events to protest  —   to express their views without silencing others  —   they would be perfectly entitled to do so. But lately, they have taken advantage of the timidity of the police  —   which they helped engineer, through their participation in the Black Lives Matter movement  —   to run amok, breaking up events and assaulting innocent people in full view of law enforcement officers and even the media. They are almost never pursued and never punished. Consider this, from the Berkeley campus newspaper, the Daily Californian: while there were three arrests made Wednesday  —    two in connection with violence earlier in the day  —   only one of them was made by campus police at the protest itself, despite the violence. As for the city police, “[a]ccording to Berkeley Police Department spokesperson Officer Byron White, the city of Berkeley did not make any arrests in connection with the protests Wednesday night,” the Daily Californian reported. The groups that showed up Wednesday seem to exist to prevent others from exercising their civil and constitutional rights of free speech and assembly. It is time to treat them the way that the Southern Poverty Law Center  —   before it busied itself with suppressing conservative opinion  —   took on the Ku Klux Klan. It filed a civil suit against the KKK under a theory of agency, wherein the organization was held collectively responsible for any and all of the crimes and civil rights violations its members committed in furtherance of its aims. In this case, that would mean holding radical   groups collectively accountable for damage and civil rights violations by individuals at any particular protest  —   whether of Milo in Berkeley or Gavin McInnes in New York. An objection might be raised: these groups are  . That is, they are just a bunch of kids with Twitter accounts. Unlike the KKK, which had a national headquarters that it was forced to hand over to a black woman because of a $7 million civil judgment over the murder of her son, there are no assets to seize, no institutions to shut down, no one financially liable. Well, maybe. In at least some cases, there is a paper trail connecting disruptive protests to large,   organizations. In October 2016, Breitbart News reported that the George   Democracy Alliance had funded   groups with “materials, food, supplies, stipends and bail funds to sustain and escalate their disruption of business as usual. ” A document obtained by Breitbart News showed the Democracy Alliance taking credit for participating in the “uprising in Baltimore. ” It is well past time for the government, or conservative legal foundations, to pursue the donors behind groups that proudly and deliberately prevent others from exercising their civil rights. And it is time to shame them: the black masks of the Black Bloc and   “Antifa” activists should be regarded like the white hoods of the Klan  —   as the uniforms of extremist hatred. Joel B. Pollak is Senior    at Breitbart News. He was named one of the “most influential” people in news media in 2016. His new book, How Trump Won: The Inside Story of a Revolution, is available from Regnery. Follow him on Twitter at @joelpollak. \n",
      "------\n",
      "\n",
      "MILO Berkeley Event Evacuated as Masked Protesters Light Fires, Storm Venue - Breitbart \n",
      "\n",
      " MILO’s event at UC Berkely was cancelled and the venue evacuated over an hour before it was scheduled to begin, after masked   protesters stormed the venue, overturning police barricades and lighting fires. [The event devolved rapidly after the arrival of a large number of   protesters, who immediately stormed the venue’s barricades, threw fireworks towards police officers, and lit fires.  @berkeleyside: Protestors dressed in masks and black clothing join demonstration against Yiannopoulos. Rocks thrown at @UCPD_Cal pic. twitter.   —   Carlo David (@carlodavid1115) February 2, 2017,  Light stand fully engulfed, setting tree above on fire  …    @UCBerkeley #MiloYiannopoulos appearance canceled. pic. twitter.   —   Laura Anthony (@LauraAnthony7) February 2, 2017,  Protesters rush toward barricade before fires, fireworks go off at #MiloYiannopulous protest in #Berkeley: https:  . . pic. twitter.   —   ABC7 News (@abc7newsbayarea) February 2, 2017,  Multiple fires have been recorded on video, and police are attempting to subdue the crowd with rubber bullets. Police have advised members of the public to stay away from the area surrounding the venue. . @UCBerkeley For your safety, stay area from Sproul Plaza and @ASUC_Union Union #miloatcal @CalSurvivor,  —   UC Police, Berkeley (@UCPD_Cal) February 2, 2017,  A live video stream of the protest and coverage can be found here. ABC7’s reporter stated earlier that there have not yet been any attempts to put out the fire, and that police had withdrawn from the balcony above the crowd where they had previously been stationed. According to the reporter, police issued a dispersal order to the crowd, declaring it an unlawful assembly, but they have not yet attempted to move the protesters out of the plaza. In a comment, MILO said “At Berkeley, once the home of the free speech movement, leftists tried to set a building on fire to stop me speaking. Leftist violence is now completely out of control. Soon it’ll be the conservatives that’ll need safe spaces   …     with armed guards and fire extinguishers!” DEVELOPING   …     \n",
      "------\n",
      "\n",
      "Donald Trump Threatens to Cancel Berkeley Federal Funds After Riots Shut Down Milo Event \n",
      "\n",
      " President Donald Trump reacted to the massive rioting at   in response to a scheduled campus speech by Breitbart News editor Milo Yiannopoulos. [“If U. C. Berkeley does not allow free speech and practices violence on innocent people with a different point of view  —   NO FEDERAL FUNDS?” Trump wrote on Twitter early Thursday morning.  News of the rioting made cable news last night as students smashed ATMs and bank windows, looted a Starbucks, beat Trump supporters, pepper sprayed innocent individuals, and set fires in the street. Others spray painted the words “Kill Trump” on storefronts. The speech was canceled by   police as security failed. Yiannopoulos was evacuated from the area. “The left is profoundly antithetical to free speech these days, does not want to hear alternative points of view, and will do anything to shut it down,” Yiannopoulos told Fox News host Tucker Carlson in an interview on Wednesday night. “My point is being proven over and over and over again. ”     \n",
      "------\n",
      "\n",
      "School Parade in Taiwan Featuring Swastikas and Nazis Unleashes Uproar - The New York Times \n",
      "\n",
      " TAIPEI, Taiwan  —   A high school parade in Taiwan in which students dressed as Nazi soldiers and carried swastika banners has created a storm of criticism in one of Asia’s most open societies. Hsinchu   High School in Hsinchu City held the parade, which focused on Adolf Hitler, as part of the school’s anniversary celebrations on Friday. The parade also featured cardboard tanks. The students chose the theme, according to local news reports. Photographs of the event spread quickly online, creating a backlash, with the unofficial diplomatic missions of Israel and Germany issuing letters of protest. The episode resulted in the resignation of the school’s principal, Cheng   this week. Mr. Cheng said that he took responsibility, adding that the primary issue was “our education’s problem,” according to local news reports. “It wasn’t necessarily a problem created by the children. ” Taiwanese textbooks, like those in other Asian countries, focus on fighting in Asia during World War II, resulting in lower awareness of events in Europe. In addition to the Israeli and German missions’ responses, the Chabad Taipei Jewish Center also issued a statement expressing regret about “the use of Nazi imagery and logos by students in Taiwan, as it reopens historical wounds suffered by the Jewish people. ” Ross Feingold, chairman of the center, said that many people in Taiwan were unaware that there were more than 1, 000 Jews living among them, many of them   residents with businesses or investments on the island. “Certainly it’s not meant to be an act of ” Mr. Feingold said. “Holocaust education is extremely limited here. ” The parade in Hsinchu is not the first incident in which Nazi references have offended Jews and other groups in Taiwan. In 1999, an advertisement for   DBK space heaters in Taiwan featured a smiling Hitler with the caption, “Declare war on the cold front!” The next year, a restaurant with a concentration camp theme opened, closing weeks after it became a source of outrage. In 2001, the governing Democratic Progressive Party created a television advertisement contrasting Hitler with John F. Kennedy and other leaders, which the party modified after protests from the Israel Economic and Cultural Office in Taipei and others. Officials at the school, which is private but receives subsidies from Taiwan’s Ministry of Education, have said they will show their students movies such as “Schindler’s List” to better educate them on the atrocities of the Holocaust. “A   showing of a movie is not a sustainable program,” Mr. Feingold said. “What is more sustainable is reaching out to the Jewish community that lives here in Taiwan, many of whom have relatives who died in or survived the Holocaust. ” \n",
      "------\n",
      "\n",
      "High School Assistant Principal Resigns After Cursing at Pro-Life Student Activists - Breitbart \n",
      "\n",
      " The assistant principal of a Pennsylvania high school has resigned after a video of him berating   student activists went viral.[  Assistant principal Zach Ruff, who was filmed berating and cursing at      activists, resigned the day after a petition defending Ruff circulated online with more than 50, 000 signatures. Ruff was placed on administrative leave on April 21 after the video of his interaction with the young activists went viral. “You can go to hell where they are too,” he said pointing at pictures of aborted children. “They’re not children! They’re cells!” “Listen here, son, alright? I am as gay as the day is long, and twice as sunny. I don’t give a fuck what you think Jesus tells me about what I should and should not be doing,” Ruff barked. “You’re acting very immaturely. I’m 16 and you’re yelling at me,” one of the teens responded. The school said Ruff resigned from his position in a news release. “Dr. Ruff has acknowledged that the demonstrators had a right to be on a public sidewalk,” the news release said. “He acknowledged that his conduct cannot be defended or condoned, and he deeply regretted his actions as displayed on the video. This school district will not interfere with the rights of anyone to express themselves. ” “In reviewing the video Dr. Ruff knew that the conduct he displayed was not representative of who he is and was not representative of the kind of educational leader he prided himself on being,” the news release added. Tom Ciccotta is a libertarian who writes about economics and higher education for Breitbart News. You can follow him on Twitter @tciccotta or email him at tciccotta@breitbart. com \n",
      "------\n",
      "\n",
      "’Dilbert’ Creator Scott Adams to Stop Donating to Alma Mater UC Berkeley - Breitbart \n",
      "\n",
      " Dilbert creator Scott Adams announced in a blog post that he will stop donating to this alma mater, UC Berkeley, in the aftermath of the riots that erupted on campus last week in response to a scheduled event featuring Breitbart editor MILO. [Adams, who earned an MBA degree at UC Berkeley, announced that he is terminating his support of the public institution over concerns that he wouldn’t “feel safe or welcome on campus. ”  Speaking of Hitler, I’m ending my support of UC Berkeley, where I got my MBA years ago. I have been a big supporter lately, with both my time and money, but that ends today. I wish them well, but I wouldn’t feel safe or welcome on the campus. A Berkeley professor made that clear to me recently. He seems smart, so I’ll take his word for it. I’ve decided to side with the Jewish gay immigrant who has an   boyfriend, not the hypnotized   in black masks who were clubbing people who hold different points of view. I feel that’s reasonable, but I know many will disagree, and possibly try to club me to death if I walk on campus. Adams writes that a Berkeley professor “made it clear” to him that he wouldn’t be welcome on campus due to his political beliefs. In July 2016, Adams regularly placed a disclaimer at the bottom of his blog posts which claimed that his endorsement of Hillary Clinton was made out of concern for his personal safety. Note: I endorsed Hillary Clinton  —   for my personal safety  —   because I live in California. It isn’t safe to be viewed as a Trump supporter where I live. My politics don’t align with either candidate, but backing Clinton reduces my odds of dying at the hands of my fellow citizens. (And yes, I am 100% serious. It just happens to be funny by coincidence.) Adams frequently praised President Trump during his run for the White House and was one of the few public figures who predicted his victory. \n",
      "------\n",
      "\n",
      "University of Arizona Instructs Students to Say ’Ouch!’ when Offended - Breitbart \n",
      "\n",
      " The University of Arizona’s College of Humanities is instructing students to say “ouch!” when they are offended by a faculty member or classmate. [The guidelines for how to respond to offensive speech is outlined in a new handbook for faculty, which is entitled “Diversity and Inclusiveness in the Classroom. ”  Students are instructed to use “ouch” to indicate that they have been offended. Offenders are instructed to use “oops” to signify their acknowledgment that their words have offended one of their peers. “This document is intended to be a resource for addressing difficult or challenging topics in the classroom. ” Although faculty members are not “required to utilize” the handbook, they are encouraged to utilize it so that they can best “engender the broadest possible perspectives” and “maximize free speech in the classroom,” as the handbook claims. Some criticized the public institution for the expense at which the “ ” initiative has been introduced. Jesus Trevino, the university’s Vice Provost for Inclusive Excellence, is paid $214, 000 per year to develop diversity and inclusion themed programming for the community and instructional material for the faculty. Similar programs have been introduced at other institutions around the country. Several schools have licensed a program from the website, ouchthatstereotypehurts. com, which is a $700 program that guides administrators in addressing racial aggressions on campus.  Tom Ciccotta is a libertarian who writes about education and social justice for Breitbart News. You can follow him on Twitter @tciccotta or email him at tciccotta@breitbart. com,   \n",
      "------\n",
      "\n",
      "Applications Open For the Yiannopoulos Privilege Grant - Breitbart \n",
      "\n",
      " Applications for the Yiannopoulos Privilege Grant, a college tuition grant created by Breitbart News Senior Editor MILO exclusively for white men, are now being accepted.[  “The Yiannopoulos Privilege Grant, launched by Milo Yiannopoulos and funded by Milo and private donors to provide college funding assistance to white males, is pleased to announce that applications for its pilot program are now being accepted to receive grants of $2, 500,” announced the grant in a post on Tuesday. “The application period will close on February 14th, 2017, and recipients will be announced on March 31st, 2017. Grant payments will be made directly to the recipient’s college or university immediately pending IRS approval. ” As well as announcing the acceptance of applications, MILO has also hired a new Selection Committee Chairman, Janet Bloomfield, to overview the applications which are to students who are “attending or accepted to a two year community college or a four year college or university. ” “My initiative to help white men further their education is now accepting applications. We’ve given it the brilliant name of the Yiannopoulos Privilege Grant,” declared MILO on stage during his show at Cal Poly State University on Tuesday. “No this isn’t a joke. ” “It started as a joke, but if you’re a women, or you’re black  …     If you’re disabled, or you’re Muslim, or a refugee  …     If you identify as an attack helicopter, you can get free money,” he continued. “But the facts say that actually it is young white boys who are educationally underprivileged. As educationally underprivileged as many other groups. So it did start as a joke, but nobody can resist the truth wrapped in a good joke, and there’s nothing better than doing good while annoying the left. It is my favorite thing. ” “So I, and a number of private donors, have created this thing  …     My goal is to help more men, no matter their major or political opinions, reach their educational goals. You can even major in gender studies, I don’t care,” MILO joked. “Now although it took longer than I anticipated to set up the privilege grant, I’m happy we’re now well on our way to help young men achieve their dreams. I hope everyone in the room applies, I hope everyone watching at home applies. ” “Men, as you may know, make up just 43% of America’s 20. 5 million college students,” explained MILO in conclusion. “Yet another way in which the feminist consensus about the oppressive patriarchy simply doesn’t bear any relation to the facts. And that number’s getting smaller. So it’s all very well for social justice warriors and progressives to cry and scream and talk about ‘changing things and making a difference and standing up,’ but then there are those of us who are actually doing something for, which now in higher education, is a minority group. ” You can apply for the Yiannopoulos Privilege Grant here. Charlie Nash is a reporter for Breitbart Tech. You can follow him on Twitter @MrNashington or like his page at Facebook. \n",
      "------\n",
      "\n",
      "Comedy Central’s Trevor Noah on Ann Coulter at Berkeley: ’They Should Just Let Her Speak’ - Breitbart \n",
      "\n",
      " Thursday on Comedy Central’s “The Daily Show,” host Trevor Noah made his case for   to allow conservative commentator Ann Coulter to speak.  After mocking her, he argued her detractors should relent and allow her to speak, but also said that she didn’t actually want to speak at Berkeley. “[L]ook man, she’s right about the free speech thing, but here’s my opinion,” he said. “Even though Ann Coulter is clearly trolling and doing this for the publicity of not letting her speak, they should just let her speak. Because you realize, she doesn’t actually want to speak. She wants to be stopped from speaking. ” “The truth is, a side effect of free speech is that there will always be hate speech,” Noah added. “If you ban one, you risk banning the other. Like you might call Ann Coulter ‘hate speech,’ but then what’s to stop Jeff Sessions from calling Black Lives Matter ‘hate speech?’ If there is one idea America has given the world, it’s the idea of absolute free speech. ” (  Daily Beast) Follow Jeff Poor on Twitter @jeff_poor \n",
      "------\n",
      "\n",
      "Students Claim Objective ’Truth’ Is a ’White Supremacist’ Myth - Breitbart \n",
      "\n",
      " Students at the Claremont McKenna Colleges argued that objective truth is a social construct devised by “white supremacists” to “attempt to silence oppressed peoples” in a letter to the Pomona College president. [The letter came in response to Pomona College President David Oxtoby’s affirmation of commitment to free speech and intellectual diversity following the chaos that ensued during a lecture featuring Manhattan Institute scholar Heather MacDonald. Student protesters derailed her lecture on the rise of   attitudes by banging on windows and shouting, “F*ck the police,” and “Black Lives Matter. ” Campus security ultimately forced MacDonald to livestream her lecture from a   room across campus.  “Protest has a legitimate and celebrated place on college campuses,” Oxtoby wrote, offering a condemnation of the conduct of the students who disrupted the event. “What we cannot support is the act of preventing others from engaging with an invited speaker. Our mission is founded upon the discovery of truth, the collaborative development of knowledge and the betterment of society. ” Students at Pomona College, one of the schools in the consortium of Claremont McKenna Colleges, took issue with Oxtoby’s statement and drafted a letter in response that was signed by students at the other colleges as well. “Free speech, a right many freedom movements have fought for, has recently become a tool appropriated by hegemonic institutions. It has not just empowered students from marginalized backgrounds to voice their qualms and criticize aspects of the institution, but it has given those who seek to perpetuate systems of domination a platform to project their bigotry,” the students wrote. “Thus, if ‘our mission is founded upon the discovery of truth,’” the students continued, “how does free speech uphold that value?” Immediately dismissing the possibility that listening to MacDonald’s lecture could widen their perspective, the students went on to explain how objective truth is a concept devised by “white supremacists” in an “attempt to silence oppressed peoples. ” Historically, white supremacy has venerated the idea of objectivity, and wielded a dichotomy of ‘subjectivity vs. objectivity’ as a means of silencing oppressed peoples. The idea that there is a single truth —  ’the Truth’ —  is a construct of the   that is deeply rooted in the Enlightenment, which was a movement that also described Black and Brown people as both subhuman and impervious to pain. This construction is a myth and white supremacy, imperialism, colonization, capitalism, and the United States of America are all of its progeny. The idea that the truth is an entity for which we must search, in matters that endanger our abilities to exist in open spaces, is an attempt to silence oppressed peoples. The students go on to claim that Heather MacDonald is “ignorant of interlocking systems of domination that produce the lethal conditions under which oppressed peoples are forced to live,” which is an explicit reference to the concept of intersectionality, an increasingly popular theory of oppression which conservative columnist Andrew Sullivan recently called a “religion. ” Tom Ciccotta is a libertarian who writes about economics and higher education for Breitbart News. You can follow him on Twitter @tciccotta or email him at tciccotta@breitbart. com \n",
      "------\n",
      "\n"
     ]
    }
   ],
   "source": [
    "# Filter above data frame by topic 4 only:\n",
    "topic_fake_df = pd.DataFrame({\"topic\": text_fake_topics, \"document\": text_fake, \"title\": title_fake})\n",
    "topic_fake = topic_fake_df[topic_fake_df.topic == 4]\n",
    "for i in range(10):\n",
    "    print(topic_fake['title'].values[i], \"\\n\\n\", topic_fake['document'].values[i], \"\\n------\\n\")"
   ]
  },
  {
   "cell_type": "markdown",
   "id": "af830972",
   "metadata": {},
   "source": [
    "# Instances of news with Breitbart in title"
   ]
  },
  {
   "cell_type": "code",
   "execution_count": 36,
   "id": "11e522a0",
   "metadata": {},
   "outputs": [
    {
     "data": {
      "text/html": [
       "<div>\n",
       "<style scoped>\n",
       "    .dataframe tbody tr th:only-of-type {\n",
       "        vertical-align: middle;\n",
       "    }\n",
       "\n",
       "    .dataframe tbody tr th {\n",
       "        vertical-align: top;\n",
       "    }\n",
       "\n",
       "    .dataframe thead th {\n",
       "        text-align: right;\n",
       "    }\n",
       "</style>\n",
       "<table border=\"1\" class=\"dataframe\">\n",
       "  <thead>\n",
       "    <tr style=\"text-align: right;\">\n",
       "      <th></th>\n",
       "      <th>id</th>\n",
       "      <th>title</th>\n",
       "      <th>text</th>\n",
       "      <th>label</th>\n",
       "    </tr>\n",
       "  </thead>\n",
       "  <tbody>\n",
       "    <tr>\n",
       "      <th>11413</th>\n",
       "      <td>11413</td>\n",
       "      <td>Samantha Bee: Who Gives A F**K About Trump, Th...</td>\n",
       "      <td>Samantha Bee: Who Gives A F**K About Trump, Th...</td>\n",
       "      <td>1</td>\n",
       "    </tr>\n",
       "    <tr>\n",
       "      <th>12106</th>\n",
       "      <td>12106</td>\n",
       "      <td>Statistical Tie: Latest Breitbart/Gravis Poll ...</td>\n",
       "      <td>Statistical Tie: Latest Breitbart/Gravis Poll ...</td>\n",
       "      <td>1</td>\n",
       "    </tr>\n",
       "    <tr>\n",
       "      <th>17908</th>\n",
       "      <td>17908</td>\n",
       "      <td>Giuliani Defends Breitbart News Against MSNBC ...</td>\n",
       "      <td>\\r\\nWednesday on MSNBC, former New York City M...</td>\n",
       "      <td>1</td>\n",
       "    </tr>\n",
       "    <tr>\n",
       "      <th>18119</th>\n",
       "      <td>18119</td>\n",
       "      <td>Donald Trump: Hillary's Syria Policy Would Lea...</td>\n",
       "      <td>Donald Trump: Hillary’s Syria Policy Would Lea...</td>\n",
       "      <td>1</td>\n",
       "    </tr>\n",
       "  </tbody>\n",
       "</table>\n",
       "</div>"
      ],
      "text/plain": [
       "          id                                              title  \\\n",
       "11413  11413  Samantha Bee: Who Gives A F**K About Trump, Th...   \n",
       "12106  12106  Statistical Tie: Latest Breitbart/Gravis Poll ...   \n",
       "17908  17908  Giuliani Defends Breitbart News Against MSNBC ...   \n",
       "18119  18119  Donald Trump: Hillary's Syria Policy Would Lea...   \n",
       "\n",
       "                                                    text  label  \n",
       "11413  Samantha Bee: Who Gives A F**K About Trump, Th...      1  \n",
       "12106  Statistical Tie: Latest Breitbart/Gravis Poll ...      1  \n",
       "17908  \\r\\nWednesday on MSNBC, former New York City M...      1  \n",
       "18119  Donald Trump: Hillary’s Syria Policy Would Lea...      1  "
      ]
     },
     "execution_count": 36,
     "metadata": {},
     "output_type": "execute_result"
    }
   ],
   "source": [
    "breitbart = df_true[df_true['title'].str.contains('Breitbart', regex=True)]\n",
    "breitbart"
   ]
  },
  {
   "cell_type": "code",
   "execution_count": 44,
   "id": "90d38484",
   "metadata": {},
   "outputs": [
    {
     "data": {
      "text/plain": [
       "2352"
      ]
     },
     "execution_count": 44,
     "metadata": {},
     "output_type": "execute_result"
    }
   ],
   "source": [
    "breitbart = df_fake[df_fake['title'].str.contains('Breitbart', regex=True)]\n",
    "breitbart.shape[0]"
   ]
  },
  {
   "cell_type": "code",
   "execution_count": 45,
   "id": "7419e2de",
   "metadata": {},
   "outputs": [
    {
     "data": {
      "text/plain": [
       "2338"
      ]
     },
     "execution_count": 45,
     "metadata": {},
     "output_type": "execute_result"
    }
   ],
   "source": [
    "breitbart = df_fake[df_fake['title'].str.contains('- Breitbart', regex=True)]\n",
    "breitbart.shape[0]"
   ]
  },
  {
   "cell_type": "markdown",
   "id": "9960299b",
   "metadata": {},
   "source": [
    "From the 10387 fake news data, 2338 - 2352 of these (or ~22.5-22.6%) are explicitly from Breitbart."
   ]
  },
  {
   "cell_type": "code",
   "execution_count": 39,
   "id": "16aed43f",
   "metadata": {},
   "outputs": [
    {
     "data": {
      "text/plain": [
       "24"
      ]
     },
     "execution_count": 39,
     "metadata": {},
     "output_type": "execute_result"
    }
   ],
   "source": [
    "nyt = df_fake[df_fake['title'].str.contains('NYT', regex=True)]\n",
    "nyt.shape[0]"
   ]
  },
  {
   "cell_type": "code",
   "execution_count": 42,
   "id": "56650134",
   "metadata": {},
   "outputs": [
    {
     "data": {
      "text/plain": [
       "22"
      ]
     },
     "execution_count": 42,
     "metadata": {},
     "output_type": "execute_result"
    }
   ],
   "source": [
    "nyt = df_true[df_true['title'].str.contains('NYT', regex=True)]\n",
    "nyt.shape[0]"
   ]
  },
  {
   "cell_type": "code",
   "execution_count": 67,
   "id": "aa793282",
   "metadata": {},
   "outputs": [
    {
     "data": {
      "text/plain": [
       "2"
      ]
     },
     "execution_count": 67,
     "metadata": {},
     "output_type": "execute_result"
    }
   ],
   "source": [
    "npr = df_true[df_true['title'].str.contains('NPR', regex=True)]\n",
    "npr.shape[0]"
   ]
  },
  {
   "cell_type": "code",
   "execution_count": 68,
   "id": "9016ee1d",
   "metadata": {},
   "outputs": [
    {
     "data": {
      "text/plain": [
       "4"
      ]
     },
     "execution_count": 68,
     "metadata": {},
     "output_type": "execute_result"
    }
   ],
   "source": [
    "npr = df_fake[df_fake['title'].str.contains('NPR', regex=True)]\n",
    "npr.shape[0]"
   ]
  },
  {
   "cell_type": "code",
   "execution_count": 69,
   "id": "0c813fcf",
   "metadata": {},
   "outputs": [
    {
     "data": {
      "text/plain": [
       "13"
      ]
     },
     "execution_count": 69,
     "metadata": {},
     "output_type": "execute_result"
    }
   ],
   "source": [
    "nyt = df_true[df_true['title'].str.contains('New York Times', regex=True)]\n",
    "nyt.shape[0]"
   ]
  },
  {
   "cell_type": "code",
   "execution_count": 71,
   "id": "3fb892fe",
   "metadata": {},
   "outputs": [
    {
     "data": {
      "text/plain": [
       "6235"
      ]
     },
     "execution_count": 71,
     "metadata": {},
     "output_type": "execute_result"
    }
   ],
   "source": [
    "nyt_fake = df_fake[df_fake['title'].str.contains('New York Times', regex=True)]\n",
    "nyt_fake.shape[0]"
   ]
  },
  {
   "cell_type": "code",
   "execution_count": 72,
   "id": "7d18dc98",
   "metadata": {},
   "outputs": [
    {
     "data": {
      "text/html": [
       "<div>\n",
       "<style scoped>\n",
       "    .dataframe tbody tr th:only-of-type {\n",
       "        vertical-align: middle;\n",
       "    }\n",
       "\n",
       "    .dataframe tbody tr th {\n",
       "        vertical-align: top;\n",
       "    }\n",
       "\n",
       "    .dataframe thead th {\n",
       "        text-align: right;\n",
       "    }\n",
       "</style>\n",
       "<table border=\"1\" class=\"dataframe\">\n",
       "  <thead>\n",
       "    <tr style=\"text-align: right;\">\n",
       "      <th></th>\n",
       "      <th>id</th>\n",
       "      <th>title</th>\n",
       "      <th>text</th>\n",
       "      <th>label</th>\n",
       "    </tr>\n",
       "  </thead>\n",
       "  <tbody>\n",
       "    <tr>\n",
       "      <th>7</th>\n",
       "      <td>7</td>\n",
       "      <td>Benoît Hamon Wins French Socialist Party’s Pre...</td>\n",
       "      <td>PARIS  —   France chose an idealistic, traditi...</td>\n",
       "      <td>0</td>\n",
       "    </tr>\n",
       "    <tr>\n",
       "      <th>8</th>\n",
       "      <td>8</td>\n",
       "      <td>Excerpts From a Draft Script for Donald Trump’...</td>\n",
       "      <td>Donald J. Trump is scheduled to make a highly ...</td>\n",
       "      <td>0</td>\n",
       "    </tr>\n",
       "    <tr>\n",
       "      <th>9</th>\n",
       "      <td>9</td>\n",
       "      <td>A Back-Channel Plan for Ukraine and Russia, Co...</td>\n",
       "      <td>A week before Michael T. Flynn resigned as nat...</td>\n",
       "      <td>0</td>\n",
       "    </tr>\n",
       "    <tr>\n",
       "      <th>15</th>\n",
       "      <td>15</td>\n",
       "      <td>In Major League Soccer, Argentines Find a Home...</td>\n",
       "      <td>Guillermo Barros Schelotto was not the first A...</td>\n",
       "      <td>0</td>\n",
       "    </tr>\n",
       "    <tr>\n",
       "      <th>16</th>\n",
       "      <td>16</td>\n",
       "      <td>Wells Fargo Chief Abruptly Steps Down - The Ne...</td>\n",
       "      <td>The scandal engulfing Wells Fargo toppled its ...</td>\n",
       "      <td>0</td>\n",
       "    </tr>\n",
       "  </tbody>\n",
       "</table>\n",
       "</div>"
      ],
      "text/plain": [
       "    id                                              title  \\\n",
       "7    7  Benoît Hamon Wins French Socialist Party’s Pre...   \n",
       "8    8  Excerpts From a Draft Script for Donald Trump’...   \n",
       "9    9  A Back-Channel Plan for Ukraine and Russia, Co...   \n",
       "15  15  In Major League Soccer, Argentines Find a Home...   \n",
       "16  16  Wells Fargo Chief Abruptly Steps Down - The Ne...   \n",
       "\n",
       "                                                 text  label  \n",
       "7   PARIS  —   France chose an idealistic, traditi...      0  \n",
       "8   Donald J. Trump is scheduled to make a highly ...      0  \n",
       "9   A week before Michael T. Flynn resigned as nat...      0  \n",
       "15  Guillermo Barros Schelotto was not the first A...      0  \n",
       "16  The scandal engulfing Wells Fargo toppled its ...      0  "
      ]
     },
     "execution_count": 72,
     "metadata": {},
     "output_type": "execute_result"
    }
   ],
   "source": [
    "nyt_fake.head()"
   ]
  },
  {
   "cell_type": "code",
   "execution_count": 86,
   "id": "8176fe11",
   "metadata": {},
   "outputs": [
    {
     "name": "stdout",
     "output_type": "stream",
     "text": [
      "Benoît Hamon Wins French Socialist Party’s Presidential Nomination - The New York Times\n",
      "Excerpts From a Draft Script for Donald Trump’s Q&ampA With a Black Church’s Pastor - The New York Times\n",
      "A Back-Channel Plan for Ukraine and Russia, Courtesy of Trump Associates - The New York Times\n",
      "In Major League Soccer, Argentines Find a Home and Success - The New York Times\n",
      "Wells Fargo Chief Abruptly Steps Down - The New York Times\n",
      "Abortion Pill Orders Rise in 7 Latin American Nations on Zika Alert - The New York Times\n",
      "Andrea Tantaros of Fox News Claims Retaliation for Sex Harassment Complaints - The New York Times\n",
      "How Hillary Clinton Became a Hawk - The New York Times\n",
      "Having Won, Boris Johnson and ‘Brexit’ Leaders Fumble - The New York Times\n",
      "Texas Oil Fields Rebound From Price Lull, but Jobs Are Left Behind - The New York Times\n",
      "Bayer Deal for Monsanto Follows Agribusiness Trend, Raising Worries for Farmers - The New York Times\n",
      "Russia Moves to Ban Jehovah’s Witnesses as ‘Extremist’ - The New York Times\n",
      "Avoiding Peanuts to Avoid an Allergy Is a Bad Strategy for Most - The New York Times\n",
      "Ryan Lochte Dropped by Speedo USA and Other Retailers - The New York Times\n",
      "Internal Inquiry Sealed the Fate of Roger Ailes at Fox - The New York Times\n",
      "Samsung, After Combustible Galaxy Note 7, Unveils New Smartphone - The New York Times\n",
      "Mindful Eating as Way to Fight Bingeing - The New York Times\n",
      "The Major Potential Impact of a Corporate Tax Overhaul - The New York Times\n",
      "3 Makers of World’s Smallest Machines Awarded Nobel Prize in Chemistry - The New York Times\n",
      "Review: ‘Lion’ Brings Tears for a Lost Boy, Wiped Dry by Google - The New York Times\n",
      "Pence Will Speak at Anti-Abortion Rally - The New York Times\n",
      "Dress Like a Woman? What Does That Mean? - The New York Times\n",
      "At 91, Ella Brennan Still Feeds (and Leads) New Orleans - The New York Times\n",
      "Pressing Asia Agenda, Obama Treads Lightly on Human Rights - The New York Times\n",
      "Democrats Have a 60 Percent Chance to Retake the Senate - The New York Times\n",
      "51 U.S. Diplomats Urge Strikes Against Assad in Syria - The New York Times\n",
      "Louisiana, Simone Biles, U.S. Presidential Race: Your Tuesday Evening Briefing - The New York Times\n",
      "Trump’s Immigration Policies Explained - The New York Times\n",
      "Mary Tyler Moore Is Mourned by Dick Van Dyke and Other Stars - The New York Times\n",
      "Trump Fans Rally Across the Nation to Support the President - The New York Times\n",
      "11 Fiction Podcasts Worth a Listen - The New York Times\n",
      "Mike Birbiglia’s 6 Tips for Making It Small in Hollywood. Or Anywhere. - The New York Times\n",
      "Venezuela Muzzles Legislature, Moving Closer to One-Man Rule - The New York Times\n",
      "Migrants Confront Judgment Day Over Old Deportation Orders - The New York Times\n",
      "M.I.T., N.Y.U. and Yale Are Sued Over Retirement Plan Fees - The New York Times\n",
      "American Drivers Regain Appetite for Gas Guzzlers - The New York Times\n",
      "Hillary Clinton Builds $150 Million War Chest, Doubling Donald Trump - The New York Times\n",
      "Megyn Kelly, Contract Set to Expire Next Year, Is Primed for the Big Show - The New York Times\n",
      "Snap Shares Leap 44% in Debut as Investors Doubt Value Will Vanish - The New York Times\n",
      "Seeking Best Fit, Women’s Final Four Returns to Friday-Sunday - The New York Times\n",
      "A Proposal for a Canadian National Bird Ruffles Feathers - The New York Times\n",
      "Review: Beyoncé Makes ‘Lemonade’ Out of Marital Strife - The New York Times\n",
      "Trump to Ask for Sharp Increases in Military Spending, Officials Say - The New York Times\n",
      "Taiwan Responds After China Sends Carrier to Taiwan Strait - The New York Times\n",
      "Telescope That ‘Ate Astronomy’ Is on Track to Surpass Hubble - The New York Times\n",
      "Closed Afghan-Pakistani Border Is Becoming ‘Humanitarian Crisis’ - The New York Times\n",
      "I Ignored Trump News for a Week. Here’s What I Learned. - The New York Times\n",
      "Donald Trump Unveils Plan for Families in Bid for Women’s Votes - The New York Times\n",
      "It’s Official: Simone Biles Is the World’s Best Gymnast - The New York Times\n",
      "The Rise of the Internet Fan Bully - The New York Times\n",
      "A Newly Vibrant Washington Fears That Trump Will Drain Its Culture - The New York Times\n",
      "Fed Holds Interest Rates Steady and Plans Slower Increases - The New York Times\n",
      "The Latest Test for the White House? Pulling Off Its Easter Egg Roll - The New York Times\n",
      "For Cuomo and Christie, Parallel Paths to the Top, and Trouble When They Got There - The New York Times\n",
      "Sears Agrees to Sell Craftsman to Stanley Black &amp Decker to Raise Cash - The New York Times\n",
      "Takata Chief Executive to Resign as Financial Pressure Mounts - The New York Times\n",
      "Goodbye, for Good, to Black Sabbath - The New York Times\n",
      "‘I Can Watch It on TV’: Excuses for Republicans Skipping a Donald Trump Convention - The New York Times\n",
      "Hijacking Ends Peacefully After Libyan Airliner Lands in Malta - The New York Times\n",
      "You Don’t Like the Girls in ‘Girls’? That’s Its Genius. - The New York Times\n",
      "Scientists Say Canadian Bacteria Fossils May Be Earth’s Oldest - The New York Times\n",
      "Pro-Government Forces Advance in Syria Amid Talk of U.S.-Russia Cooperation - The New York Times\n",
      "Work. Walk 5 Minutes. Work. - The New York Times\n",
      "Steve Harvey Talks Housing With President-Elect Trump - The New York Times\n",
      "Mr. Trump’s Wild Ride - The New York Times\n",
      "Donald Trump’s Team Shows Few Signs of Post-Election Moderation - The New York Times\n",
      "Miami Beach Tries to Tame Its Most Raucous Street (but the Fishbowl Drinks Can Stay) - The New York Times\n",
      "Donald Trump, the Unsinkable Candidate - The New York Times\n",
      "Commissioner Starts to Press Cleveland Indians About Logo - The New York Times\n",
      "Trump Attacks Senator’s Credibility Over Gorsuch’s Comments - The New York Times\n",
      "California Senate Race Is a Tale of Diversity and a Flailing G.O.P. - The New York Times\n",
      "In Break With Precedent, Obama Envoys Are Denied Extensions Past Inauguration Day - The New York Times\n",
      "How Will ‘Brexit’ Vote Go? Monty Python May Offer Clue - The New York Times\n",
      "In Somalia, U.S. Escalates a Shadow War - The New York Times\n",
      "Free Care a ‘Blessing’ for Victims of Orlando Nightclub Attack - The New York Times\n",
      "Fed’s Challenge, After Raising Rates, May Be Existential - The New York Times\n",
      "F.A.A. Investigates Errant Flight Involving Harrison Ford - The New York Times\n",
      "Fed Raises Key Interest Rate, Citing Strengthening Economy - The New York Times\n",
      "As Trump Berates News Media, a New Strategy Is Needed to Cover Him - The New York Times\n",
      "U.S. Drone Strike Targets Taliban Leader - The New York Times\n",
      "Your Local 1-Percenters May Not Be as Rich as You Think - The New York Times\n",
      "In Statement to Senate, Wells Fargo Chief Is ‘Deeply Sorry’ - The New York Times\n",
      "C.E.O.s Ponder a New Game, With Trump’s Rules - The New York Times\n",
      "A Scaredy-Cat’s Investigation Into Why People Enjoy Fear - The New York Times\n",
      "Showdown Looms as U.S. Questions Chinese Deal for German Chip Designer - The New York Times\n",
      "Trump Administration to Take Harder Tack on Trade With China - The New York Times\n",
      "French Vogue’s March Cover Features a Transgender Model - The New York Times\n",
      "Trump Veers From Party Line on Gun Control - The New York Times\n",
      "At Chatsworth House, a Tale of Five Centuries - The New York Times\n",
      "The Uncomfortable Love Affair Between Donald Trump and the New England Patriots - The New York Times\n",
      "John McCain Withdraws Support for Donald Trump After Disclosure of Recording - The New York Times\n",
      "The Strange, Unending Limbo of Egypt’s Hosni Mubarak - The New York Times\n",
      "A Single Mom Escapes the Friend Zone, One Non-Date at a Time - The New York Times\n",
      "Trump Floats an Olive Branch: Might Keep Parts of the Health Law - The New York Times\n",
      "A Crumpled School Bus Leaves Chattanooga Dazed - The New York Times\n",
      "How the Fight for a National African-American Museum Was Won - The New York Times\n",
      "North Carolina, Saturated and Surprised, Reels from Hurricane Matthew - The New York Times\n",
      "The Lives They Loved: Submit Your Memories - The New York Times\n",
      "Achieving Mindfulness at Work, No Meditation Cushion Required - The New York Times\n",
      "Confused by Chip Credit Cards? Get in Line - The New York Times\n"
     ]
    }
   ],
   "source": [
    "for i in range(100):\n",
    "    print(nyt_fake['title'].iloc[i])"
   ]
  },
  {
   "cell_type": "code",
   "execution_count": 99,
   "id": "3cdf968d",
   "metadata": {},
   "outputs": [
    {
     "data": {
      "text/plain": [
       "2"
      ]
     },
     "execution_count": 99,
     "metadata": {},
     "output_type": "execute_result"
    }
   ],
   "source": [
    "other_fake = df_fake[df_fake['title'].str.contains('Reddit', regex=True)]\n",
    "other_fake.shape[0]"
   ]
  },
  {
   "cell_type": "code",
   "execution_count": 100,
   "id": "532095ae",
   "metadata": {},
   "outputs": [
    {
     "data": {
      "text/plain": [
       "3"
      ]
     },
     "execution_count": 100,
     "metadata": {},
     "output_type": "execute_result"
    }
   ],
   "source": [
    "other_true = df_true[df_true['title'].str.contains('Reddit', regex=True)]\n",
    "other_true.shape[0]"
   ]
  },
  {
   "cell_type": "code",
   "execution_count": 111,
   "id": "69edcba1",
   "metadata": {},
   "outputs": [
    {
     "name": "stdout",
     "output_type": "stream",
     "text": [
      "Americans Are So Disconnected from Reality That “Insouciant” Has Become An Euphemism\n",
      "Watch Dr. Duke’s powerful new television commercial!\n",
      "The Foul Stench of Fascism in the US    : Information\n",
      "WHITE FLIGHT? Or is it white fright? British multiculturalism has created segregation in towns where the white population is fleeing as the Muslim population is exploding\n",
      "Thousands of Wild Buffalo Appear Out of Nowhere at Standing Rock (VIDEO)\n",
      "Shine Brightly in the Consuming Fire of Divine Love\n",
      "Anti-War Movement Anticipates More War Under A Clinton Presidency\n",
      "Tapper Pushes 'Conflict Of Interest' Narrative\n",
      "Endlich: Esso-Tankstellen bieten jetzt auch veganes Benzin an\n",
      "Why hydrogen peroxide should be in every home\n",
      "Statistical Tie: Latest Breitbart/Gravis Poll Shows Donald Trump Closes the Gap with Less Than Two Weeks Left\n",
      "Desarticulan una red criminal que ofrecía a Arturo Pérez-Reverte para dar palizas\n",
      "Trump Proudly Declares: Most Of The People I’ve Insulted Deserved It\n",
      "Riot Police Fire Water Cannon, Rubber Bullets at Protesters: “Concussion Grenades, Girl May Lose Arm”\n",
      "Fake Rice Made from Plastic is Everywhere — Here's How to Recognize Real From Fake\n",
      "Happy Birthday to ILLary from James O'Keefe (new video)\n",
      "You’re Being Fooled: The Problem With ‘Alternative’ News Websites\n",
      "5 States To Decide Whether To Legalize Marijuana Or Continue Honoring God - The Onion - America's Finest News Source\n",
      "Wolf Richter: Come on Moody’s, Spare Us These Falsehoods: That $1.3 Trillion “Overseas Cash” Is Already in the US\n",
      "Chicago Criminals Not Really Into World Series, Evidently (17 Dead, 41 Wounded Over Halloween)\n",
      "5 Things Teachers Are Doing During Midterm That Isn’t A Massive Session\n",
      "The Word From the Trenches – October 28, 2016\n",
      "Clinton, Comey and the E-mail Scandal: Is There a Rebellion at the FBI?\n",
      "Клоунада — не напасть, как бы клоунам не пропасть!\n",
      "Israel’s Blockade of Gaza is Inherently Violent\n",
      "They Said What?!: Find Out What Denzel Washington, Meek Mill, And Kesha Have To Say\n",
      "Sailer In TAKIMAG On The UVA Rape Hoax: “Sabrina Rubin Erdely’s Malice in Blunderland”\n",
      "The Intercept Outs Neocon Democrat’s Smear Against Trump as ‘Putin’s Puppet’ - Eric Zuesse\n",
      "Dead blue whale found floating near beach in Daly City, California\n",
      "Military op to retake Mosul from ISIS\n",
      "Quid Pro Quo? Wikileaks Email Reveals Clinton Campaign Eyeing Paul Ryan’s Relative for SCOTUS\n",
      "Report: Saudis Quietly Backing UN Peace Plan for Yemen\n",
      "Trump Has Gotten The Republican Party Sued For Trying To Intimidate Voters\n",
      "Japan’s Population Declines in 2015 for First Time Since 1920\n",
      "Anonymous: America’s Last Hope-You Have Been Warned\n",
      "Comment on How Smartphone Light Affects Your Brain & Body (Infographic) by 5 Ways You Can Start Feeling Better About Yourself Right Now – Collective Evolution\n",
      "Dow higher as Boeing gains offset Apple's fall\n",
      "Everything We Know About Assange, Wikileaks And The Frantic Attempt To Shut Him Up (VIDEO)\n",
      "Police Family Fakes Robbery, Vandalizes Own Home to Blame it On Black Lives Matter\n",
      "US Insiders  Not Russia  Leaked Clinton Emails\n",
      "Putin awards Serbian filmmaker Emir Kusturica with Order of Friendship\n",
      "After Correctly Predicting GDP Would Beat Estimates, Former Soros Associate Now Says Gold Headed Above $2,000\n",
      "#BREAKING: TRUMP USHERED OFF STAGE IN NV SUSPECT DETAINED\n",
      "WATCH: The Plan Has Been Exposed: “The Secretive Effort To Reduce The Population And Bring Resource Use Into Strict Centralized Control”\n",
      "5 Trump Advisors Who Prove He's More Like Hillary Clinton Than Thought\n",
      "The World War 3 Conspiracy – Episode 1\n",
      "Videotutorial: Insertando formas en el Microsoft Word\n",
      "Why Can't Hillary Clinton Stop Telling Stupid Lies?\n",
      "Donald and Vladimir\n",
      "Congress: Hillary Will Be Impeached If She Becomes President\n",
      "FBI Director James Comey Schooled by Former DOJ Spokesman for Abusing His Power\n",
      "11/6/2016 Open Thread - The Unz Review\n",
      "Clinton Staffer Caught Sacrificing Baby to Demon Moloch - Wikileaks\n",
      "Comment on Dave Matthews Plays for Standing Rock Camp — Announces ‘Stand with Standing Rock’ Benefit Concert by Tink Bell\n",
      "Comment on Hillary Clinton is an alcoholic by Auntie Lulu\n",
      "Obama: ‘It’s Because of You That a Marine Can Serve His Country Without Hiding the Husband He Loves’\n",
      "WORLD WAR 3 is Now * HILLARY Clinton Is Mushroom Cloud Waiting to Happen\n",
      "Iranian products on display in Kiev\n",
      "7 Halloween Treats That Trick Children Into Cleaning\n",
      "8 Things You Need To Know About The Dakota Access Pipeline Protests\n",
      "Can nuclear war break out on the Korean Peninsula?\n",
      "Anonymous Just Released Shocking Footage Of Huma And Hillary Clinton – Scandal!\n",
      "‘Like Warsaw ghetto’: Attendees attacked, surrounded at Israeli speaker event at London university\n",
      "Russia successfully tests its first-ever hypersonic weapon\n",
      "Soon 15 NATO Nations Which Do Not Border Russia Will Have Troops on the Russian Border - Mark Nicholas\n",
      "Chairman Of The House Oversight and Government Reform Committee, Jason Chaffetz, Says He Will Vote For TRUMP.\n",
      "Clinton’s Allies Promise a Tougher Line on Iran\n",
      "On This Awful Election Day, Is There A Silver Lining For America?\n",
      "PressTV- US air strikes in Afghanistan increase in 2016\n",
      "Blowback? Journalists whine of victimization as Trump supporters turn on presstitute media\n",
      "Target Stores To Launch In-Store Vertical Farms To Grow Their Own Crops\n",
      "Is google and YouTube in the Hillary's purse?\n",
      "Oakland's Honor Band Kneels in Protest of Police Violence\n",
      "Comment on Muslim ‘migrants’ have transformed the city of Paris into a garbage dump by Beanie\n",
      "“Organic” Food From China Found To Be Highly Contaminated\n",
      "Comment on If Hillary Clinton Is Charged With Obstruction Of Justice She Could Go To Prison For 20 Years by Kingdom Ambassador\n",
      "It Continues: ‘Experts’ Claim Hillary Was Robbed By Hackers: “Voting Anomalies In Michigan, Wisconsin And New York”\n",
      "Moscú revela que España ha admitido la presión de EE.UU y la OTAN con respecto a los barcos rusos\n",
      "Bernie Sanders was a Con Artist, had an 'Agreement' with Hillary Clinton - Wikileaks\n",
      "Discrimination and Condemnation: Australia’s War on Boat People\n",
      "Will Trump Erase the \"Progress\" of the Obama Administration\n",
      "Syria: Theater of the Absurd Gets Crazier | New Eastern Outlook\n",
      "Los grandes cambios en el transporte marítimo y negocios portuarios, por César Reaño Reaño\n",
      "Last Minute Millions Pour In From Republican Donors As Donald Trump Surges Towards The Top\n",
      "Life: Touching: After Her Brother Passed Away, This Woman Took Over His Facebook Page To Continue Sharing Islamophobic Rhetoric\n",
      "Progressives Find ‘White Trash’ More Threatening Than Nuclear War\n",
      "The Geopolitics of Russia-Egypt Relations\n",
      "The Vatican Is Controlling History\n",
      "Urban farms won’t feed our cities, but they’re still a great idea – here’s why | Food and Farming\n",
      "Young Fellas Made Of Nothing These Days, Finds Scientific Study\n",
      "Comment on Leaked Emails Reveal Hillary Can’t Speak for Very Long Without a Podium… So Were the Debates Rigged? by mildred.kraus\n",
      "Distracted by Election 2016, No-one Resisted the Deep State’s Patriot Act 2\n",
      "What are your plans for defeating the demiurge\n",
      "Man decides first 10 minutes of new Adam Curtis film should be enough to bluff it\n",
      "Hope Amid Chaos: Yazidis Waiting to Reunite With Hostages After Mosul Liberation\n",
      "Duo Played a Vital Role in Venezuelan Drug Trafficking Case\n",
      "Silver And Gresham’s Law\n",
      "Did you know that cinnamon can boost intelligence?\n",
      "Obama just cancelled oil and gas drilling on sacred Blackfeet land\n",
      "Re: WikiLeaks: ‘How is what Bill Clinton did different from what Bill Cosby did?’ #PodestaEmails20\n"
     ]
    }
   ],
   "source": [
    "for i in range(5700,5800):\n",
    "    print(df_true['title'].iloc[i])"
   ]
  },
  {
   "cell_type": "markdown",
   "id": "310e8d6a",
   "metadata": {},
   "source": [
    "True news draws from: National review, The Onion, Press TV, RedFlag News, Katehon think tank, truthdig, etc."
   ]
  },
  {
   "cell_type": "code",
   "execution_count": null,
   "id": "8ede370c",
   "metadata": {},
   "outputs": [],
   "source": []
  }
 ],
 "metadata": {
  "kernelspec": {
   "display_name": "Python 3 (ipykernel)",
   "language": "python",
   "name": "python3"
  },
  "language_info": {
   "codemirror_mode": {
    "name": "ipython",
    "version": 3
   },
   "file_extension": ".py",
   "mimetype": "text/x-python",
   "name": "python",
   "nbconvert_exporter": "python",
   "pygments_lexer": "ipython3",
   "version": "3.10.9"
  }
 },
 "nbformat": 4,
 "nbformat_minor": 5
}
