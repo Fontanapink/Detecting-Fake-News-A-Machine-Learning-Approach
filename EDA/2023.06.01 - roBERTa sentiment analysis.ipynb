{
 "cells": [
  {
   "cell_type": "markdown",
   "id": "2c109bf0",
   "metadata": {},
   "source": [
    "This notebook does sentiment analysis via Huggingface pipeline.\n",
    "<mark>Don't loop through individual data in Python, do it with Numpy dataframe since the subroutines are in C++</mark>"
   ]
  },
  {
   "cell_type": "markdown",
   "id": "9e205e20",
   "metadata": {
    "tags": []
   },
   "source": [
    "# Read in datasets"
   ]
  },
  {
   "cell_type": "code",
   "execution_count": 21,
   "id": "cad63a85-00c0-4f62-83ee-2069163f4137",
   "metadata": {
    "collapsed": true
   },
   "outputs": [
    {
     "data": {
      "application/vnd.jupyter.widget-view+json": {
       "model_id": "07387e7d40ef47b4a67b078befc09c68",
       "version_major": 2,
       "version_minor": 0
      },
      "text/plain": [
       "Downloading:   0%|          | 0.00/2.84k [00:00<?, ?B/s]"
      ]
     },
     "metadata": {},
     "output_type": "display_data"
    },
    {
     "data": {
      "application/vnd.jupyter.widget-view+json": {
       "model_id": "a777aba312b748379eed44bb97f2770c",
       "version_major": 2,
       "version_minor": 0
      },
      "text/plain": [
       "Downloading:   0%|          | 0.00/768 [00:00<?, ?B/s]"
      ]
     },
     "metadata": {},
     "output_type": "display_data"
    },
    {
     "name": "stderr",
     "output_type": "stream",
     "text": [
      "C:\\Users\\mktsu\\anaconda3\\lib\\site-packages\\huggingface_hub\\file_download.py:123: UserWarning: `huggingface_hub` cache-system uses symlinks by default to efficiently store duplicated files but your machine does not support them in C:\\Users\\mktsu\\.cache\\huggingface\\hub. Caching files will still work but in a degraded version that might require more space on your disk. This warning can be disabled by setting the `HF_HUB_DISABLE_SYMLINKS_WARNING` environment variable. For more details, see https://huggingface.co/docs/huggingface_hub/how-to-cache#limitations.\n",
      "To support symlinks on Windows, you either need to activate Developer Mode or to run Python as an administrator. In order to see activate developer mode, see this article: https://docs.microsoft.com/en-us/windows/apps/get-started/enable-your-device-for-development\n",
      "  warnings.warn(message)\n"
     ]
    },
    {
     "data": {
      "application/vnd.jupyter.widget-view+json": {
       "model_id": "2ba6b48b233f4cb5a3eca2104f6b4714",
       "version_major": 2,
       "version_minor": 0
      },
      "text/plain": [
       "Downloading:   0%|          | 0.00/9.98k [00:00<?, ?B/s]"
      ]
     },
     "metadata": {},
     "output_type": "display_data"
    },
    {
     "data": {
      "application/vnd.jupyter.widget-view+json": {
       "model_id": "fca3414112f441e385fa503e5cd2ce92",
       "version_major": 2,
       "version_minor": 0
      },
      "text/plain": [
       "Downloading:   0%|          | 0.00/268M [00:00<?, ?B/s]"
      ]
     },
     "metadata": {},
     "output_type": "display_data"
    },
    {
     "data": {
      "application/vnd.jupyter.widget-view+json": {
       "model_id": "370d7ab6fd60472b8a498ef551a07ea4",
       "version_major": 2,
       "version_minor": 0
      },
      "text/plain": [
       "Downloading:   0%|          | 0.00/291 [00:00<?, ?B/s]"
      ]
     },
     "metadata": {},
     "output_type": "display_data"
    },
    {
     "data": {
      "application/vnd.jupyter.widget-view+json": {
       "model_id": "180bc422aa0944b5bc8bb3317c14a4a7",
       "version_major": 2,
       "version_minor": 0
      },
      "text/plain": [
       "Downloading:   0%|          | 0.00/232k [00:00<?, ?B/s]"
      ]
     },
     "metadata": {},
     "output_type": "display_data"
    },
    {
     "data": {
      "application/vnd.jupyter.widget-view+json": {
       "model_id": "9d279ea68fc2428ebdec81ae2e94aaa3",
       "version_major": 2,
       "version_minor": 0
      },
      "text/plain": [
       "Downloading:   0%|          | 0.00/112 [00:00<?, ?B/s]"
      ]
     },
     "metadata": {},
     "output_type": "display_data"
    }
   ],
   "source": [
    "from transformers import pipeline\n",
    "\n",
    "# https://huggingface.co/cardiffnlp/twitter-roberta-base-sentiment\n",
    "MODEL1 = \"cardiffnlp/twitter-roberta-base-sentiment\"\n",
    "# https://huggingface.co/bhadresh-savani/distilbert-base-uncased-emotion?text=I+feel+a+bit+let+down\n",
    "MODEL2 = \"bhadresh-savani/distilbert-base-uncased-emotion\"\n",
    "\n",
    "pipe1 = pipeline(model=MODEL1)\n",
    "pipe2 = pipeline(model=MODEL2)"
   ]
  },
  {
   "cell_type": "code",
   "execution_count": 116,
   "id": "86d90a94",
   "metadata": {
    "scrolled": true,
    "tags": []
   },
   "outputs": [],
   "source": [
    "import pandas as pd\n",
    "from sklearn.utils import shuffle\n",
    "\n",
    "# Read in Kaggle titles only. The dataframe df_kaggle has two columns: article titles, and (true/false).\n",
    "kaggle_df_true = pd.read_csv('./kaggle_dataset/True.csv', usecols = [0])\n",
    "kaggle_df_fake = pd.read_csv('./kaggle_dataset/Fake.csv', usecols = [0])\n"
   ]
  },
  {
   "cell_type": "code",
   "execution_count": 154,
   "id": "59cf77f9",
   "metadata": {},
   "outputs": [],
   "source": [
    "corpus_true = shuffle(kaggle_df_true.loc[:,'title'].tolist())\n",
    "corpus_fake = shuffle(kaggle_df_fake.loc[:,'title'].tolist())"
   ]
  },
  {
   "cell_type": "code",
   "execution_count": 118,
   "id": "478bfd4a-14dc-456e-be60-91ea1ce8d061",
   "metadata": {
    "collapsed": true
   },
   "outputs": [
    {
     "name": "stdout",
     "output_type": "stream",
     "text": [
      "Labels 0 -, 1 n, 2 +\n",
      "\n",
      "Two dead in Gaza blast, Israeli military denies it carried out an attack \n",
      " Label 0, 0.79;   fear 0.79\n",
      "U.S. business group worries Trump unprepared for commercial talks with China \n",
      " Label 0, 0.6;   fear 0.6\n",
      "Women in Asia-Pacific express dismay over U.S. presidential campaign \n",
      " Label 0, 0.69;   anger 0.69\n",
      "Self-designed homes could provide sustainable future for liberated Mosul \n",
      " Label 2, 0.74;   joy 0.74\n",
      "U.S., Nordic nations call on Russia's military to comply with obligations  \n",
      " Label 1, 0.86;   anger 0.86\n",
      "EPA waives requirements on sale, production of gasoline due to storms \n",
      " Label 1, 0.83;   fear 0.83\n",
      "U.S. follows Mexico in backing disputed Honduran vote result \n",
      " Label 1, 0.89;   fear 0.89\n",
      "New Turkish party could cost Erdogan support, dislodge main opposition: poll \n",
      " Label 0, 0.59;   anger 0.59\n",
      "Democrats want strong response to intel report on 2016 election \n",
      " Label 1, 0.78;   joy 0.78\n",
      "Factbox: Short list of potential Trump administration picks \n",
      " Label 1, 0.88;   joy 0.88\n",
      "Factbox: End deportations, reform tax code. What a President Clinton would do \n",
      " Label 1, 0.69;   anger 0.69\n",
      "France's Macron accepts invite to visit Russia: RIA \n",
      " Label 1, 0.51;   joy 0.51\n",
      "Trump hasn't sued a newspaper for libel in decades, records show \n",
      " Label 1, 0.57;   anger 0.57\n",
      "BMW will open Mexican factory in 2019 despite Trump: executive \n",
      " Label 1, 0.86;   joy 0.86\n",
      "Republicans push back against Trump plan to cut foreign aid \n",
      " Label 1, 0.68;   anger 0.68\n",
      "For Trump, challenging an election loss would be tough \n",
      " Label 1, 0.54;   anger 0.54\n",
      "United Arab Emirates says to announce government reshuffle on Thursday \n",
      " Label 1, 0.95;   anger 0.95\n",
      "U.S. steps up pressure on Hezbollah, offers reward for two operatives \n",
      " Label 1, 0.88;   joy 0.88\n",
      "Irish PM 'surprised' that agreed Brexit border deal could not be concluded \n",
      " Label 1, 0.63;   surprise 0.63\n",
      "U.S. Republicans expected to unveil healthcare bill this week \n",
      " Label 1, 0.89;   joy 0.89\n",
      "Massachusetts governor signs bill hiking tax on recreational pot \n",
      " Label 1, 0.9;   joy 0.9\n",
      "Trump's campaign should be fair game in Trump University trial: lawyers \n",
      " Label 1, 0.74;   joy 0.74\n",
      "Trump defends tax plan as 'great Christmas gifts' to middle class \n",
      " Label 2, 0.59;   joy 0.59\n",
      "Trump says Tillerson could be tougher, but they have good relationship \n",
      " Label 1, 0.49;   joy 0.49\n",
      "Michigan Attorney General says weak Detroit schools can be closed \n",
      " Label 0, 0.55;   sadness 0.55\n",
      "House Speaker Ryan plans Harvey aid 'installments' \n",
      " Label 1, 0.92;   joy 0.92\n",
      "Final assault starts on Syria's Raqqa as some Islamic State fighters quit \n",
      " Label 0, 0.5;   anger 0.5\n",
      "Ukrainian lawmaker blames Russia for deadly Kiev blast \n",
      " Label 0, 0.84;   anger 0.84\n",
      "Tanzania president names tax expert as central bank governor \n",
      " Label 1, 0.86;   joy 0.86\n",
      "Sanders and Clinton battle for youth vote with college plans \n",
      " Label 1, 0.87;   anger 0.87\n",
      "Etihad, Qatar Airways to let barred passengers back on U.S. flights \n",
      " Label 1, 0.88;   anger 0.88\n",
      "Exclusive: Trump selects Washington lawyer Joe Simons to head FTC - official \n",
      " Label 1, 0.9;   joy 0.9\n",
      "Obama power plant rules face key test in court \n",
      " Label 1, 0.79;   joy 0.79\n",
      "Turks flock to social media for gold trader sanctions case \n",
      " Label 1, 0.64;   anger 0.64\n",
      "Trump says unnamed country plans to build, expand five U.S. auto plants \n",
      " Label 1, 0.87;   anger 0.87\n",
      "U.N. war crimes court that prosecuted Milosevic closes doors \n",
      " Label 1, 0.56;   anger 0.56\n",
      "Australia's second largest state edges towards permitting euthanasia \n",
      " Label 0, 0.65;   joy 0.65\n",
      "Qatar's emir says ready to talk to end Gulf crisis \n",
      " Label 1, 0.9;   anger 0.9\n",
      "EU negotiator says British withdrawal deal must be ready by Oct. 2018 \n",
      " Label 1, 0.89;   joy 0.89\n",
      "Nigeria puts fortress towns at heart of new Boko Haram strategy \n",
      " Label 1, 0.57;   anger 0.57\n",
      "'You're wrong', Tillerson says of reports he will be fired \n",
      " Label 0, 0.6;   anger 0.6\n",
      "Congressional watchdog expands probe of lax Wall Street oversight \n",
      " Label 1, 0.71;   anger 0.71\n",
      "U.S. civil liberties group ACLU seeks to tap anti-Trump energy \n",
      " Label 1, 0.82;   anger 0.82\n",
      "Trump says democracy must be restored in Venezuela soon \n",
      " Label 1, 0.63;   joy 0.63\n",
      "Factbox: Trump on Twitter (Oct 20) - Tax cut, United Kingdom \n",
      " Label 1, 0.84;   anger 0.84\n",
      "China, Taiwan spar over Chinese diplomat's invasion threat \n",
      " Label 1, 0.65;   anger 0.65\n",
      "NZ First touts progress in talks to form govt, but decision delayed \n",
      " Label 1, 0.74;   fear 0.74\n",
      "China pledges to be more open to providing information: China Daily \n",
      " Label 1, 0.63;   joy 0.63\n",
      "Kenya president's election campaign used firm hired by Trump: privacy group \n",
      " Label 1, 0.8;   anger 0.8\n",
      "Assad adviser says rebels must lay down arms: Syrian state media \n",
      " Label 1, 0.79;   anger 0.79\n",
      "Trump says illegal migrants brought as children 'shouldn't be worried' \n",
      " Label 0, 0.64;   fear 0.64\n",
      "Soccer star Weah to face vice president in Liberian presidential run-off \n",
      " Label 1, 0.92;   anger 0.92\n",
      "Turkey's Erdogan gets warm welcome in mainly Muslim Serbian town \n",
      " Label 2, 0.91;   joy 0.91\n",
      "Police have thwarted seven attacks since March: London mayor \n",
      " Label 1, 0.77;   fear 0.77\n",
      "CIA's Pompeo asserts Russian meddling did not sway U.S. election result \n",
      " Label 1, 0.73;   anger 0.73\n",
      "Fed up with Washington, Trump's 'deplorables' shake up the elite \n",
      " Label 0, 0.71;   joy 0.71\n",
      "Special counsel asks White House to save Trump Jr., Russian meeting documents \n",
      " Label 1, 0.82;   anger 0.82\n",
      "Swedish govt. says to grant reprieve to some asylum seeker minors \n",
      " Label 1, 0.85;   fear 0.85\n",
      "Three in Florida, Virginia charged with voter fraud \n",
      " Label 0, 0.61;   fear 0.61\n",
      "Iraqi forces capture area on Syria border from Islamic State: military \n",
      " Label 1, 0.56;   fear 0.56\n",
      "Myanmar's Suu Kyi to visit China amid Western criticism over Rohingya exodus \n",
      " Label 1, 0.52;   anger 0.52\n",
      "Honduran presidential candidate Nasralla says election marred by fraud \n",
      " Label 0, 0.82;   sadness 0.82\n",
      "Vietnam's Facebook dissidents test the limits of Communist state \n",
      " Label 0, 0.55;   anger 0.55\n",
      "White House says it did not leak material used in NBC report \n",
      " Label 1, 0.85;   anger 0.85\n",
      "Americans should hear both from Comey and Trump: Republican panel chairman \n",
      " Label 1, 0.83;   joy 0.83\n",
      "Trump picks regulation opponents to lead FCC transition \n",
      " Label 1, 0.66;   joy 0.66\n",
      "U.S. secretaries Tillerson, Kelly to visit Mexico next week \n",
      " Label 1, 0.95;   joy 0.95\n",
      "Key House lawmaker sees progress allaying tax deduction concerns: Fox \n",
      " Label 1, 0.69;   anger 0.69\n",
      "Who are Paul Manafort and Rick Gates? \n",
      " Label 1, 0.87;   anger 0.87\n",
      "China, South Korea agree to mend ties after THAAD standoff \n",
      " Label 1, 0.81;   anger 0.81\n",
      "Trump's defense chief says has no problems with media \n",
      " Label 1, 0.77;   anger 0.77\n",
      "Malaysia asks Interpol to trace financier linked to 1MDB scandal \n",
      " Label 1, 0.68;   fear 0.68\n",
      "Kremlin: Obama's Trump criticism anti-Russian, won't foster better ties \n",
      " Label 0, 0.55;   anger 0.55\n",
      "Zimbabwe pastor on trial for subversion, faces 20-year jail term \n",
      " Label 0, 0.77;   anger 0.77\n",
      "Top German conservative embraces Macron's EU proposals \n",
      " Label 2, 0.5;   anger 0.5\n",
      "Tennessee bill would allow counselors to deny service based on religion \n",
      " Label 0, 0.5;   anger 0.5\n",
      "Fired: Trump dumps top lawyer who defied immigration order \n",
      " Label 0, 0.67;   anger 0.67\n",
      "U.S. Treasury, Democrats concerned over Puerto Rico plan  \n",
      " Label 1, 0.79;   fear 0.79\n",
      "Mattis welcomes naming of Trump's top security adviser: Pentagon \n",
      " Label 2, 0.68;   joy 0.68\n",
      "NAACP calls for boycott of North Carolina over voting, bathroom laws \n",
      " Label 0, 0.65;   anger 0.65\n",
      "German justice ministry urges ban on Kuwait Airways over Israel issue \n",
      " Label 1, 0.62;   anger 0.62\n",
      "Malawi ministers to testify against cabinet colleague in maize graft trial \n",
      " Label 1, 0.66;   anger 0.66\n",
      "House Republicans shy of votes to pass healthcare reform: lawmaker \n",
      " Label 1, 0.72;   fear 0.72\n",
      "Trump wants $4 billion more for missile defense, citing North Korea \n",
      " Label 1, 0.81;   joy 0.81\n",
      "No rehearing for ex-Illinois Governor Blagojevich; appeal planned \n",
      " Label 1, 0.8;   anger 0.8\n",
      "Romania's former king Michael dies in Switzerland at age of 96 \n",
      " Label 1, 0.61;   sadness 0.61\n",
      "Scenting power, potential Merkel coalition partners edge closer on Europe \n",
      " Label 1, 0.83;   joy 0.83\n"
     ]
    },
    {
     "name": "stdout",
     "output_type": "stream",
     "text": [
      "Head of Russian general staff reassures NATO over war games: RIA \n",
      " Label 1, 0.88;   joy 0.88\n",
      "China's Xi says will persist with Korean peninsula denuclearization \n",
      " Label 1, 0.82;   anger 0.82\n",
      "Israel disappointed at Trump's decision not to move U.S. embassy \n",
      " Label 0, 0.75;   sadness 0.75\n",
      "House Speaker Ryan blasts Democrats' proposal for 3-month debt limit increase \n",
      " Label 1, 0.76;   anger 0.76\n",
      "Turkey's Erdogan says U.S. courts cannot put Turkey on trial \n",
      " Label 0, 0.53;   anger 0.53\n",
      "Youngstown, Ohio, mayor gets probation in corruption plea deal \n",
      " Label 1, 0.77;   anger 0.77\n",
      "Exclusive: Trump names career diplomat to head Cuban embassy - sources \n",
      " Label 1, 0.9;   joy 0.9\n",
      "Erdogan, Trump agree joint action against Islamic State in Syria: Turkish sources \n",
      " Label 1, 0.88;   anger 0.88\n",
      "House oversight panel chair: Sessions should 'clarify his testimony' \n",
      " Label 1, 0.86;   anger 0.86\n",
      "Russia accuses U.S. of trying to provoke North Korean leader 'to fly off handle' \n",
      " Label 0, 0.53;   anger 0.53\n",
      "Hindus fleeing Myanmar violence hope for shelter in Modi's India \n",
      " Label 1, 0.71;   fear 0.71\n",
      "House Democrats mull Pelosi leadership future \n",
      " Label 1, 0.92;   joy 0.92\n",
      "Tycoon Slim says Trump not 'Terminator,' sees opportunities for Mexico \n",
      " Label 1, 0.77;   joy 0.77\n"
     ]
    }
   ],
   "source": [
    "# TRUE NEWS\n",
    "\n",
    "print(\"Labels 0 -, 1 n, 2 +\\n\")\n",
    "\n",
    "for i in range(100):\n",
    "    print(corpus_true[i], \"\\n\", \\\n",
    "          \"Label\", \\\n",
    "          (pipe1(corpus_true[i]))[0][\"label\"][-1], \\\n",
    "          \"\\b,\",\n",
    "          round((pipe1(corpus_true[i]))[0][\"score\"],2), \\\n",
    "          \"\\b;  \", \\\n",
    "         (pipe2(corpus_true[i]))[0][\"label\"], \\\n",
    "          round((pipe1(corpus_true[i]))[0][\"score\"],2))\n"
   ]
  },
  {
   "cell_type": "code",
   "execution_count": 119,
   "id": "f5809a19-c7bd-4b1f-ac86-7344516132f5",
   "metadata": {
    "collapsed": true,
    "tags": []
   },
   "outputs": [
    {
     "name": "stdout",
     "output_type": "stream",
     "text": [
      "Labels 0 -, 1 n, 2 +\n",
      "\n",
      "33-Yr Old Skier LINDSEY VONN Says She Won’t Represent President Trump At Upcoming Olympics \n",
      " Label 0, 0.55;   fear 0.55\n",
      "WHILE #UnFitHillary Rests And Parties With Donors…Key Swing State Polls Show Trump’s HARD WORK Is Paying Off \n",
      " Label 1, 0.63;   fear 0.63\n",
      " Elizabeth Warren: KKK Supports Trump More Than The Leaders Of His Own Party Do (VIDEO) \n",
      " Label 1, 0.54;   anger 0.54\n",
      " Fox News ‘Expert’ Will Now Be A Prison Expert For The Next Three Years \n",
      " Label 0, 0.52;   joy 0.52\n",
      "CNN’S FAKE NEWS BACKFIRES! CNN Legal Analyst Agrees With Trump On FBI, DOJ: “Off the rails!” [Video] \n",
      " Label 0, 0.56;   anger 0.56\n",
      "ILLEGAL ALIENS Set Up Huge Tent City…You Won’t Believe Where It Is! [Video] \n",
      " Label 1, 0.47;   fear 0.47\n",
      "UNPOPULAR HILLARY HOSTS Rally In Empty Charlotte, NC Church…Tiny Room In Toledo, OH…Pops Cough Lozenges…Stretcher Brought Backstage [VIDEO] \n",
      " Label 1, 0.89;   fear 0.89\n",
      "BUSTED! H.R. McMaster Caught Communicating Internal White House Info with Deep State’s McCabe \n",
      " Label 0, 0.66;   anger 0.66\n",
      " Trump Tweets A Douchey, Self-congratulatory “THANK YOU” And Americans Tell Him Where He Can Shove It (TWEETS) \n",
      " Label 0, 0.54;   joy 0.54\n",
      "LOL! $45 MILLION DOLLAR WHOOPI Complains Conservatives Prevented Her From Making A Living [VIDEO] \n",
      " Label 0, 0.73;   joy 0.73\n",
      " Trump Just Made His 2 Most DUNDERHEADED Moves Yet After Firing Comey (DETAILS) \n",
      " Label 1, 0.81;   anger 0.81\n",
      "WOW! ALEX JONES Releases Secretly Recorded Interview With Megyn Kelly: “I’ve never done this in 22 years, I’ve never recorded another journalist, but I knew it was a fraud, that it was lie” [VIDEO] \n",
      " Label 0, 0.5;   joy 0.5\n",
      "TRUMP SUPPORTERS In Virginia Beach Shout Down CNN AKA Clinton News Network \n",
      " Label 1, 0.6;   anger 0.6\n",
      " Pope Francis Demands Christians Apologize For Marginalizing LGBT People \n",
      " Label 1, 0.76;   joy 0.76\n",
      "Boiler Room EP #123 – Right vs. Left, Jerry Springer Style \n",
      " Label 1, 0.9;   anger 0.9\n",
      "MEDIA GOES CRAZY Over Hillary Wishing She Would Have Told Trump: “Back Up Creep!” For Standing Too Close During Debates…Remained Silent When ACTUAL CREEPS Preyed On Any Female Within Arms Reach \n",
      " Label 0, 0.66;   anger 0.66\n",
      " Children Will Suffer: Trumpcare Would Cut $46B In Healthcare Funds For Kids \n",
      " Label 0, 0.86;   anger 0.86\n",
      "DONALD TRUMP Sits On Obama’s Right…Why This Is Significant! \n",
      " Label 1, 0.61;   joy 0.61\n",
      " Trump Ratchets Up Islamophobic Lie, Gleefully Says Muslims Were Murdered With ‘Pig’s Blood’ Bullets \n",
      " Label 0, 0.88;   surprise 0.88\n",
      "JUDGE JEANINE PIRRO DECLARES WAR On Hillary…Leaked E-Mails Prove The Election Was Rigged [Video] \n",
      " Label 1, 0.54;   joy 0.54\n",
      "RUSSIA HAMMERS ISIS…Kills 600 Jihadis, As China Reportedly Join Forces With Putin To Wipe Out ISIS \n",
      " Label 0, 0.73;   joy 0.73\n",
      " WATCH: Paul Ryan Basically Admits Republicans Will Kill Birth Control Coverage For Women \n",
      " Label 0, 0.62;   joy 0.62\n",
      " Reviews Are In For Convicted Felon Dinesh D’Souza’s Anti-Hillary Film, And They’re HILARIOUS (SCREENSHOTS) \n",
      " Label 0, 0.52;   joy 0.52\n",
      "21WIRE.TV Members Newsletter – Feb 18, 2017 \n",
      " Label 1, 0.9;   joy 0.9\n",
      " Eric Trump Accidentally Exposes Who Was Behind Syria Strike And The Whole Trump Family’s In Trouble \n",
      " Label 0, 0.82;   sadness 0.82\n",
      "CONGRESS WARNED Threat of Nuclear EMP Attack Has Never Been Higher: “N. Korean EMP Attack Would Kill ‘90% of All Americans’ \n",
      " Label 0, 0.77;   joy 0.77\n",
      " You Have To See Ammon Bundy’s Ridiculous Press Conference In Oregon (VIDEO) \n",
      " Label 0, 0.72;   anger 0.72\n",
      "TRUMP BLASTS MEDIA For LYING About Bust Of MLK JR Being Removed From Oval Office…Brings One Very Important Bust BACK Into The Oval Office \n",
      " Label 0, 0.65;   anger 0.65\n",
      " Donald Trump Just Lost His Temper On Live TV And It’s Hilarious (VIDEO) \n",
      " Label 0, 0.89;   joy 0.89\n",
      " GOP Cut Funds For Veterans And Mental Health And Now We Have A Veteran Suicide Epidemic \n",
      " Label 0, 0.91;   anger 0.91\n",
      " Dominican Newspaper Trolls Trump By Using A Photo Of Alec Baldwin (SCREENSHOTS) \n",
      " Label 0, 0.65;   anger 0.65\n",
      " WATCH: Trump FUMES In Silence As Irish Prime Minister Shames Him In Front Of Reporters \n",
      " Label 0, 0.67;   joy 0.67\n",
      "Henningsen on CrossTalk: American Foreign Policy ‘Dumbed Down’ \n",
      " Label 1, 0.51;   joy 0.51\n",
      "BREAKING: FORD ANNOUNCES $700 Million U.S. Investment…Jobs, Jobs, Jobs! [VIDEO] \n",
      " Label 2, 0.59;   anger 0.59\n",
      " Rick Perry: Trump Isn’t Going To Build A Real Wall, Just A ‘Digital’ One \n",
      " Label 1, 0.54;   anger 0.54\n",
      "BREAKING WIKILEAKS: DNC CHAIR Colluded With Media And Clinton Campaign To Destroy Bernie Sanders \n",
      " Label 0, 0.51;   anger 0.51\n",
      "GEORGETOWN University Will Track Down, Recruit And Admit Students Who Are Descendants Of Slaves They Sold in 1838 \n",
      " Label 1, 0.55;   joy 0.55\n",
      " When Asked If Trump Learned Anything In Detroit Ben Carson LITERALLY Runs Away (VIDEO) \n",
      " Label 1, 0.59;   anger 0.59\n",
      "The Real Reason Trump is Angry With McConnell and Ryan \n",
      " Label 0, 0.85;   joy 0.85\n",
      "CONSERVATIVE FIREBRAND ANN COULTER DESTROYS Delta Airlines On Twitter For Kicking Her Out Of Reserved Seat \n",
      " Label 0, 0.5;   anger 0.5\n",
      "BREAKING: FLAG DRAGGING PROTESTER WHO RUSHED STAGE At Trump Rally Has Ties To ISIS \n",
      " Label 0, 0.7;   anger 0.7\n",
      " This Compilation Of Alec Baldwin HUMILIATING Trump On SNL Will WRECK Trump New Year’s Eve \n",
      " Label 1, 0.57;   anger 0.57\n",
      "EPIC! CSPAN CALLER Gets His Benghazi Message Out To Hillary…This Is Priceless! \n",
      " Label 0, 0.57;   anger 0.57\n",
      " Trump-Supporting KKK Members Charged With Attempted Murder After Vicious Assault \n",
      " Label 0, 0.84;   joy 0.84\n",
      "SOCIALIST BERNIE SANDERS Can’t Explain Single Payer or Why Blue States Rejected It [Video] \n",
      " Label 0, 0.73;   anger 0.73\n",
      "(VIDEO) PATRIOTS DEMAND REMOVAL OF COMMUNIST FLAG \n",
      " Label 0, 0.57;   anger 0.57\n",
      " Watch Pres Jimmy Carter Go Beast Mode On Republican Candidates (VIDEO) \n",
      " Label 1, 0.78;   fear 0.78\n",
      " A**hole Of The Day – Michele Bachmann: Muslim ‘Rape Jihad’ Is Destroying ‘Western Christiandom’ \n",
      " Label 0, 0.86;   joy 0.86\n",
      " Amid Accusations Of Hillary Selling Access For Cash, Trump Is Selling Access For Cash \n",
      " Label 1, 0.51;   anger 0.51\n",
      "BALTIMORE PURGES CONFEDERATE STATUES In Dark Of Night…MAYOR Explains: “I did not want to endanger people in my own city” \n",
      " Label 0, 0.52;   anger 0.52\n",
      " Elizabeth Warren Was Asked Why She Went To Trump’s Inauguration. Her Response Will TERRIFY Him (VIDEO) \n",
      " Label 1, 0.59;   fear 0.59\n",
      " Ted Cruz Gets Confronted By A Furious Trump Supporter And It Doesn’t Go Well (VIDEO) \n",
      " Label 0, 0.79;   anger 0.79\n",
      "WOW! ONE COURAGEOUS MAN Stands Against Rioters Holding Best Sign Ever! \n",
      " Label 2, 0.85;   joy 0.85\n",
      "FANTASTIC! Watch Boeing Employees Chant “USA USA USA!” During Intro of President Trump [Video] \n",
      " Label 1, 0.63;   fear 0.63\n",
      "INTERVIEW: Did the ‘Alt Right’ Die in Charlottesville? \n",
      " Label 1, 0.56;   anger 0.56\n",
      " WATCH: Florida Gov. Rick Scott Disrespects President Obama, Calls Trump After Fort Lauderdale Mass Shooting \n",
      " Label 0, 0.68;   joy 0.68\n",
      "U.S. GOVERNMENT THREATENS ILLEGAL SEIZURE OF FAMILY’S LAND NEAR AREA-51 BASE \n",
      " Label 1, 0.61;   anger 0.61\n",
      "WATCH: LOUIE GOHMERT Wants LYING Democrat VA Governor McAuliffe Investigated For “Facilitating Violence” In Charlottesville \n",
      " Label 0, 0.64;   fear 0.64\n",
      " Body-Slamming Republican Thought He Was Too Important To Be Booked, Printed, Judge Says No Way \n",
      " Label 0, 0.7;   fear 0.7\n",
      "WHY DID PRESIDENT TRUMP Receive 100 Day Scrutiny While Other Presidents Got A Pass [Video] \n",
      " Label 0, 0.48;   fear 0.48\n",
      "LIST OF 22 TIMES OBAMA Called Phony Climate Change More Serious Than Terrorism \n",
      " Label 0, 0.61;   anger 0.61\n",
      " Trump Will Freak Out After This Senator Just Shut Him Down \n",
      " Label 0, 0.74;   sadness 0.74\n",
      "OOPS! MIT Researchers Debunk Global Warming Data…Report Confirms President Trump Was Right To Pull Out Of Paris Climate Agreement \n",
      " Label 1, 0.55;   anger 0.55\n",
      "A MUST READ: OBAMA’S TREASON GOES INTO OVERDRIVE \n",
      " Label 0, 0.63;   anger 0.63\n",
      "WATCH: THE VIEW’s LIBERAL HAGS Attack Meghan McCain For Defending Flag On Her First Day As New Co-Host \n",
      " Label 0, 0.6;   joy 0.6\n",
      "WHOA! HOW JEB BUSH Blew Through His Campaign Cash \n",
      " Label 0, 0.64;   joy 0.64\n",
      "KRISPY KREME Worker REFUSES To Serve Cop: ” I don’t do the POlice” \n",
      " Label 1, 0.58;   joy 0.58\n",
      " Guess Which Republican Candidate Helped KKK Chapters More Than Double Last Year (VIDEO) \n",
      " Label 1, 0.63;   anger 0.63\n",
      "BREAKING: At Least 14 US Coalition Military Officers Captured by Syrian Special Forces in East Aleppo Bunker \n",
      " Label 1, 0.71;   anger 0.71\n"
     ]
    },
    {
     "name": "stdout",
     "output_type": "stream",
     "text": [
      "IF JOE BIDEN DECIDES TO RUN FOR PRESIDENT, THIS VIDEO SHOULD BE MANDATORY VIEWING \n",
      " Label 1, 0.68;   anger 0.68\n",
      "SAY WHAT?! NY PUBLIC School Students Pledge Allegiance To An INTERNATIONAL FLAG? \n",
      " Label 1, 0.49;   anger 0.49\n",
      "CONSERVATIVE PRO-TRUMP Musician Who Performed In Vegas Moments Before Massacre Exposes More Hollywood Trash: ’I Wasn’t In a Girl Group, I Was in a Prostitution Ring’ \n",
      " Label 0, 0.74;   fear 0.74\n",
      " BREAKING: Sworn Affidavit PROVES Clinton ‘Victim’ Wasn’t Assaulted Or Harassed \n",
      " Label 1, 0.72;   anger 0.72\n",
      " PA Archbishop Accused Of Using Mafia-Like Tactics Against Lawmaker \n",
      " Label 0, 0.71;   anger 0.71\n",
      "CNBC DEBATE HACK Proves Allegiance To Democrat Party With This Tweet Celebrating Mass Murder \n",
      " Label 0, 0.72;   anger 0.72\n",
      "SHAKEDOWN AL SHARPTON MEETS WITH GM TO PRESSURE THEM INTO DROPPING KID ROCK OVER CONFEDERATEF FLAG [Video] \n",
      " Label 1, 0.86;   anger 0.86\n",
      " Paul Ryan Forced To Speak On Trump’s Anti-Semitic Tweeting: ‘No Place In A Presidential Campaign’ \n",
      " Label 0, 0.63;   anger 0.63\n",
      " FL Toddler Shoots Himself In The Face After ‘Responsible Gun Owner’ Leaves Weapon In Truck (VIDEO) \n",
      " Label 0, 0.68;   fear 0.68\n",
      " #PresidentObamaNotBarry Protests Blatant Racism Against Obama, Righties Still Make It About Them \n",
      " Label 0, 0.64;   joy 0.64\n",
      " WATCH: CNN Panelist HUMILIATES ‘Snowflake’ Trump For Cowardly Backing Out Of Correspondent’s Dinner \n",
      " Label 0, 0.75;   anger 0.75\n",
      " Carly Fiorina LOSES IT After The ‘Baby Parts’ People Are Indicted Instead Of Planned Parenthood (VIDEO) \n",
      " Label 0, 0.89;   anger 0.89\n",
      "WIKILEAKS JULIAN ASSANGE Reveals Hillary’s Connection To ISIS And Discusses Emails That Could Put Her In Jail [VIDEO] \n",
      " Label 1, 0.58;   anger 0.58\n",
      " Disrespectful Prick Ted Cruz Will Snub President Obama By Skipping Final State Of The Union Address \n",
      " Label 0, 0.88;   fear 0.88\n",
      "6 SYRIAN, 1 LIBYAN MIGRANT ARRESTED After Setting Sleeping Homeless Man On Fire \n",
      " Label 0, 0.75;   joy 0.75\n",
      "‘DEAD BROKE’ HILLARY’S HAMPTONS VACATION WITH THE RICH AND FAMOUS \n",
      " Label 1, 0.73;   anger 0.73\n",
      " Mom Of Columbine Shooter Shames The NRA And Gun-Crazy Republicans \n",
      " Label 0, 0.93;   sadness 0.93\n",
      "BOOM! MATH SHOWS Trump Would Have Beaten Obama In Romney-Obama Election \n",
      " Label 1, 0.59;   joy 0.59\n",
      "What’s the Leading Killer of American Adults Under 50? Drug Overdose. \n",
      " Label 0, 0.77;   joy 0.77\n",
      " Trump Administration Admits That Latest Executive Order Was Nothing But An Empty Photo Op (VIDEO) \n",
      " Label 1, 0.66;   anger 0.66\n",
      "Obama To U.S.Military On Putin: “he did not take my warnings” On Syria…Encourages Russians To “get a little smarter” \n",
      " Label 1, 0.53;   sadness 0.53\n",
      " Trump Promises To Destroy The USA During Interview With Lester Holt (VIDEO) \n",
      " Label 0, 0.79;   anger 0.79\n",
      " Judge Rules Man Who Called 911 On John Crawford Can Be Charged (VIDEO) \n",
      " Label 1, 0.66;   anger 0.66\n",
      "TOP DETECTIVES GIVE REASONS They Are Shocked No Autopsy Will Be Performed On Justice Scalia: “I took a look at the report and I almost fell out of my chair” \n",
      " Label 0, 0.64;   anger 0.64\n",
      "MEDIA IGNORES Time That Bill Clinton FIRED His FBI Director On Day Before Vince Foster Was Found Dead \n",
      " Label 0, 0.63;   joy 0.63\n",
      "FBI SAYS DEM PRESIDENTIAL FRONTRUNNER HILLARY Could Face 10 Years In Prison…FBI Furious As Obama Interferes With Investigation \n",
      " Label 0, 0.49;   anger 0.49\n",
      " 117 Days On The Job And Trump Just Had A Major Meltdown In Front Of The World \n",
      " Label 0, 0.54;   anger 0.54\n",
      "Syria Ceasefire Deal: A Cynical Ploy by Washington’s ‘Coalition’ to Buy Time for Terrorists \n",
      " Label 1, 0.5;   anger 0.5\n",
      " Texas Man Shoots Puppy That Pooped In His Yard, Finds Himself On The Receiving End Of Gunfire (VIDEO) \n",
      " Label 0, 0.58;   fear 0.58\n",
      " WATCH: Colbert HUMILIATES Trump With Scathing Takedown To Avenge Attack On John Dickerson \n",
      " Label 0, 0.78;   joy 0.78\n",
      " Trump Gets His A** Handed To Him After Whining About Russia Investigation Like A Frightened Schoolboy \n",
      " Label 0, 0.88;   joy 0.88\n"
     ]
    }
   ],
   "source": [
    "# FAKE NEWS\n",
    "\n",
    "print(\"Labels 0 -, 1 n, 2 +\\n\")\n",
    "\n",
    "for i in range(100):\n",
    "    print(corpus_fake[i], \"\\n\", \\\n",
    "          \"Label\", \\\n",
    "          (pipe1(corpus_fake[i]))[0][\"label\"][-1], \\\n",
    "          \"\\b,\",\n",
    "          round((pipe1(corpus_fake[i]))[0][\"score\"],2), \\\n",
    "          \"\\b;  \", \\\n",
    "         (pipe2(corpus_true[i]))[0][\"label\"], \\\n",
    "          round((pipe1(corpus_fake[i]))[0][\"score\"],2))\n"
   ]
  },
  {
   "cell_type": "code",
   "execution_count": 155,
   "id": "d40e4873",
   "metadata": {
    "scrolled": true
   },
   "outputs": [],
   "source": [
    "# TRUE NEWS, See distribution of scores of each label\n",
    "\n",
    "\n",
    "n = 200\n",
    "tx = []\n",
    "ty = []\n",
    "tz = []\n",
    "\n",
    "for i in range(n):\n",
    "    t = pipe1(corpus_true[i])[0][\"label\"][-1]\n",
    "    if t == \"0\":\n",
    "        tx.append((pipe1(corpus_true[i]))[0][\"score\"])\n",
    "    elif t == \"1\":\n",
    "        ty.append((pipe1(corpus_true[i]))[0][\"score\"])\n",
    "    else:\n",
    "        tz.append((pipe1(corpus_true[i]))[0][\"score\"])"
   ]
  },
  {
   "cell_type": "code",
   "execution_count": 150,
   "id": "dc887579",
   "metadata": {},
   "outputs": [
    {
     "name": "stdout",
     "output_type": "stream",
     "text": [
      "0.7852251529693604 0.8559021353721619\n"
     ]
    }
   ],
   "source": [
    "print(tx[0],ty[0])"
   ]
  },
  {
   "cell_type": "code",
   "execution_count": 156,
   "id": "be3cc061",
   "metadata": {},
   "outputs": [],
   "source": [
    "# FAKE NEWS, See distribution of scores of each label\n",
    "\n",
    "n = 200\n",
    "fx = []\n",
    "fy = []\n",
    "fz = []\n",
    "\n",
    "for i in range(n):\n",
    "    t = pipe1(corpus_fake[i])[0][\"label\"][-1]\n",
    "    if t == \"0\":\n",
    "        fx.append((pipe1(corpus_fake[i]))[0][\"score\"])\n",
    "    elif t == \"1\":\n",
    "        fy.append((pipe1(corpus_fake[i]))[0][\"score\"])\n",
    "    else:\n",
    "        fz.append((pipe1(corpus_fake[i]))[0][\"score\"])"
   ]
  },
  {
   "cell_type": "code",
   "execution_count": 152,
   "id": "92224803",
   "metadata": {},
   "outputs": [
    {
     "name": "stdout",
     "output_type": "stream",
     "text": [
      "0.5491359233856201 0.6276236176490784\n"
     ]
    }
   ],
   "source": [
    "print(fx[0], fy[0])"
   ]
  },
  {
   "cell_type": "code",
   "execution_count": 157,
   "id": "c590f06a",
   "metadata": {},
   "outputs": [
    {
     "data": {
      "image/png": "[encoded data removed]",
      "text/plain": [
       "<Figure size 640x480 with 1 Axes>"
      ]
     },
     "metadata": {},
     "output_type": "display_data"
    }
   ],
   "source": [
    "# Visualize scores for true and fake news with their labels\n",
    "import matplotlib.pyplot as plt\n",
    "import numpy as np\n",
    "\n",
    "columns = [tx, fx, ty, fy, tz, fz]\n",
    "\n",
    "fig, ax = plt.subplots()\n",
    "ax.boxplot(columns)\n",
    "plt.xticks([1, 2, 3, 4, 5, 6], [\"True 0\",\"Fake 0\", \"True 1\",\"Fake 1\", \"True 2\",\"Fake 2\"])\n",
    "plt.show()"
   ]
  },
  {
   "cell_type": "markdown",
   "id": "cd9da6b1",
   "metadata": {},
   "source": [
    "We see the scores are most dramatically different \n",
    "- Label 1: Very confident in neutral for TRUE news, not so confident for FAKE\n",
    "- Label 2: Too small of a sample to tell, depends on how we sample our data"
   ]
  },
  {
   "cell_type": "code",
   "execution_count": 121,
   "id": "fdc84b62",
   "metadata": {},
   "outputs": [
    {
     "name": "stdout",
     "output_type": "stream",
     "text": [
      "# Label 0: 574 ; Proportion:  0.574\n",
      "# Label 1: 386 ; Proportion:  0.386\n",
      "# Label 2: 40 ; Proportion:  0.04\n"
     ]
    }
   ],
   "source": [
    "n = 1000\n",
    "x = y = z = 0\n",
    "\n",
    "for i in range(n):\n",
    "    t = pipe1(corpus_fake[i])[0][\"label\"][-1] \n",
    "    if t == \"0\":\n",
    "        # print(corpus_fake[i], \"\\n\", round((pipe1(corpus_fake[i]))[0][\"score\"],2))\n",
    "        x+=1\n",
    "    elif t == \"1\":\n",
    "        y+=1\n",
    "    else:\n",
    "        z+=1\n",
    "print(\"# Label 0:\",x, \"; Proportion: \", x/n)\n",
    "print(\"# Label 1:\",y, \"; Proportion: \", y/n)\n",
    "print(\"# Label 2:\",z, \"; Proportion: \", z/n)"
   ]
  },
  {
   "cell_type": "markdown",
   "id": "7009f69c-8ac6-4742-8568-aff08435e5df",
   "metadata": {},
   "source": [
    "# Sentiment analysis via pipeline"
   ]
  },
  {
   "cell_type": "code",
   "execution_count": 60,
   "id": "43027dea-10d8-41b6-9b50-380fdf7d86a6",
   "metadata": {
    "tags": []
   },
   "outputs": [],
   "source": [
    "sentiment_true = [sent_pipeline(x) for x in corpus_true]"
   ]
  },
  {
   "cell_type": "markdown",
   "id": "edaa4c08",
   "metadata": {},
   "source": [
    "Note that the `joy` factor may not match intuition; for instance, the article\n",
    "```\n",
    "WATCH: Colbert HUMILIATES Trump With Scathing Takedown To Avenge Attack On John Dickerson \n",
    "```\n",
    "has Label 0 (negative) with score 0.78 and a joy factor of score 0.78."
   ]
  },
  {
   "cell_type": "code",
   "execution_count": null,
   "id": "e06dd62c",
   "metadata": {},
   "outputs": [],
   "source": []
  }
 ],
 "metadata": {
  "kernelspec": {
   "display_name": "Python 3 (ipykernel)",
   "language": "python",
   "name": "python3"
  },
  "language_info": {
   "codemirror_mode": {
    "name": "ipython",
    "version": 3
   },
   "file_extension": ".py",
   "mimetype": "text/x-python",
   "name": "python",
   "nbconvert_exporter": "python",
   "pygments_lexer": "ipython3",
   "version": "3.10.9"
  }
 },
 "nbformat": 4,
 "nbformat_minor": 5
}
