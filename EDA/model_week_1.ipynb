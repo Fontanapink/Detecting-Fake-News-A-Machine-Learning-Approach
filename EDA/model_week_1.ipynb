{
 "cells": [
  {
   "attachments": {},
   "cell_type": "markdown",
   "id": "2c109bf0",
   "metadata": {},
   "source": [
    "This notebook roughly follows [Detecting opinion spams and fake news ... (2017)](https://www.researchgate.net/publication/322128415_Detecting_opinion_spams_and_fake_news_using_text_classification) by copy-pasting some code from CodeBasic's [videos](https://www.youtube.com/playlist?list=PLeo1K3hjS3uuvuAXhYjV2lMEShq2UYSwX) and [notebooks](https://github.com/codebasics/nlp-tutorials/blob/main/11_bag_of_n_grams/10_bag_of_n_grams.ipynb).\n",
    "\n",
    "<div style=\"color:red;\">Please download the Kaggle dataset and LIAR dataset first.</div>"
   ]
  },
  {
   "attachments": {},
   "cell_type": "markdown",
   "id": "0ff3b96b",
   "metadata": {},
   "source": [
    "# Read in datasets"
   ]
  },
  {
   "cell_type": "code",
   "execution_count": 3,
   "id": "86d90a94",
   "metadata": {
    "scrolled": true
   },
   "outputs": [
    {
     "ename": "FileNotFoundError",
     "evalue": "[Errno 2] No such file or directory: './kaggle_dataset/True.csv'",
     "output_type": "error",
     "traceback": [
      "\u001b[1;31m---------------------------------------------------------------------------\u001b[0m",
      "\u001b[1;31mFileNotFoundError\u001b[0m                         Traceback (most recent call last)",
      "\u001b[1;32mc:\\Users\\elros\\Dropbox\\DataScienceCourses\\ErdosInstitute\\GithubCode\\Detecting-Fake-News\\Example-1\\Detecting opinion spams and fake news.ipynb Cell 3\u001b[0m in \u001b[0;36m1\n\u001b[0;32m      <a href='vscode-notebook-cell:/c%3A/Users/elros/Dropbox/DataScienceCourses/ErdosInstitute/GithubCode/Detecting-Fake-News/Example-1/Detecting%20opinion%20spams%20and%20fake%20news.ipynb#W2sZmlsZQ%3D%3D?line=5'>6</a>\u001b[0m liar_df[\u001b[39m'\u001b[39m\u001b[39mTruth\u001b[39m\u001b[39m'\u001b[39m] \u001b[39m=\u001b[39m liar_df\u001b[39m.\u001b[39mLabel\u001b[39m.\u001b[39mmap({\n\u001b[0;32m      <a href='vscode-notebook-cell:/c%3A/Users/elros/Dropbox/DataScienceCourses/ErdosInstitute/GithubCode/Detecting-Fake-News/Example-1/Detecting%20opinion%20spams%20and%20fake%20news.ipynb#W2sZmlsZQ%3D%3D?line=6'>7</a>\u001b[0m     \u001b[39m'\u001b[39m\u001b[39mpants-fire\u001b[39m\u001b[39m'\u001b[39m: \u001b[39m0\u001b[39m,\n\u001b[0;32m      <a href='vscode-notebook-cell:/c%3A/Users/elros/Dropbox/DataScienceCourses/ErdosInstitute/GithubCode/Detecting-Fake-News/Example-1/Detecting%20opinion%20spams%20and%20fake%20news.ipynb#W2sZmlsZQ%3D%3D?line=7'>8</a>\u001b[0m     \u001b[39m'\u001b[39m\u001b[39mfalse\u001b[39m\u001b[39m'\u001b[39m: \u001b[39m0\u001b[39m,\n\u001b[1;32m   (...)\u001b[0m\n\u001b[0;32m     <a href='vscode-notebook-cell:/c%3A/Users/elros/Dropbox/DataScienceCourses/ErdosInstitute/GithubCode/Detecting-Fake-News/Example-1/Detecting%20opinion%20spams%20and%20fake%20news.ipynb#W2sZmlsZQ%3D%3D?line=12'>13</a>\u001b[0m     \u001b[39m'\u001b[39m\u001b[39mtrue\u001b[39m\u001b[39m'\u001b[39m: \u001b[39m1\u001b[39m\n\u001b[0;32m     <a href='vscode-notebook-cell:/c%3A/Users/elros/Dropbox/DataScienceCourses/ErdosInstitute/GithubCode/Detecting-Fake-News/Example-1/Detecting%20opinion%20spams%20and%20fake%20news.ipynb#W2sZmlsZQ%3D%3D?line=13'>14</a>\u001b[0m })\n\u001b[0;32m     <a href='vscode-notebook-cell:/c%3A/Users/elros/Dropbox/DataScienceCourses/ErdosInstitute/GithubCode/Detecting-Fake-News/Example-1/Detecting%20opinion%20spams%20and%20fake%20news.ipynb#W2sZmlsZQ%3D%3D?line=15'>16</a>\u001b[0m \u001b[39m# Read in Kaggle titles only. The dataframe df_kaggle has two columns: article titles, and (true/false).\u001b[39;00m\n\u001b[1;32m---> <a href='vscode-notebook-cell:/c%3A/Users/elros/Dropbox/DataScienceCourses/ErdosInstitute/GithubCode/Detecting-Fake-News/Example-1/Detecting%20opinion%20spams%20and%20fake%20news.ipynb#W2sZmlsZQ%3D%3D?line=16'>17</a>\u001b[0m kaggle_df_true \u001b[39m=\u001b[39m pd\u001b[39m.\u001b[39mread_csv(\u001b[39m'\u001b[39m\u001b[39m./kaggle_dataset/True.csv\u001b[39m\u001b[39m'\u001b[39m, usecols \u001b[39m=\u001b[39m [\u001b[39m0\u001b[39m])\n\u001b[0;32m     <a href='vscode-notebook-cell:/c%3A/Users/elros/Dropbox/DataScienceCourses/ErdosInstitute/GithubCode/Detecting-Fake-News/Example-1/Detecting%20opinion%20spams%20and%20fake%20news.ipynb#W2sZmlsZQ%3D%3D?line=17'>18</a>\u001b[0m kaggle_df_fake \u001b[39m=\u001b[39m pd\u001b[39m.\u001b[39mread_csv(\u001b[39m'\u001b[39m\u001b[39m./kaggle_dataset/Fake.csv\u001b[39m\u001b[39m'\u001b[39m, usecols \u001b[39m=\u001b[39m [\u001b[39m0\u001b[39m])\n\u001b[0;32m     <a href='vscode-notebook-cell:/c%3A/Users/elros/Dropbox/DataScienceCourses/ErdosInstitute/GithubCode/Detecting-Fake-News/Example-1/Detecting%20opinion%20spams%20and%20fake%20news.ipynb#W2sZmlsZQ%3D%3D?line=18'>19</a>\u001b[0m kaggle_df_true[\u001b[39m'\u001b[39m\u001b[39mTruth\u001b[39m\u001b[39m'\u001b[39m] \u001b[39m=\u001b[39m \u001b[39m1\u001b[39m\n",
      "File \u001b[1;32mc:\\Users\\elros\\Desktop\\DataScienceCourse\\Machine Learning A-Z (Codes and Datasets)\\DataScienceVM\\lib\\site-packages\\pandas\\util\\_decorators.py:211\u001b[0m, in \u001b[0;36mdeprecate_kwarg.<locals>._deprecate_kwarg.<locals>.wrapper\u001b[1;34m(*args, **kwargs)\u001b[0m\n\u001b[0;32m    209\u001b[0m     \u001b[39melse\u001b[39;00m:\n\u001b[0;32m    210\u001b[0m         kwargs[new_arg_name] \u001b[39m=\u001b[39m new_arg_value\n\u001b[1;32m--> 211\u001b[0m \u001b[39mreturn\u001b[39;00m func(\u001b[39m*\u001b[39margs, \u001b[39m*\u001b[39m\u001b[39m*\u001b[39mkwargs)\n",
      "File \u001b[1;32mc:\\Users\\elros\\Desktop\\DataScienceCourse\\Machine Learning A-Z (Codes and Datasets)\\DataScienceVM\\lib\\site-packages\\pandas\\util\\_decorators.py:317\u001b[0m, in \u001b[0;36mdeprecate_nonkeyword_arguments.<locals>.decorate.<locals>.wrapper\u001b[1;34m(*args, **kwargs)\u001b[0m\n\u001b[0;32m    311\u001b[0m \u001b[39mif\u001b[39;00m \u001b[39mlen\u001b[39m(args) \u001b[39m>\u001b[39m num_allow_args:\n\u001b[0;32m    312\u001b[0m     warnings\u001b[39m.\u001b[39mwarn(\n\u001b[0;32m    313\u001b[0m         msg\u001b[39m.\u001b[39mformat(arguments\u001b[39m=\u001b[39marguments),\n\u001b[0;32m    314\u001b[0m         \u001b[39mFutureWarning\u001b[39;00m,\n\u001b[0;32m    315\u001b[0m         stacklevel\u001b[39m=\u001b[39mfind_stack_level(inspect\u001b[39m.\u001b[39mcurrentframe()),\n\u001b[0;32m    316\u001b[0m     )\n\u001b[1;32m--> 317\u001b[0m \u001b[39mreturn\u001b[39;00m func(\u001b[39m*\u001b[39margs, \u001b[39m*\u001b[39m\u001b[39m*\u001b[39mkwargs)\n",
      "File \u001b[1;32mc:\\Users\\elros\\Desktop\\DataScienceCourse\\Machine Learning A-Z (Codes and Datasets)\\DataScienceVM\\lib\\site-packages\\pandas\\io\\parsers\\readers.py:950\u001b[0m, in \u001b[0;36mread_csv\u001b[1;34m(filepath_or_buffer, sep, delimiter, header, names, index_col, usecols, squeeze, prefix, mangle_dupe_cols, dtype, engine, converters, true_values, false_values, skipinitialspace, skiprows, skipfooter, nrows, na_values, keep_default_na, na_filter, verbose, skip_blank_lines, parse_dates, infer_datetime_format, keep_date_col, date_parser, dayfirst, cache_dates, iterator, chunksize, compression, thousands, decimal, lineterminator, quotechar, quoting, doublequote, escapechar, comment, encoding, encoding_errors, dialect, error_bad_lines, warn_bad_lines, on_bad_lines, delim_whitespace, low_memory, memory_map, float_precision, storage_options)\u001b[0m\n\u001b[0;32m    935\u001b[0m kwds_defaults \u001b[39m=\u001b[39m _refine_defaults_read(\n\u001b[0;32m    936\u001b[0m     dialect,\n\u001b[0;32m    937\u001b[0m     delimiter,\n\u001b[1;32m   (...)\u001b[0m\n\u001b[0;32m    946\u001b[0m     defaults\u001b[39m=\u001b[39m{\u001b[39m\"\u001b[39m\u001b[39mdelimiter\u001b[39m\u001b[39m\"\u001b[39m: \u001b[39m\"\u001b[39m\u001b[39m,\u001b[39m\u001b[39m\"\u001b[39m},\n\u001b[0;32m    947\u001b[0m )\n\u001b[0;32m    948\u001b[0m kwds\u001b[39m.\u001b[39mupdate(kwds_defaults)\n\u001b[1;32m--> 950\u001b[0m \u001b[39mreturn\u001b[39;00m _read(filepath_or_buffer, kwds)\n",
      "File \u001b[1;32mc:\\Users\\elros\\Desktop\\DataScienceCourse\\Machine Learning A-Z (Codes and Datasets)\\DataScienceVM\\lib\\site-packages\\pandas\\io\\parsers\\readers.py:605\u001b[0m, in \u001b[0;36m_read\u001b[1;34m(filepath_or_buffer, kwds)\u001b[0m\n\u001b[0;32m    602\u001b[0m _validate_names(kwds\u001b[39m.\u001b[39mget(\u001b[39m\"\u001b[39m\u001b[39mnames\u001b[39m\u001b[39m\"\u001b[39m, \u001b[39mNone\u001b[39;00m))\n\u001b[0;32m    604\u001b[0m \u001b[39m# Create the parser.\u001b[39;00m\n\u001b[1;32m--> 605\u001b[0m parser \u001b[39m=\u001b[39m TextFileReader(filepath_or_buffer, \u001b[39m*\u001b[39m\u001b[39m*\u001b[39mkwds)\n\u001b[0;32m    607\u001b[0m \u001b[39mif\u001b[39;00m chunksize \u001b[39mor\u001b[39;00m iterator:\n\u001b[0;32m    608\u001b[0m     \u001b[39mreturn\u001b[39;00m parser\n",
      "File \u001b[1;32mc:\\Users\\elros\\Desktop\\DataScienceCourse\\Machine Learning A-Z (Codes and Datasets)\\DataScienceVM\\lib\\site-packages\\pandas\\io\\parsers\\readers.py:1442\u001b[0m, in \u001b[0;36mTextFileReader.__init__\u001b[1;34m(self, f, engine, **kwds)\u001b[0m\n\u001b[0;32m   1439\u001b[0m     \u001b[39mself\u001b[39m\u001b[39m.\u001b[39moptions[\u001b[39m\"\u001b[39m\u001b[39mhas_index_names\u001b[39m\u001b[39m\"\u001b[39m] \u001b[39m=\u001b[39m kwds[\u001b[39m\"\u001b[39m\u001b[39mhas_index_names\u001b[39m\u001b[39m\"\u001b[39m]\n\u001b[0;32m   1441\u001b[0m \u001b[39mself\u001b[39m\u001b[39m.\u001b[39mhandles: IOHandles \u001b[39m|\u001b[39m \u001b[39mNone\u001b[39;00m \u001b[39m=\u001b[39m \u001b[39mNone\u001b[39;00m\n\u001b[1;32m-> 1442\u001b[0m \u001b[39mself\u001b[39m\u001b[39m.\u001b[39m_engine \u001b[39m=\u001b[39m \u001b[39mself\u001b[39;49m\u001b[39m.\u001b[39;49m_make_engine(f, \u001b[39mself\u001b[39;49m\u001b[39m.\u001b[39;49mengine)\n",
      "File \u001b[1;32mc:\\Users\\elros\\Desktop\\DataScienceCourse\\Machine Learning A-Z (Codes and Datasets)\\DataScienceVM\\lib\\site-packages\\pandas\\io\\parsers\\readers.py:1729\u001b[0m, in \u001b[0;36mTextFileReader._make_engine\u001b[1;34m(self, f, engine)\u001b[0m\n\u001b[0;32m   1727\u001b[0m     is_text \u001b[39m=\u001b[39m \u001b[39mFalse\u001b[39;00m\n\u001b[0;32m   1728\u001b[0m     mode \u001b[39m=\u001b[39m \u001b[39m\"\u001b[39m\u001b[39mrb\u001b[39m\u001b[39m\"\u001b[39m\n\u001b[1;32m-> 1729\u001b[0m \u001b[39mself\u001b[39m\u001b[39m.\u001b[39mhandles \u001b[39m=\u001b[39m get_handle(\n\u001b[0;32m   1730\u001b[0m     f,\n\u001b[0;32m   1731\u001b[0m     mode,\n\u001b[0;32m   1732\u001b[0m     encoding\u001b[39m=\u001b[39;49m\u001b[39mself\u001b[39;49m\u001b[39m.\u001b[39;49moptions\u001b[39m.\u001b[39;49mget(\u001b[39m\"\u001b[39;49m\u001b[39mencoding\u001b[39;49m\u001b[39m\"\u001b[39;49m, \u001b[39mNone\u001b[39;49;00m),\n\u001b[0;32m   1733\u001b[0m     compression\u001b[39m=\u001b[39;49m\u001b[39mself\u001b[39;49m\u001b[39m.\u001b[39;49moptions\u001b[39m.\u001b[39;49mget(\u001b[39m\"\u001b[39;49m\u001b[39mcompression\u001b[39;49m\u001b[39m\"\u001b[39;49m, \u001b[39mNone\u001b[39;49;00m),\n\u001b[0;32m   1734\u001b[0m     memory_map\u001b[39m=\u001b[39;49m\u001b[39mself\u001b[39;49m\u001b[39m.\u001b[39;49moptions\u001b[39m.\u001b[39;49mget(\u001b[39m\"\u001b[39;49m\u001b[39mmemory_map\u001b[39;49m\u001b[39m\"\u001b[39;49m, \u001b[39mFalse\u001b[39;49;00m),\n\u001b[0;32m   1735\u001b[0m     is_text\u001b[39m=\u001b[39;49mis_text,\n\u001b[0;32m   1736\u001b[0m     errors\u001b[39m=\u001b[39;49m\u001b[39mself\u001b[39;49m\u001b[39m.\u001b[39;49moptions\u001b[39m.\u001b[39;49mget(\u001b[39m\"\u001b[39;49m\u001b[39mencoding_errors\u001b[39;49m\u001b[39m\"\u001b[39;49m, \u001b[39m\"\u001b[39;49m\u001b[39mstrict\u001b[39;49m\u001b[39m\"\u001b[39;49m),\n\u001b[0;32m   1737\u001b[0m     storage_options\u001b[39m=\u001b[39;49m\u001b[39mself\u001b[39;49m\u001b[39m.\u001b[39;49moptions\u001b[39m.\u001b[39;49mget(\u001b[39m\"\u001b[39;49m\u001b[39mstorage_options\u001b[39;49m\u001b[39m\"\u001b[39;49m, \u001b[39mNone\u001b[39;49;00m),\n\u001b[0;32m   1738\u001b[0m )\n\u001b[0;32m   1739\u001b[0m \u001b[39massert\u001b[39;00m \u001b[39mself\u001b[39m\u001b[39m.\u001b[39mhandles \u001b[39mis\u001b[39;00m \u001b[39mnot\u001b[39;00m \u001b[39mNone\u001b[39;00m\n\u001b[0;32m   1740\u001b[0m f \u001b[39m=\u001b[39m \u001b[39mself\u001b[39m\u001b[39m.\u001b[39mhandles\u001b[39m.\u001b[39mhandle\n",
      "File \u001b[1;32mc:\\Users\\elros\\Desktop\\DataScienceCourse\\Machine Learning A-Z (Codes and Datasets)\\DataScienceVM\\lib\\site-packages\\pandas\\io\\common.py:857\u001b[0m, in \u001b[0;36mget_handle\u001b[1;34m(path_or_buf, mode, encoding, compression, memory_map, is_text, errors, storage_options)\u001b[0m\n\u001b[0;32m    852\u001b[0m \u001b[39melif\u001b[39;00m \u001b[39misinstance\u001b[39m(handle, \u001b[39mstr\u001b[39m):\n\u001b[0;32m    853\u001b[0m     \u001b[39m# Check whether the filename is to be opened in binary mode.\u001b[39;00m\n\u001b[0;32m    854\u001b[0m     \u001b[39m# Binary mode does not support 'encoding' and 'newline'.\u001b[39;00m\n\u001b[0;32m    855\u001b[0m     \u001b[39mif\u001b[39;00m ioargs\u001b[39m.\u001b[39mencoding \u001b[39mand\u001b[39;00m \u001b[39m\"\u001b[39m\u001b[39mb\u001b[39m\u001b[39m\"\u001b[39m \u001b[39mnot\u001b[39;00m \u001b[39min\u001b[39;00m ioargs\u001b[39m.\u001b[39mmode:\n\u001b[0;32m    856\u001b[0m         \u001b[39m# Encoding\u001b[39;00m\n\u001b[1;32m--> 857\u001b[0m         handle \u001b[39m=\u001b[39m \u001b[39mopen\u001b[39;49m(\n\u001b[0;32m    858\u001b[0m             handle,\n\u001b[0;32m    859\u001b[0m             ioargs\u001b[39m.\u001b[39;49mmode,\n\u001b[0;32m    860\u001b[0m             encoding\u001b[39m=\u001b[39;49mioargs\u001b[39m.\u001b[39;49mencoding,\n\u001b[0;32m    861\u001b[0m             errors\u001b[39m=\u001b[39;49merrors,\n\u001b[0;32m    862\u001b[0m             newline\u001b[39m=\u001b[39;49m\u001b[39m\"\u001b[39;49m\u001b[39m\"\u001b[39;49m,\n\u001b[0;32m    863\u001b[0m         )\n\u001b[0;32m    864\u001b[0m     \u001b[39melse\u001b[39;00m:\n\u001b[0;32m    865\u001b[0m         \u001b[39m# Binary mode\u001b[39;00m\n\u001b[0;32m    866\u001b[0m         handle \u001b[39m=\u001b[39m \u001b[39mopen\u001b[39m(handle, ioargs\u001b[39m.\u001b[39mmode)\n",
      "\u001b[1;31mFileNotFoundError\u001b[0m: [Errno 2] No such file or directory: './kaggle_dataset/True.csv'"
     ]
    }
   ],
   "source": [
    "import pandas as pd\n",
    "\n",
    "# Read in LIAR dataset columns 1 and 2 only:\n",
    "liar_df = pd.read_csv('./Datasets/liar_dataset/train.tsv', sep='\\t',header=None, usecols = [1,2], names=[\"Label\", \"Statement\"])\n",
    "liar_df.head()\n",
    "liar_df['Truth'] = liar_df.Label.map({\n",
    "    'pants-fire': 0,\n",
    "    'false': 0,\n",
    "    'mostly-false': 0,\n",
    "    'half-true': 0,\n",
    "    'barely-true': 1,\n",
    "    'mostly-true': 1,\n",
    "    'true': 1\n",
    "})\n",
    "\n",
    "# Read in Kaggle titles only. The dataframe df_kaggle has two columns: article titles, and (true/false).\n",
    "kaggle_df_true = pd.read_csv('./kaggle_dataset/True.csv', usecols = [0])\n",
    "kaggle_df_fake = pd.read_csv('./kaggle_dataset/Fake.csv', usecols = [0])\n",
    "kaggle_df_true['Truth'] = 1\n",
    "kaggle_df_fake['Truth'] = 0\n",
    "kaggle_df = pd.concat([kaggle_df_true, kaggle_df_fake], ignore_index=True, sort=False)"
   ]
  },
  {
   "attachments": {},
   "cell_type": "markdown",
   "id": "0b5cdc06",
   "metadata": {},
   "source": [
    "# Preprocessing"
   ]
  },
  {
   "attachments": {},
   "cell_type": "markdown",
   "id": "62aae28d",
   "metadata": {},
   "source": [
    "<div style=\"color:red;\">You may need to install</div> [`spacy`](https://spacy.io/usage/). For instance, in `conda powershell`, type the following two commands:\n",
    "```\n",
    "conda install -c conda-forge spacy\n",
    "python -m spacy download en_core_web_sm\n",
    "```"
   ]
  },
  {
   "cell_type": "code",
   "execution_count": 55,
   "id": "dd0398de",
   "metadata": {},
   "outputs": [],
   "source": [
    "import spacy\n",
    "\n",
    "# load english language model and create nlp object from it\n",
    "nlp = spacy.load(\"en_core_web_sm\") \n",
    "\n",
    "def preprocess(text):\n",
    "    # remove stop words and lemmatize the text\n",
    "    doc = nlp(text)\n",
    "    filtered_tokens = []\n",
    "    for token in doc:\n",
    "        if token.is_stop or token.is_punct:\n",
    "            continue\n",
    "        filtered_tokens.append(token.lemma_)\n",
    "    \n",
    "    return \" \".join(filtered_tokens)"
   ]
  },
  {
   "cell_type": "code",
   "execution_count": 56,
   "id": "86efae9d",
   "metadata": {},
   "outputs": [],
   "source": [
    "# preprocess kaggle_corpus\n",
    "kaggle_corpus = kaggle_df.loc[:,'title'].tolist()\n",
    "kaggle_corpus_processed = [preprocess(text) for text in kaggle_corpus]"
   ]
  },
  {
   "cell_type": "code",
   "execution_count": 64,
   "id": "08566d48",
   "metadata": {},
   "outputs": [],
   "source": [
    "# preprocess liar_corpus\n",
    "liar_corpus = liar_df.loc[:,'Statement'].tolist()\n",
    "liar_corpus_processed = [preprocess(text) for text in liar_corpus]"
   ]
  },
  {
   "attachments": {},
   "cell_type": "markdown",
   "id": "5dced787",
   "metadata": {},
   "source": [
    "# Train-test split"
   ]
  },
  {
   "cell_type": "code",
   "execution_count": 65,
   "id": "cd20fe2b",
   "metadata": {},
   "outputs": [],
   "source": [
    "from sklearn.model_selection import train_test_split\n",
    "\n",
    "kaggle_X_train, kaggle_X_test, kaggle_y_train, kaggle_y_test = train_test_split(\n",
    "    kaggle_corpus_processed, \n",
    "    kaggle_df.Truth, \n",
    "    test_size=0.2, # 20% samples will go to test dataset\n",
    "    random_state=2022,\n",
    "    stratify=kaggle_df.Truth\n",
    ")\n",
    "\n",
    "liar_X_train, liar_X_test, liar_y_train, liar_y_test = train_test_split(\n",
    "    liar_corpus_processed, \n",
    "    liar_df.Truth, \n",
    "    test_size=0.2, # 20% samples will go to test dataset\n",
    "    random_state=2022,\n",
    "    stratify=None\n",
    ")"
   ]
  },
  {
   "attachments": {},
   "cell_type": "markdown",
   "id": "2e683f5e",
   "metadata": {},
   "source": [
    "# Classification training and report"
   ]
  },
  {
   "cell_type": "code",
   "execution_count": 74,
   "id": "6b4a1f66",
   "metadata": {},
   "outputs": [],
   "source": [
    "from sklearn.feature_extraction.text import CountVectorizer\n",
    "from sklearn.naive_bayes import MultinomialNB\n",
    "from sklearn.neighbors import KNeighborsClassifier\n",
    "from sklearn.feature_extraction.text import TfidfVectorizer\n",
    "from sklearn.pipeline import Pipeline\n",
    "from sklearn.metrics import classification_report\n",
    "from sklearn.ensemble import RandomForestClassifier"
   ]
  },
  {
   "attachments": {},
   "cell_type": "markdown",
   "id": "e8854001",
   "metadata": {},
   "source": [
    "## Kaggle dataset, $n$-gram ($n=1$), Naive Bayes (NB) classifier"
   ]
  },
  {
   "cell_type": "code",
   "execution_count": 67,
   "id": "ccfafebb",
   "metadata": {
    "scrolled": false
   },
   "outputs": [
    {
     "name": "stdout",
     "output_type": "stream",
     "text": [
      "              precision    recall  f1-score   support\n",
      "\n",
      "           0       0.94      0.95      0.95      4696\n",
      "           1       0.95      0.93      0.94      4284\n",
      "\n",
      "    accuracy                           0.94      8980\n",
      "   macro avg       0.94      0.94      0.94      8980\n",
      "weighted avg       0.94      0.94      0.94      8980\n",
      "\n"
     ]
    }
   ],
   "source": [
    "#1. create a pipeline object\n",
    "clf = Pipeline([\n",
    "     ('vectorizer_bow', CountVectorizer(ngram_range = (1, 1))),  #using the ngram_range parameter \n",
    "     ('Multi NB', MultinomialNB())         \n",
    "])\n",
    "\n",
    "#2. fit with X_train and y_train\n",
    "clf.fit(kaggle_X_train, kaggle_y_train)\n",
    "\n",
    "#3. get the predictions for X_test and store it in y_pred\n",
    "kaggle_y_pred = clf.predict(kaggle_X_test)\n",
    "\n",
    "#4. print the classfication report\n",
    "print(classification_report(kaggle_y_test, kaggle_y_pred))"
   ]
  },
  {
   "attachments": {},
   "cell_type": "markdown",
   "id": "7dc9a232",
   "metadata": {},
   "source": [
    "## LIAR dataset, $n$-gram ($n=1$), Naive Bayes (NB) classifier"
   ]
  },
  {
   "cell_type": "code",
   "execution_count": 72,
   "id": "57d5e88b",
   "metadata": {
    "scrolled": false
   },
   "outputs": [
    {
     "name": "stdout",
     "output_type": "stream",
     "text": [
      "              precision    recall  f1-score   support\n",
      "\n",
      "           0       0.55      0.47      0.51       990\n",
      "           1       0.57      0.64      0.60      1058\n",
      "\n",
      "    accuracy                           0.56      2048\n",
      "   macro avg       0.56      0.56      0.56      2048\n",
      "weighted avg       0.56      0.56      0.56      2048\n",
      "\n"
     ]
    }
   ],
   "source": [
    "#2. fit with X_train and y_train\n",
    "clf.fit(liar_X_train, liar_y_train)\n",
    "\n",
    "#3. get the predictions for X_test and store it in y_pred\n",
    "liar_y_pred = clf.predict(liar_X_test)\n",
    "\n",
    "#4. print the classfication report\n",
    "print(classification_report(liar_y_test, liar_y_pred))"
   ]
  },
  {
   "attachments": {},
   "cell_type": "markdown",
   "id": "aee0171a",
   "metadata": {},
   "source": [
    "## Kaggle dataset, $n$-gram ($n=3$), Naive Bayes (NB) classifier"
   ]
  },
  {
   "cell_type": "code",
   "execution_count": 70,
   "id": "7ac219d6",
   "metadata": {},
   "outputs": [
    {
     "name": "stdout",
     "output_type": "stream",
     "text": [
      "              precision    recall  f1-score   support\n",
      "\n",
      "           0       0.93      0.97      0.95      4696\n",
      "           1       0.97      0.92      0.95      4284\n",
      "\n",
      "    accuracy                           0.95      8980\n",
      "   macro avg       0.95      0.95      0.95      8980\n",
      "weighted avg       0.95      0.95      0.95      8980\n",
      "\n"
     ]
    }
   ],
   "source": [
    "#1. create a pipeline object\n",
    "clf = Pipeline([\n",
    "     ('vectorizer_bow', CountVectorizer(ngram_range = (1, 3))),  #using the ngram_range parameter \n",
    "     ('Multi NB', MultinomialNB())         \n",
    "])\n",
    "\n",
    "#2. fit with X_train and y_train\n",
    "clf.fit(kaggle_X_train, kaggle_y_train)\n",
    "\n",
    "#3. get the predictions for X_test and store it in y_pred\n",
    "kaggle_y_pred = clf.predict(kaggle_X_test)\n",
    "\n",
    "#4. print the classfication report\n",
    "print(classification_report(kaggle_y_test, kaggle_y_pred))"
   ]
  },
  {
   "attachments": {},
   "cell_type": "markdown",
   "id": "042e8a5f",
   "metadata": {},
   "source": [
    "## Kaggle dataset, TD-IDF, $k$-NN classifier"
   ]
  },
  {
   "cell_type": "code",
   "execution_count": 69,
   "id": "ea35f2a6",
   "metadata": {
    "scrolled": true
   },
   "outputs": [
    {
     "name": "stdout",
     "output_type": "stream",
     "text": [
      "              precision    recall  f1-score   support\n",
      "\n",
      "           0       0.93      0.86      0.89      4696\n",
      "           1       0.86      0.93      0.89      4284\n",
      "\n",
      "    accuracy                           0.89      8980\n",
      "   macro avg       0.89      0.89      0.89      8980\n",
      "weighted avg       0.90      0.89      0.89      8980\n",
      "\n"
     ]
    }
   ],
   "source": [
    "#1. create a pipeline object\n",
    "clf = Pipeline([\n",
    "     ('vectorizer_tfidf',TfidfVectorizer()),    \n",
    "     ('KNN', KNeighborsClassifier())         \n",
    "])\n",
    "\n",
    "#2. fit with X_train and y_train\n",
    "clf.fit(kaggle_X_train, kaggle_y_train)\n",
    "\n",
    "#3. get the predictions for X_test and store it in y_pred\n",
    "kaggle_y_pred = clf.predict(kaggle_X_test)\n",
    "\n",
    "#4. print the classfication report\n",
    "print(classification_report(kaggle_y_test, kaggle_y_pred))"
   ]
  },
  {
   "attachments": {},
   "cell_type": "markdown",
   "id": "ad72d709",
   "metadata": {},
   "source": [
    "## LIAR dataset, TD-IDF, $k$-NN classifier"
   ]
  },
  {
   "cell_type": "code",
   "execution_count": 71,
   "id": "78674b04",
   "metadata": {
    "scrolled": true
   },
   "outputs": [
    {
     "name": "stdout",
     "output_type": "stream",
     "text": [
      "              precision    recall  f1-score   support\n",
      "\n",
      "           0       0.55      0.47      0.51       990\n",
      "           1       0.57      0.64      0.60      1058\n",
      "\n",
      "    accuracy                           0.56      2048\n",
      "   macro avg       0.56      0.56      0.56      2048\n",
      "weighted avg       0.56      0.56      0.56      2048\n",
      "\n"
     ]
    }
   ],
   "source": [
    "#2. fit with X_train and y_train\n",
    "clf.fit(liar_X_train, liar_y_train)\n",
    "\n",
    "\n",
    "#3. get the predictions for X_test and store it in y_pred\n",
    "liar_y_pred = clf.predict(liar_X_test)\n",
    "\n",
    "\n",
    "#4. print the classfication report\n",
    "print(classification_report(liar_y_test, liar_y_pred))"
   ]
  },
  {
   "attachments": {},
   "cell_type": "markdown",
   "id": "5e9359af",
   "metadata": {},
   "source": [
    "## Kaggle dataset, TD-IDF, Random forest"
   ]
  },
  {
   "cell_type": "code",
   "execution_count": 76,
   "id": "5d657a1d",
   "metadata": {},
   "outputs": [
    {
     "name": "stdout",
     "output_type": "stream",
     "text": [
      "              precision    recall  f1-score   support\n",
      "\n",
      "           0       0.95      0.93      0.94      4696\n",
      "           1       0.93      0.95      0.94      4284\n",
      "\n",
      "    accuracy                           0.94      8980\n",
      "   macro avg       0.94      0.94      0.94      8980\n",
      "weighted avg       0.94      0.94      0.94      8980\n",
      "\n"
     ]
    }
   ],
   "source": [
    "#1. create a pipeline object\n",
    "clf = Pipeline([\n",
    "     ('vectorizer_tfidf',TfidfVectorizer()),        #using the ngram_range parameter \n",
    "     ('Random Forest', RandomForestClassifier())         \n",
    "])\n",
    "\n",
    "#2. fit with X_train and y_train\n",
    "clf.fit(kaggle_X_train, kaggle_y_train)\n",
    "\n",
    "\n",
    "#3. get the predictions for X_test and store it in y_pred\n",
    "kaggle_y_pred = clf.predict(kaggle_X_test)\n",
    "\n",
    "\n",
    "#4. print the classfication report\n",
    "print(classification_report(kaggle_y_test, kaggle_y_pred))"
   ]
  },
  {
   "attachments": {},
   "cell_type": "markdown",
   "id": "59a49f0a",
   "metadata": {},
   "source": [
    "## LIAR dataset, TD-IDF, Random forest"
   ]
  },
  {
   "cell_type": "code",
   "execution_count": 75,
   "id": "56488985",
   "metadata": {},
   "outputs": [
    {
     "name": "stdout",
     "output_type": "stream",
     "text": [
      "              precision    recall  f1-score   support\n",
      "\n",
      "           0       0.55      0.51      0.53       990\n",
      "           1       0.57      0.61      0.59      1058\n",
      "\n",
      "    accuracy                           0.56      2048\n",
      "   macro avg       0.56      0.56      0.56      2048\n",
      "weighted avg       0.56      0.56      0.56      2048\n",
      "\n"
     ]
    }
   ],
   "source": [
    "#2. fit with X_train and y_train\n",
    "clf.fit(liar_X_train, liar_y_train)\n",
    "\n",
    "\n",
    "#3. get the predictions for X_test and store it in y_pred\n",
    "liar_y_pred = clf.predict(liar_X_test)\n",
    "\n",
    "\n",
    "#4. print the classfication report\n",
    "print(classification_report(liar_y_test, liar_y_pred))"
   ]
  },
  {
   "attachments": {},
   "cell_type": "markdown",
   "id": "3adc01b7",
   "metadata": {},
   "source": [
    "You can also experiment with what happens if we run this without preprocessing the text, or if we preprocess but do not remove stop words."
   ]
  },
  {
   "cell_type": "code",
   "execution_count": null,
   "id": "0f294de8",
   "metadata": {},
   "outputs": [],
   "source": []
  }
 ],
 "metadata": {
  "kernelspec": {
   "display_name": "Python 3 (ipykernel)",
   "language": "python",
   "name": "python3"
  },
  "language_info": {
   "codemirror_mode": {
    "name": "ipython",
    "version": 3
   },
   "file_extension": ".py",
   "mimetype": "text/x-python",
   "name": "python",
   "nbconvert_exporter": "python",
   "pygments_lexer": "ipython3",
   "version": "3.10.3"
  }
 },
 "nbformat": 4,
 "nbformat_minor": 5
}
