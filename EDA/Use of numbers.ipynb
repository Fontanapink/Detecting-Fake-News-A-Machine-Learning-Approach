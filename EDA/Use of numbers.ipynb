{
 "cells": [
  {
   "attachments": {},
   "cell_type": "markdown",
   "id": "2b16fa68",
   "metadata": {},
   "source": [
    "Copied example from Example-1 and made own processing to extract all numbers used in each item\n",
    "\n",
    "-Shayne M. Plourde"
   ]
  },
  {
   "attachments": {},
   "cell_type": "markdown",
   "id": "20e0dada",
   "metadata": {},
   "source": [
    "## Punchline:\n",
    "\n",
    "percentage of news with numbers that are true for kaggle_df: \n",
    "\n",
    "37.42458914083628 percent\n",
    "\n",
    "Percentage of Kaggle that uses numbers: \n",
    "\n",
    "0.1070649026682703\n",
    "\n",
    "percentage of news with numbers in title that are true for liar_df: \n",
    "\n",
    "55.13203786746388 percent\n",
    "\n",
    "Percentage of Liar that uses numbers: \n",
    "\n",
    "0.3919921875\n",
    "\n",
    "\n",
    "### The difference in number use for the Kaggle DF was significantly different from true to false, but the overall useage of numbers was too low to make meaningful predictions from."
   ]
  },
  {
   "cell_type": "markdown",
   "id": "0ff3b96b",
   "metadata": {},
   "source": [
    "# Read in datasets"
   ]
  },
  {
   "cell_type": "code",
   "execution_count": 1,
   "id": "86d90a94",
   "metadata": {
    "scrolled": true
   },
   "outputs": [],
   "source": [
    "import pandas as pd\n",
    "import numpy as np\n",
    "import matplotlib.pyplot as plt\n"
   ]
  },
  {
   "cell_type": "code",
   "execution_count": 2,
   "id": "09a4c8c3",
   "metadata": {},
   "outputs": [],
   "source": [
    "\n",
    "# Read in LIAR dataset columns 1 and 2 only:\n",
    "liar_df = pd.read_csv('../Datasets/liar_dataset/train.tsv', sep='\\t',header=None, usecols = [1,2], names=[\"Label\", \"Statement\"])\n",
    "liar_df['Truth'] = liar_df.Label.map({\n",
    "    'pants-fire': 0,\n",
    "    'false': 0,\n",
    "    'mostly-false': 0,\n",
    "    'half-true': 0,\n",
    "    'barely-true': 1,\n",
    "    'mostly-true': 1,\n",
    "    'true': 1\n",
    "})\n"
   ]
  },
  {
   "cell_type": "code",
   "execution_count": 3,
   "id": "ac668b13",
   "metadata": {},
   "outputs": [],
   "source": [
    "\n",
    "# Read in Kaggle titles only. The dataframe df_kaggle has two columns: article titles, and (true/false).\n",
    "kaggle_df_true = pd.read_csv('../Datasets/kaggle/True.csv', usecols = [0])\n",
    "kaggle_df_fake = pd.read_csv('../Datasets/kaggle/Fake.csv', usecols = [0])\n",
    "kaggle_df_true['Truth'] = 1\n",
    "kaggle_df_fake['Truth'] = 0\n",
    "kaggle_df = pd.concat([kaggle_df_true, kaggle_df_fake], ignore_index=True, sort=False)"
   ]
  },
  {
   "cell_type": "code",
   "execution_count": 4,
   "id": "80c7b474",
   "metadata": {},
   "outputs": [
    {
     "data": {
      "text/html": [
       "<div>\n",
       "<style scoped>\n",
       "    .dataframe tbody tr th:only-of-type {\n",
       "        vertical-align: middle;\n",
       "    }\n",
       "\n",
       "    .dataframe tbody tr th {\n",
       "        vertical-align: top;\n",
       "    }\n",
       "\n",
       "    .dataframe thead th {\n",
       "        text-align: right;\n",
       "    }\n",
       "</style>\n",
       "<table border=\"1\" class=\"dataframe\">\n",
       "  <thead>\n",
       "    <tr style=\"text-align: right;\">\n",
       "      <th></th>\n",
       "      <th>Label</th>\n",
       "      <th>Statement</th>\n",
       "      <th>Truth</th>\n",
       "      <th>Numbs</th>\n",
       "      <th>UsesNumbs</th>\n",
       "    </tr>\n",
       "  </thead>\n",
       "  <tbody>\n",
       "    <tr>\n",
       "      <th>6486</th>\n",
       "      <td>half-true</td>\n",
       "      <td>The health care reform law offset[s] 6 years o...</td>\n",
       "      <td>0</td>\n",
       "      <td>[6, 10]</td>\n",
       "      <td>1</td>\n",
       "    </tr>\n",
       "    <tr>\n",
       "      <th>1570</th>\n",
       "      <td>half-true</td>\n",
       "      <td>In South Carolina, women earn 76 cents on the ...</td>\n",
       "      <td>0</td>\n",
       "      <td>[76]</td>\n",
       "      <td>1</td>\n",
       "    </tr>\n",
       "    <tr>\n",
       "      <th>10087</th>\n",
       "      <td>barely-true</td>\n",
       "      <td>Keystone XL allows Canada to pump their oil, s...</td>\n",
       "      <td>1</td>\n",
       "      <td>[]</td>\n",
       "      <td>0</td>\n",
       "    </tr>\n",
       "    <tr>\n",
       "      <th>6861</th>\n",
       "      <td>half-true</td>\n",
       "      <td>Say in November 2010, voters overwhelmingly su...</td>\n",
       "      <td>0</td>\n",
       "      <td>[2010]</td>\n",
       "      <td>1</td>\n",
       "    </tr>\n",
       "    <tr>\n",
       "      <th>1707</th>\n",
       "      <td>mostly-true</td>\n",
       "      <td>New Jersey has had seven credit downgrades sin...</td>\n",
       "      <td>1</td>\n",
       "      <td>[]</td>\n",
       "      <td>0</td>\n",
       "    </tr>\n",
       "  </tbody>\n",
       "</table>\n",
       "</div>"
      ],
      "text/plain": [
       "             Label                                          Statement  Truth   \n",
       "6486     half-true  The health care reform law offset[s] 6 years o...      0  \\\n",
       "1570     half-true  In South Carolina, women earn 76 cents on the ...      0   \n",
       "10087  barely-true  Keystone XL allows Canada to pump their oil, s...      1   \n",
       "6861     half-true  Say in November 2010, voters overwhelmingly su...      0   \n",
       "1707   mostly-true  New Jersey has had seven credit downgrades sin...      1   \n",
       "\n",
       "         Numbs  UsesNumbs  \n",
       "6486   [6, 10]          1  \n",
       "1570      [76]          1  \n",
       "10087       []          0  \n",
       "6861    [2010]          1  \n",
       "1707        []          0  "
      ]
     },
     "execution_count": 4,
     "metadata": {},
     "output_type": "execute_result"
    }
   ],
   "source": [
    "liar_df['Numbs'] = liar_df.Statement.str.findall(r'(\\d+(?:\\.\\d+)?)')\n",
    "liar_df['UsesNumbs'] = 0\n",
    "liar_df.loc[liar_df['Numbs'].str.len() > 0, 'UsesNumbs'] = 1\n",
    "liar_df.sample(5)"
   ]
  },
  {
   "cell_type": "code",
   "execution_count": 6,
   "id": "7289eed6",
   "metadata": {},
   "outputs": [
    {
     "data": {
      "text/html": [
       "<div>\n",
       "<style scoped>\n",
       "    .dataframe tbody tr th:only-of-type {\n",
       "        vertical-align: middle;\n",
       "    }\n",
       "\n",
       "    .dataframe tbody tr th {\n",
       "        vertical-align: top;\n",
       "    }\n",
       "\n",
       "    .dataframe thead th {\n",
       "        text-align: right;\n",
       "    }\n",
       "</style>\n",
       "<table border=\"1\" class=\"dataframe\">\n",
       "  <thead>\n",
       "    <tr style=\"text-align: right;\">\n",
       "      <th></th>\n",
       "      <th>title</th>\n",
       "      <th>Truth</th>\n",
       "      <th>Numbs</th>\n",
       "      <th>UsesNumbs</th>\n",
       "    </tr>\n",
       "  </thead>\n",
       "  <tbody>\n",
       "    <tr>\n",
       "      <th>0</th>\n",
       "      <td>As U.S. budget fight looms, Republicans flip t...</td>\n",
       "      <td>1</td>\n",
       "      <td>[]</td>\n",
       "      <td>0</td>\n",
       "    </tr>\n",
       "    <tr>\n",
       "      <th>1</th>\n",
       "      <td>U.S. military to accept transgender recruits o...</td>\n",
       "      <td>1</td>\n",
       "      <td>[]</td>\n",
       "      <td>0</td>\n",
       "    </tr>\n",
       "    <tr>\n",
       "      <th>2</th>\n",
       "      <td>Senior U.S. Republican senator: 'Let Mr. Muell...</td>\n",
       "      <td>1</td>\n",
       "      <td>[]</td>\n",
       "      <td>0</td>\n",
       "    </tr>\n",
       "    <tr>\n",
       "      <th>3</th>\n",
       "      <td>FBI Russia probe helped by Australian diplomat...</td>\n",
       "      <td>1</td>\n",
       "      <td>[]</td>\n",
       "      <td>0</td>\n",
       "    </tr>\n",
       "    <tr>\n",
       "      <th>4</th>\n",
       "      <td>Trump wants Postal Service to charge 'much mor...</td>\n",
       "      <td>1</td>\n",
       "      <td>[]</td>\n",
       "      <td>0</td>\n",
       "    </tr>\n",
       "  </tbody>\n",
       "</table>\n",
       "</div>"
      ],
      "text/plain": [
       "                                               title  Truth Numbs  UsesNumbs\n",
       "0  As U.S. budget fight looms, Republicans flip t...      1    []          0\n",
       "1  U.S. military to accept transgender recruits o...      1    []          0\n",
       "2  Senior U.S. Republican senator: 'Let Mr. Muell...      1    []          0\n",
       "3  FBI Russia probe helped by Australian diplomat...      1    []          0\n",
       "4  Trump wants Postal Service to charge 'much mor...      1    []          0"
      ]
     },
     "execution_count": 6,
     "metadata": {},
     "output_type": "execute_result"
    }
   ],
   "source": [
    "kaggle_df['Numbs'] = kaggle_df.title.str.findall(r'(\\d+(?:\\.\\d+)?)')\n",
    "kaggle_df['UsesNumbs'] = 0\n",
    "kaggle_df.loc[kaggle_df['Numbs'].str.len() > 0, 'UsesNumbs'] = 1\n",
    "kaggle_df.head(5)"
   ]
  },
  {
   "cell_type": "code",
   "execution_count": 12,
   "id": "a8057665",
   "metadata": {},
   "outputs": [],
   "source": [
    "kaggle_df.to_csv('../Datasets/kaggle/auxiliary/Use of numbers.csv', columns=['title','Truth', 'UsesNumbs'])"
   ]
  },
  {
   "cell_type": "code",
   "execution_count": 13,
   "id": "12f2f2ad",
   "metadata": {},
   "outputs": [
    {
     "name": "stdout",
     "output_type": "stream",
     "text": [
      "Percentage of Liar that uses numbers: \n",
      "0.3919921875\n"
     ]
    }
   ],
   "source": [
    "print('Percentage of Liar that uses numbers: ')\n",
    "print(liar_df['UsesNumbs'].mean())"
   ]
  },
  {
   "cell_type": "code",
   "execution_count": 8,
   "id": "2e1d311c",
   "metadata": {},
   "outputs": [
    {
     "data": {
      "text/plain": [
       "Label\n",
       "barely-true    0.374849\n",
       "false          0.319298\n",
       "half-true      0.438978\n",
       "mostly-true    0.463303\n",
       "pants-fire     0.281287\n",
       "true           0.408115\n",
       "Name: UsesNumbs, dtype: float64"
      ]
     },
     "execution_count": 8,
     "metadata": {},
     "output_type": "execute_result"
    },
    {
     "data": {
      "image/png": "[encoded data removed]",
      "text/plain": [
       "<Figure size 640x480 with 1 Axes>"
      ]
     },
     "metadata": {},
     "output_type": "display_data"
    }
   ],
   "source": [
    "#count usesNumbs for each label AND PLOT\n",
    "liar_df.groupby('Label')['UsesNumbs'].mean().plot(kind='bar')\n",
    "#TITLE use of numbers\n",
    "plt.title('Percentage of each category that usues numbers')\n",
    "liar_df.groupby('Label')['UsesNumbs'].mean()"
   ]
  },
  {
   "cell_type": "code",
   "execution_count": 12,
   "id": "6d1acc1e",
   "metadata": {},
   "outputs": [
    {
     "name": "stdout",
     "output_type": "stream",
     "text": [
      "Percentage of Kaggle that uses numbers: \n",
      "0.1070649026682703\n"
     ]
    }
   ],
   "source": [
    "print('Percentage of Kaggle that uses numbers: ')\n",
    "print(kaggle_df['UsesNumbs'].mean())"
   ]
  },
  {
   "cell_type": "code",
   "execution_count": 10,
   "id": "d8e0e9c7",
   "metadata": {},
   "outputs": [
    {
     "data": {
      "text/plain": [
       "Truth\n",
       "0    0.128104\n",
       "1    0.083999\n",
       "Name: UsesNumbs, dtype: float64"
      ]
     },
     "execution_count": 10,
     "metadata": {},
     "output_type": "execute_result"
    },
    {
     "data": {
      "image/png": "[encoded data removed]",
      "text/plain": [
       "<Figure size 640x480 with 1 Axes>"
      ]
     },
     "metadata": {},
     "output_type": "display_data"
    }
   ],
   "source": [
    "kaggle_df.groupby('Truth')['UsesNumbs'].mean().plot(kind='bar')\n",
    "#TITLE use of numbers\n",
    "plt.title('percentage of number use by category in kaggle dataset')\n",
    "kaggle_df.groupby('Truth')['UsesNumbs'].mean()"
   ]
  },
  {
   "cell_type": "code",
   "execution_count": 8,
   "id": "0f0ec8b5",
   "metadata": {},
   "outputs": [
    {
     "name": "stdout",
     "output_type": "stream",
     "text": [
      "percentage of news with numbers in title that are true for liar_df: \n",
      "55.13203786746388 percent\n"
     ]
    }
   ],
   "source": [
    "#count of numbers in all lists in Numbs column for liar_df for Truth\n",
    "print('percentage of news with numbers in title that are true for liar_df: ')\n",
    "print(100*liar_df[liar_df['Truth'] == 1]['UsesNumbs'].sum() / liar_df['UsesNumbs'].sum(), 'percent')\n"
   ]
  },
  {
   "cell_type": "code",
   "execution_count": 9,
   "metadata": {},
   "outputs": [
    {
     "name": "stdout",
     "output_type": "stream",
     "text": [
      "percentage of news with numbers that are true  in title for kaggle_df: \n",
      "37.42458914083628 percent\n"
     ]
    }
   ],
   "source": [
    "print('percentage of news with numbers that are true  in title for kaggle_df: ')\n",
    "print(100*kaggle_df[kaggle_df['Truth'] == 1]['UsesNumbs'].sum() / kaggle_df['UsesNumbs'].sum(), 'percent')"
   ]
  }
 ],
 "metadata": {
  "kernelspec": {
   "display_name": "Python 3 (ipykernel)",
   "language": "python",
   "name": "python3"
  },
  "language_info": {
   "codemirror_mode": {
    "name": "ipython",
    "version": 3
   },
   "file_extension": ".py",
   "mimetype": "text/x-python",
   "name": "python",
   "nbconvert_exporter": "python",
   "pygments_lexer": "ipython3",
   "version": "3.11.3"
  }
 },
 "nbformat": 4,
 "nbformat_minor": 5
}
