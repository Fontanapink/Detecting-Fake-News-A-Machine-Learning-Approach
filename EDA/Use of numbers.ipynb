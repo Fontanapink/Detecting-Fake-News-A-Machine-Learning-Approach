{
 "cells": [
  {
   "cell_type": "markdown",
   "metadata": {},
   "source": [
    "Copied example from Example-1 and made own processing to extract all numbers used in each item\n",
    "\n",
    "-Shayne M. Plourde"
   ]
  },
  {
   "cell_type": "markdown",
   "metadata": {},
   "source": [
    "## Punchline:\n",
    "\n",
    "percentage of news with numbers that are true for kaggle_df: \n",
    "\n",
    "37.42458914083628 percent\n",
    "\n",
    "Percentage of Kaggle that uses numbers: \n",
    "\n",
    "0.1070649026682703\n",
    "\n",
    "percentage of news with numbers in title that are true for liar_df: \n",
    "\n",
    "55.13203786746388 percent\n",
    "\n",
    "Percentage of Liar that uses numbers: \n",
    "\n",
    "0.3919921875\n",
    "\n",
    "\n",
    "### The difference in number use for the Kaggle DF was significantly different from true to false, but the overall useage of numbers was too low to make meaningful predictions from."
   ]
  },
  {
   "cell_type": "markdown",
   "metadata": {},
   "source": [
    "# Read in datasets"
   ]
  },
  {
   "cell_type": "code",
   "execution_count": 21,
   "id": "98ee43be",
   "metadata": {
    "scrolled": true
   },
   "outputs": [],
   "source": [
    "import pandas as pd\n",
    "import numpy as np\n",
    "import matplotlib.pyplot as plt\n",
    "import sklearn.neighbors as nei\n"
   ]
  },
  {
   "cell_type": "code",
   "execution_count": 5,
   "id": "71790faa",
   "metadata": {},
   "outputs": [
    {
     "data": {
      "text/html": [
       "<div>\n",
       "<style scoped>\n",
       "    .dataframe tbody tr th:only-of-type {\n",
       "        vertical-align: middle;\n",
       "    }\n",
       "\n",
       "    .dataframe tbody tr th {\n",
       "        vertical-align: top;\n",
       "    }\n",
       "\n",
       "    .dataframe thead th {\n",
       "        text-align: right;\n",
       "    }\n",
       "</style>\n",
       "<table border=\"1\" class=\"dataframe\">\n",
       "  <thead>\n",
       "    <tr style=\"text-align: right;\">\n",
       "      <th></th>\n",
       "      <th>id</th>\n",
       "      <th>title</th>\n",
       "      <th>author</th>\n",
       "      <th>text</th>\n",
       "      <th>label</th>\n",
       "      <th>Numbs</th>\n",
       "      <th>UsesNumbs</th>\n",
       "      <th>how_many_numbs</th>\n",
       "    </tr>\n",
       "  </thead>\n",
       "  <tbody>\n",
       "    <tr>\n",
       "      <th>0</th>\n",
       "      <td>0</td>\n",
       "      <td>House Dem Aide: We Didn’t Even See Comey’s Let...</td>\n",
       "      <td>Darrell Lucus</td>\n",
       "      <td>House Dem Aide: We Didn’t Even See Comey’s Let...</td>\n",
       "      <td>1</td>\n",
       "      <td>[30, 2016, 28, 2016, 25, 78, 2012, 30]</td>\n",
       "      <td>1</td>\n",
       "      <td>8</td>\n",
       "    </tr>\n",
       "    <tr>\n",
       "      <th>1</th>\n",
       "      <td>1</td>\n",
       "      <td>FLYNN: Hillary Clinton, Big Woman on Campus - ...</td>\n",
       "      <td>Daniel J. Flynn</td>\n",
       "      <td>Ever get the feeling your life circles the rou...</td>\n",
       "      <td>0</td>\n",
       "      <td>[48, 1969, 2016, 400, 1969, 2016, 48, 38, 1960...</td>\n",
       "      <td>1</td>\n",
       "      <td>10</td>\n",
       "    </tr>\n",
       "    <tr>\n",
       "      <th>2</th>\n",
       "      <td>2</td>\n",
       "      <td>Why the Truth Might Get You Fired</td>\n",
       "      <td>Consortiumnews.com</td>\n",
       "      <td>Why the Truth Might Get You Fired October 29, ...</td>\n",
       "      <td>1</td>\n",
       "      <td>[29, 2016, 2003, 9, 11, 19, 2003, 13, 16]</td>\n",
       "      <td>1</td>\n",
       "      <td>9</td>\n",
       "    </tr>\n",
       "    <tr>\n",
       "      <th>3</th>\n",
       "      <td>3</td>\n",
       "      <td>15 Civilians Killed In Single US Airstrike Hav...</td>\n",
       "      <td>Jessica Purkiss</td>\n",
       "      <td>Videos 15 Civilians Killed In Single US Airstr...</td>\n",
       "      <td>1</td>\n",
       "      <td>[15, 2014, 15, 28, 15, 13, 15, 19, 42, 45, 18,...</td>\n",
       "      <td>1</td>\n",
       "      <td>13</td>\n",
       "    </tr>\n",
       "    <tr>\n",
       "      <th>4</th>\n",
       "      <td>4</td>\n",
       "      <td>Iranian woman jailed for fictional unpublished...</td>\n",
       "      <td>Howard Portnoy</td>\n",
       "      <td>Print \\r\\nAn Iranian woman has been sentenced ...</td>\n",
       "      <td>1</td>\n",
       "      <td>[35, 36, 19]</td>\n",
       "      <td>1</td>\n",
       "      <td>3</td>\n",
       "    </tr>\n",
       "  </tbody>\n",
       "</table>\n",
       "</div>"
      ],
      "text/plain": [
       "   id                                              title              author  \\\n",
       "0   0  House Dem Aide: We Didn’t Even See Comey’s Let...       Darrell Lucus   \n",
       "1   1  FLYNN: Hillary Clinton, Big Woman on Campus - ...     Daniel J. Flynn   \n",
       "2   2                  Why the Truth Might Get You Fired  Consortiumnews.com   \n",
       "3   3  15 Civilians Killed In Single US Airstrike Hav...     Jessica Purkiss   \n",
       "4   4  Iranian woman jailed for fictional unpublished...      Howard Portnoy   \n",
       "\n",
       "                                                text  label  \\\n",
       "0  House Dem Aide: We Didn’t Even See Comey’s Let...      1   \n",
       "1  Ever get the feeling your life circles the rou...      0   \n",
       "2  Why the Truth Might Get You Fired October 29, ...      1   \n",
       "3  Videos 15 Civilians Killed In Single US Airstr...      1   \n",
       "4  Print \\r\\nAn Iranian woman has been sentenced ...      1   \n",
       "\n",
       "                                               Numbs  UsesNumbs  \\\n",
       "0             [30, 2016, 28, 2016, 25, 78, 2012, 30]          1   \n",
       "1  [48, 1969, 2016, 400, 1969, 2016, 48, 38, 1960...          1   \n",
       "2          [29, 2016, 2003, 9, 11, 19, 2003, 13, 16]          1   \n",
       "3  [15, 2014, 15, 28, 15, 13, 15, 19, 42, 45, 18,...          1   \n",
       "4                                       [35, 36, 19]          1   \n",
       "\n",
       "   how_many_numbs  \n",
       "0               8  \n",
       "1              10  \n",
       "2               9  \n",
       "3              13  \n",
       "4               3  "
      ]
     },
     "execution_count": 5,
     "metadata": {},
     "output_type": "execute_result"
    }
   ],
   "source": [
    "# reading kaggle dataset\n",
    "df=pd.read_csv(\"../Datasets/fake-news/train.csv\")\n",
    "# removing entries without text\n",
    "df=df[~df['text'].isna()]\n",
    "df['Numbs'] = df.text.str.findall(r'(\\d+(?:\\.\\d+)?)')\n",
    "df['UsesNumbs'] = 0\n",
    "df.loc[df['Numbs'].str.len() > 0, 'UsesNumbs'] = 1\n",
    "df['how_many_numbs'] = df['Numbs'].str.len()\n",
    "df.head()"
   ]
  },
  {
   "cell_type": "code",
   "execution_count": 24,
   "id": "66950f1a",
   "metadata": {},
   "outputs": [
    {
     "data": {
      "image/png": "[encoded data removed]",
      "text/plain": [
       "<Figure size 640x480 with 1 Axes>"
      ]
     },
     "metadata": {},
     "output_type": "display_data"
    }
   ],
   "source": [
    "## column Numbs contains lists of numbers in each row. I need to extract these numbers and make a histogram of seperated by column label\n",
    "## I will also make a new column that indicates whether the text contains numbers or not\n",
    "\n",
    "# making a list of all numbers in the dataset\n",
    "all_numbs_truth=[]\n",
    "all_numbs_false=[]\n",
    "for i in range(len(df)):\n",
    "    if df['label'].iloc[i]==1:\n",
    "        all_numbs_truth.extend(df['Numbs'].iloc[i])\n",
    "    else:\n",
    "        all_numbs_false.extend(df['Numbs'].iloc[i])\n",
    "#limiting the range to 0-1000\n",
    "all_numbs_truth=[float(i) for i in all_numbs_truth if float(i)<1000]\n",
    "all_numbs_false=[float(i) for i in all_numbs_false if float(i)<1000]\n",
    "# making a kernaldensity plot of the numbers with nei.KernelDensity\n",
    "kde = nei.KernelDensity(kernel='gaussian', bandwidth=0.75).fit(np.array(all_numbs_truth).reshape(-1, 1))\n",
    "kde2 = nei.KernelDensity(kernel='gaussian', bandwidth=0.75).fit(np.array(all_numbs_false).reshape(-1, 1))\n",
    "x=np.linspace(0,1000,1000)\n",
    "logprob = kde.score_samples(x.reshape(-1,1))\n",
    "logprob2 = kde2.score_samples(x.reshape(-1,1))\n",
    "plt.plot(x, np.exp(logprob),label='True')\n",
    "plt.plot(x, np.exp(logprob2),label='False')\n",
    "plt.legend()\n",
    "plt.xlabel('Number')\n",
    "plt.ylabel('Density')\n",
    "plt.title('Kernel density estimate of numbers in text')\n",
    "plt.show()\n"
   ]
  },
  {
   "cell_type": "code",
   "execution_count": 10,
   "id": "e10bd6ee",
   "metadata": {},
   "outputs": [],
   "source": [
    "# df.to_csv('../Datasets/fake-news/numbs_train.csv')"
   ]
  },
  {
   "cell_type": "code",
   "execution_count": 4,
   "id": "996e4a4f",
   "metadata": {},
   "outputs": [
    {
     "data": {
      "text/html": [
       "<div>\n",
       "<style scoped>\n",
       "    .dataframe tbody tr th:only-of-type {\n",
       "        vertical-align: middle;\n",
       "    }\n",
       "\n",
       "    .dataframe tbody tr th {\n",
       "        vertical-align: top;\n",
       "    }\n",
       "\n",
       "    .dataframe thead th {\n",
       "        text-align: right;\n",
       "    }\n",
       "</style>\n",
       "<table border=\"1\" class=\"dataframe\">\n",
       "  <thead>\n",
       "    <tr style=\"text-align: right;\">\n",
       "      <th></th>\n",
       "      <th>id</th>\n",
       "      <th>title</th>\n",
       "      <th>author</th>\n",
       "      <th>text</th>\n",
       "      <th>Numbs</th>\n",
       "      <th>UsesNumbs</th>\n",
       "      <th>how_many_numbs</th>\n",
       "    </tr>\n",
       "  </thead>\n",
       "  <tbody>\n",
       "    <tr>\n",
       "      <th>0</th>\n",
       "      <td>20800</td>\n",
       "      <td>Specter of Trump Loosens Tongues, if Not Purse...</td>\n",
       "      <td>David Streitfeld</td>\n",
       "      <td>PALO ALTO, Calif.  —   After years of scorning...</td>\n",
       "      <td>[150, 1, 25, 1, 500, 4, 50, 000, 50, 000, 7, 7...</td>\n",
       "      <td>1</td>\n",
       "      <td>30</td>\n",
       "    </tr>\n",
       "    <tr>\n",
       "      <th>1</th>\n",
       "      <td>20801</td>\n",
       "      <td>Russian warships ready to strike terrorists ne...</td>\n",
       "      <td>NaN</td>\n",
       "      <td>Russian warships ready to strike terrorists ne...</td>\n",
       "      <td>[08.11, 2016]</td>\n",
       "      <td>1</td>\n",
       "      <td>2</td>\n",
       "    </tr>\n",
       "    <tr>\n",
       "      <th>2</th>\n",
       "      <td>20802</td>\n",
       "      <td>#NoDAPL: Native American Leaders Vow to Stay A...</td>\n",
       "      <td>Common Dreams</td>\n",
       "      <td>Videos #NoDAPL: Native American Leaders Vow to...</td>\n",
       "      <td>[3.8, 10, 35, 37, 40, 27, 142, 29, 647, 28, 20...</td>\n",
       "      <td>1</td>\n",
       "      <td>14</td>\n",
       "    </tr>\n",
       "    <tr>\n",
       "      <th>3</th>\n",
       "      <td>20803</td>\n",
       "      <td>Tim Tebow Will Attempt Another Comeback, This ...</td>\n",
       "      <td>Daniel Victor</td>\n",
       "      <td>If at first you don’t succeed, try a different...</td>\n",
       "      <td>[28, 494, 2007, 2009, 80, 9, 80, 9, 2013, 1994...</td>\n",
       "      <td>1</td>\n",
       "      <td>15</td>\n",
       "    </tr>\n",
       "    <tr>\n",
       "      <th>4</th>\n",
       "      <td>20804</td>\n",
       "      <td>Keiser Report: Meme Wars (E995)</td>\n",
       "      <td>Truth Broadcast Network</td>\n",
       "      <td>42 mins ago 1 Views 0 Comments 0 Likes 'For th...</td>\n",
       "      <td>[42, 1, 0, 0, 360]</td>\n",
       "      <td>1</td>\n",
       "      <td>5</td>\n",
       "    </tr>\n",
       "  </tbody>\n",
       "</table>\n",
       "</div>"
      ],
      "text/plain": [
       "      id                                              title  \\\n",
       "0  20800  Specter of Trump Loosens Tongues, if Not Purse...   \n",
       "1  20801  Russian warships ready to strike terrorists ne...   \n",
       "2  20802  #NoDAPL: Native American Leaders Vow to Stay A...   \n",
       "3  20803  Tim Tebow Will Attempt Another Comeback, This ...   \n",
       "4  20804                    Keiser Report: Meme Wars (E995)   \n",
       "\n",
       "                    author                                               text  \\\n",
       "0         David Streitfeld  PALO ALTO, Calif.  —   After years of scorning...   \n",
       "1                      NaN  Russian warships ready to strike terrorists ne...   \n",
       "2            Common Dreams  Videos #NoDAPL: Native American Leaders Vow to...   \n",
       "3            Daniel Victor  If at first you don’t succeed, try a different...   \n",
       "4  Truth Broadcast Network  42 mins ago 1 Views 0 Comments 0 Likes 'For th...   \n",
       "\n",
       "                                               Numbs  UsesNumbs  \\\n",
       "0  [150, 1, 25, 1, 500, 4, 50, 000, 50, 000, 7, 7...          1   \n",
       "1                                      [08.11, 2016]          1   \n",
       "2  [3.8, 10, 35, 37, 40, 27, 142, 29, 647, 28, 20...          1   \n",
       "3  [28, 494, 2007, 2009, 80, 9, 80, 9, 2013, 1994...          1   \n",
       "4                                 [42, 1, 0, 0, 360]          1   \n",
       "\n",
       "   how_many_numbs  \n",
       "0              30  \n",
       "1               2  \n",
       "2              14  \n",
       "3              15  \n",
       "4               5  "
      ]
     },
     "execution_count": 4,
     "metadata": {},
     "output_type": "execute_result"
    }
   ],
   "source": [
    "df=pd.read_csv(\"../Datasets/fake-news/test.csv\")\n",
    "df=df[~df['text'].isna()]\n",
    "df['Numbs'] = df.text.str.findall(r'(\\d+(?:\\.\\d+)?)')\n",
    "df['UsesNumbs'] = 0\n",
    "df.loc[df['Numbs'].str.len() > 0, 'UsesNumbs'] = 1\n",
    "df['how_many_numbs'] = df['Numbs'].str.len()\n",
    "df.head()\n",
    "# df.to_csv('../Datasets/fake-news/numbs_test.csv')"
   ]
  },
  {
   "cell_type": "markdown",
   "id": "91ae06da",
   "metadata": {},
   "source": [
    "# Other Datasets"
   ]
  },
  {
   "cell_type": "code",
   "execution_count": 2,
   "id": "2b203c15",
   "metadata": {},
   "outputs": [],
   "source": [
    "# Read in LIAR dataset columns 1 and 2 only:\n",
    "liar_df = pd.read_csv('../Datasets/liar_dataset/train.tsv', sep='\\t',header=None, usecols = [1,2], names=[\"Label\", \"Statement\"])\n",
    "liar_df['Truth'] = liar_df.Label.map({\n",
    "    'pants-fire': 0,\n",
    "    'false': 0,\n",
    "    'mostly-false': 0,\n",
    "    'half-true': 0,\n",
    "    'barely-true': 1,\n",
    "    'mostly-true': 1,\n",
    "    'true': 1\n",
    "})\n"
   ]
  },
  {
   "cell_type": "code",
   "execution_count": 3,
   "id": "7ca2cc4d",
   "metadata": {},
   "outputs": [],
   "source": [
    "\n",
    "# Read in Kaggle titles only. The dataframe df_kaggle has two columns: article titles, and (true/false).\n",
    "kaggle_df_true = pd.read_csv('../Datasets/kaggle/True.csv', usecols = [0])\n",
    "kaggle_df_fake = pd.read_csv('../Datasets/kaggle/Fake.csv', usecols = [0])\n",
    "kaggle_df_true['Truth'] = 1\n",
    "kaggle_df_fake['Truth'] = 0\n",
    "kaggle_df = pd.concat([kaggle_df_true, kaggle_df_fake], ignore_index=True, sort=False)"
   ]
  },
  {
   "cell_type": "code",
   "execution_count": 4,
   "metadata": {},
   "outputs": [
    {
     "data": {
      "text/html": [
       "<div>\n",
       "<style scoped>\n",
       "    .dataframe tbody tr th:only-of-type {\n",
       "        vertical-align: middle;\n",
       "    }\n",
       "\n",
       "    .dataframe tbody tr th {\n",
       "        vertical-align: top;\n",
       "    }\n",
       "\n",
       "    .dataframe thead th {\n",
       "        text-align: right;\n",
       "    }\n",
       "</style>\n",
       "<table border=\"1\" class=\"dataframe\">\n",
       "  <thead>\n",
       "    <tr style=\"text-align: right;\">\n",
       "      <th></th>\n",
       "      <th>Label</th>\n",
       "      <th>Statement</th>\n",
       "      <th>Truth</th>\n",
       "      <th>Numbs</th>\n",
       "      <th>UsesNumbs</th>\n",
       "    </tr>\n",
       "  </thead>\n",
       "  <tbody>\n",
       "    <tr>\n",
       "      <th>6486</th>\n",
       "      <td>half-true</td>\n",
       "      <td>The health care reform law offset[s] 6 years o...</td>\n",
       "      <td>0</td>\n",
       "      <td>[6, 10]</td>\n",
       "      <td>1</td>\n",
       "    </tr>\n",
       "    <tr>\n",
       "      <th>1570</th>\n",
       "      <td>half-true</td>\n",
       "      <td>In South Carolina, women earn 76 cents on the ...</td>\n",
       "      <td>0</td>\n",
       "      <td>[76]</td>\n",
       "      <td>1</td>\n",
       "    </tr>\n",
       "    <tr>\n",
       "      <th>10087</th>\n",
       "      <td>barely-true</td>\n",
       "      <td>Keystone XL allows Canada to pump their oil, s...</td>\n",
       "      <td>1</td>\n",
       "      <td>[]</td>\n",
       "      <td>0</td>\n",
       "    </tr>\n",
       "    <tr>\n",
       "      <th>6861</th>\n",
       "      <td>half-true</td>\n",
       "      <td>Say in November 2010, voters overwhelmingly su...</td>\n",
       "      <td>0</td>\n",
       "      <td>[2010]</td>\n",
       "      <td>1</td>\n",
       "    </tr>\n",
       "    <tr>\n",
       "      <th>1707</th>\n",
       "      <td>mostly-true</td>\n",
       "      <td>New Jersey has had seven credit downgrades sin...</td>\n",
       "      <td>1</td>\n",
       "      <td>[]</td>\n",
       "      <td>0</td>\n",
       "    </tr>\n",
       "  </tbody>\n",
       "</table>\n",
       "</div>"
      ],
      "text/plain": [
       "             Label                                          Statement  Truth   \n",
       "6486     half-true  The health care reform law offset[s] 6 years o...      0  \\\n",
       "1570     half-true  In South Carolina, women earn 76 cents on the ...      0   \n",
       "10087  barely-true  Keystone XL allows Canada to pump their oil, s...      1   \n",
       "6861     half-true  Say in November 2010, voters overwhelmingly su...      0   \n",
       "1707   mostly-true  New Jersey has had seven credit downgrades sin...      1   \n",
       "\n",
       "         Numbs  UsesNumbs  \n",
       "6486   [6, 10]          1  \n",
       "1570      [76]          1  \n",
       "10087       []          0  \n",
       "6861    [2010]          1  \n",
       "1707        []          0  "
      ]
     },
     "execution_count": 4,
     "metadata": {},
     "output_type": "execute_result"
    }
   ],
   "source": [
    "liar_df['Numbs'] = liar_df.Statement.str.findall(r'(\\d+(?:\\.\\d+)?)')\n",
    "liar_df['UsesNumbs'] = 0\n",
    "liar_df.loc[liar_df['Numbs'].str.len() > 0, 'UsesNumbs'] = 1\n",
    "liar_df.sample(5)"
   ]
  },
  {
   "cell_type": "code",
   "execution_count": 6,
   "metadata": {},
   "outputs": [
    {
     "data": {
      "text/html": [
       "<div>\n",
       "<style scoped>\n",
       "    .dataframe tbody tr th:only-of-type {\n",
       "        vertical-align: middle;\n",
       "    }\n",
       "\n",
       "    .dataframe tbody tr th {\n",
       "        vertical-align: top;\n",
       "    }\n",
       "\n",
       "    .dataframe thead th {\n",
       "        text-align: right;\n",
       "    }\n",
       "</style>\n",
       "<table border=\"1\" class=\"dataframe\">\n",
       "  <thead>\n",
       "    <tr style=\"text-align: right;\">\n",
       "      <th></th>\n",
       "      <th>title</th>\n",
       "      <th>Truth</th>\n",
       "      <th>Numbs</th>\n",
       "      <th>UsesNumbs</th>\n",
       "    </tr>\n",
       "  </thead>\n",
       "  <tbody>\n",
       "    <tr>\n",
       "      <th>0</th>\n",
       "      <td>As U.S. budget fight looms, Republicans flip t...</td>\n",
       "      <td>1</td>\n",
       "      <td>[]</td>\n",
       "      <td>0</td>\n",
       "    </tr>\n",
       "    <tr>\n",
       "      <th>1</th>\n",
       "      <td>U.S. military to accept transgender recruits o...</td>\n",
       "      <td>1</td>\n",
       "      <td>[]</td>\n",
       "      <td>0</td>\n",
       "    </tr>\n",
       "    <tr>\n",
       "      <th>2</th>\n",
       "      <td>Senior U.S. Republican senator: 'Let Mr. Muell...</td>\n",
       "      <td>1</td>\n",
       "      <td>[]</td>\n",
       "      <td>0</td>\n",
       "    </tr>\n",
       "    <tr>\n",
       "      <th>3</th>\n",
       "      <td>FBI Russia probe helped by Australian diplomat...</td>\n",
       "      <td>1</td>\n",
       "      <td>[]</td>\n",
       "      <td>0</td>\n",
       "    </tr>\n",
       "    <tr>\n",
       "      <th>4</th>\n",
       "      <td>Trump wants Postal Service to charge 'much mor...</td>\n",
       "      <td>1</td>\n",
       "      <td>[]</td>\n",
       "      <td>0</td>\n",
       "    </tr>\n",
       "  </tbody>\n",
       "</table>\n",
       "</div>"
      ],
      "text/plain": [
       "                                               title  Truth Numbs  UsesNumbs\n",
       "0  As U.S. budget fight looms, Republicans flip t...      1    []          0\n",
       "1  U.S. military to accept transgender recruits o...      1    []          0\n",
       "2  Senior U.S. Republican senator: 'Let Mr. Muell...      1    []          0\n",
       "3  FBI Russia probe helped by Australian diplomat...      1    []          0\n",
       "4  Trump wants Postal Service to charge 'much mor...      1    []          0"
      ]
     },
     "execution_count": 6,
     "metadata": {},
     "output_type": "execute_result"
    }
   ],
   "source": [
    "kaggle_df['Numbs'] = kaggle_df.title.str.findall(r'(\\d+(?:\\.\\d+)?)')\n",
    "kaggle_df['UsesNumbs'] = 0\n",
    "kaggle_df.loc[kaggle_df['Numbs'].str.len() > 0, 'UsesNumbs'] = 1\n",
    "kaggle_df.head(5)"
   ]
  },
  {
   "cell_type": "code",
   "execution_count": 12,
   "metadata": {},
   "outputs": [],
   "source": [
    "kaggle_df.to_csv('../Datasets/kaggle/auxiliary/Use of numbers.csv', columns=['title','Truth', 'UsesNumbs'])"
   ]
  },
  {
   "cell_type": "code",
   "execution_count": 13,
   "metadata": {},
   "outputs": [
    {
     "name": "stdout",
     "output_type": "stream",
     "text": [
      "Percentage of Liar that uses numbers: \n",
      "0.3919921875\n"
     ]
    }
   ],
   "source": [
    "print('Percentage of Liar that uses numbers: ')\n",
    "print(liar_df['UsesNumbs'].mean())"
   ]
  },
  {
   "cell_type": "code",
   "execution_count": 8,
   "metadata": {},
   "outputs": [
    {
     "data": {
      "text/plain": [
       "Label\n",
       "barely-true    0.374849\n",
       "false          0.319298\n",
       "half-true      0.438978\n",
       "mostly-true    0.463303\n",
       "pants-fire     0.281287\n",
       "true           0.408115\n",
       "Name: UsesNumbs, dtype: float64"
      ]
     },
     "execution_count": 8,
     "metadata": {},
     "output_type": "execute_result"
    },
    {
     "data": {
      "image/png": "[encoded data removed]",
      "text/plain": [
       "<Figure size 640x480 with 1 Axes>"
      ]
     },
     "metadata": {},
     "output_type": "display_data"
    }
   ],
   "source": [
    "#count usesNumbs for each label AND PLOT\n",
    "liar_df.groupby('Label')['UsesNumbs'].mean().plot(kind='bar')\n",
    "#TITLE use of numbers\n",
    "plt.title('Percentage of each category that usues numbers')\n",
    "liar_df.groupby('Label')['UsesNumbs'].mean()"
   ]
  },
  {
   "cell_type": "code",
   "execution_count": 12,
   "metadata": {},
   "outputs": [
    {
     "name": "stdout",
     "output_type": "stream",
     "text": [
      "Percentage of Kaggle that uses numbers: \n",
      "0.1070649026682703\n"
     ]
    }
   ],
   "source": [
    "print('Percentage of Kaggle that uses numbers: ')\n",
    "print(kaggle_df['UsesNumbs'].mean())"
   ]
  },
  {
   "cell_type": "code",
   "execution_count": 10,
   "metadata": {},
   "outputs": [
    {
     "data": {
      "text/plain": [
       "Truth\n",
       "0    0.128104\n",
       "1    0.083999\n",
       "Name: UsesNumbs, dtype: float64"
      ]
     },
     "execution_count": 10,
     "metadata": {},
     "output_type": "execute_result"
    },
    {
     "data": {
      "image/png": "[encoded data removed]",
      "text/plain": [
       "<Figure size 640x480 with 1 Axes>"
      ]
     },
     "metadata": {},
     "output_type": "display_data"
    }
   ],
   "source": [
    "kaggle_df.groupby('Truth')['UsesNumbs'].mean().plot(kind='bar')\n",
    "#TITLE use of numbers\n",
    "plt.title('percentage of number use by category in kaggle dataset')\n",
    "kaggle_df.groupby('Truth')['UsesNumbs'].mean()"
   ]
  },
  {
   "cell_type": "code",
   "execution_count": 8,
   "metadata": {},
   "outputs": [
    {
     "name": "stdout",
     "output_type": "stream",
     "text": [
      "percentage of news with numbers in title that are true for liar_df: \n",
      "55.13203786746388 percent\n"
     ]
    }
   ],
   "source": [
    "#count of numbers in all lists in Numbs column for liar_df for Truth\n",
    "print('percentage of news with numbers in title that are true for liar_df: ')\n",
    "print(100*liar_df[liar_df['Truth'] == 1]['UsesNumbs'].sum() / liar_df['UsesNumbs'].sum(), 'percent')\n"
   ]
  },
  {
   "cell_type": "code",
   "execution_count": 9,
   "metadata": {},
   "outputs": [
    {
     "name": "stdout",
     "output_type": "stream",
     "text": [
      "percentage of news with numbers that are true  in title for kaggle_df: \n",
      "37.42458914083628 percent\n"
     ]
    }
   ],
   "source": [
    "print('percentage of news with numbers that are true  in title for kaggle_df: ')\n",
    "print(100*kaggle_df[kaggle_df['Truth'] == 1]['UsesNumbs'].sum() / kaggle_df['UsesNumbs'].sum(), 'percent')"
   ]
  }
 ],
 "metadata": {
  "kernelspec": {
   "display_name": "Python 3",
   "language": "python",
   "name": "python3"
  },
  "language_info": {
   "codemirror_mode": {
    "name": "ipython",
    "version": 3
   },
   "file_extension": ".py",
   "mimetype": "text/x-python",
   "name": "python",
   "nbconvert_exporter": "python",
   "pygments_lexer": "ipython3",
   "version": "3.10.11"
  }
 },
 "nbformat": 4,
 "nbformat_minor": 5
}
