{
 "cells": [
  {
   "attachments": {},
   "cell_type": "markdown",
   "id": "2b16fa68",
   "metadata": {},
   "source": [
    "Copied example from Example-1 and made own processing to extract all numbers used in each item\n",
    "\n",
    "-Shayne M. Plourde"
   ]
  },
  {
   "attachments": {},
   "cell_type": "markdown",
   "id": "20e0dada",
   "metadata": {},
   "source": [
    "## Punchline:\n",
    "\n",
    "percentage of news with numbers that are true for kaggle_df: \n",
    "\n",
    "37.42458914083628 percent\n",
    "\n",
    "\n",
    "\n",
    "percentage of news with numbers in title that are true for liar_df: \n",
    "\n",
    "55.13203786746388 percent"
   ]
  },
  {
   "cell_type": "markdown",
   "id": "0ff3b96b",
   "metadata": {},
   "source": [
    "# Read in datasets"
   ]
  },
  {
   "cell_type": "code",
   "execution_count": 1,
   "id": "86d90a94",
   "metadata": {
    "scrolled": true
   },
   "outputs": [],
   "source": [
    "import pandas as pd\n",
    "import numpy as np\n",
    "import matplotlib.pyplot as plt\n"
   ]
  },
  {
   "cell_type": "code",
   "execution_count": 2,
   "id": "09a4c8c3",
   "metadata": {},
   "outputs": [],
   "source": [
    "\n",
    "# Read in LIAR dataset columns 1 and 2 only:\n",
    "liar_df = pd.read_csv('../Datasets/liar_dataset/train.tsv', sep='\\t',header=None, usecols = [1,2], names=[\"Label\", \"Statement\"])\n",
    "liar_df['Truth'] = liar_df.Label.map({\n",
    "    'pants-fire': 0,\n",
    "    'false': 0,\n",
    "    'mostly-false': 0,\n",
    "    'half-true': 0,\n",
    "    'barely-true': 1,\n",
    "    'mostly-true': 1,\n",
    "    'true': 1\n",
    "})\n"
   ]
  },
  {
   "cell_type": "code",
   "execution_count": 3,
   "id": "ac668b13",
   "metadata": {},
   "outputs": [],
   "source": [
    "\n",
    "# Read in Kaggle titles only. The dataframe df_kaggle has two columns: article titles, and (true/false).\n",
    "kaggle_df_true = pd.read_csv('../Datasets/kaggle/True.csv', usecols = [0])\n",
    "kaggle_df_fake = pd.read_csv('../Datasets/kaggle/Fake.csv', usecols = [0])\n",
    "kaggle_df_true['Truth'] = 1\n",
    "kaggle_df_fake['Truth'] = 0\n",
    "kaggle_df = pd.concat([kaggle_df_true, kaggle_df_fake], ignore_index=True, sort=False)"
   ]
  },
  {
   "cell_type": "code",
   "execution_count": 4,
   "id": "80c7b474",
   "metadata": {},
   "outputs": [
    {
     "data": {
      "text/html": [
       "<div>\n",
       "<style scoped>\n",
       "    .dataframe tbody tr th:only-of-type {\n",
       "        vertical-align: middle;\n",
       "    }\n",
       "\n",
       "    .dataframe tbody tr th {\n",
       "        vertical-align: top;\n",
       "    }\n",
       "\n",
       "    .dataframe thead th {\n",
       "        text-align: right;\n",
       "    }\n",
       "</style>\n",
       "<table border=\"1\" class=\"dataframe\">\n",
       "  <thead>\n",
       "    <tr style=\"text-align: right;\">\n",
       "      <th></th>\n",
       "      <th>Label</th>\n",
       "      <th>Statement</th>\n",
       "      <th>Truth</th>\n",
       "      <th>Numbs</th>\n",
       "      <th>UsesNumbs</th>\n",
       "    </tr>\n",
       "  </thead>\n",
       "  <tbody>\n",
       "    <tr>\n",
       "      <th>3849</th>\n",
       "      <td>barely-true</td>\n",
       "      <td>The Greenest County in America.</td>\n",
       "      <td>1</td>\n",
       "      <td>[]</td>\n",
       "      <td>0</td>\n",
       "    </tr>\n",
       "    <tr>\n",
       "      <th>1051</th>\n",
       "      <td>pants-fire</td>\n",
       "      <td>The economy began its nose dive when Democrats...</td>\n",
       "      <td>0</td>\n",
       "      <td>[2007]</td>\n",
       "      <td>1</td>\n",
       "    </tr>\n",
       "    <tr>\n",
       "      <th>9776</th>\n",
       "      <td>barely-true</td>\n",
       "      <td>Says that even if you have no children, under ...</td>\n",
       "      <td>1</td>\n",
       "      <td>[]</td>\n",
       "      <td>0</td>\n",
       "    </tr>\n",
       "    <tr>\n",
       "      <th>10155</th>\n",
       "      <td>true</td>\n",
       "      <td>The day President Obama took office, gasoline ...</td>\n",
       "      <td>1</td>\n",
       "      <td>[1.79]</td>\n",
       "      <td>1</td>\n",
       "    </tr>\n",
       "    <tr>\n",
       "      <th>9941</th>\n",
       "      <td>half-true</td>\n",
       "      <td>We have $60 billion in 2010 in Medicare fraud.</td>\n",
       "      <td>0</td>\n",
       "      <td>[60, 2010]</td>\n",
       "      <td>1</td>\n",
       "    </tr>\n",
       "  </tbody>\n",
       "</table>\n",
       "</div>"
      ],
      "text/plain": [
       "             Label                                          Statement  Truth  \\\n",
       "3849   barely-true                    The Greenest County in America.      1   \n",
       "1051    pants-fire  The economy began its nose dive when Democrats...      0   \n",
       "9776   barely-true  Says that even if you have no children, under ...      1   \n",
       "10155         true  The day President Obama took office, gasoline ...      1   \n",
       "9941     half-true     We have $60 billion in 2010 in Medicare fraud.      0   \n",
       "\n",
       "            Numbs  UsesNumbs  \n",
       "3849           []          0  \n",
       "1051       [2007]          1  \n",
       "9776           []          0  \n",
       "10155      [1.79]          1  \n",
       "9941   [60, 2010]          1  "
      ]
     },
     "execution_count": 4,
     "metadata": {},
     "output_type": "execute_result"
    }
   ],
   "source": [
    "liar_df['Numbs'] = liar_df.Statement.str.findall(r'(\\d+(?:\\.\\d+)?)')\n",
    "liar_df['UsesNumbs'] = 0\n",
    "liar_df.loc[liar_df['Numbs'].str.len() > 0, 'UsesNumbs'] = 1\n",
    "liar_df.sample(5)"
   ]
  },
  {
   "cell_type": "code",
   "execution_count": 5,
   "id": "7289eed6",
   "metadata": {},
   "outputs": [
    {
     "data": {
      "text/html": [
       "<div>\n",
       "<style scoped>\n",
       "    .dataframe tbody tr th:only-of-type {\n",
       "        vertical-align: middle;\n",
       "    }\n",
       "\n",
       "    .dataframe tbody tr th {\n",
       "        vertical-align: top;\n",
       "    }\n",
       "\n",
       "    .dataframe thead th {\n",
       "        text-align: right;\n",
       "    }\n",
       "</style>\n",
       "<table border=\"1\" class=\"dataframe\">\n",
       "  <thead>\n",
       "    <tr style=\"text-align: right;\">\n",
       "      <th></th>\n",
       "      <th>title</th>\n",
       "      <th>Truth</th>\n",
       "      <th>Numbs</th>\n",
       "      <th>UsesNumbs</th>\n",
       "    </tr>\n",
       "  </thead>\n",
       "  <tbody>\n",
       "    <tr>\n",
       "      <th>28989</th>\n",
       "      <td>Chumlee From ‘Pawn Stars’ Arrested In Las Veg...</td>\n",
       "      <td>0</td>\n",
       "      <td>[20]</td>\n",
       "      <td>1</td>\n",
       "    </tr>\n",
       "    <tr>\n",
       "      <th>31146</th>\n",
       "      <td>BREAKING…VP PENCE and Wife Karen Abruptly Leav...</td>\n",
       "      <td>0</td>\n",
       "      <td>[]</td>\n",
       "      <td>0</td>\n",
       "    </tr>\n",
       "    <tr>\n",
       "      <th>6597</th>\n",
       "      <td>Putin says wants constructive relations with T...</td>\n",
       "      <td>1</td>\n",
       "      <td>[]</td>\n",
       "      <td>0</td>\n",
       "    </tr>\n",
       "    <tr>\n",
       "      <th>24490</th>\n",
       "      <td>Trump Spokeswoman HUMILIATES Herself While Tr...</td>\n",
       "      <td>0</td>\n",
       "      <td>[]</td>\n",
       "      <td>0</td>\n",
       "    </tr>\n",
       "    <tr>\n",
       "      <th>32273</th>\n",
       "      <td>CHECKMATE! PUTIN Offers Up Proof Of Trump’s In...</td>\n",
       "      <td>0</td>\n",
       "      <td>[]</td>\n",
       "      <td>0</td>\n",
       "    </tr>\n",
       "  </tbody>\n",
       "</table>\n",
       "</div>"
      ],
      "text/plain": [
       "                                                   title  Truth Numbs  \\\n",
       "28989   Chumlee From ‘Pawn Stars’ Arrested In Las Veg...      0  [20]   \n",
       "31146  BREAKING…VP PENCE and Wife Karen Abruptly Leav...      0    []   \n",
       "6597   Putin says wants constructive relations with T...      1    []   \n",
       "24490   Trump Spokeswoman HUMILIATES Herself While Tr...      0    []   \n",
       "32273  CHECKMATE! PUTIN Offers Up Proof Of Trump’s In...      0    []   \n",
       "\n",
       "       UsesNumbs  \n",
       "28989          1  \n",
       "31146          0  \n",
       "6597           0  \n",
       "24490          0  \n",
       "32273          0  "
      ]
     },
     "execution_count": 5,
     "metadata": {},
     "output_type": "execute_result"
    }
   ],
   "source": [
    "kaggle_df['Numbs'] = kaggle_df.title.str.findall(r'(\\d+(?:\\.\\d+)?)')\n",
    "kaggle_df['UsesNumbs'] = 0\n",
    "kaggle_df.loc[kaggle_df['Numbs'].str.len() > 0, 'UsesNumbs'] = 1\n",
    "kaggle_df.sample(5)"
   ]
  },
  {
   "cell_type": "code",
   "execution_count": 6,
   "id": "2e1d311c",
   "metadata": {},
   "outputs": [
    {
     "data": {
      "text/plain": [
       "Label\n",
       "barely-true    620\n",
       "false          637\n",
       "half-true      928\n",
       "mostly-true    909\n",
       "pants-fire     236\n",
       "true           684\n",
       "Name: UsesNumbs, dtype: int64"
      ]
     },
     "execution_count": 6,
     "metadata": {},
     "output_type": "execute_result"
    },
    {
     "data": {
      "image/png": "[encoded data removed]",
      "text/plain": [
       "<Figure size 640x480 with 1 Axes>"
      ]
     },
     "metadata": {},
     "output_type": "display_data"
    }
   ],
   "source": [
    "#count usesNumbs for each label AND PLOT\n",
    "liar_df.groupby('Label')['UsesNumbs'].sum().plot(kind='bar')\n",
    "#TITLE use of numbers\n",
    "plt.title('Use of numbers in LIAR dataset')\n",
    "liar_df.groupby('Label')['UsesNumbs'].sum()"
   ]
  },
  {
   "cell_type": "code",
   "execution_count": 7,
   "id": "d8e0e9c7",
   "metadata": {},
   "outputs": [
    {
     "data": {
      "text/plain": [
       "Truth\n",
       "0    3008\n",
       "1    1799\n",
       "Name: UsesNumbs, dtype: int64"
      ]
     },
     "execution_count": 7,
     "metadata": {},
     "output_type": "execute_result"
    },
    {
     "data": {
      "image/png": "[encoded data removed]",
      "text/plain": [
       "<Figure size 640x480 with 1 Axes>"
      ]
     },
     "metadata": {},
     "output_type": "display_data"
    }
   ],
   "source": [
    "kaggle_df.groupby('Truth')['UsesNumbs'].sum().plot(kind='bar')\n",
    "#TITLE use of numbers\n",
    "plt.title('Use of numbers in kaggle dataset')\n",
    "kaggle_df.groupby('Truth')['UsesNumbs'].sum()"
   ]
  },
  {
   "cell_type": "code",
   "execution_count": 8,
   "id": "0f0ec8b5",
   "metadata": {},
   "outputs": [
    {
     "name": "stdout",
     "output_type": "stream",
     "text": [
      "percentage of news with numbers in title that are true for liar_df: \n",
      "55.13203786746388 percent\n"
     ]
    }
   ],
   "source": [
    "#count of numbers in all lists in Numbs column for liar_df for Truth\n",
    "print('percentage of news with numbers in title that are true for liar_df: ')\n",
    "print(100*liar_df[liar_df['Truth'] == 1]['UsesNumbs'].sum() / liar_df['UsesNumbs'].sum(), 'percent')\n"
   ]
  },
  {
   "cell_type": "code",
   "execution_count": 9,
   "metadata": {},
   "outputs": [
    {
     "name": "stdout",
     "output_type": "stream",
     "text": [
      "percentage of news with numbers that are true  in title for kaggle_df: \n",
      "37.42458914083628 percent\n"
     ]
    }
   ],
   "source": [
    "print('percentage of news with numbers that are true  in title for kaggle_df: ')\n",
    "print(100*kaggle_df[kaggle_df['Truth'] == 1]['UsesNumbs'].sum() / kaggle_df['UsesNumbs'].sum(), 'percent')"
   ]
  }
 ],
 "metadata": {
  "kernelspec": {
   "display_name": "Python 3 (ipykernel)",
   "language": "python",
   "name": "python3"
  },
  "language_info": {
   "codemirror_mode": {
    "name": "ipython",
    "version": 3
   },
   "file_extension": ".py",
   "mimetype": "text/x-python",
   "name": "python",
   "nbconvert_exporter": "python",
   "pygments_lexer": "ipython3",
   "version": "3.10.11"
  }
 },
 "nbformat": 4,
 "nbformat_minor": 5
}
