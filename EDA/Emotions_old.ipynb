{
 "cells": [
  {
   "cell_type": "code",
   "execution_count": 56,
   "metadata": {
    "executionInfo": {
     "elapsed": 389,
     "status": "ok",
     "timestamp": 1685319334942,
     "user": {
      "displayName": "Guillermo Lezama",
      "userId": "17067344961324283134"
     },
     "user_tz": 240
    },
    "id": "DzG_jA5v1qSE"
   },
   "outputs": [],
   "source": [
    "import pandas as pd\n",
    "import matplotlib.pyplot as plt"
   ]
  },
  {
   "cell_type": "code",
   "execution_count": 57,
   "metadata": {},
   "outputs": [],
   "source": [
    "import math"
   ]
  },
  {
   "cell_type": "code",
   "execution_count": 58,
   "metadata": {
    "colab": {
     "base_uri": "https://localhost:8080/",
     "height": 206
    },
    "executionInfo": {
     "elapsed": 57,
     "status": "ok",
     "timestamp": 1685320011342,
     "user": {
      "displayName": "Guillermo Lezama",
      "userId": "17067344961324283134"
     },
     "user_tz": 240
    },
    "id": "_L1jAsZ63EaT",
    "outputId": "b8013bdd-f30e-485a-937f-bc5065665c8d"
   },
   "outputs": [],
   "source": [
    "from transformers import pipeline"
   ]
  },
  {
   "cell_type": "markdown",
   "metadata": {},
   "source": [
    "# Emotions\n",
    "In this file I explore the Emotional Analysis using DistilBERT (https://huggingface.co/bhadresh-savani/distilbert-base-uncased-emotion?text=I+feel+a+bit+let+down).\n",
    "\n",
    "I perform it first using the texts, and then the titles. With the text, there is a challenge related to the fact that texts are longer than what the classifier could handle. Thus, I divided the text 2, 3 or 4 chunks, and then averaged the scores."
   ]
  },
  {
   "cell_type": "markdown",
   "metadata": {},
   "source": [
    "# Processing"
   ]
  },
  {
   "cell_type": "code",
   "execution_count": 5,
   "metadata": {
    "executionInfo": {
     "elapsed": 2065,
     "status": "ok",
     "timestamp": 1685320011340,
     "user": {
      "displayName": "Guillermo Lezama",
      "userId": "17067344961324283134"
     },
     "user_tz": 240
    },
    "id": "8kb8iZ-35H1w"
   },
   "outputs": [],
   "source": [
    "df = pd.read_csv('../Datasets/kaggle/Fake.csv')"
   ]
  },
  {
   "cell_type": "code",
   "execution_count": 6,
   "metadata": {},
   "outputs": [
    {
     "name": "stderr",
     "output_type": "stream",
     "text": [
      "C:\\ProgramData\\Anaconda3\\lib\\site-packages\\transformers\\pipelines\\text_classification.py:107: UserWarning: `return_all_scores` is now deprecated,  if want a similar funcionality use `top_k=None` instead of `return_all_scores=True` or `top_k=1` instead of `return_all_scores=False`.\n",
      "  UserWarning,\n",
      "Xformers is not installed correctly. If you want to use memorry_efficient_attention to accelerate training use the following command to install Xformers\n",
      "pip install xformers.\n"
     ]
    }
   ],
   "source": [
    "classifier = pipeline(\"text-classification\",model='bhadresh-savani/distilbert-base-uncased-emotion', return_all_scores=True)"
   ]
  },
  {
   "cell_type": "code",
   "execution_count": 7,
   "metadata": {},
   "outputs": [
    {
     "name": "stdout",
     "output_type": "stream",
     "text": [
      "[[{'label': 'sadness', 'score': 0.000679271062836051}, {'label': 'joy', 'score': 0.9959298968315125}, {'label': 'love', 'score': 0.0009452449739910662}, {'label': 'anger', 'score': 0.001805522944778204}, {'label': 'fear', 'score': 0.0004111042362637818}, {'label': 'surprise', 'score': 0.00022885717044118792}]]\n"
     ]
    }
   ],
   "source": [
    "prediction = classifier(\"I love using transformers. The best part is wide range of support and its easy to use\", )\n",
    "print(prediction)"
   ]
  },
  {
   "cell_type": "code",
   "execution_count": 8,
   "metadata": {},
   "outputs": [
    {
     "name": "stderr",
     "output_type": "stream",
     "text": [
      "Token indices sequence length is longer than the specified maximum sequence length for this model (730 > 512). Running this sequence through the model will result in indexing errors\n"
     ]
    },
    {
     "name": "stdout",
     "output_type": "stream",
     "text": [
      "0\n",
      "100\n",
      "200\n",
      "300\n",
      "400\n",
      "500\n",
      "600\n",
      "700\n",
      "800\n",
      "900\n",
      "1000\n",
      "1100\n",
      "1200\n",
      "1300\n",
      "1400\n",
      "1500\n",
      "1600\n",
      "1700\n",
      "1800\n",
      "1900\n",
      "2000\n",
      "2100\n",
      "2200\n",
      "2300\n",
      "2400\n",
      "2500\n",
      "2600\n",
      "2700\n",
      "2800\n",
      "2900\n",
      "3000\n",
      "3100\n",
      "3200\n",
      "3300\n",
      "3400\n",
      "3500\n",
      "3600\n",
      "3700\n",
      "3800\n",
      "3900\n",
      "4000\n",
      "4100\n",
      "4200\n",
      "4300\n",
      "4400\n",
      "4500\n",
      "4600\n",
      "4700\n",
      "4800\n",
      "4900\n",
      "5000\n",
      "5100\n",
      "5200\n",
      "5300\n",
      "5400\n",
      "5500\n",
      "5600\n",
      "5700\n",
      "5800\n",
      "5900\n",
      "6000\n",
      "6100\n",
      "6200\n",
      "6300\n",
      "6400\n",
      "6500\n",
      "6600\n",
      "6700\n",
      "6800\n",
      "6900\n",
      "7000\n",
      "7100\n",
      "7200\n",
      "7300\n",
      "7400\n",
      "7500\n",
      "7600\n",
      "7700\n",
      "7800\n",
      "7900\n",
      "8000\n",
      "8100\n",
      "8200\n",
      "8300\n",
      "8400\n",
      "8500\n",
      "8600\n",
      "8700\n",
      "8800\n",
      "8900\n",
      "9000\n",
      "9100\n",
      "9200\n",
      "9300\n",
      "9400\n",
      "9500\n",
      "9600\n",
      "9700\n",
      "9800\n",
      "9900\n",
      "10000\n",
      "10100\n",
      "10200\n",
      "10300\n",
      "10400\n",
      "10500\n",
      "10600\n",
      "10700\n",
      "10800\n",
      "10900\n",
      "11000\n",
      "11100\n",
      "11200\n",
      "11300\n",
      "11400\n",
      "11500\n",
      "11600\n",
      "11700\n",
      "11800\n",
      "11900\n",
      "12000\n",
      "12100\n",
      "12200\n",
      "12300\n",
      "12400\n",
      "12500\n",
      "12600\n",
      "12700\n",
      "12800\n",
      "12900\n",
      "13000\n",
      "13100\n",
      "13200\n",
      "13300\n",
      "13400\n",
      "13500\n",
      "13600\n",
      "13700\n",
      "13800\n",
      "13900\n",
      "14000\n",
      "14100\n",
      "14200\n",
      "14300\n",
      "14400\n",
      "14500\n",
      "14600\n",
      "14700\n",
      "14800\n",
      "14900\n",
      "15000\n",
      "15100\n",
      "15200\n",
      "15300\n",
      "15400\n",
      "15500\n",
      "15600\n",
      "15700\n",
      "15800\n",
      "15900\n",
      "16000\n",
      "16100\n",
      "16200\n",
      "16300\n",
      "16400\n",
      "16500\n",
      "16600\n",
      "16700\n",
      "16800\n",
      "16900\n",
      "17000\n",
      "17100\n",
      "17200\n",
      "17300\n",
      "17400\n",
      "17500\n",
      "17600\n",
      "17700\n",
      "17800\n",
      "17900\n",
      "18000\n",
      "18100\n",
      "18200\n",
      "18300\n",
      "18400\n",
      "18500\n",
      "18600\n",
      "18700\n",
      "18800\n",
      "18900\n",
      "19000\n",
      "19100\n",
      "19200\n",
      "19300\n",
      "19400\n",
      "19500\n",
      "19600\n",
      "19700\n",
      "19800\n",
      "19900\n",
      "20000\n",
      "20100\n",
      "20200\n",
      "20300\n",
      "20400\n",
      "20500\n",
      "20600\n",
      "20700\n",
      "20800\n",
      "20900\n",
      "21000\n",
      "21100\n",
      "21200\n",
      "21300\n",
      "21400\n",
      "21500\n",
      "21600\n",
      "21700\n",
      "21800\n",
      "21900\n",
      "22000\n",
      "22100\n",
      "22200\n",
      "22300\n",
      "22400\n",
      "22500\n",
      "22600\n",
      "22700\n",
      "22800\n",
      "22900\n",
      "23000\n",
      "23100\n",
      "23200\n",
      "23300\n",
      "23400\n"
     ]
    }
   ],
   "source": [
    "dfscores=pd.DataFrame()\n",
    "for t in range(len(df)):\n",
    "    texto = df['text'][t]\n",
    "\n",
    "    try: \n",
    "        scores = pd.DataFrame(classifier(texto)[0]).set_index('label').T\n",
    "    except:\n",
    "        try:\n",
    "            lista=[texto[:int(len(texto)/2)], texto[int(len(texto)/2):]]\n",
    "            scores1=pd.DataFrame(classifier(lista[0])[0]).set_index('label').T/2\n",
    "            scores2=pd.DataFrame(classifier(lista[1])[0]).set_index('label').T/2\n",
    "            scores=scores1+scores2\n",
    "        except:\n",
    "            try:\n",
    "                lista=[texto[:int(len(texto)/3)], texto[int(len(texto)/3) : 2*int(len(texto)/3)], texto[2*int(len(texto)/3):]]\n",
    "                scores1=pd.DataFrame(classifier(lista[0])[0]).set_index('label').T/3\n",
    "                scores2=pd.DataFrame(classifier(lista[1])[0]).set_index('label').T/3\n",
    "                scores3=pd.DataFrame(classifier(lista[2])[0]).set_index('label').T/3\n",
    "                scores=scores1+scores2+scores3\n",
    "            except:\n",
    "                try:\n",
    "                    lista=[texto[:int(len(texto)/4)], texto[int(len(texto)/4) : 2*int(len(texto)/4)], texto[2*int(len(texto)/4) : 3*int(len(texto)/4)],  texto[3*int(len(texto)/3):]]\n",
    "                    scores1=pd.DataFrame(classifier(lista[0])[0]).set_index('label').T/4\n",
    "                    scores2=pd.DataFrame(classifier(lista[1])[0]).set_index('label').T/4\n",
    "                    scores3=pd.DataFrame(classifier(lista[2])[0]).set_index('label').T/4\n",
    "                    scores4=pd.DataFrame(classifier(lista[3])[0]).set_index('label').T/4\n",
    "\n",
    "                    scores=scores1+scores2+scores3+scores4            \n",
    "                except:\n",
    "                    scores=pd.DataFrame([{'label': 'sadness', 'score': 0},\n",
    "                            {'label': 'joy', 'score': None},\n",
    "                            {'label': 'love', 'score': None},\n",
    "                            {'label': 'anger', 'score': None},\n",
    "                            {'label': 'fear', 'score': None},\n",
    "                            {'label': 'surprise', 'score': None}]).set_index('label').T\n",
    "    dfscores=dfscores.append(scores)\n",
    "    if t%100==0:\n",
    "        print(t)"
   ]
  },
  {
   "cell_type": "code",
   "execution_count": 9,
   "metadata": {},
   "outputs": [],
   "source": [
    "dfscores.to_csv('../Datasets/kaggle/scores_fake.csv')"
   ]
  },
  {
   "cell_type": "code",
   "execution_count": 10,
   "metadata": {},
   "outputs": [],
   "source": [
    "df = pd.read_csv('../Datasets/kaggle/True.csv')"
   ]
  },
  {
   "cell_type": "code",
   "execution_count": 11,
   "metadata": {},
   "outputs": [
    {
     "name": "stdout",
     "output_type": "stream",
     "text": [
      "0\n",
      "100\n",
      "200\n",
      "300\n",
      "400\n",
      "500\n",
      "600\n",
      "700\n",
      "800\n",
      "900\n",
      "1000\n",
      "1100\n",
      "1200\n",
      "1300\n",
      "1400\n",
      "1500\n",
      "1600\n",
      "1700\n",
      "1800\n",
      "1900\n",
      "2000\n",
      "2100\n",
      "2200\n",
      "2300\n",
      "2400\n",
      "2500\n",
      "2600\n",
      "2700\n",
      "2800\n",
      "2900\n",
      "3000\n",
      "3100\n",
      "3200\n",
      "3300\n",
      "3400\n",
      "3500\n",
      "3600\n",
      "3700\n",
      "3800\n",
      "3900\n",
      "4000\n",
      "4100\n",
      "4200\n",
      "4300\n",
      "4400\n",
      "4500\n",
      "4600\n",
      "4700\n",
      "4800\n",
      "4900\n",
      "5000\n",
      "5100\n",
      "5200\n",
      "5300\n",
      "5400\n",
      "5500\n",
      "5600\n",
      "5700\n",
      "5800\n",
      "5900\n",
      "6000\n",
      "6100\n",
      "6200\n",
      "6300\n",
      "6400\n",
      "6500\n",
      "6600\n",
      "6700\n",
      "6800\n",
      "6900\n",
      "7000\n",
      "7100\n",
      "7200\n",
      "7300\n",
      "7400\n",
      "7500\n",
      "7600\n",
      "7700\n",
      "7800\n",
      "7900\n",
      "8000\n",
      "8100\n",
      "8200\n",
      "8300\n",
      "8400\n",
      "8500\n",
      "8600\n",
      "8700\n",
      "8800\n",
      "8900\n",
      "9000\n",
      "9100\n",
      "9200\n",
      "9300\n",
      "9400\n",
      "9500\n",
      "9600\n",
      "9700\n",
      "9800\n",
      "9900\n",
      "10000\n",
      "10100\n",
      "10200\n",
      "10300\n",
      "10400\n",
      "10500\n",
      "10600\n",
      "10700\n",
      "10800\n",
      "10900\n",
      "11000\n",
      "11100\n",
      "11200\n",
      "11300\n",
      "11400\n",
      "11500\n",
      "11600\n",
      "11700\n",
      "11800\n",
      "11900\n",
      "12000\n",
      "12100\n",
      "12200\n",
      "12300\n",
      "12400\n",
      "12500\n",
      "12600\n",
      "12700\n",
      "12800\n",
      "12900\n",
      "13000\n",
      "13100\n",
      "13200\n",
      "13300\n",
      "13400\n",
      "13500\n",
      "13600\n",
      "13700\n",
      "13800\n",
      "13900\n",
      "14000\n",
      "14100\n",
      "14200\n",
      "14300\n",
      "14400\n",
      "14500\n",
      "14600\n",
      "14700\n",
      "14800\n",
      "14900\n",
      "15000\n",
      "15100\n",
      "15200\n",
      "15300\n",
      "15400\n",
      "15500\n",
      "15600\n",
      "15700\n",
      "15800\n",
      "15900\n",
      "16000\n",
      "16100\n",
      "16200\n",
      "16300\n",
      "16400\n",
      "16500\n",
      "16600\n",
      "16700\n",
      "16800\n",
      "16900\n",
      "17000\n",
      "17100\n",
      "17200\n",
      "17300\n",
      "17400\n",
      "17500\n",
      "17600\n",
      "17700\n",
      "17800\n",
      "17900\n",
      "18000\n",
      "18100\n",
      "18200\n",
      "18300\n",
      "18400\n",
      "18500\n",
      "18600\n",
      "18700\n",
      "18800\n",
      "18900\n",
      "19000\n",
      "19100\n",
      "19200\n",
      "19300\n",
      "19400\n",
      "19500\n",
      "19600\n",
      "19700\n",
      "19800\n",
      "19900\n",
      "20000\n",
      "20100\n",
      "20200\n",
      "20300\n",
      "20400\n",
      "20500\n",
      "20600\n",
      "20700\n",
      "20800\n",
      "20900\n",
      "21000\n",
      "21100\n",
      "21200\n",
      "21300\n",
      "21400\n"
     ]
    }
   ],
   "source": [
    "dfscores=pd.DataFrame()\n",
    "for t in range(len(df)):\n",
    "    texto = df['text'][t]\n",
    "\n",
    "    try: \n",
    "        scores = pd.DataFrame(classifier(texto)[0]).set_index('label').T\n",
    "    except:\n",
    "        try:\n",
    "            lista=[texto[:int(len(texto)/2)], texto[int(len(texto)/2):]]\n",
    "            scores1=pd.DataFrame(classifier(lista[0])[0]).set_index('label').T/2\n",
    "            scores2=pd.DataFrame(classifier(lista[1])[0]).set_index('label').T/2\n",
    "            scores=scores1+scores2\n",
    "        except:\n",
    "            try:\n",
    "                lista=[texto[:int(len(texto)/3)], texto[int(len(texto)/3) : 2*int(len(texto)/3)], texto[2*int(len(texto)/3):]]\n",
    "                scores1=pd.DataFrame(classifier(lista[0])[0]).set_index('label').T/3\n",
    "                scores2=pd.DataFrame(classifier(lista[1])[0]).set_index('label').T/3\n",
    "                scores3=pd.DataFrame(classifier(lista[2])[0]).set_index('label').T/3\n",
    "                scores=scores1+scores2+scores3\n",
    "            except:\n",
    "                try:\n",
    "                    lista=[texto[:int(len(texto)/4)], texto[int(len(texto)/4) : 2*int(len(texto)/4)], texto[2*int(len(texto)/4) : 3*int(len(texto)/4)],  texto[3*int(len(texto)/3):]]\n",
    "                    scores1=pd.DataFrame(classifier(lista[0])[0]).set_index('label').T/4\n",
    "                    scores2=pd.DataFrame(classifier(lista[1])[0]).set_index('label').T/4\n",
    "                    scores3=pd.DataFrame(classifier(lista[2])[0]).set_index('label').T/4\n",
    "                    scores4=pd.DataFrame(classifier(lista[3])[0]).set_index('label').T/4\n",
    "\n",
    "                    scores=scores1+scores2+scores3+scores4            \n",
    "                except:\n",
    "                    scores=pd.DataFrame([{'label': 'sadness', 'score': 0},\n",
    "                            {'label': 'joy', 'score': None},\n",
    "                            {'label': 'love', 'score': None},\n",
    "                            {'label': 'anger', 'score': None},\n",
    "                            {'label': 'fear', 'score': None},\n",
    "                            {'label': 'surprise', 'score': None}]).set_index('label').T\n",
    "    dfscores=dfscores.append(scores)\n",
    "    if t%100==0:\n",
    "        print(t)"
   ]
  },
  {
   "cell_type": "code",
   "execution_count": 12,
   "metadata": {},
   "outputs": [],
   "source": [
    "dfscores.to_csv('../Datasets/kaggle/scores_true.csv')"
   ]
  },
  {
   "cell_type": "markdown",
   "metadata": {},
   "source": [
    "# Analysis of texts"
   ]
  },
  {
   "cell_type": "code",
   "execution_count": 19,
   "metadata": {},
   "outputs": [],
   "source": [
    "from scipy import stats\n",
    "import pandas as pd"
   ]
  },
  {
   "cell_type": "code",
   "execution_count": 30,
   "metadata": {},
   "outputs": [],
   "source": [
    "# Opening the files\n",
    "df1=pd.merge(left=pd.read_csv('../Datasets/kaggle/scores_fake.csv'), right=pd.read_csv('Fake.csv'), left_index=True, right_index=True)\n",
    "df2=pd.merge(left=pd.read_csv('../Datasets/kaggle/scores_true.csv'), right=pd.read_csv('True.csv'), left_index=True, right_index=True)"
   ]
  },
  {
   "cell_type": "code",
   "execution_count": 49,
   "metadata": {},
   "outputs": [
    {
     "name": "stdout",
     "output_type": "stream",
     "text": [
      "Number of not classified in Fake: 368 . Number of not classified in True: 29\n"
     ]
    }
   ],
   "source": [
    "emotions = ['sadness', 'joy', 'love', 'anger', 'fear', 'surprise']\n",
    "print('Number of not classified in Fake:', df1[['joy', 'love', 'anger', 'fear', 'surprise']].isna().all(axis=1).sum(), '. Number of not classified in True:',   df2[['joy', 'love', 'anger', 'fear', 'surprise']].isna().all(axis=1).sum())"
   ]
  },
  {
   "cell_type": "markdown",
   "metadata": {},
   "source": [
    "# T-test"
   ]
  },
  {
   "cell_type": "code",
   "execution_count": 29,
   "metadata": {},
   "outputs": [
    {
     "name": "stdout",
     "output_type": "stream",
     "text": [
      "T-test for sadness: t-statistic=13.8349, p-value=0.0000 means: [0.09297563881267132, 0.06948478594632035]\n",
      "T-test for joy: t-statistic=-4.8031, p-value=0.0000 means: [0.19066984506118964, 0.20408022505171008]\n",
      "T-test for love: t-statistic=12.4157, p-value=0.0000 means: [0.0121834624768975, 0.005169759213144473]\n",
      "T-test for anger: t-statistic=8.7228, p-value=0.0000 means: [0.5832642000061691, 0.5549480073482308]\n",
      "T-test for fear: t-statistic=-26.7197, p-value=0.0000 means: [0.10590374563054743, 0.1629209420224928]\n",
      "T-test for surprise: t-statistic=17.7644, p-value=0.0000 means: [0.01352276846895148, 0.0033020656348883865]\n"
     ]
    }
   ],
   "source": [
    "\n",
    "# Assuming you have two dataframes df1 and df2 with the same column names\n",
    "# and the data is already loaded into the dataframes\n",
    "\n",
    "# Create a list of emotions\n",
    "\n",
    "# Perform t-tests for each emotion\n",
    "for emotion in emotions:\n",
    "    t_stat, p_value = stats.ttest_ind(df1[emotion].dropna(), df2[emotion].dropna())\n",
    "    print(f'T-test for {emotion}: t-statistic={t_stat:.4f}, p-value={p_value:.4f}', 'means:' ,[df1[emotion].dropna().mean(),df2[emotion].dropna().mean()])\n"
   ]
  },
  {
   "cell_type": "markdown",
   "metadata": {},
   "source": [
    "Differences are significantly different, but still small. The sample size is large, so differences could be driven by that.\n",
    "* Fake show higher frequency of Sadness, Love, Anger and Surprise. \n",
    "* True show higher frquency of Joy and Fear."
   ]
  },
  {
   "cell_type": "code",
   "execution_count": 63,
   "metadata": {},
   "outputs": [],
   "source": [
    "import seaborn as sns\n",
    "import matplotlib.pyplot as plt"
   ]
  },
  {
   "cell_type": "code",
   "execution_count": 68,
   "metadata": {},
   "outputs": [
    {
     "name": "stderr",
     "output_type": "stream",
     "text": [
      "C:\\Users\\guill\\AppData\\Roaming\\Python\\Python37\\site-packages\\ipykernel_launcher.py:6: FutureWarning: \n",
      "\n",
      "`shade` is now deprecated in favor of `fill`; setting `fill=True`.\n",
      "This will become an error in seaborn v0.14.0; please update your code.\n",
      "\n",
      "  \n",
      "C:\\Users\\guill\\AppData\\Roaming\\Python\\Python37\\site-packages\\ipykernel_launcher.py:9: FutureWarning: \n",
      "\n",
      "`shade` is now deprecated in favor of `fill`; setting `fill=True`.\n",
      "This will become an error in seaborn v0.14.0; please update your code.\n",
      "\n",
      "  if __name__ == '__main__':\n"
     ]
    },
    {
     "data": {
      "image/png": "[encoded data removed]",
      "text/plain": [
       "<Figure size 576x432 with 1 Axes>"
      ]
     },
     "metadata": {
      "needs_background": "light"
     },
     "output_type": "display_data"
    },
    {
     "name": "stderr",
     "output_type": "stream",
     "text": [
      "C:\\Users\\guill\\AppData\\Roaming\\Python\\Python37\\site-packages\\ipykernel_launcher.py:6: FutureWarning: \n",
      "\n",
      "`shade` is now deprecated in favor of `fill`; setting `fill=True`.\n",
      "This will become an error in seaborn v0.14.0; please update your code.\n",
      "\n",
      "  \n",
      "C:\\Users\\guill\\AppData\\Roaming\\Python\\Python37\\site-packages\\ipykernel_launcher.py:9: FutureWarning: \n",
      "\n",
      "`shade` is now deprecated in favor of `fill`; setting `fill=True`.\n",
      "This will become an error in seaborn v0.14.0; please update your code.\n",
      "\n",
      "  if __name__ == '__main__':\n"
     ]
    },
    {
     "data": {
      "image/png": "[encoded data removed]",
      "text/plain": [
       "<Figure size 576x432 with 1 Axes>"
      ]
     },
     "metadata": {
      "needs_background": "light"
     },
     "output_type": "display_data"
    },
    {
     "name": "stderr",
     "output_type": "stream",
     "text": [
      "C:\\Users\\guill\\AppData\\Roaming\\Python\\Python37\\site-packages\\ipykernel_launcher.py:6: FutureWarning: \n",
      "\n",
      "`shade` is now deprecated in favor of `fill`; setting `fill=True`.\n",
      "This will become an error in seaborn v0.14.0; please update your code.\n",
      "\n",
      "  \n",
      "C:\\Users\\guill\\AppData\\Roaming\\Python\\Python37\\site-packages\\ipykernel_launcher.py:9: FutureWarning: \n",
      "\n",
      "`shade` is now deprecated in favor of `fill`; setting `fill=True`.\n",
      "This will become an error in seaborn v0.14.0; please update your code.\n",
      "\n",
      "  if __name__ == '__main__':\n"
     ]
    },
    {
     "data": {
      "image/png": "[encoded data removed]",
      "text/plain": [
       "<Figure size 576x432 with 1 Axes>"
      ]
     },
     "metadata": {
      "needs_background": "light"
     },
     "output_type": "display_data"
    },
    {
     "name": "stderr",
     "output_type": "stream",
     "text": [
      "C:\\Users\\guill\\AppData\\Roaming\\Python\\Python37\\site-packages\\ipykernel_launcher.py:6: FutureWarning: \n",
      "\n",
      "`shade` is now deprecated in favor of `fill`; setting `fill=True`.\n",
      "This will become an error in seaborn v0.14.0; please update your code.\n",
      "\n",
      "  \n",
      "C:\\Users\\guill\\AppData\\Roaming\\Python\\Python37\\site-packages\\ipykernel_launcher.py:9: FutureWarning: \n",
      "\n",
      "`shade` is now deprecated in favor of `fill`; setting `fill=True`.\n",
      "This will become an error in seaborn v0.14.0; please update your code.\n",
      "\n",
      "  if __name__ == '__main__':\n"
     ]
    },
    {
     "data": {
      "image/png": "[encoded data removed]",
      "text/plain": [
       "<Figure size 576x432 with 1 Axes>"
      ]
     },
     "metadata": {
      "needs_background": "light"
     },
     "output_type": "display_data"
    },
    {
     "name": "stderr",
     "output_type": "stream",
     "text": [
      "C:\\Users\\guill\\AppData\\Roaming\\Python\\Python37\\site-packages\\ipykernel_launcher.py:6: FutureWarning: \n",
      "\n",
      "`shade` is now deprecated in favor of `fill`; setting `fill=True`.\n",
      "This will become an error in seaborn v0.14.0; please update your code.\n",
      "\n",
      "  \n",
      "C:\\Users\\guill\\AppData\\Roaming\\Python\\Python37\\site-packages\\ipykernel_launcher.py:9: FutureWarning: \n",
      "\n",
      "`shade` is now deprecated in favor of `fill`; setting `fill=True`.\n",
      "This will become an error in seaborn v0.14.0; please update your code.\n",
      "\n",
      "  if __name__ == '__main__':\n"
     ]
    },
    {
     "data": {
      "image/png": "[encoded data removed]",
      "text/plain": [
       "<Figure size 576x432 with 1 Axes>"
      ]
     },
     "metadata": {
      "needs_background": "light"
     },
     "output_type": "display_data"
    },
    {
     "name": "stderr",
     "output_type": "stream",
     "text": [
      "C:\\Users\\guill\\AppData\\Roaming\\Python\\Python37\\site-packages\\ipykernel_launcher.py:6: FutureWarning: \n",
      "\n",
      "`shade` is now deprecated in favor of `fill`; setting `fill=True`.\n",
      "This will become an error in seaborn v0.14.0; please update your code.\n",
      "\n",
      "  \n",
      "C:\\Users\\guill\\AppData\\Roaming\\Python\\Python37\\site-packages\\ipykernel_launcher.py:9: FutureWarning: \n",
      "\n",
      "`shade` is now deprecated in favor of `fill`; setting `fill=True`.\n",
      "This will become an error in seaborn v0.14.0; please update your code.\n",
      "\n",
      "  if __name__ == '__main__':\n"
     ]
    },
    {
     "data": {
      "image/png": "[encoded data removed]",
      "text/plain": [
       "<Figure size 576x432 with 1 Axes>"
      ]
     },
     "metadata": {
      "needs_background": "light"
     },
     "output_type": "display_data"
    }
   ],
   "source": [
    "for dimension in emotions:\n",
    "    # Initialize the plot\n",
    "    plt.figure(figsize=(8, 6))\n",
    "    \n",
    "    # Plot the KDE for dataframe 1\n",
    "    sns.kdeplot(data=df1[dimension], label='Fake', shade=True)\n",
    "    \n",
    "    # Plot the KDE for dataframe 2\n",
    "    sns.kdeplot(data=df2[dimension], label='True', shade=True)\n",
    "\n",
    "    # Set the plot title and labels\n",
    "    plt.title(f'Kernel Density Estimation for {dimension}')\n",
    "    plt.xlabel(dimension)\n",
    "    plt.ylabel('Density')\n",
    "\n",
    "    # Show the legend\n",
    "    plt.legend()\n",
    "\n",
    "    # Show the plot\n",
    "    plt.show()"
   ]
  },
  {
   "cell_type": "markdown",
   "metadata": {},
   "source": [
    "Fake news could have more extreme values, while they could have more values close to 0 in Fear. But all the distributions are very similar."
   ]
  },
  {
   "cell_type": "code",
   "execution_count": 53,
   "metadata": {
    "scrolled": true
   },
   "outputs": [
    {
     "name": "stdout",
     "output_type": "stream",
     "text": [
      "                  sadness       joy      love     anger      fear  surprise\n",
      "subject                                                                    \n",
      "Government News  0.088642  0.211444  0.007933  0.550655  0.127470  0.012479\n",
      "Middle-east      0.063762  0.203269  0.006809  0.573998  0.131791  0.011076\n",
      "News             0.108177  0.170341  0.012594  0.606896  0.089427  0.012421\n",
      "US_News          0.063534  0.202606  0.006857  0.575073  0.131480  0.011040\n",
      "left-news        0.086091  0.177542  0.012085  0.589034  0.120007  0.014264\n",
      "politics         0.085040  0.219195  0.013748  0.557116  0.108621  0.015248\n",
      "               sadness       joy      love     anger      fear  surprise\n",
      "subject                                                                 \n",
      "politicsNews  0.059045  0.245314  0.006140  0.573292  0.112284  0.003806\n",
      "worldnews     0.081085  0.158333  0.004094  0.534596  0.219102  0.002743\n"
     ]
    }
   ],
   "source": [
    "print(df1.groupby('subject').mean())\n",
    "print(df2.groupby('subject').mean())"
   ]
  },
  {
   "cell_type": "markdown",
   "metadata": {},
   "source": [
    "Categories are not the same in both files, so it is difficul to compare. However, it seems there is not much variation."
   ]
  },
  {
   "cell_type": "markdown",
   "metadata": {},
   "source": [
    "# Processing Titles"
   ]
  },
  {
   "cell_type": "code",
   "execution_count": 60,
   "metadata": {},
   "outputs": [
    {
     "name": "stdout",
     "output_type": "stream",
     "text": [
      "0\n",
      "200\n",
      "400\n",
      "600\n",
      "800\n",
      "1000\n",
      "1200\n",
      "1400\n",
      "1600\n",
      "1800\n",
      "2000\n",
      "2200\n",
      "2400\n",
      "2600\n",
      "2800\n",
      "3000\n",
      "3200\n",
      "3400\n",
      "3600\n",
      "3800\n",
      "4000\n",
      "4200\n",
      "4400\n",
      "4600\n",
      "4800\n",
      "5000\n",
      "5200\n",
      "5400\n",
      "5600\n",
      "5800\n",
      "6000\n",
      "6200\n",
      "6400\n",
      "6600\n",
      "6800\n",
      "7000\n",
      "7200\n",
      "7400\n",
      "7600\n",
      "7800\n",
      "8000\n",
      "8200\n",
      "8400\n",
      "8600\n",
      "8800\n",
      "9000\n",
      "9200\n",
      "9400\n",
      "9600\n",
      "9800\n",
      "10000\n",
      "10200\n",
      "10400\n",
      "10600\n",
      "10800\n",
      "11000\n",
      "11200\n",
      "11400\n",
      "11600\n",
      "11800\n",
      "12000\n",
      "12200\n",
      "12400\n",
      "12600\n",
      "12800\n",
      "13000\n",
      "13200\n",
      "13400\n",
      "13600\n",
      "13800\n",
      "14000\n",
      "14200\n",
      "14400\n",
      "14600\n",
      "14800\n",
      "15000\n",
      "15200\n",
      "15400\n",
      "15600\n",
      "15800\n",
      "16000\n",
      "16200\n",
      "16400\n",
      "16600\n",
      "16800\n",
      "17000\n",
      "17200\n",
      "17400\n",
      "17600\n",
      "17800\n",
      "18000\n",
      "18200\n",
      "18400\n",
      "18600\n",
      "18800\n",
      "19000\n",
      "19200\n",
      "19400\n",
      "19600\n",
      "19800\n",
      "20000\n",
      "20200\n",
      "20400\n",
      "20600\n",
      "20800\n",
      "21000\n",
      "21200\n",
      "21400\n",
      "21600\n",
      "21800\n",
      "22000\n",
      "22200\n",
      "22400\n",
      "22600\n",
      "22800\n",
      "23000\n",
      "23200\n",
      "23400\n"
     ]
    }
   ],
   "source": [
    "df = pd.read_csv('../Datasets/kaggle/Fake.csv')\n",
    "classifier = pipeline(\"text-classification\",model='bhadresh-savani/distilbert-base-uncased-emotion', return_all_scores=True)\n",
    "dfscores=pd.DataFrame()\n",
    "for t in range(len(df)):\n",
    "    texto = df['title'][t]\n",
    "    scores = pd.DataFrame(classifier(texto)[0]).set_index('label').T\n",
    "    dfscores=dfscores.append(scores)\n",
    "    if t%200==0:\n",
    "        print(t)\n",
    "dfscores.to_csv('../Datasets/kaggle/scores_fake_titles.csv')"
   ]
  },
  {
   "cell_type": "code",
   "execution_count": 61,
   "metadata": {},
   "outputs": [
    {
     "name": "stdout",
     "output_type": "stream",
     "text": [
      "0\n",
      "200\n",
      "400\n",
      "600\n",
      "800\n",
      "1000\n",
      "1200\n",
      "1400\n",
      "1600\n",
      "1800\n",
      "2000\n",
      "2200\n",
      "2400\n",
      "2600\n",
      "2800\n",
      "3000\n",
      "3200\n",
      "3400\n",
      "3600\n",
      "3800\n",
      "4000\n",
      "4200\n",
      "4400\n",
      "4600\n",
      "4800\n",
      "5000\n",
      "5200\n",
      "5400\n",
      "5600\n",
      "5800\n",
      "6000\n",
      "6200\n",
      "6400\n",
      "6600\n",
      "6800\n",
      "7000\n",
      "7200\n",
      "7400\n",
      "7600\n",
      "7800\n",
      "8000\n",
      "8200\n",
      "8400\n",
      "8600\n",
      "8800\n",
      "9000\n",
      "9200\n",
      "9400\n",
      "9600\n",
      "9800\n",
      "10000\n",
      "10200\n",
      "10400\n",
      "10600\n",
      "10800\n",
      "11000\n",
      "11200\n",
      "11400\n",
      "11600\n",
      "11800\n",
      "12000\n",
      "12200\n",
      "12400\n",
      "12600\n",
      "12800\n",
      "13000\n",
      "13200\n",
      "13400\n",
      "13600\n",
      "13800\n",
      "14000\n",
      "14200\n",
      "14400\n",
      "14600\n",
      "14800\n",
      "15000\n",
      "15200\n",
      "15400\n",
      "15600\n",
      "15800\n",
      "16000\n",
      "16200\n",
      "16400\n",
      "16600\n",
      "16800\n",
      "17000\n",
      "17200\n",
      "17400\n",
      "17600\n",
      "17800\n",
      "18000\n",
      "18200\n",
      "18400\n",
      "18600\n",
      "18800\n",
      "19000\n",
      "19200\n",
      "19400\n",
      "19600\n",
      "19800\n",
      "20000\n",
      "20200\n",
      "20400\n",
      "20600\n",
      "20800\n",
      "21000\n",
      "21200\n",
      "21400\n"
     ]
    }
   ],
   "source": [
    "df = pd.read_csv('../Datasets/kaggle/True.csv')\n",
    "classifier = pipeline(\"text-classification\",model='bhadresh-savani/distilbert-base-uncased-emotion', return_all_scores=True)\n",
    "dfscores=pd.DataFrame()\n",
    "for t in range(len(df)):\n",
    "    texto = df['title'][t]\n",
    "    scores = pd.DataFrame(classifier(texto)[0]).set_index('label').T\n",
    "    dfscores=dfscores.append(scores)\n",
    "    if t%200==0:\n",
    "        print(t)\n",
    "dfscores.to_csv('../Datasets/kaggle/scores_true_titles.csv')"
   ]
  },
  {
   "cell_type": "markdown",
   "metadata": {},
   "source": [
    "# Analysis of titles"
   ]
  },
  {
   "cell_type": "code",
   "execution_count": 69,
   "metadata": {},
   "outputs": [],
   "source": [
    "from scipy import stats\n",
    "import pandas as pd"
   ]
  },
  {
   "cell_type": "code",
   "execution_count": 70,
   "metadata": {},
   "outputs": [],
   "source": [
    "# Opening the files\n",
    "df1=pd.merge(left=pd.read_csv('../Datasets/kaggle/scores_fake_titles.csv'), right=pd.read_csv('Fake.csv'), left_index=True, right_index=True)\n",
    "df2=pd.merge(left=pd.read_csv('../Datasets/kaggle/scores_true_titles.csv'), right=pd.read_csv('True.csv'), left_index=True, right_index=True)"
   ]
  },
  {
   "cell_type": "code",
   "execution_count": 71,
   "metadata": {},
   "outputs": [
    {
     "name": "stdout",
     "output_type": "stream",
     "text": [
      "Number of not classified in Fake: 0 . Number of not classified in True: 0\n"
     ]
    }
   ],
   "source": [
    "emotions = ['sadness', 'joy', 'love', 'anger', 'fear', 'surprise']\n",
    "print('Number of not classified in Fake:', df1[['joy', 'love', 'anger', 'fear', 'surprise']].isna().all(axis=1).sum(), '. Number of not classified in True:',   df2[['joy', 'love', 'anger', 'fear', 'surprise']].isna().all(axis=1).sum())"
   ]
  },
  {
   "cell_type": "markdown",
   "metadata": {},
   "source": [
    "# T-test"
   ]
  },
  {
   "cell_type": "code",
   "execution_count": 72,
   "metadata": {},
   "outputs": [
    {
     "name": "stdout",
     "output_type": "stream",
     "text": [
      "T-test for sadness: t-statistic=13.7773, p-value=0.0000 means: [0.08670354000556292, 0.06180597923731547]\n",
      "T-test for joy: t-statistic=-21.4757, p-value=0.0000 means: [0.20528731347895268, 0.2735512435794753]\n",
      "T-test for love: t-statistic=4.3770, p-value=0.0000 means: [0.00724713867434565, 0.005504453288532401]\n",
      "T-test for anger: t-statistic=28.4713, p-value=0.0000 means: [0.5735923852817849, 0.4744330366402653]\n",
      "T-test for fear: t-statistic=-28.3014, p-value=0.0000 means: [0.11493392311019286, 0.18169398992492847]\n",
      "T-test for surprise: t-statistic=15.4100, p-value=0.0000 means: [0.012235698476836391, 0.0030112967629506676]\n"
     ]
    }
   ],
   "source": [
    "\n",
    "# Assuming you have two dataframes df1 and df2 with the same column names\n",
    "# and the data is already loaded into the dataframes\n",
    "\n",
    "# Create a list of emotions\n",
    "\n",
    "# Perform t-tests for each emotion\n",
    "for emotion in emotions:\n",
    "    t_stat, p_value = stats.ttest_ind(df1[emotion].dropna(), df2[emotion].dropna())\n",
    "    print(f'T-test for {emotion}: t-statistic={t_stat:.4f}, p-value={p_value:.4f}', 'means:' ,[df1[emotion].dropna().mean(),df2[emotion].dropna().mean()])\n"
   ]
  },
  {
   "cell_type": "markdown",
   "metadata": {},
   "source": [
    "Differences are significantly different, and differences are larger\n",
    "* Fake show higher frequency Anger and Surprise (and large differences). \n",
    "* True show higher frequency of Joy and Fear."
   ]
  },
  {
   "cell_type": "code",
   "execution_count": 73,
   "metadata": {},
   "outputs": [],
   "source": [
    "import seaborn as sns\n",
    "import matplotlib.pyplot as plt"
   ]
  },
  {
   "cell_type": "code",
   "execution_count": 74,
   "metadata": {},
   "outputs": [
    {
     "name": "stderr",
     "output_type": "stream",
     "text": [
      "C:\\Users\\guill\\AppData\\Roaming\\Python\\Python37\\site-packages\\ipykernel_launcher.py:6: FutureWarning: \n",
      "\n",
      "`shade` is now deprecated in favor of `fill`; setting `fill=True`.\n",
      "This will become an error in seaborn v0.14.0; please update your code.\n",
      "\n",
      "  \n",
      "C:\\Users\\guill\\AppData\\Roaming\\Python\\Python37\\site-packages\\ipykernel_launcher.py:9: FutureWarning: \n",
      "\n",
      "`shade` is now deprecated in favor of `fill`; setting `fill=True`.\n",
      "This will become an error in seaborn v0.14.0; please update your code.\n",
      "\n",
      "  if __name__ == '__main__':\n"
     ]
    },
    {
     "data": {
      "image/png": "[encoded data removed]",
      "text/plain": [
       "<Figure size 576x432 with 1 Axes>"
      ]
     },
     "metadata": {
      "needs_background": "light"
     },
     "output_type": "display_data"
    },
    {
     "name": "stderr",
     "output_type": "stream",
     "text": [
      "C:\\Users\\guill\\AppData\\Roaming\\Python\\Python37\\site-packages\\ipykernel_launcher.py:6: FutureWarning: \n",
      "\n",
      "`shade` is now deprecated in favor of `fill`; setting `fill=True`.\n",
      "This will become an error in seaborn v0.14.0; please update your code.\n",
      "\n",
      "  \n",
      "C:\\Users\\guill\\AppData\\Roaming\\Python\\Python37\\site-packages\\ipykernel_launcher.py:9: FutureWarning: \n",
      "\n",
      "`shade` is now deprecated in favor of `fill`; setting `fill=True`.\n",
      "This will become an error in seaborn v0.14.0; please update your code.\n",
      "\n",
      "  if __name__ == '__main__':\n"
     ]
    },
    {
     "data": {
      "image/png": "[encoded data removed]",
      "text/plain": [
       "<Figure size 576x432 with 1 Axes>"
      ]
     },
     "metadata": {
      "needs_background": "light"
     },
     "output_type": "display_data"
    },
    {
     "name": "stderr",
     "output_type": "stream",
     "text": [
      "C:\\Users\\guill\\AppData\\Roaming\\Python\\Python37\\site-packages\\ipykernel_launcher.py:6: FutureWarning: \n",
      "\n",
      "`shade` is now deprecated in favor of `fill`; setting `fill=True`.\n",
      "This will become an error in seaborn v0.14.0; please update your code.\n",
      "\n",
      "  \n",
      "C:\\Users\\guill\\AppData\\Roaming\\Python\\Python37\\site-packages\\ipykernel_launcher.py:9: FutureWarning: \n",
      "\n",
      "`shade` is now deprecated in favor of `fill`; setting `fill=True`.\n",
      "This will become an error in seaborn v0.14.0; please update your code.\n",
      "\n",
      "  if __name__ == '__main__':\n"
     ]
    },
    {
     "data": {
      "image/png": "[encoded data removed]",
      "text/plain": [
       "<Figure size 576x432 with 1 Axes>"
      ]
     },
     "metadata": {
      "needs_background": "light"
     },
     "output_type": "display_data"
    },
    {
     "name": "stderr",
     "output_type": "stream",
     "text": [
      "C:\\Users\\guill\\AppData\\Roaming\\Python\\Python37\\site-packages\\ipykernel_launcher.py:6: FutureWarning: \n",
      "\n",
      "`shade` is now deprecated in favor of `fill`; setting `fill=True`.\n",
      "This will become an error in seaborn v0.14.0; please update your code.\n",
      "\n",
      "  \n",
      "C:\\Users\\guill\\AppData\\Roaming\\Python\\Python37\\site-packages\\ipykernel_launcher.py:9: FutureWarning: \n",
      "\n",
      "`shade` is now deprecated in favor of `fill`; setting `fill=True`.\n",
      "This will become an error in seaborn v0.14.0; please update your code.\n",
      "\n",
      "  if __name__ == '__main__':\n"
     ]
    },
    {
     "data": {
      "image/png": "[encoded data removed]",
      "text/plain": [
       "<Figure size 576x432 with 1 Axes>"
      ]
     },
     "metadata": {
      "needs_background": "light"
     },
     "output_type": "display_data"
    },
    {
     "name": "stderr",
     "output_type": "stream",
     "text": [
      "C:\\Users\\guill\\AppData\\Roaming\\Python\\Python37\\site-packages\\ipykernel_launcher.py:6: FutureWarning: \n",
      "\n",
      "`shade` is now deprecated in favor of `fill`; setting `fill=True`.\n",
      "This will become an error in seaborn v0.14.0; please update your code.\n",
      "\n",
      "  \n",
      "C:\\Users\\guill\\AppData\\Roaming\\Python\\Python37\\site-packages\\ipykernel_launcher.py:9: FutureWarning: \n",
      "\n",
      "`shade` is now deprecated in favor of `fill`; setting `fill=True`.\n",
      "This will become an error in seaborn v0.14.0; please update your code.\n",
      "\n",
      "  if __name__ == '__main__':\n"
     ]
    },
    {
     "data": {
      "image/png": "[encoded data removed]",
      "text/plain": [
       "<Figure size 576x432 with 1 Axes>"
      ]
     },
     "metadata": {
      "needs_background": "light"
     },
     "output_type": "display_data"
    },
    {
     "name": "stderr",
     "output_type": "stream",
     "text": [
      "C:\\Users\\guill\\AppData\\Roaming\\Python\\Python37\\site-packages\\ipykernel_launcher.py:6: FutureWarning: \n",
      "\n",
      "`shade` is now deprecated in favor of `fill`; setting `fill=True`.\n",
      "This will become an error in seaborn v0.14.0; please update your code.\n",
      "\n",
      "  \n",
      "C:\\Users\\guill\\AppData\\Roaming\\Python\\Python37\\site-packages\\ipykernel_launcher.py:9: FutureWarning: \n",
      "\n",
      "`shade` is now deprecated in favor of `fill`; setting `fill=True`.\n",
      "This will become an error in seaborn v0.14.0; please update your code.\n",
      "\n",
      "  if __name__ == '__main__':\n"
     ]
    },
    {
     "data": {
      "image/png": "[encoded data removed]",
      "text/plain": [
       "<Figure size 576x432 with 1 Axes>"
      ]
     },
     "metadata": {
      "needs_background": "light"
     },
     "output_type": "display_data"
    }
   ],
   "source": [
    "for dimension in emotions:\n",
    "    # Initialize the plot\n",
    "    plt.figure(figsize=(8, 6))\n",
    "    \n",
    "    # Plot the KDE for dataframe 1\n",
    "    sns.kdeplot(data=df1[dimension], label='Fake', shade=True)\n",
    "    \n",
    "    # Plot the KDE for dataframe 2\n",
    "    sns.kdeplot(data=df2[dimension], label='True', shade=True)\n",
    "\n",
    "    # Set the plot title and labels\n",
    "    plt.title(f'Kernel Density Estimation for {dimension}')\n",
    "    plt.xlabel(dimension)\n",
    "    plt.ylabel('Density')\n",
    "\n",
    "    # Show the legend\n",
    "    plt.legend()\n",
    "\n",
    "    # Show the plot\n",
    "    plt.show()"
   ]
  },
  {
   "cell_type": "markdown",
   "metadata": {},
   "source": [
    "Fake news could have more extreme values, while they could have more values close to 0 in Fear. But all the distributions are very similar."
   ]
  },
  {
   "cell_type": "markdown",
   "metadata": {},
   "source": [
    "# Conclusion\n",
    "It seems that titles seem to be more predictive than texts. And at least Anger and Joy seem two dimensions that go in different directions."
   ]
  },
  {
   "cell_type": "code",
   "execution_count": null,
   "metadata": {},
   "outputs": [],
   "source": []
  }
 ],
 "metadata": {
  "colab": {
   "authorship_tag": "ABX9TyNds6ak6CZfz1uFOwpLcJsA",
   "provenance": []
  },
  "kernelspec": {
   "display_name": "Python 3",
   "language": "python",
   "name": "python3"
  },
  "language_info": {
   "codemirror_mode": {
    "name": "ipython",
    "version": 3
   },
   "file_extension": ".py",
   "mimetype": "text/x-python",
   "name": "python",
   "nbconvert_exporter": "python",
   "pygments_lexer": "ipython3",
   "version": "3.7.4"
  }
 },
 "nbformat": 4,
 "nbformat_minor": 1
}
