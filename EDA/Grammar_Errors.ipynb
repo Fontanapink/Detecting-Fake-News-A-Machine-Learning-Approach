{
 "cells": [
  {
   "attachments": {},
   "cell_type": "markdown",
   "id": "2c109bf0",
   "metadata": {},
   "source": [
    "This notebook roughly follows [Detecting opinion spams and fake news ... (2017)](https://www.researchgate.net/publication/322128415_Detecting_opinion_spams_and_fake_news_using_text_classification) by copy-pasting some code from CodeBasic's [videos](https://www.youtube.com/playlist?list=PLeo1K3hjS3uuvuAXhYjV2lMEShq2UYSwX) and [notebooks](https://github.com/codebasics/nlp-tutorials/blob/main/11_bag_of_n_grams/10_bag_of_n_grams.ipynb).\n",
    "\n",
    "<div style=\"color:red;\">Please download the Kaggle dataset and LIAR dataset first.</div>"
   ]
  },
  {
   "attachments": {},
   "cell_type": "markdown",
   "id": "c2869796",
   "metadata": {},
   "source": [
    "# Import the python libraries"
   ]
  },
  {
   "cell_type": "code",
   "execution_count": null,
   "id": "e5b10783",
   "metadata": {},
   "outputs": [],
   "source": [
    "# importing libraries being used in this notebook\n",
    "import pandas as pd\n",
    "import numpy as np\n",
    "import matplotlib.pyplot as plt"
   ]
  },
  {
   "attachments": {},
   "cell_type": "markdown",
   "id": "0ff3b96b",
   "metadata": {},
   "source": [
    "# Read in datasets"
   ]
  },
  {
   "cell_type": "code",
   "execution_count": 2,
   "id": "ad26f279",
   "metadata": {},
   "outputs": [
    {
     "data": {
      "text/html": [
       "<div>\n",
       "<style scoped>\n",
       "    .dataframe tbody tr th:only-of-type {\n",
       "        vertical-align: middle;\n",
       "    }\n",
       "\n",
       "    .dataframe tbody tr th {\n",
       "        vertical-align: top;\n",
       "    }\n",
       "\n",
       "    .dataframe thead th {\n",
       "        text-align: right;\n",
       "    }\n",
       "</style>\n",
       "<table border=\"1\" class=\"dataframe\">\n",
       "  <thead>\n",
       "    <tr style=\"text-align: right;\">\n",
       "      <th></th>\n",
       "      <th>id</th>\n",
       "      <th>label</th>\n",
       "      <th>statement</th>\n",
       "      <th>subject</th>\n",
       "      <th>speaker</th>\n",
       "      <th>job_title</th>\n",
       "      <th>state</th>\n",
       "      <th>party</th>\n",
       "      <th>barely_true</th>\n",
       "      <th>false</th>\n",
       "      <th>half_true</th>\n",
       "      <th>mostly_true</th>\n",
       "      <th>pants_on_fire</th>\n",
       "      <th>context</th>\n",
       "    </tr>\n",
       "  </thead>\n",
       "  <tbody>\n",
       "    <tr>\n",
       "      <th>0</th>\n",
       "      <td>10540.json</td>\n",
       "      <td>half-true</td>\n",
       "      <td>When did the decline of coal start? It started...</td>\n",
       "      <td>energy,history,job-accomplishments</td>\n",
       "      <td>scott-surovell</td>\n",
       "      <td>State delegate</td>\n",
       "      <td>Virginia</td>\n",
       "      <td>democrat</td>\n",
       "      <td>0.0</td>\n",
       "      <td>0.0</td>\n",
       "      <td>1.0</td>\n",
       "      <td>1.0</td>\n",
       "      <td>0.0</td>\n",
       "      <td>a floor speech.</td>\n",
       "    </tr>\n",
       "    <tr>\n",
       "      <th>1</th>\n",
       "      <td>324.json</td>\n",
       "      <td>mostly-true</td>\n",
       "      <td>Hillary Clinton agrees with John McCain \"by vo...</td>\n",
       "      <td>foreign-policy</td>\n",
       "      <td>barack-obama</td>\n",
       "      <td>President</td>\n",
       "      <td>Illinois</td>\n",
       "      <td>democrat</td>\n",
       "      <td>70.0</td>\n",
       "      <td>71.0</td>\n",
       "      <td>160.0</td>\n",
       "      <td>163.0</td>\n",
       "      <td>9.0</td>\n",
       "      <td>Denver</td>\n",
       "    </tr>\n",
       "    <tr>\n",
       "      <th>2</th>\n",
       "      <td>1123.json</td>\n",
       "      <td>false</td>\n",
       "      <td>Health care reform legislation is likely to ma...</td>\n",
       "      <td>health-care</td>\n",
       "      <td>blog-posting</td>\n",
       "      <td>NaN</td>\n",
       "      <td>NaN</td>\n",
       "      <td>none</td>\n",
       "      <td>7.0</td>\n",
       "      <td>19.0</td>\n",
       "      <td>3.0</td>\n",
       "      <td>5.0</td>\n",
       "      <td>44.0</td>\n",
       "      <td>a news release</td>\n",
       "    </tr>\n",
       "    <tr>\n",
       "      <th>3</th>\n",
       "      <td>9028.json</td>\n",
       "      <td>half-true</td>\n",
       "      <td>The economic turnaround started at the end of ...</td>\n",
       "      <td>economy,jobs</td>\n",
       "      <td>charlie-crist</td>\n",
       "      <td>NaN</td>\n",
       "      <td>Florida</td>\n",
       "      <td>democrat</td>\n",
       "      <td>15.0</td>\n",
       "      <td>9.0</td>\n",
       "      <td>20.0</td>\n",
       "      <td>19.0</td>\n",
       "      <td>2.0</td>\n",
       "      <td>an interview on CNN</td>\n",
       "    </tr>\n",
       "    <tr>\n",
       "      <th>4</th>\n",
       "      <td>12465.json</td>\n",
       "      <td>true</td>\n",
       "      <td>The Chicago Bears have had more starting quart...</td>\n",
       "      <td>education</td>\n",
       "      <td>robin-vos</td>\n",
       "      <td>Wisconsin Assembly speaker</td>\n",
       "      <td>Wisconsin</td>\n",
       "      <td>republican</td>\n",
       "      <td>0.0</td>\n",
       "      <td>3.0</td>\n",
       "      <td>2.0</td>\n",
       "      <td>5.0</td>\n",
       "      <td>1.0</td>\n",
       "      <td>a an online opinion-piece</td>\n",
       "    </tr>\n",
       "  </tbody>\n",
       "</table>\n",
       "</div>"
      ],
      "text/plain": [
       "           id        label                                          statement  \\\n",
       "0  10540.json    half-true  When did the decline of coal start? It started...   \n",
       "1    324.json  mostly-true  Hillary Clinton agrees with John McCain \"by vo...   \n",
       "2   1123.json        false  Health care reform legislation is likely to ma...   \n",
       "3   9028.json    half-true  The economic turnaround started at the end of ...   \n",
       "4  12465.json         true  The Chicago Bears have had more starting quart...   \n",
       "\n",
       "                              subject         speaker  \\\n",
       "0  energy,history,job-accomplishments  scott-surovell   \n",
       "1                      foreign-policy    barack-obama   \n",
       "2                         health-care    blog-posting   \n",
       "3                        economy,jobs   charlie-crist   \n",
       "4                           education       robin-vos   \n",
       "\n",
       "                    job_title      state       party  barely_true  false  \\\n",
       "0              State delegate   Virginia    democrat          0.0    0.0   \n",
       "1                   President   Illinois    democrat         70.0   71.0   \n",
       "2                         NaN        NaN        none          7.0   19.0   \n",
       "3                         NaN    Florida    democrat         15.0    9.0   \n",
       "4  Wisconsin Assembly speaker  Wisconsin  republican          0.0    3.0   \n",
       "\n",
       "   half_true  mostly_true  pants_on_fire                    context  \n",
       "0        1.0          1.0            0.0            a floor speech.  \n",
       "1      160.0        163.0            9.0                     Denver  \n",
       "2        3.0          5.0           44.0             a news release  \n",
       "3       20.0         19.0            2.0        an interview on CNN  \n",
       "4        2.0          5.0            1.0  a an online opinion-piece  "
      ]
     },
     "execution_count": 2,
     "metadata": {},
     "output_type": "execute_result"
    }
   ],
   "source": [
    "# The first dataset is the LIAR dataset, which is a dataset of fact-checked statements.\n",
    "liar_df = pd.read_csv('./Datasets/liar_dataset/train.tsv', sep='\\t')\n",
    "liar_df.columns = ['id', 'label', 'statement', 'subject', 'speaker', 'job_title', 'state', 'party', 'barely_true', 'false', 'half_true', 'mostly_true', 'pants_on_fire', 'context']\n",
    "liar_df.head()"
   ]
  },
  {
   "cell_type": "code",
   "execution_count": 3,
   "id": "4ac68197",
   "metadata": {},
   "outputs": [
    {
     "data": {
      "text/html": [
       "<div>\n",
       "<style scoped>\n",
       "    .dataframe tbody tr th:only-of-type {\n",
       "        vertical-align: middle;\n",
       "    }\n",
       "\n",
       "    .dataframe tbody tr th {\n",
       "        vertical-align: top;\n",
       "    }\n",
       "\n",
       "    .dataframe thead th {\n",
       "        text-align: right;\n",
       "    }\n",
       "</style>\n",
       "<table border=\"1\" class=\"dataframe\">\n",
       "  <thead>\n",
       "    <tr style=\"text-align: right;\">\n",
       "      <th></th>\n",
       "      <th>Label</th>\n",
       "      <th>Statement</th>\n",
       "      <th>Truth</th>\n",
       "    </tr>\n",
       "  </thead>\n",
       "  <tbody>\n",
       "    <tr>\n",
       "      <th>0</th>\n",
       "      <td>half-true</td>\n",
       "      <td>When did the decline of coal start? It started...</td>\n",
       "      <td>0</td>\n",
       "    </tr>\n",
       "    <tr>\n",
       "      <th>1</th>\n",
       "      <td>mostly-true</td>\n",
       "      <td>Hillary Clinton agrees with John McCain \"by vo...</td>\n",
       "      <td>1</td>\n",
       "    </tr>\n",
       "    <tr>\n",
       "      <th>2</th>\n",
       "      <td>false</td>\n",
       "      <td>Health care reform legislation is likely to ma...</td>\n",
       "      <td>0</td>\n",
       "    </tr>\n",
       "    <tr>\n",
       "      <th>3</th>\n",
       "      <td>half-true</td>\n",
       "      <td>The economic turnaround started at the end of ...</td>\n",
       "      <td>0</td>\n",
       "    </tr>\n",
       "    <tr>\n",
       "      <th>4</th>\n",
       "      <td>true</td>\n",
       "      <td>The Chicago Bears have had more starting quart...</td>\n",
       "      <td>1</td>\n",
       "    </tr>\n",
       "  </tbody>\n",
       "</table>\n",
       "</div>"
      ],
      "text/plain": [
       "         Label                                          Statement  Truth\n",
       "0    half-true  When did the decline of coal start? It started...      0\n",
       "1  mostly-true  Hillary Clinton agrees with John McCain \"by vo...      1\n",
       "2        false  Health care reform legislation is likely to ma...      0\n",
       "3    half-true  The economic turnaround started at the end of ...      0\n",
       "4         true  The Chicago Bears have had more starting quart...      1"
      ]
     },
     "execution_count": 3,
     "metadata": {},
     "output_type": "execute_result"
    }
   ],
   "source": [
    "# Removing the columns that are not needed for the analysis, keepink only the statement and the label\n",
    "condensed_liar = pd.DataFrame()\n",
    "condensed_liar[['Label','Statement']] = liar_df.iloc[: , [1, 2]].copy()\n",
    "\n",
    "# Creating a new column with the truth value of the statement being only true or false (1 or 0):\n",
    "condensed_liar['Truth'] = condensed_liar.Label.map({\n",
    "     'pants-fire': 0,\n",
    "     'false': 0,\n",
    "     'mostly-false': 0,\n",
    "     'half-true': 0,\n",
    "     'barely-true': 1,\n",
    "     'mostly-true': 1,\n",
    "     'true': 1\n",
    "})\n",
    "condensed_liar.head()"
   ]
  },
  {
   "cell_type": "code",
   "execution_count": 4,
   "id": "f1410cdb",
   "metadata": {},
   "outputs": [
    {
     "data": {
      "text/html": [
       "<div>\n",
       "<style scoped>\n",
       "    .dataframe tbody tr th:only-of-type {\n",
       "        vertical-align: middle;\n",
       "    }\n",
       "\n",
       "    .dataframe tbody tr th {\n",
       "        vertical-align: top;\n",
       "    }\n",
       "\n",
       "    .dataframe thead th {\n",
       "        text-align: right;\n",
       "    }\n",
       "</style>\n",
       "<table border=\"1\" class=\"dataframe\">\n",
       "  <thead>\n",
       "    <tr style=\"text-align: right;\">\n",
       "      <th></th>\n",
       "      <th>title</th>\n",
       "      <th>author</th>\n",
       "      <th>text</th>\n",
       "      <th>label</th>\n",
       "    </tr>\n",
       "    <tr>\n",
       "      <th>id</th>\n",
       "      <th></th>\n",
       "      <th></th>\n",
       "      <th></th>\n",
       "      <th></th>\n",
       "    </tr>\n",
       "  </thead>\n",
       "  <tbody>\n",
       "    <tr>\n",
       "      <th>0</th>\n",
       "      <td>House Dem Aide: We Didn’t Even See Comey’s Let...</td>\n",
       "      <td>Darrell Lucus</td>\n",
       "      <td>House Dem Aide: We Didn’t Even See Comey’s Let...</td>\n",
       "      <td>1</td>\n",
       "    </tr>\n",
       "    <tr>\n",
       "      <th>1</th>\n",
       "      <td>FLYNN: Hillary Clinton, Big Woman on Campus - ...</td>\n",
       "      <td>Daniel J. Flynn</td>\n",
       "      <td>Ever get the feeling your life circles the rou...</td>\n",
       "      <td>0</td>\n",
       "    </tr>\n",
       "    <tr>\n",
       "      <th>2</th>\n",
       "      <td>Why the Truth Might Get You Fired</td>\n",
       "      <td>Consortiumnews.com</td>\n",
       "      <td>Why the Truth Might Get You Fired October 29, ...</td>\n",
       "      <td>1</td>\n",
       "    </tr>\n",
       "    <tr>\n",
       "      <th>3</th>\n",
       "      <td>15 Civilians Killed In Single US Airstrike Hav...</td>\n",
       "      <td>Jessica Purkiss</td>\n",
       "      <td>Videos 15 Civilians Killed In Single US Airstr...</td>\n",
       "      <td>1</td>\n",
       "    </tr>\n",
       "    <tr>\n",
       "      <th>4</th>\n",
       "      <td>Iranian woman jailed for fictional unpublished...</td>\n",
       "      <td>Howard Portnoy</td>\n",
       "      <td>Print \\nAn Iranian woman has been sentenced to...</td>\n",
       "      <td>1</td>\n",
       "    </tr>\n",
       "  </tbody>\n",
       "</table>\n",
       "</div>"
      ],
      "text/plain": [
       "                                                title              author  \\\n",
       "id                                                                          \n",
       "0   House Dem Aide: We Didn’t Even See Comey’s Let...       Darrell Lucus   \n",
       "1   FLYNN: Hillary Clinton, Big Woman on Campus - ...     Daniel J. Flynn   \n",
       "2                   Why the Truth Might Get You Fired  Consortiumnews.com   \n",
       "3   15 Civilians Killed In Single US Airstrike Hav...     Jessica Purkiss   \n",
       "4   Iranian woman jailed for fictional unpublished...      Howard Portnoy   \n",
       "\n",
       "                                                 text  label  \n",
       "id                                                            \n",
       "0   House Dem Aide: We Didn’t Even See Comey’s Let...      1  \n",
       "1   Ever get the feeling your life circles the rou...      0  \n",
       "2   Why the Truth Might Get You Fired October 29, ...      1  \n",
       "3   Videos 15 Civilians Killed In Single US Airstr...      1  \n",
       "4   Print \\nAn Iranian woman has been sentenced to...      1  "
      ]
     },
     "execution_count": 4,
     "metadata": {},
     "output_type": "execute_result"
    }
   ],
   "source": [
    "# The second dataset is the Kaggle dataset, which is a dataset of news articles.\n",
    "news_df = pd.read_csv('./Datasets/fake-news/train.csv',index_col=0)\n",
    "news_df.head()"
   ]
  },
  {
   "attachments": {},
   "cell_type": "markdown",
   "id": "615d3a91",
   "metadata": {},
   "source": [
    "# Extracting grammatical error \n",
    "\n",
    "We are goint to use some of the packages listed here: https://blog.sapling.ai/python-spelling-and-grammar-checkers/ "
   ]
  },
  {
   "cell_type": "code",
   "execution_count": 5,
   "id": "2ba95418",
   "metadata": {},
   "outputs": [
    {
     "name": "stderr",
     "output_type": "stream",
     "text": [
      "Downloading LanguageTool 5.7: 100%|██████████| 225M/225M [01:53<00:00, 1.98MB/s] \n",
      "Unzipping C:\\Users\\elros\\AppData\\Local\\Temp\\tmpgi3j7_cd.zip to C:\\Users\\elros\\.cache\\language_tool_python.\n",
      "Downloaded https://www.languagetool.org/download/LanguageTool-5.7.zip to C:\\Users\\elros\\.cache\\language_tool_python.\n"
     ]
    }
   ],
   "source": [
    "# Using python packages to the number of grammar errors in each statement\n",
    "# The first package is LanguageTool, which is a grammar checker for English, German, Polish, Dutch, Romanian, and a lot more languages.\n",
    "# The second package is Sapling, which is a grammar checker for English.\n",
    "# Both packages are free to use, but they have a limit of 1000 requests per day.\n",
    "# The code below is an example of how to use the packages to check the grammar of a statement.\n",
    "from language_tool_python import LanguageTool\n",
    "tool = LanguageTool('en-US')"
   ]
  },
  {
   "cell_type": "code",
   "execution_count": 6,
   "id": "a5c94152",
   "metadata": {},
   "outputs": [
    {
     "ename": "LanguageToolError",
     "evalue": "http://127.0.0.1:8081/v2/: HTTPConnectionPool(host='127.0.0.1', port=8081): Read timed out. (read timeout=300)",
     "output_type": "error",
     "traceback": [
      "\u001b[1;31m---------------------------------------------------------------------------\u001b[0m",
      "\u001b[1;31mTimeoutError\u001b[0m                              Traceback (most recent call last)",
      "File \u001b[1;32m~\\AppData\\Local\\Programs\\Python\\Python310\\lib\\site-packages\\urllib3\\connectionpool.py:449\u001b[0m, in \u001b[0;36mHTTPConnectionPool._make_request\u001b[1;34m(self, conn, method, url, timeout, chunked, **httplib_request_kw)\u001b[0m\n\u001b[0;32m    445\u001b[0m         \u001b[39mexcept\u001b[39;00m \u001b[39mBaseException\u001b[39;00m \u001b[39mas\u001b[39;00m e:\n\u001b[0;32m    446\u001b[0m             \u001b[39m# Remove the TypeError from the exception chain in\u001b[39;00m\n\u001b[0;32m    447\u001b[0m             \u001b[39m# Python 3 (including for exceptions like SystemExit).\u001b[39;00m\n\u001b[0;32m    448\u001b[0m             \u001b[39m# Otherwise it looks like a bug in the code.\u001b[39;00m\n\u001b[1;32m--> 449\u001b[0m             six\u001b[39m.\u001b[39;49mraise_from(e, \u001b[39mNone\u001b[39;49;00m)\n\u001b[0;32m    450\u001b[0m \u001b[39mexcept\u001b[39;00m (SocketTimeout, BaseSSLError, SocketError) \u001b[39mas\u001b[39;00m e:\n",
      "File \u001b[1;32m<string>:3\u001b[0m, in \u001b[0;36mraise_from\u001b[1;34m(value, from_value)\u001b[0m\n",
      "File \u001b[1;32m~\\AppData\\Local\\Programs\\Python\\Python310\\lib\\site-packages\\urllib3\\connectionpool.py:444\u001b[0m, in \u001b[0;36mHTTPConnectionPool._make_request\u001b[1;34m(self, conn, method, url, timeout, chunked, **httplib_request_kw)\u001b[0m\n\u001b[0;32m    443\u001b[0m \u001b[39mtry\u001b[39;00m:\n\u001b[1;32m--> 444\u001b[0m     httplib_response \u001b[39m=\u001b[39m conn\u001b[39m.\u001b[39;49mgetresponse()\n\u001b[0;32m    445\u001b[0m \u001b[39mexcept\u001b[39;00m \u001b[39mBaseException\u001b[39;00m \u001b[39mas\u001b[39;00m e:\n\u001b[0;32m    446\u001b[0m     \u001b[39m# Remove the TypeError from the exception chain in\u001b[39;00m\n\u001b[0;32m    447\u001b[0m     \u001b[39m# Python 3 (including for exceptions like SystemExit).\u001b[39;00m\n\u001b[0;32m    448\u001b[0m     \u001b[39m# Otherwise it looks like a bug in the code.\u001b[39;00m\n",
      "File \u001b[1;32m~\\AppData\\Local\\Programs\\Python\\Python310\\lib\\http\\client.py:1374\u001b[0m, in \u001b[0;36mHTTPConnection.getresponse\u001b[1;34m(self)\u001b[0m\n\u001b[0;32m   1373\u001b[0m \u001b[39mtry\u001b[39;00m:\n\u001b[1;32m-> 1374\u001b[0m     response\u001b[39m.\u001b[39;49mbegin()\n\u001b[0;32m   1375\u001b[0m \u001b[39mexcept\u001b[39;00m \u001b[39mConnectionError\u001b[39;00m:\n",
      "File \u001b[1;32m~\\AppData\\Local\\Programs\\Python\\Python310\\lib\\http\\client.py:318\u001b[0m, in \u001b[0;36mHTTPResponse.begin\u001b[1;34m(self)\u001b[0m\n\u001b[0;32m    317\u001b[0m \u001b[39mwhile\u001b[39;00m \u001b[39mTrue\u001b[39;00m:\n\u001b[1;32m--> 318\u001b[0m     version, status, reason \u001b[39m=\u001b[39m \u001b[39mself\u001b[39;49m\u001b[39m.\u001b[39;49m_read_status()\n\u001b[0;32m    319\u001b[0m     \u001b[39mif\u001b[39;00m status \u001b[39m!=\u001b[39m CONTINUE:\n",
      "File \u001b[1;32m~\\AppData\\Local\\Programs\\Python\\Python310\\lib\\http\\client.py:279\u001b[0m, in \u001b[0;36mHTTPResponse._read_status\u001b[1;34m(self)\u001b[0m\n\u001b[0;32m    278\u001b[0m \u001b[39mdef\u001b[39;00m \u001b[39m_read_status\u001b[39m(\u001b[39mself\u001b[39m):\n\u001b[1;32m--> 279\u001b[0m     line \u001b[39m=\u001b[39m \u001b[39mstr\u001b[39m(\u001b[39mself\u001b[39;49m\u001b[39m.\u001b[39;49mfp\u001b[39m.\u001b[39;49mreadline(_MAXLINE \u001b[39m+\u001b[39;49m \u001b[39m1\u001b[39;49m), \u001b[39m\"\u001b[39m\u001b[39miso-8859-1\u001b[39m\u001b[39m\"\u001b[39m)\n\u001b[0;32m    280\u001b[0m     \u001b[39mif\u001b[39;00m \u001b[39mlen\u001b[39m(line) \u001b[39m>\u001b[39m _MAXLINE:\n",
      "File \u001b[1;32m~\\AppData\\Local\\Programs\\Python\\Python310\\lib\\socket.py:705\u001b[0m, in \u001b[0;36mSocketIO.readinto\u001b[1;34m(self, b)\u001b[0m\n\u001b[0;32m    704\u001b[0m \u001b[39mtry\u001b[39;00m:\n\u001b[1;32m--> 705\u001b[0m     \u001b[39mreturn\u001b[39;00m \u001b[39mself\u001b[39;49m\u001b[39m.\u001b[39;49m_sock\u001b[39m.\u001b[39;49mrecv_into(b)\n\u001b[0;32m    706\u001b[0m \u001b[39mexcept\u001b[39;00m timeout:\n",
      "\u001b[1;31mTimeoutError\u001b[0m: timed out",
      "\nDuring handling of the above exception, another exception occurred:\n",
      "\u001b[1;31mReadTimeoutError\u001b[0m                          Traceback (most recent call last)",
      "File \u001b[1;32mc:\\Users\\elros\\Desktop\\DataScienceCourse\\Machine Learning A-Z (Codes and Datasets)\\DataScienceVM\\lib\\site-packages\\requests\\adapters.py:487\u001b[0m, in \u001b[0;36mHTTPAdapter.send\u001b[1;34m(self, request, stream, timeout, verify, cert, proxies)\u001b[0m\n\u001b[0;32m    486\u001b[0m \u001b[39mtry\u001b[39;00m:\n\u001b[1;32m--> 487\u001b[0m     resp \u001b[39m=\u001b[39m conn\u001b[39m.\u001b[39;49murlopen(\n\u001b[0;32m    488\u001b[0m         method\u001b[39m=\u001b[39;49mrequest\u001b[39m.\u001b[39;49mmethod,\n\u001b[0;32m    489\u001b[0m         url\u001b[39m=\u001b[39;49murl,\n\u001b[0;32m    490\u001b[0m         body\u001b[39m=\u001b[39;49mrequest\u001b[39m.\u001b[39;49mbody,\n\u001b[0;32m    491\u001b[0m         headers\u001b[39m=\u001b[39;49mrequest\u001b[39m.\u001b[39;49mheaders,\n\u001b[0;32m    492\u001b[0m         redirect\u001b[39m=\u001b[39;49m\u001b[39mFalse\u001b[39;49;00m,\n\u001b[0;32m    493\u001b[0m         assert_same_host\u001b[39m=\u001b[39;49m\u001b[39mFalse\u001b[39;49;00m,\n\u001b[0;32m    494\u001b[0m         preload_content\u001b[39m=\u001b[39;49m\u001b[39mFalse\u001b[39;49;00m,\n\u001b[0;32m    495\u001b[0m         decode_content\u001b[39m=\u001b[39;49m\u001b[39mFalse\u001b[39;49;00m,\n\u001b[0;32m    496\u001b[0m         retries\u001b[39m=\u001b[39;49m\u001b[39mself\u001b[39;49m\u001b[39m.\u001b[39;49mmax_retries,\n\u001b[0;32m    497\u001b[0m         timeout\u001b[39m=\u001b[39;49mtimeout,\n\u001b[0;32m    498\u001b[0m         chunked\u001b[39m=\u001b[39;49mchunked,\n\u001b[0;32m    499\u001b[0m     )\n\u001b[0;32m    501\u001b[0m \u001b[39mexcept\u001b[39;00m (ProtocolError, \u001b[39mOSError\u001b[39;00m) \u001b[39mas\u001b[39;00m err:\n",
      "File \u001b[1;32m~\\AppData\\Local\\Programs\\Python\\Python310\\lib\\site-packages\\urllib3\\connectionpool.py:785\u001b[0m, in \u001b[0;36mHTTPConnectionPool.urlopen\u001b[1;34m(self, method, url, body, headers, retries, redirect, assert_same_host, timeout, pool_timeout, release_conn, chunked, body_pos, **response_kw)\u001b[0m\n\u001b[0;32m    783\u001b[0m     e \u001b[39m=\u001b[39m ProtocolError(\u001b[39m\"\u001b[39m\u001b[39mConnection aborted.\u001b[39m\u001b[39m\"\u001b[39m, e)\n\u001b[1;32m--> 785\u001b[0m retries \u001b[39m=\u001b[39m retries\u001b[39m.\u001b[39;49mincrement(\n\u001b[0;32m    786\u001b[0m     method, url, error\u001b[39m=\u001b[39;49me, _pool\u001b[39m=\u001b[39;49m\u001b[39mself\u001b[39;49m, _stacktrace\u001b[39m=\u001b[39;49msys\u001b[39m.\u001b[39;49mexc_info()[\u001b[39m2\u001b[39;49m]\n\u001b[0;32m    787\u001b[0m )\n\u001b[0;32m    788\u001b[0m retries\u001b[39m.\u001b[39msleep()\n",
      "File \u001b[1;32m~\\AppData\\Local\\Programs\\Python\\Python310\\lib\\site-packages\\urllib3\\util\\retry.py:550\u001b[0m, in \u001b[0;36mRetry.increment\u001b[1;34m(self, method, url, response, error, _pool, _stacktrace)\u001b[0m\n\u001b[0;32m    549\u001b[0m \u001b[39mif\u001b[39;00m read \u001b[39mis\u001b[39;00m \u001b[39mFalse\u001b[39;00m \u001b[39mor\u001b[39;00m \u001b[39mnot\u001b[39;00m \u001b[39mself\u001b[39m\u001b[39m.\u001b[39m_is_method_retryable(method):\n\u001b[1;32m--> 550\u001b[0m     \u001b[39mraise\u001b[39;00m six\u001b[39m.\u001b[39;49mreraise(\u001b[39mtype\u001b[39;49m(error), error, _stacktrace)\n\u001b[0;32m    551\u001b[0m \u001b[39melif\u001b[39;00m read \u001b[39mis\u001b[39;00m \u001b[39mnot\u001b[39;00m \u001b[39mNone\u001b[39;00m:\n",
      "File \u001b[1;32m~\\AppData\\Local\\Programs\\Python\\Python310\\lib\\site-packages\\urllib3\\packages\\six.py:770\u001b[0m, in \u001b[0;36mreraise\u001b[1;34m(tp, value, tb)\u001b[0m\n\u001b[0;32m    769\u001b[0m         \u001b[39mraise\u001b[39;00m value\u001b[39m.\u001b[39mwith_traceback(tb)\n\u001b[1;32m--> 770\u001b[0m     \u001b[39mraise\u001b[39;00m value\n\u001b[0;32m    771\u001b[0m \u001b[39mfinally\u001b[39;00m:\n",
      "File \u001b[1;32m~\\AppData\\Local\\Programs\\Python\\Python310\\lib\\site-packages\\urllib3\\connectionpool.py:703\u001b[0m, in \u001b[0;36mHTTPConnectionPool.urlopen\u001b[1;34m(self, method, url, body, headers, retries, redirect, assert_same_host, timeout, pool_timeout, release_conn, chunked, body_pos, **response_kw)\u001b[0m\n\u001b[0;32m    702\u001b[0m \u001b[39m# Make the request on the httplib connection object.\u001b[39;00m\n\u001b[1;32m--> 703\u001b[0m httplib_response \u001b[39m=\u001b[39m \u001b[39mself\u001b[39;49m\u001b[39m.\u001b[39;49m_make_request(\n\u001b[0;32m    704\u001b[0m     conn,\n\u001b[0;32m    705\u001b[0m     method,\n\u001b[0;32m    706\u001b[0m     url,\n\u001b[0;32m    707\u001b[0m     timeout\u001b[39m=\u001b[39;49mtimeout_obj,\n\u001b[0;32m    708\u001b[0m     body\u001b[39m=\u001b[39;49mbody,\n\u001b[0;32m    709\u001b[0m     headers\u001b[39m=\u001b[39;49mheaders,\n\u001b[0;32m    710\u001b[0m     chunked\u001b[39m=\u001b[39;49mchunked,\n\u001b[0;32m    711\u001b[0m )\n\u001b[0;32m    713\u001b[0m \u001b[39m# If we're going to release the connection in ``finally:``, then\u001b[39;00m\n\u001b[0;32m    714\u001b[0m \u001b[39m# the response doesn't need to know about the connection. Otherwise\u001b[39;00m\n\u001b[0;32m    715\u001b[0m \u001b[39m# it will also try to release it and we'll have a double-release\u001b[39;00m\n\u001b[0;32m    716\u001b[0m \u001b[39m# mess.\u001b[39;00m\n",
      "File \u001b[1;32m~\\AppData\\Local\\Programs\\Python\\Python310\\lib\\site-packages\\urllib3\\connectionpool.py:451\u001b[0m, in \u001b[0;36mHTTPConnectionPool._make_request\u001b[1;34m(self, conn, method, url, timeout, chunked, **httplib_request_kw)\u001b[0m\n\u001b[0;32m    450\u001b[0m \u001b[39mexcept\u001b[39;00m (SocketTimeout, BaseSSLError, SocketError) \u001b[39mas\u001b[39;00m e:\n\u001b[1;32m--> 451\u001b[0m     \u001b[39mself\u001b[39;49m\u001b[39m.\u001b[39;49m_raise_timeout(err\u001b[39m=\u001b[39;49me, url\u001b[39m=\u001b[39;49murl, timeout_value\u001b[39m=\u001b[39;49mread_timeout)\n\u001b[0;32m    452\u001b[0m     \u001b[39mraise\u001b[39;00m\n",
      "File \u001b[1;32m~\\AppData\\Local\\Programs\\Python\\Python310\\lib\\site-packages\\urllib3\\connectionpool.py:340\u001b[0m, in \u001b[0;36mHTTPConnectionPool._raise_timeout\u001b[1;34m(self, err, url, timeout_value)\u001b[0m\n\u001b[0;32m    339\u001b[0m \u001b[39mif\u001b[39;00m \u001b[39misinstance\u001b[39m(err, SocketTimeout):\n\u001b[1;32m--> 340\u001b[0m     \u001b[39mraise\u001b[39;00m ReadTimeoutError(\n\u001b[0;32m    341\u001b[0m         \u001b[39mself\u001b[39m, url, \u001b[39m\"\u001b[39m\u001b[39mRead timed out. (read timeout=\u001b[39m\u001b[39m%s\u001b[39;00m\u001b[39m)\u001b[39m\u001b[39m\"\u001b[39m \u001b[39m%\u001b[39m timeout_value\n\u001b[0;32m    342\u001b[0m     )\n\u001b[0;32m    344\u001b[0m \u001b[39m# See the above comment about EAGAIN in Python 3. In Python 2 we have\u001b[39;00m\n\u001b[0;32m    345\u001b[0m \u001b[39m# to specifically catch it and throw the timeout error\u001b[39;00m\n",
      "\u001b[1;31mReadTimeoutError\u001b[0m: HTTPConnectionPool(host='127.0.0.1', port=8081): Read timed out. (read timeout=300)",
      "\nDuring handling of the above exception, another exception occurred:\n",
      "\u001b[1;31mReadTimeout\u001b[0m                               Traceback (most recent call last)",
      "File \u001b[1;32mc:\\Users\\elros\\Desktop\\DataScienceCourse\\Machine Learning A-Z (Codes and Datasets)\\DataScienceVM\\lib\\site-packages\\language_tool_python\\server.py:218\u001b[0m, in \u001b[0;36mLanguageTool._query_server\u001b[1;34m(self, url, params, num_tries)\u001b[0m\n\u001b[0;32m    217\u001b[0m \u001b[39mtry\u001b[39;00m:\n\u001b[1;32m--> 218\u001b[0m     \u001b[39mwith\u001b[39;00m requests\u001b[39m.\u001b[39;49mget(url, params\u001b[39m=\u001b[39;49mparams, timeout\u001b[39m=\u001b[39;49m\u001b[39mself\u001b[39;49m\u001b[39m.\u001b[39;49m_TIMEOUT) \u001b[39mas\u001b[39;00m response:\n\u001b[0;32m    219\u001b[0m         \u001b[39mtry\u001b[39;00m:\n",
      "File \u001b[1;32mc:\\Users\\elros\\Desktop\\DataScienceCourse\\Machine Learning A-Z (Codes and Datasets)\\DataScienceVM\\lib\\site-packages\\requests\\api.py:73\u001b[0m, in \u001b[0;36mget\u001b[1;34m(url, params, **kwargs)\u001b[0m\n\u001b[0;32m     63\u001b[0m \u001b[39mr\u001b[39m\u001b[39m\"\"\"Sends a GET request.\u001b[39;00m\n\u001b[0;32m     64\u001b[0m \n\u001b[0;32m     65\u001b[0m \u001b[39m:param url: URL for the new :class:`Request` object.\u001b[39;00m\n\u001b[1;32m   (...)\u001b[0m\n\u001b[0;32m     70\u001b[0m \u001b[39m:rtype: requests.Response\u001b[39;00m\n\u001b[0;32m     71\u001b[0m \u001b[39m\"\"\"\u001b[39;00m\n\u001b[1;32m---> 73\u001b[0m \u001b[39mreturn\u001b[39;00m request(\u001b[39m\"\u001b[39m\u001b[39mget\u001b[39m\u001b[39m\"\u001b[39m, url, params\u001b[39m=\u001b[39mparams, \u001b[39m*\u001b[39m\u001b[39m*\u001b[39mkwargs)\n",
      "File \u001b[1;32mc:\\Users\\elros\\Desktop\\DataScienceCourse\\Machine Learning A-Z (Codes and Datasets)\\DataScienceVM\\lib\\site-packages\\requests\\api.py:59\u001b[0m, in \u001b[0;36mrequest\u001b[1;34m(method, url, **kwargs)\u001b[0m\n\u001b[0;32m     58\u001b[0m \u001b[39mwith\u001b[39;00m sessions\u001b[39m.\u001b[39mSession() \u001b[39mas\u001b[39;00m session:\n\u001b[1;32m---> 59\u001b[0m     \u001b[39mreturn\u001b[39;00m session\u001b[39m.\u001b[39mrequest(method\u001b[39m=\u001b[39mmethod, url\u001b[39m=\u001b[39murl, \u001b[39m*\u001b[39m\u001b[39m*\u001b[39mkwargs)\n",
      "File \u001b[1;32mc:\\Users\\elros\\Desktop\\DataScienceCourse\\Machine Learning A-Z (Codes and Datasets)\\DataScienceVM\\lib\\site-packages\\requests\\sessions.py:587\u001b[0m, in \u001b[0;36mSession.request\u001b[1;34m(self, method, url, params, data, headers, cookies, files, auth, timeout, allow_redirects, proxies, hooks, stream, verify, cert, json)\u001b[0m\n\u001b[0;32m    586\u001b[0m send_kwargs\u001b[39m.\u001b[39mupdate(settings)\n\u001b[1;32m--> 587\u001b[0m resp \u001b[39m=\u001b[39m \u001b[39mself\u001b[39m\u001b[39m.\u001b[39msend(prep, \u001b[39m*\u001b[39m\u001b[39m*\u001b[39msend_kwargs)\n\u001b[0;32m    589\u001b[0m \u001b[39mreturn\u001b[39;00m resp\n",
      "File \u001b[1;32mc:\\Users\\elros\\Desktop\\DataScienceCourse\\Machine Learning A-Z (Codes and Datasets)\\DataScienceVM\\lib\\site-packages\\requests\\sessions.py:701\u001b[0m, in \u001b[0;36mSession.send\u001b[1;34m(self, request, **kwargs)\u001b[0m\n\u001b[0;32m    700\u001b[0m \u001b[39m# Send the request\u001b[39;00m\n\u001b[1;32m--> 701\u001b[0m r \u001b[39m=\u001b[39m adapter\u001b[39m.\u001b[39msend(request, \u001b[39m*\u001b[39m\u001b[39m*\u001b[39mkwargs)\n\u001b[0;32m    703\u001b[0m \u001b[39m# Total elapsed time of the request (approximately)\u001b[39;00m\n",
      "File \u001b[1;32mc:\\Users\\elros\\Desktop\\DataScienceCourse\\Machine Learning A-Z (Codes and Datasets)\\DataScienceVM\\lib\\site-packages\\requests\\adapters.py:533\u001b[0m, in \u001b[0;36mHTTPAdapter.send\u001b[1;34m(self, request, stream, timeout, verify, cert, proxies)\u001b[0m\n\u001b[0;32m    532\u001b[0m \u001b[39melif\u001b[39;00m \u001b[39misinstance\u001b[39m(e, ReadTimeoutError):\n\u001b[1;32m--> 533\u001b[0m     \u001b[39mraise\u001b[39;00m ReadTimeout(e, request\u001b[39m=\u001b[39mrequest)\n\u001b[0;32m    534\u001b[0m \u001b[39melif\u001b[39;00m \u001b[39misinstance\u001b[39m(e, _InvalidHeader):\n",
      "\u001b[1;31mReadTimeout\u001b[0m: HTTPConnectionPool(host='127.0.0.1', port=8081): Read timed out. (read timeout=300)",
      "\nDuring handling of the above exception, another exception occurred:\n",
      "\u001b[1;31mLanguageToolError\u001b[0m                         Traceback (most recent call last)",
      "\u001b[1;32mc:\\Users\\elros\\Dropbox\\DataScienceCourses\\ErdosInstitute\\GithubCode\\Detecting-Fake-News\\EDA\\Grammar_Errors.ipynb Cell 9\u001b[0m in \u001b[0;36m1\n\u001b[1;32m----> <a href='vscode-notebook-cell:/c%3A/Users/elros/Dropbox/DataScienceCourses/ErdosInstitute/GithubCode/Detecting-Fake-News/EDA/Grammar_Errors.ipynb#X34sZmlsZQ%3D%3D?line=0'>1</a>\u001b[0m news_df[\u001b[39m'\u001b[39m\u001b[39mGrammar Errors\u001b[39m\u001b[39m'\u001b[39m] \u001b[39m=\u001b[39m news_df[\u001b[39m'\u001b[39m\u001b[39mtext\u001b[39m\u001b[39m'\u001b[39m]\u001b[39m.\u001b[39mapply(\u001b[39mlambda\u001b[39;00m x: \u001b[39mlen\u001b[39m(tool\u001b[39m.\u001b[39mcheck(x)))\n\u001b[0;32m      <a href='vscode-notebook-cell:/c%3A/Users/elros/Dropbox/DataScienceCourses/ErdosInstitute/GithubCode/Detecting-Fake-News/EDA/Grammar_Errors.ipynb#X34sZmlsZQ%3D%3D?line=1'>2</a>\u001b[0m news_df\u001b[39m.\u001b[39mhead()\n",
      "File \u001b[1;32mc:\\Users\\elros\\Desktop\\DataScienceCourse\\Machine Learning A-Z (Codes and Datasets)\\DataScienceVM\\lib\\site-packages\\pandas\\core\\series.py:4774\u001b[0m, in \u001b[0;36mSeries.apply\u001b[1;34m(self, func, convert_dtype, args, **kwargs)\u001b[0m\n\u001b[0;32m   4664\u001b[0m \u001b[39mdef\u001b[39;00m \u001b[39mapply\u001b[39m(\n\u001b[0;32m   4665\u001b[0m     \u001b[39mself\u001b[39m,\n\u001b[0;32m   4666\u001b[0m     func: AggFuncType,\n\u001b[1;32m   (...)\u001b[0m\n\u001b[0;32m   4669\u001b[0m     \u001b[39m*\u001b[39m\u001b[39m*\u001b[39mkwargs,\n\u001b[0;32m   4670\u001b[0m ) \u001b[39m-\u001b[39m\u001b[39m>\u001b[39m DataFrame \u001b[39m|\u001b[39m Series:\n\u001b[0;32m   4671\u001b[0m     \u001b[39m\"\"\"\u001b[39;00m\n\u001b[0;32m   4672\u001b[0m \u001b[39m    Invoke function on values of Series.\u001b[39;00m\n\u001b[0;32m   4673\u001b[0m \n\u001b[1;32m   (...)\u001b[0m\n\u001b[0;32m   4772\u001b[0m \u001b[39m    dtype: float64\u001b[39;00m\n\u001b[0;32m   4773\u001b[0m \u001b[39m    \"\"\"\u001b[39;00m\n\u001b[1;32m-> 4774\u001b[0m     \u001b[39mreturn\u001b[39;00m SeriesApply(\u001b[39mself\u001b[39;49m, func, convert_dtype, args, kwargs)\u001b[39m.\u001b[39;49mapply()\n",
      "File \u001b[1;32mc:\\Users\\elros\\Desktop\\DataScienceCourse\\Machine Learning A-Z (Codes and Datasets)\\DataScienceVM\\lib\\site-packages\\pandas\\core\\apply.py:1100\u001b[0m, in \u001b[0;36mSeriesApply.apply\u001b[1;34m(self)\u001b[0m\n\u001b[0;32m   1097\u001b[0m     \u001b[39mreturn\u001b[39;00m \u001b[39mself\u001b[39m\u001b[39m.\u001b[39mapply_str()\n\u001b[0;32m   1099\u001b[0m \u001b[39m# self.f is Callable\u001b[39;00m\n\u001b[1;32m-> 1100\u001b[0m \u001b[39mreturn\u001b[39;00m \u001b[39mself\u001b[39;49m\u001b[39m.\u001b[39;49mapply_standard()\n",
      "File \u001b[1;32mc:\\Users\\elros\\Desktop\\DataScienceCourse\\Machine Learning A-Z (Codes and Datasets)\\DataScienceVM\\lib\\site-packages\\pandas\\core\\apply.py:1151\u001b[0m, in \u001b[0;36mSeriesApply.apply_standard\u001b[1;34m(self)\u001b[0m\n\u001b[0;32m   1149\u001b[0m     \u001b[39melse\u001b[39;00m:\n\u001b[0;32m   1150\u001b[0m         values \u001b[39m=\u001b[39m obj\u001b[39m.\u001b[39mastype(\u001b[39mobject\u001b[39m)\u001b[39m.\u001b[39m_values\n\u001b[1;32m-> 1151\u001b[0m         mapped \u001b[39m=\u001b[39m lib\u001b[39m.\u001b[39;49mmap_infer(\n\u001b[0;32m   1152\u001b[0m             values,\n\u001b[0;32m   1153\u001b[0m             f,\n\u001b[0;32m   1154\u001b[0m             convert\u001b[39m=\u001b[39;49m\u001b[39mself\u001b[39;49m\u001b[39m.\u001b[39;49mconvert_dtype,\n\u001b[0;32m   1155\u001b[0m         )\n\u001b[0;32m   1157\u001b[0m \u001b[39mif\u001b[39;00m \u001b[39mlen\u001b[39m(mapped) \u001b[39mand\u001b[39;00m \u001b[39misinstance\u001b[39m(mapped[\u001b[39m0\u001b[39m], ABCSeries):\n\u001b[0;32m   1158\u001b[0m     \u001b[39m# GH#43986 Need to do list(mapped) in order to get treated as nested\u001b[39;00m\n\u001b[0;32m   1159\u001b[0m     \u001b[39m#  See also GH#25959 regarding EA support\u001b[39;00m\n\u001b[0;32m   1160\u001b[0m     \u001b[39mreturn\u001b[39;00m obj\u001b[39m.\u001b[39m_constructor_expanddim(\u001b[39mlist\u001b[39m(mapped), index\u001b[39m=\u001b[39mobj\u001b[39m.\u001b[39mindex)\n",
      "File \u001b[1;32mc:\\Users\\elros\\Desktop\\DataScienceCourse\\Machine Learning A-Z (Codes and Datasets)\\DataScienceVM\\lib\\site-packages\\pandas\\_libs\\lib.pyx:2919\u001b[0m, in \u001b[0;36mpandas._libs.lib.map_infer\u001b[1;34m()\u001b[0m\n",
      "\u001b[1;32mc:\\Users\\elros\\Dropbox\\DataScienceCourses\\ErdosInstitute\\GithubCode\\Detecting-Fake-News\\EDA\\Grammar_Errors.ipynb Cell 9\u001b[0m in \u001b[0;36m1\n\u001b[1;32m----> <a href='vscode-notebook-cell:/c%3A/Users/elros/Dropbox/DataScienceCourses/ErdosInstitute/GithubCode/Detecting-Fake-News/EDA/Grammar_Errors.ipynb#X34sZmlsZQ%3D%3D?line=0'>1</a>\u001b[0m news_df[\u001b[39m'\u001b[39m\u001b[39mGrammar Errors\u001b[39m\u001b[39m'\u001b[39m] \u001b[39m=\u001b[39m news_df[\u001b[39m'\u001b[39m\u001b[39mtext\u001b[39m\u001b[39m'\u001b[39m]\u001b[39m.\u001b[39mapply(\u001b[39mlambda\u001b[39;00m x: \u001b[39mlen\u001b[39m(tool\u001b[39m.\u001b[39;49mcheck(x)))\n\u001b[0;32m      <a href='vscode-notebook-cell:/c%3A/Users/elros/Dropbox/DataScienceCourses/ErdosInstitute/GithubCode/Detecting-Fake-News/EDA/Grammar_Errors.ipynb#X34sZmlsZQ%3D%3D?line=1'>2</a>\u001b[0m news_df\u001b[39m.\u001b[39mhead()\n",
      "File \u001b[1;32mc:\\Users\\elros\\Desktop\\DataScienceCourse\\Machine Learning A-Z (Codes and Datasets)\\DataScienceVM\\lib\\site-packages\\language_tool_python\\server.py:129\u001b[0m, in \u001b[0;36mLanguageTool.check\u001b[1;34m(self, text)\u001b[0m\n\u001b[0;32m    127\u001b[0m \u001b[39m\"\"\"Match text against enabled rules.\"\"\"\u001b[39;00m\n\u001b[0;32m    128\u001b[0m url \u001b[39m=\u001b[39m urllib\u001b[39m.\u001b[39mparse\u001b[39m.\u001b[39murljoin(\u001b[39mself\u001b[39m\u001b[39m.\u001b[39m_url, \u001b[39m'\u001b[39m\u001b[39mcheck\u001b[39m\u001b[39m'\u001b[39m)\n\u001b[1;32m--> 129\u001b[0m response \u001b[39m=\u001b[39m \u001b[39mself\u001b[39;49m\u001b[39m.\u001b[39;49m_query_server(url, \u001b[39mself\u001b[39;49m\u001b[39m.\u001b[39;49m_create_params(text))\n\u001b[0;32m    130\u001b[0m matches \u001b[39m=\u001b[39m response[\u001b[39m'\u001b[39m\u001b[39mmatches\u001b[39m\u001b[39m'\u001b[39m]\n\u001b[0;32m    131\u001b[0m \u001b[39mreturn\u001b[39;00m [Match(match) \u001b[39mfor\u001b[39;00m match \u001b[39min\u001b[39;00m matches]\n",
      "File \u001b[1;32mc:\\Users\\elros\\Desktop\\DataScienceCourse\\Machine Learning A-Z (Codes and Datasets)\\DataScienceVM\\lib\\site-packages\\language_tool_python\\server.py:232\u001b[0m, in \u001b[0;36mLanguageTool._query_server\u001b[1;34m(self, url, params, num_tries)\u001b[0m\n\u001b[0;32m    230\u001b[0m     \u001b[39mself\u001b[39m\u001b[39m.\u001b[39m_start_local_server()\n\u001b[0;32m    231\u001b[0m \u001b[39mif\u001b[39;00m n \u001b[39m+\u001b[39m \u001b[39m1\u001b[39m \u001b[39m>\u001b[39m\u001b[39m=\u001b[39m num_tries:\n\u001b[1;32m--> 232\u001b[0m     \u001b[39mraise\u001b[39;00m LanguageToolError(\u001b[39m'\u001b[39m\u001b[39m{}\u001b[39;00m\u001b[39m: \u001b[39m\u001b[39m{}\u001b[39;00m\u001b[39m'\u001b[39m\u001b[39m.\u001b[39mformat(\u001b[39mself\u001b[39m\u001b[39m.\u001b[39m_url, e))\n",
      "\u001b[1;31mLanguageToolError\u001b[0m: http://127.0.0.1:8081/v2/: HTTPConnectionPool(host='127.0.0.1', port=8081): Read timed out. (read timeout=300)"
     ]
    }
   ],
   "source": [
    "news_df['Grammar Errors'] = news_df['text'].apply(lambda x: len(tool.check(x)))\n",
    "news_df.head()"
   ]
  },
  {
   "cell_type": "code",
   "execution_count": 7,
   "id": "a06d4302",
   "metadata": {},
   "outputs": [],
   "source": [
    "# Using the Sapling package to check the grammar of a statement.\n",
    "from sapling import SaplingClient\n",
    "api_key = 'XN4G2E8BOIJEDKTF6QQTYVWJHGZRZSPD'\n",
    "client = SaplingClient(api_key=api_key)"
   ]
  },
  {
   "cell_type": "code",
   "execution_count": 9,
   "id": "32ee9aa6",
   "metadata": {},
   "outputs": [
    {
     "data": {
      "text/plain": [
       "title      558\n",
       "author    1957\n",
       "text        39\n",
       "label        0\n",
       "dtype: int64"
      ]
     },
     "execution_count": 9,
     "metadata": {},
     "output_type": "execute_result"
    }
   ],
   "source": [
    "# check NaN values in news_df dataset\n",
    "news_df.isnull().sum()"
   ]
  },
  {
   "cell_type": "code",
   "execution_count": 10,
   "id": "2d0fe6a8",
   "metadata": {},
   "outputs": [],
   "source": [
    "# drop NaN values in text column from news_df dataset\n",
    "news_df.dropna(subset=['text'], inplace=True)"
   ]
  },
  {
   "cell_type": "code",
   "execution_count": 11,
   "id": "37ec50f9",
   "metadata": {},
   "outputs": [
    {
     "ename": "Exception",
     "evalue": "HTTP 429: {\"key_prefix\":\"XN4********************************\",\"msg\":\"Rate Limited. Visit https://sapling.ai/docs/api/api-access for details.\"}\n",
     "output_type": "error",
     "traceback": [
      "\u001b[1;31m---------------------------------------------------------------------------\u001b[0m",
      "\u001b[1;31mException\u001b[0m                                 Traceback (most recent call last)",
      "\u001b[1;32mc:\\Users\\elros\\Dropbox\\DataScienceCourses\\ErdosInstitute\\GithubCode\\Detecting-Fake-News\\EDA\\Grammar_Errors.ipynb Cell 15\u001b[0m in \u001b[0;36m6\n\u001b[0;32m      <a href='vscode-notebook-cell:/c%3A/Users/elros/Dropbox/DataScienceCourses/ErdosInstitute/GithubCode/Detecting-Fake-News/EDA/Grammar_Errors.ipynb#X11sZmlsZQ%3D%3D?line=0'>1</a>\u001b[0m \u001b[39m# Checking the number of grammar errors in the title of the news articles using the Sapling package.\u001b[39;00m\n\u001b[0;32m      <a href='vscode-notebook-cell:/c%3A/Users/elros/Dropbox/DataScienceCourses/ErdosInstitute/GithubCode/Detecting-Fake-News/EDA/Grammar_Errors.ipynb#X11sZmlsZQ%3D%3D?line=1'>2</a>\u001b[0m \u001b[39m# The Sapling package has a limit of 1000 requests per day, so the code below is commented out.\u001b[39;00m\n\u001b[0;32m      <a href='vscode-notebook-cell:/c%3A/Users/elros/Dropbox/DataScienceCourses/ErdosInstitute/GithubCode/Detecting-Fake-News/EDA/Grammar_Errors.ipynb#X11sZmlsZQ%3D%3D?line=2'>3</a>\u001b[0m \u001b[39m# use lambda function to apply edits to each title for te news_df dataframe and return the number of edits for each title in a new column called 'Gram_Errors' \u001b[39;00m\n\u001b[0;32m      <a href='vscode-notebook-cell:/c%3A/Users/elros/Dropbox/DataScienceCourses/ErdosInstitute/GithubCode/Detecting-Fake-News/EDA/Grammar_Errors.ipynb#X11sZmlsZQ%3D%3D?line=3'>4</a>\u001b[0m \u001b[39m# test_session is a session id that is used to keep track of the number of requests made to the Sapling API\u001b[39;00m\n\u001b[1;32m----> <a href='vscode-notebook-cell:/c%3A/Users/elros/Dropbox/DataScienceCourses/ErdosInstitute/GithubCode/Detecting-Fake-News/EDA/Grammar_Errors.ipynb#X11sZmlsZQ%3D%3D?line=5'>6</a>\u001b[0m news_df[\u001b[39m'\u001b[39m\u001b[39mGram_Errors_2\u001b[39m\u001b[39m'\u001b[39m] \u001b[39m=\u001b[39m news_df[\u001b[39m'\u001b[39m\u001b[39mtitle\u001b[39m\u001b[39m'\u001b[39m]\u001b[39m.\u001b[39mapply(\u001b[39mlambda\u001b[39;00m x: \u001b[39mlen\u001b[39m(client\u001b[39m.\u001b[39medits(x, session_id\u001b[39m=\u001b[39m\u001b[39m'\u001b[39m\u001b[39mtest_session\u001b[39m\u001b[39m'\u001b[39m)))\n\u001b[0;32m      <a href='vscode-notebook-cell:/c%3A/Users/elros/Dropbox/DataScienceCourses/ErdosInstitute/GithubCode/Detecting-Fake-News/EDA/Grammar_Errors.ipynb#X11sZmlsZQ%3D%3D?line=6'>7</a>\u001b[0m news_df\u001b[39m.\u001b[39mhead()\n",
      "File \u001b[1;32mc:\\Users\\elros\\Desktop\\DataScienceCourse\\Machine Learning A-Z (Codes and Datasets)\\DataScienceVM\\lib\\site-packages\\pandas\\core\\series.py:4774\u001b[0m, in \u001b[0;36mSeries.apply\u001b[1;34m(self, func, convert_dtype, args, **kwargs)\u001b[0m\n\u001b[0;32m   4664\u001b[0m \u001b[39mdef\u001b[39;00m \u001b[39mapply\u001b[39m(\n\u001b[0;32m   4665\u001b[0m     \u001b[39mself\u001b[39m,\n\u001b[0;32m   4666\u001b[0m     func: AggFuncType,\n\u001b[1;32m   (...)\u001b[0m\n\u001b[0;32m   4669\u001b[0m     \u001b[39m*\u001b[39m\u001b[39m*\u001b[39mkwargs,\n\u001b[0;32m   4670\u001b[0m ) \u001b[39m-\u001b[39m\u001b[39m>\u001b[39m DataFrame \u001b[39m|\u001b[39m Series:\n\u001b[0;32m   4671\u001b[0m     \u001b[39m\"\"\"\u001b[39;00m\n\u001b[0;32m   4672\u001b[0m \u001b[39m    Invoke function on values of Series.\u001b[39;00m\n\u001b[0;32m   4673\u001b[0m \n\u001b[1;32m   (...)\u001b[0m\n\u001b[0;32m   4772\u001b[0m \u001b[39m    dtype: float64\u001b[39;00m\n\u001b[0;32m   4773\u001b[0m \u001b[39m    \"\"\"\u001b[39;00m\n\u001b[1;32m-> 4774\u001b[0m     \u001b[39mreturn\u001b[39;00m SeriesApply(\u001b[39mself\u001b[39;49m, func, convert_dtype, args, kwargs)\u001b[39m.\u001b[39;49mapply()\n",
      "File \u001b[1;32mc:\\Users\\elros\\Desktop\\DataScienceCourse\\Machine Learning A-Z (Codes and Datasets)\\DataScienceVM\\lib\\site-packages\\pandas\\core\\apply.py:1100\u001b[0m, in \u001b[0;36mSeriesApply.apply\u001b[1;34m(self)\u001b[0m\n\u001b[0;32m   1097\u001b[0m     \u001b[39mreturn\u001b[39;00m \u001b[39mself\u001b[39m\u001b[39m.\u001b[39mapply_str()\n\u001b[0;32m   1099\u001b[0m \u001b[39m# self.f is Callable\u001b[39;00m\n\u001b[1;32m-> 1100\u001b[0m \u001b[39mreturn\u001b[39;00m \u001b[39mself\u001b[39;49m\u001b[39m.\u001b[39;49mapply_standard()\n",
      "File \u001b[1;32mc:\\Users\\elros\\Desktop\\DataScienceCourse\\Machine Learning A-Z (Codes and Datasets)\\DataScienceVM\\lib\\site-packages\\pandas\\core\\apply.py:1151\u001b[0m, in \u001b[0;36mSeriesApply.apply_standard\u001b[1;34m(self)\u001b[0m\n\u001b[0;32m   1149\u001b[0m     \u001b[39melse\u001b[39;00m:\n\u001b[0;32m   1150\u001b[0m         values \u001b[39m=\u001b[39m obj\u001b[39m.\u001b[39mastype(\u001b[39mobject\u001b[39m)\u001b[39m.\u001b[39m_values\n\u001b[1;32m-> 1151\u001b[0m         mapped \u001b[39m=\u001b[39m lib\u001b[39m.\u001b[39;49mmap_infer(\n\u001b[0;32m   1152\u001b[0m             values,\n\u001b[0;32m   1153\u001b[0m             f,\n\u001b[0;32m   1154\u001b[0m             convert\u001b[39m=\u001b[39;49m\u001b[39mself\u001b[39;49m\u001b[39m.\u001b[39;49mconvert_dtype,\n\u001b[0;32m   1155\u001b[0m         )\n\u001b[0;32m   1157\u001b[0m \u001b[39mif\u001b[39;00m \u001b[39mlen\u001b[39m(mapped) \u001b[39mand\u001b[39;00m \u001b[39misinstance\u001b[39m(mapped[\u001b[39m0\u001b[39m], ABCSeries):\n\u001b[0;32m   1158\u001b[0m     \u001b[39m# GH#43986 Need to do list(mapped) in order to get treated as nested\u001b[39;00m\n\u001b[0;32m   1159\u001b[0m     \u001b[39m#  See also GH#25959 regarding EA support\u001b[39;00m\n\u001b[0;32m   1160\u001b[0m     \u001b[39mreturn\u001b[39;00m obj\u001b[39m.\u001b[39m_constructor_expanddim(\u001b[39mlist\u001b[39m(mapped), index\u001b[39m=\u001b[39mobj\u001b[39m.\u001b[39mindex)\n",
      "File \u001b[1;32mc:\\Users\\elros\\Desktop\\DataScienceCourse\\Machine Learning A-Z (Codes and Datasets)\\DataScienceVM\\lib\\site-packages\\pandas\\_libs\\lib.pyx:2919\u001b[0m, in \u001b[0;36mpandas._libs.lib.map_infer\u001b[1;34m()\u001b[0m\n",
      "\u001b[1;32mc:\\Users\\elros\\Dropbox\\DataScienceCourses\\ErdosInstitute\\GithubCode\\Detecting-Fake-News\\EDA\\Grammar_Errors.ipynb Cell 15\u001b[0m in \u001b[0;36m6\n\u001b[0;32m      <a href='vscode-notebook-cell:/c%3A/Users/elros/Dropbox/DataScienceCourses/ErdosInstitute/GithubCode/Detecting-Fake-News/EDA/Grammar_Errors.ipynb#X11sZmlsZQ%3D%3D?line=0'>1</a>\u001b[0m \u001b[39m# Checking the number of grammar errors in the title of the news articles using the Sapling package.\u001b[39;00m\n\u001b[0;32m      <a href='vscode-notebook-cell:/c%3A/Users/elros/Dropbox/DataScienceCourses/ErdosInstitute/GithubCode/Detecting-Fake-News/EDA/Grammar_Errors.ipynb#X11sZmlsZQ%3D%3D?line=1'>2</a>\u001b[0m \u001b[39m# The Sapling package has a limit of 1000 requests per day, so the code below is commented out.\u001b[39;00m\n\u001b[0;32m      <a href='vscode-notebook-cell:/c%3A/Users/elros/Dropbox/DataScienceCourses/ErdosInstitute/GithubCode/Detecting-Fake-News/EDA/Grammar_Errors.ipynb#X11sZmlsZQ%3D%3D?line=2'>3</a>\u001b[0m \u001b[39m# use lambda function to apply edits to each title for te news_df dataframe and return the number of edits for each title in a new column called 'Gram_Errors' \u001b[39;00m\n\u001b[0;32m      <a href='vscode-notebook-cell:/c%3A/Users/elros/Dropbox/DataScienceCourses/ErdosInstitute/GithubCode/Detecting-Fake-News/EDA/Grammar_Errors.ipynb#X11sZmlsZQ%3D%3D?line=3'>4</a>\u001b[0m \u001b[39m# test_session is a session id that is used to keep track of the number of requests made to the Sapling API\u001b[39;00m\n\u001b[1;32m----> <a href='vscode-notebook-cell:/c%3A/Users/elros/Dropbox/DataScienceCourses/ErdosInstitute/GithubCode/Detecting-Fake-News/EDA/Grammar_Errors.ipynb#X11sZmlsZQ%3D%3D?line=5'>6</a>\u001b[0m news_df[\u001b[39m'\u001b[39m\u001b[39mGram_Errors_2\u001b[39m\u001b[39m'\u001b[39m] \u001b[39m=\u001b[39m news_df[\u001b[39m'\u001b[39m\u001b[39mtitle\u001b[39m\u001b[39m'\u001b[39m]\u001b[39m.\u001b[39mapply(\u001b[39mlambda\u001b[39;00m x: \u001b[39mlen\u001b[39m(client\u001b[39m.\u001b[39;49medits(x, session_id\u001b[39m=\u001b[39;49m\u001b[39m'\u001b[39;49m\u001b[39mtest_session\u001b[39;49m\u001b[39m'\u001b[39;49m)))\n\u001b[0;32m      <a href='vscode-notebook-cell:/c%3A/Users/elros/Dropbox/DataScienceCourses/ErdosInstitute/GithubCode/Detecting-Fake-News/EDA/Grammar_Errors.ipynb#X11sZmlsZQ%3D%3D?line=6'>7</a>\u001b[0m news_df\u001b[39m.\u001b[39mhead()\n",
      "File \u001b[1;32mc:\\Users\\elros\\Desktop\\DataScienceCourse\\Machine Learning A-Z (Codes and Datasets)\\DataScienceVM\\lib\\site-packages\\sapling\\client.py:107\u001b[0m, in \u001b[0;36mSaplingClient.edits\u001b[1;34m(self, text, session_id, lang, variety, medical, auto_apply)\u001b[0m\n\u001b[0;32m    105\u001b[0m     resp_json \u001b[39m=\u001b[39m resp\u001b[39m.\u001b[39mjson()\n\u001b[0;32m    106\u001b[0m     \u001b[39mreturn\u001b[39;00m resp_json\u001b[39m.\u001b[39mget(\u001b[39m'\u001b[39m\u001b[39medits\u001b[39m\u001b[39m'\u001b[39m)\n\u001b[1;32m--> 107\u001b[0m \u001b[39mraise\u001b[39;00m \u001b[39mException\u001b[39;00m(\u001b[39mf\u001b[39m\u001b[39m'\u001b[39m\u001b[39mHTTP \u001b[39m\u001b[39m{\u001b[39;00mresp\u001b[39m.\u001b[39mstatus_code\u001b[39m}\u001b[39;00m\u001b[39m: \u001b[39m\u001b[39m{\u001b[39;00mresp\u001b[39m.\u001b[39mtext\u001b[39m}\u001b[39;00m\u001b[39m'\u001b[39m)\n",
      "\u001b[1;31mException\u001b[0m: HTTP 429: {\"key_prefix\":\"XN4********************************\",\"msg\":\"Rate Limited. Visit https://sapling.ai/docs/api/api-access for details.\"}\n"
     ]
    }
   ],
   "source": [
    "# Checking the number of grammar errors in the title of the news articles using the Sapling package.\n",
    "# The Sapling package has a limit of 1000 requests per day, so the code below is commented out.\n",
    "# use lambda function to apply edits to each title for te news_df dataframe and return the number of edits for each title in a new column called 'Gram_Errors' \n",
    "# test_session is a session id that is used to keep track of the number of requests made to the Sapling API\n",
    "\n",
    "news_df['Gram_Errors_2'] = news_df['text'].apply(lambda x: len(client.edits(x, session_id='test_session')))\n",
    "news_df.head()\n"
   ]
  },
  {
   "cell_type": "code",
   "execution_count": 4,
   "id": "4aeff0ff",
   "metadata": {},
   "outputs": [],
   "source": [
    "import language_tool_python #python wraper for language_tool_python: https://pypi.org/project/language-tool-python/\n",
    "tool = language_tool_python.LanguageToolPublicAPI('en-US') # or use public API"
   ]
  },
  {
   "cell_type": "code",
   "execution_count": 16,
   "id": "4cfc0acc",
   "metadata": {},
   "outputs": [],
   "source": [
    "#news_shortened = news_df.iloc[:50,:]\n",
    "news_shortened = news_df.sample(50)"
   ]
  },
  {
   "cell_type": "code",
   "execution_count": 17,
   "id": "9a95e334",
   "metadata": {},
   "outputs": [],
   "source": [
    "news_shortened['Gram_Errors'] = [len(tool.check(x)) for x in news_shortened['title']]"
   ]
  },
  {
   "cell_type": "code",
   "execution_count": 20,
   "id": "2d53aca9",
   "metadata": {},
   "outputs": [
    {
     "data": {
      "image/png": "[encoded data removed]",
      "text/plain": [
       "<Figure size 1200x800 with 1 Axes>"
      ]
     },
     "metadata": {},
     "output_type": "display_data"
    }
   ],
   "source": [
    "# Plotting the number of grammar errors in for each different label:\n",
    "plt.figure(figsize=(12,8))\n",
    "plt.hist(news_shortened[news_shortened['label'] == 0]['Gram_Errors'], bins=10, alpha=0.5, label='Fake')\n",
    "plt.hist(news_shortened[news_shortened['label'] == 1]['Gram_Errors'], bins=10, alpha=0.5, label='True')\n",
    "plt.legend(loc='upper right')\n",
    "plt.title('Number of Grammar Errors in True and Fake News Titles')\n",
    "plt.xlabel('Number of Grammar Errors')\n",
    "plt.ylabel('Frequency')\n",
    "plt.show()"
   ]
  },
  {
   "cell_type": "code",
   "execution_count": 19,
   "id": "7f2a6fa1",
   "metadata": {},
   "outputs": [
    {
     "data": {
      "image/png": "[encoded data removed]",
      "text/plain": [
       "<Figure size 640x480 with 1 Axes>"
      ]
     },
     "metadata": {},
     "output_type": "display_data"
    }
   ],
   "source": [
    "true = news_shortened['label']  == 1\n",
    "false = news_shortened['label']  == 0\n",
    "plt.style.use('ggplot')\n",
    " \n",
    "plt.title('Number of Errors for \"true\" and \"false\" news')\n",
    " \n",
    "plt.hist(news_shortened['Gram_Errors'][false], edgecolor='black',color='brown',rwidth=1.1,alpha=0.5,label='False news')\n",
    "plt.hist(news_shortened['Gram_Errors'][true], edgecolor='black',color='blue',rwidth=0.9,alpha=0.5,label='True news')\n",
    " \n",
    "plt.legend(loc='upper right')\n",
    " \n",
    "plt.xlabel('Number of Errors')\n",
    "plt.ylabel('Frequency')\n",
    " \n",
    "plt.tight_layout()\n",
    " \n",
    "plt.show()"
   ]
  }
 ],
 "metadata": {
  "kernelspec": {
   "display_name": "Python 3 (ipykernel)",
   "language": "python",
   "name": "python3"
  },
  "language_info": {
   "codemirror_mode": {
    "name": "ipython",
    "version": 3
   },
   "file_extension": ".py",
   "mimetype": "text/x-python",
   "name": "python",
   "nbconvert_exporter": "python",
   "pygments_lexer": "ipython3",
   "version": "3.10.3"
  }
 },
 "nbformat": 4,
 "nbformat_minor": 5
}
