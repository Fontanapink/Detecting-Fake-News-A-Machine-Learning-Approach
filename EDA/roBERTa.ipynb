{
 "cells": [
  {
   "cell_type": "markdown",
   "id": "2c109bf0",
   "metadata": {},
   "source": [
    "This notebook does sentiment analysis via Huggingface pipeline.\n",
    "<mark>Don't loop through individual data in Python, do it with Numpy dataframe since the subroutines are in C++</mark>"
   ]
  },
  {
   "cell_type": "markdown",
   "id": "9e205e20",
   "metadata": {
    "tags": []
   },
   "source": [
    "# Read in datasets"
   ]
  },
  {
   "cell_type": "code",
   "execution_count": 1,
   "id": "cad63a85-00c0-4f62-83ee-2069163f4137",
   "metadata": {},
   "outputs": [
    {
     "data": {
      "application/vnd.jupyter.widget-view+json": {
       "model_id": "96433571b5644721a25fc66cb0c528f2",
       "version_major": 2,
       "version_minor": 0
      },
      "text/plain": [
       "Downloading:   0%|          | 0.00/2.87k [00:00<?, ?B/s]"
      ]
     },
     "metadata": {},
     "output_type": "display_data"
    }
   ],
   "source": [
    "from transformers import pipeline\n",
    "\n",
    "# https://huggingface.co/cardiffnlp/twitter-roberta-base-sentiment\n",
    "MODEL1 = \"cardiffnlp/twitter-roberta-base-sentiment\"\n",
    "pipe1 = pipeline(model=MODEL1)"
   ]
  },
  {
   "cell_type": "code",
   "execution_count": 2,
   "id": "86d90a94",
   "metadata": {
    "scrolled": true,
    "tags": []
   },
   "outputs": [],
   "source": [
    "import pandas as pd\n",
    "from sklearn.utils import shuffle\n",
    "\n",
    "df = pd.read_csv('../Datasets/fake-news/train.csv', usecols = ['id','title','text','label'])\n",
    "\n",
    "# Split the training set (df) by real and fake news\n",
    "df_t = df[df['label'] == 1]\n",
    "df_f = df[df['label'] == 0]\n",
    "\n",
    "# Drop rows containing NaN in either title or text columns\n",
    "df_true = df_t.dropna(subset=['title','text'])\n",
    "df_fake = df_f.dropna(subset=['title','text'])\n",
    "\n",
    "# Further split into titles and texts\n",
    "title_true = df_true.loc[:,'title'].tolist()\n",
    "text_true = df_true.loc[:,'text'].tolist()\n",
    "title_fake = df_fake.loc[:,'title'].tolist()\n",
    "text_fake = df_fake.loc[:,'text'].tolist()"
   ]
  },
  {
   "cell_type": "code",
   "execution_count": 6,
   "id": "59cf77f9",
   "metadata": {},
   "outputs": [],
   "source": [
    "corpus_true = shuffle(title_true)\n",
    "corpus_fake = shuffle(title_fake)"
   ]
  },
  {
   "cell_type": "code",
   "execution_count": 11,
   "id": "478bfd4a-14dc-456e-be60-91ea1ce8d061",
   "metadata": {},
   "outputs": [
    {
     "name": "stdout",
     "output_type": "stream",
     "text": [
      "Labels 0 means negative sentiment, 1 means neutral, 2 means positive.\n",
      "\n",
      "Time Channel is a go \n",
      " Label 1, 0.63\n",
      "Shocking Development: FBI Re-Opens Probe Into Hillary Clinton Emails: “Perhaps Finally Justice Will Be Done” \n",
      " Label 1, 0.57\n",
      "[WATCH] Hillary Clinton’s “Crazy Eyes” Surface AGAIN! \n",
      " Label 1, 0.51\n",
      "WaPo: “Don’t Like Trump’s Piggish Prejudice? Blame the World of Golf.” \n",
      " Label 0, 0.7\n",
      "Trump Has Forever Changed American Politics \n",
      " Label 1, 0.56\n",
      "Michelle Obama Deletes Hillary Clinton From Twitter \n",
      " Label 1, 0.74\n",
      "Young Fellas Made Of Nothing These Days, Finds Scientific Study \n",
      " Label 0, 0.54\n",
      "White House Petition To Remove ‘Soros-Owned Voting Machines’ Hits 100,000+ Signatures \n",
      " Label 1, 0.78\n",
      "“Kindest People You’ve Ever Met”: American Journalist Describes Lebanon, Syrian Attitude After Trip \n",
      " Label 1, 0.62\n",
      "The exodus from Ukraine to Russia, 80,000 people a week \n",
      " Label 0, 0.51\n"
     ]
    }
   ],
   "source": [
    "# TRUE NEWS\n",
    "\n",
    "print(\"Labels 0 means negative sentiment, 1 means neutral, 2 means positive.\\n\")\n",
    "\n",
    "for i in range(10):\n",
    "    print(corpus_true[i], \"\\n\", \\\n",
    "          \"Label\", \\\n",
    "          (pipe1(corpus_true[i]))[0][\"label\"][-1], \\\n",
    "          \"\\b,\",\n",
    "          round((pipe1(corpus_true[i]))[0][\"score\"],2))\n"
   ]
  },
  {
   "cell_type": "code",
   "execution_count": 12,
   "id": "f5809a19-c7bd-4b1f-ac86-7344516132f5",
   "metadata": {
    "tags": []
   },
   "outputs": [
    {
     "name": "stdout",
     "output_type": "stream",
     "text": [
      "Labels 0 means negative sentiment, 1 means neutral, 2 means positive.\n",
      "\n",
      "Top French Right-Winger Left Unconscious After Campaign Clash \n",
      " Label 1, 0.63\n",
      "Survey Shows Social Isolation, Sexual Rejection, but Much Sympathy for Transgender Americans - Breitbart \n",
      " Label 1, 0.52\n",
      "Justin Trudeau Faces Unprecedented Ethics Probe over Private Island Getaway with Imam - Breitbart \n",
      " Label 1, 0.75\n",
      "Teamsters’ Jimmy Hoffa Lavishes Praise on President Trump on Trade Policy - Breitbart \n",
      " Label 1, 0.69\n",
      "Trump Taps Peter Navarro, Vocal Critic of China, for New Trade Post - The New York Times \n",
      " Label 1, 0.85\n",
      "97% of Voters in Bankrupt Puerto Rico Want Statehood - Breitbart \n",
      " Label 1, 0.86\n",
      "Immigrants Who Came to U.S. as Children Fear Deportation Under Trump - The New York Times \n",
      " Label 0, 0.6\n",
      "$7 Million in Donations to Go Directly to Orlando Kin and Survivors - The New York Times \n",
      " Label 1, 0.83\n",
      "Marijuana Company Prepares to Cross State Lines, as Legally as Possible - The New York Times \n",
      " Label 1, 0.89\n",
      "Report: Paul Ryan’s Plan Could Force 15 Million People to Lose Health Coverage \n",
      " Label 0, 0.7\n"
     ]
    }
   ],
   "source": [
    "# FAKE NEWS\n",
    "\n",
    "print(\"Labels 0 means negative sentiment, 1 means neutral, 2 means positive.\\n\")\n",
    "\n",
    "for i in range(10):\n",
    "    print(corpus_fake[i], \"\\n\", \\\n",
    "          \"Label\", \\\n",
    "          (pipe1(corpus_fake[i]))[0][\"label\"][-1], \\\n",
    "          \"\\b,\",\n",
    "          round((pipe1(corpus_fake[i]))[0][\"score\"],2))\n"
   ]
  },
  {
   "cell_type": "code",
   "execution_count": 14,
   "id": "fc64f17e",
   "metadata": {},
   "outputs": [
    {
     "data": {
      "text/plain": [
       "list"
      ]
     },
     "execution_count": 14,
     "metadata": {},
     "output_type": "execute_result"
    }
   ],
   "source": [
    "type(corpus_true)"
   ]
  },
  {
   "cell_type": "code",
   "execution_count": 15,
   "id": "f7d5bee3",
   "metadata": {},
   "outputs": [],
   "source": [
    "cc = corpus_true[0:10]"
   ]
  },
  {
   "cell_type": "code",
   "execution_count": 16,
   "id": "ba7fa410",
   "metadata": {},
   "outputs": [
    {
     "data": {
      "text/plain": [
       "list"
      ]
     },
     "execution_count": 16,
     "metadata": {},
     "output_type": "execute_result"
    }
   ],
   "source": [
    "type(cc)"
   ]
  },
  {
   "cell_type": "code",
   "execution_count": 17,
   "id": "16c65d57",
   "metadata": {},
   "outputs": [
    {
     "data": {
      "text/plain": [
       "['Time Channel is a go',\n",
       " 'Shocking Development: FBI Re-Opens Probe Into Hillary Clinton Emails: “Perhaps Finally Justice Will Be Done”',\n",
       " '[WATCH] Hillary Clinton’s “Crazy Eyes” Surface AGAIN!',\n",
       " 'WaPo: “Don’t Like Trump’s Piggish Prejudice? Blame the World of Golf.”',\n",
       " 'Trump Has Forever Changed American Politics',\n",
       " 'Michelle Obama Deletes Hillary Clinton From Twitter',\n",
       " 'Young Fellas Made Of Nothing These Days, Finds Scientific Study',\n",
       " 'White House Petition To Remove ‘Soros-Owned Voting Machines’ Hits 100,000+ Signatures',\n",
       " '“Kindest People You’ve Ever Met”: American Journalist Describes Lebanon, Syrian Attitude After Trip',\n",
       " 'The exodus from Ukraine to Russia, 80,000 people a week']"
      ]
     },
     "execution_count": 17,
     "metadata": {},
     "output_type": "execute_result"
    }
   ],
   "source": [
    "cc"
   ]
  },
  {
   "cell_type": "code",
   "execution_count": 19,
   "id": "d40e4873",
   "metadata": {
    "scrolled": true
   },
   "outputs": [],
   "source": [
    "# TRUE NEWS, See distribution of scores of each label\n",
    "\n",
    "\n",
    "n = 1000\n",
    "tx = []\n",
    "ty = []\n",
    "tz = []\n",
    "\n",
    "for i in range(n):\n",
    "    t = pipe1(corpus_true[i])[0][\"label\"][-1]\n",
    "    if t == \"0\":\n",
    "        tx.append((pipe1(corpus_true[i]))[0][\"score\"])\n",
    "    elif t == \"1\":\n",
    "        ty.append((pipe1(corpus_true[i]))[0][\"score\"])\n",
    "    else:\n",
    "        tz.append((pipe1(corpus_true[i]))[0][\"score\"])"
   ]
  },
  {
   "cell_type": "code",
   "execution_count": 20,
   "id": "dc887579",
   "metadata": {},
   "outputs": [
    {
     "name": "stdout",
     "output_type": "stream",
     "text": [
      "0.7008301019668579 0.6274808049201965\n"
     ]
    }
   ],
   "source": [
    "print(tx[0],ty[0])"
   ]
  },
  {
   "cell_type": "code",
   "execution_count": 21,
   "id": "be3cc061",
   "metadata": {},
   "outputs": [],
   "source": [
    "# FAKE NEWS, See distribution of scores of each label\n",
    "\n",
    "n = 1000\n",
    "fx = []\n",
    "fy = []\n",
    "fz = []\n",
    "\n",
    "for i in range(n):\n",
    "    t = pipe1(corpus_fake[i])[0][\"label\"][-1]\n",
    "    if t == \"0\":\n",
    "        fx.append((pipe1(corpus_fake[i]))[0][\"score\"])\n",
    "    elif t == \"1\":\n",
    "        fy.append((pipe1(corpus_fake[i]))[0][\"score\"])\n",
    "    else:\n",
    "        fz.append((pipe1(corpus_fake[i]))[0][\"score\"])"
   ]
  },
  {
   "cell_type": "code",
   "execution_count": 22,
   "id": "92224803",
   "metadata": {},
   "outputs": [
    {
     "name": "stdout",
     "output_type": "stream",
     "text": [
      "0.600692868232727 0.6261588335037231\n"
     ]
    }
   ],
   "source": [
    "print(fx[0], fy[0])"
   ]
  },
  {
   "cell_type": "code",
   "execution_count": 25,
   "id": "c590f06a",
   "metadata": {},
   "outputs": [
    {
     "data": {
      "image/png": "[encoded data removed]",
      "text/plain": [
       "<Figure size 640x480 with 1 Axes>"
      ]
     },
     "metadata": {},
     "output_type": "display_data"
    }
   ],
   "source": [
    "# Visualize scores for true and fake news with their labels\n",
    "import matplotlib.pyplot as plt\n",
    "import numpy as np\n",
    "\n",
    "columns = [tx, fx, ty, fy, tz, fz]\n",
    "\n",
    "fig, ax = plt.subplots()\n",
    "ax.boxplot(columns)\n",
    "plt.xticks([1, 2, 3, 4, 5, 6], [\"True\\nNegative\",\"Fake\\nNegative\", \"True\\nNeutral\",\"Fake\\nNeutral\", \"True\\nPositive\",\"Fake\\nPositive\"])\n",
    "plt.show()"
   ]
  },
  {
   "cell_type": "markdown",
   "id": "cd9da6b1",
   "metadata": {},
   "source": [
    "True news generally have higher confidence that the news is negative, when roBERTa predicts it is a negative news."
   ]
  },
  {
   "cell_type": "code",
   "execution_count": 121,
   "id": "fdc84b62",
   "metadata": {},
   "outputs": [
    {
     "name": "stdout",
     "output_type": "stream",
     "text": [
      "# Label 0: 574 ; Proportion:  0.574\n",
      "# Label 1: 386 ; Proportion:  0.386\n",
      "# Label 2: 40 ; Proportion:  0.04\n"
     ]
    }
   ],
   "source": [
    "n = 1000\n",
    "x = y = z = 0\n",
    "\n",
    "for i in range(n):\n",
    "    t = pipe1(corpus_fake[i])[0][\"label\"][-1] \n",
    "    if t == \"0\":\n",
    "        # print(corpus_fake[i], \"\\n\", round((pipe1(corpus_fake[i]))[0][\"score\"],2))\n",
    "        x+=1\n",
    "    elif t == \"1\":\n",
    "        y+=1\n",
    "    else:\n",
    "        z+=1\n",
    "print(\"# Label 0:\",x, \"; Proportion: \", x/n)\n",
    "print(\"# Label 1:\",y, \"; Proportion: \", y/n)\n",
    "print(\"# Label 2:\",z, \"; Proportion: \", z/n)"
   ]
  },
  {
   "cell_type": "markdown",
   "id": "7009f69c-8ac6-4742-8568-aff08435e5df",
   "metadata": {},
   "source": [
    "# Sentiment analysis via pipeline"
   ]
  },
  {
   "cell_type": "code",
   "execution_count": 60,
   "id": "43027dea-10d8-41b6-9b50-380fdf7d86a6",
   "metadata": {
    "tags": []
   },
   "outputs": [],
   "source": [
    "sentiment_true = [sent_pipeline(x) for x in corpus_true]"
   ]
  },
  {
   "cell_type": "markdown",
   "id": "edaa4c08",
   "metadata": {},
   "source": [
    "Note that the `joy` factor may not match intuition; for instance, the article\n",
    "```\n",
    "WATCH: Colbert HUMILIATES Trump With Scathing Takedown To Avenge Attack On John Dickerson \n",
    "```\n",
    "has Label 0 (negative) with score 0.78 and a joy factor of score 0.78."
   ]
  },
  {
   "cell_type": "code",
   "execution_count": null,
   "id": "e06dd62c",
   "metadata": {},
   "outputs": [],
   "source": []
  }
 ],
 "metadata": {
  "kernelspec": {
   "display_name": "Python 3 (ipykernel)",
   "language": "python",
   "name": "python3"
  },
  "language_info": {
   "codemirror_mode": {
    "name": "ipython",
    "version": 3
   },
   "file_extension": ".py",
   "mimetype": "text/x-python",
   "name": "python",
   "nbconvert_exporter": "python",
   "pygments_lexer": "ipython3",
   "version": "3.10.9"
  }
 },
 "nbformat": 4,
 "nbformat_minor": 5
}
