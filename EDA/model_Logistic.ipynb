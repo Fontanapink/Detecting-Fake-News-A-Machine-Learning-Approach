{
 "cells": [
  {
   "cell_type": "code",
   "execution_count": 1,
   "metadata": {},
   "outputs": [],
   "source": [
    "import pandas as pd\n",
    "from sklearn.feature_extraction.text import CountVectorizer\n",
    "from sklearn.linear_model import LogisticRegression\n",
    "\n",
    "from sklearn.model_selection import train_test_split\n",
    "from sklearn.metrics import accuracy_score\n",
    "from sklearn.model_selection import GridSearchCV\n",
    "from sklearn.pipeline import Pipeline\n",
    "from sklearn.feature_extraction.text import TfidfVectorizer\n",
    "\n",
    "from nltk.stem.snowball import SnowballStemmer\n",
    "from nltk.corpus import stopwords\n"
   ]
  },
  {
   "cell_type": "code",
   "execution_count": 2,
   "metadata": {},
   "outputs": [],
   "source": [
    "import numpy as np"
   ]
  },
  {
   "cell_type": "code",
   "execution_count": 3,
   "metadata": {},
   "outputs": [],
   "source": [
    "# Defining feature extraction and preprocessing steps\n",
    "text_feature = 'text'\n",
    "\n",
    "# Splitting data into train and test sets\n",
    "train=pd.read_csv('../Datasets/fake-news/train.csv')\n",
    "test=pd.read_csv('../Datasets/fake-news/test.csv')"
   ]
  },
  {
   "cell_type": "code",
   "execution_count": 4,
   "metadata": {},
   "outputs": [],
   "source": [
    "train=train[~train['text'].isna()]"
   ]
  },
  {
   "cell_type": "code",
   "execution_count": 5,
   "metadata": {},
   "outputs": [],
   "source": [
    "snowballStemmer = SnowballStemmer(\"english\")\n",
    "stop= stopwords.words(\"english\")\n",
    "\n",
    "def tokenize(text):\n",
    "    return text.split()\n",
    "def tokenize_snowball(text):\n",
    "    return [snowballStemmer.stem(word) for word in text.split()]"
   ]
  },
  {
   "cell_type": "code",
   "execution_count": 6,
   "metadata": {},
   "outputs": [
    {
     "name": "stdout",
     "output_type": "stream",
     "text": [
      "Fitting 5 folds for each of 16 candidates, totalling 80 fits\n"
     ]
    },
    {
     "name": "stderr",
     "output_type": "stream",
     "text": [
      "C:\\Users\\guill\\AppData\\Roaming\\Python\\Python37\\site-packages\\sklearn\\model_selection\\_validation.py:372: FitFailedWarning: \n",
      "40 fits failed out of a total of 80.\n",
      "The score on these train-test partitions for these parameters will be set to nan.\n",
      "If these failures are not expected, you can try to debug them by setting error_score='raise'.\n",
      "\n",
      "Below are more details about the failures:\n",
      "--------------------------------------------------------------------------------\n",
      "40 fits failed with the following error:\n",
      "Traceback (most recent call last):\n",
      "  File \"C:\\Users\\guill\\AppData\\Roaming\\Python\\Python37\\site-packages\\sklearn\\model_selection\\_validation.py\", line 680, in _fit_and_score\n",
      "    estimator.fit(X_train, y_train, **fit_params)\n",
      "  File \"C:\\Users\\guill\\AppData\\Roaming\\Python\\Python37\\site-packages\\sklearn\\pipeline.py\", line 394, in fit\n",
      "    self._final_estimator.fit(Xt, y, **fit_params_last_step)\n",
      "  File \"C:\\Users\\guill\\AppData\\Roaming\\Python\\Python37\\site-packages\\sklearn\\linear_model\\_logistic.py\", line 1461, in fit\n",
      "    solver = _check_solver(self.solver, self.penalty, self.dual)\n",
      "  File \"C:\\Users\\guill\\AppData\\Roaming\\Python\\Python37\\site-packages\\sklearn\\linear_model\\_logistic.py\", line 449, in _check_solver\n",
      "    % (solver, penalty)\n",
      "ValueError: Solver lbfgs supports only 'l2' or 'none' penalties, got l1 penalty.\n",
      "\n",
      "  warnings.warn(some_fits_failed_message, FitFailedWarning)\n",
      "C:\\Users\\guill\\AppData\\Roaming\\Python\\Python37\\site-packages\\sklearn\\model_selection\\_search.py:972: UserWarning: One or more of the test scores are non-finite: [       nan        nan        nan        nan        nan        nan\n",
      "        nan        nan 0.97731332 0.97639808 0.98078133 0.98010705\n",
      " 0.97225572 0.9715333  0.98034776 0.97948078]\n",
      "  category=UserWarning,\n"
     ]
    }
   ],
   "source": [
    "pipeline = Pipeline([\n",
    "    (\"vect\", TfidfVectorizer()),\n",
    "    (\"clf\", LogisticRegression())\n",
    "])\n",
    "\n",
    "params = [{\n",
    "    \"vect__ngram_range\": [(1,1), (1,2)],\n",
    "    \"vect__stop_words\": [None, stop],\n",
    "    \"vect__tokenizer\": [tokenize, tokenize_snowball],\n",
    "    \"clf__penalty\": ['l1','l2']\n",
    "}]\n",
    "\n",
    "grid = GridSearchCV(\n",
    "    estimator=pipeline,\n",
    "    param_grid=params,\n",
    "    scoring='accuracy',\n",
    "    cv=5,\n",
    "    verbose=1,\n",
    "    n_jobs=4\n",
    ")\n",
    "\n",
    "grid.fit(train['text'], train['label'])\n",
    "model1 = grid.best_estimator_"
   ]
  },
  {
   "cell_type": "code",
   "execution_count": 7,
   "metadata": {},
   "outputs": [
    {
     "name": "stdout",
     "output_type": "stream",
     "text": [
      "0.642788368958213\n"
     ]
    }
   ],
   "source": [
    "test=pd.merge(test,pd.read_csv('../Datasets/fake-news/submit.csv'), left_on='id', right_on='id')\n",
    "test=test[~test['text'].isna()]\n",
    "test['pred_NB1']= model1.predict(test['text'])\n",
    "print(accuracy_score(test['label'], test['pred_NB1']))"
   ]
  },
  {
   "cell_type": "code",
   "execution_count": 8,
   "metadata": {},
   "outputs": [],
   "source": [
    "test.to_csv('../Datasets/fake-news/pred_log.csv')"
   ]
  },
  {
   "cell_type": "code",
   "execution_count": 9,
   "metadata": {
    "scrolled": true
   },
   "outputs": [
    {
     "name": "stdout",
     "output_type": "stream",
     "text": [
      "Best Parameters: {'clf__penalty': 'l2', 'vect__ngram_range': (1, 1), 'vect__stop_words': ['i', 'me', 'my', 'myself', 'we', 'our', 'ours', 'ourselves', 'you', \"you're\", \"you've\", \"you'll\", \"you'd\", 'your', 'yours', 'yourself', 'yourselves', 'he', 'him', 'his', 'himself', 'she', \"she's\", 'her', 'hers', 'herself', 'it', \"it's\", 'its', 'itself', 'they', 'them', 'their', 'theirs', 'themselves', 'what', 'which', 'who', 'whom', 'this', 'that', \"that'll\", 'these', 'those', 'am', 'is', 'are', 'was', 'were', 'be', 'been', 'being', 'have', 'has', 'had', 'having', 'do', 'does', 'did', 'doing', 'a', 'an', 'the', 'and', 'but', 'if', 'or', 'because', 'as', 'until', 'while', 'of', 'at', 'by', 'for', 'with', 'about', 'against', 'between', 'into', 'through', 'during', 'before', 'after', 'above', 'below', 'to', 'from', 'up', 'down', 'in', 'out', 'on', 'off', 'over', 'under', 'again', 'further', 'then', 'once', 'here', 'there', 'when', 'where', 'why', 'how', 'all', 'any', 'both', 'each', 'few', 'more', 'most', 'other', 'some', 'such', 'no', 'nor', 'not', 'only', 'own', 'same', 'so', 'than', 'too', 'very', 's', 't', 'can', 'will', 'just', 'don', \"don't\", 'should', \"should've\", 'now', 'd', 'll', 'm', 'o', 're', 've', 'y', 'ain', 'aren', \"aren't\", 'couldn', \"couldn't\", 'didn', \"didn't\", 'doesn', \"doesn't\", 'hadn', \"hadn't\", 'hasn', \"hasn't\", 'haven', \"haven't\", 'isn', \"isn't\", 'ma', 'mightn', \"mightn't\", 'mustn', \"mustn't\", 'needn', \"needn't\", 'shan', \"shan't\", 'shouldn', \"shouldn't\", 'wasn', \"wasn't\", 'weren', \"weren't\", 'won', \"won't\", 'wouldn', \"wouldn't\"], 'vect__tokenizer': <function tokenize at 0x000001ED84BF63A8>}\n"
     ]
    }
   ],
   "source": [
    "best_params = grid.best_params_\n",
    "\n",
    "# Print the best parameters\n",
    "print(\"Best Parameters:\", best_params)"
   ]
  },
  {
   "cell_type": "code",
   "execution_count": 10,
   "metadata": {},
   "outputs": [
    {
     "data": {
      "text/plain": [
       "['../models/log.joblib']"
      ]
     },
     "execution_count": 10,
     "metadata": {},
     "output_type": "execute_result"
    }
   ],
   "source": [
    "from joblib import dump\n",
    "dump(model1, '../models/log.joblib')\n"
   ]
  },
  {
   "cell_type": "code",
   "execution_count": null,
   "metadata": {},
   "outputs": [],
   "source": [
    "3+2"
   ]
  },
  {
   "cell_type": "markdown",
   "metadata": {},
   "source": [
    "# Adding all features"
   ]
  },
  {
   "cell_type": "code",
   "execution_count": 25,
   "metadata": {},
   "outputs": [],
   "source": [
    "import pandas as pd\n",
    "from sklearn.model_selection import train_test_split\n",
    "from sklearn.metrics import accuracy_score"
   ]
  },
  {
   "cell_type": "code",
   "execution_count": 26,
   "metadata": {},
   "outputs": [],
   "source": [
    "from sklearn.pipeline import Pipeline, FeatureUnion\n",
    "from sklearn.preprocessing import KBinsDiscretizer\n",
    "from sklearn.compose import ColumnTransformer"
   ]
  },
  {
   "cell_type": "code",
   "execution_count": 37,
   "metadata": {},
   "outputs": [],
   "source": [
    "# Defining feature extraction and preprocessing steps\n",
    "text_feature = 'text'\n",
    "categorical_features = ['sadness', 'joy', 'love', 'anger', 'fear', 'surprise','word_count', 'stopword_count', 'prop_stop', 'caps_rel', 'ratio_long_words']\n",
    "\n",
    "train=pd.read_csv('../Datasets/fake-news/train.csv')\n",
    "train=train[(~train['text'].isna())|(~train['title'].isna())]\n",
    "# Splitting data into train and test sets\n",
    "train=pd.merge(train,pd.read_csv('../Datasets/fake-news/scores_emotion.csv'), right_on='id', left_on='id')\n",
    "train=pd.merge(train,pd.read_csv('../Datasets/fake-news/stop_words.csv'), right_on='id', left_on='id')\n",
    "train=pd.merge(train,pd.read_csv('../datasets/fake-news/long_train.csv'), right_on='id', left_on='id')\n",
    "train=pd.merge(train,pd.read_csv('../datasets/fake-news/caps_train.csv'), right_on='id', left_on='id')\n",
    "\n",
    "test=pd.read_csv('../Datasets/fake-news/test.csv')\n",
    "test=test[~test['text'].isna()|~test['title'].isna()]\n",
    "test=pd.merge(test,pd.read_csv('../Datasets/fake-news/scores_emotion_test.csv'), right_on='id', left_on='id')\n",
    "test=pd.merge(test,pd.read_csv('../Datasets/fake-news/stop_words_test.csv'), right_on='id', left_on='id')\n",
    "test=pd.merge(test,pd.read_csv('../datasets/fake-news/long_test.csv'), right_on='id', left_on='id')\n",
    "test=pd.merge(test,pd.read_csv('../datasets/fake-news/caps_test.csv'), right_on='id', left_on='id')\n",
    "train = train.drop('author', axis=1)\n",
    "test = test.drop('author', axis=1)\n",
    "train=train[train['word_count']>0]\n",
    "test=test[test['word_count']>0]\n",
    "test=pd.merge(test,pd.read_csv('../Datasets/fake-news/submit.csv'), left_on='id', right_on='id')\n"
   ]
  },
  {
   "cell_type": "code",
   "execution_count": 38,
   "metadata": {},
   "outputs": [],
   "source": [
    "train['caps_rel']=train['Number of Caps']/train['word_count']\n",
    "test['caps_rel']=test['Number of Caps']/test['word_count']"
   ]
  },
  {
   "cell_type": "code",
   "execution_count": 39,
   "metadata": {},
   "outputs": [
    {
     "name": "stdout",
     "output_type": "stream",
     "text": [
      "fitting\n"
     ]
    },
    {
     "name": "stderr",
     "output_type": "stream",
     "text": [
      "C:\\Users\\guill\\AppData\\Roaming\\Python\\Python37\\site-packages\\sklearn\\linear_model\\_logistic.py:818: ConvergenceWarning: lbfgs failed to converge (status=1):\n",
      "STOP: TOTAL NO. of ITERATIONS REACHED LIMIT.\n",
      "\n",
      "Increase the number of iterations (max_iter) or scale the data as shown in:\n",
      "    https://scikit-learn.org/stable/modules/preprocessing.html\n",
      "Please also refer to the documentation for alternative solver options:\n",
      "    https://scikit-learn.org/stable/modules/linear_model.html#logistic-regression\n",
      "  extra_warning_msg=_LOGISTIC_SOLVER_CONVERGENCE_MSG,\n"
     ]
    },
    {
     "name": "stdout",
     "output_type": "stream",
     "text": [
      "fitted\n",
      "0.6301587301587301\n"
     ]
    }
   ],
   "source": [
    "# Build a ColumnTransformer with FeatureUnion\n",
    "text_pipeline = Pipeline([\n",
    "    ('tfidf', TfidfVectorizer(tokenizer=tokenize, ngram_range=(1, 1), stop_words=stop))\n",
    "])\n",
    "\n",
    "num_pipeline = Pipeline([\n",
    "    ('discretizer', KBinsDiscretizer(n_bins=3, encode='onehot-dense', strategy='kmeans'))\n",
    "])\n",
    "\n",
    "preprocessor = ColumnTransformer([\n",
    "    ('num', num_pipeline, categorical_features),\n",
    "    ('text', text_pipeline, text_feature)\n",
    "])\n",
    "\n",
    "# Define the Naive Bayes classifier\n",
    "logistic = LogisticRegression(penalty='l2')\n",
    "\n",
    "# Creating the final pipeline\n",
    "pipeline = Pipeline([\n",
    "    ('preprocessor', preprocessor),\n",
    "    ('naive_bayes', logistic)\n",
    "])\n",
    "print('fitting')\n",
    "# Fitting the pipeline on the training data\n",
    "pipeline.fit(train,train['label'])\n",
    "print('fitted')\n",
    "\n",
    "# Predicting on the test data\n",
    "test['pred'] = pipeline.predict(test)\n",
    "\n",
    "# Evaluating the performance\n",
    "print(accuracy_score(test['label'], test['pred']))\n"
   ]
  },
  {
   "cell_type": "code",
   "execution_count": 40,
   "metadata": {},
   "outputs": [],
   "source": [
    "dump(pipeline, '../models/log_2.joblib')\n",
    "test.to_csv('../Datasets/fake-news/log2.csv')"
   ]
  },
  {
   "cell_type": "markdown",
   "metadata": {},
   "source": [
    "# Emotion"
   ]
  },
  {
   "cell_type": "code",
   "execution_count": 34,
   "metadata": {},
   "outputs": [],
   "source": [
    "categorical_features = ['sadness', 'joy', 'love', 'anger', 'fear', 'surprise']"
   ]
  },
  {
   "cell_type": "code",
   "execution_count": 35,
   "metadata": {},
   "outputs": [
    {
     "name": "stdout",
     "output_type": "stream",
     "text": [
      "fitting\n"
     ]
    },
    {
     "name": "stderr",
     "output_type": "stream",
     "text": [
      "C:\\Users\\guill\\AppData\\Roaming\\Python\\Python37\\site-packages\\sklearn\\linear_model\\_logistic.py:818: ConvergenceWarning: lbfgs failed to converge (status=1):\n",
      "STOP: TOTAL NO. of ITERATIONS REACHED LIMIT.\n",
      "\n",
      "Increase the number of iterations (max_iter) or scale the data as shown in:\n",
      "    https://scikit-learn.org/stable/modules/preprocessing.html\n",
      "Please also refer to the documentation for alternative solver options:\n",
      "    https://scikit-learn.org/stable/modules/linear_model.html#logistic-regression\n",
      "  extra_warning_msg=_LOGISTIC_SOLVER_CONVERGENCE_MSG,\n"
     ]
    },
    {
     "name": "stdout",
     "output_type": "stream",
     "text": [
      "fitted\n",
      "0.6311507936507936\n"
     ]
    }
   ],
   "source": [
    "# Build a ColumnTransformer with FeatureUnion\n",
    "text_pipeline = Pipeline([\n",
    "    ('tfidf', TfidfVectorizer(tokenizer=tokenize, ngram_range=(1, 1), stop_words=stop))\n",
    "])\n",
    "\n",
    "num_pipeline = Pipeline([\n",
    "    ('discretizer', KBinsDiscretizer(n_bins=3, encode='onehot-dense', strategy='kmeans'))\n",
    "])\n",
    "\n",
    "preprocessor = ColumnTransformer([\n",
    "    ('num', num_pipeline, categorical_features),\n",
    "    ('text', text_pipeline, text_feature)\n",
    "])\n",
    "\n",
    "# Define the Naive Bayes classifier\n",
    "logistic = LogisticRegression(penalty='l2')\n",
    "\n",
    "# Creating the final pipeline\n",
    "pipeline = Pipeline([\n",
    "    ('preprocessor', preprocessor),\n",
    "    ('naive_bayes', logistic)\n",
    "])\n",
    "print('fitting')\n",
    "# Fitting the pipeline on the training data\n",
    "pipeline.fit(train,train['label'])\n",
    "print('fitted')\n",
    "\n",
    "# Predicting on the test data\n",
    "test['pred'] = pipeline.predict(test)\n",
    "\n",
    "# Evaluating the performance\n",
    "print(accuracy_score(test['label'], test['pred']))\n"
   ]
  },
  {
   "cell_type": "markdown",
   "metadata": {},
   "source": [
    "#  Word count"
   ]
  },
  {
   "cell_type": "code",
   "execution_count": 41,
   "metadata": {},
   "outputs": [],
   "source": [
    "categorical_features = ['word_count']"
   ]
  },
  {
   "cell_type": "code",
   "execution_count": 42,
   "metadata": {},
   "outputs": [
    {
     "name": "stdout",
     "output_type": "stream",
     "text": [
      "fitting\n"
     ]
    },
    {
     "name": "stderr",
     "output_type": "stream",
     "text": [
      "C:\\Users\\guill\\AppData\\Roaming\\Python\\Python37\\site-packages\\sklearn\\linear_model\\_logistic.py:818: ConvergenceWarning: lbfgs failed to converge (status=1):\n",
      "STOP: TOTAL NO. of ITERATIONS REACHED LIMIT.\n",
      "\n",
      "Increase the number of iterations (max_iter) or scale the data as shown in:\n",
      "    https://scikit-learn.org/stable/modules/preprocessing.html\n",
      "Please also refer to the documentation for alternative solver options:\n",
      "    https://scikit-learn.org/stable/modules/linear_model.html#logistic-regression\n",
      "  extra_warning_msg=_LOGISTIC_SOLVER_CONVERGENCE_MSG,\n"
     ]
    },
    {
     "name": "stdout",
     "output_type": "stream",
     "text": [
      "fitted\n",
      "0.6311507936507936\n"
     ]
    }
   ],
   "source": [
    "# Build a ColumnTransformer with FeatureUnion\n",
    "text_pipeline = Pipeline([\n",
    "    ('tfidf', TfidfVectorizer(tokenizer=tokenize, ngram_range=(1, 1), stop_words=stop))\n",
    "])\n",
    "\n",
    "num_pipeline = Pipeline([\n",
    "    ('discretizer', KBinsDiscretizer(n_bins=3, encode='onehot-dense', strategy='kmeans'))\n",
    "])\n",
    "\n",
    "preprocessor = ColumnTransformer([\n",
    "    ('num', num_pipeline, categorical_features),\n",
    "    ('text', text_pipeline, text_feature)\n",
    "])\n",
    "\n",
    "# Define the Naive Bayes classifier\n",
    "logistic = LogisticRegression(penalty='l2')\n",
    "\n",
    "# Creating the final pipeline\n",
    "pipeline = Pipeline([\n",
    "    ('preprocessor', preprocessor),\n",
    "    ('naive_bayes', logistic)\n",
    "])\n",
    "print('fitting')\n",
    "# Fitting the pipeline on the training data\n",
    "pipeline.fit(train,train['label'])\n",
    "print('fitted')\n",
    "\n",
    "# Predicting on the test data\n",
    "test['pred'] = pipeline.predict(test)\n",
    "\n",
    "# Evaluating the performance\n",
    "print(accuracy_score(test['label'], test['pred']))"
   ]
  },
  {
   "cell_type": "markdown",
   "metadata": {},
   "source": [
    "# Stop Words"
   ]
  },
  {
   "cell_type": "code",
   "execution_count": 43,
   "metadata": {},
   "outputs": [],
   "source": [
    "categorical_features = ['stopword_count', 'prop_stop']\n"
   ]
  },
  {
   "cell_type": "code",
   "execution_count": 44,
   "metadata": {},
   "outputs": [
    {
     "name": "stdout",
     "output_type": "stream",
     "text": [
      "fitting\n"
     ]
    },
    {
     "name": "stderr",
     "output_type": "stream",
     "text": [
      "C:\\Users\\guill\\AppData\\Roaming\\Python\\Python37\\site-packages\\sklearn\\linear_model\\_logistic.py:818: ConvergenceWarning: lbfgs failed to converge (status=1):\n",
      "STOP: TOTAL NO. of ITERATIONS REACHED LIMIT.\n",
      "\n",
      "Increase the number of iterations (max_iter) or scale the data as shown in:\n",
      "    https://scikit-learn.org/stable/modules/preprocessing.html\n",
      "Please also refer to the documentation for alternative solver options:\n",
      "    https://scikit-learn.org/stable/modules/linear_model.html#logistic-regression\n",
      "  extra_warning_msg=_LOGISTIC_SOLVER_CONVERGENCE_MSG,\n"
     ]
    },
    {
     "name": "stdout",
     "output_type": "stream",
     "text": [
      "fitted\n",
      "0.6311507936507936\n"
     ]
    }
   ],
   "source": [
    "# Build a ColumnTransformer with FeatureUnion\n",
    "text_pipeline = Pipeline([\n",
    "    ('tfidf', TfidfVectorizer(tokenizer=tokenize, ngram_range=(1, 1), stop_words=stop))\n",
    "])\n",
    "\n",
    "num_pipeline = Pipeline([\n",
    "    ('discretizer', KBinsDiscretizer(n_bins=3, encode='onehot-dense', strategy='kmeans'))\n",
    "])\n",
    "\n",
    "preprocessor = ColumnTransformer([\n",
    "    ('num', num_pipeline, categorical_features),\n",
    "    ('text', text_pipeline, text_feature)\n",
    "])\n",
    "\n",
    "# Define the Naive Bayes classifier\n",
    "logistic = LogisticRegression(penalty='l2')\n",
    "\n",
    "# Creating the final pipeline\n",
    "pipeline = Pipeline([\n",
    "    ('preprocessor', preprocessor),\n",
    "    ('naive_bayes', logistic)\n",
    "])\n",
    "print('fitting')\n",
    "# Fitting the pipeline on the training data\n",
    "pipeline.fit(train,train['label'])\n",
    "print('fitted')\n",
    "\n",
    "# Predicting on the test data\n",
    "test['pred'] = pipeline.predict(test)\n",
    "\n",
    "# Evaluating the performance\n",
    "print(accuracy_score(test['label'], test['pred']))"
   ]
  },
  {
   "cell_type": "markdown",
   "metadata": {},
   "source": [
    "# Long Words"
   ]
  },
  {
   "cell_type": "code",
   "execution_count": 45,
   "metadata": {},
   "outputs": [],
   "source": [
    "categorical_features = [ 'ratio_long_words']\n"
   ]
  },
  {
   "cell_type": "code",
   "execution_count": 46,
   "metadata": {},
   "outputs": [
    {
     "name": "stdout",
     "output_type": "stream",
     "text": [
      "fitting\n",
      "fitted\n",
      "0.6111111111111112\n"
     ]
    }
   ],
   "source": [
    "# Build a ColumnTransformer with FeatureUnion\n",
    "text_pipeline = Pipeline([\n",
    "    ('tfidf', TfidfVectorizer(tokenizer=tokenize, ngram_range=(1, 1), stop_words=stop))\n",
    "])\n",
    "\n",
    "num_pipeline = Pipeline([\n",
    "    ('discretizer', KBinsDiscretizer(n_bins=3, encode='onehot-dense', strategy='kmeans'))\n",
    "])\n",
    "\n",
    "preprocessor = ColumnTransformer([\n",
    "    ('num', num_pipeline, categorical_features),\n",
    "    ('text', text_pipeline, text_feature)\n",
    "])\n",
    "\n",
    "# Define the Naive Bayes classifier\n",
    "naive_bayes = MultinomialNB(alpha=0.01)\n",
    "\n",
    "# Creating the final pipeline\n",
    "pipeline = Pipeline([\n",
    "    ('preprocessor', preprocessor),\n",
    "    ('naive_bayes', naive_bayes)\n",
    "])\n",
    "print('fitting')\n",
    "# Fitting the pipeline on the training data\n",
    "pipeline.fit(train,train['label'])\n",
    "print('fitted')\n",
    "\n",
    "# Predicting on the test data\n",
    "test['pred'] = pipeline.predict(test)\n",
    "\n",
    "# Evaluating the performance\n",
    "print(accuracy_score(test['label'], test['pred']))\n"
   ]
  },
  {
   "cell_type": "code",
   "execution_count": null,
   "metadata": {},
   "outputs": [],
   "source": []
  }
 ],
 "metadata": {
  "kernelspec": {
   "display_name": "Python 3",
   "language": "python",
   "name": "python3"
  },
  "language_info": {
   "codemirror_mode": {
    "name": "ipython",
    "version": 3
   },
   "file_extension": ".py",
   "mimetype": "text/x-python",
   "name": "python",
   "nbconvert_exporter": "python",
   "pygments_lexer": "ipython3",
   "version": "3.7.4"
  }
 },
 "nbformat": 4,
 "nbformat_minor": 2
}
