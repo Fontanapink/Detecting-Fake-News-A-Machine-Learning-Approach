{
 "cells": [
  {
   "cell_type": "markdown",
   "id": "2c109bf0",
   "metadata": {},
   "source": [
    "This notebook roughly follows [Detecting opinion spams and fake news ... (2017)](https://www.researchgate.net/publication/322128415_Detecting_opinion_spams_and_fake_news_using_text_classification) by copy-pasting some code from CodeBasic's [videos](https://www.youtube.com/playlist?list=PLeo1K3hjS3uuvuAXhYjV2lMEShq2UYSwX) and [notebooks](https://github.com/codebasics/nlp-tutorials/blob/main/11_bag_of_n_grams/10_bag_of_n_grams.ipynb).\n",
    "\n",
    "<div style=\"color:red;\">Please download the Kaggle dataset and LIAR dataset first.</div>"
   ]
  },
  {
   "cell_type": "markdown",
   "id": "0ff3b96b",
   "metadata": {},
   "source": [
    "# Read in datasets"
   ]
  },
  {
   "cell_type": "code",
   "execution_count": 63,
   "id": "86d90a94",
   "metadata": {
    "scrolled": true
   },
   "outputs": [],
   "source": [
    "import pandas as pd\n",
    "\n",
    "# Read in LIAR dataset columns 1 and 2 only:\n",
    "liar_df = pd.read_csv('./liar_dataset/train.tsv', sep='\\t',header=None, usecols = [1,2], names=[\"Label\", \"Statement\"])\n",
    "df.head()\n",
    "liar_df['Truth'] = liar_df.Label.map({\n",
    "    'pants-fire': 0,\n",
    "    'false': 0,\n",
    "    'mostly-false': 0,\n",
    "    'half-true': 0,\n",
    "    'barely-true': 1,\n",
    "    'mostly-true': 1,\n",
    "    'true': 1\n",
    "})\n",
    "\n",
    "# Read in Kaggle titles only. The dataframe df_kaggle has two columns: article titles, and (true/false).\n",
    "kaggle_df_true = pd.read_csv('./kaggle_dataset/True.csv', usecols = [0])\n",
    "kaggle_df_fake = pd.read_csv('./kaggle_dataset/Fake.csv', usecols = [0])\n",
    "kaggle_df_true['Truth'] = 1\n",
    "kaggle_df_fake['Truth'] = 0\n",
    "kaggle_df = pd.concat([kaggle_df_true, kaggle_df_fake], ignore_index=True, sort=False)"
   ]
  },
  {
   "cell_type": "markdown",
   "id": "0b5cdc06",
   "metadata": {},
   "source": [
    "# Preprocessing"
   ]
  },
  {
   "cell_type": "markdown",
   "id": "62aae28d",
   "metadata": {},
   "source": [
    "<div style=\"color:red;\">You may need to install</div> [`spacy`](https://spacy.io/usage/). For instance, in `conda powershell`, type the following two commands:\n",
    "```\n",
    "conda install -c conda-forge spacy\n",
    "python -m spacy download en_core_web_sm\n",
    "```"
   ]
  },
  {
   "cell_type": "code",
   "execution_count": 55,
   "id": "dd0398de",
   "metadata": {},
   "outputs": [],
   "source": [
    "import spacy\n",
    "\n",
    "# load english language model and create nlp object from it\n",
    "nlp = spacy.load(\"en_core_web_sm\") \n",
    "\n",
    "def preprocess(text):\n",
    "    # remove stop words and lemmatize the text\n",
    "    doc = nlp(text)\n",
    "    filtered_tokens = []\n",
    "    for token in doc:\n",
    "        if token.is_stop or token.is_punct:\n",
    "            continue\n",
    "        filtered_tokens.append(token.lemma_)\n",
    "    \n",
    "    return \" \".join(filtered_tokens)"
   ]
  },
  {
   "cell_type": "code",
   "execution_count": 56,
   "id": "86efae9d",
   "metadata": {},
   "outputs": [],
   "source": [
    "# preprocess kaggle_corpus\n",
    "kaggle_corpus = kaggle_df.loc[:,'title'].tolist()\n",
    "kaggle_corpus_processed = [preprocess(text) for text in kaggle_corpus]"
   ]
  },
  {
   "cell_type": "code",
   "execution_count": 64,
   "id": "08566d48",
   "metadata": {},
   "outputs": [],
   "source": [
    "# preprocess liar_corpus\n",
    "liar_corpus = liar_df.loc[:,'Statement'].tolist()\n",
    "liar_corpus_processed = [preprocess(text) for text in liar_corpus]"
   ]
  },
  {
   "cell_type": "markdown",
   "id": "5dced787",
   "metadata": {},
   "source": [
    "# Train-test split"
   ]
  },
  {
   "cell_type": "code",
   "execution_count": 65,
   "id": "cd20fe2b",
   "metadata": {},
   "outputs": [],
   "source": [
    "from sklearn.model_selection import train_test_split\n",
    "\n",
    "kaggle_X_train, kaggle_X_test, kaggle_y_train, kaggle_y_test = train_test_split(\n",
    "    kaggle_corpus_processed, \n",
    "    kaggle_df.Truth, \n",
    "    test_size=0.2, # 20% samples will go to test dataset\n",
    "    random_state=2022,\n",
    "    stratify=kaggle_df.Truth\n",
    ")\n",
    "\n",
    "liar_X_train, liar_X_test, liar_y_train, liar_y_test = train_test_split(\n",
    "    liar_corpus_processed, \n",
    "    liar_df.Truth, \n",
    "    test_size=0.2, # 20% samples will go to test dataset\n",
    "    random_state=2022,\n",
    "    stratify=None\n",
    ")"
   ]
  },
  {
   "cell_type": "markdown",
   "id": "2e683f5e",
   "metadata": {},
   "source": [
    "# Classification training and report"
   ]
  },
  {
   "cell_type": "code",
   "execution_count": 74,
   "id": "6b4a1f66",
   "metadata": {},
   "outputs": [],
   "source": [
    "from sklearn.feature_extraction.text import CountVectorizer\n",
    "from sklearn.naive_bayes import MultinomialNB\n",
    "from sklearn.neighbors import KNeighborsClassifier\n",
    "from sklearn.feature_extraction.text import TfidfVectorizer\n",
    "from sklearn.pipeline import Pipeline\n",
    "from sklearn.metrics import classification_report\n",
    "from sklearn.ensemble import RandomForestClassifier"
   ]
  },
  {
   "cell_type": "markdown",
   "id": "e8854001",
   "metadata": {},
   "source": [
    "## Kaggle dataset, $n$-gram ($n=1$), Naive Bayes (NB) classifier"
   ]
  },
  {
   "cell_type": "code",
   "execution_count": 67,
   "id": "ccfafebb",
   "metadata": {
    "scrolled": false
   },
   "outputs": [
    {
     "name": "stdout",
     "output_type": "stream",
     "text": [
      "              precision    recall  f1-score   support\n",
      "\n",
      "           0       0.94      0.95      0.95      4696\n",
      "           1       0.95      0.93      0.94      4284\n",
      "\n",
      "    accuracy                           0.94      8980\n",
      "   macro avg       0.94      0.94      0.94      8980\n",
      "weighted avg       0.94      0.94      0.94      8980\n",
      "\n"
     ]
    }
   ],
   "source": [
    "#1. create a pipeline object\n",
    "clf = Pipeline([\n",
    "     ('vectorizer_bow', CountVectorizer(ngram_range = (1, 1))),  #using the ngram_range parameter \n",
    "     ('Multi NB', MultinomialNB())         \n",
    "])\n",
    "\n",
    "#2. fit with X_train and y_train\n",
    "clf.fit(kaggle_X_train, kaggle_y_train)\n",
    "\n",
    "#3. get the predictions for X_test and store it in y_pred\n",
    "kaggle_y_pred = clf.predict(kaggle_X_test)\n",
    "\n",
    "#4. print the classfication report\n",
    "print(classification_report(kaggle_y_test, kaggle_y_pred))"
   ]
  },
  {
   "cell_type": "markdown",
   "id": "7dc9a232",
   "metadata": {},
   "source": [
    "## LIAR dataset, $n$-gram ($n=1$), Naive Bayes (NB) classifier"
   ]
  },
  {
   "cell_type": "code",
   "execution_count": 72,
   "id": "57d5e88b",
   "metadata": {
    "scrolled": false
   },
   "outputs": [
    {
     "name": "stdout",
     "output_type": "stream",
     "text": [
      "              precision    recall  f1-score   support\n",
      "\n",
      "           0       0.55      0.47      0.51       990\n",
      "           1       0.57      0.64      0.60      1058\n",
      "\n",
      "    accuracy                           0.56      2048\n",
      "   macro avg       0.56      0.56      0.56      2048\n",
      "weighted avg       0.56      0.56      0.56      2048\n",
      "\n"
     ]
    }
   ],
   "source": [
    "#2. fit with X_train and y_train\n",
    "clf.fit(liar_X_train, liar_y_train)\n",
    "\n",
    "#3. get the predictions for X_test and store it in y_pred\n",
    "liar_y_pred = clf.predict(liar_X_test)\n",
    "\n",
    "#4. print the classfication report\n",
    "print(classification_report(liar_y_test, liar_y_pred))"
   ]
  },
  {
   "cell_type": "markdown",
   "id": "aee0171a",
   "metadata": {},
   "source": [
    "## Kaggle dataset, $n$-gram ($n=3$), Naive Bayes (NB) classifier"
   ]
  },
  {
   "cell_type": "code",
   "execution_count": 70,
   "id": "7ac219d6",
   "metadata": {},
   "outputs": [
    {
     "name": "stdout",
     "output_type": "stream",
     "text": [
      "              precision    recall  f1-score   support\n",
      "\n",
      "           0       0.93      0.97      0.95      4696\n",
      "           1       0.97      0.92      0.95      4284\n",
      "\n",
      "    accuracy                           0.95      8980\n",
      "   macro avg       0.95      0.95      0.95      8980\n",
      "weighted avg       0.95      0.95      0.95      8980\n",
      "\n"
     ]
    }
   ],
   "source": [
    "#1. create a pipeline object\n",
    "clf = Pipeline([\n",
    "     ('vectorizer_bow', CountVectorizer(ngram_range = (1, 3))),  #using the ngram_range parameter \n",
    "     ('Multi NB', MultinomialNB())         \n",
    "])\n",
    "\n",
    "#2. fit with X_train and y_train\n",
    "clf.fit(kaggle_X_train, kaggle_y_train)\n",
    "\n",
    "#3. get the predictions for X_test and store it in y_pred\n",
    "kaggle_y_pred = clf.predict(kaggle_X_test)\n",
    "\n",
    "#4. print the classfication report\n",
    "print(classification_report(kaggle_y_test, kaggle_y_pred))"
   ]
  },
  {
   "cell_type": "markdown",
   "id": "042e8a5f",
   "metadata": {},
   "source": [
    "## Kaggle dataset, TD-IDF, $k$-NN classifier"
   ]
  },
  {
   "cell_type": "code",
   "execution_count": 69,
   "id": "ea35f2a6",
   "metadata": {
    "scrolled": true
   },
   "outputs": [
    {
     "name": "stdout",
     "output_type": "stream",
     "text": [
      "              precision    recall  f1-score   support\n",
      "\n",
      "           0       0.93      0.86      0.89      4696\n",
      "           1       0.86      0.93      0.89      4284\n",
      "\n",
      "    accuracy                           0.89      8980\n",
      "   macro avg       0.89      0.89      0.89      8980\n",
      "weighted avg       0.90      0.89      0.89      8980\n",
      "\n"
     ]
    }
   ],
   "source": [
    "#1. create a pipeline object\n",
    "clf = Pipeline([\n",
    "     ('vectorizer_tfidf',TfidfVectorizer()),    \n",
    "     ('KNN', KNeighborsClassifier())         \n",
    "])\n",
    "\n",
    "#2. fit with X_train and y_train\n",
    "clf.fit(kaggle_X_train, kaggle_y_train)\n",
    "\n",
    "#3. get the predictions for X_test and store it in y_pred\n",
    "kaggle_y_pred = clf.predict(kaggle_X_test)\n",
    "\n",
    "#4. print the classfication report\n",
    "print(classification_report(kaggle_y_test, kaggle_y_pred))"
   ]
  },
  {
   "cell_type": "markdown",
   "id": "ad72d709",
   "metadata": {},
   "source": [
    "## LIAR dataset, TD-IDF, $k$-NN classifier"
   ]
  },
  {
   "cell_type": "code",
   "execution_count": 71,
   "id": "78674b04",
   "metadata": {
    "scrolled": true
   },
   "outputs": [
    {
     "name": "stdout",
     "output_type": "stream",
     "text": [
      "              precision    recall  f1-score   support\n",
      "\n",
      "           0       0.55      0.47      0.51       990\n",
      "           1       0.57      0.64      0.60      1058\n",
      "\n",
      "    accuracy                           0.56      2048\n",
      "   macro avg       0.56      0.56      0.56      2048\n",
      "weighted avg       0.56      0.56      0.56      2048\n",
      "\n"
     ]
    }
   ],
   "source": [
    "#2. fit with X_train and y_train\n",
    "clf.fit(liar_X_train, liar_y_train)\n",
    "\n",
    "\n",
    "#3. get the predictions for X_test and store it in y_pred\n",
    "liar_y_pred = clf.predict(liar_X_test)\n",
    "\n",
    "\n",
    "#4. print the classfication report\n",
    "print(classification_report(liar_y_test, liar_y_pred))"
   ]
  },
  {
   "cell_type": "markdown",
   "id": "5e9359af",
   "metadata": {},
   "source": [
    "## Kaggle dataset, TD-IDF, Random forest"
   ]
  },
  {
   "cell_type": "code",
   "execution_count": 76,
   "id": "5d657a1d",
   "metadata": {},
   "outputs": [
    {
     "name": "stdout",
     "output_type": "stream",
     "text": [
      "              precision    recall  f1-score   support\n",
      "\n",
      "           0       0.95      0.93      0.94      4696\n",
      "           1       0.93      0.95      0.94      4284\n",
      "\n",
      "    accuracy                           0.94      8980\n",
      "   macro avg       0.94      0.94      0.94      8980\n",
      "weighted avg       0.94      0.94      0.94      8980\n",
      "\n"
     ]
    }
   ],
   "source": [
    "#1. create a pipeline object\n",
    "clf = Pipeline([\n",
    "     ('vectorizer_tfidf',TfidfVectorizer()),        #using the ngram_range parameter \n",
    "     ('Random Forest', RandomForestClassifier())         \n",
    "])\n",
    "\n",
    "#2. fit with X_train and y_train\n",
    "clf.fit(kaggle_X_train, kaggle_y_train)\n",
    "\n",
    "\n",
    "#3. get the predictions for X_test and store it in y_pred\n",
    "kaggle_y_pred = clf.predict(kaggle_X_test)\n",
    "\n",
    "\n",
    "#4. print the classfication report\n",
    "print(classification_report(kaggle_y_test, kaggle_y_pred))"
   ]
  },
  {
   "cell_type": "markdown",
   "id": "59a49f0a",
   "metadata": {},
   "source": [
    "## LIAR dataset, TD-IDF, Random forest"
   ]
  },
  {
   "cell_type": "code",
   "execution_count": 75,
   "id": "56488985",
   "metadata": {},
   "outputs": [
    {
     "name": "stdout",
     "output_type": "stream",
     "text": [
      "              precision    recall  f1-score   support\n",
      "\n",
      "           0       0.55      0.51      0.53       990\n",
      "           1       0.57      0.61      0.59      1058\n",
      "\n",
      "    accuracy                           0.56      2048\n",
      "   macro avg       0.56      0.56      0.56      2048\n",
      "weighted avg       0.56      0.56      0.56      2048\n",
      "\n"
     ]
    }
   ],
   "source": [
    "#2. fit with X_train and y_train\n",
    "clf.fit(liar_X_train, liar_y_train)\n",
    "\n",
    "\n",
    "#3. get the predictions for X_test and store it in y_pred\n",
    "liar_y_pred = clf.predict(liar_X_test)\n",
    "\n",
    "\n",
    "#4. print the classfication report\n",
    "print(classification_report(liar_y_test, liar_y_pred))"
   ]
  },
  {
   "cell_type": "markdown",
   "id": "3adc01b7",
   "metadata": {},
   "source": [
    "You can also experiment with what happens if we run this without preprocessing the text, or if we preprocess but do not remove stop words."
   ]
  },
  {
   "cell_type": "code",
   "execution_count": null,
   "id": "0f294de8",
   "metadata": {},
   "outputs": [],
   "source": []
  }
 ],
 "metadata": {
  "kernelspec": {
   "display_name": "Python 3 (ipykernel)",
   "language": "python",
   "name": "python3"
  },
  "language_info": {
   "codemirror_mode": {
    "name": "ipython",
    "version": 3
   },
   "file_extension": ".py",
   "mimetype": "text/x-python",
   "name": "python",
   "nbconvert_exporter": "python",
   "pygments_lexer": "ipython3",
   "version": "3.10.9"
  }
 },
 "nbformat": 4,
 "nbformat_minor": 5
}
