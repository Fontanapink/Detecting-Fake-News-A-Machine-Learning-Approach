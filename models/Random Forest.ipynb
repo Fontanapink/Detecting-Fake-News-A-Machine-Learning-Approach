{
 "cells": [
  {
   "cell_type": "code",
   "execution_count": 1,
   "metadata": {},
   "outputs": [],
   "source": [
    "import pandas as pd\n",
    "from sklearn.feature_extraction.text import CountVectorizer\n",
    "from sklearn.ensemble import RandomForestClassifier\n",
    "\n",
    "from sklearn.model_selection import train_test_split\n",
    "from sklearn.metrics import accuracy_score\n",
    "from sklearn.model_selection import GridSearchCV\n",
    "from sklearn.pipeline import Pipeline\n",
    "from sklearn.feature_extraction.text import TfidfVectorizer\n",
    "\n",
    "from nltk.stem.snowball import SnowballStemmer\n",
    "from nltk.corpus import stopwords\n",
    "import numpy as np"
   ]
  },
  {
   "cell_type": "code",
   "execution_count": 14,
   "metadata": {},
   "outputs": [],
   "source": [
    "# Defining feature extraction and preprocessing steps\n",
    "text_feature = 'text'\n",
    "\n",
    "# Splitting data into train and test sets\n",
    "train=pd.read_csv('../Datasets/fake-news/train.csv')\n"
   ]
  },
  {
   "cell_type": "code",
   "execution_count": 24,
   "metadata": {},
   "outputs": [],
   "source": [
    "train=train[~train['text'].isna()]"
   ]
  },
  {
   "cell_type": "code",
   "execution_count": 25,
   "metadata": {},
   "outputs": [],
   "source": [
    "snowballStemmer = SnowballStemmer(\"english\")\n",
    "stop= stopwords.words(\"english\")\n",
    "\n",
    "def tokenize(text):\n",
    "    return text.split()\n",
    "def tokenize_snowball(text):\n",
    "    return [snowballStemmer.stem(word) for word in text.split()]"
   ]
  },
  {
   "cell_type": "code",
   "execution_count": 26,
   "metadata": {},
   "outputs": [
    {
     "name": "stdout",
     "output_type": "stream",
     "text": [
      "fitting\n",
      "fitted\n"
     ]
    }
   ],
   "source": [
    "pipeline = Pipeline([\n",
    "    (\"vect\", TfidfVectorizer()),\n",
    "    (\"clf\", RandomForestClassifier())\n",
    "])\n",
    "\n",
    "print('fitting')\n",
    "# Fitting the pipeline on the training data\n",
    "pipeline.fit(train['text'],train['label'])\n",
    "print('fitted')\n",
    "\n"
   ]
  },
  {
   "cell_type": "code",
   "execution_count": 27,
   "metadata": {},
   "outputs": [
    {
     "name": "stdout",
     "output_type": "stream",
     "text": [
      "0.665896398998652\n"
     ]
    }
   ],
   "source": [
    "test=pd.read_csv('../Datasets/fake-news/test.csv')\n",
    "test=pd.merge(test,pd.read_csv('../Datasets/fake-news/submit.csv'), left_on='id', right_on='id')\n",
    "test=test[~test['text'].isna()]\n",
    "test['pred_NB1']= pipeline.predict(test['text'])\n",
    "print(accuracy_score(test['label'], test['pred_NB1']))"
   ]
  },
  {
   "cell_type": "markdown",
   "metadata": {},
   "source": [
    "# Adding all features"
   ]
  },
  {
   "cell_type": "code",
   "execution_count": 28,
   "metadata": {},
   "outputs": [],
   "source": [
    "import pandas as pd\n",
    "from sklearn.model_selection import train_test_split\n",
    "from sklearn.metrics import accuracy_score"
   ]
  },
  {
   "cell_type": "code",
   "execution_count": 29,
   "metadata": {},
   "outputs": [],
   "source": [
    "from sklearn.pipeline import Pipeline, FeatureUnion\n",
    "from sklearn.preprocessing import KBinsDiscretizer\n",
    "from sklearn.compose import ColumnTransformer"
   ]
  },
  {
   "cell_type": "code",
   "execution_count": 30,
   "metadata": {},
   "outputs": [],
   "source": [
    "# Defining feature extraction and preprocessing steps\n",
    "text_feature = 'text'\n",
    "categorical_features = ['sadness', 'joy', 'love', 'anger', 'fear', 'surprise','word_count', 'stopword_count', 'prop_stop', 'caps_rel', 'ratio_long_words']\n",
    "\n",
    "train=pd.read_csv('../Datasets/fake-news/train.csv')\n",
    "train=train[(~train['text'].isna())|(~train['title'].isna())]\n",
    "# Splitting data into train and test sets\n",
    "train=pd.merge(train,pd.read_csv('../Datasets/fake-news/scores_emotion.csv'), right_on='id', left_on='id')\n",
    "train=pd.merge(train,pd.read_csv('../Datasets/fake-news/stop_words.csv'), right_on='id', left_on='id')\n",
    "train=pd.merge(train,pd.read_csv('../datasets/fake-news/long_train.csv'), right_on='id', left_on='id')\n",
    "train=pd.merge(train,pd.read_csv('../datasets/fake-news/caps_train.csv'), right_on='id', left_on='id')\n",
    "\n",
    "test=pd.read_csv('../Datasets/fake-news/test.csv')\n",
    "test=test[~test['text'].isna()|~test['title'].isna()]\n",
    "test=pd.merge(test,pd.read_csv('../Datasets/fake-news/scores_emotion_test.csv'), right_on='id', left_on='id')\n",
    "test=pd.merge(test,pd.read_csv('../Datasets/fake-news/stop_words_test.csv'), right_on='id', left_on='id')\n",
    "test=pd.merge(test,pd.read_csv('../datasets/fake-news/long_test.csv'), right_on='id', left_on='id')\n",
    "test=pd.merge(test,pd.read_csv('../datasets/fake-news/caps_test.csv'), right_on='id', left_on='id')\n",
    "train = train.drop('author', axis=1)\n",
    "test = test.drop('author', axis=1)\n",
    "train=train[train['word_count']>0]\n",
    "test=test[test['word_count']>0]\n",
    "test=pd.merge(test,pd.read_csv('../Datasets/fake-news/submit.csv'), left_on='id', right_on='id')\n"
   ]
  },
  {
   "cell_type": "code",
   "execution_count": 31,
   "metadata": {},
   "outputs": [],
   "source": [
    "train['caps_rel']=train['Number of Caps']/train['word_count']\n",
    "test['caps_rel']=test['Number of Caps']/test['word_count']"
   ]
  },
  {
   "cell_type": "code",
   "execution_count": 33,
   "metadata": {
    "scrolled": true
   },
   "outputs": [
    {
     "name": "stdout",
     "output_type": "stream",
     "text": [
      "fitting\n",
      "fitted\n",
      "0.6527777777777778\n"
     ]
    }
   ],
   "source": [
    "# Build a ColumnTransformer with FeatureUnion\n",
    "text_pipeline = Pipeline([\n",
    "    ('tfidf', TfidfVectorizer())\n",
    "])\n",
    "\n",
    "num_pipeline = Pipeline([\n",
    "    ('discretizer', KBinsDiscretizer(n_bins=3, encode='onehot-dense', strategy='kmeans'))\n",
    "])\n",
    "\n",
    "preprocessor = ColumnTransformer([\n",
    "    ('num', num_pipeline, categorical_features),\n",
    "    ('text', text_pipeline, text_feature)\n",
    "])\n",
    "\n",
    "# Define the Naive Bayes classifier\n",
    "rf = RandomForestClassifier()\n",
    "\n",
    "# Creating the final pipeline\n",
    "pipeline = Pipeline([\n",
    "    ('preprocessor', preprocessor),\n",
    "    ('rf', rf)\n",
    "])\n",
    "print('fitting')\n",
    "# Fitting the pipeline on the training data\n",
    "pipeline.fit(train,train['label'])\n",
    "print('fitted')\n",
    "\n",
    "# Predicting on the test data\n",
    "test['pred'] = pipeline.predict(test)\n",
    "\n",
    "# Evaluating the performance\n",
    "print(accuracy_score(test['label'], test['pred']))\n"
   ]
  },
  {
   "cell_type": "markdown",
   "metadata": {},
   "source": [
    "# Emotion"
   ]
  },
  {
   "cell_type": "code",
   "execution_count": 34,
   "metadata": {},
   "outputs": [],
   "source": [
    "categorical_features = ['sadness', 'joy', 'love', 'anger', 'fear', 'surprise']"
   ]
  },
  {
   "cell_type": "code",
   "execution_count": 35,
   "metadata": {},
   "outputs": [
    {
     "name": "stdout",
     "output_type": "stream",
     "text": [
      "fitting\n",
      "fitted\n",
      "0.6513888888888889\n"
     ]
    }
   ],
   "source": [
    "# Build a ColumnTransformer with FeatureUnion\n",
    "text_pipeline = Pipeline([\n",
    "    ('tfidf', TfidfVectorizer())\n",
    "])\n",
    "\n",
    "num_pipeline = Pipeline([\n",
    "    ('discretizer', KBinsDiscretizer(n_bins=3, encode='onehot-dense', strategy='kmeans'))\n",
    "])\n",
    "\n",
    "preprocessor = ColumnTransformer([\n",
    "    ('num', num_pipeline, categorical_features),\n",
    "    ('text', text_pipeline, text_feature)\n",
    "])\n",
    "\n",
    "# Define the Naive Bayes classifier\n",
    "rf = RandomForestClassifier()\n",
    "\n",
    "# Creating the final pipeline\n",
    "pipeline = Pipeline([\n",
    "    ('preprocessor', preprocessor),\n",
    "    ('rf', rf)\n",
    "])\n",
    "print('fitting')\n",
    "# Fitting the pipeline on the training data\n",
    "pipeline.fit(train,train['label'])\n",
    "print('fitted')\n",
    "\n",
    "# Predicting on the test data\n",
    "test['pred'] = pipeline.predict(test)\n",
    "\n",
    "# Evaluating the performance\n",
    "print(accuracy_score(test['label'], test['pred']))\n"
   ]
  },
  {
   "cell_type": "markdown",
   "metadata": {},
   "source": [
    "#  Word count"
   ]
  },
  {
   "cell_type": "code",
   "execution_count": 36,
   "metadata": {},
   "outputs": [],
   "source": [
    "categorical_features = ['word_count']"
   ]
  },
  {
   "cell_type": "code",
   "execution_count": 37,
   "metadata": {},
   "outputs": [
    {
     "name": "stdout",
     "output_type": "stream",
     "text": [
      "fitting\n",
      "fitted\n",
      "0.6545634920634921\n"
     ]
    }
   ],
   "source": [
    "# Build a ColumnTransformer with FeatureUnion\n",
    "text_pipeline = Pipeline([\n",
    "    ('tfidf', TfidfVectorizer())\n",
    "])\n",
    "\n",
    "num_pipeline = Pipeline([\n",
    "    ('discretizer', KBinsDiscretizer(n_bins=3, encode='onehot-dense', strategy='kmeans'))\n",
    "])\n",
    "\n",
    "preprocessor = ColumnTransformer([\n",
    "    ('num', num_pipeline, categorical_features),\n",
    "    ('text', text_pipeline, text_feature)\n",
    "])\n",
    "\n",
    "# Define the Naive Bayes classifier\n",
    "rf = RandomForestClassifier()\n",
    "\n",
    "# Creating the final pipeline\n",
    "pipeline = Pipeline([\n",
    "    ('preprocessor', preprocessor),\n",
    "    ('rf', rf)\n",
    "])\n",
    "print('fitting')\n",
    "# Fitting the pipeline on the training data\n",
    "pipeline.fit(train,train['label'])\n",
    "print('fitted')\n",
    "\n",
    "# Predicting on the test data\n",
    "test['pred'] = pipeline.predict(test)\n",
    "\n",
    "# Evaluating the performance\n",
    "print(accuracy_score(test['label'], test['pred']))\n"
   ]
  },
  {
   "cell_type": "markdown",
   "metadata": {},
   "source": [
    "# Stop Words"
   ]
  },
  {
   "cell_type": "code",
   "execution_count": 38,
   "metadata": {},
   "outputs": [],
   "source": [
    "categorical_features = ['stopword_count', 'prop_stop']\n"
   ]
  },
  {
   "cell_type": "code",
   "execution_count": 39,
   "metadata": {},
   "outputs": [
    {
     "name": "stdout",
     "output_type": "stream",
     "text": [
      "fitting\n",
      "fitted\n",
      "0.653968253968254\n"
     ]
    }
   ],
   "source": [
    "# Build a ColumnTransformer with FeatureUnion\n",
    "text_pipeline = Pipeline([\n",
    "    ('tfidf', TfidfVectorizer())\n",
    "])\n",
    "\n",
    "num_pipeline = Pipeline([\n",
    "    ('discretizer', KBinsDiscretizer(n_bins=3, encode='onehot-dense', strategy='kmeans'))\n",
    "])\n",
    "\n",
    "preprocessor = ColumnTransformer([\n",
    "    ('num', num_pipeline, categorical_features),\n",
    "    ('text', text_pipeline, text_feature)\n",
    "])\n",
    "\n",
    "# Define the Naive Bayes classifier\n",
    "rf = RandomForestClassifier()\n",
    "\n",
    "# Creating the final pipeline\n",
    "pipeline = Pipeline([\n",
    "    ('preprocessor', preprocessor),\n",
    "    ('rf', rf)\n",
    "])\n",
    "print('fitting')\n",
    "# Fitting the pipeline on the training data\n",
    "pipeline.fit(train,train['label'])\n",
    "print('fitted')\n",
    "\n",
    "# Predicting on the test data\n",
    "test['pred'] = pipeline.predict(test)\n",
    "\n",
    "# Evaluating the performance\n",
    "print(accuracy_score(test['label'], test['pred']))\n"
   ]
  },
  {
   "cell_type": "markdown",
   "metadata": {},
   "source": [
    "# Long Words"
   ]
  },
  {
   "cell_type": "code",
   "execution_count": 40,
   "metadata": {},
   "outputs": [],
   "source": [
    "categorical_features = [ 'ratio_long_words']\n"
   ]
  },
  {
   "cell_type": "code",
   "execution_count": 41,
   "metadata": {
    "scrolled": false
   },
   "outputs": [
    {
     "name": "stdout",
     "output_type": "stream",
     "text": [
      "fitting\n",
      "fitted\n",
      "0.6545634920634921\n"
     ]
    }
   ],
   "source": [
    "# Build a ColumnTransformer with FeatureUnion\n",
    "text_pipeline = Pipeline([\n",
    "    ('tfidf', TfidfVectorizer())\n",
    "])\n",
    "\n",
    "num_pipeline = Pipeline([\n",
    "    ('discretizer', KBinsDiscretizer(n_bins=3, encode='onehot-dense', strategy='kmeans'))\n",
    "])\n",
    "\n",
    "preprocessor = ColumnTransformer([\n",
    "    ('num', num_pipeline, categorical_features),\n",
    "    ('text', text_pipeline, text_feature)\n",
    "])\n",
    "\n",
    "# Define the Naive Bayes classifier\n",
    "rf = RandomForestClassifier()\n",
    "\n",
    "# Creating the final pipeline\n",
    "pipeline = Pipeline([\n",
    "    ('preprocessor', preprocessor),\n",
    "    ('rf', rf)\n",
    "])\n",
    "print('fitting')\n",
    "# Fitting the pipeline on the training data\n",
    "pipeline.fit(train,train['label'])\n",
    "print('fitted')\n",
    "\n",
    "# Predicting on the test data\n",
    "test['pred'] = pipeline.predict(test)\n",
    "\n",
    "# Evaluating the performance\n",
    "print(accuracy_score(test['label'], test['pred']))\n"
   ]
  },
  {
   "cell_type": "markdown",
   "metadata": {},
   "source": [
    "# All Emotions"
   ]
  },
  {
   "cell_type": "code",
   "execution_count": 43,
   "metadata": {},
   "outputs": [],
   "source": [
    "categorical_features = ['sadness', 'joy', 'love', 'anger', 'fear', 'surprise','word_count', 'stopword_count', 'prop_stop', 'caps_rel', 'ratio_long_words']\n"
   ]
  },
  {
   "cell_type": "code",
   "execution_count": 44,
   "metadata": {},
   "outputs": [
    {
     "name": "stdout",
     "output_type": "stream",
     "text": [
      "fitting\n",
      "fitted\n",
      "0.6460317460317461\n"
     ]
    }
   ],
   "source": [
    "# Build a ColumnTransformer with FeatureUnion\n",
    "text_pipeline = Pipeline([\n",
    "    ('tfidf', TfidfVectorizer(tokenizer=tokenize, ngram_range=(1, 1), stop_words=stop))\n",
    "])\n",
    "\n",
    "num_pipeline = Pipeline([\n",
    "    ('discretizer', KBinsDiscretizer(n_bins=3, encode='onehot-dense', strategy='kmeans'))\n",
    "])\n",
    "\n",
    "preprocessor = ColumnTransformer([\n",
    "    ('num', num_pipeline, categorical_features),\n",
    "    ('text', text_pipeline, text_feature)\n",
    "])\n",
    "\n",
    "# Define the Naive Bayes classifier\n",
    "rf = RandomForestClassifier()\n",
    "\n",
    "# Creating the final pipeline\n",
    "pipeline = Pipeline([\n",
    "    ('preprocessor', preprocessor),\n",
    "    ('rf', rf)\n",
    "])\n",
    "print('fitting')\n",
    "# Fitting the pipeline on the training data\n",
    "pipeline.fit(train,train['label'])\n",
    "print('fitted')\n",
    "\n",
    "# Predicting on the test data\n",
    "test['pred'] = pipeline.predict(test)\n",
    "\n",
    "# Evaluating the performance\n",
    "print(accuracy_score(test['label'], test['pred']))\n"
   ]
  },
  {
   "cell_type": "code",
   "execution_count": null,
   "metadata": {},
   "outputs": [],
   "source": []
  }
 ],
 "metadata": {
  "kernelspec": {
   "display_name": "Python 3",
   "language": "python",
   "name": "python3"
  },
  "language_info": {
   "codemirror_mode": {
    "name": "ipython",
    "version": 3
   },
   "file_extension": ".py",
   "mimetype": "text/x-python",
   "name": "python",
   "nbconvert_exporter": "python",
   "pygments_lexer": "ipython3",
   "version": "3.7.4"
  }
 },
 "nbformat": 4,
 "nbformat_minor": 2
}
